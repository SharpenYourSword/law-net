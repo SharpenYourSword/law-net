{
 "cells": [
  {
   "cell_type": "code",
   "execution_count": 2,
   "metadata": {
    "collapsed": false
   },
   "outputs": [
    {
     "name": "stdout",
     "output_type": "stream",
     "text": [
      "The autoreload extension is already loaded. To reload it, use:\n",
      "  %reload_ext autoreload\n"
     ]
    }
   ],
   "source": [
    "top_directory = '/Users/iaincarmichael/Dropbox/Research/law/law-net/'\n",
    "\n",
    "import os\n",
    "import sys\n",
    "import time\n",
    "from math import *\n",
    "import copy\n",
    "import cPickle as pickle\n",
    "import re\n",
    "import datetime\n",
    "from collections import Counter\n",
    "\n",
    "\n",
    "# data\n",
    "import numpy as np\n",
    "import pandas as pd\n",
    "\n",
    "# viz\n",
    "import matplotlib.pyplot as plt\n",
    "\n",
    "\n",
    "# graph\n",
    "import igraph as ig\n",
    "\n",
    "\n",
    "# our code\n",
    "sys.path.append(top_directory + 'code/')\n",
    "from load_data import load_and_clean_graph, case_info\n",
    "from pipeline.download_data import download_bulk_resource\n",
    "from pipeline.make_clean_data import *\n",
    "from viz import print_describe\n",
    "\n",
    "from pipeline.make_raw_case_metadata import *\n",
    "\n",
    "sys.path.append(top_directory + 'explore/vertex_metrics_experiment/code/')\n",
    "from make_case_text_files import *\n",
    "\n",
    "\n",
    "# directory set up\n",
    "data_dir = top_directory + 'data/'\n",
    "\n",
    "court_name = 'scotus'\n",
    "\n",
    "# jupyter notebook settings\n",
    "%load_ext autoreload\n",
    "%autoreload 2\n",
    "%matplotlib inline"
   ]
  },
  {
   "cell_type": "code",
   "execution_count": 4,
   "metadata": {
    "collapsed": true
   },
   "outputs": [],
   "source": [
    "# load scdb\n",
    "scdb_modern = pd.read_csv(data_dir + 'scdb/SCDB_2016_01_caseCentered_Citation.csv', index_col=0)\n",
    "scdb_legacy = pd.read_csv(data_dir + 'scdb/SCDB_Legacy_03_caseCentered_Citation.csv', index_col=0)\n",
    "\n",
    "scdb = scdb_legacy.append(scdb_modern)"
   ]
  },
  {
   "cell_type": "code",
   "execution_count": 3,
   "metadata": {
    "collapsed": false
   },
   "outputs": [
    {
     "name": "stdout",
     "output_type": "stream",
     "text": [
      "CPU times: user 1min 30s, sys: 8.18 s, total: 1min 39s\n",
      "Wall time: 1min 52s\n"
     ]
    }
   ],
   "source": [
    "%time case_metadata = get_raw_case_metadata_from_court(court_name, data_dir)"
   ]
  },
  {
   "cell_type": "code",
   "execution_count": 5,
   "metadata": {
    "collapsed": false
   },
   "outputs": [],
   "source": [
    "cert_cases = pd.DataFrame(False,\n",
    "                          index=case_metadata.index,\n",
    "                          columns=['denied', 'certiorari', 'zero_degree', 'scdb_link', 'in_scdb', 'text_length'])\n",
    "\n",
    "cert_cases['text_length'] = 0\n",
    "\n",
    "# add year\n",
    "cert_cases['year'] = case_metadata['date'].apply(lambda d: d.year)"
   ]
  },
  {
   "cell_type": "code",
   "execution_count": null,
   "metadata": {
    "collapsed": true
   },
   "outputs": [],
   "source": []
  },
  {
   "cell_type": "markdown",
   "metadata": {},
   "source": [
    "# find cases with bad words or short text"
   ]
  },
  {
   "cell_type": "code",
   "execution_count": 24,
   "metadata": {
    "collapsed": false
   },
   "outputs": [
    {
     "name": "stdout",
     "output_type": "stream",
     "text": [
      "(1/63859) at 10:40:40\n",
      "(2/63859) at 10:40:40\n",
      "(4/63859) at 10:40:40\n",
      "(8/63859) at 10:40:40\n",
      "(16/63859) at 10:40:40\n",
      "(32/63859) at 10:40:40\n",
      "(64/63859) at 10:40:40\n",
      "(128/63859) at 10:40:41\n",
      "(256/63859) at 10:40:42\n",
      "(512/63859) at 10:40:44\n",
      "(1024/63859) at 10:40:50\n",
      "(2048/63859) at 10:41:01\n",
      "(4096/63859) at 10:41:19\n",
      "(8192/63859) at 10:41:59\n",
      "(16384/63859) at 10:43:18\n",
      "(32768/63859) at 10:46:00\n"
     ]
    }
   ],
   "source": [
    "# string search text for the words certiorari or denied\n",
    "\n",
    "op_dir = data_dir + 'raw/' + court_name + '/opinions/'\n",
    "\n",
    "# words we want to identify\n",
    "bad_words = ['denied', 'certiorari']\n",
    "\n",
    "i = 0\n",
    "\n",
    "# check each opinion\n",
    "for op_id in case_metadata.index:\n",
    "    i += 1\n",
    "    if int(log(i, 2)) == log(i, 2):\n",
    "        current_time = datetime.datetime.now().strftime('%H:%M:%S')\n",
    "        print '(%d/%d) at %s' % (i, len(case_metadata.index), current_time)\n",
    "    \n",
    "    \n",
    "    # grab the opinion file\n",
    "    op_path = op_dir + str(op_id) + '.json'\n",
    "    opinion = json_to_dict(op_path)\n",
    "    \n",
    "    # get the lower case text\n",
    "    text = get_text_from_json(opinion)\n",
    "    text = text.lower()\n",
    "    \n",
    "    # check each word in the text file\n",
    "    for word in bad_words:\n",
    "        if word in text:\n",
    "            cert_cases.loc[op_id, word] = True\n",
    "    \n",
    "    # check if the text is really short\n",
    "    cert_cases.loc[op_id,'text_length'] = len(text)"
   ]
  },
  {
   "cell_type": "markdown",
   "metadata": {},
   "source": [
    "# find cases with zero degree"
   ]
  },
  {
   "cell_type": "code",
   "execution_count": 26,
   "metadata": {
    "collapsed": false
   },
   "outputs": [
    {
     "name": "stdout",
     "output_type": "stream",
     "text": [
      "(1/25292533) at 10:53:50\n",
      "(2/25292533) at 10:53:50\n",
      "(4/25292533) at 10:53:50\n",
      "(8/25292533) at 10:53:50\n",
      "(16/25292533) at 10:53:50\n",
      "(32/25292533) at 10:53:50\n",
      "(64/25292533) at 10:53:50\n",
      "(128/25292533) at 10:53:50\n",
      "(256/25292533) at 10:53:50\n",
      "(512/25292533) at 10:53:50\n",
      "(1024/25292533) at 10:53:50\n",
      "(2048/25292533) at 10:53:50\n",
      "(4096/25292533) at 10:53:50\n",
      "(8192/25292533) at 10:53:51\n",
      "(16384/25292533) at 10:53:52\n",
      "(32768/25292533) at 10:53:54\n",
      "(65536/25292533) at 10:53:58\n",
      "(131072/25292533) at 10:54:06\n",
      "(262144/25292533) at 10:54:23\n",
      "(524288/25292533) at 10:54:55\n",
      "(1048576/25292533) at 10:56:03\n",
      "(2097152/25292533) at 10:58:56\n",
      "(4194304/25292533) at 11:03:26\n",
      "(8388608/25292533) at 11:11:58\n",
      "(16777216/25292533) at 11:29:40\n"
     ]
    }
   ],
   "source": [
    "master_edgelist = pd.read_csv(data_dir + 'raw/edgelist_master_r.csv')\n",
    "\n",
    "# dict keyed by case indicated if case is mentioned in the edgelist\n",
    "max_id = max(master_edgelist['citing'].max(), master_edgelist['cited'].max())\n",
    "mentions = {str(op_id): False for op_id in range(1, max_id + 1)}\n",
    "\n",
    "\n",
    "i = 0\n",
    "for index, edge in master_edgelist.iterrows():\n",
    "    i += 1\n",
    "    if int(log(i, 2)) == log(i, 2):\n",
    "        current_time = datetime.datetime.now().strftime('%H:%M:%S')\n",
    "        print '(%d/%d) at %s' % (i, len(master_edgelist), current_time)\n",
    " \n",
    "    # citing opinion mentioned\n",
    "    ing_op_id = str(edge[0])\n",
    "    ed_op_id = str(edge[1])\n",
    "\n",
    "    # cited opinion mentioned\n",
    "    mentions[ed_op_id] = True\n",
    "\n",
    "    # citing mentioned only if cited is not detroit lumber\n",
    "    if ed_op_id != 'g':\n",
    "        mentions[ing_op_id] = True"
   ]
  },
  {
   "cell_type": "code",
   "execution_count": 27,
   "metadata": {
    "collapsed": true
   },
   "outputs": [],
   "source": [
    "case_ids = set(case_metadata.index)\n",
    "zero_deg_cases = [op_id for op_id in mentions.keys() if (not mentions[op_id]) and (op_id in case_ids)]\n",
    "\n",
    "cert_cases.loc[zero_deg_cases, 'zero_degree'] = True"
   ]
  },
  {
   "cell_type": "markdown",
   "metadata": {},
   "source": [
    "# find cases without scdb links"
   ]
  },
  {
   "cell_type": "code",
   "execution_count": 10,
   "metadata": {
    "collapsed": false
   },
   "outputs": [],
   "source": [
    "# scdb ids\n",
    "scdb_ids = set(scdb.index)\n",
    "\n",
    "\n",
    "for index, row in case_metadata.iterrows():\n",
    "    \n",
    "    # check if case has link to SCDB id\n",
    "    if len(row['scdb_id']) > 0:\n",
    "        cert_cases.loc[index, 'scdb_link'] = True\n",
    "        \n",
    "        # check if SCDB id is in SCDB ids\n",
    "        if row['scdb_id'] in scdb_ids:\n",
    "            cert_cases.loc[index, 'in_scdb'] = True"
   ]
  },
  {
   "cell_type": "code",
   "execution_count": 15,
   "metadata": {
    "collapsed": false
   },
   "outputs": [
    {
     "data": {
      "text/plain": [
       "Index([u'142945', u'130423', u'106301', u'137047', u'1859650', u'137046',\n",
       "       u'137045', u'127479', u'127478', u'106306',\n",
       "       ...\n",
       "       u'131844', u'131847', u'131846', u'143887', u'143880', u'143881',\n",
       "       u'142944', u'143882', u'143883', u'130422'],\n",
       "      dtype='object', name=u'id', length=35973)"
      ]
     },
     "execution_count": 15,
     "metadata": {},
     "output_type": "execute_result"
    }
   ],
   "source": [
    "cert_cases[~cert_cases['scdb_link']].index"
   ]
  },
  {
   "cell_type": "code",
   "execution_count": null,
   "metadata": {
    "collapsed": true
   },
   "outputs": [],
   "source": []
  },
  {
   "cell_type": "markdown",
   "metadata": {},
   "source": [
    "# save cert_cases file\n"
   ]
  },
  {
   "cell_type": "code",
   "execution_count": 80,
   "metadata": {
    "collapsed": true
   },
   "outputs": [],
   "source": [
    "# cert_cases.to_csv('cert_cases_data.csv', index=True)\n",
    "# cert_cases = pd.read_csv('cert_cases_data.csv', index_col=0)"
   ]
  },
  {
   "cell_type": "markdown",
   "metadata": {},
   "source": [
    "# compare year counts between CL and scdb"
   ]
  },
  {
   "cell_type": "code",
   "execution_count": 196,
   "metadata": {
    "collapsed": false
   },
   "outputs": [
    {
     "data": {
      "text/plain": [
       "Int64Index([1993, 1994, 2002, 2003, 2004, 2005], dtype='int64')"
      ]
     },
     "execution_count": 196,
     "metadata": {},
     "output_type": "execute_result"
    }
   ],
   "source": [
    "# initialize pandas series\n",
    "CL_year_counts = pd.Series(0, index=range(1754, 2017))\n",
    "scdb_year_counts = pd.Series(0, index=range(1754, 2017))\n",
    "\n",
    "# count cases per year\n",
    "CL_year_counter = Counter(cert_cases['year'])\n",
    "scdb_year_counter = Counter(scdb['dateDecision'].apply(lambda d: d.split('/')[2]))\n",
    "\n",
    "# make fill series\n",
    "for y in CL_year_counts.index:\n",
    "    CL_year_counts[y] = CL_year_counter[y]\n",
    "    scdb_year_counts[y] = scdb_year_counter[y]\n",
    "    \n",
    "difference = CL_year_counts - scdb_year_counts\n",
    "\n",
    "#years that have a lot of extra cases\n",
    "bad_years = difference[difference > 400].index.tolist()\n",
    "\n",
    "\n",
    "# plot difference\n",
    "difference.plot()\n",
    "plt.ylabel('difference')\n",
    "plt.title('yearly case counts')"
   ]
  },
  {
   "cell_type": "markdown",
   "metadata": {},
   "source": [
    "# analyze cert_cases"
   ]
  },
  {
   "cell_type": "code",
   "execution_count": 83,
   "metadata": {
    "collapsed": false
   },
   "outputs": [
    {
     "data": {
      "text/plain": [
       "denied             0.713306\n",
       "certiorari         0.631720\n",
       "zero_degree        0.405910\n",
       "scdb_link          0.436681\n",
       "text_length    12666.539814\n",
       "year            1962.545859\n",
       "in_scdb            0.436649\n",
       "dtype: float64"
      ]
     },
     "execution_count": 83,
     "metadata": {},
     "output_type": "execute_result"
    }
   ],
   "source": [
    "cert_cases.mean(axis=0)"
   ]
  },
  {
   "cell_type": "code",
   "execution_count": 17,
   "metadata": {
    "collapsed": false
   },
   "outputs": [
    {
     "ename": "NameError",
     "evalue": "global name 'bad_years' is not defined",
     "output_type": "error",
     "traceback": [
      "\u001b[0;31m---------------------------------------------------------------------------\u001b[0m",
      "\u001b[0;31mNameError\u001b[0m                                 Traceback (most recent call last)",
      "\u001b[0;32m<ipython-input-17-384f47290624>\u001b[0m in \u001b[0;36m<module>\u001b[0;34m()\u001b[0m\n\u001b[1;32m      6\u001b[0m \u001b[0;34m\u001b[0m\u001b[0m\n\u001b[1;32m      7\u001b[0m \u001b[0;34m\u001b[0m\u001b[0m\n\u001b[0;32m----> 8\u001b[0;31m \u001b[0mcases_bad_years\u001b[0m \u001b[0;34m=\u001b[0m \u001b[0mcert_cases\u001b[0m\u001b[0;34m[\u001b[0m\u001b[0;34m'year'\u001b[0m\u001b[0;34m]\u001b[0m\u001b[0;34m.\u001b[0m\u001b[0mapply\u001b[0m\u001b[0;34m(\u001b[0m\u001b[0;32mlambda\u001b[0m \u001b[0my\u001b[0m\u001b[0;34m:\u001b[0m \u001b[0my\u001b[0m \u001b[0;32min\u001b[0m \u001b[0mbad_years\u001b[0m\u001b[0;34m)\u001b[0m\u001b[0;34m\u001b[0m\u001b[0m\n\u001b[0m\u001b[1;32m      9\u001b[0m \u001b[0;34m\u001b[0m\u001b[0m\n\u001b[1;32m     10\u001b[0m \u001b[0;31m# 2 cases with scdb links but that don't registar in scdb\u001b[0m\u001b[0;34m\u001b[0m\u001b[0;34m\u001b[0m\u001b[0m\n",
      "\u001b[0;32m//anaconda/envs/default2/lib/python2.7/site-packages/pandas/core/series.pyc\u001b[0m in \u001b[0;36mapply\u001b[0;34m(self, func, convert_dtype, args, **kwds)\u001b[0m\n\u001b[1;32m   2218\u001b[0m         \u001b[0;32melse\u001b[0m\u001b[0;34m:\u001b[0m\u001b[0;34m\u001b[0m\u001b[0m\n\u001b[1;32m   2219\u001b[0m             \u001b[0mvalues\u001b[0m \u001b[0;34m=\u001b[0m \u001b[0mself\u001b[0m\u001b[0;34m.\u001b[0m\u001b[0masobject\u001b[0m\u001b[0;34m\u001b[0m\u001b[0m\n\u001b[0;32m-> 2220\u001b[0;31m             \u001b[0mmapped\u001b[0m \u001b[0;34m=\u001b[0m \u001b[0mlib\u001b[0m\u001b[0;34m.\u001b[0m\u001b[0mmap_infer\u001b[0m\u001b[0;34m(\u001b[0m\u001b[0mvalues\u001b[0m\u001b[0;34m,\u001b[0m \u001b[0mf\u001b[0m\u001b[0;34m,\u001b[0m \u001b[0mconvert\u001b[0m\u001b[0;34m=\u001b[0m\u001b[0mconvert_dtype\u001b[0m\u001b[0;34m)\u001b[0m\u001b[0;34m\u001b[0m\u001b[0m\n\u001b[0m\u001b[1;32m   2221\u001b[0m \u001b[0;34m\u001b[0m\u001b[0m\n\u001b[1;32m   2222\u001b[0m         \u001b[0;32mif\u001b[0m \u001b[0mlen\u001b[0m\u001b[0;34m(\u001b[0m\u001b[0mmapped\u001b[0m\u001b[0;34m)\u001b[0m \u001b[0;32mand\u001b[0m \u001b[0misinstance\u001b[0m\u001b[0;34m(\u001b[0m\u001b[0mmapped\u001b[0m\u001b[0;34m[\u001b[0m\u001b[0;36m0\u001b[0m\u001b[0;34m]\u001b[0m\u001b[0;34m,\u001b[0m \u001b[0mSeries\u001b[0m\u001b[0;34m)\u001b[0m\u001b[0;34m:\u001b[0m\u001b[0;34m\u001b[0m\u001b[0m\n",
      "\u001b[0;32mpandas/src/inference.pyx\u001b[0m in \u001b[0;36mpandas.lib.map_infer (pandas/lib.c:62658)\u001b[0;34m()\u001b[0m\n",
      "\u001b[0;32m<ipython-input-17-384f47290624>\u001b[0m in \u001b[0;36m<lambda>\u001b[0;34m(y)\u001b[0m\n\u001b[1;32m      6\u001b[0m \u001b[0;34m\u001b[0m\u001b[0m\n\u001b[1;32m      7\u001b[0m \u001b[0;34m\u001b[0m\u001b[0m\n\u001b[0;32m----> 8\u001b[0;31m \u001b[0mcases_bad_years\u001b[0m \u001b[0;34m=\u001b[0m \u001b[0mcert_cases\u001b[0m\u001b[0;34m[\u001b[0m\u001b[0;34m'year'\u001b[0m\u001b[0;34m]\u001b[0m\u001b[0;34m.\u001b[0m\u001b[0mapply\u001b[0m\u001b[0;34m(\u001b[0m\u001b[0;32mlambda\u001b[0m \u001b[0my\u001b[0m\u001b[0;34m:\u001b[0m \u001b[0my\u001b[0m \u001b[0;32min\u001b[0m \u001b[0mbad_years\u001b[0m\u001b[0;34m)\u001b[0m\u001b[0;34m\u001b[0m\u001b[0m\n\u001b[0m\u001b[1;32m      9\u001b[0m \u001b[0;34m\u001b[0m\u001b[0m\n\u001b[1;32m     10\u001b[0m \u001b[0;31m# 2 cases with scdb links but that don't registar in scdb\u001b[0m\u001b[0;34m\u001b[0m\u001b[0;34m\u001b[0m\u001b[0m\n",
      "\u001b[0;31mNameError\u001b[0m: global name 'bad_years' is not defined"
     ]
    }
   ],
   "source": [
    "cases_denied = cert_cases['denied']\n",
    "cases_certiorari = cert_cases['certiorari']\n",
    "cases_zero_degree = cert_cases['zero_degree']\n",
    "cases_no_scdb_link = ~cert_cases['scdb_link']\n",
    "cases_notin_scdb = ~cert_cases['in_scdb']\n",
    "\n",
    "\n",
    "cases_bad_years = cert_cases['year'].apply(lambda y: y in bad_years)\n",
    "\n",
    "# 2 cases with scdb links but that don't registar in scdb\n",
    "# cert_cases[~cases_no_scdb_link & cases_notin_scdb]"
   ]
  },
  {
   "cell_type": "code",
   "execution_count": 188,
   "metadata": {
    "collapsed": false
   },
   "outputs": [
    {
     "data": {
      "text/html": [
       "<div>\n",
       "<table border=\"1\" class=\"dataframe\">\n",
       "  <thead>\n",
       "    <tr style=\"text-align: right;\">\n",
       "      <th></th>\n",
       "      <th>denied</th>\n",
       "      <th>certiorari</th>\n",
       "      <th>zero_degree</th>\n",
       "      <th>scdb_link</th>\n",
       "      <th>text_length</th>\n",
       "      <th>year</th>\n",
       "      <th>in_scdb</th>\n",
       "    </tr>\n",
       "    <tr>\n",
       "      <th>id</th>\n",
       "      <th></th>\n",
       "      <th></th>\n",
       "      <th></th>\n",
       "      <th></th>\n",
       "      <th></th>\n",
       "      <th></th>\n",
       "      <th></th>\n",
       "    </tr>\n",
       "  </thead>\n",
       "  <tbody>\n",
       "    <tr>\n",
       "      <th>112378</th>\n",
       "      <td>True</td>\n",
       "      <td>True</td>\n",
       "      <td>True</td>\n",
       "      <td>True</td>\n",
       "      <td>87117</td>\n",
       "      <td>1990</td>\n",
       "      <td>True</td>\n",
       "    </tr>\n",
       "    <tr>\n",
       "      <th>85071</th>\n",
       "      <td>True</td>\n",
       "      <td>True</td>\n",
       "      <td>True</td>\n",
       "      <td>True</td>\n",
       "      <td>35629</td>\n",
       "      <td>1814</td>\n",
       "      <td>True</td>\n",
       "    </tr>\n",
       "    <tr>\n",
       "      <th>103080</th>\n",
       "      <td>True</td>\n",
       "      <td>True</td>\n",
       "      <td>True</td>\n",
       "      <td>True</td>\n",
       "      <td>1699</td>\n",
       "      <td>1938</td>\n",
       "      <td>True</td>\n",
       "    </tr>\n",
       "    <tr>\n",
       "      <th>94474</th>\n",
       "      <td>True</td>\n",
       "      <td>True</td>\n",
       "      <td>True</td>\n",
       "      <td>True</td>\n",
       "      <td>9377</td>\n",
       "      <td>1896</td>\n",
       "      <td>True</td>\n",
       "    </tr>\n",
       "    <tr>\n",
       "      <th>1158161</th>\n",
       "      <td>True</td>\n",
       "      <td>True</td>\n",
       "      <td>True</td>\n",
       "      <td>True</td>\n",
       "      <td>346</td>\n",
       "      <td>1964</td>\n",
       "      <td>True</td>\n",
       "    </tr>\n",
       "    <tr>\n",
       "      <th>88873</th>\n",
       "      <td>True</td>\n",
       "      <td>True</td>\n",
       "      <td>True</td>\n",
       "      <td>True</td>\n",
       "      <td>21808</td>\n",
       "      <td>1874</td>\n",
       "      <td>True</td>\n",
       "    </tr>\n",
       "    <tr>\n",
       "      <th>99298</th>\n",
       "      <td>True</td>\n",
       "      <td>True</td>\n",
       "      <td>True</td>\n",
       "      <td>True</td>\n",
       "      <td>1370</td>\n",
       "      <td>1919</td>\n",
       "      <td>True</td>\n",
       "    </tr>\n",
       "    <tr>\n",
       "      <th>106159</th>\n",
       "      <td>True</td>\n",
       "      <td>True</td>\n",
       "      <td>True</td>\n",
       "      <td>True</td>\n",
       "      <td>1028</td>\n",
       "      <td>1961</td>\n",
       "      <td>True</td>\n",
       "    </tr>\n",
       "    <tr>\n",
       "      <th>95370</th>\n",
       "      <td>True</td>\n",
       "      <td>True</td>\n",
       "      <td>True</td>\n",
       "      <td>True</td>\n",
       "      <td>60153</td>\n",
       "      <td>1900</td>\n",
       "      <td>True</td>\n",
       "    </tr>\n",
       "    <tr>\n",
       "      <th>95375</th>\n",
       "      <td>True</td>\n",
       "      <td>True</td>\n",
       "      <td>True</td>\n",
       "      <td>True</td>\n",
       "      <td>13012</td>\n",
       "      <td>1900</td>\n",
       "      <td>True</td>\n",
       "    </tr>\n",
       "    <tr>\n",
       "      <th>87614</th>\n",
       "      <td>True</td>\n",
       "      <td>True</td>\n",
       "      <td>True</td>\n",
       "      <td>True</td>\n",
       "      <td>24655</td>\n",
       "      <td>1864</td>\n",
       "      <td>True</td>\n",
       "    </tr>\n",
       "    <tr>\n",
       "      <th>95725</th>\n",
       "      <td>True</td>\n",
       "      <td>True</td>\n",
       "      <td>True</td>\n",
       "      <td>True</td>\n",
       "      <td>3255</td>\n",
       "      <td>1902</td>\n",
       "      <td>True</td>\n",
       "    </tr>\n",
       "    <tr>\n",
       "      <th>88040</th>\n",
       "      <td>True</td>\n",
       "      <td>True</td>\n",
       "      <td>True</td>\n",
       "      <td>True</td>\n",
       "      <td>2692</td>\n",
       "      <td>1869</td>\n",
       "      <td>True</td>\n",
       "    </tr>\n",
       "  </tbody>\n",
       "</table>\n",
       "</div>"
      ],
      "text/plain": [
       "        denied certiorari zero_degree scdb_link  text_length  year in_scdb\n",
       "id                                                                        \n",
       "112378    True       True        True      True        87117  1990    True\n",
       "85071     True       True        True      True        35629  1814    True\n",
       "103080    True       True        True      True         1699  1938    True\n",
       "94474     True       True        True      True         9377  1896    True\n",
       "1158161   True       True        True      True          346  1964    True\n",
       "88873     True       True        True      True        21808  1874    True\n",
       "99298     True       True        True      True         1370  1919    True\n",
       "106159    True       True        True      True         1028  1961    True\n",
       "95370     True       True        True      True        60153  1900    True\n",
       "95375     True       True        True      True        13012  1900    True\n",
       "87614     True       True        True      True        24655  1864    True\n",
       "95725     True       True        True      True         3255  1902    True\n",
       "88040     True       True        True      True         2692  1869    True"
      ]
     },
     "execution_count": 188,
     "metadata": {},
     "output_type": "execute_result"
    }
   ],
   "source": [
    "# cert_cases[cases_zero_degree & cases_denied & cases_certiorari & cases_no_scdb_link]\n",
    "# cert_cases[~cases_bad_years & cases_notin_scdb] \n",
    "\n",
    "cert_cases[cases_certiorari & cases_denied & cases_zero_degree & ~cases_no_scdb_link] "
   ]
  },
  {
   "cell_type": "code",
   "execution_count": 202,
   "metadata": {
    "collapsed": false
   },
   "outputs": [
    {
     "name": "stdout",
     "output_type": "stream",
     "text": [
      "date                                    1961-12-04\n",
      "court                                       scotus\n",
      "name       sylvester-johnson-v-state-of-new-jersey\n",
      "judges                                            \n",
      "scdb_id                                           \n",
      "term                                          1961\n",
      "Name: 106306, dtype: object\n",
      "\n",
      "https://www.courtlistener.com/opinion/106306/sylvester-johnson-v-state-of-new-jersey/\n",
      "None\n"
     ]
    }
   ],
   "source": [
    "op_id = 106306\n",
    "\n",
    "print case_metadata.loc[str(op_id)]\n",
    "print\n",
    "print case_info(op_id)"
   ]
  },
  {
   "cell_type": "markdown",
   "metadata": {},
   "source": [
    "# cases missing SCDB links"
   ]
  },
  {
   "cell_type": "code",
   "execution_count": 30,
   "metadata": {
    "collapsed": false
   },
   "outputs": [],
   "source": [
    "cases_no_scdb = pd.Series(cert_cases[~cert_cases['scdb_link']].index)\n",
    "cases_no_scdb.to_csv('no_scdb_link.csv', index=False)"
   ]
  },
  {
   "cell_type": "code",
   "execution_count": null,
   "metadata": {
    "collapsed": true
   },
   "outputs": [],
   "source": []
  }
 ],
 "metadata": {
  "kernelspec": {
   "display_name": "Python 2",
   "language": "python",
   "name": "python2"
  },
  "language_info": {
   "codemirror_mode": {
    "name": "ipython",
    "version": 2
   },
   "file_extension": ".py",
   "mimetype": "text/x-python",
   "name": "python",
   "nbconvert_exporter": "python",
   "pygments_lexer": "ipython2",
   "version": "2.7.12"
  }
 },
 "nbformat": 4,
 "nbformat_minor": 0
}
