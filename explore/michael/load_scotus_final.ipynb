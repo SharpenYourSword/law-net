{
 "cells": [
  {
   "cell_type": "code",
   "execution_count": 2,
   "metadata": {
    "collapsed": false
   },
   "outputs": [
    {
     "name": "stdout",
     "output_type": "stream",
     "text": [
      "The autoreload extension is already loaded. To reload it, use:\n",
      "  %reload_ext autoreload\n"
     ]
    }
   ],
   "source": [
    "\n",
    "import sys\n",
    "\n",
    "sys.path.append('../../code/')\n",
    "import os\n",
    "import json\n",
    "from datetime import datetime\n",
    "import time\n",
    "\n",
    "import numpy as np\n",
    "import pandas as pd\n",
    "import matplotlib.pyplot as plt\n",
    "import scipy.stats as stats\n",
    "\n",
    "import igraph as ig\n",
    "from collections import *\n",
    "from __future__ import division\n",
    "\n",
    "from load_data import load_citation_network_igraph, case_info\n",
    "\n",
    "%load_ext autoreload\n",
    "%autoreload 2\n",
    "%matplotlib inline\n",
    "\n",
    "data_dir = '../../data/'\n",
    "court_name = 'scotus'"
   ]
  },
  {
   "cell_type": "code",
   "execution_count": 3,
   "metadata": {
    "collapsed": false
   },
   "outputs": [
    {
     "name": "stdout",
     "output_type": "stream",
     "text": [
      "0 seconds for 250465 edges\n",
      "loaded scotus network with 33248 cases and 250465 edges\n"
     ]
    }
   ],
   "source": [
    "# this will be a little slow the first time you run it\n",
    "G = load_citation_network_igraph(data_dir, court_name)\n",
    "\n",
    "print 'loaded %s network with %d cases and %d edges' % (court_name, len(G.vs), len(G.es))"
   ]
  },
  {
   "cell_type": "code",
   "execution_count": 4,
   "metadata": {
    "collapsed": false
   },
   "outputs": [
    {
     "name": "stdout",
     "output_type": "stream",
     "text": [
      "438.924000025\n",
      "33248\n"
     ]
    }
   ],
   "source": [
    "time1 = time.time()\n",
    "\n",
    "U = G.as_undirected()\n",
    "\n",
    "poop = U.closeness()\n",
    "\n",
    "time2 = time.time()\n",
    "\n",
    "print time2-time1\n",
    "print len(poop)\n"
   ]
  },
  {
   "cell_type": "code",
   "execution_count": 5,
   "metadata": {
    "collapsed": false
   },
   "outputs": [
    {
     "name": "stdout",
     "output_type": "stream",
     "text": [
      "805.056999922\n",
      "33248\n"
     ]
    }
   ],
   "source": [
    "time1 = time.time()\n",
    "poop2 = U.betweenness()\n",
    "time2 = time.time()\n",
    "\n",
    "print time2-time1\n",
    "print len(poop2)"
   ]
  },
  {
   "cell_type": "code",
   "execution_count": 6,
   "metadata": {
    "collapsed": false
   },
   "outputs": [
    {
     "name": "stdout",
     "output_type": "stream",
     "text": [
      "0.677000045776\n",
      "33248\n"
     ]
    }
   ],
   "source": [
    "time1 = time.time()\n",
    "poop3 = U.eigenvector_centrality()\n",
    "time2 = time.time()\n",
    "\n",
    "print time2-time1\n",
    "print len(poop3)"
   ]
  },
  {
   "cell_type": "code",
   "execution_count": 3,
   "metadata": {
    "collapsed": false
   },
   "outputs": [
    {
     "name": "stdout",
     "output_type": "stream",
     "text": [
      "igraph.Vertex(<igraph.Graph object at 0x000000000B652138>,0,{'court': 'scotus', 'name': 100000, 'year': 1922})\n"
     ]
    }
   ],
   "source": [
    "print G.vs[0]"
   ]
  },
  {
   "cell_type": "code",
   "execution_count": 4,
   "metadata": {
    "collapsed": false
   },
   "outputs": [
    {
     "data": {
      "text/plain": [
       "'scotus'"
      ]
     },
     "execution_count": 4,
     "metadata": {},
     "output_type": "execute_result"
    }
   ],
   "source": [
    "G.vs[0]['court']"
   ]
  },
  {
   "cell_type": "code",
   "execution_count": 5,
   "metadata": {
    "collapsed": false
   },
   "outputs": [
    {
     "data": {
      "text/plain": [
       "1"
      ]
     },
     "execution_count": 5,
     "metadata": {},
     "output_type": "execute_result"
    }
   ],
   "source": [
    "G.vs[0].indegree()"
   ]
  },
  {
   "cell_type": "code",
   "execution_count": 6,
   "metadata": {
    "collapsed": false
   },
   "outputs": [],
   "source": [
    "year_list = []\n",
    "indegree_list = []\n",
    "id_list = []\n",
    "igraph_index_list = []\n",
    "for vertex in G.vs():\n",
    "    year_list.append(vertex['year'])\n",
    "    indegree_list.append(vertex.indegree())\n",
    "    id_list.append(vertex['name'])\n",
    "    igraph_index_list.append(vertex.index)\n",
    "\n",
    "tuple_list = zip(igraph_index_list, id_list, year_list, indegree_list)"
   ]
  },
  {
   "cell_type": "markdown",
   "metadata": {},
   "source": [
    "# keys = all the years, values = metadata of all past cases"
   ]
  },
  {
   "cell_type": "code",
   "execution_count": 21,
   "metadata": {
    "collapsed": false
   },
   "outputs": [
    {
     "data": {
      "text/plain": [
       "'\\npast_cases_dict = OrderedDict()\\nfor i in range (min_year,max_year+1):\\n    past_cases_dict[i+1] = past_now_cases_dict[i]\\n'"
      ]
     },
     "execution_count": 21,
     "metadata": {},
     "output_type": "execute_result"
    }
   ],
   "source": [
    "min_year = np.amin(year_list)\n",
    "max_year = np.amax(year_list)\n",
    "\n",
    "past_now_cases_dict = OrderedDict()\n",
    "for i in range (min_year,max_year+1):\n",
    "    past_now_cases_dict[i] = []\n",
    "\n",
    "for case in tuple_list:\n",
    "    past_now_cases_dict[case[2]].append(case)\n",
    "\n",
    "for i in range (min_year+1,max_year+1):\n",
    "    past_now_cases_dict[i].extend(past_now_cases_dict[i-1])\n",
    "    past_now_cases_dict[i] = sorted(past_now_cases_dict[i], key=lambda tup: tup[3], reverse=True)\n",
    "\n",
    "past_cases_dict = past_now_cases_dict\n",
    "'''\n",
    "past_cases_dict = OrderedDict()\n",
    "for i in range (min_year,max_year+1):\n",
    "    past_cases_dict[i+1] = past_now_cases_dict[i]\n",
    "'''"
   ]
  },
  {
   "cell_type": "markdown",
   "metadata": {},
   "source": [
    "# random testing"
   ]
  },
  {
   "cell_type": "code",
   "execution_count": 23,
   "metadata": {
    "collapsed": false
   },
   "outputs": [
    {
     "data": {
      "text/plain": [
       "[(18427, 84581, 1754, 2), (18428, 84582, 1759, 0)]"
      ]
     },
     "execution_count": 23,
     "metadata": {},
     "output_type": "execute_result"
    }
   ],
   "source": [
    "past_cases_dict[1759]"
   ]
  },
  {
   "cell_type": "code",
   "execution_count": 24,
   "metadata": {
    "collapsed": false
   },
   "outputs": [
    {
     "name": "stdout",
     "output_type": "stream",
     "text": [
      "[17550, 17551, 23415, 24367, 26214, 26215, 27003, 27524, 28745, 28994, 29328, 29379, 29382, 29592, 30042, 30135, 30632, 30814, 30862, 31150, 31247, 31331, 31805, 32339, 32840, 32878, 33161]\n",
      "\n",
      "[(17550, 2516136, 1914, 13), (17551, 2516269, 1902, 28), (23415, 90006, 1879, 24), (24367, 90965, 1883, 39), (26214, 92867, 1890, 19), (26215, 92868, 1890, 7), (27003, 93665, 1893, 88), (27524, 94194, 1895, 16), (28745, 95430, 1901, 4), (28994, 95682, 1902, 9), (29328, 96023, 1904, 3), (29379, 96076, 1904, 14), (29382, 96079, 1904, 4), (29592, 96296, 1905, 35), (30042, 96750, 1908, 25), (30135, 96845, 1908, 2), (30632, 97348, 1911, 33), (30814, 97533, 1912, 3), (30862, 97581, 1912, 11), (31150, 97876, 1913, 18), (31247, 97975, 1913, 27), (31331, 98060, 1914, 15), (31805, 98536, 1915, 7), (32339, 99079, 1918, 4), (32840, 99588, 1920, 1), (32878, 99626, 1920, 15), (33161, 99911, 1922, 7)]\n",
      "\n",
      "27\n"
     ]
    }
   ],
   "source": [
    "print G.neighbors(10, mode='OUT')\n",
    "\n",
    "test_tuple_list = []\n",
    "for i in G.neighbors(10, mode='OUT'):\n",
    "    test_tuple_list.append((i, G.vs[i]['name'], G.vs[i]['year'], G.vs[i].indegree()))\n",
    "    \n",
    "print\n",
    "print test_tuple_list\n",
    "print\n",
    "print len(test_tuple_list)"
   ]
  },
  {
   "cell_type": "markdown",
   "metadata": {
    "collapsed": true
   },
   "source": [
    "# 2nd part: get the cases that case c actually cites\n",
    "\n",
    "# Problem: past_(now)_cases dict can include future cases..., so the ranking is a bit skewed to the right, when observing the cited cases for case C"
   ]
  },
  {
   "cell_type": "code",
   "execution_count": 25,
   "metadata": {
    "collapsed": false,
    "scrolled": true
   },
   "outputs": [
    {
     "name": "stdout",
     "output_type": "stream",
     "text": [
      "15487\n",
      "(29701, 96405, 1906, 608)\n",
      "27\n",
      "[39, 323, 392, 450, 634, 669, 792, 887, 1310, 1378, 1690, 1769, 1784, 2006, 2173, 2676, 3396, 4146, 4211, 4444, 6235, 6455, 6487, 7311, 7427, 8572, 9846]\n",
      "27\n",
      "[0.9974817588945567, 0.9791437980241493, 0.9746884483760574, 0.9709433718602699, 0.9590624394653581, 0.9568024794989346, 0.948860334474075, 0.9427261574223542, 0.915412926971008, 0.911022147607671, 0.8908762187641247, 0.8857751662684832, 0.8848066119971589, 0.8704720087815587, 0.8596887712274811, 0.8272099179957384, 0.7807193129721702, 0.7322915994059533, 0.7280945308968813, 0.7130496545489766, 0.5974042745528507, 0.5831988119067605, 0.5811325627946019, 0.5279266481565184, 0.5204364951249435, 0.4465035190805191, 0.36424097630270547]\n",
      "\n",
      "21.3499709434\n"
     ]
    }
   ],
   "source": [
    "# G.neighbors(10, mode='OUT') are the cases that case c actually cites\n",
    "\n",
    "#ranks = []\n",
    "for key, value in past_cases_dict.iteritems():\n",
    "    if key == G.vs[10]['year']:\n",
    "        all_past_cases = value\n",
    "\n",
    "print len(all_past_cases)\n",
    "print all_past_cases[0]\n",
    "\n",
    "\n",
    "\n",
    "ranks = [i+1 for i, v in enumerate(all_past_cases) if v[0] in G.neighbors(10, mode='OUT')]\n",
    "\n",
    "print len(ranks)\n",
    "print ranks\n",
    "\n",
    "scores = []\n",
    "# score_i = 1 - r_i/ |B_c| (where |B_c| is the number of cases that came before case c)\n",
    "for some_rank in ranks:\n",
    "    some_score = 1-some_rank/len(all_past_cases)\n",
    "    scores.append(some_score)\n",
    "    \n",
    "final_score = sum(scores)\n",
    "\n",
    "print len(scores)\n",
    "print scores\n",
    "print \n",
    "print final_score\n"
   ]
  },
  {
   "cell_type": "code",
   "execution_count": 26,
   "metadata": {
    "collapsed": false
   },
   "outputs": [
    {
     "data": {
      "text/plain": [
       "21.349970943371865"
      ]
     },
     "execution_count": 26,
     "metadata": {},
     "output_type": "execute_result"
    }
   ],
   "source": [
    "# G.neighbors(10, mode='OUT') are the cases that case c actually cites\n",
    "\n",
    "#ranks = []\n",
    "\n",
    "def calculate_score_for_case(case_index, past_cases_dict):\n",
    "    for key, value in past_cases_dict.iteritems():\n",
    "        if key == G.vs[case_index]['year']:\n",
    "            all_past_cases = value\n",
    "\n",
    "    ranks = [i+1 for i, v in enumerate(all_past_cases) if v[0] in G.neighbors(case_index, mode='OUT')]\n",
    "\n",
    "    scores = []\n",
    "    for some_rank in ranks:\n",
    "        some_score = 1-some_rank/len(all_past_cases)\n",
    "        scores.append(some_score)\n",
    "\n",
    "    final_score = sum(scores)\n",
    "    \n",
    "    return final_score\n",
    "    \n",
    "calculate_score_for_case(10, past_cases_dict)"
   ]
  },
  {
   "cell_type": "code",
   "execution_count": 27,
   "metadata": {
    "collapsed": false
   },
   "outputs": [
    {
     "name": "stdout",
     "output_type": "stream",
     "text": [
      "took 697.003000021\n",
      "\n",
      "213733.884905\n"
     ]
    }
   ],
   "source": [
    "time1 = time.time()\n",
    "\n",
    "score_M = 0\n",
    "for i in G.vs():\n",
    "    score_M += calculate_score_for_case(i.index, past_cases_dict)\n",
    "    \n",
    "time2=time.time()\n",
    "total_time = str(time2-time1)\n",
    "print 'took ' + total_time\n",
    "print\n",
    "print score_M"
   ]
  },
  {
   "cell_type": "code",
   "execution_count": null,
   "metadata": {
    "collapsed": true
   },
   "outputs": [],
   "source": []
  }
 ],
 "metadata": {
  "anaconda-cloud": {},
  "kernelspec": {
   "display_name": "Python [Root]",
   "language": "python",
   "name": "Python [Root]"
  },
  "language_info": {
   "codemirror_mode": {
    "name": "ipython",
    "version": 2
   },
   "file_extension": ".py",
   "mimetype": "text/x-python",
   "name": "python",
   "nbconvert_exporter": "python",
   "pygments_lexer": "ipython2",
   "version": "2.7.11"
  }
 },
 "nbformat": 4,
 "nbformat_minor": 0
}
