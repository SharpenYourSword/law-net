{
 "cells": [
  {
   "cell_type": "code",
   "execution_count": 75,
   "metadata": {
    "collapsed": false
   },
   "outputs": [
    {
     "name": "stdout",
     "output_type": "stream",
     "text": [
      "The autoreload extension is already loaded. To reload it, use:\n",
      "  %reload_ext autoreload\n"
     ]
    }
   ],
   "source": [
    "import sys\n",
    "\n",
    "sys.path.append('../../code/')\n",
    "import os\n",
    "import json\n",
    "from datetime import datetime\n",
    "import time\n",
    "from math import *\n",
    "\n",
    "import numpy as np\n",
    "import pandas as pd\n",
    "import matplotlib.pyplot as plt\n",
    "import scipy.stats as stats\n",
    "\n",
    "import igraph as ig\n",
    "\n",
    "from collections import *\n",
    "import random\n",
    "\n",
    "from load_data import load_citation_network_igraph, case_info\n",
    "\n",
    "%load_ext autoreload\n",
    "%autoreload 2\n",
    "%matplotlib inline\n",
    "\n",
    "data_dir = '../../data/'\n",
    "court_name = 'scotus'"
   ]
  },
  {
   "cell_type": "code",
   "execution_count": 76,
   "metadata": {
    "collapsed": false
   },
   "outputs": [
    {
     "name": "stdout",
     "output_type": "stream",
     "text": [
      "1 seconds for 250465 edges\n",
      "loaded scotus network with 33248 cases and 250465 edges\n"
     ]
    }
   ],
   "source": [
    "# this will be a little slow the first time you run it\n",
    "G = load_citation_network_igraph(data_dir, court_name)\n",
    "\n",
    "print 'loaded %s network with %d cases and %d edges' % (court_name, len(G.vs), len(G.es))"
   ]
  },
  {
   "cell_type": "code",
   "execution_count": 77,
   "metadata": {
    "collapsed": true
   },
   "outputs": [],
   "source": [
    "def make_subgraph_dict(G):\n",
    "    time1 = time.time()\n",
    "\n",
    "    subgraph_dict = {}\n",
    "    min_year = 1754\n",
    "    max_year = 2016\n",
    "\n",
    "    for i in range (min_year,max_year+2):\n",
    "        sub_vs = G.vs.select(year_lt=i)\n",
    "        sub_G = G.subgraph(sub_vs)\n",
    "        #each year in this dict is the subgraph of cases strictly before that year\n",
    "        subgraph_dict[i] = sub_G\n",
    "\n",
    "    time2 = time.time()\n",
    "    print \"Making sub-graph dict took \" + str(time2-time1) + \" seconds\"\n",
    "    return subgraph_dict"
   ]
  },
  {
   "cell_type": "code",
   "execution_count": 78,
   "metadata": {
    "collapsed": true
   },
   "outputs": [],
   "source": [
    "def time_decay_indegree(graph, vertex, threshold=10):\n",
    "    td_indeg = 0\n",
    "    vertex_year = vertex[\"year\"]\n",
    "    neighbors = graph.neighbors(vertex.index, mode='IN')\n",
    "    for neighbor in neighbors:\n",
    "        neighbor_year = graph.vs[neighbor][\"year\"]\n",
    "        if neighbor_year - vertex_year <= threshold:\n",
    "            td_indeg += 1\n",
    "    return td_indeg"
   ]
  },
  {
   "cell_type": "code",
   "execution_count": 79,
   "metadata": {
    "collapsed": false
   },
   "outputs": [],
   "source": [
    "def make_case_dict(subgraph_dict, metric=\"indegree\"):\n",
    "    time1 = time.time()\n",
    "\n",
    "    case_tuple_dict = {}\n",
    "    min_year = 1754\n",
    "    max_year = 2016\n",
    "    \n",
    "    for i in range (min_year,max_year+2):\n",
    "        sub_G = subgraph_dict[i]\n",
    "\n",
    "        tuple_list = []\n",
    "        igraph_index_list = []\n",
    "        name_list = []\n",
    "        year_list = []\n",
    "        metric_list = []\n",
    "        \n",
    "        if metric == \"pagerank\":\n",
    "            metric_list = sub_G.pagerank()\n",
    "\n",
    "        for j in range(0,len(sub_G.vs)):\n",
    "            vertex = sub_G.vs[j]\n",
    "            igraph_index_list.append(vertex.index)\n",
    "            name_list.append(vertex['name'])\n",
    "            year_list.append(vertex['year'])\n",
    "            if metric == \"indegree\":\n",
    "                metric_list.append(vertex.indegree())\n",
    "            if metric == \"timedecay\":\n",
    "                metric_list.append(time_decay_indegree(sub_G, vertex, 10))\n",
    "        tuple_list = zip(igraph_index_list, name_list, year_list, metric_list)\n",
    "\n",
    "        #sorts the tuples by their metric so each case's rank is now its index + 1\n",
    "        sorted_tuple_list = sorted(tuple_list, key=lambda tup: tup[3], reverse=True)\n",
    "\n",
    "        case_tuple_dict[i] = sorted_tuple_list\n",
    "\n",
    "    time2 = time.time()\n",
    "    print \"Making sorted case tuples for \" + metric + \" took \" + str(time2-time1) + \" seconds\"\n",
    "    return case_tuple_dict"
   ]
  },
  {
   "cell_type": "code",
   "execution_count": 80,
   "metadata": {
    "collapsed": true
   },
   "outputs": [],
   "source": [
    "def calculate_score_for_case(case_index, past_cases_dict):\n",
    "    all_past_cases = past_cases_dict[G.vs[case_index]['year']]\n",
    "    \n",
    "    neighbors = G.neighbors(case_index, mode='OUT')\n",
    "    neighbors_names = [G.vs[i]['name'] for i in neighbors]\n",
    "    \n",
    "    ranks = [i+1.0 for i, v in enumerate(all_past_cases) if v[1] in neighbors_names]\n",
    "\n",
    "    scores = []\n",
    "    for some_rank in ranks:\n",
    "        some_score = 1 - some_rank/len(all_past_cases)\n",
    "        scores.append(some_score)\n",
    "\n",
    "    final_score = sum(scores)\n",
    "    return final_score"
   ]
  },
  {
   "cell_type": "code",
   "execution_count": 81,
   "metadata": {
    "collapsed": false
   },
   "outputs": [],
   "source": [
    "def calculate_score_from_case_dict(G, case_tuple_dict):\n",
    "    time1 = time.time()\n",
    "\n",
    "    score_M = 0\n",
    "    for i in G.vs():\n",
    "        score_M += calculate_score_for_case(i.index, case_tuple_dict)\n",
    "\n",
    "    time2 = time.time()\n",
    "    print \"Total score was: \" + str(score_M)\n",
    "    print \"This took \" + str(time2-time1) + \" seconds\"\n",
    "    return score_M"
   ]
  },
  {
   "cell_type": "code",
   "execution_count": 84,
   "metadata": {
    "collapsed": false
   },
   "outputs": [
    {
     "name": "stdout",
     "output_type": "stream",
     "text": [
      "Making sub-graph dict took 19.236000061 seconds\n",
      "Making sorted case tuples for indegree took 43.4519999027 seconds\n",
      "Making sorted case tuples for pagerank took 86.5289998055 seconds\n",
      "Making sorted case tuples for timedecay took 81.6449999809 seconds\n"
     ]
    }
   ],
   "source": [
    "subgraph_dict = make_subgraph_dict(G)\n",
    "case_dict_indegree  = make_case_dict(subgraph_dict, \"indegree\")\n",
    "case_dict_pagerank  = make_case_dict(subgraph_dict, \"pagerank\")\n",
    "case_dict_timedecay = make_case_dict(subgraph_dict, \"timedecay\")"
   ]
  },
  {
   "cell_type": "code",
   "execution_count": 85,
   "metadata": {
    "collapsed": false
   },
   "outputs": [
    {
     "name": "stdout",
     "output_type": "stream",
     "text": [
      "indegree\n",
      "Total score was: 174094.901772\n",
      "This took 233.620000124 seconds\n"
     ]
    }
   ],
   "source": [
    "print \"indegree\"\n",
    "indegree_score = calculate_score_from_case_dict(G, case_dict_indegree)"
   ]
  },
  {
   "cell_type": "code",
   "execution_count": 86,
   "metadata": {
    "collapsed": false
   },
   "outputs": [
    {
     "name": "stdout",
     "output_type": "stream",
     "text": [
      "pagerank\n",
      "Total score was: 149192.224771\n",
      "This took 148.082000017 seconds\n"
     ]
    }
   ],
   "source": [
    "print \"pagerank\"\n",
    "pagerank_score = calculate_score_from_case_dict(G, case_dict_pagerank)"
   ]
  },
  {
   "cell_type": "code",
   "execution_count": 87,
   "metadata": {
    "collapsed": false
   },
   "outputs": [
    {
     "name": "stdout",
     "output_type": "stream",
     "text": [
      "indegree with time decay\n",
      "Total score was: 180027.49242\n",
      "This took 143.429000139 seconds\n"
     ]
    }
   ],
   "source": [
    "print \"indegree with time decay\"\n",
    "timedecay_score = calculate_score_from_case_dict(G, case_dict_timedecay)"
   ]
  },
  {
   "cell_type": "code",
   "execution_count": null,
   "metadata": {
    "collapsed": true
   },
   "outputs": [],
   "source": []
  }
 ],
 "metadata": {
  "anaconda-cloud": {},
  "kernelspec": {
   "display_name": "Python [Root]",
   "language": "python",
   "name": "Python [Root]"
  },
  "language_info": {
   "codemirror_mode": {
    "name": "ipython",
    "version": 2
   },
   "file_extension": ".py",
   "mimetype": "text/x-python",
   "name": "python",
   "nbconvert_exporter": "python",
   "pygments_lexer": "ipython2",
   "version": "2.7.11"
  }
 },
 "nbformat": 4,
 "nbformat_minor": 0
}
