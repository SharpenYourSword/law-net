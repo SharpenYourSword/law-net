{
 "cells": [
  {
   "cell_type": "code",
   "execution_count": 1,
   "metadata": {
    "collapsed": false
   },
   "outputs": [],
   "source": [
    "import sys\n",
    "\n",
    "sys.path.append('../../code/')\n",
    "import os\n",
    "import json\n",
    "from datetime import datetime\n",
    "import time\n",
    "from math import *\n",
    "\n",
    "import numpy as np\n",
    "import pandas as pd\n",
    "import matplotlib.pyplot as plt\n",
    "import scipy.stats as stats\n",
    "\n",
    "import igraph as ig\n",
    "\n",
    "import random as random\n",
    "\n",
    "from collections import *\n",
    "\n",
    "from load_data import load_citation_network_igraph, case_info\n",
    "\n",
    "import sklearn.linear_model as skl_lm\n",
    "from sklearn.discriminant_analysis import LinearDiscriminantAnalysis\n",
    "from sklearn.discriminant_analysis import QuadraticDiscriminantAnalysis\n",
    "from sklearn.metrics import confusion_matrix, classification_report, precision_score, log_loss\n",
    "from sklearn import preprocessing\n",
    "from sklearn import neighbors\n",
    "\n",
    "\n",
    "%load_ext autoreload\n",
    "%autoreload 2\n",
    "%matplotlib inline\n",
    "\n",
    "data_dir = '../../data/'\n",
    "court_name = 'scotus'\n",
    "\n",
    "# %load ../standard_import.txt\n",
    "from __future__ import division\n",
    "import matplotlib as mpl\n",
    "\n",
    "pd.set_option('display.notebook_repr_html', False)\n",
    "\n",
    "%matplotlib inline\n",
    "plt.style.use('seaborn-white')"
   ]
  },
  {
   "cell_type": "code",
   "execution_count": 2,
   "metadata": {
    "collapsed": false,
    "scrolled": true
   },
   "outputs": [
    {
     "name": "stdout",
     "output_type": "stream",
     "text": [
      "0 seconds for 250465 edges\n",
      "loaded scotus network with 33248 cases and 250465 edges\n"
     ]
    }
   ],
   "source": [
    "G = load_citation_network_igraph(data_dir, court_name)\n",
    "print 'loaded %s network with %d cases and %d edges' % (court_name, len(G.vs), len(G.es))"
   ]
  },
  {
   "cell_type": "markdown",
   "metadata": {},
   "source": [
    "# SCOTUS Subgraphs by decade"
   ]
  },
  {
   "cell_type": "code",
   "execution_count": 3,
   "metadata": {
    "collapsed": false
   },
   "outputs": [
    {
     "name": "stdout",
     "output_type": "stream",
     "text": [
      "1800 :  252 vertices and  17  edges\n",
      "1810 :  478 vertices and  48  edges\n",
      "1820 :  803 vertices and  120  edges\n",
      "1830 :  1148 vertices and  156  edges\n",
      "1840 :  1584 vertices and  294  edges\n",
      "1850 :  1956 vertices and  474  edges\n",
      "1860 :  2680 vertices and  831  edges\n",
      "1870 :  3475 vertices and  884  edges\n",
      "1880 :  5319 vertices and  2271  edges\n",
      "1890 :  7902 vertices and  10255  edges\n",
      "1900 :  10446 vertices and  25674  edges\n",
      "1910 :  12463 vertices and  37864  edges\n",
      "1920 :  14880 vertices and  52274  edges\n",
      "1930 :  16887 vertices and  67361  edges\n",
      "1940 :  18585 vertices and  86576  edges\n",
      "1950 :  20079 vertices and  106644  edges\n",
      "1960 :  21329 vertices and  118369  edges\n",
      "1970 :  23642 vertices and  136684  edges\n",
      "1980 :  25734 vertices and  166573  edges\n",
      "1990 :  27848 vertices and  199818  edges\n",
      "2000 :  29206 vertices and  221713  edges\n",
      "2010 :  32505 vertices and  238179  edges\n",
      "2020 :  33248 vertices and  250465  edges\n"
     ]
    }
   ],
   "source": [
    "# start from 1800\n",
    "\n",
    "sub_G_dict = {}\n",
    "scotus_years = range(1800, 2021) # scotus years actually from 1754-2016\n",
    "scotus_decades = [year for year in scotus_years if year % 10 == 0] # 1800, ... , 2000, 2010, 2020\n",
    "\n",
    "dict_decades_subgraphs = OrderedDict() # key: decade, value: subgraph with vertices less than that decade year\n",
    "for i in scotus_decades:\n",
    "    sub_vs = G.vs.select(year_lt=i)\n",
    "    sub_G = G.subgraph(sub_vs) # IMPORTANT NOTE: THESE NEW SUBGRAPHS RE-INDEX (DIFFERENT INDICES THAN G_2)\n",
    "    dict_decades_subgraphs[i] = sub_G\n",
    "    print i, \": \", len(sub_G.vs), \"vertices and \", len(sub_G.es), \" edges\""
   ]
  },
  {
   "cell_type": "markdown",
   "metadata": {},
   "source": [
    "# Create list of tuples of every present edge (1) with info (indices, years)"
   ]
  },
  {
   "cell_type": "code",
   "execution_count": 4,
   "metadata": {
    "collapsed": false
   },
   "outputs": [
    {
     "name": "stdout",
     "output_type": "stream",
     "text": [
      "this took 397.924999952 seconds\n"
     ]
    }
   ],
   "source": [
    "time1 = time.time()\n",
    "edge_tuple_dict = {}\n",
    "#for each subgraph makes a list of present edges (1)\n",
    "for key in dict_decades_subgraphs:\n",
    "    decade_sub_G = dict_decades_subgraphs[key]\n",
    "    edge_tuple = decade_sub_G.get_edgelist() #returns a list of edges of the form (citing_index, cited_index)\n",
    "    for i in range(0,len(edge_tuple)):\n",
    "        #adds two items to each tuple which corresponds to the citing year and cited year\n",
    "        #each list item is now in the form (1, citing_index, cited_index, citing_year, cited_year)\n",
    "        edge_tuple[i] = (1, decade_sub_G.vs(edge_tuple[i][0])['name'][0]) + edge_tuple[i] + (decade_sub_G.vs(edge_tuple[i][0])['year'][0], decade_sub_G.vs(edge_tuple[i][1])['year'][0])\n",
    "    edge_tuple_dict[key] = edge_tuple\n",
    "time2 = time.time()\n",
    "print \"this took \" + str(time2-time1) + \" seconds\""
   ]
  },
  {
   "cell_type": "markdown",
   "metadata": {},
   "source": [
    "# Tidy Data Frame (N1)"
   ]
  },
  {
   "cell_type": "code",
   "execution_count": 5,
   "metadata": {
    "collapsed": false,
    "scrolled": true
   },
   "outputs": [
    {
     "name": "stdout",
     "output_type": "stream",
     "text": [
      "this took 1.73600006104 seconds\n"
     ]
    }
   ],
   "source": [
    "time1 = time.time()\n",
    "df_dict = {}\n",
    "list_of_column_names = [\"edge\", \"citing_name\" , \"citing_index\", \"cited_index\", \"citing_year\", \"cited_year\"]\n",
    "#for each list of edges converts it into a df\n",
    "for key in edge_tuple_dict:\n",
    "    edge_tuples = edge_tuple_dict[key]\n",
    "    df = pd.DataFrame(edge_tuples, columns=list_of_column_names)\n",
    "    df_dict[key] = df \n",
    "time2 = time.time()\n",
    "print \"this took \" + str(time2-time1) + \" seconds\""
   ]
  },
  {
   "cell_type": "code",
   "execution_count": null,
   "metadata": {
    "collapsed": true
   },
   "outputs": [],
   "source": [
    "#save tidy df\n",
    "#df.to_csv('1925_scotus_logreg_table.csv')"
   ]
  },
  {
   "cell_type": "code",
   "execution_count": 6,
   "metadata": {
    "collapsed": false
   },
   "outputs": [
    {
     "name": "stdout",
     "output_type": "stream",
     "text": [
      "250465\n",
      "250465\n"
     ]
    }
   ],
   "source": [
    "print len(G.get_edgelist())\n",
    "print len(set(G.get_edgelist()))"
   ]
  },
  {
   "cell_type": "markdown",
   "metadata": {},
   "source": [
    "# Create list of tuples of not present edges (0) with info (indices, years)"
   ]
  },
  {
   "cell_type": "markdown",
   "metadata": {},
   "source": [
    "# old code, where we had set(vertices) in the while loop -- 0.45 seconds"
   ]
  },
  {
   "cell_type": "code",
   "execution_count": 70,
   "metadata": {
    "collapsed": false
   },
   "outputs": [
    {
     "name": "stdout",
     "output_type": "stream",
     "text": [
      "1850 : 474 NON-present edges --took 0.458000183105 seconds--\n",
      "this took 0.460000038147 seconds\n"
     ]
    }
   ],
   "source": [
    "time1 = time.time()\n",
    "edge_tuple_dict_0 = {}\n",
    "\n",
    "# for each subgraph make a list of non-present edges\n",
    "decade_sub_G = dict_decades_subgraphs[1850]\n",
    "\n",
    "vertices = decade_sub_G.vs\n",
    "\n",
    "one_edges = set(decade_sub_G.get_edgelist())\n",
    "zero_edges = set([])\n",
    "time3 = time.time()\n",
    "\n",
    "while len(zero_edges) < len(one_edges):\n",
    "    new_edge_list = random.sample(set(vertices), 2)\n",
    "    \n",
    "    new_edge = (new_edge_list[0],new_edge_list[1])\n",
    "    final_edge = (0, decade_sub_G.vs(new_edge[0].index)['name'][0], new_edge[0].index, new_edge[1].index, decade_sub_G.vs(new_edge[0].index)['year'][0], decade_sub_G.vs(new_edge[1].index)['year'][0])\n",
    "    # todo: explain this long if statement (last conditional makes assumption that we will not use edge in same year)\n",
    "    if new_edge not in one_edges and final_edge not in zero_edges and final_edge[4]>final_edge[5]:\n",
    "        zero_edges.add(final_edge)\n",
    "time4 = time.time()\n",
    "print 1850, \":\", len(zero_edges), \"NON-present edges\", \"--took\", time4-time3, \"seconds--\"\n",
    "edge_tuple_dict_0[1850] = zero_edges\n",
    "\n",
    "time2 = time.time()\n",
    "print \"this took \" + str(time2-time1) + \" seconds\""
   ]
  },
  {
   "cell_type": "markdown",
   "metadata": {},
   "source": [
    "# np.random.choice(vertices)--5.8 seconds vs. \n",
    "# random.sample(vertices_set)--0.06 seconds"
   ]
  },
  {
   "cell_type": "code",
   "execution_count": 93,
   "metadata": {
    "collapsed": false
   },
   "outputs": [
    {
     "name": "stdout",
     "output_type": "stream",
     "text": [
      "1850 : 474 NON-present edges --took 5.58799982071 seconds--\n",
      "this took 5.59100008011 seconds\n"
     ]
    }
   ],
   "source": [
    "time1 = time.time()\n",
    "edge_tuple_dict_0 = {}\n",
    "\n",
    "# for each subgraph make a list of non-present edges\n",
    "decade_sub_G = dict_decades_subgraphs[1850]\n",
    "\n",
    "vertices = decade_sub_G.vs\n",
    "vertices_set = set(vertices)\n",
    "\n",
    "one_edges = set(decade_sub_G.get_edgelist())\n",
    "zero_edges = set([])\n",
    "time3 = time.time()\n",
    "\n",
    "while len(zero_edges) < len(one_edges):\n",
    "    #temp = np.random.choice(vertices, size=2, replace=False)\n",
    "    temp = random.sample(vertices_set, 2)\n",
    "    \n",
    "    new_edge = (temp[0], temp[1])\n",
    "    final_edge = (0, decade_sub_G.vs(new_edge[0].index)['name'][0], new_edge[0].index, new_edge[1].index, decade_sub_G.vs(new_edge[0].index)['year'][0], decade_sub_G.vs(new_edge[1].index)['year'][0])\n",
    "    # todo: explain this long if statement (last conditional makes assumption that we will not use edge in same year)\n",
    "    if new_edge not in one_edges and final_edge not in zero_edges and final_edge[4]>final_edge[5]:\n",
    "        zero_edges.add(final_edge)\n",
    "time4 = time.time()\n",
    "print 1850, \":\", len(zero_edges), \"NON-present edges\", \"--took\", time4-time3, \"seconds--\"\n",
    "edge_tuple_dict_0[1850] = zero_edges\n",
    "\n",
    "time2 = time.time()\n",
    "print \"this took \" + str(time2-time1) + \" seconds\""
   ]
  },
  {
   "cell_type": "markdown",
   "metadata": {},
   "source": [
    "# np.random.choice(indices)-- 0.28 vs.\n",
    "# random.sample(indices_set)--0.08"
   ]
  },
  {
   "cell_type": "code",
   "execution_count": 92,
   "metadata": {
    "collapsed": false
   },
   "outputs": [
    {
     "name": "stdout",
     "output_type": "stream",
     "text": [
      "1850 : 474 NON-present edges --took 0.27999997139 seconds--\n",
      "this took 0.281999826431 seconds\n"
     ]
    }
   ],
   "source": [
    "time1 = time.time()\n",
    "edge_tuple_dict_0 = {}\n",
    "\n",
    "# for each subgraph make a list of non-present edges\n",
    "decade_sub_G = dict_decades_subgraphs[1850]\n",
    "\n",
    "vertices = decade_sub_G.vs\n",
    "indices = range(0, len(vertices))\n",
    "indices_set = set(indices)\n",
    "\n",
    "one_edges = set(decade_sub_G.get_edgelist())\n",
    "zero_edges = set([])\n",
    "time3 = time.time()\n",
    "\n",
    "while len(zero_edges) < len(one_edges):\n",
    "    temp = np.random.choice(indices, size=2, replace=False)\n",
    "    #temp = random.sample(indices_set, 2)\n",
    "    \n",
    "    new_edge = (temp[0], temp[1])\n",
    "    final_edge = (0, decade_sub_G.vs(new_edge[0])['name'][0], new_edge[0], new_edge[1], decade_sub_G.vs(new_edge[0])['year'][0], decade_sub_G.vs(new_edge[1])['year'][0])\n",
    "    # todo: explain this long if statement (last conditional makes assumption that we will not use edge in same year)\n",
    "    if new_edge not in one_edges and final_edge not in zero_edges and final_edge[4]>final_edge[5]:\n",
    "        zero_edges.add(final_edge)\n",
    "time4 = time.time()\n",
    "print 1850, \":\", len(zero_edges), \"NON-present edges\", \"--took\", time4-time3, \"seconds--\"\n",
    "edge_tuple_dict_0[1850] = zero_edges\n",
    "\n",
    "time2 = time.time()\n",
    "print \"this took \" + str(time2-time1) + \" seconds\""
   ]
  },
  {
   "cell_type": "code",
   "execution_count": null,
   "metadata": {
    "collapsed": true
   },
   "outputs": [],
   "source": []
  }
 ],
 "metadata": {
  "anaconda-cloud": {},
  "kernelspec": {
   "display_name": "Python [Root]",
   "language": "python",
   "name": "Python [Root]"
  },
  "language_info": {
   "codemirror_mode": {
    "name": "ipython",
    "version": 2
   },
   "file_extension": ".py",
   "mimetype": "text/x-python",
   "name": "python",
   "nbconvert_exporter": "python",
   "pygments_lexer": "ipython2",
   "version": "2.7.11"
  }
 },
 "nbformat": 4,
 "nbformat_minor": 0
}
