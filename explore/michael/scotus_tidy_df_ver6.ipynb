{
 "cells": [
  {
   "cell_type": "code",
   "execution_count": 1,
   "metadata": {
    "collapsed": false
   },
   "outputs": [],
   "source": [
    "import sys\n",
    "\n",
    "sys.path.append('../../code/')\n",
    "import os\n",
    "import json\n",
    "from datetime import datetime\n",
    "import time\n",
    "from math import *\n",
    "\n",
    "import numpy as np\n",
    "import pandas as pd\n",
    "import matplotlib.pyplot as plt\n",
    "import scipy.stats as stats\n",
    "\n",
    "import igraph as ig\n",
    "\n",
    "import random as random\n",
    "\n",
    "from collections import *\n",
    "\n",
    "from load_data import load_citation_network_igraph, case_info\n",
    "\n",
    "import sklearn.linear_model as skl_lm\n",
    "from sklearn.discriminant_analysis import LinearDiscriminantAnalysis\n",
    "from sklearn.discriminant_analysis import QuadraticDiscriminantAnalysis\n",
    "from sklearn.metrics import confusion_matrix, classification_report, precision_score, log_loss\n",
    "from sklearn import preprocessing\n",
    "from sklearn import neighbors\n",
    "\n",
    "\n",
    "%load_ext autoreload\n",
    "%autoreload 2\n",
    "%matplotlib inline\n",
    "\n",
    "data_dir = '../../data/'\n",
    "court_name = 'scotus'\n",
    "\n",
    "# %load ../standard_import.txt\n",
    "from __future__ import division\n",
    "import matplotlib as mpl\n",
    "\n",
    "pd.set_option('display.notebook_repr_html', False)\n",
    "\n",
    "%matplotlib inline\n",
    "plt.style.use('seaborn-white')"
   ]
  },
  {
   "cell_type": "code",
   "execution_count": 2,
   "metadata": {
    "collapsed": false,
    "scrolled": true
   },
   "outputs": [
    {
     "name": "stdout",
     "output_type": "stream",
     "text": [
      "0 seconds for 250465 edges\n",
      "loaded scotus network with 33248 cases and 250465 edges\n"
     ]
    }
   ],
   "source": [
    "G = load_citation_network_igraph(data_dir, court_name)\n",
    "print 'loaded %s network with %d cases and %d edges' % (court_name, len(G.vs), len(G.es))"
   ]
  },
  {
   "cell_type": "markdown",
   "metadata": {},
   "source": [
    "# SCOTUS Subgraphs by decade"
   ]
  },
  {
   "cell_type": "code",
   "execution_count": 3,
   "metadata": {
    "collapsed": false
   },
   "outputs": [
    {
     "name": "stdout",
     "output_type": "stream",
     "text": [
      "1800 :  252 vertices and  17  edges\n",
      "1810 :  478 vertices and  48  edges\n",
      "1820 :  803 vertices and  120  edges\n",
      "1830 :  1148 vertices and  156  edges\n",
      "1840 :  1584 vertices and  294  edges\n",
      "1850 :  1956 vertices and  474  edges\n",
      "1860 :  2680 vertices and  831  edges\n",
      "1870 :  3475 vertices and  884  edges\n",
      "1880 :  5319 vertices and  2271  edges\n",
      "1890 :  7902 vertices and  10255  edges\n",
      "1900 :  10446 vertices and  25674  edges\n",
      "1910 :  12463 vertices and  37864  edges\n",
      "1920 :  14880 vertices and  52274  edges\n",
      "1930 :  16887 vertices and  67361  edges\n",
      "1940 :  18585 vertices and  86576  edges\n",
      "1950 :  20079 vertices and  106644  edges\n",
      "1960 :  21329 vertices and  118369  edges\n",
      "1970 :  23642 vertices and  136684  edges\n",
      "1980 :  25734 vertices and  166573  edges\n",
      "1990 :  27848 vertices and  199818  edges\n",
      "2000 :  29206 vertices and  221713  edges\n",
      "2010 :  32505 vertices and  238179  edges\n",
      "2020 :  33248 vertices and  250465  edges\n"
     ]
    }
   ],
   "source": [
    "# start from 1800\n",
    "\n",
    "sub_G_dict = {}\n",
    "scotus_years = range(1800, 2021) # scotus years actually from 1754-2016\n",
    "scotus_decades = [year for year in scotus_years if year % 10 == 0] # 1800, ... , 2000, 2010, 2020\n",
    "\n",
    "dict_decades_subgraphs = OrderedDict() # key: decade, value: subgraph with vertices less than that decade year\n",
    "for i in scotus_decades:\n",
    "    sub_vs = G.vs.select(year_lt=i)\n",
    "    sub_G = G.subgraph(sub_vs) # IMPORTANT NOTE: THESE NEW SUBGRAPHS RE-INDEX (DIFFERENT INDICES THAN G_2)\n",
    "    dict_decades_subgraphs[i] = sub_G\n",
    "    print i, \": \", len(sub_G.vs), \"vertices and \", len(sub_G.es), \" edges\""
   ]
  },
  {
   "cell_type": "markdown",
   "metadata": {},
   "source": [
    "# Create list of tuples of every present edge (1) with info (indices, years)"
   ]
  },
  {
   "cell_type": "code",
   "execution_count": 4,
   "metadata": {
    "collapsed": false
   },
   "outputs": [
    {
     "name": "stdout",
     "output_type": "stream",
     "text": [
      "this took 397.924999952 seconds\n"
     ]
    }
   ],
   "source": [
    "time1 = time.time()\n",
    "edge_tuple_dict = {}\n",
    "#for each subgraph makes a list of present edges (1)\n",
    "for key in dict_decades_subgraphs:\n",
    "    decade_sub_G = dict_decades_subgraphs[key]\n",
    "    edge_tuple = decade_sub_G.get_edgelist() #returns a list of edges of the form (citing_index, cited_index)\n",
    "    for i in range(0,len(edge_tuple)):\n",
    "        #adds two items to each tuple which corresponds to the citing year and cited year\n",
    "        #each list item is now in the form (1, citing_index, cited_index, citing_year, cited_year)\n",
    "        edge_tuple[i] = (1, decade_sub_G.vs(edge_tuple[i][0])['name'][0]) + edge_tuple[i] + (decade_sub_G.vs(edge_tuple[i][0])['year'][0], decade_sub_G.vs(edge_tuple[i][1])['year'][0])\n",
    "    edge_tuple_dict[key] = edge_tuple\n",
    "time2 = time.time()\n",
    "print \"this took \" + str(time2-time1) + \" seconds\""
   ]
  },
  {
   "cell_type": "markdown",
   "metadata": {},
   "source": [
    "# Tidy Data Frame (N1)"
   ]
  },
  {
   "cell_type": "code",
   "execution_count": 5,
   "metadata": {
    "collapsed": false,
    "scrolled": true
   },
   "outputs": [
    {
     "name": "stdout",
     "output_type": "stream",
     "text": [
      "this took 1.73600006104 seconds\n"
     ]
    }
   ],
   "source": [
    "time1 = time.time()\n",
    "df_dict = {}\n",
    "list_of_column_names = [\"edge\", \"citing_name\" , \"citing_index\", \"cited_index\", \"citing_year\", \"cited_year\"]\n",
    "#for each list of edges converts it into a df\n",
    "for key in edge_tuple_dict:\n",
    "    edge_tuples = edge_tuple_dict[key]\n",
    "    df = pd.DataFrame(edge_tuples, columns=list_of_column_names)\n",
    "    df_dict[key] = df \n",
    "time2 = time.time()\n",
    "print \"this took \" + str(time2-time1) + \" seconds\""
   ]
  },
  {
   "cell_type": "code",
   "execution_count": null,
   "metadata": {
    "collapsed": true
   },
   "outputs": [],
   "source": [
    "#save tidy df\n",
    "#df.to_csv('1925_scotus_logreg_table.csv')"
   ]
  },
  {
   "cell_type": "code",
   "execution_count": 6,
   "metadata": {
    "collapsed": false
   },
   "outputs": [
    {
     "name": "stdout",
     "output_type": "stream",
     "text": [
      "250465\n",
      "250465\n"
     ]
    }
   ],
   "source": [
    "print len(G.get_edgelist())\n",
    "print len(set(G.get_edgelist()))"
   ]
  },
  {
   "cell_type": "markdown",
   "metadata": {},
   "source": [
    "# Create list of tuples of not present edges (0) with info (indices, years)"
   ]
  },
  {
   "cell_type": "markdown",
   "metadata": {},
   "source": [
    "# old code, where we had set(vertices) in the while loop -- 0.45 seconds"
   ]
  },
  {
   "cell_type": "code",
   "execution_count": 70,
   "metadata": {
    "collapsed": false
   },
   "outputs": [
    {
     "name": "stdout",
     "output_type": "stream",
     "text": [
      "1850 : 474 NON-present edges --took 0.458000183105 seconds--\n",
      "this took 0.460000038147 seconds\n"
     ]
    }
   ],
   "source": [
    "time1 = time.time()\n",
    "edge_tuple_dict_0 = {}\n",
    "\n",
    "# for each subgraph make a list of non-present edges\n",
    "decade_sub_G = dict_decades_subgraphs[1850]\n",
    "\n",
    "vertices = decade_sub_G.vs\n",
    "\n",
    "one_edges = set(decade_sub_G.get_edgelist())\n",
    "zero_edges = set([])\n",
    "time3 = time.time()\n",
    "\n",
    "while len(zero_edges) < len(one_edges):\n",
    "    new_edge_list = random.sample(set(vertices), 2)\n",
    "    \n",
    "    new_edge = (new_edge_list[0],new_edge_list[1])\n",
    "    final_edge = (0, decade_sub_G.vs(new_edge[0].index)['name'][0], new_edge[0].index, new_edge[1].index, decade_sub_G.vs(new_edge[0].index)['year'][0], decade_sub_G.vs(new_edge[1].index)['year'][0])\n",
    "    # todo: explain this long if statement (last conditional makes assumption that we will not use edge in same year)\n",
    "    if new_edge not in one_edges and final_edge not in zero_edges and final_edge[4]>final_edge[5]:\n",
    "        zero_edges.add(final_edge)\n",
    "time4 = time.time()\n",
    "print 1850, \":\", len(zero_edges), \"NON-present edges\", \"--took\", time4-time3, \"seconds--\"\n",
    "edge_tuple_dict_0[1850] = zero_edges\n",
    "\n",
    "time2 = time.time()\n",
    "print \"this took \" + str(time2-time1) + \" seconds\""
   ]
  },
  {
   "cell_type": "markdown",
   "metadata": {},
   "source": [
    "# np.random.choice(vertices)--5.8 seconds vs. \n",
    "# random.sample(vertices_set)--0.06 seconds"
   ]
  },
  {
   "cell_type": "code",
   "execution_count": 93,
   "metadata": {
    "collapsed": false
   },
   "outputs": [
    {
     "name": "stdout",
     "output_type": "stream",
     "text": [
      "1850 : 474 NON-present edges --took 5.58799982071 seconds--\n",
      "this took 5.59100008011 seconds\n"
     ]
    }
   ],
   "source": [
    "time1 = time.time()\n",
    "edge_tuple_dict_0 = {}\n",
    "\n",
    "# for each subgraph make a list of non-present edges\n",
    "decade_sub_G = dict_decades_subgraphs[1850]\n",
    "\n",
    "vertices = decade_sub_G.vs\n",
    "vertices_set = set(vertices)\n",
    "\n",
    "one_edges = set(decade_sub_G.get_edgelist())\n",
    "zero_edges = set([])\n",
    "time3 = time.time()\n",
    "\n",
    "while len(zero_edges) < len(one_edges):\n",
    "    #temp = np.random.choice(vertices, size=2, replace=False)\n",
    "    temp = random.sample(vertices_set, 2)\n",
    "    \n",
    "    new_edge = (temp[0], temp[1])\n",
    "    final_edge = (0, decade_sub_G.vs(new_edge[0].index)['name'][0], new_edge[0].index, new_edge[1].index, decade_sub_G.vs(new_edge[0].index)['year'][0], decade_sub_G.vs(new_edge[1].index)['year'][0])\n",
    "    # todo: explain this long if statement (last conditional makes assumption that we will not use edge in same year)\n",
    "    if new_edge not in one_edges and final_edge not in zero_edges and final_edge[4]>final_edge[5]:\n",
    "        zero_edges.add(final_edge)\n",
    "time4 = time.time()\n",
    "print 1850, \":\", len(zero_edges), \"NON-present edges\", \"--took\", time4-time3, \"seconds--\"\n",
    "edge_tuple_dict_0[1850] = zero_edges\n",
    "\n",
    "time2 = time.time()\n",
    "print \"this took \" + str(time2-time1) + \" seconds\""
   ]
  },
  {
   "cell_type": "markdown",
   "metadata": {},
   "source": [
    "# np.random.choice(indices)-- 0.28 vs.\n",
    "# random.sample(indices_set)--0.08"
   ]
  },
  {
   "cell_type": "code",
   "execution_count": 92,
   "metadata": {
    "collapsed": false
   },
   "outputs": [
    {
     "name": "stdout",
     "output_type": "stream",
     "text": [
      "1850 : 474 NON-present edges --took 0.27999997139 seconds--\n",
      "this took 0.281999826431 seconds\n"
     ]
    }
   ],
   "source": [
    "time1 = time.time()\n",
    "edge_tuple_dict_0 = {}\n",
    "\n",
    "# for each subgraph make a list of non-present edges\n",
    "decade_sub_G = dict_decades_subgraphs[1850]\n",
    "\n",
    "vertices = decade_sub_G.vs\n",
    "indices = range(0, len(vertices))\n",
    "indices_set = set(indices)\n",
    "\n",
    "one_edges = set(decade_sub_G.get_edgelist())\n",
    "zero_edges = set([])\n",
    "time3 = time.time()\n",
    "\n",
    "while len(zero_edges) < len(one_edges):\n",
    "    temp = np.random.choice(indices, size=2, replace=False)\n",
    "    #temp = random.sample(indices_set, 2)\n",
    "    \n",
    "    new_edge = (temp[0], temp[1])\n",
    "    final_edge = (0, decade_sub_G.vs(new_edge[0])['name'][0], new_edge[0], new_edge[1], decade_sub_G.vs(new_edge[0])['year'][0], decade_sub_G.vs(new_edge[1])['year'][0])\n",
    "    # todo: explain this long if statement (last conditional makes assumption that we will not use edge in same year)\n",
    "    if new_edge not in one_edges and final_edge not in zero_edges and final_edge[4]>final_edge[5]:\n",
    "        zero_edges.add(final_edge)\n",
    "time4 = time.time()\n",
    "print 1850, \":\", len(zero_edges), \"NON-present edges\", \"--took\", time4-time3, \"seconds--\"\n",
    "edge_tuple_dict_0[1850] = zero_edges\n",
    "\n",
    "time2 = time.time()\n",
    "print \"this took \" + str(time2-time1) + \" seconds\""
   ]
  },
  {
   "cell_type": "markdown",
   "metadata": {},
   "source": [
    "# Tidy Data Frame (N0)"
   ]
  },
  {
   "cell_type": "code",
   "execution_count": 7,
   "metadata": {
    "collapsed": false
   },
   "outputs": [
    {
     "name": "stdout",
     "output_type": "stream",
     "text": [
      "this took 0.125999927521 seconds\n"
     ]
    }
   ],
   "source": [
    "time1 = time.time()\n",
    "df_dict_0 = {}\n",
    "list_of_column_names = [\"edge\", \"citing_name\", \"citing_index\", \"cited_index\", \"citing_year\", \"cited_year\"]\n",
    "#for each list of edges converts it into a df\n",
    "for key in edge_tuple_dict_0:\n",
    "    edge_tuples = edge_tuple_dict_0[key]\n",
    "    df = pd.DataFrame(edge_tuples, columns=list_of_column_names)\n",
    "    df_dict_0[key] = df \n",
    "time2 = time.time()\n",
    "print \"this took \" + str(time2-time1) + \" seconds\""
   ]
  },
  {
   "cell_type": "markdown",
   "metadata": {},
   "source": [
    "# combine the dataframes in the dictionaries containing dataframes for N0 and N1"
   ]
  },
  {
   "cell_type": "code",
   "execution_count": 10,
   "metadata": {
    "collapsed": false
   },
   "outputs": [],
   "source": [
    "df_dict_final = {}\n",
    "for key in df_dict:\n",
    "    df_dict_final[key] = df_dict[key].append(df_dict_0[key], ignore_index=True)"
   ]
  },
  {
   "cell_type": "markdown",
   "metadata": {},
   "source": [
    "# add ed in-degree, ed PageRank etc"
   ]
  },
  {
   "cell_type": "code",
   "execution_count": 12,
   "metadata": {
    "collapsed": true
   },
   "outputs": [],
   "source": [
    "def add_cited_indegree(dataframe, G):\n",
    "    igraph_indices = dataframe['cited_index']\n",
    "    indegree = G.indegree()\n",
    "    new_column = []\n",
    "    for i in igraph_indices:\n",
    "        new_column.append(indegree[i])\n",
    "    dataframe['indegree'] = new_column\n",
    "    return dataframe"
   ]
  },
  {
   "cell_type": "code",
   "execution_count": 13,
   "metadata": {
    "collapsed": true
   },
   "outputs": [],
   "source": [
    "def add_cited_pagerank(dataframe, G):\n",
    "    igraph_indices = dataframe['cited_index']\n",
    "    pagerank = G.pagerank()\n",
    "    new_column = []\n",
    "    for i in igraph_indices:\n",
    "        new_column.append(pagerank[i])\n",
    "    dataframe['pagerank'] = new_column\n",
    "    return dataframe"
   ]
  },
  {
   "cell_type": "code",
   "execution_count": 14,
   "metadata": {
    "collapsed": false,
    "scrolled": true
   },
   "outputs": [],
   "source": [
    "for i in scotus_decades:\n",
    "    temp_df = add_cited_indegree(df_dict_final[i], dict_decades_subgraphs[i])\n",
    "    df_dict_final[i] = add_cited_pagerank(temp_df, dict_decades_subgraphs[i])"
   ]
  },
  {
   "cell_type": "markdown",
   "metadata": {},
   "source": [
    "# run logistic regression and attachment probabilities to DF"
   ]
  },
  {
   "cell_type": "code",
   "execution_count": 16,
   "metadata": {
    "collapsed": true
   },
   "outputs": [],
   "source": [
    "def logreg(dataframe, x_train_list):\n",
    "    #set up training data\n",
    "    y_train = dataframe['edge']\n",
    "    x_train = dataframe[x_train_list]\n",
    "\n",
    "    #calculate logistical regression\n",
    "    clf = skl_lm.LogisticRegression(solver='newton-cg')\n",
    "    clf.fit(x_train, y_train)\n",
    "\n",
    "    \n",
    "    # Matrix, where column = probability for no edge (0), probability for edge (1)--reference: clf.classes_\n",
    "    prob = clf.predict_proba(x_train)\n",
    "\n",
    "    # predicted probabilities for ALL case for edge present (1)\n",
    "    prob_up = prob[:,1:2]\n",
    "    # convert to list\n",
    "    prob_up2 = [i.tolist()[0] for i in prob_up]\n",
    "    \n",
    "    return prob_up2"
   ]
  },
  {
   "cell_type": "code",
   "execution_count": 17,
   "metadata": {
    "collapsed": false
   },
   "outputs": [],
   "source": [
    "for i in scotus_decades:\n",
    "    df_dict_final[i]['indegree_attachment_p'] = logreg(df_dict_final[i], ['indegree'])\n",
    "    df_dict_final[i]['pagerank_attachment_p'] = logreg(df_dict_final[i], ['pagerank'])"
   ]
  },
  {
   "cell_type": "code",
   "execution_count": 18,
   "metadata": {
    "collapsed": false,
    "scrolled": true
   },
   "outputs": [
    {
     "data": {
      "text/plain": [
       "      edge  citing_name  citing_index  cited_index  citing_year  cited_year  \\\n",
       "0        1      1087705             2         2364         1899        1894   \n",
       "1        1      1087706             3         2480         1899        1895   \n",
       "2        1      1087839             7         1609         1883        1883   \n",
       "3        1      1087846             9         1367         1894        1879   \n",
       "4        1      1100582            10           12         1896        1896   \n",
       "5        1      1100676            11         1408         1896        1879   \n",
       "6        1      1100694            12           10         1896        1896   \n",
       "7        1      1100810            13          522         1896        1845   \n",
       "8        1      1100810            13         1642         1896        1883   \n",
       "9        1      1206937            17         2276         1895        1893   \n",
       "10       1      1206937            17         2369         1895        1894   \n",
       "11       1      1206937            17         2437         1895        1895   \n",
       "12       1      1303460            26          136         1794        1794   \n",
       "13       1      1320090            29          930         1898        1870   \n",
       "14       1      1434315            36          696         1890        1856   \n",
       "15       1      1434315            36         1557         1890        1882   \n",
       "16       1      1446533            37           39         1897        1867   \n",
       "17       1      1446533            37         2577         1897        1897   \n",
       "18       1      1694361            41         2541         1896        1896   \n",
       "19       1      1765367            46           47         1851        1851   \n",
       "20       1      1783525            47           46         1851        1851   \n",
       "21       1      2009288            50         2256         1892        1892   \n",
       "22       1      2381718            66          122         1782        1782   \n",
       "23       1      2409992            76         1798         1886        1886   \n",
       "24       1      2445445            78         2485         1895        1895   \n",
       "25       1      2466108            79         2051         1889        1889   \n",
       "26       1      2466244            80         2054         1888        1888   \n",
       "27       1      2485322            83         1441         1881        1880   \n",
       "28       1      2485322            83         1454         1881        1880   \n",
       "29       1      2499096            87         2006         1898        1888   \n",
       "...    ...          ...           ...          ...          ...         ...   \n",
       "3254     0        91903          1894          297         1887        1822   \n",
       "3255     0      1087745             6         2030         1897        1889   \n",
       "3256     0        94875          2632          685         1898        1856   \n",
       "3257     0        94215          2460          586         1895        1851   \n",
       "3258     0        93777          2345         1779         1894        1885   \n",
       "3259     0        89744          1328          205         1878        1812   \n",
       "3260     0        89377          1228          430         1876        1834   \n",
       "3261     0        92131          1956          469         1888        1839   \n",
       "3262     0        94336          2493         1700         1896        1884   \n",
       "3263     0        95123          2686         1680         1899        1884   \n",
       "3264     0        94438          2523         2056         1896        1889   \n",
       "3265     0        91375          1755         1541         1885        1882   \n",
       "3266     0      2620813            99          223         1829        1814   \n",
       "3267     0        91335          1741          736         1885        1859   \n",
       "3268     0        93591          2296         1931         1893        1887   \n",
       "3269     0        88733          1067          170         1873        1807   \n",
       "3270     0        94481          2535         1214         1896        1876   \n",
       "3271     0        91683          1836         1758         1886        1885   \n",
       "3272     0        88642          1047          859         1873        1867   \n",
       "3273     0        92165          1966         1149         1888        1875   \n",
       "3274     0        86442           546          435         1848        1835   \n",
       "3275     0        92439          2031          463         1889        1839   \n",
       "3276     0        94987          2657          718         1899        1858   \n",
       "3277     0        91176          1704          181         1884        1809   \n",
       "3278     0        87946           889          129         1868        1790   \n",
       "3279     0        91364          1750         1137         1885        1875   \n",
       "3280     0        94841          2623          155         1898        1803   \n",
       "3281     0        92246          1984         1044         1888        1873   \n",
       "3282     0        91803          1865         1468         1887        1880   \n",
       "3283     0        94556          2553           76         1896        1886   \n",
       "\n",
       "      indegree  pagerank  indegree_attachment_p  pagerank_attachment_p  \n",
       "0            5  0.001227               0.988421               0.500049  \n",
       "1            1  0.000491               0.394415               0.499995  \n",
       "2            5  0.001822               0.988421               0.500092  \n",
       "3            2  0.000567               0.687859               0.500001  \n",
       "4            1  0.001771               0.394415               0.500089  \n",
       "5            1  0.000491               0.394415               0.499995  \n",
       "6            1  0.001771               0.394415               0.500089  \n",
       "7            2  0.001484               0.687859               0.500068  \n",
       "8            5  0.001301               0.988421               0.500054  \n",
       "9            2  0.000476               0.687859               0.499994  \n",
       "10           3  0.000551               0.881744               0.500000  \n",
       "11           1  0.000371               0.394415               0.499987  \n",
       "12           1  0.001771               0.394415               0.500089  \n",
       "13           5  0.001165               0.988421               0.500044  \n",
       "14           2  0.000436               0.687859               0.499991  \n",
       "15           3  0.000771               0.881744               0.500016  \n",
       "16           1  0.000378               0.394415               0.499987  \n",
       "17           2  0.000454               0.687859               0.499993  \n",
       "18           1  0.001771               0.394415               0.500089  \n",
       "19           1  0.001771               0.394415               0.500089  \n",
       "20           1  0.001771               0.394415               0.500089  \n",
       "21           2  0.000516               0.687859               0.499997  \n",
       "22           1  0.000491               0.394415               0.499995  \n",
       "23           1  0.002462               0.394415               0.500139  \n",
       "24           1  0.000491               0.394415               0.499995  \n",
       "25           1  0.000769               0.394415               0.500016  \n",
       "26           1  0.001771               0.394415               0.500089  \n",
       "27           3  0.000968               0.881744               0.500030  \n",
       "28           1  0.000474               0.394415               0.499994  \n",
       "29           2  0.000700               0.687859               0.500011  \n",
       "...        ...       ...                    ...                    ...  \n",
       "3254         3  0.000835               0.881744               0.500020  \n",
       "3255         1  0.000491               0.394415               0.499995  \n",
       "3256         1  0.000338               0.394415               0.499984  \n",
       "3257         2  0.000810               0.687859               0.500019  \n",
       "3258         3  0.000611               0.881744               0.500004  \n",
       "3259         0  0.000266               0.161418               0.499979  \n",
       "3260         0  0.000266               0.161418               0.499979  \n",
       "3261         2  0.000575               0.687859               0.500001  \n",
       "3262         0  0.000266               0.161418               0.499979  \n",
       "3263         0  0.000266               0.161418               0.499979  \n",
       "3264         1  0.000312               0.394415               0.499982  \n",
       "3265         0  0.000266               0.161418               0.499979  \n",
       "3266         0  0.000266               0.161418               0.499979  \n",
       "3267         0  0.000266               0.161418               0.499979  \n",
       "3268         0  0.000266               0.161418               0.499979  \n",
       "3269         0  0.000266               0.161418               0.499979  \n",
       "3270         4  0.001103               0.961874               0.500040  \n",
       "3271         0  0.000266               0.161418               0.499979  \n",
       "3272         4  0.001081               0.961874               0.500038  \n",
       "3273         0  0.000266               0.161418               0.499979  \n",
       "3274         0  0.000266               0.161418               0.499979  \n",
       "3275         0  0.000266               0.161418               0.499979  \n",
       "3276         1  0.000311               0.394415               0.499982  \n",
       "3277         0  0.000266               0.161418               0.499979  \n",
       "3278         0  0.000266               0.161418               0.499979  \n",
       "3279         0  0.000266               0.161418               0.499979  \n",
       "3280         0  0.000266               0.161418               0.499979  \n",
       "3281         1  0.000677               0.394415               0.500009  \n",
       "3282         3  0.000622               0.881744               0.500005  \n",
       "3283         2  0.002584               0.687859               0.500148  \n",
       "\n",
       "[3284 rows x 10 columns]"
      ]
     },
     "execution_count": 18,
     "metadata": {},
     "output_type": "execute_result"
    }
   ],
   "source": [
    "df_dict_final[1900]"
   ]
  },
  {
   "cell_type": "markdown",
   "metadata": {},
   "source": [
    "# Score-Rank"
   ]
  },
  {
   "cell_type": "code",
   "execution_count": 59,
   "metadata": {
    "collapsed": false,
    "scrolled": true
   },
   "outputs": [
    {
     "data": {
      "text/plain": [
       "       edge  citing_name  citing_index  cited_index  citing_year  cited_year  \\\n",
       "0         1       107318          1704         1694         1966        1966   \n",
       "1         1       107342          1714         1694         1966        1966   \n",
       "2         1       107650          1778         1694         1968        1966   \n",
       "3         1       107900          1843         1694         1969        1966   \n",
       "4         1       107913          1848         1694         1969        1966   \n",
       "5         1       107949          1856         1694         1969        1966   \n",
       "6         1       107952          1859         1694         1969        1966   \n",
       "7         1       108139          1900         1694         1970        1966   \n",
       "8         1       108231          1920         1694         1971        1966   \n",
       "9         1       108302          1939         1694         1971        1966   \n",
       "10        1       108419          1964         1694         1971        1966   \n",
       "11        1       108515          1986         1694         1972        1966   \n",
       "12        1       108516          1987         1694         1972        1966   \n",
       "13        1       108538          1992         1694         1972        1966   \n",
       "14        1       108541          1994         1694         1972        1966   \n",
       "15        1       108581          2004         1694         1972        1966   \n",
       "16        1       108590          2007         1694         1972        1966   \n",
       "17        1       108687          2030         1694         1972        1966   \n",
       "18        1       108794          2128         1694         1973        1966   \n",
       "19        1       108949          2183         1694         1973        1966   \n",
       "20        1       108997          2194         1694         1974        1966   \n",
       "21        1       109096          2224         1694         1974        1966   \n",
       "22        1       109130          2235         1694         1975        1966   \n",
       "23        1       109207          2248         1694         1975        1966   \n",
       "24        1       109336          2279         1694         1975        1966   \n",
       "25        1       109400          2299         1694         1976        1966   \n",
       "26        1       109430          2305         1694         1976        1966   \n",
       "27        1       109545          2330         1694         1976        1966   \n",
       "28        1       109554          2334         1694         1976        1966   \n",
       "29        1       109659          2364         1694         1977        1966   \n",
       "...     ...          ...           ...          ...          ...         ...   \n",
       "29756     0       108848          2167         2109         1973        1907   \n",
       "29757     0       109820          2405         4305         1978        1780   \n",
       "29758     0        95336          7201         5924         1900        1881   \n",
       "29759     0       142701          3951         4983         2005        1846   \n",
       "29760     0       111833          2890         2111         1987        1894   \n",
       "29761     0       118212          3361         5674         1998        1876   \n",
       "29762     0       107857          1834         7604         1969        1908   \n",
       "29763     0      3217528          4519         6328         2016        1887   \n",
       "29764     0       130627          3681         5140         2003        1856   \n",
       "29765     0        92138          6415         5799         1888        1878   \n",
       "29766     0        96093          7400         4773         1904        1827   \n",
       "29767     0       101439           359          221         1929        1926   \n",
       "29768     0        99966          8305         5252         1922        1864   \n",
       "29769     0        99026          8095         6310         1917        1886   \n",
       "29770     0       105511          1323         6517         1957        1889   \n",
       "29771     0        98342          7925         4778         1915        1827   \n",
       "29772     0       112077          2961         5556         1988        1874   \n",
       "29773     0       121595          3529         6239         2002        1885   \n",
       "29774     0       143080          3981         6183         2005        1885   \n",
       "29775     0       145648          4082         6187         2006        1885   \n",
       "29776     0       110074          2462         3719         1979        1836   \n",
       "29777     0       145683          4090         3960         2006        2005   \n",
       "29778     0       112236          3008         7859         1989        1914   \n",
       "29779     0       118439          3421         6727         2001        1893   \n",
       "29780     0        90750          6055         5185         1883        1859   \n",
       "29781     0        97915          7814         6846         1913        1864   \n",
       "29782     0       122280          3567         2477         2002        1818   \n",
       "29783     0       107172          1673         6322         1966        1887   \n",
       "29784     0       120972          3497         6321         2002        1887   \n",
       "29785     0       145825          4132         7618         2008        1909   \n",
       "\n",
       "       indegree  pagerank  indegree_attachment_p  pagerank_attachment_p  \n",
       "0            70  0.001926               1.000000               0.500630  \n",
       "1            70  0.001926               1.000000               0.500630  \n",
       "2            70  0.001926               1.000000               0.500630  \n",
       "3            70  0.001926               1.000000               0.500630  \n",
       "4            70  0.001926               1.000000               0.500630  \n",
       "5            70  0.001926               1.000000               0.500630  \n",
       "6            70  0.001926               1.000000               0.500630  \n",
       "7            70  0.001926               1.000000               0.500630  \n",
       "8            70  0.001926               1.000000               0.500630  \n",
       "9            70  0.001926               1.000000               0.500630  \n",
       "10           70  0.001926               1.000000               0.500630  \n",
       "11           70  0.001926               1.000000               0.500630  \n",
       "12           70  0.001926               1.000000               0.500630  \n",
       "13           70  0.001926               1.000000               0.500630  \n",
       "14           70  0.001926               1.000000               0.500630  \n",
       "15           70  0.001926               1.000000               0.500630  \n",
       "16           70  0.001926               1.000000               0.500630  \n",
       "17           70  0.001926               1.000000               0.500630  \n",
       "18           70  0.001926               1.000000               0.500630  \n",
       "19           70  0.001926               1.000000               0.500630  \n",
       "20           70  0.001926               1.000000               0.500630  \n",
       "21           70  0.001926               1.000000               0.500630  \n",
       "22           70  0.001926               1.000000               0.500630  \n",
       "23           70  0.001926               1.000000               0.500630  \n",
       "24           70  0.001926               1.000000               0.500630  \n",
       "25           70  0.001926               1.000000               0.500630  \n",
       "26           70  0.001926               1.000000               0.500630  \n",
       "27           70  0.001926               1.000000               0.500630  \n",
       "28           70  0.001926               1.000000               0.500630  \n",
       "29           70  0.001926               1.000000               0.500630  \n",
       "...         ...       ...                    ...                    ...  \n",
       "29756         0  0.000058               0.215378               0.499936  \n",
       "29757         0  0.000058               0.215378               0.499936  \n",
       "29758         0  0.000058               0.215378               0.499936  \n",
       "29759         0  0.000058               0.215378               0.499936  \n",
       "29760         0  0.000058               0.215378               0.499936  \n",
       "29761         0  0.000058               0.215378               0.499936  \n",
       "29762         0  0.000058               0.215378               0.499936  \n",
       "29763         0  0.000058               0.215378               0.499936  \n",
       "29764         0  0.000058               0.215378               0.499936  \n",
       "29765         0  0.000058               0.215378               0.499936  \n",
       "29766         0  0.000058               0.215378               0.499936  \n",
       "29767         0  0.000058               0.215378               0.499936  \n",
       "29768         0  0.000058               0.215378               0.499936  \n",
       "29769         0  0.000058               0.215378               0.499936  \n",
       "29770         0  0.000058               0.215378               0.499936  \n",
       "29771         0  0.000058               0.215378               0.499936  \n",
       "29772         0  0.000058               0.215378               0.499936  \n",
       "29773         0  0.000058               0.215378               0.499936  \n",
       "29774         0  0.000058               0.215378               0.499936  \n",
       "29775         0  0.000058               0.215378               0.499936  \n",
       "29776         0  0.000058               0.215378               0.499936  \n",
       "29777         0  0.000058               0.215378               0.499936  \n",
       "29778         0  0.000058               0.215378               0.499936  \n",
       "29779         0  0.000058               0.215378               0.499936  \n",
       "29780         0  0.000058               0.215378               0.499936  \n",
       "29781         0  0.000058               0.215378               0.499936  \n",
       "29782         0  0.000058               0.215378               0.499936  \n",
       "29783         0  0.000058               0.215378               0.499936  \n",
       "29784         0  0.000058               0.215378               0.499936  \n",
       "29785         0  0.000058               0.215378               0.499936  \n",
       "\n",
       "[29786 rows x 10 columns]"
      ]
     },
     "execution_count": 59,
     "metadata": {},
     "output_type": "execute_result"
    }
   ],
   "source": [
    "for i in scotus_decades:\n",
    "    df_dict_final[i] = df_dict_final[i].sort_values('indegree', ascending=False, kind='mergesort').reset_index(drop=True)\n",
    "\n",
    "df_dict_final[2020]\n",
    "# pagerank attachment probability ranges between 0.49 and 0.51 (weird)\n",
    "# indegree has attachment probability 1 for indeg=70 (repeating ones because they're all the same cited index)\n",
    "# make the cited vertices unique (so there's only one row that matches each indegree/PR/indeg P/PR P)"
   ]
  },
  {
   "cell_type": "code",
   "execution_count": 62,
   "metadata": {
    "collapsed": false
   },
   "outputs": [
    {
     "name": "stdout",
     "output_type": "stream",
     "text": [
      "1922\n",
      "1930\n"
     ]
    },
    {
     "ename": "IndexError",
     "evalue": "list index out of range",
     "output_type": "error",
     "traceback": [
      "\u001b[1;31m---------------------------------------------------------------------------\u001b[0m",
      "\u001b[1;31mIndexError\u001b[0m                                Traceback (most recent call last)",
      "\u001b[1;32m<ipython-input-62-f4d5049cb079>\u001b[0m in \u001b[0;36m<module>\u001b[1;34m()\u001b[0m\n\u001b[0;32m     13\u001b[0m \u001b[1;33m\u001b[0m\u001b[0m\n\u001b[0;32m     14\u001b[0m \u001b[1;33m\u001b[0m\u001b[0m\n\u001b[1;32m---> 15\u001b[1;33m \u001b[0mcase_index\u001b[0m \u001b[1;33m=\u001b[0m \u001b[0mdecade_sub_df\u001b[0m\u001b[1;33m.\u001b[0m\u001b[0miloc\u001b[0m\u001b[1;33m[\u001b[0m\u001b[0mrow_index\u001b[0m\u001b[1;33m[\u001b[0m\u001b[1;36m0\u001b[0m\u001b[1;33m]\u001b[0m\u001b[1;33m]\u001b[0m\u001b[1;33m[\u001b[0m\u001b[1;34m'citing_index'\u001b[0m\u001b[1;33m]\u001b[0m\u001b[1;33m\u001b[0m\u001b[0m\n\u001b[0m\u001b[0;32m     16\u001b[0m \u001b[1;31m#neighbors = decade_sub_G.neighbors(case_index, mode='OUT')\u001b[0m\u001b[1;33m\u001b[0m\u001b[1;33m\u001b[0m\u001b[0m\n\u001b[0;32m     17\u001b[0m \u001b[0mcase_index\u001b[0m\u001b[1;33m\u001b[0m\u001b[0m\n",
      "\u001b[1;31mIndexError\u001b[0m: list index out of range"
     ]
    }
   ],
   "source": [
    "vertex_name = G_2.vs(0)['name'][0]\n",
    "vertex_year = G_2.vs(0)['year'][0]\n",
    "print vertex_year\n",
    "decade = vertex_year + (10-vertex_year%10)\n",
    "print decade\n",
    "decade_sub_G = dict_decades_subgraphs[decade]\n",
    "decade_sub_df = df_dict_final[decade]\n",
    "\n",
    "row_index = decade_sub_df[decade_sub_df['citing_name'] == vertex_name].index.tolist()\n",
    "if decade >= 1800 and len(row_index) != 0:\n",
    "    case_index = decade_sub_df.iloc[row_index[0]]['citing_index']\n",
    "    neighbors = decade_sub_G.neighbors(case_index, mode='OUT')\n",
    "    \n",
    "    \n",
    "case_index = decade_sub_df.iloc[row_index[0]]['citing_index']\n",
    "#neighbors = decade_sub_G.neighbors(case_index, mode='OUT')\n",
    "case_index"
   ]
  },
  {
   "cell_type": "code",
   "execution_count": 63,
   "metadata": {
    "collapsed": false
   },
   "outputs": [
    {
     "name": "stdout",
     "output_type": "stream",
     "text": [
      "[]\n"
     ]
    }
   ],
   "source": [
    "print G_2.neighbors(0, mode='OUT')"
   ]
  },
  {
   "cell_type": "markdown",
   "metadata": {},
   "source": [
    "# Below is experimental code"
   ]
  },
  {
   "cell_type": "code",
   "execution_count": null,
   "metadata": {
    "collapsed": true
   },
   "outputs": [],
   "source": [
    "def make_random_subset_df(df):\n",
    "    time1 = time.time()\n",
    "    df1 = df[df['edge'] == 1]\n",
    "    df0 = df[df['edge'] == 0]\n",
    "    frac_val = len(df1)/len(df0)\n",
    "    df0_random_subset = df0.sample(frac=frac_val, replace=False)\n",
    "    \n",
    "    df_subset = df1.append(df0_random_subset, ignore_index=True)\n",
    "    \n",
    "    time2 = time.time()\n",
    "    print \"This took \" + str(time2-time1) + \" seconds\"\n",
    "    return df_subset"
   ]
  },
  {
   "cell_type": "code",
   "execution_count": null,
   "metadata": {
    "collapsed": false
   },
   "outputs": [],
   "source": [
    "def add_cited_indegree(df, G):\n",
    "    time1 = time.time()\n",
    "    igraph_indices = df['cited_index']\n",
    "    indegree = G.indegree()\n",
    "    new_column = []\n",
    "    for i in range(0,len(igraph_indices)):\n",
    "        new_column.append(indegree[igraph_indices[i]])\n",
    "    df['cited_indegree'] = new_column\n",
    "    time2 = time.time()\n",
    "    print \"This took \" + str(time2-time1) + \" seconds\"\n",
    "    return df"
   ]
  },
  {
   "cell_type": "code",
   "execution_count": null,
   "metadata": {
    "collapsed": true
   },
   "outputs": [],
   "source": [
    "def add_cited_pagerank(df, G):\n",
    "    time1 = time.time()\n",
    "    igraph_indices = df['cited index']\n",
    "    pagerank = G.pagerank()\n",
    "    new_column = []\n",
    "    for i in range(0,len(igraph_indices)):\n",
    "        new_column.append(pagerank[igraph_indices[i]])\n",
    "    df['pagerank'] = new_column\n",
    "    time2 = time.time()\n",
    "    print \"This took \" + str(time2-time1) + \" seconds\"\n",
    "    return df"
   ]
  },
  {
   "cell_type": "code",
   "execution_count": null,
   "metadata": {
    "collapsed": false
   },
   "outputs": [],
   "source": [
    "new_df = make_random_subset_df(df)"
   ]
  },
  {
   "cell_type": "code",
   "execution_count": null,
   "metadata": {
    "collapsed": false,
    "scrolled": true
   },
   "outputs": [],
   "source": [
    "print new_df"
   ]
  },
  {
   "cell_type": "code",
   "execution_count": null,
   "metadata": {
    "collapsed": false,
    "scrolled": true
   },
   "outputs": [],
   "source": [
    "new_df = add_cited_indegree(new_df, G)\n",
    "print new_df"
   ]
  },
  {
   "cell_type": "code",
   "execution_count": null,
   "metadata": {
    "collapsed": true
   },
   "outputs": [],
   "source": [
    "import sklearn.linear_model as skl_lm\n",
    "from sklearn.discriminant_analysis import LinearDiscriminantAnalysis\n",
    "from sklearn.discriminant_analysis import QuadraticDiscriminantAnalysis\n",
    "from sklearn.metrics import confusion_matrix, classification_report, precision_score, log_loss\n",
    "from sklearn import preprocessing\n",
    "from sklearn import neighbors\n",
    "\n",
    "import statsmodels.api as sm\n",
    "import statsmodels.formula.api as smf"
   ]
  },
  {
   "cell_type": "code",
   "execution_count": null,
   "metadata": {
    "collapsed": false
   },
   "outputs": [],
   "source": [
    "time1 = time.time()\n",
    "#set up training data\n",
    "y_train = new_df['edge']\n",
    "x_train = new_df[['cited_indegree']]\n",
    "\n",
    "#calculate logistical regression\n",
    "clf = skl_lm.LogisticRegression(solver='newton-cg')\n",
    "clf.fit(x_train, y_train)\n",
    "\n",
    "print 'classes: ',clf.classes_\n",
    "print 'coefficients: ',clf.coef_\n",
    "print 'intercept :', clf.intercept_\n",
    "time2 = time.time()\n",
    "print \"this took \" + str(time2-time1) + \" seconds\"\n",
    "\n",
    "time1 = time.time()\n",
    "# Matrix, where column = probability for no edge (0), probability for edge (1)--reference: clf.classes_\n",
    "prob = clf.predict_proba(x_train)\n",
    "\n",
    "# predicted probabilities for ALL case for edge present (1)\n",
    "prob_edge = prob[:,1:2]\n",
    "# convert to list\n",
    "prob_edge = [i.tolist()[0] for i in prob_edge]\n"
   ]
  },
  {
   "cell_type": "code",
   "execution_count": null,
   "metadata": {
    "collapsed": false,
    "scrolled": true
   },
   "outputs": [],
   "source": [
    "index_prob = zip(new_df['cited_index'],prob_edge)\n",
    "\n",
    "cited_indexes = []\n",
    "attachment_probs = []\n",
    "for cited_tuple in index_prob:\n",
    "    if cited_tuple[0] not in cited_indexes:\n",
    "        cited_indexes.append(cited_tuple[0])\n",
    "        attachment_probs.append(cited_tuple[1])\n",
    "\n",
    "index_prob_unique = zip(cited_indexes, attachment_probs)\n",
    "\n",
    "print len(index_prob)\n",
    "print len(index_prob_unique)"
   ]
  },
  {
   "cell_type": "code",
   "execution_count": null,
   "metadata": {
    "collapsed": false
   },
   "outputs": [],
   "source": [
    "index_indegree = zip(new_df['cited_index'],new_df['cited_indegree'])\n",
    "\n",
    "cited_indexes = []\n",
    "indegrees = []\n",
    "for cited_tuple in index_indegree:\n",
    "    if cited_tuple[0] not in cited_indexes:\n",
    "        cited_indexes.append(cited_tuple[0])\n",
    "        indegrees.append(cited_tuple[1])\n",
    "\n",
    "index_indegree_unique = zip(cited_indexes, indegrees)\n",
    "\n",
    "print len(index_indegree)\n",
    "print len(index_indegree_unique)"
   ]
  },
  {
   "cell_type": "code",
   "execution_count": null,
   "metadata": {
    "collapsed": false
   },
   "outputs": [],
   "source": [
    "rank_diff = 0\n",
    "sorted_by_prob = sorted(index_prob_unique, key=lambda tup: tup[1], reverse=True)\n",
    "sorted_by_indegree = sorted(index_indegree_unique, key=lambda tup: tup[1], reverse=True)\n",
    "for i in range(0,len(sorted_by_prob)):\n",
    "    rank_diff += abs(sorted_by_prob[i][0]-sorted_by_indegree[i][0])\n",
    "print rank_diff"
   ]
  },
  {
   "cell_type": "code",
   "execution_count": null,
   "metadata": {
    "collapsed": true
   },
   "outputs": [],
   "source": [
    "a = [1,2,3,4]"
   ]
  },
  {
   "cell_type": "code",
   "execution_count": null,
   "metadata": {
    "collapsed": false
   },
   "outputs": [],
   "source": [
    "a = (1,2,3)"
   ]
  },
  {
   "cell_type": "code",
   "execution_count": null,
   "metadata": {
    "collapsed": false
   },
   "outputs": [],
   "source": [
    "a[0]"
   ]
  },
  {
   "cell_type": "code",
   "execution_count": null,
   "metadata": {
    "collapsed": true
   },
   "outputs": [],
   "source": []
  }
 ],
 "metadata": {
  "anaconda-cloud": {},
  "kernelspec": {
   "display_name": "Python [Root]",
   "language": "python",
   "name": "Python [Root]"
  },
  "language_info": {
   "codemirror_mode": {
    "name": "ipython",
    "version": 2
   },
   "file_extension": ".py",
   "mimetype": "text/x-python",
   "name": "python",
   "nbconvert_exporter": "python",
   "pygments_lexer": "ipython2",
   "version": "2.7.11"
  }
 },
 "nbformat": 4,
 "nbformat_minor": 0
}
