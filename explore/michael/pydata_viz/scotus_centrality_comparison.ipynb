{
 "cells": [
  {
   "cell_type": "code",
   "execution_count": 1,
   "metadata": {
    "collapsed": false
   },
   "outputs": [],
   "source": [
    "import sys\n",
    "sys.path.append('../../../code/')\n",
    "sys.path.append('../../../code/michael')\n",
    "import os\n",
    "import json\n",
    "from datetime import datetime\n",
    "import time\n",
    "from pipeline.download_data import url_to_dict\n",
    "\n",
    "import numpy as np\n",
    "import pandas as pd\n",
    "import matplotlib.pyplot as plt\n",
    "import scipy.stats as stats\n",
    "\n",
    "import networkx as nx\n",
    "from load_data import load_citation_network, case_info\n",
    "import operator\n",
    "import scotus_viz_functions_michael as viz\n",
    "\n",
    "from collections import OrderedDict\n",
    "\n",
    "\n",
    "%load_ext autoreload\n",
    "%autoreload 2\n",
    "%matplotlib inline\n",
    "\n",
    "data_dir = '../../../data/'\n",
    "court_name = 'scotus'\n",
    "\n",
    "# assign/make 'scotus_visualizations/michael' directory to save files in\n",
    "proj_cwd = os.path.dirname(os.path.dirname(os.path.dirname(os.getcwd())))\n",
    "viz_dir = os.path.join(proj_cwd, 'visualization')\n",
    "if not os.path.exists(viz_dir):\n",
    "    os.makedirs(viz_dir)\n",
    "viz_scotus_dir = os.path.join(viz_dir, 'scotus')\n",
    "if not os.path.exists(viz_scotus_dir):\n",
    "    os.makedirs(viz_scotus_dir)\n",
    "viz_scotus_michael_dir = os.path.join(viz_scotus_dir, 'michael')\n",
    "if not os.path.exists(viz_scotus_michael_dir):\n",
    "    os.makedirs(viz_scotus_michael_dir)\n",
    "    \n",
    "csvs_dir = os.getcwd() + '/csvs'"
   ]
  },
  {
   "cell_type": "markdown",
   "metadata": {},
   "source": [
    "### Create SCOTUS Network (Directed Graph)"
   ]
  },
  {
   "cell_type": "code",
   "execution_count": 2,
   "metadata": {
    "collapsed": false
   },
   "outputs": [
    {
     "name": "stdout",
     "output_type": "stream",
     "text": [
      "loading scotus network in networkx took 39 seconds\n",
      "loaded scotus network with 33248 cases and 250465 edges\n"
     ]
    }
   ],
   "source": [
    "# this will be a little slow the first time you run it\n",
    "\n",
    "time1 = time.time()\n",
    "G = load_citation_network(data_dir, court_name)\n",
    "time2 = time.time()\n",
    "\n",
    "print 'loading scotus network in networkx took %d seconds' % (time2-time1)\n",
    "print 'loaded %s network with %d cases and %d edges' % (court_name, len(G.nodes()), len(G.edges()))"
   ]
  },
  {
   "cell_type": "markdown",
   "metadata": {},
   "source": [
    "### U = Undirected SCOTUS"
   ]
  },
  {
   "cell_type": "code",
   "execution_count": 3,
   "metadata": {
    "collapsed": true
   },
   "outputs": [],
   "source": [
    "U = G.to_undirected()"
   ]
  },
  {
   "cell_type": "markdown",
   "metadata": {},
   "source": [
    "### Acquire Dictionaries for Centrality Measures of SCOTUS"
   ]
  },
  {
   "cell_type": "code",
   "execution_count": 4,
   "metadata": {
    "collapsed": false
   },
   "outputs": [
    {
     "name": "stdout",
     "output_type": "stream",
     "text": [
      "closeness centrality took 5385 seconds to compute on 33248 nodes and 249878 edges\n",
      "eigenvector centrality took 21 seconds to compute on 33248 nodes and 249878 edges\n",
      "betweenness centrality took 22205 seconds to compute on 33248 nodes and 249878 edges\n",
      "page rank took 4 seconds to compute on 33248 nodes and 250465 edges\n",
      "hubs and authorities took 33 seconds to compute on 33248 nodes and 250465 edges\n"
     ]
    }
   ],
   "source": [
    "time1 = time.time()\n",
    "close_cent_dict = nx.closeness_centrality(U) ## according to intuition, graph results, and numerous outside resources\n",
    "time2  = time.time()\n",
    "print 'closeness centrality took %d seconds to compute on %d nodes and %d edges' % (time2-time1, U.number_of_nodes(), U.number_of_edges())\n",
    "eigen_cent_dict = nx.eigenvector_centrality(U) ## according to networkx\n",
    "time3 = time.time()\n",
    "print 'eigenvector centrality took %d seconds to compute on %d nodes and %d edges' % (time3-time2, U.number_of_nodes(), U.number_of_edges())\n",
    "between_cent_dict = nx.betweenness_centrality(U) ## both directed and undirected and ok (both have normalization for networkx)\n",
    "time4 = time.time()\n",
    "print 'betweenness centrality took %d seconds to compute on %d nodes and %d edges' % (time4-time3, U.number_of_nodes(), U.number_of_edges())\n",
    "page_rank_dict = nx.pagerank(G) ## according to networkx\n",
    "time5 = time.time()\n",
    "print 'page rank took %d seconds to compute on %d nodes and %d edges' % (time5-time4, G.number_of_nodes(), G.number_of_edges())\n",
    "hubs_auths_dict = nx.hits(G) ## according to networkx\n",
    "time6 = time.time()\n",
    "print 'hubs and authorities took %d seconds to compute on %d nodes and %d edges' % (time6-time5, G.number_of_nodes(), G.number_of_edges())\n"
   ]
  },
  {
   "cell_type": "markdown",
   "metadata": {},
   "source": [
    "### Compare Top 10 Cases for Centrality Measures of SCOTUS"
   ]
  },
  {
   "cell_type": "code",
   "execution_count": 5,
   "metadata": {
    "collapsed": false
   },
   "outputs": [
    {
     "data": {
      "text/html": [
       "<div>\n",
       "<table border=\"1\" class=\"dataframe\">\n",
       "  <thead>\n",
       "    <tr style=\"text-align: right;\">\n",
       "      <th></th>\n",
       "      <th>In-Degree</th>\n",
       "      <th>Out-Degree</th>\n",
       "      <th>Closeness Centrality</th>\n",
       "      <th>Eigenvector Centrality</th>\n",
       "      <th>Betweenness Centrality</th>\n",
       "      <th>Page Rank</th>\n",
       "      <th>Hubs</th>\n",
       "      <th>Authorities</th>\n",
       "    </tr>\n",
       "  </thead>\n",
       "  <tbody>\n",
       "    <tr>\n",
       "      <th>Rank 1</th>\n",
       "      <td>96405</td>\n",
       "      <td>105210</td>\n",
       "      <td>102605</td>\n",
       "      <td>106514</td>\n",
       "      <td>96405</td>\n",
       "      <td>85131</td>\n",
       "      <td>108611</td>\n",
       "      <td>103355</td>\n",
       "    </tr>\n",
       "    <tr>\n",
       "      <th>Rank 2</th>\n",
       "      <td>109532</td>\n",
       "      <td>104616</td>\n",
       "      <td>103012</td>\n",
       "      <td>103355</td>\n",
       "      <td>103012</td>\n",
       "      <td>91573</td>\n",
       "      <td>107082</td>\n",
       "      <td>106514</td>\n",
       "    </tr>\n",
       "    <tr>\n",
       "      <th>Rank 3</th>\n",
       "      <td>107252</td>\n",
       "      <td>106366</td>\n",
       "      <td>101864</td>\n",
       "      <td>109380</td>\n",
       "      <td>101864</td>\n",
       "      <td>85534</td>\n",
       "      <td>109380</td>\n",
       "      <td>103243</td>\n",
       "    </tr>\n",
       "    <tr>\n",
       "      <th>Rank 4</th>\n",
       "      <td>91573</td>\n",
       "      <td>102224</td>\n",
       "      <td>106366</td>\n",
       "      <td>106761</td>\n",
       "      <td>102605</td>\n",
       "      <td>88661</td>\n",
       "      <td>106267</td>\n",
       "      <td>106761</td>\n",
       "    </tr>\n",
       "    <tr>\n",
       "      <th>Rank 5</th>\n",
       "      <td>106545</td>\n",
       "      <td>108329</td>\n",
       "      <td>96405</td>\n",
       "      <td>103243</td>\n",
       "      <td>106366</td>\n",
       "      <td>85160</td>\n",
       "      <td>108839</td>\n",
       "      <td>103347</td>\n",
       "    </tr>\n",
       "    <tr>\n",
       "      <th>Rank 6</th>\n",
       "      <td>111221</td>\n",
       "      <td>101864</td>\n",
       "      <td>101894</td>\n",
       "      <td>107082</td>\n",
       "      <td>101894</td>\n",
       "      <td>89675</td>\n",
       "      <td>108798</td>\n",
       "      <td>105746</td>\n",
       "    </tr>\n",
       "    <tr>\n",
       "      <th>Rank 7</th>\n",
       "      <td>102605</td>\n",
       "      <td>106267</td>\n",
       "      <td>85330</td>\n",
       "      <td>103347</td>\n",
       "      <td>106447</td>\n",
       "      <td>98094</td>\n",
       "      <td>109505</td>\n",
       "      <td>105751</td>\n",
       "    </tr>\n",
       "    <tr>\n",
       "      <th>Rank 8</th>\n",
       "      <td>103012</td>\n",
       "      <td>106548</td>\n",
       "      <td>106170</td>\n",
       "      <td>105751</td>\n",
       "      <td>104616</td>\n",
       "      <td>88804</td>\n",
       "      <td>109836</td>\n",
       "      <td>102991</td>\n",
       "    </tr>\n",
       "    <tr>\n",
       "      <th>Rank 9</th>\n",
       "      <td>103355</td>\n",
       "      <td>97966</td>\n",
       "      <td>106447</td>\n",
       "      <td>105746</td>\n",
       "      <td>106545</td>\n",
       "      <td>85330</td>\n",
       "      <td>149702</td>\n",
       "      <td>103870</td>\n",
       "    </tr>\n",
       "    <tr>\n",
       "      <th>Rank 10</th>\n",
       "      <td>106761</td>\n",
       "      <td>108221</td>\n",
       "      <td>103950</td>\n",
       "      <td>106142</td>\n",
       "      <td>106548</td>\n",
       "      <td>87010</td>\n",
       "      <td>108329</td>\n",
       "      <td>101097</td>\n",
       "    </tr>\n",
       "  </tbody>\n",
       "</table>\n",
       "</div>"
      ],
      "text/plain": [
       "         In-Degree  Out-Degree  Closeness Centrality  Eigenvector Centrality  \\\n",
       "Rank 1       96405      105210                102605                  106514   \n",
       "Rank 2      109532      104616                103012                  103355   \n",
       "Rank 3      107252      106366                101864                  109380   \n",
       "Rank 4       91573      102224                106366                  106761   \n",
       "Rank 5      106545      108329                 96405                  103243   \n",
       "Rank 6      111221      101864                101894                  107082   \n",
       "Rank 7      102605      106267                 85330                  103347   \n",
       "Rank 8      103012      106548                106170                  105751   \n",
       "Rank 9      103355       97966                106447                  105746   \n",
       "Rank 10     106761      108221                103950                  106142   \n",
       "\n",
       "         Betweenness Centrality  Page Rank    Hubs  Authorities  \n",
       "Rank 1                    96405      85131  108611       103355  \n",
       "Rank 2                   103012      91573  107082       106514  \n",
       "Rank 3                   101864      85534  109380       103243  \n",
       "Rank 4                   102605      88661  106267       106761  \n",
       "Rank 5                   106366      85160  108839       103347  \n",
       "Rank 6                   101894      89675  108798       105746  \n",
       "Rank 7                   106447      98094  109505       105751  \n",
       "Rank 8                   104616      88804  109836       102991  \n",
       "Rank 9                   106545      85330  149702       103870  \n",
       "Rank 10                  106548      87010  108329       101097  "
      ]
     },
     "execution_count": 5,
     "metadata": {},
     "output_type": "execute_result"
    }
   ],
   "source": [
    "ind = sorted(G.in_degree().iteritems(), key=operator.itemgetter(1), reverse=True)[:10]\n",
    "ind_cases = [x[0] for x in ind]\n",
    "\n",
    "outd = sorted(G.out_degree().iteritems(), key=operator.itemgetter(1), reverse=True)[:10]\n",
    "outd_cases = [x[0] for x in outd]\n",
    "\n",
    "ccd = sorted(close_cent_dict.iteritems(), key=operator.itemgetter(1), reverse=True)[:10]\n",
    "ccd_cases = [x[0] for x in ccd]\n",
    "\n",
    "ecd = sorted(eigen_cent_dict.iteritems(), key=operator.itemgetter(1), reverse=True)[:10]\n",
    "ecd_cases = [x[0] for x in ecd]\n",
    "\n",
    "bcd = sorted(between_cent_dict.iteritems(), key=operator.itemgetter(1), reverse=True)[:10]\n",
    "bcd_cases = [x[0] for x in bcd]\n",
    "\n",
    "prd = sorted(page_rank_dict.iteritems(), key=operator.itemgetter(1), reverse=True)[:10]\n",
    "prd_cases = [x[0] for x in prd]\n",
    "\n",
    "hd = sorted(hubs_auths_dict[0].iteritems(), key=operator.itemgetter(1), reverse=True)[:10]\n",
    "hd_cases = [x[0] for x in hd]\n",
    "\n",
    "ad = sorted(hubs_auths_dict[1].iteritems(), key=operator.itemgetter(1), reverse=True)[:10]\n",
    "ad_cases = [x[0] for x in ad]\n",
    "\n",
    "data = {'In-Degree': ind_cases,\n",
    "        'Out-Degree': outd_cases,\n",
    "        'Closeness Centrality': ccd_cases,\n",
    "        'Eigenvector Centrality': ecd_cases,\n",
    "        'Betweenness Centrality': bcd_cases,\n",
    "        'Page Rank': prd_cases,\n",
    "        'Hubs': hd_cases,\n",
    "        'Authorities': ad_cases\n",
    "       }\n",
    "df = pd.DataFrame(data, columns = ['In-Degree', 'Out-Degree', 'Closeness Centrality', 'Eigenvector Centrality',\n",
    "                                   'Betweenness Centrality', 'Page Rank', 'Hubs', 'Authorities'],\n",
    "                  index=['Rank 1', 'Rank 2', 'Rank 3', 'Rank 4', 'Rank 5', 'Rank 6', 'Rank 7', 'Rank 8', 'Rank 9', 'Rank 10']\n",
    "                 )\n",
    "\n",
    "df.to_csv(csvs_dir + '/scotus_centrality_comparison.csv')\n",
    "df"
   ]
  },
  {
   "cell_type": "markdown",
   "metadata": {
    "collapsed": true
   },
   "source": [
    "### Remove Case 96405 from G (To Account for Top 10 In/Out-DegreesList)"
   ]
  },
  {
   "cell_type": "code",
   "execution_count": 6,
   "metadata": {
    "collapsed": true
   },
   "outputs": [],
   "source": [
    "G.remove_node(96405)"
   ]
  },
  {
   "cell_type": "markdown",
   "metadata": {},
   "source": [
    "### Remove Case 96405 from Dictionaries of Centrality Measures"
   ]
  },
  {
   "cell_type": "code",
   "execution_count": 12,
   "metadata": {
    "collapsed": false
   },
   "outputs": [],
   "source": [
    "del close_cent_dict[96405]\n",
    "del eigen_cent_dict[96405]\n",
    "del between_cent_dict[96405]\n",
    "del page_rank_dict[96405]\n",
    "del hubs_auths_dict[0][96405]\n",
    "del hubs_auths_dict[1][96405]"
   ]
  },
  {
   "cell_type": "markdown",
   "metadata": {},
   "source": [
    "### Compare Top 10 Cases for Centrality Measures of SCOTUS without Case 96405"
   ]
  },
  {
   "cell_type": "code",
   "execution_count": 13,
   "metadata": {
    "collapsed": false,
    "scrolled": false
   },
   "outputs": [
    {
     "data": {
      "text/html": [
       "<div>\n",
       "<table border=\"1\" class=\"dataframe\">\n",
       "  <thead>\n",
       "    <tr style=\"text-align: right;\">\n",
       "      <th></th>\n",
       "      <th>In-Degree</th>\n",
       "      <th>Out-Degree</th>\n",
       "      <th>Closeness Centrality</th>\n",
       "      <th>Eigenvector Centrality</th>\n",
       "      <th>Betweenness Centrality</th>\n",
       "      <th>Page Rank</th>\n",
       "      <th>Hubs</th>\n",
       "      <th>Authorities</th>\n",
       "    </tr>\n",
       "  </thead>\n",
       "  <tbody>\n",
       "    <tr>\n",
       "      <th>Rank 1</th>\n",
       "      <td>109532</td>\n",
       "      <td>105210</td>\n",
       "      <td>102605</td>\n",
       "      <td>106514</td>\n",
       "      <td>103012</td>\n",
       "      <td>85131</td>\n",
       "      <td>108611</td>\n",
       "      <td>103355</td>\n",
       "    </tr>\n",
       "    <tr>\n",
       "      <th>Rank 2</th>\n",
       "      <td>107252</td>\n",
       "      <td>104616</td>\n",
       "      <td>103012</td>\n",
       "      <td>103355</td>\n",
       "      <td>101864</td>\n",
       "      <td>91573</td>\n",
       "      <td>107082</td>\n",
       "      <td>106514</td>\n",
       "    </tr>\n",
       "    <tr>\n",
       "      <th>Rank 3</th>\n",
       "      <td>91573</td>\n",
       "      <td>106366</td>\n",
       "      <td>101864</td>\n",
       "      <td>109380</td>\n",
       "      <td>102605</td>\n",
       "      <td>85534</td>\n",
       "      <td>109380</td>\n",
       "      <td>103243</td>\n",
       "    </tr>\n",
       "    <tr>\n",
       "      <th>Rank 4</th>\n",
       "      <td>106545</td>\n",
       "      <td>102224</td>\n",
       "      <td>106366</td>\n",
       "      <td>106761</td>\n",
       "      <td>106366</td>\n",
       "      <td>88661</td>\n",
       "      <td>106267</td>\n",
       "      <td>106761</td>\n",
       "    </tr>\n",
       "    <tr>\n",
       "      <th>Rank 5</th>\n",
       "      <td>111221</td>\n",
       "      <td>108329</td>\n",
       "      <td>101894</td>\n",
       "      <td>103243</td>\n",
       "      <td>101894</td>\n",
       "      <td>85160</td>\n",
       "      <td>108839</td>\n",
       "      <td>103347</td>\n",
       "    </tr>\n",
       "    <tr>\n",
       "      <th>Rank 6</th>\n",
       "      <td>102605</td>\n",
       "      <td>101864</td>\n",
       "      <td>85330</td>\n",
       "      <td>107082</td>\n",
       "      <td>106447</td>\n",
       "      <td>89675</td>\n",
       "      <td>108798</td>\n",
       "      <td>105746</td>\n",
       "    </tr>\n",
       "    <tr>\n",
       "      <th>Rank 7</th>\n",
       "      <td>103012</td>\n",
       "      <td>106267</td>\n",
       "      <td>106170</td>\n",
       "      <td>103347</td>\n",
       "      <td>104616</td>\n",
       "      <td>98094</td>\n",
       "      <td>109505</td>\n",
       "      <td>105751</td>\n",
       "    </tr>\n",
       "    <tr>\n",
       "      <th>Rank 8</th>\n",
       "      <td>103355</td>\n",
       "      <td>106548</td>\n",
       "      <td>106447</td>\n",
       "      <td>105751</td>\n",
       "      <td>106545</td>\n",
       "      <td>88804</td>\n",
       "      <td>109836</td>\n",
       "      <td>102991</td>\n",
       "    </tr>\n",
       "    <tr>\n",
       "      <th>Rank 9</th>\n",
       "      <td>106761</td>\n",
       "      <td>97966</td>\n",
       "      <td>103950</td>\n",
       "      <td>105746</td>\n",
       "      <td>106548</td>\n",
       "      <td>85330</td>\n",
       "      <td>149702</td>\n",
       "      <td>103870</td>\n",
       "    </tr>\n",
       "    <tr>\n",
       "      <th>Rank 10</th>\n",
       "      <td>85131</td>\n",
       "      <td>108221</td>\n",
       "      <td>96819</td>\n",
       "      <td>106142</td>\n",
       "      <td>85330</td>\n",
       "      <td>87010</td>\n",
       "      <td>108329</td>\n",
       "      <td>101097</td>\n",
       "    </tr>\n",
       "  </tbody>\n",
       "</table>\n",
       "</div>"
      ],
      "text/plain": [
       "         In-Degree  Out-Degree  Closeness Centrality  Eigenvector Centrality  \\\n",
       "Rank 1      109532      105210                102605                  106514   \n",
       "Rank 2      107252      104616                103012                  103355   \n",
       "Rank 3       91573      106366                101864                  109380   \n",
       "Rank 4      106545      102224                106366                  106761   \n",
       "Rank 5      111221      108329                101894                  103243   \n",
       "Rank 6      102605      101864                 85330                  107082   \n",
       "Rank 7      103012      106267                106170                  103347   \n",
       "Rank 8      103355      106548                106447                  105751   \n",
       "Rank 9      106761       97966                103950                  105746   \n",
       "Rank 10      85131      108221                 96819                  106142   \n",
       "\n",
       "         Betweenness Centrality  Page Rank    Hubs  Authorities  \n",
       "Rank 1                   103012      85131  108611       103355  \n",
       "Rank 2                   101864      91573  107082       106514  \n",
       "Rank 3                   102605      85534  109380       103243  \n",
       "Rank 4                   106366      88661  106267       106761  \n",
       "Rank 5                   101894      85160  108839       103347  \n",
       "Rank 6                   106447      89675  108798       105746  \n",
       "Rank 7                   104616      98094  109505       105751  \n",
       "Rank 8                   106545      88804  109836       102991  \n",
       "Rank 9                   106548      85330  149702       103870  \n",
       "Rank 10                   85330      87010  108329       101097  "
      ]
     },
     "execution_count": 13,
     "metadata": {},
     "output_type": "execute_result"
    }
   ],
   "source": [
    "ind = sorted(G.in_degree().iteritems(), key=operator.itemgetter(1), reverse=True)[:10]\n",
    "ind_cases = [x[0] for x in ind]\n",
    "\n",
    "outd = sorted(G.out_degree().iteritems(), key=operator.itemgetter(1), reverse=True)[:10]\n",
    "outd_cases = [x[0] for x in outd]\n",
    "\n",
    "ccd = sorted(close_cent_dict.iteritems(), key=operator.itemgetter(1), reverse=True)[:10]\n",
    "ccd_cases = [x[0] for x in ccd]\n",
    "\n",
    "ecd = sorted(eigen_cent_dict.iteritems(), key=operator.itemgetter(1), reverse=True)[:10]\n",
    "ecd_cases = [x[0] for x in ecd]\n",
    "\n",
    "bcd = sorted(between_cent_dict.iteritems(), key=operator.itemgetter(1), reverse=True)[:10]\n",
    "bcd_cases = [x[0] for x in bcd]\n",
    "\n",
    "prd = sorted(page_rank_dict.iteritems(), key=operator.itemgetter(1), reverse=True)[:10]\n",
    "prd_cases = [x[0] for x in prd]\n",
    "\n",
    "hd = sorted(hubs_auths_dict[0].iteritems(), key=operator.itemgetter(1), reverse=True)[:10]\n",
    "hd_cases = [x[0] for x in hd]\n",
    "\n",
    "ad = sorted(hubs_auths_dict[1].iteritems(), key=operator.itemgetter(1), reverse=True)[:10]\n",
    "ad_cases = [x[0] for x in ad]\n",
    "\n",
    "data = {'In-Degree': ind_cases,\n",
    "        'Out-Degree': outd_cases,\n",
    "        'Closeness Centrality': ccd_cases,\n",
    "        'Eigenvector Centrality': ecd_cases,\n",
    "        'Betweenness Centrality': bcd_cases,\n",
    "        'Page Rank': prd_cases,\n",
    "        'Hubs': hd_cases,\n",
    "        'Authorities': ad_cases\n",
    "       }\n",
    "df = pd.DataFrame(data, columns = ['In-Degree', 'Out-Degree', 'Closeness Centrality', 'Eigenvector Centrality',\n",
    "                                   'Betweenness Centrality', 'Page Rank', 'Hubs', 'Authorities'],\n",
    "                  index=['Rank 1', 'Rank 2', 'Rank 3', 'Rank 4', 'Rank 5', 'Rank 6', 'Rank 7', 'Rank 8', 'Rank 9', 'Rank 10']\n",
    "                 )\n",
    "\n",
    "df.to_csv(csvs_dir + '/scotus_centrality_comparison_96405_del.csv')\n",
    "df"
   ]
  },
  {
   "cell_type": "markdown",
   "metadata": {},
   "source": [
    "### Function to get case_name given case_id"
   ]
  },
  {
   "cell_type": "code",
   "execution_count": 41,
   "metadata": {
    "collapsed": true
   },
   "outputs": [],
   "source": [
    "def case_name(case_id):\n",
    "    \"\"\"\n",
    "    Given the case id returns a link to the opinion file on court listener\n",
    "    \"\"\"\n",
    "    url = 'https://www.courtlistener.com/api/rest/v3/clusters/%s/?format=json'\\\n",
    "          % case_id\n",
    "\n",
    "    case = url_to_dict(url)\n",
    "    courtlistener_url = 'https://www.courtlistener.com'\n",
    "    opinion_url = courtlistener_url + case['absolute_url']\n",
    "\n",
    "    return case['case_name']"
   ]
  },
  {
   "cell_type": "markdown",
   "metadata": {},
   "source": [
    "### Function to get url given case_id"
   ]
  },
  {
   "cell_type": "code",
   "execution_count": 46,
   "metadata": {
    "collapsed": true
   },
   "outputs": [],
   "source": [
    "def case_website(case_id):\n",
    "    \"\"\"\n",
    "    Given the case id returns a link to the opinion file on court listener\n",
    "    \"\"\"\n",
    "    url = 'https://www.courtlistener.com/api/rest/v3/clusters/%s/?format=json'\\\n",
    "          % case_id\n",
    "\n",
    "    case = url_to_dict(url)\n",
    "    courtlistener_url = 'https://www.courtlistener.com'\n",
    "    opinion_url = courtlistener_url + case['absolute_url']\n",
    "\n",
    "    return opinion_url"
   ]
  },
  {
   "cell_type": "markdown",
   "metadata": {},
   "source": [
    "### Importance of Cases with Top 10 In-Degree for SCOTUS (Directed) without Case 96405"
   ]
  },
  {
   "cell_type": "code",
   "execution_count": 56,
   "metadata": {
    "collapsed": false
   },
   "outputs": [
    {
     "name": "stdout",
     "output_type": "stream",
     "text": [
      "Gregg v. Georgia https://www.courtlistener.com/opinion/109532/gregg-v-georgia/\n",
      "Miranda v. Arizona https://www.courtlistener.com/opinion/107252/miranda-v-arizona/\n",
      "Boyd v. United States https://www.courtlistener.com/opinion/91573/boyd-v-united-states/\n",
      "Gideon v. Wainwright https://www.courtlistener.com/opinion/106545/gideon-v-wainwright/\n",
      "Chevron USA Inc. v. Natural Resources Defense Council, Inc. https://www.courtlistener.com/opinion/111221/chevron-usa-inc-v-natural-resources-defense-council-inc/\n",
      "Ashwander v. TVA https://www.courtlistener.com/opinion/102605/ashwander-v-tva/\n",
      "Erie R. Co. v. Tompkins https://www.courtlistener.com/opinion/103012/erie-r-co-v-tompkins/\n",
      "Cantwell v. Connecticut https://www.courtlistener.com/opinion/103355/cantwell-v-connecticut/\n",
      "New York Times Co. v. Sullivan https://www.courtlistener.com/opinion/106761/new-york-times-co-v-sullivan/\n",
      "The Samuel https://www.courtlistener.com/opinion/85131/the-samuel/\n"
     ]
    }
   ],
   "source": [
    "for each_case in ind_cases:\n",
    "    print case_name(each_case) , case_website(each_case)"
   ]
  },
  {
   "cell_type": "code",
   "execution_count": 63,
   "metadata": {
    "collapsed": false,
    "scrolled": true
   },
   "outputs": [
    {
     "data": {
      "text/html": [
       "<div>\n",
       "<table border=\"1\" class=\"dataframe\">\n",
       "  <thead>\n",
       "    <tr style=\"text-align: right;\">\n",
       "      <th></th>\n",
       "      <th>Cases by In-Degree</th>\n",
       "      <th>Oxford Rating</th>\n",
       "      <th>LII Rating</th>\n",
       "    </tr>\n",
       "  </thead>\n",
       "  <tbody>\n",
       "    <tr>\n",
       "      <th>Rank 1</th>\n",
       "      <td>109532</td>\n",
       "      <td>1</td>\n",
       "      <td>1</td>\n",
       "    </tr>\n",
       "    <tr>\n",
       "      <th>Rank 2</th>\n",
       "      <td>107252</td>\n",
       "      <td>1</td>\n",
       "      <td>1</td>\n",
       "    </tr>\n",
       "    <tr>\n",
       "      <th>Rank 3</th>\n",
       "      <td>91573</td>\n",
       "      <td>1</td>\n",
       "      <td>0</td>\n",
       "    </tr>\n",
       "    <tr>\n",
       "      <th>Rank 4</th>\n",
       "      <td>106545</td>\n",
       "      <td>1</td>\n",
       "      <td>1</td>\n",
       "    </tr>\n",
       "    <tr>\n",
       "      <th>Rank 5</th>\n",
       "      <td>111221</td>\n",
       "      <td>0</td>\n",
       "      <td>1</td>\n",
       "    </tr>\n",
       "    <tr>\n",
       "      <th>Rank 6</th>\n",
       "      <td>102605</td>\n",
       "      <td>0</td>\n",
       "      <td>1</td>\n",
       "    </tr>\n",
       "    <tr>\n",
       "      <th>Rank 7</th>\n",
       "      <td>103012</td>\n",
       "      <td>1</td>\n",
       "      <td>1</td>\n",
       "    </tr>\n",
       "    <tr>\n",
       "      <th>Rank 8</th>\n",
       "      <td>103355</td>\n",
       "      <td>1</td>\n",
       "      <td>1</td>\n",
       "    </tr>\n",
       "    <tr>\n",
       "      <th>Rank 9</th>\n",
       "      <td>106761</td>\n",
       "      <td>1</td>\n",
       "      <td>1</td>\n",
       "    </tr>\n",
       "    <tr>\n",
       "      <th>Rank 10</th>\n",
       "      <td>85131</td>\n",
       "      <td>0</td>\n",
       "      <td>0</td>\n",
       "    </tr>\n",
       "  </tbody>\n",
       "</table>\n",
       "</div>"
      ],
      "text/plain": [
       "         Cases by In-Degree  Oxford Rating  LII Rating\n",
       "Rank 1               109532              1           1\n",
       "Rank 2               107252              1           1\n",
       "Rank 3                91573              1           0\n",
       "Rank 4               106545              1           1\n",
       "Rank 5               111221              0           1\n",
       "Rank 6               102605              0           1\n",
       "Rank 7               103012              1           1\n",
       "Rank 8               103355              1           1\n",
       "Rank 9               106761              1           1\n",
       "Rank 10               85131              0           0"
      ]
     },
     "execution_count": 63,
     "metadata": {},
     "output_type": "execute_result"
    }
   ],
   "source": [
    "# (oxford importance , legal information institute importance) :\n",
    "importance = [(1,1), (1,1), (1,0), (1,1), (0,1), (0,1), (1,1), (1,1), (1,1), (0,0)]\n",
    "\n",
    "oxford = [x[0] for x in importance]\n",
    "lii = [x[1] for x in importance]\n",
    "\n",
    "data = {'Cases by In-Degree': ind_cases,\n",
    "        'Oxford Rating': oxford,\n",
    "        'LII Rating': lii\n",
    "       }\n",
    "df = pd.DataFrame(data, columns = ['Cases by In-Degree', 'Oxford Rating', 'LII Rating'],\n",
    "                  index=['Rank 1', 'Rank 2', 'Rank 3', 'Rank 4', 'Rank 5', 'Rank 6', 'Rank 7', 'Rank 8', 'Rank 9', 'Rank 10']\n",
    "                 )\n",
    "\n",
    "df"
   ]
  },
  {
   "cell_type": "markdown",
   "metadata": {},
   "source": [
    "### Importance of Cases with Top 10 Out-Degree for SCOTUS (Directed) without Case 96405"
   ]
  },
  {
   "cell_type": "code",
   "execution_count": 62,
   "metadata": {
    "collapsed": false
   },
   "outputs": [
    {
     "name": "stdout",
     "output_type": "stream",
     "text": [
      "Miller Brothers Co. v. Maryland https://www.courtlistener.com/opinion/105210/miller-brothers-co-v-maryland/\n",
      "Commissioner v. Estate of Church https://www.courtlistener.com/opinion/104616/commissioner-v-estate-of-church/\n",
      "Baker v. Carr https://www.courtlistener.com/opinion/106366/baker-v-carr/\n",
      "Nebbia v. New York https://www.courtlistener.com/opinion/102224/nebbia-v-new-york/\n",
      "McGautha v. California https://www.courtlistener.com/opinion/108329/mcgautha-v-california/\n",
      "Crowell v. Benson https://www.courtlistener.com/opinion/101864/crowell-v-benson/\n",
      "Communist Party of United States v. Subversive Activities Control Bd. https://www.courtlistener.com/opinion/106267/communist-party-of-united-states-v-subversive-activities-control-bd/\n",
      "Fay v. Noia https://www.courtlistener.com/opinion/106548/fay-v-noia/\n",
      "The Minnesota Rate Cases https://www.courtlistener.com/opinion/97966/the-minnesota-rate-cases/\n",
      "Oregon v. Mitchell https://www.courtlistener.com/opinion/108221/oregon-v-mitchell/\n"
     ]
    }
   ],
   "source": [
    "for each_case in outd_cases:\n",
    "    print case_name(each_case) , case_website(each_case)"
   ]
  },
  {
   "cell_type": "code",
   "execution_count": 64,
   "metadata": {
    "collapsed": false,
    "scrolled": true
   },
   "outputs": [
    {
     "data": {
      "text/html": [
       "<div>\n",
       "<table border=\"1\" class=\"dataframe\">\n",
       "  <thead>\n",
       "    <tr style=\"text-align: right;\">\n",
       "      <th></th>\n",
       "      <th>Cases by Out-Degree</th>\n",
       "      <th>Oxford Rating</th>\n",
       "      <th>LII Rating</th>\n",
       "    </tr>\n",
       "  </thead>\n",
       "  <tbody>\n",
       "    <tr>\n",
       "      <th>Rank 1</th>\n",
       "      <td>105210</td>\n",
       "      <td>0</td>\n",
       "      <td>0</td>\n",
       "    </tr>\n",
       "    <tr>\n",
       "      <th>Rank 2</th>\n",
       "      <td>104616</td>\n",
       "      <td>0</td>\n",
       "      <td>0</td>\n",
       "    </tr>\n",
       "    <tr>\n",
       "      <th>Rank 3</th>\n",
       "      <td>106366</td>\n",
       "      <td>1</td>\n",
       "      <td>1</td>\n",
       "    </tr>\n",
       "    <tr>\n",
       "      <th>Rank 4</th>\n",
       "      <td>102224</td>\n",
       "      <td>1</td>\n",
       "      <td>1</td>\n",
       "    </tr>\n",
       "    <tr>\n",
       "      <th>Rank 5</th>\n",
       "      <td>108329</td>\n",
       "      <td>0</td>\n",
       "      <td>0</td>\n",
       "    </tr>\n",
       "    <tr>\n",
       "      <th>Rank 6</th>\n",
       "      <td>101864</td>\n",
       "      <td>0</td>\n",
       "      <td>0</td>\n",
       "    </tr>\n",
       "    <tr>\n",
       "      <th>Rank 7</th>\n",
       "      <td>106267</td>\n",
       "      <td>0</td>\n",
       "      <td>0</td>\n",
       "    </tr>\n",
       "    <tr>\n",
       "      <th>Rank 8</th>\n",
       "      <td>106548</td>\n",
       "      <td>1</td>\n",
       "      <td>0</td>\n",
       "    </tr>\n",
       "    <tr>\n",
       "      <th>Rank 9</th>\n",
       "      <td>97966</td>\n",
       "      <td>0</td>\n",
       "      <td>0</td>\n",
       "    </tr>\n",
       "    <tr>\n",
       "      <th>Rank 10</th>\n",
       "      <td>108221</td>\n",
       "      <td>1</td>\n",
       "      <td>1</td>\n",
       "    </tr>\n",
       "  </tbody>\n",
       "</table>\n",
       "</div>"
      ],
      "text/plain": [
       "         Cases by Out-Degree  Oxford Rating  LII Rating\n",
       "Rank 1                105210              0           0\n",
       "Rank 2                104616              0           0\n",
       "Rank 3                106366              1           1\n",
       "Rank 4                102224              1           1\n",
       "Rank 5                108329              0           0\n",
       "Rank 6                101864              0           0\n",
       "Rank 7                106267              0           0\n",
       "Rank 8                106548              1           0\n",
       "Rank 9                 97966              0           0\n",
       "Rank 10               108221              1           1"
      ]
     },
     "execution_count": 64,
     "metadata": {},
     "output_type": "execute_result"
    }
   ],
   "source": [
    "# (oxford importance , legal information institute importance) :\n",
    "importance = [(0,0), (0,0), (1,1), (1,1), (0,0), (0,0), (0,0), (1,0), (0,0), (1,1)]\n",
    "\n",
    "oxford = [x[0] for x in importance]\n",
    "lii = [x[1] for x in importance]\n",
    "\n",
    "data = {'Cases by Out-Degree': outd_cases,\n",
    "        'Oxford Rating': oxford,\n",
    "        'LII Rating': lii\n",
    "       }\n",
    "df = pd.DataFrame(data, columns = ['Cases by Out-Degree', 'Oxford Rating', 'LII Rating'],\n",
    "                  index=['Rank 1', 'Rank 2', 'Rank 3', 'Rank 4', 'Rank 5', 'Rank 6', 'Rank 7', 'Rank 8', 'Rank 9', 'Rank 10']\n",
    "                 )\n",
    "\n",
    "df"
   ]
  },
  {
   "cell_type": "markdown",
   "metadata": {},
   "source": [
    "### Importance of Cases with Top 10 Closeness Centrality for SCOTUS (Undirected) without Case 96405"
   ]
  },
  {
   "cell_type": "code",
   "execution_count": 61,
   "metadata": {
    "collapsed": false
   },
   "outputs": [
    {
     "name": "stdout",
     "output_type": "stream",
     "text": [
      "Ashwander v. TVA https://www.courtlistener.com/opinion/102605/ashwander-v-tva/\n",
      "Erie R. Co. v. Tompkins https://www.courtlistener.com/opinion/103012/erie-r-co-v-tompkins/\n",
      "Crowell v. Benson https://www.courtlistener.com/opinion/101864/crowell-v-benson/\n",
      "Baker v. Carr https://www.courtlistener.com/opinion/106366/baker-v-carr/\n",
      "Burnet v. Coronado Oil & Gas Co. https://www.courtlistener.com/opinion/101894/burnet-v-coronado-oil-gas-co/\n",
      "Cohens v. Virginia https://www.courtlistener.com/opinion/85330/cohens-v-virginia/\n",
      "Monroe v. Pape https://www.courtlistener.com/opinion/106170/monroe-v-pape/\n",
      "Glidden Co. v. Zdanok https://www.courtlistener.com/opinion/106447/glidden-co-v-zdanok/\n",
      "Yakus v. United States https://www.courtlistener.com/opinion/103950/yakus-v-united-states/\n",
      "Ex Parte Young https://www.courtlistener.com/opinion/96819/ex-parte-young/\n"
     ]
    }
   ],
   "source": [
    "for each_case in ccd_cases:\n",
    "    print case_name(each_case) , case_website(each_case)"
   ]
  },
  {
   "cell_type": "code",
   "execution_count": 65,
   "metadata": {
    "collapsed": false
   },
   "outputs": [
    {
     "data": {
      "text/html": [
       "<div>\n",
       "<table border=\"1\" class=\"dataframe\">\n",
       "  <thead>\n",
       "    <tr style=\"text-align: right;\">\n",
       "      <th></th>\n",
       "      <th>Cases by Closeness Centrality</th>\n",
       "      <th>Oxford Rating</th>\n",
       "      <th>LII Rating</th>\n",
       "    </tr>\n",
       "  </thead>\n",
       "  <tbody>\n",
       "    <tr>\n",
       "      <th>Rank 1</th>\n",
       "      <td>102605</td>\n",
       "      <td>0</td>\n",
       "      <td>1</td>\n",
       "    </tr>\n",
       "    <tr>\n",
       "      <th>Rank 2</th>\n",
       "      <td>103012</td>\n",
       "      <td>1</td>\n",
       "      <td>1</td>\n",
       "    </tr>\n",
       "    <tr>\n",
       "      <th>Rank 3</th>\n",
       "      <td>101864</td>\n",
       "      <td>0</td>\n",
       "      <td>0</td>\n",
       "    </tr>\n",
       "    <tr>\n",
       "      <th>Rank 4</th>\n",
       "      <td>106366</td>\n",
       "      <td>1</td>\n",
       "      <td>1</td>\n",
       "    </tr>\n",
       "    <tr>\n",
       "      <th>Rank 5</th>\n",
       "      <td>101894</td>\n",
       "      <td>0</td>\n",
       "      <td>0</td>\n",
       "    </tr>\n",
       "    <tr>\n",
       "      <th>Rank 6</th>\n",
       "      <td>85330</td>\n",
       "      <td>1</td>\n",
       "      <td>1</td>\n",
       "    </tr>\n",
       "    <tr>\n",
       "      <th>Rank 7</th>\n",
       "      <td>106170</td>\n",
       "      <td>0</td>\n",
       "      <td>1</td>\n",
       "    </tr>\n",
       "    <tr>\n",
       "      <th>Rank 8</th>\n",
       "      <td>106447</td>\n",
       "      <td>0</td>\n",
       "      <td>1</td>\n",
       "    </tr>\n",
       "    <tr>\n",
       "      <th>Rank 9</th>\n",
       "      <td>103950</td>\n",
       "      <td>1</td>\n",
       "      <td>0</td>\n",
       "    </tr>\n",
       "    <tr>\n",
       "      <th>Rank 10</th>\n",
       "      <td>96819</td>\n",
       "      <td>1</td>\n",
       "      <td>0</td>\n",
       "    </tr>\n",
       "  </tbody>\n",
       "</table>\n",
       "</div>"
      ],
      "text/plain": [
       "         Cases by Closeness Centrality  Oxford Rating  LII Rating\n",
       "Rank 1                          102605              0           1\n",
       "Rank 2                          103012              1           1\n",
       "Rank 3                          101864              0           0\n",
       "Rank 4                          106366              1           1\n",
       "Rank 5                          101894              0           0\n",
       "Rank 6                           85330              1           1\n",
       "Rank 7                          106170              0           1\n",
       "Rank 8                          106447              0           1\n",
       "Rank 9                          103950              1           0\n",
       "Rank 10                          96819              1           0"
      ]
     },
     "execution_count": 65,
     "metadata": {},
     "output_type": "execute_result"
    }
   ],
   "source": [
    "# (oxford importance , legal information institute importance) :\n",
    "importance = [(0,1), (1,1), (0,0), (1,1), (0,0), (1,1), (0,1), (0,1), (1,0), (1,0)]\n",
    "\n",
    "oxford = [x[0] for x in importance]\n",
    "lii = [x[1] for x in importance]\n",
    "\n",
    "data = {'Cases by Closeness Centrality': ccd_cases,\n",
    "        'Oxford Rating': oxford,\n",
    "        'LII Rating': lii\n",
    "       }\n",
    "df = pd.DataFrame(data, columns = ['Cases by Closeness Centrality', 'Oxford Rating', 'LII Rating'],\n",
    "                  index=['Rank 1', 'Rank 2', 'Rank 3', 'Rank 4', 'Rank 5', 'Rank 6', 'Rank 7', 'Rank 8', 'Rank 9', 'Rank 10']\n",
    "                 )\n",
    "\n",
    "df"
   ]
  },
  {
   "cell_type": "markdown",
   "metadata": {},
   "source": [
    "### Importance of Cases with Top 10 Eigenvector Centrality for SCOTUS (Undirected) without Case 96405"
   ]
  },
  {
   "cell_type": "code",
   "execution_count": 50,
   "metadata": {
    "collapsed": false,
    "scrolled": true
   },
   "outputs": [
    {
     "name": "stdout",
     "output_type": "stream",
     "text": [
      "NAACP v. Button https://www.courtlistener.com/opinion/106514/naacp-v-button/\n",
      "Cantwell v. Connecticut https://www.courtlistener.com/opinion/103355/cantwell-v-connecticut/\n",
      "Buckley v. Valeo https://www.courtlistener.com/opinion/109380/buckley-v-valeo/\n",
      "New York Times Co. v. Sullivan https://www.courtlistener.com/opinion/106761/new-york-times-co-v-sullivan/\n",
      "Schneider v. State (Town of Irvington) https://www.courtlistener.com/opinion/103243/schneider-v-state-town-of-irvington/\n",
      "Griswold v. Connecticut https://www.courtlistener.com/opinion/107082/griswold-v-connecticut/\n",
      "Thornhill v. Alabama https://www.courtlistener.com/opinion/103347/thornhill-v-alabama/\n",
      "Speiser v. Randall https://www.courtlistener.com/opinion/105751/speiser-v-randall/\n",
      "NAACP v. Alabama Ex Rel. Patterson https://www.courtlistener.com/opinion/105746/naacp-v-alabama-ex-rel-patterson/\n",
      "Shelton v. Tucker https://www.courtlistener.com/opinion/106142/shelton-v-tucker/\n"
     ]
    }
   ],
   "source": [
    "for each_case in ecd_cases:\n",
    "    print case_name(each_case) , case_website(each_case)"
   ]
  },
  {
   "cell_type": "code",
   "execution_count": 66,
   "metadata": {
    "collapsed": false,
    "scrolled": true
   },
   "outputs": [
    {
     "data": {
      "text/html": [
       "<div>\n",
       "<table border=\"1\" class=\"dataframe\">\n",
       "  <thead>\n",
       "    <tr style=\"text-align: right;\">\n",
       "      <th></th>\n",
       "      <th>Cases by Eigenvector Centrality</th>\n",
       "      <th>Oxford Rating</th>\n",
       "      <th>LII Rating</th>\n",
       "    </tr>\n",
       "  </thead>\n",
       "  <tbody>\n",
       "    <tr>\n",
       "      <th>Rank 1</th>\n",
       "      <td>106514</td>\n",
       "      <td>1</td>\n",
       "      <td>1</td>\n",
       "    </tr>\n",
       "    <tr>\n",
       "      <th>Rank 2</th>\n",
       "      <td>103355</td>\n",
       "      <td>1</td>\n",
       "      <td>1</td>\n",
       "    </tr>\n",
       "    <tr>\n",
       "      <th>Rank 3</th>\n",
       "      <td>109380</td>\n",
       "      <td>1</td>\n",
       "      <td>1</td>\n",
       "    </tr>\n",
       "    <tr>\n",
       "      <th>Rank 4</th>\n",
       "      <td>106761</td>\n",
       "      <td>1</td>\n",
       "      <td>1</td>\n",
       "    </tr>\n",
       "    <tr>\n",
       "      <th>Rank 5</th>\n",
       "      <td>103243</td>\n",
       "      <td>0</td>\n",
       "      <td>0</td>\n",
       "    </tr>\n",
       "    <tr>\n",
       "      <th>Rank 6</th>\n",
       "      <td>107082</td>\n",
       "      <td>1</td>\n",
       "      <td>1</td>\n",
       "    </tr>\n",
       "    <tr>\n",
       "      <th>Rank 7</th>\n",
       "      <td>103347</td>\n",
       "      <td>1</td>\n",
       "      <td>1</td>\n",
       "    </tr>\n",
       "    <tr>\n",
       "      <th>Rank 8</th>\n",
       "      <td>105751</td>\n",
       "      <td>0</td>\n",
       "      <td>0</td>\n",
       "    </tr>\n",
       "    <tr>\n",
       "      <th>Rank 9</th>\n",
       "      <td>105746</td>\n",
       "      <td>1</td>\n",
       "      <td>1</td>\n",
       "    </tr>\n",
       "    <tr>\n",
       "      <th>Rank 10</th>\n",
       "      <td>106142</td>\n",
       "      <td>0</td>\n",
       "      <td>1</td>\n",
       "    </tr>\n",
       "  </tbody>\n",
       "</table>\n",
       "</div>"
      ],
      "text/plain": [
       "         Cases by Eigenvector Centrality  Oxford Rating  LII Rating\n",
       "Rank 1                            106514              1           1\n",
       "Rank 2                            103355              1           1\n",
       "Rank 3                            109380              1           1\n",
       "Rank 4                            106761              1           1\n",
       "Rank 5                            103243              0           0\n",
       "Rank 6                            107082              1           1\n",
       "Rank 7                            103347              1           1\n",
       "Rank 8                            105751              0           0\n",
       "Rank 9                            105746              1           1\n",
       "Rank 10                           106142              0           1"
      ]
     },
     "execution_count": 66,
     "metadata": {},
     "output_type": "execute_result"
    }
   ],
   "source": [
    "# (oxford importance , legal information institute importance) :\n",
    "importance = [(1,1), (1,1), (1,1), (1,1), (0,0), (1,1), (1,1), (0,0), (1,1), (0,1)]\n",
    "\n",
    "oxford = [x[0] for x in importance]\n",
    "lii = [x[1] for x in importance]\n",
    "\n",
    "data = {'Cases by Eigenvector Centrality': ecd_cases,\n",
    "        'Oxford Rating': oxford,\n",
    "        'LII Rating': lii\n",
    "       }\n",
    "df = pd.DataFrame(data, columns = ['Cases by Eigenvector Centrality', 'Oxford Rating', 'LII Rating'],\n",
    "                  index=['Rank 1', 'Rank 2', 'Rank 3', 'Rank 4', 'Rank 5', 'Rank 6', 'Rank 7', 'Rank 8', 'Rank 9', 'Rank 10']\n",
    "                 )\n",
    "\n",
    "df"
   ]
  },
  {
   "cell_type": "markdown",
   "metadata": {},
   "source": [
    "### Importance of Cases with Top 10 Betweenness Centrality for SCOTUS (Undirected) without Case 96405"
   ]
  },
  {
   "cell_type": "code",
   "execution_count": 51,
   "metadata": {
    "collapsed": false
   },
   "outputs": [
    {
     "name": "stdout",
     "output_type": "stream",
     "text": [
      "Erie R. Co. v. Tompkins https://www.courtlistener.com/opinion/103012/erie-r-co-v-tompkins/\n",
      "Crowell v. Benson https://www.courtlistener.com/opinion/101864/crowell-v-benson/\n",
      "Ashwander v. TVA https://www.courtlistener.com/opinion/102605/ashwander-v-tva/\n",
      "Baker v. Carr https://www.courtlistener.com/opinion/106366/baker-v-carr/\n",
      "Burnet v. Coronado Oil & Gas Co. https://www.courtlistener.com/opinion/101894/burnet-v-coronado-oil-gas-co/\n",
      "Glidden Co. v. Zdanok https://www.courtlistener.com/opinion/106447/glidden-co-v-zdanok/\n",
      "Commissioner v. Estate of Church https://www.courtlistener.com/opinion/104616/commissioner-v-estate-of-church/\n",
      "Gideon v. Wainwright https://www.courtlistener.com/opinion/106545/gideon-v-wainwright/\n",
      "Fay v. Noia https://www.courtlistener.com/opinion/106548/fay-v-noia/\n",
      "Cohens v. Virginia https://www.courtlistener.com/opinion/85330/cohens-v-virginia/\n"
     ]
    }
   ],
   "source": [
    "for each_case in bcd_cases:\n",
    "    print case_name(each_case) , case_website(each_case)"
   ]
  },
  {
   "cell_type": "code",
   "execution_count": 67,
   "metadata": {
    "collapsed": false
   },
   "outputs": [
    {
     "data": {
      "text/html": [
       "<div>\n",
       "<table border=\"1\" class=\"dataframe\">\n",
       "  <thead>\n",
       "    <tr style=\"text-align: right;\">\n",
       "      <th></th>\n",
       "      <th>Cases by Betweenness Centrality</th>\n",
       "      <th>Oxford Rating</th>\n",
       "      <th>LII Rating</th>\n",
       "    </tr>\n",
       "  </thead>\n",
       "  <tbody>\n",
       "    <tr>\n",
       "      <th>Rank 1</th>\n",
       "      <td>103012</td>\n",
       "      <td>1</td>\n",
       "      <td>1</td>\n",
       "    </tr>\n",
       "    <tr>\n",
       "      <th>Rank 2</th>\n",
       "      <td>101864</td>\n",
       "      <td>0</td>\n",
       "      <td>0</td>\n",
       "    </tr>\n",
       "    <tr>\n",
       "      <th>Rank 3</th>\n",
       "      <td>102605</td>\n",
       "      <td>0</td>\n",
       "      <td>1</td>\n",
       "    </tr>\n",
       "    <tr>\n",
       "      <th>Rank 4</th>\n",
       "      <td>106366</td>\n",
       "      <td>1</td>\n",
       "      <td>1</td>\n",
       "    </tr>\n",
       "    <tr>\n",
       "      <th>Rank 5</th>\n",
       "      <td>101894</td>\n",
       "      <td>0</td>\n",
       "      <td>0</td>\n",
       "    </tr>\n",
       "    <tr>\n",
       "      <th>Rank 6</th>\n",
       "      <td>106447</td>\n",
       "      <td>0</td>\n",
       "      <td>1</td>\n",
       "    </tr>\n",
       "    <tr>\n",
       "      <th>Rank 7</th>\n",
       "      <td>104616</td>\n",
       "      <td>0</td>\n",
       "      <td>0</td>\n",
       "    </tr>\n",
       "    <tr>\n",
       "      <th>Rank 8</th>\n",
       "      <td>106545</td>\n",
       "      <td>1</td>\n",
       "      <td>1</td>\n",
       "    </tr>\n",
       "    <tr>\n",
       "      <th>Rank 9</th>\n",
       "      <td>106548</td>\n",
       "      <td>1</td>\n",
       "      <td>0</td>\n",
       "    </tr>\n",
       "    <tr>\n",
       "      <th>Rank 10</th>\n",
       "      <td>85330</td>\n",
       "      <td>1</td>\n",
       "      <td>1</td>\n",
       "    </tr>\n",
       "  </tbody>\n",
       "</table>\n",
       "</div>"
      ],
      "text/plain": [
       "         Cases by Betweenness Centrality  Oxford Rating  LII Rating\n",
       "Rank 1                            103012              1           1\n",
       "Rank 2                            101864              0           0\n",
       "Rank 3                            102605              0           1\n",
       "Rank 4                            106366              1           1\n",
       "Rank 5                            101894              0           0\n",
       "Rank 6                            106447              0           1\n",
       "Rank 7                            104616              0           0\n",
       "Rank 8                            106545              1           1\n",
       "Rank 9                            106548              1           0\n",
       "Rank 10                            85330              1           1"
      ]
     },
     "execution_count": 67,
     "metadata": {},
     "output_type": "execute_result"
    }
   ],
   "source": [
    "# (oxford importance , legal information institute importance) :\n",
    "importance = [(1,1), (0,0), (0,1), (1,1), (0,0), (0,1), (0,0), (1,1), (1,0), (1,1)]\n",
    "\n",
    "\n",
    "oxford = [x[0] for x in importance]\n",
    "lii = [x[1] for x in importance]\n",
    "\n",
    "data = {'Cases by Betweenness Centrality': bcd_cases,\n",
    "        'Oxford Rating': oxford,\n",
    "        'LII Rating': lii\n",
    "       }\n",
    "df = pd.DataFrame(data, columns = ['Cases by Betweenness Centrality', 'Oxford Rating', 'LII Rating'],\n",
    "                  index=['Rank 1', 'Rank 2', 'Rank 3', 'Rank 4', 'Rank 5', 'Rank 6', 'Rank 7', 'Rank 8', 'Rank 9', 'Rank 10']\n",
    "                 )\n",
    "\n",
    "df"
   ]
  },
  {
   "cell_type": "markdown",
   "metadata": {},
   "source": [
    "### Importance of Cases with Top 10 Page Rank for SCOTUS (Directed) without Case 96405"
   ]
  },
  {
   "cell_type": "code",
   "execution_count": 52,
   "metadata": {
    "collapsed": false,
    "scrolled": true
   },
   "outputs": [
    {
     "name": "stdout",
     "output_type": "stream",
     "text": [
      "The Samuel https://www.courtlistener.com/opinion/85131/the-samuel/\n",
      "Boyd v. United States https://www.courtlistener.com/opinion/91573/boyd-v-united-states/\n",
      "Brown v. Maryland https://www.courtlistener.com/opinion/85534/brown-v-maryland/\n",
      "Slaughter-House Cases https://www.courtlistener.com/opinion/88661/slaughter-house-cases/\n",
      "Martin v. Hunter's Lessee https://www.courtlistener.com/opinion/85160/martin-v-hunters-lessee/\n",
      "Davidson v. New Orleans https://www.courtlistener.com/opinion/89675/davidson-v-new-orleans/\n",
      "Weeks v. United States https://www.courtlistener.com/opinion/98094/weeks-v-united-states/\n",
      "Ex Parte Lange https://www.courtlistener.com/opinion/88804/ex-parte-lange/\n",
      "Cohens v. Virginia https://www.courtlistener.com/opinion/85330/cohens-v-virginia/\n",
      "Murray's Lessee v. Hoboken Land & Improvement Co. https://www.courtlistener.com/opinion/87010/murrays-lessee-v-hoboken-land-improvement-co/\n"
     ]
    }
   ],
   "source": [
    "for each_case in prd_cases:\n",
    "    print case_name(each_case) , case_website(each_case)"
   ]
  },
  {
   "cell_type": "code",
   "execution_count": 70,
   "metadata": {
    "collapsed": false
   },
   "outputs": [
    {
     "data": {
      "text/html": [
       "<div>\n",
       "<table border=\"1\" class=\"dataframe\">\n",
       "  <thead>\n",
       "    <tr style=\"text-align: right;\">\n",
       "      <th></th>\n",
       "      <th>Cases by Page Rank</th>\n",
       "      <th>Oxford Rating</th>\n",
       "      <th>LII Rating</th>\n",
       "    </tr>\n",
       "  </thead>\n",
       "  <tbody>\n",
       "    <tr>\n",
       "      <th>Rank 1</th>\n",
       "      <td>85131</td>\n",
       "      <td>0</td>\n",
       "      <td>0</td>\n",
       "    </tr>\n",
       "    <tr>\n",
       "      <th>Rank 2</th>\n",
       "      <td>91573</td>\n",
       "      <td>1</td>\n",
       "      <td>0</td>\n",
       "    </tr>\n",
       "    <tr>\n",
       "      <th>Rank 3</th>\n",
       "      <td>85534</td>\n",
       "      <td>1</td>\n",
       "      <td>0</td>\n",
       "    </tr>\n",
       "    <tr>\n",
       "      <th>Rank 4</th>\n",
       "      <td>88661</td>\n",
       "      <td>0</td>\n",
       "      <td>0</td>\n",
       "    </tr>\n",
       "    <tr>\n",
       "      <th>Rank 5</th>\n",
       "      <td>85160</td>\n",
       "      <td>1</td>\n",
       "      <td>1</td>\n",
       "    </tr>\n",
       "    <tr>\n",
       "      <th>Rank 6</th>\n",
       "      <td>89675</td>\n",
       "      <td>0</td>\n",
       "      <td>0</td>\n",
       "    </tr>\n",
       "    <tr>\n",
       "      <th>Rank 7</th>\n",
       "      <td>98094</td>\n",
       "      <td>1</td>\n",
       "      <td>0</td>\n",
       "    </tr>\n",
       "    <tr>\n",
       "      <th>Rank 8</th>\n",
       "      <td>88804</td>\n",
       "      <td>0</td>\n",
       "      <td>0</td>\n",
       "    </tr>\n",
       "    <tr>\n",
       "      <th>Rank 9</th>\n",
       "      <td>85330</td>\n",
       "      <td>1</td>\n",
       "      <td>1</td>\n",
       "    </tr>\n",
       "    <tr>\n",
       "      <th>Rank 10</th>\n",
       "      <td>87010</td>\n",
       "      <td>1</td>\n",
       "      <td>0</td>\n",
       "    </tr>\n",
       "  </tbody>\n",
       "</table>\n",
       "</div>"
      ],
      "text/plain": [
       "         Cases by Page Rank  Oxford Rating  LII Rating\n",
       "Rank 1                85131              0           0\n",
       "Rank 2                91573              1           0\n",
       "Rank 3                85534              1           0\n",
       "Rank 4                88661              0           0\n",
       "Rank 5                85160              1           1\n",
       "Rank 6                89675              0           0\n",
       "Rank 7                98094              1           0\n",
       "Rank 8                88804              0           0\n",
       "Rank 9                85330              1           1\n",
       "Rank 10               87010              1           0"
      ]
     },
     "execution_count": 70,
     "metadata": {},
     "output_type": "execute_result"
    }
   ],
   "source": [
    "# (oxford importance , legal information institute importance) :\n",
    "importance = [(0,0), (1,0), (1,0), (0,0), (1,1), (0,0), (1,0), (0,0), (1,1), (1,0)]\n",
    "\n",
    "\n",
    "oxford = [x[0] for x in importance]\n",
    "lii = [x[1] for x in importance]\n",
    "\n",
    "data = {'Cases by Page Rank': prd_cases,\n",
    "        'Oxford Rating': oxford,\n",
    "        'LII Rating': lii\n",
    "       }\n",
    "df = pd.DataFrame(data, columns = ['Cases by Page Rank', 'Oxford Rating', 'LII Rating'],\n",
    "                  index=['Rank 1', 'Rank 2', 'Rank 3', 'Rank 4', 'Rank 5', 'Rank 6', 'Rank 7', 'Rank 8', 'Rank 9', 'Rank 10']\n",
    "                 )\n",
    "\n",
    "df"
   ]
  },
  {
   "cell_type": "markdown",
   "metadata": {},
   "source": [
    "### Importance of Cases with Top 10 Hubs for SCOTUS (Directed) without Case 96405"
   ]
  },
  {
   "cell_type": "code",
   "execution_count": 53,
   "metadata": {
    "collapsed": false
   },
   "outputs": [
    {
     "name": "stdout",
     "output_type": "stream",
     "text": [
      "Branzburg v. Hayes https://www.courtlistener.com/opinion/108611/branzburg-v-hayes/\n",
      "Griswold v. Connecticut https://www.courtlistener.com/opinion/107082/griswold-v-connecticut/\n",
      "Buckley v. Valeo https://www.courtlistener.com/opinion/109380/buckley-v-valeo/\n",
      "Communist Party of United States v. Subversive Activities Control Bd. https://www.courtlistener.com/opinion/106267/communist-party-of-united-states-v-subversive-activities-control-bd/\n",
      "Paris Adult Theatre I v. Slaton https://www.courtlistener.com/opinion/108839/paris-adult-theatre-i-v-slaton/\n",
      "Columbia Broadcasting System, Inc. v. Democratic National Committee https://www.courtlistener.com/opinion/108798/columbia-broadcasting-system-inc-v-democratic-national-committee/\n",
      "Young v. American Mini Theatres, Inc. https://www.courtlistener.com/opinion/109505/young-v-american-mini-theatres-inc/\n",
      "First Nat. Bank of Boston v. Bellotti https://www.courtlistener.com/opinion/109836/first-nat-bank-of-boston-v-bellotti/\n",
      "McDonald v. Chicago https://www.courtlistener.com/opinion/149702/mcdonald-v-chicago/\n",
      "McGautha v. California https://www.courtlistener.com/opinion/108329/mcgautha-v-california/\n"
     ]
    }
   ],
   "source": [
    "for each_case in hd_cases:\n",
    "    print case_name(each_case) , case_website(each_case)"
   ]
  },
  {
   "cell_type": "code",
   "execution_count": 71,
   "metadata": {
    "collapsed": false
   },
   "outputs": [
    {
     "data": {
      "text/html": [
       "<div>\n",
       "<table border=\"1\" class=\"dataframe\">\n",
       "  <thead>\n",
       "    <tr style=\"text-align: right;\">\n",
       "      <th></th>\n",
       "      <th>Cases by Hubs</th>\n",
       "      <th>Oxford Rating</th>\n",
       "      <th>LII Rating</th>\n",
       "    </tr>\n",
       "  </thead>\n",
       "  <tbody>\n",
       "    <tr>\n",
       "      <th>Rank 1</th>\n",
       "      <td>108611</td>\n",
       "      <td>1</td>\n",
       "      <td>1</td>\n",
       "    </tr>\n",
       "    <tr>\n",
       "      <th>Rank 2</th>\n",
       "      <td>107082</td>\n",
       "      <td>1</td>\n",
       "      <td>1</td>\n",
       "    </tr>\n",
       "    <tr>\n",
       "      <th>Rank 3</th>\n",
       "      <td>109380</td>\n",
       "      <td>1</td>\n",
       "      <td>1</td>\n",
       "    </tr>\n",
       "    <tr>\n",
       "      <th>Rank 4</th>\n",
       "      <td>106267</td>\n",
       "      <td>0</td>\n",
       "      <td>0</td>\n",
       "    </tr>\n",
       "    <tr>\n",
       "      <th>Rank 5</th>\n",
       "      <td>108839</td>\n",
       "      <td>1</td>\n",
       "      <td>1</td>\n",
       "    </tr>\n",
       "    <tr>\n",
       "      <th>Rank 6</th>\n",
       "      <td>108798</td>\n",
       "      <td>0</td>\n",
       "      <td>0</td>\n",
       "    </tr>\n",
       "    <tr>\n",
       "      <th>Rank 7</th>\n",
       "      <td>109505</td>\n",
       "      <td>1</td>\n",
       "      <td>1</td>\n",
       "    </tr>\n",
       "    <tr>\n",
       "      <th>Rank 8</th>\n",
       "      <td>109836</td>\n",
       "      <td>1</td>\n",
       "      <td>0</td>\n",
       "    </tr>\n",
       "    <tr>\n",
       "      <th>Rank 9</th>\n",
       "      <td>149702</td>\n",
       "      <td>1</td>\n",
       "      <td>1</td>\n",
       "    </tr>\n",
       "    <tr>\n",
       "      <th>Rank 10</th>\n",
       "      <td>108329</td>\n",
       "      <td>0</td>\n",
       "      <td>0</td>\n",
       "    </tr>\n",
       "  </tbody>\n",
       "</table>\n",
       "</div>"
      ],
      "text/plain": [
       "         Cases by Hubs  Oxford Rating  LII Rating\n",
       "Rank 1          108611              1           1\n",
       "Rank 2          107082              1           1\n",
       "Rank 3          109380              1           1\n",
       "Rank 4          106267              0           0\n",
       "Rank 5          108839              1           1\n",
       "Rank 6          108798              0           0\n",
       "Rank 7          109505              1           1\n",
       "Rank 8          109836              1           0\n",
       "Rank 9          149702              1           1\n",
       "Rank 10         108329              0           0"
      ]
     },
     "execution_count": 71,
     "metadata": {},
     "output_type": "execute_result"
    }
   ],
   "source": [
    "# (oxford importance , legal information institute importance) :\n",
    "importance = [(1,1), (1,1), (1,1), (0,0), (1,1), (0,0), (1,1), (1,0), (1,1), (0,0)]\n",
    "\n",
    "'''\n",
    "McDonald v. Chicago I'm not sure I noted as 1,1 because of google results ; jurisdiction.csv ends at 2002\n",
    "'''\n",
    "\n",
    "oxford = [x[0] for x in importance]\n",
    "lii = [x[1] for x in importance]\n",
    "\n",
    "data = {'Cases by Hubs': hd_cases,\n",
    "        'Oxford Rating': oxford,\n",
    "        'LII Rating': lii\n",
    "       }\n",
    "df = pd.DataFrame(data, columns = ['Cases by Hubs', 'Oxford Rating', 'LII Rating'],\n",
    "                  index=['Rank 1', 'Rank 2', 'Rank 3', 'Rank 4', 'Rank 5', 'Rank 6', 'Rank 7', 'Rank 8', 'Rank 9', 'Rank 10']\n",
    "                 )\n",
    "\n",
    "df"
   ]
  },
  {
   "cell_type": "markdown",
   "metadata": {},
   "source": [
    "### Importance of Cases with Top 10 Authorities for SCOTUS (Directed) without Case 96405"
   ]
  },
  {
   "cell_type": "code",
   "execution_count": 54,
   "metadata": {
    "collapsed": false
   },
   "outputs": [
    {
     "name": "stdout",
     "output_type": "stream",
     "text": [
      "Cantwell v. Connecticut https://www.courtlistener.com/opinion/103355/cantwell-v-connecticut/\n",
      "NAACP v. Button https://www.courtlistener.com/opinion/106514/naacp-v-button/\n",
      "Schneider v. State (Town of Irvington) https://www.courtlistener.com/opinion/103243/schneider-v-state-town-of-irvington/\n",
      "New York Times Co. v. Sullivan https://www.courtlistener.com/opinion/106761/new-york-times-co-v-sullivan/\n",
      "Thornhill v. Alabama https://www.courtlistener.com/opinion/103347/thornhill-v-alabama/\n",
      "NAACP v. Alabama Ex Rel. Patterson https://www.courtlistener.com/opinion/105746/naacp-v-alabama-ex-rel-patterson/\n",
      "Speiser v. Randall https://www.courtlistener.com/opinion/105751/speiser-v-randall/\n",
      "Lovell v. City of Griffin https://www.courtlistener.com/opinion/102991/lovell-v-city-of-griffin/\n",
      "West Virginia Bd. of Ed. v. Barnette https://www.courtlistener.com/opinion/103870/west-virginia-bd-of-ed-v-barnette/\n",
      "Whitney v. California https://www.courtlistener.com/opinion/101097/whitney-v-california/\n"
     ]
    }
   ],
   "source": [
    "for each_case in ad_cases:\n",
    "    print case_name(each_case) , case_website(each_case)"
   ]
  },
  {
   "cell_type": "code",
   "execution_count": 73,
   "metadata": {
    "collapsed": false
   },
   "outputs": [
    {
     "data": {
      "text/html": [
       "<div>\n",
       "<table border=\"1\" class=\"dataframe\">\n",
       "  <thead>\n",
       "    <tr style=\"text-align: right;\">\n",
       "      <th></th>\n",
       "      <th>Cases by Authorities</th>\n",
       "      <th>Oxford Rating</th>\n",
       "      <th>LII Rating</th>\n",
       "    </tr>\n",
       "  </thead>\n",
       "  <tbody>\n",
       "    <tr>\n",
       "      <th>Rank 1</th>\n",
       "      <td>103355</td>\n",
       "      <td>1</td>\n",
       "      <td>1</td>\n",
       "    </tr>\n",
       "    <tr>\n",
       "      <th>Rank 2</th>\n",
       "      <td>106514</td>\n",
       "      <td>1</td>\n",
       "      <td>1</td>\n",
       "    </tr>\n",
       "    <tr>\n",
       "      <th>Rank 3</th>\n",
       "      <td>103243</td>\n",
       "      <td>0</td>\n",
       "      <td>0</td>\n",
       "    </tr>\n",
       "    <tr>\n",
       "      <th>Rank 4</th>\n",
       "      <td>106761</td>\n",
       "      <td>1</td>\n",
       "      <td>1</td>\n",
       "    </tr>\n",
       "    <tr>\n",
       "      <th>Rank 5</th>\n",
       "      <td>103347</td>\n",
       "      <td>1</td>\n",
       "      <td>1</td>\n",
       "    </tr>\n",
       "    <tr>\n",
       "      <th>Rank 6</th>\n",
       "      <td>105746</td>\n",
       "      <td>1</td>\n",
       "      <td>1</td>\n",
       "    </tr>\n",
       "    <tr>\n",
       "      <th>Rank 7</th>\n",
       "      <td>105751</td>\n",
       "      <td>0</td>\n",
       "      <td>0</td>\n",
       "    </tr>\n",
       "    <tr>\n",
       "      <th>Rank 8</th>\n",
       "      <td>102991</td>\n",
       "      <td>1</td>\n",
       "      <td>0</td>\n",
       "    </tr>\n",
       "    <tr>\n",
       "      <th>Rank 9</th>\n",
       "      <td>103870</td>\n",
       "      <td>1</td>\n",
       "      <td>1</td>\n",
       "    </tr>\n",
       "    <tr>\n",
       "      <th>Rank 10</th>\n",
       "      <td>101097</td>\n",
       "      <td>1</td>\n",
       "      <td>1</td>\n",
       "    </tr>\n",
       "  </tbody>\n",
       "</table>\n",
       "</div>"
      ],
      "text/plain": [
       "         Cases by Authorities  Oxford Rating  LII Rating\n",
       "Rank 1                 103355              1           1\n",
       "Rank 2                 106514              1           1\n",
       "Rank 3                 103243              0           0\n",
       "Rank 4                 106761              1           1\n",
       "Rank 5                 103347              1           1\n",
       "Rank 6                 105746              1           1\n",
       "Rank 7                 105751              0           0\n",
       "Rank 8                 102991              1           0\n",
       "Rank 9                 103870              1           1\n",
       "Rank 10                101097              1           1"
      ]
     },
     "execution_count": 73,
     "metadata": {},
     "output_type": "execute_result"
    }
   ],
   "source": [
    "# (oxford importance , legal information institute importance) :\n",
    "importance = [(1,1), (1,1), (0,0), (1,1), (1,1), (1,1), (0,0), (1,0), (1,1), (1,1)]\n",
    "\n",
    "oxford = [x[0] for x in importance]\n",
    "lii = [x[1] for x in importance]\n",
    "\n",
    "data = {'Cases by Authorities': ad_cases,\n",
    "        'Oxford Rating': oxford,\n",
    "        'LII Rating': lii\n",
    "       }\n",
    "df = pd.DataFrame(data, columns = ['Cases by Authorities', 'Oxford Rating', 'LII Rating'],\n",
    "                  index=['Rank 1', 'Rank 2', 'Rank 3', 'Rank 4', 'Rank 5', 'Rank 6', 'Rank 7', 'Rank 8', 'Rank 9', 'Rank 10']\n",
    "                 )\n",
    "\n",
    "df"
   ]
  },
  {
   "cell_type": "code",
   "execution_count": null,
   "metadata": {
    "collapsed": true
   },
   "outputs": [],
   "source": []
  }
 ],
 "metadata": {
  "anaconda-cloud": {},
  "kernelspec": {
   "display_name": "Python [Root]",
   "language": "python",
   "name": "Python [Root]"
  },
  "language_info": {
   "codemirror_mode": {
    "name": "ipython",
    "version": 2
   },
   "file_extension": ".py",
   "mimetype": "text/x-python",
   "name": "python",
   "nbconvert_exporter": "python",
   "pygments_lexer": "ipython2",
   "version": "2.7.11"
  }
 },
 "nbformat": 4,
 "nbformat_minor": 0
}
