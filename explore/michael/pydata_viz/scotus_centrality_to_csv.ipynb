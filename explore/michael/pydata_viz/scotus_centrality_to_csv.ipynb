{
 "cells": [
  {
   "cell_type": "code",
   "execution_count": 4,
   "metadata": {
    "collapsed": false
   },
   "outputs": [
    {
     "name": "stdout",
     "output_type": "stream",
     "text": [
      "The autoreload extension is already loaded. To reload it, use:\n",
      "  %reload_ext autoreload\n"
     ]
    }
   ],
   "source": [
    "import sys\n",
    "sys.path.append('../../../code/')\n",
    "sys.path.append('../../../code/michael')\n",
    "import os\n",
    "import json\n",
    "from datetime import datetime\n",
    "import time\n",
    "from pipeline.download_data import url_to_dict\n",
    "\n",
    "import numpy as np\n",
    "import pandas as pd\n",
    "import matplotlib.pyplot as plt\n",
    "import scipy.stats as stats\n",
    "\n",
    "import networkx as nx\n",
    "from load_data import load_citation_network, case_info\n",
    "import operator\n",
    "import scotus_viz_functions_michael as viz\n",
    "\n",
    "from collections import OrderedDict\n",
    "\n",
    "\n",
    "%load_ext autoreload\n",
    "%autoreload 2\n",
    "%matplotlib inline\n",
    "\n",
    "data_dir = '../../../data/'\n",
    "court_name = 'scotus'\n",
    "\n",
    "# assign/make 'scotus_visualizations/michael' directory to save files in\n",
    "proj_cwd = os.path.dirname(os.path.dirname(os.path.dirname(os.getcwd())))\n",
    "viz_dir = os.path.join(proj_cwd, 'visualization')\n",
    "if not os.path.exists(viz_dir):\n",
    "    os.makedirs(viz_dir)\n",
    "viz_scotus_dir = os.path.join(viz_dir, 'scotus')\n",
    "if not os.path.exists(viz_scotus_dir):\n",
    "    os.makedirs(viz_scotus_dir)\n",
    "viz_scotus_michael_dir = os.path.join(viz_scotus_dir, 'michael')\n",
    "if not os.path.exists(viz_scotus_michael_dir):\n",
    "    os.makedirs(viz_scotus_michael_dir)\n",
    "\n",
    "csvs_dir = os.getcwd() + '/csvs'"
   ]
  },
  {
   "cell_type": "markdown",
   "metadata": {},
   "source": [
    "### Create SCOTUS Network (Directed Graph)"
   ]
  },
  {
   "cell_type": "code",
   "execution_count": 5,
   "metadata": {
    "collapsed": false
   },
   "outputs": [
    {
     "name": "stdout",
     "output_type": "stream",
     "text": [
      "loading scotus network in networkx took 23 seconds\n",
      "loaded scotus network with 33248 cases and 250465 edges\n"
     ]
    }
   ],
   "source": [
    "# this will be a little slow the first time you run it\n",
    "\n",
    "time1 = time.time()\n",
    "G = load_citation_network(data_dir, court_name)\n",
    "time2 = time.time()\n",
    "\n",
    "print 'loading scotus network in networkx took %d seconds' % (time2-time1)\n",
    "print 'loaded %s network with %d cases and %d edges' % (court_name, len(G.nodes()), len(G.edges()))"
   ]
  },
  {
   "cell_type": "markdown",
   "metadata": {},
   "source": [
    "### Remove Case 96405"
   ]
  },
  {
   "cell_type": "code",
   "execution_count": 7,
   "metadata": {
    "collapsed": true
   },
   "outputs": [],
   "source": [
    "G.remove_node(96405)"
   ]
  },
  {
   "cell_type": "markdown",
   "metadata": {},
   "source": [
    "### U = Undirected SCOTUS"
   ]
  },
  {
   "cell_type": "code",
   "execution_count": 9,
   "metadata": {
    "collapsed": true
   },
   "outputs": [],
   "source": [
    "U = G.to_undirected()"
   ]
  },
  {
   "cell_type": "markdown",
   "metadata": {},
   "source": [
    "### Acquire Dictionaries for Centrality Measures of SCOTUS"
   ]
  },
  {
   "cell_type": "code",
   "execution_count": 11,
   "metadata": {
    "collapsed": false
   },
   "outputs": [
    {
     "name": "stdout",
     "output_type": "stream",
     "text": [
      "closeness centrality took 3542 seconds to compute on 33247 nodes and 249239 edges\n",
      "eigenvector centrality took 16 seconds to compute on 33247 nodes and 249239 edges\n",
      "betweenness centrality took 18773 seconds to compute on 33247 nodes and 249239 edges\n",
      "page rank took 4 seconds to compute on 33247 nodes and 249826 edges\n",
      "hubs and authorities took 41 seconds to compute on 33247 nodes and 249826 edges\n"
     ]
    }
   ],
   "source": [
    "time1 = time.time()\n",
    "close_cent_dict = nx.closeness_centrality(U) ## according to intuition, graph results, and numerous outside resources\n",
    "time2  = time.time()\n",
    "print 'closeness centrality took %d seconds to compute on %d nodes and %d edges' % (time2-time1, U.number_of_nodes(), U.number_of_edges())\n",
    "eigen_cent_dict = nx.eigenvector_centrality(U) ## according to networkx\n",
    "time3 = time.time()\n",
    "print 'eigenvector centrality took %d seconds to compute on %d nodes and %d edges' % (time3-time2, U.number_of_nodes(), U.number_of_edges())\n",
    "between_cent_dict = nx.betweenness_centrality(U) ## both directed and undirected and ok (both have normalization for networkx)\n",
    "time4 = time.time()\n",
    "print 'betweenness centrality took %d seconds to compute on %d nodes and %d edges' % (time4-time3, U.number_of_nodes(), U.number_of_edges())\n",
    "page_rank_dict = nx.pagerank(G) ## according to networkx\n",
    "time5 = time.time()\n",
    "print 'page rank took %d seconds to compute on %d nodes and %d edges' % (time5-time4, G.number_of_nodes(), G.number_of_edges())\n",
    "hubs_auths_dict = nx.hits(G) ## according to networkx\n",
    "time6 = time.time()\n",
    "print 'hubs and authorities took %d seconds to compute on %d nodes and %d edges' % (time6-time5, G.number_of_nodes(), G.number_of_edges())\n"
   ]
  },
  {
   "cell_type": "markdown",
   "metadata": {},
   "source": [
    "### Store Centrality Measures for Undirected SCOTUS into CSV File"
   ]
  },
  {
   "cell_type": "code",
   "execution_count": 12,
   "metadata": {
    "collapsed": true
   },
   "outputs": [],
   "source": [
    "close_cent_list = [close_cent_dict[n] for n in U.nodes()]\n",
    "eigen_cent_list = [eigen_cent_dict[n] for n in U.nodes()]\n",
    "between_cent_list = [between_cent_dict[n] for n in U.nodes()]\n",
    "\n",
    "data = {'Case ID': U.nodes(),\n",
    "        'Closeness Centrality': close_cent_list,\n",
    "        'Eigenvector Centrality': eigen_cent_list,\n",
    "        'Betweenness Centrality': between_cent_list\n",
    "       }\n",
    "\n",
    "df = pd.DataFrame(data, columns=['Case ID', 'Closeness Centrality', 'Eigenvector Centrality', 'Betweenness Centrality'])\n",
    "\n",
    "df.to_csv(os.path.join(csvs_dir, '/undirected_scotus_centralities_96405_del.csv'))"
   ]
  },
  {
   "cell_type": "markdown",
   "metadata": {},
   "source": [
    "### Store Centrality Measures for Directed SCOTUS into CSV File"
   ]
  },
  {
   "cell_type": "code",
   "execution_count": 15,
   "metadata": {
    "collapsed": false
   },
   "outputs": [],
   "source": [
    "page_rank_list = [page_rank_dict[n] for n in G.nodes()]\n",
    "hubs_list = [hubs_auths_dict[0][n] for n in G.nodes()]\n",
    "auths_list = [hubs_auths_dict[1][n] for n in G.nodes()]\n",
    "\n",
    "data = {'Case ID': G.nodes(),\n",
    "        'Page Rank': page_rank_list,\n",
    "        'Hubs': hubs_list,\n",
    "        'Authorities': auths_list\n",
    "       }\n",
    "\n",
    "df = pd.DataFrame(data, columns=['Case ID', 'Page Rank', 'Hubs', 'Authorities'])\n",
    "\n",
    "df.to_csv(os.path.join(csvs_dir, '/directed_scotus_centralities_96405_del.csv'))"
   ]
  }
 ],
 "metadata": {
  "anaconda-cloud": {},
  "kernelspec": {
   "display_name": "Python [Root]",
   "language": "python",
   "name": "Python [Root]"
  },
  "language_info": {
   "codemirror_mode": {
    "name": "ipython",
    "version": 2
   },
   "file_extension": ".py",
   "mimetype": "text/x-python",
   "name": "python",
   "nbconvert_exporter": "python",
   "pygments_lexer": "ipython2",
   "version": "2.7.11"
  }
 },
 "nbformat": 4,
 "nbformat_minor": 0
}
