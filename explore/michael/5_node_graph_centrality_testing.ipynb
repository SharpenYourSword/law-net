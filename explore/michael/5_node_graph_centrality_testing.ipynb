{
 "cells": [
  {
   "cell_type": "markdown",
   "metadata": {},
   "source": [
    "### Create Directed Graph 'D' with 5 Nodes and 5 Edges"
   ]
  },
  {
   "cell_type": "code",
   "execution_count": 81,
   "metadata": {
    "collapsed": false,
    "scrolled": false
   },
   "outputs": [
    {
     "name": "stdout",
     "output_type": "stream",
     "text": [
      "number of nodes:  5\n",
      "number of edges:  5\n"
     ]
    },
    {
     "data": {
      "image/png": "[encoded data removed]",
      "text/plain": [
       "<matplotlib.figure.Figure at 0x79db748>"
      ]
     },
     "metadata": {},
     "output_type": "display_data"
    }
   ],
   "source": [
    "# makes plots appear in python\n",
    "%matplotlib inline\n",
    "\n",
    "import networkx as nx\n",
    "import matplotlib.pyplot as plt\n",
    "import pandas as pd\n",
    "import operator\n",
    "\n",
    "D = nx.DiGraph()\n",
    "D.add_nodes_from([1,2,3,4,5])\n",
    "D.add_edges_from([(1,2),(1,4),(2,3),(4,3),(3,5)])\n",
    "\n",
    "print 'number of nodes: ', D.number_of_nodes()\n",
    "print 'number of edges: ', D.number_of_edges()\n",
    "\n",
    "nx.draw(D, with_labels=True)\n",
    "plt.show()"
   ]
  },
  {
   "cell_type": "markdown",
   "metadata": {},
   "source": [
    "### Convert from Directed Graph 'D' to Undirected Graph 'U'"
   ]
  },
  {
   "cell_type": "code",
   "execution_count": 5,
   "metadata": {
    "collapsed": false
   },
   "outputs": [
    {
     "name": "stdout",
     "output_type": "stream",
     "text": [
      "number of nodes:  5\n",
      "number of edges:  5\n"
     ]
    },
    {
     "data": {
      "image/png": "[encoded data removed]",
      "text/plain": [
       "<matplotlib.figure.Figure at 0x36e64a8>"
      ]
     },
     "metadata": {},
     "output_type": "display_data"
    }
   ],
   "source": [
    "U = D.to_undirected()\n",
    "\n",
    "print 'number of nodes: ', U.number_of_nodes()\n",
    "print 'number of edges: ', U.number_of_edges()\n",
    "nx.draw(U, with_labels=True)\n",
    "plt.show()"
   ]
  },
  {
   "cell_type": "markdown",
   "metadata": {},
   "source": [
    "### Comparing Closeness Centrality between 'D' and 'U'"
   ]
  },
  {
   "cell_type": "code",
   "execution_count": 111,
   "metadata": {
    "collapsed": false
   },
   "outputs": [
    {
     "name": "stdout",
     "output_type": "stream",
     "text": [
      "sorted by greatest closeness centrality values for D\n"
     ]
    },
    {
     "data": {
      "text/html": [
       "<div>\n",
       "<table border=\"1\" class=\"dataframe\">\n",
       "  <thead>\n",
       "    <tr style=\"text-align: right;\">\n",
       "      <th></th>\n",
       "      <th>Closeness Centrality Values for D</th>\n",
       "      <th>Closeness Centrality Values for U</th>\n",
       "    </tr>\n",
       "  </thead>\n",
       "  <tbody>\n",
       "    <tr>\n",
       "      <th>1</th>\n",
       "      <td>0.571429</td>\n",
       "      <td>0.571429</td>\n",
       "    </tr>\n",
       "    <tr>\n",
       "      <th>2</th>\n",
       "      <td>0.333333</td>\n",
       "      <td>0.666667</td>\n",
       "    </tr>\n",
       "    <tr>\n",
       "      <th>4</th>\n",
       "      <td>0.333333</td>\n",
       "      <td>0.666667</td>\n",
       "    </tr>\n",
       "    <tr>\n",
       "      <th>3</th>\n",
       "      <td>0.250000</td>\n",
       "      <td>0.800000</td>\n",
       "    </tr>\n",
       "    <tr>\n",
       "      <th>5</th>\n",
       "      <td>0.000000</td>\n",
       "      <td>0.500000</td>\n",
       "    </tr>\n",
       "  </tbody>\n",
       "</table>\n",
       "</div>"
      ],
      "text/plain": [
       "   Closeness Centrality Values for D  Closeness Centrality Values for U\n",
       "1                           0.571429                           0.571429\n",
       "2                           0.333333                           0.666667\n",
       "4                           0.333333                           0.666667\n",
       "3                           0.250000                           0.800000\n",
       "5                           0.000000                           0.500000"
      ]
     },
     "execution_count": 111,
     "metadata": {},
     "output_type": "execute_result"
    }
   ],
   "source": [
    "close_cent_dict_D = nx.closeness_centrality(D)\n",
    "close_cent_dict_U = nx.closeness_centrality(U)\n",
    "\n",
    "ccd_D = sorted(close_cent_dict_D.iteritems(), key=operator.itemgetter(1), reverse=True)\n",
    "\n",
    "nodes = [x[0] for x in ccd_D]\n",
    "ccd_D_vals = [x[1] for x in ccd_D]\n",
    "ccd_U_vals = [close_cent_dict_U[node] for node in nodes]\n",
    "\n",
    "data = {'Closeness Centrality Values for D': ccd_D_vals,\n",
    "        'Closeness Centrality Values for U': ccd_U_vals,\n",
    "       }\n",
    "df = pd.DataFrame(data, index=nodes)\n",
    "\n",
    "print 'sorted by greatest closeness centrality values for D'\n",
    "df"
   ]
  },
  {
   "cell_type": "markdown",
   "metadata": {},
   "source": [
    "### Comparing Eigenvector Centrality between 'D' and 'U'\n",
    "##### This fails on U \n",
    "##### Increasing the max_iteration also fails\n",
    "##### Do NOT use 'eigenvector_centrality_numpy(graph_object)', as this produces different values every time it's ran (unreliable)"
   ]
  },
  {
   "cell_type": "code",
   "execution_count": 107,
   "metadata": {
    "collapsed": false,
    "scrolled": true
   },
   "outputs": [
    {
     "name": "stdout",
     "output_type": "stream",
     "text": [
      "could NOT compute eigenvector centrality for U\n"
     ]
    },
    {
     "data": {
      "text/html": [
       "<div>\n",
       "<table border=\"1\" class=\"dataframe\">\n",
       "  <thead>\n",
       "    <tr style=\"text-align: right;\">\n",
       "      <th></th>\n",
       "      <th>Eigenvector Centrality Values for D</th>\n",
       "    </tr>\n",
       "  </thead>\n",
       "  <tbody>\n",
       "    <tr>\n",
       "      <th>1</th>\n",
       "      <td>0.0</td>\n",
       "    </tr>\n",
       "    <tr>\n",
       "      <th>2</th>\n",
       "      <td>0.0</td>\n",
       "    </tr>\n",
       "    <tr>\n",
       "      <th>3</th>\n",
       "      <td>0.0</td>\n",
       "    </tr>\n",
       "    <tr>\n",
       "      <th>4</th>\n",
       "      <td>0.0</td>\n",
       "    </tr>\n",
       "    <tr>\n",
       "      <th>5</th>\n",
       "      <td>0.0</td>\n",
       "    </tr>\n",
       "  </tbody>\n",
       "</table>\n",
       "</div>"
      ],
      "text/plain": [
       "   Eigenvector Centrality Values for D\n",
       "1                                  0.0\n",
       "2                                  0.0\n",
       "3                                  0.0\n",
       "4                                  0.0\n",
       "5                                  0.0"
      ]
     },
     "execution_count": 107,
     "metadata": {},
     "output_type": "execute_result"
    }
   ],
   "source": [
    "eigen_cent_dict_D = nx.eigenvector_centrality(D)\n",
    "\n",
    "try:\n",
    "    eigen_cent_dict_U = nx.eigenvector_centrality(U)\n",
    "except Exception:\n",
    "    print 'could NOT compute eigenvector centrality for U'\n",
    "    pass\n",
    "\n",
    "ecd_D = sorted(eigen_cent_dict_D.iteritems(), key=operator.itemgetter(0))\n",
    "\n",
    "nodes = [x[0] for x in ecd_D]\n",
    "ecd_D_vals = [x[1] for x in ecd_D]\n",
    "\n",
    "data = {'Eigenvector Centrality Values for D': ecd_D_vals}\n",
    "df = pd.DataFrame(data, index=nodes)\n",
    "df"
   ]
  },
  {
   "cell_type": "markdown",
   "metadata": {},
   "source": [
    "### Comparing Betweenness Centrality between 'D' and 'U'"
   ]
  },
  {
   "cell_type": "code",
   "execution_count": 112,
   "metadata": {
    "collapsed": false
   },
   "outputs": [
    {
     "name": "stdout",
     "output_type": "stream",
     "text": [
      "sorted by greatest betweenness centrality values for D\n"
     ]
    },
    {
     "data": {
      "text/html": [
       "<div>\n",
       "<table border=\"1\" class=\"dataframe\">\n",
       "  <thead>\n",
       "    <tr style=\"text-align: right;\">\n",
       "      <th></th>\n",
       "      <th>Betweenness Centrality Values for D</th>\n",
       "      <th>Betweenness Centrality Values for U</th>\n",
       "    </tr>\n",
       "  </thead>\n",
       "  <tbody>\n",
       "    <tr>\n",
       "      <th>3</th>\n",
       "      <td>0.250000</td>\n",
       "      <td>0.583333</td>\n",
       "    </tr>\n",
       "    <tr>\n",
       "      <th>2</th>\n",
       "      <td>0.083333</td>\n",
       "      <td>0.166667</td>\n",
       "    </tr>\n",
       "    <tr>\n",
       "      <th>4</th>\n",
       "      <td>0.083333</td>\n",
       "      <td>0.166667</td>\n",
       "    </tr>\n",
       "    <tr>\n",
       "      <th>1</th>\n",
       "      <td>0.000000</td>\n",
       "      <td>0.083333</td>\n",
       "    </tr>\n",
       "    <tr>\n",
       "      <th>5</th>\n",
       "      <td>0.000000</td>\n",
       "      <td>0.000000</td>\n",
       "    </tr>\n",
       "  </tbody>\n",
       "</table>\n",
       "</div>"
      ],
      "text/plain": [
       "   Betweenness Centrality Values for D  Betweenness Centrality Values for U\n",
       "3                             0.250000                             0.583333\n",
       "2                             0.083333                             0.166667\n",
       "4                             0.083333                             0.166667\n",
       "1                             0.000000                             0.083333\n",
       "5                             0.000000                             0.000000"
      ]
     },
     "execution_count": 112,
     "metadata": {},
     "output_type": "execute_result"
    }
   ],
   "source": [
    "between_cent_dict_D = nx.betweenness_centrality(D)\n",
    "between_cent_dict_U = nx.betweenness_centrality(U)\n",
    "\n",
    "bcd_D = sorted(between_cent_dict_D.iteritems(), key=operator.itemgetter(1), reverse=True)\n",
    "\n",
    "nodes = [x[0] for x in bcd_D]\n",
    "bcd_D_vals = [x[1] for x in bcd_D]\n",
    "bcd_U_vals = [between_cent_dict_U[node] for node in nodes]\n",
    "\n",
    "data = {'Betweenness Centrality Values for D': bcd_D_vals,\n",
    "        'Betweenness Centrality Values for U': bcd_U_vals,\n",
    "       }\n",
    "df = pd.DataFrame(data, index=nodes)\n",
    "\n",
    "print 'sorted by greatest betweenness centrality values for D'\n",
    "df"
   ]
  },
  {
   "cell_type": "markdown",
   "metadata": {},
   "source": [
    "### Comparing Page Rank between 'D' and 'U'"
   ]
  },
  {
   "cell_type": "code",
   "execution_count": 113,
   "metadata": {
    "collapsed": false
   },
   "outputs": [
    {
     "name": "stdout",
     "output_type": "stream",
     "text": [
      "sorted by greatest page rank values for D\n"
     ]
    },
    {
     "data": {
      "text/html": [
       "<div>\n",
       "<table border=\"1\" class=\"dataframe\">\n",
       "  <thead>\n",
       "    <tr style=\"text-align: right;\">\n",
       "      <th></th>\n",
       "      <th>Page Rank Values for D</th>\n",
       "      <th>Page Rank Values for U</th>\n",
       "    </tr>\n",
       "  </thead>\n",
       "  <tbody>\n",
       "    <tr>\n",
       "      <th>5</th>\n",
       "      <td>0.349602</td>\n",
       "      <td>0.113332</td>\n",
       "    </tr>\n",
       "    <tr>\n",
       "      <th>3</th>\n",
       "      <td>0.306083</td>\n",
       "      <td>0.294111</td>\n",
       "    </tr>\n",
       "    <tr>\n",
       "      <th>2</th>\n",
       "      <td>0.127441</td>\n",
       "      <td>0.197389</td>\n",
       "    </tr>\n",
       "    <tr>\n",
       "      <th>4</th>\n",
       "      <td>0.127441</td>\n",
       "      <td>0.197389</td>\n",
       "    </tr>\n",
       "    <tr>\n",
       "      <th>1</th>\n",
       "      <td>0.089432</td>\n",
       "      <td>0.197780</td>\n",
       "    </tr>\n",
       "  </tbody>\n",
       "</table>\n",
       "</div>"
      ],
      "text/plain": [
       "   Page Rank Values for D  Page Rank Values for U\n",
       "5                0.349602                0.113332\n",
       "3                0.306083                0.294111\n",
       "2                0.127441                0.197389\n",
       "4                0.127441                0.197389\n",
       "1                0.089432                0.197780"
      ]
     },
     "execution_count": 113,
     "metadata": {},
     "output_type": "execute_result"
    }
   ],
   "source": [
    "page_rank_dict_D = nx.pagerank(D)\n",
    "page_rank_dict_U = nx.pagerank(U)\n",
    "\n",
    "prd_D = sorted(page_rank_dict_D.iteritems(), key=operator.itemgetter(1), reverse=True)\n",
    "\n",
    "nodes = [x[0] for x in prd_D]\n",
    "prd_D_vals = [x[1] for x in prd_D]\n",
    "prd_U_vals = [page_rank_dict_U[node] for node in nodes]\n",
    "\n",
    "data = {'Page Rank Values for D': prd_D_vals,\n",
    "        'Page Rank Values for U': prd_U_vals,\n",
    "       }\n",
    "df = pd.DataFrame(data, index=nodes)\n",
    "\n",
    "print 'sorted by greatest page rank values for D'\n",
    "df"
   ]
  },
  {
   "cell_type": "markdown",
   "metadata": {},
   "source": [
    "### Comparing Hubs between 'D' and 'U'"
   ]
  },
  {
   "cell_type": "code",
   "execution_count": 114,
   "metadata": {
    "collapsed": false,
    "scrolled": false
   },
   "outputs": [
    {
     "name": "stdout",
     "output_type": "stream",
     "text": [
      "sorted by greatest hubs values for D\n"
     ]
    },
    {
     "data": {
      "text/html": [
       "<div>\n",
       "<table border=\"1\" class=\"dataframe\">\n",
       "  <thead>\n",
       "    <tr style=\"text-align: right;\">\n",
       "      <th></th>\n",
       "      <th>Hubs Values for D</th>\n",
       "      <th>Hubs Values for U</th>\n",
       "    </tr>\n",
       "  </thead>\n",
       "  <tbody>\n",
       "    <tr>\n",
       "      <th>1</th>\n",
       "      <td>3.333333e-01</td>\n",
       "      <td>0.179806</td>\n",
       "    </tr>\n",
       "    <tr>\n",
       "      <th>2</th>\n",
       "      <td>3.333333e-01</td>\n",
       "      <td>0.230291</td>\n",
       "    </tr>\n",
       "    <tr>\n",
       "      <th>4</th>\n",
       "      <td>3.333333e-01</td>\n",
       "      <td>0.230291</td>\n",
       "    </tr>\n",
       "    <tr>\n",
       "      <th>3</th>\n",
       "      <td>2.483527e-09</td>\n",
       "      <td>0.230291</td>\n",
       "    </tr>\n",
       "    <tr>\n",
       "      <th>5</th>\n",
       "      <td>0.000000e+00</td>\n",
       "      <td>0.129321</td>\n",
       "    </tr>\n",
       "  </tbody>\n",
       "</table>\n",
       "</div>"
      ],
      "text/plain": [
       "   Hubs Values for D  Hubs Values for U\n",
       "1       3.333333e-01           0.179806\n",
       "2       3.333333e-01           0.230291\n",
       "4       3.333333e-01           0.230291\n",
       "3       2.483527e-09           0.230291\n",
       "5       0.000000e+00           0.129321"
      ]
     },
     "execution_count": 114,
     "metadata": {},
     "output_type": "execute_result"
    }
   ],
   "source": [
    "# tuple of two dictionaries ({node: hubs value, ...} , {node: authorities value, ...})\n",
    "hubs_auths_dict_D = nx.hits(D)\n",
    "hubs_auths_dict_U = nx.hits(U)\n",
    "\n",
    "# dictionary of just {node: hubs value, node: hubs value, ...}\n",
    "hubs_dict_D = hubs_auths_dict_D[0]\n",
    "hubs_dict_U = hubs_auths_dict_U[0]\n",
    "\n",
    "hd_D = sorted(hubs_dict_D.iteritems(), key=operator.itemgetter(1), reverse=True)\n",
    "\n",
    "nodes = [x[0] for x in hd_D]\n",
    "hd_D_vals = [x[1] for x in hd_D]\n",
    "hd_U_vals = [hubs_dict_U[node] for node in nodes]\n",
    "\n",
    "data = {'Hubs Values for D': hd_D_vals,\n",
    "        'Hubs Values for U': hd_U_vals,\n",
    "       }\n",
    "df = pd.DataFrame(data, index=nodes)\n",
    "\n",
    "print 'sorted by greatest hubs values for D'\n",
    "df"
   ]
  },
  {
   "cell_type": "markdown",
   "metadata": {},
   "source": [
    "### Comparing Authorities between 'D' and 'U'"
   ]
  },
  {
   "cell_type": "code",
   "execution_count": 116,
   "metadata": {
    "collapsed": false
   },
   "outputs": [
    {
     "name": "stdout",
     "output_type": "stream",
     "text": [
      "sorted by greatest authorities values for D\n"
     ]
    },
    {
     "data": {
      "text/html": [
       "<div>\n",
       "<table border=\"1\" class=\"dataframe\">\n",
       "  <thead>\n",
       "    <tr style=\"text-align: right;\">\n",
       "      <th></th>\n",
       "      <th>Authorities Values for D</th>\n",
       "      <th>Authorities Values for U</th>\n",
       "    </tr>\n",
       "  </thead>\n",
       "  <tbody>\n",
       "    <tr>\n",
       "      <th>3</th>\n",
       "      <td>5.000000e-01</td>\n",
       "      <td>0.280776</td>\n",
       "    </tr>\n",
       "    <tr>\n",
       "      <th>2</th>\n",
       "      <td>2.500000e-01</td>\n",
       "      <td>0.195194</td>\n",
       "    </tr>\n",
       "    <tr>\n",
       "      <th>4</th>\n",
       "      <td>2.500000e-01</td>\n",
       "      <td>0.195194</td>\n",
       "    </tr>\n",
       "    <tr>\n",
       "      <th>5</th>\n",
       "      <td>3.725290e-09</td>\n",
       "      <td>0.109612</td>\n",
       "    </tr>\n",
       "    <tr>\n",
       "      <th>1</th>\n",
       "      <td>0.000000e+00</td>\n",
       "      <td>0.219224</td>\n",
       "    </tr>\n",
       "  </tbody>\n",
       "</table>\n",
       "</div>"
      ],
      "text/plain": [
       "   Authorities Values for D  Authorities Values for U\n",
       "3              5.000000e-01                  0.280776\n",
       "2              2.500000e-01                  0.195194\n",
       "4              2.500000e-01                  0.195194\n",
       "5              3.725290e-09                  0.109612\n",
       "1              0.000000e+00                  0.219224"
      ]
     },
     "execution_count": 116,
     "metadata": {},
     "output_type": "execute_result"
    }
   ],
   "source": [
    "# dictionary of just {node: authorities value, node: authorities value, ...}\n",
    "auths_dict_D = hubs_auths_dict_D[1]\n",
    "auths_dict_U = hubs_auths_dict_U[1]\n",
    "\n",
    "ad_D = sorted(auths_dict_D.iteritems(), key=operator.itemgetter(1), reverse=True)\n",
    "\n",
    "nodes = [x[0] for x in ad_D]\n",
    "ad_D_vals = [x[1] for x in ad_D]\n",
    "ad_U_vals = [auths_dict_U[node] for node in nodes]\n",
    "\n",
    "data = {'Authorities Values for D': ad_D_vals,\n",
    "        'Authorities Values for U': ad_U_vals,\n",
    "       }\n",
    "df = pd.DataFrame(data, index=nodes)\n",
    "\n",
    "print 'sorted by greatest authorities values for D'\n",
    "df"
   ]
  },
  {
   "cell_type": "code",
   "execution_count": null,
   "metadata": {
    "collapsed": true
   },
   "outputs": [],
   "source": []
  }
 ],
 "metadata": {
  "anaconda-cloud": {},
  "kernelspec": {
   "display_name": "Python [Root]",
   "language": "python",
   "name": "Python [Root]"
  },
  "language_info": {
   "codemirror_mode": {
    "name": "ipython",
    "version": 2
   },
   "file_extension": ".py",
   "mimetype": "text/x-python",
   "name": "python",
   "nbconvert_exporter": "python",
   "pygments_lexer": "ipython2",
   "version": "2.7.11"
  }
 },
 "nbformat": 4,
 "nbformat_minor": 0
}
