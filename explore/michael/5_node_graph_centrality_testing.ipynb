{
 "cells": [
  {
   "cell_type": "markdown",
   "metadata": {},
   "source": [
    "### Create Directed Graph 'D' with 5 Nodes and 5 Edges"
   ]
  },
  {
   "cell_type": "code",
   "execution_count": 33,
   "metadata": {
    "collapsed": false,
    "scrolled": false
   },
   "outputs": [
    {
     "name": "stdout",
     "output_type": "stream",
     "text": [
      "number of nodes:  5\n",
      "number of edges:  5\n"
     ]
    },
    {
     "data": {
      "image/png": "[encoded data removed]",
      "text/plain": [
       "<matplotlib.figure.Figure at 0x77f7ef0>"
      ]
     },
     "metadata": {},
     "output_type": "display_data"
    }
   ],
   "source": [
    "# makes plots appear in python\n",
    "%matplotlib inline\n",
    "\n",
    "import networkx as nx\n",
    "import matplotlib.pyplot as plt\n",
    "import pandas as pd\n",
    "\n",
    "D = nx.DiGraph()\n",
    "D.add_nodes_from([1,2,3,4,5])\n",
    "D.add_edges_from([(1,2),(1,4),(2,3),(4,3),(3,5)])\n",
    "\n",
    "print 'number of nodes: ', D.number_of_nodes()\n",
    "print 'number of edges: ', D.number_of_edges()\n",
    "\n",
    "nx.draw(D, with_labels=True)\n",
    "plt.show()"
   ]
  },
  {
   "cell_type": "markdown",
   "metadata": {},
   "source": [
    "### Convert from Directed Graph 'D' to Undirected Graph 'U'"
   ]
  },
  {
   "cell_type": "code",
   "execution_count": 5,
   "metadata": {
    "collapsed": false
   },
   "outputs": [
    {
     "name": "stdout",
     "output_type": "stream",
     "text": [
      "number of nodes:  5\n",
      "number of edges:  5\n"
     ]
    },
    {
     "data": {
      "image/png": "[encoded data removed]",
      "text/plain": [
       "<matplotlib.figure.Figure at 0x36e64a8>"
      ]
     },
     "metadata": {},
     "output_type": "display_data"
    }
   ],
   "source": [
    "U = D.to_undirected()\n",
    "\n",
    "print 'number of nodes: ', U.number_of_nodes()\n",
    "print 'number of edges: ', U.number_of_edges()\n",
    "nx.draw(U, with_labels=True)\n",
    "plt.show()"
   ]
  },
  {
   "cell_type": "markdown",
   "metadata": {},
   "source": [
    "### Comparing Closeness Centrality between 'D' and 'U'"
   ]
  },
  {
   "cell_type": "code",
   "execution_count": 23,
   "metadata": {
    "collapsed": false
   },
   "outputs": [
    {
     "name": "stdout",
     "output_type": "stream",
     "text": [
      "Closeness Centrality Values for Nodes in D:\n",
      "{1: 0.5714285714285714, 2: 0.3333333333333333, 3: 0.25, 4: 0.3333333333333333, 5: 0.0}\n",
      "Closeness Centrality Values for Nodes in U:\n",
      "{1: 0.5714285714285714, 2: 0.6666666666666666, 3: 0.8, 4: 0.6666666666666666, 5: 0.5}\n"
     ]
    }
   ],
   "source": [
    "close_cent_dict_D = nx.closeness_centrality(D)\n",
    "close_cent_dict_U = nx.closeness_centrality(U)\n",
    "\n",
    "print 'Closeness Centrality Values for Nodes in D:'\n",
    "print close_cent_dict_D\n",
    "print 'Closeness Centrality Values for Nodes in U:'\n",
    "print close_cent_dict_U"
   ]
  },
  {
   "cell_type": "code",
   "execution_count": 77,
   "metadata": {
    "collapsed": false
   },
   "outputs": [
    {
     "data": {
      "text/html": [
       "<div>\n",
       "<table border=\"1\" class=\"dataframe\">\n",
       "  <thead>\n",
       "    <tr style=\"text-align: right;\">\n",
       "      <th></th>\n",
       "      <th>Closeness Centrality Values for D</th>\n",
       "    </tr>\n",
       "  </thead>\n",
       "  <tbody>\n",
       "    <tr>\n",
       "      <th>1</th>\n",
       "      <td>0.571429</td>\n",
       "    </tr>\n",
       "    <tr>\n",
       "      <th>2</th>\n",
       "      <td>0.333333</td>\n",
       "    </tr>\n",
       "    <tr>\n",
       "      <th>3</th>\n",
       "      <td>0.250000</td>\n",
       "    </tr>\n",
       "    <tr>\n",
       "      <th>4</th>\n",
       "      <td>0.333333</td>\n",
       "    </tr>\n",
       "    <tr>\n",
       "      <th>5</th>\n",
       "      <td>0.000000</td>\n",
       "    </tr>\n",
       "  </tbody>\n",
       "</table>\n",
       "</div>"
      ],
      "text/plain": [
       "   Closeness Centrality Values for D\n",
       "1                           0.571429\n",
       "2                           0.333333\n",
       "3                           0.250000\n",
       "4                           0.333333\n",
       "5                           0.000000"
      ]
     },
     "execution_count": 77,
     "metadata": {},
     "output_type": "execute_result"
    }
   ],
   "source": [
    "close_cent_dict_D = nx.closeness_centrality(D)\n",
    "close_cent_dict_U = nx.closeness_centrality(U)\n",
    "\n",
    "data_D = {'Closeness Centrality Values for D': close_cent_dict_D.values()}\n",
    "df_D = pd.DataFrame(data_D, index = close_cent_dict_D.keys())\n",
    "df_D\n"
   ]
  },
  {
   "cell_type": "code",
   "execution_count": 78,
   "metadata": {
    "collapsed": false
   },
   "outputs": [
    {
     "data": {
      "text/html": [
       "<div>\n",
       "<table border=\"1\" class=\"dataframe\">\n",
       "  <thead>\n",
       "    <tr style=\"text-align: right;\">\n",
       "      <th></th>\n",
       "      <th>Closeness Centrality Values for U</th>\n",
       "    </tr>\n",
       "  </thead>\n",
       "  <tbody>\n",
       "    <tr>\n",
       "      <th>1</th>\n",
       "      <td>0.571429</td>\n",
       "    </tr>\n",
       "    <tr>\n",
       "      <th>2</th>\n",
       "      <td>0.666667</td>\n",
       "    </tr>\n",
       "    <tr>\n",
       "      <th>3</th>\n",
       "      <td>0.800000</td>\n",
       "    </tr>\n",
       "    <tr>\n",
       "      <th>4</th>\n",
       "      <td>0.666667</td>\n",
       "    </tr>\n",
       "    <tr>\n",
       "      <th>5</th>\n",
       "      <td>0.500000</td>\n",
       "    </tr>\n",
       "  </tbody>\n",
       "</table>\n",
       "</div>"
      ],
      "text/plain": [
       "   Closeness Centrality Values for U\n",
       "1                           0.571429\n",
       "2                           0.666667\n",
       "3                           0.800000\n",
       "4                           0.666667\n",
       "5                           0.500000"
      ]
     },
     "execution_count": 78,
     "metadata": {},
     "output_type": "execute_result"
    }
   ],
   "source": [
    "data_U = {'Closeness Centrality Values for U': close_cent_dict_U.values()}\n",
    "df_U = pd.DataFrame(data_U, index = close_cent_dict_U.keys())\n",
    "df_U"
   ]
  },
  {
   "cell_type": "markdown",
   "metadata": {},
   "source": [
    "### Comparing Eigenvector Centrality between 'D' and 'U' Attempt #1\n",
    "##### This fails but worked on our uncleaned, SCOTUS network with ~60,000 cases/nodes (why?)"
   ]
  },
  {
   "cell_type": "code",
   "execution_count": 9,
   "metadata": {
    "collapsed": false,
    "scrolled": true
   },
   "outputs": [
    {
     "ename": "NetworkXError",
     "evalue": "eigenvector_centrality():\npower iteration failed to converge in %d iterations.\"%(i+1))",
     "output_type": "error",
     "traceback": [
      "\u001b[1;31m---------------------------------------------------------------------------\u001b[0m",
      "\u001b[1;31mNetworkXError\u001b[0m                             Traceback (most recent call last)",
      "\u001b[1;32m<ipython-input-9-5e5b6e4aa6dd>\u001b[0m in \u001b[0;36m<module>\u001b[1;34m()\u001b[0m\n\u001b[0;32m      1\u001b[0m \u001b[0meigen_cent_dict_D\u001b[0m \u001b[1;33m=\u001b[0m \u001b[0mnx\u001b[0m\u001b[1;33m.\u001b[0m\u001b[0meigenvector_centrality\u001b[0m\u001b[1;33m(\u001b[0m\u001b[0mD\u001b[0m\u001b[1;33m)\u001b[0m\u001b[1;33m\u001b[0m\u001b[0m\n\u001b[1;32m----> 2\u001b[1;33m \u001b[0meigen_cent_dict_U\u001b[0m \u001b[1;33m=\u001b[0m \u001b[0mnx\u001b[0m\u001b[1;33m.\u001b[0m\u001b[0meigenvector_centrality\u001b[0m\u001b[1;33m(\u001b[0m\u001b[0mU\u001b[0m\u001b[1;33m)\u001b[0m\u001b[1;33m\u001b[0m\u001b[0m\n\u001b[0m\u001b[0;32m      3\u001b[0m \u001b[1;33m\u001b[0m\u001b[0m\n\u001b[0;32m      4\u001b[0m \u001b[1;32mprint\u001b[0m \u001b[1;34m'Eigenvector Centrality Values for Nodes in D:'\u001b[0m\u001b[1;33m\u001b[0m\u001b[0m\n\u001b[0;32m      5\u001b[0m \u001b[1;32mprint\u001b[0m \u001b[0meigen_cent_dict_D\u001b[0m\u001b[1;33m\u001b[0m\u001b[0m\n",
      "\u001b[1;32mC:\\Users\\Michael\\Anaconda2\\lib\\site-packages\\networkx\\algorithms\\centrality\\eigenvector.pyc\u001b[0m in \u001b[0;36meigenvector_centrality\u001b[1;34m(G, max_iter, tol, nstart, weight)\u001b[0m\n\u001b[0;32m    131\u001b[0m \u001b[1;33m\u001b[0m\u001b[0m\n\u001b[0;32m    132\u001b[0m     raise nx.NetworkXError(\"\"\"eigenvector_centrality():\n\u001b[1;32m--> 133\u001b[1;33m power iteration failed to converge in %d iterations.\"%(i+1))\"\"\")\n\u001b[0m\u001b[0;32m    134\u001b[0m \u001b[1;33m\u001b[0m\u001b[0m\n\u001b[0;32m    135\u001b[0m \u001b[1;33m\u001b[0m\u001b[0m\n",
      "\u001b[1;31mNetworkXError\u001b[0m: eigenvector_centrality():\npower iteration failed to converge in %d iterations.\"%(i+1))"
     ]
    }
   ],
   "source": [
    "eigen_cent_dict_D = nx.eigenvector_centrality(D)\n",
    "eigen_cent_dict_U = nx.eigenvector_centrality(U)\n",
    "\n",
    "print 'Eigenvector Centrality Values for Nodes in D:'\n",
    "print eigen_cent_dict_D\n",
    "print 'Eigenvector Centrality Values for Node sin U:'\n",
    "print eigen_cent_dict_U"
   ]
  },
  {
   "cell_type": "markdown",
   "metadata": {},
   "source": [
    "### Comparing Eigenvector Centrality between 'D' and 'U' Attempt #2 (increase max_iteration from 100 to 1000)\n",
    "##### This fails, and so does many other iterations (200, 300, 400, 500, 600, 700, 800, 900, etc.)"
   ]
  },
  {
   "cell_type": "code",
   "execution_count": 13,
   "metadata": {
    "collapsed": false,
    "scrolled": false
   },
   "outputs": [
    {
     "ename": "NetworkXError",
     "evalue": "eigenvector_centrality():\npower iteration failed to converge in %d iterations.\"%(i+1))",
     "output_type": "error",
     "traceback": [
      "\u001b[1;31m---------------------------------------------------------------------------\u001b[0m",
      "\u001b[1;31mNetworkXError\u001b[0m                             Traceback (most recent call last)",
      "\u001b[1;32m<ipython-input-13-fde5cd14600c>\u001b[0m in \u001b[0;36m<module>\u001b[1;34m()\u001b[0m\n\u001b[0;32m      1\u001b[0m \u001b[0meigen_cent_dict_D\u001b[0m \u001b[1;33m=\u001b[0m \u001b[0mnx\u001b[0m\u001b[1;33m.\u001b[0m\u001b[0meigenvector_centrality\u001b[0m\u001b[1;33m(\u001b[0m\u001b[0mD\u001b[0m\u001b[1;33m,\u001b[0m \u001b[0mmax_iter\u001b[0m\u001b[1;33m=\u001b[0m\u001b[1;36m1000\u001b[0m\u001b[1;33m)\u001b[0m\u001b[1;33m\u001b[0m\u001b[0m\n\u001b[1;32m----> 2\u001b[1;33m \u001b[0meigen_cent_dict_U\u001b[0m \u001b[1;33m=\u001b[0m \u001b[0mnx\u001b[0m\u001b[1;33m.\u001b[0m\u001b[0meigenvector_centrality\u001b[0m\u001b[1;33m(\u001b[0m\u001b[0mU\u001b[0m\u001b[1;33m,\u001b[0m \u001b[0mmax_iter\u001b[0m\u001b[1;33m=\u001b[0m\u001b[1;36m1000\u001b[0m\u001b[1;33m)\u001b[0m\u001b[1;33m\u001b[0m\u001b[0m\n\u001b[0m\u001b[0;32m      3\u001b[0m \u001b[1;33m\u001b[0m\u001b[0m\n\u001b[0;32m      4\u001b[0m \u001b[1;32mprint\u001b[0m \u001b[1;34m'Eigenvector Centrality Values for Nodes in D:'\u001b[0m\u001b[1;33m\u001b[0m\u001b[0m\n\u001b[0;32m      5\u001b[0m \u001b[1;32mprint\u001b[0m \u001b[0meigen_cent_dict_D\u001b[0m\u001b[1;33m\u001b[0m\u001b[0m\n",
      "\u001b[1;32mC:\\Users\\Michael\\Anaconda2\\lib\\site-packages\\networkx\\algorithms\\centrality\\eigenvector.pyc\u001b[0m in \u001b[0;36meigenvector_centrality\u001b[1;34m(G, max_iter, tol, nstart, weight)\u001b[0m\n\u001b[0;32m    131\u001b[0m \u001b[1;33m\u001b[0m\u001b[0m\n\u001b[0;32m    132\u001b[0m     raise nx.NetworkXError(\"\"\"eigenvector_centrality():\n\u001b[1;32m--> 133\u001b[1;33m power iteration failed to converge in %d iterations.\"%(i+1))\"\"\")\n\u001b[0m\u001b[0;32m    134\u001b[0m \u001b[1;33m\u001b[0m\u001b[0m\n\u001b[0;32m    135\u001b[0m \u001b[1;33m\u001b[0m\u001b[0m\n",
      "\u001b[1;31mNetworkXError\u001b[0m: eigenvector_centrality():\npower iteration failed to converge in %d iterations.\"%(i+1))"
     ]
    }
   ],
   "source": [
    "eigen_cent_dict_D = nx.eigenvector_centrality(D, max_iter=1000)\n",
    "eigen_cent_dict_U = nx.eigenvector_centrality(U, max_iter=1000)\n",
    "\n",
    "print 'Eigenvector Centrality Values for Nodes in D:'\n",
    "print eigen_cent_dict_D\n",
    "print 'Eigenvector Centrality Values for Node sin U:'\n",
    "print eigen_cent_dict_U"
   ]
  },
  {
   "cell_type": "markdown",
   "metadata": {},
   "source": [
    "### Comparing Eigenvector Centrality between 'D' and 'U' Attempt #3 (use 'eigenvector_centrality_numpy()')\n",
    "##### This fails, and I suggest NOT using eigenvector_centrality_numpy() because I ran this on 1980s SCOTUS, and the values kept changing every time I ran it"
   ]
  },
  {
   "cell_type": "code",
   "execution_count": 17,
   "metadata": {
    "collapsed": false,
    "scrolled": true
   },
   "outputs": [
    {
     "ename": "ArpackNoConvergence",
     "evalue": "ARPACK error -1: No convergence (51 iterations, 0/1 eigenvectors converged) [ARPACK error -14: DNAUPD  did not find any eigenvalues to sufficient accuracy.]",
     "output_type": "error",
     "traceback": [
      "\u001b[1;31m---------------------------------------------------------------------------\u001b[0m",
      "\u001b[1;31mArpackNoConvergence\u001b[0m                       Traceback (most recent call last)",
      "\u001b[1;32m<ipython-input-17-df7239c6a601>\u001b[0m in \u001b[0;36m<module>\u001b[1;34m()\u001b[0m\n\u001b[1;32m----> 1\u001b[1;33m \u001b[0meigen_cent_dict_D\u001b[0m \u001b[1;33m=\u001b[0m \u001b[0mnx\u001b[0m\u001b[1;33m.\u001b[0m\u001b[0meigenvector_centrality_numpy\u001b[0m\u001b[1;33m(\u001b[0m\u001b[0mD\u001b[0m\u001b[1;33m)\u001b[0m\u001b[1;33m\u001b[0m\u001b[0m\n\u001b[0m\u001b[0;32m      2\u001b[0m \u001b[0meigen_cent_dict_U\u001b[0m \u001b[1;33m=\u001b[0m \u001b[0mnx\u001b[0m\u001b[1;33m.\u001b[0m\u001b[0meigenvector_centrality_numpy\u001b[0m\u001b[1;33m(\u001b[0m\u001b[0mU\u001b[0m\u001b[1;33m)\u001b[0m\u001b[1;33m\u001b[0m\u001b[0m\n\u001b[0;32m      3\u001b[0m \u001b[1;33m\u001b[0m\u001b[0m\n\u001b[0;32m      4\u001b[0m \u001b[1;32mprint\u001b[0m \u001b[1;34m'Eigenvector Centrality Values for Nodes in D:'\u001b[0m\u001b[1;33m\u001b[0m\u001b[0m\n\u001b[0;32m      5\u001b[0m \u001b[1;32mprint\u001b[0m \u001b[0meigen_cent_dict_D\u001b[0m\u001b[1;33m\u001b[0m\u001b[0m\n",
      "\u001b[1;32mC:\\Users\\Michael\\Anaconda2\\lib\\site-packages\\networkx\\algorithms\\centrality\\eigenvector.pyc\u001b[0m in \u001b[0;36meigenvector_centrality_numpy\u001b[1;34m(G, weight)\u001b[0m\n\u001b[0;32m    203\u001b[0m     M = nx.to_scipy_sparse_matrix(G, nodelist=G.nodes(), weight=weight,\n\u001b[0;32m    204\u001b[0m                                   dtype=float)\n\u001b[1;32m--> 205\u001b[1;33m     \u001b[0meigenvalue\u001b[0m\u001b[1;33m,\u001b[0m \u001b[0meigenvector\u001b[0m \u001b[1;33m=\u001b[0m \u001b[0mlinalg\u001b[0m\u001b[1;33m.\u001b[0m\u001b[0meigs\u001b[0m\u001b[1;33m(\u001b[0m\u001b[0mM\u001b[0m\u001b[1;33m.\u001b[0m\u001b[0mT\u001b[0m\u001b[1;33m,\u001b[0m \u001b[0mk\u001b[0m\u001b[1;33m=\u001b[0m\u001b[1;36m1\u001b[0m\u001b[1;33m,\u001b[0m \u001b[0mwhich\u001b[0m\u001b[1;33m=\u001b[0m\u001b[1;34m'LR'\u001b[0m\u001b[1;33m)\u001b[0m\u001b[1;33m\u001b[0m\u001b[0m\n\u001b[0m\u001b[0;32m    206\u001b[0m     \u001b[0mlargest\u001b[0m \u001b[1;33m=\u001b[0m \u001b[0meigenvector\u001b[0m\u001b[1;33m.\u001b[0m\u001b[0mflatten\u001b[0m\u001b[1;33m(\u001b[0m\u001b[1;33m)\u001b[0m\u001b[1;33m.\u001b[0m\u001b[0mreal\u001b[0m\u001b[1;33m\u001b[0m\u001b[0m\n\u001b[0;32m    207\u001b[0m     \u001b[0mnorm\u001b[0m \u001b[1;33m=\u001b[0m \u001b[0msp\u001b[0m\u001b[1;33m.\u001b[0m\u001b[0msign\u001b[0m\u001b[1;33m(\u001b[0m\u001b[0mlargest\u001b[0m\u001b[1;33m.\u001b[0m\u001b[0msum\u001b[0m\u001b[1;33m(\u001b[0m\u001b[1;33m)\u001b[0m\u001b[1;33m)\u001b[0m\u001b[1;33m*\u001b[0m\u001b[0msp\u001b[0m\u001b[1;33m.\u001b[0m\u001b[0mlinalg\u001b[0m\u001b[1;33m.\u001b[0m\u001b[0mnorm\u001b[0m\u001b[1;33m(\u001b[0m\u001b[0mlargest\u001b[0m\u001b[1;33m)\u001b[0m\u001b[1;33m\u001b[0m\u001b[0m\n",
      "\u001b[1;32mC:\\Users\\Michael\\Anaconda2\\lib\\site-packages\\scipy\\sparse\\linalg\\eigen\\arpack\\arpack.pyc\u001b[0m in \u001b[0;36meigs\u001b[1;34m(A, k, M, sigma, which, v0, ncv, maxiter, tol, return_eigenvectors, Minv, OPinv, OPpart)\u001b[0m\n\u001b[0;32m   1286\u001b[0m \u001b[1;33m\u001b[0m\u001b[0m\n\u001b[0;32m   1287\u001b[0m     \u001b[1;32mwhile\u001b[0m \u001b[1;32mnot\u001b[0m \u001b[0mparams\u001b[0m\u001b[1;33m.\u001b[0m\u001b[0mconverged\u001b[0m\u001b[1;33m:\u001b[0m\u001b[1;33m\u001b[0m\u001b[0m\n\u001b[1;32m-> 1288\u001b[1;33m         \u001b[0mparams\u001b[0m\u001b[1;33m.\u001b[0m\u001b[0miterate\u001b[0m\u001b[1;33m(\u001b[0m\u001b[1;33m)\u001b[0m\u001b[1;33m\u001b[0m\u001b[0m\n\u001b[0m\u001b[0;32m   1289\u001b[0m \u001b[1;33m\u001b[0m\u001b[0m\n\u001b[0;32m   1290\u001b[0m     \u001b[1;32mreturn\u001b[0m \u001b[0mparams\u001b[0m\u001b[1;33m.\u001b[0m\u001b[0mextract\u001b[0m\u001b[1;33m(\u001b[0m\u001b[0mreturn_eigenvectors\u001b[0m\u001b[1;33m)\u001b[0m\u001b[1;33m\u001b[0m\u001b[0m\n",
      "\u001b[1;32mC:\\Users\\Michael\\Anaconda2\\lib\\site-packages\\scipy\\sparse\\linalg\\eigen\\arpack\\arpack.pyc\u001b[0m in \u001b[0;36miterate\u001b[1;34m(self)\u001b[0m\n\u001b[0;32m    745\u001b[0m                 \u001b[1;32mpass\u001b[0m\u001b[1;33m\u001b[0m\u001b[0m\n\u001b[0;32m    746\u001b[0m             \u001b[1;32melif\u001b[0m \u001b[0mself\u001b[0m\u001b[1;33m.\u001b[0m\u001b[0minfo\u001b[0m \u001b[1;33m==\u001b[0m \u001b[1;36m1\u001b[0m\u001b[1;33m:\u001b[0m\u001b[1;33m\u001b[0m\u001b[0m\n\u001b[1;32m--> 747\u001b[1;33m                 \u001b[0mself\u001b[0m\u001b[1;33m.\u001b[0m\u001b[0m_raise_no_convergence\u001b[0m\u001b[1;33m(\u001b[0m\u001b[1;33m)\u001b[0m\u001b[1;33m\u001b[0m\u001b[0m\n\u001b[0m\u001b[0;32m    748\u001b[0m             \u001b[1;32melse\u001b[0m\u001b[1;33m:\u001b[0m\u001b[1;33m\u001b[0m\u001b[0m\n\u001b[0;32m    749\u001b[0m                 \u001b[1;32mraise\u001b[0m \u001b[0mArpackError\u001b[0m\u001b[1;33m(\u001b[0m\u001b[0mself\u001b[0m\u001b[1;33m.\u001b[0m\u001b[0minfo\u001b[0m\u001b[1;33m,\u001b[0m \u001b[0minfodict\u001b[0m\u001b[1;33m=\u001b[0m\u001b[0mself\u001b[0m\u001b[1;33m.\u001b[0m\u001b[0miterate_infodict\u001b[0m\u001b[1;33m)\u001b[0m\u001b[1;33m\u001b[0m\u001b[0m\n",
      "\u001b[1;32mC:\\Users\\Michael\\Anaconda2\\lib\\site-packages\\scipy\\sparse\\linalg\\eigen\\arpack\\arpack.pyc\u001b[0m in \u001b[0;36m_raise_no_convergence\u001b[1;34m(self)\u001b[0m\n\u001b[0;32m    365\u001b[0m             \u001b[0mvec\u001b[0m \u001b[1;33m=\u001b[0m \u001b[0mnp\u001b[0m\u001b[1;33m.\u001b[0m\u001b[0mzeros\u001b[0m\u001b[1;33m(\u001b[0m\u001b[1;33m(\u001b[0m\u001b[0mself\u001b[0m\u001b[1;33m.\u001b[0m\u001b[0mn\u001b[0m\u001b[1;33m,\u001b[0m \u001b[1;36m0\u001b[0m\u001b[1;33m)\u001b[0m\u001b[1;33m)\u001b[0m\u001b[1;33m\u001b[0m\u001b[0m\n\u001b[0;32m    366\u001b[0m             \u001b[0mk_ok\u001b[0m \u001b[1;33m=\u001b[0m \u001b[1;36m0\u001b[0m\u001b[1;33m\u001b[0m\u001b[0m\n\u001b[1;32m--> 367\u001b[1;33m         \u001b[1;32mraise\u001b[0m \u001b[0mArpackNoConvergence\u001b[0m\u001b[1;33m(\u001b[0m\u001b[0mmsg\u001b[0m \u001b[1;33m%\u001b[0m \u001b[1;33m(\u001b[0m\u001b[0mnum_iter\u001b[0m\u001b[1;33m,\u001b[0m \u001b[0mk_ok\u001b[0m\u001b[1;33m,\u001b[0m \u001b[0mself\u001b[0m\u001b[1;33m.\u001b[0m\u001b[0mk\u001b[0m\u001b[1;33m)\u001b[0m\u001b[1;33m,\u001b[0m \u001b[0mev\u001b[0m\u001b[1;33m,\u001b[0m \u001b[0mvec\u001b[0m\u001b[1;33m)\u001b[0m\u001b[1;33m\u001b[0m\u001b[0m\n\u001b[0m\u001b[0;32m    368\u001b[0m \u001b[1;33m\u001b[0m\u001b[0m\n\u001b[0;32m    369\u001b[0m \u001b[1;33m\u001b[0m\u001b[0m\n",
      "\u001b[1;31mArpackNoConvergence\u001b[0m: ARPACK error -1: No convergence (51 iterations, 0/1 eigenvectors converged) [ARPACK error -14: DNAUPD  did not find any eigenvalues to sufficient accuracy.]"
     ]
    }
   ],
   "source": [
    "eigen_cent_dict_D = nx.eigenvector_centrality_numpy(D)\n",
    "eigen_cent_dict_U = nx.eigenvector_centrality_numpy(U)\n",
    "\n",
    "print 'Eigenvector Centrality Values for Nodes in D:'\n",
    "print eigen_cent_dict_D\n",
    "print 'Eigenvector Centrality Values for Node sin U:'\n",
    "print eigen_cent_dict_U"
   ]
  },
  {
   "cell_type": "markdown",
   "metadata": {},
   "source": [
    "### Comparing Betweenness Centrality between 'D' and 'U'"
   ]
  },
  {
   "cell_type": "code",
   "execution_count": 21,
   "metadata": {
    "collapsed": false
   },
   "outputs": [
    {
     "name": "stdout",
     "output_type": "stream",
     "text": [
      "Betweenness Centrality Values for Nodes in D:\n",
      "{1: 0.0, 2: 0.08333333333333333, 3: 0.25, 4: 0.08333333333333333, 5: 0.0}\n",
      "Betweenness Centrality Values for Nodes in U:\n",
      "{1: 0.08333333333333333, 2: 0.16666666666666666, 3: 0.5833333333333333, 4: 0.16666666666666666, 5: 0.0}\n"
     ]
    }
   ],
   "source": [
    "between_cent_dict_D = nx.betweenness_centrality(D)\n",
    "between_cent_dict_U = nx.betweenness_centrality(U)\n",
    "\n",
    "print 'Betweenness Centrality Values for Nodes in D:'\n",
    "print between_cent_dict_D\n",
    "print 'Betweenness Centrality Values for Nodes in U:'\n",
    "print between_cent_dict_U"
   ]
  },
  {
   "cell_type": "markdown",
   "metadata": {},
   "source": [
    "### Comparing Page Rank between 'D' and 'U'"
   ]
  },
  {
   "cell_type": "code",
   "execution_count": 25,
   "metadata": {
    "collapsed": false
   },
   "outputs": [
    {
     "name": "stdout",
     "output_type": "stream",
     "text": [
      "Page Rank Values for Nodes in D:\n",
      "{1: 0.08943214803276803, 2: 0.12744107720395542, 3: 0.30608323633097334, 4: 0.12744107720395542, 5: 0.3496024612283479}\n",
      "Page Rank Values for Nodes in U:\n",
      "{1: 0.1977795471363229, 2: 0.1973886196092952, 3: 0.2941112913345175, 4: 0.1973886196092952, 5: 0.11333192231056896}\n"
     ]
    }
   ],
   "source": [
    "page_rank_dict_D = nx.pagerank(D)\n",
    "page_rank_dict_U = nx.pagerank(U)\n",
    "\n",
    "print 'Page Rank Values for Nodes in D:'\n",
    "print page_rank_dict_D\n",
    "print 'Page Rank Values for Nodes in U:'\n",
    "print page_rank_dict_U"
   ]
  },
  {
   "cell_type": "markdown",
   "metadata": {},
   "source": [
    "### Comparing Hubs and Authorities between 'D' and 'U'"
   ]
  },
  {
   "cell_type": "code",
   "execution_count": 32,
   "metadata": {
    "collapsed": false
   },
   "outputs": [
    {
     "name": "stdout",
     "output_type": "stream",
     "text": [
      "Hubs Values for Nodes in D:\n",
      "{1: 0.333333332505491, 2: 0.333333332505491, 3: 2.48352685947337e-09, 4: 0.333333332505491, 5: 0.0}\n",
      "Hubs Values for Nodes in U:\n",
      "{1: 0.1798058984136134, 2: 0.2302911523795799, 3: 0.2302911523795799, 4: 0.2302911523795799, 5: 0.1293206444476469}\n",
      "\n",
      "Authority Values for Nodes in D:\n",
      "{1: 0.0, 2: 0.24999999906867743, 3: 0.49999999813735485, 4: 0.24999999906867743, 5: 3.7252902845841263e-09}\n",
      "Authority Values for Nodes in U:\n",
      "{1: 0.21922359345683257, 2: 0.19519410163579187, 3: 0.2807764065431675, 4: 0.19519410163579187, 5: 0.10961179672841628}\n"
     ]
    }
   ],
   "source": [
    "hubs_auths_dict_D = nx.hits(D)\n",
    "hubs_auths_dict_U = nx.hits(U)\n",
    "\n",
    "print 'Hubs Values for Nodes in D:'\n",
    "print hubs_auths_dict_D[0]\n",
    "print 'Hubs Values for Nodes in U:'\n",
    "print hubs_auths_dict_U[0]\n",
    "\n",
    "print ''\n",
    "print 'Authority Values for Nodes in D:'\n",
    "print hubs_auths_dict_D[1]\n",
    "print 'Authority Values for Nodes in U:'\n",
    "print hubs_auths_dict_U[1]"
   ]
  },
  {
   "cell_type": "code",
   "execution_count": null,
   "metadata": {
    "collapsed": true
   },
   "outputs": [],
   "source": []
  }
 ],
 "metadata": {
  "anaconda-cloud": {},
  "kernelspec": {
   "display_name": "Python [Root]",
   "language": "python",
   "name": "Python [Root]"
  },
  "language_info": {
   "codemirror_mode": {
    "name": "ipython",
    "version": 2
   },
   "file_extension": ".py",
   "mimetype": "text/x-python",
   "name": "python",
   "nbconvert_exporter": "python",
   "pygments_lexer": "ipython2",
   "version": "2.7.11"
  }
 },
 "nbformat": 4,
 "nbformat_minor": 0
}
