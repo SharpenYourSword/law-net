{
 "cells": [
  {
   "cell_type": "code",
   "execution_count": 1,
   "metadata": {
    "collapsed": false
   },
   "outputs": [],
   "source": [
    "\n",
    "import sys\n",
    "\n",
    "sys.path.append('../../code/')\n",
    "import os\n",
    "import json\n",
    "from datetime import datetime\n",
    "import time\n",
    "\n",
    "import numpy as np\n",
    "import pandas as pd\n",
    "import matplotlib.pyplot as plt\n",
    "import scipy.stats as stats\n",
    "\n",
    "import igraph as ig\n",
    "from collections import *\n",
    "from __future__ import division\n",
    "\n",
    "from load_data import load_citation_network_igraph, case_info\n",
    "\n",
    "%load_ext autoreload\n",
    "%autoreload 2\n",
    "%matplotlib inline\n",
    "\n",
    "data_dir = '../../data/'\n",
    "court_name = 'scotus'"
   ]
  },
  {
   "cell_type": "code",
   "execution_count": 2,
   "metadata": {
    "collapsed": false
   },
   "outputs": [
    {
     "name": "stdout",
     "output_type": "stream",
     "text": [
      "0 seconds for 250465 edges\n",
      "loaded scotus network with 33248 cases and 250465 edges\n"
     ]
    }
   ],
   "source": [
    "# this will be a little slow the first time you run it\n",
    "G = load_citation_network_igraph(data_dir, court_name)\n",
    "\n",
    "print 'loaded %s network with %d cases and %d edges' % (court_name, len(G.vs), len(G.es))"
   ]
  },
  {
   "cell_type": "markdown",
   "metadata": {},
   "source": [
    "### SubGraph Code (vertices = only past cases)"
   ]
  },
  {
   "cell_type": "code",
   "execution_count": 4,
   "metadata": {
    "collapsed": false
   },
   "outputs": [
    {
     "name": "stdout",
     "output_type": "stream",
     "text": [
      "IGRAPH DN-- 33248 250465 -- \n",
      "+ attr: court (v), name (v), year (v)\n",
      "IGRAPH DN-- 33248 250465 -- \n",
      "+ attr: court (v), name (v), year (v)\n",
      "This took 5.94799995422 seconds\n"
     ]
    }
   ],
   "source": [
    "time1 = time.time()\n",
    "subgraph_dict = {}\n",
    "\n",
    "min_year = 1754\n",
    "max_year = 2016\n",
    "\n",
    "for i in range(min_year, max_year+2):\n",
    "    sub_vs = G.vs.select(year_lt = i) # so only the past cases\n",
    "    sub_G = G.subgraph(sub_vs)\n",
    "    subgraph_dict[i] = sub_G\n",
    "    \n",
    "time2 = time.time()\n",
    "\n",
    "print subgraph_dict[2017].summary()\n",
    "print G.summary()\n",
    "print \"This took \" + str(time2-time1) + \" seconds\""
   ]
  },
  {
   "cell_type": "code",
   "execution_count": 5,
   "metadata": {
    "collapsed": false
   },
   "outputs": [
    {
     "name": "stdout",
     "output_type": "stream",
     "text": [
      "In the whole network case 108465 has an indegree of: 11\n",
      "In the sub-network of cases before 1973 case 108465 has an indegree of: 2\n"
     ]
    }
   ],
   "source": [
    "print \"In the whole network case \" + str(G.vs[8000]['name']) + \" has an indegree of: \" + str(G.vs[8000].indegree())\n",
    "for v in subgraph_dict[1973].vs:\n",
    "    if v['name'] == G.vs[8000]['name']:\n",
    "        print \"In the sub-network of cases before 1973 case \" + str(v['name']) + \" has an indegree of: \" + str(v.indegree())"
   ]
  },
  {
   "cell_type": "markdown",
   "metadata": {},
   "source": [
    "# Get dictionaries of all past cases, where 'key' = year, 'value' = past cases in tuple-form"
   ]
  },
  {
   "cell_type": "code",
   "execution_count": 6,
   "metadata": {
    "collapsed": false
   },
   "outputs": [],
   "source": [
    "time1 = time.time()\n",
    "\n",
    "case_tuple_dict = {}\n",
    "\n",
    "for i in range(min_year, max_year+2):\n",
    "    sub_G = subgraph_dict[i]\n",
    "    \n",
    "    igraph_index_list = []\n",
    "    id_list = []\n",
    "    year_list = []\n",
    "    metric_list = []\n",
    "    \n",
    "    ## to do page rank:\n",
    "    #metric_list = sub_G.pagerank()\n",
    "    \n",
    "    for j in range(0, len(sub_G.vs)): # not \" for vertex in sub_G.bs \" because not sure if it goes through each index in order\n",
    "        vertex = sub_G.vs[j]\n",
    "        igraph_index_list.append(vertex.index) # kinda useless because subgraphs reindex stuff differently from original G\n",
    "        id_list.append(vertex['name'])\n",
    "        year_list.append(vertex['year'])\n",
    "        metric_list.append(vertex.indegree())\n",
    "    \n",
    "    tuple_list = zip(igraph_index_list, id_list, year_list, metric_list)\n",
    "    sorted_tuple_list = sorted(tuple_list, key=lambda tup: tup[3], reverse=True) # sort by metric (indegree or page rank)\n",
    "    \n",
    "    case_tuple_dict[i] = sorted_tuple_list # Dictionary containing all past cases' (as sorted tuples by metric)"
   ]
  },
  {
   "cell_type": "code",
   "execution_count": null,
   "metadata": {
    "collapsed": true
   },
   "outputs": [],
   "source": []
  },
  {
   "cell_type": "markdown",
   "metadata": {
    "collapsed": true
   },
   "source": [
    "# 2nd part: rank the cases that case c actually cites"
   ]
  },
  {
   "cell_type": "code",
   "execution_count": 7,
   "metadata": {
    "collapsed": false
   },
   "outputs": [
    {
     "data": {
      "text/plain": [
       "15.380239325181453"
      ]
     },
     "execution_count": 7,
     "metadata": {},
     "output_type": "execute_result"
    }
   ],
   "source": [
    "# G.neighbors(10, mode='OUT') are the cases that case c actually cites\n",
    "\n",
    "#ranks = []\n",
    "\n",
    "def calculate_score_for_case(case_index, case_tuple_dict):\n",
    "    all_past_cases = case_tuple_dict[G.vs[case_index]['year']]\n",
    "    \n",
    "    neighbors = G.neighbors(case_index, mode='OUT')\n",
    "    neighbors_names = [G.vs[i]['name'] for i in neighbors]\n",
    "\n",
    "    # check the ranks by case 'names' because graph and subgraph will have different node indexing\n",
    "    ranks = [i+1 for i, v in enumerate(all_past_cases) if v[1] in neighbors_names]\n",
    "\n",
    "    scores = []\n",
    "    for some_rank in ranks:\n",
    "        some_score = 1-some_rank/len(all_past_cases)\n",
    "        scores.append(some_score)\n",
    "\n",
    "    final_score = sum(scores)\n",
    "    \n",
    "    return final_score\n",
    "    \n",
    "calculate_score_for_case(10, case_tuple_dict)"
   ]
  },
  {
   "cell_type": "code",
   "execution_count": 8,
   "metadata": {
    "collapsed": false
   },
   "outputs": [
    {
     "name": "stdout",
     "output_type": "stream",
     "text": [
      "took 220.588000059\n",
      "\n",
      "174094.901772\n"
     ]
    }
   ],
   "source": [
    "time1 = time.time()\n",
    "\n",
    "score_M = 0\n",
    "for i in G.vs():\n",
    "    score_M += calculate_score_for_case(i.index, case_tuple_dict)\n",
    "    \n",
    "time2=time.time()\n",
    "total_time = str(time2-time1)\n",
    "print 'took ' + total_time\n",
    "print\n",
    "print score_M"
   ]
  },
  {
   "cell_type": "markdown",
   "metadata": {
    "collapsed": true
   },
   "source": [
    "# For Page Rank (directed)"
   ]
  },
  {
   "cell_type": "code",
   "execution_count": 9,
   "metadata": {
    "collapsed": false
   },
   "outputs": [
    {
     "name": "stdout",
     "output_type": "stream",
     "text": [
      "{}\n"
     ]
    }
   ],
   "source": [
    "time1 = time.time()\n",
    "\n",
    "case_tuple_dict = {}\n",
    "\n",
    "for i in range(min_year, max_year+2):\n",
    "    sub_G = subgraph_dict[i]\n",
    "    \n",
    "    igraph_index_list = []\n",
    "    id_list = []\n",
    "    year_list = []\n",
    "    metric_list = []\n",
    "    \n",
    "    ## to do page rank:\n",
    "    metric_list = sub_G.pagerank()\n",
    "    \n",
    "    for j in range(0, len(sub_G.vs)): # not \" for vertex in sub_G.bs \" because not sure if it goes through each index in order\n",
    "        vertex = sub_G.vs[j]\n",
    "        igraph_index_list.append(vertex.index) # kinda useless because subgraphs reindex stuff differently from original G\n",
    "        id_list.append(vertex['name'])\n",
    "        year_list.append(vertex['year'])\n",
    "        #metric_list.append(vertex.indegree())\n",
    "    \n",
    "    tuple_list = zip(igraph_index_list, id_list, year_list, metric_list)\n",
    "    sorted_tuple_list = sorted(tuple_list, key=lambda tup: tup[3], reverse=True) # sort by metric (indegree or page rank)\n",
    "    \n",
    "    case_tuple_dict[i] = sorted_tuple_list # Dictionary containing all past cases' (as sorted tuples by metric)"
   ]
  },
  {
   "cell_type": "code",
   "execution_count": 10,
   "metadata": {
    "collapsed": false
   },
   "outputs": [
    {
     "data": {
      "text/plain": [
       "15.49048584319623"
      ]
     },
     "execution_count": 10,
     "metadata": {},
     "output_type": "execute_result"
    }
   ],
   "source": [
    "# G.neighbors(10, mode='OUT') are the cases that case c actually cites\n",
    "\n",
    "#ranks = []\n",
    "\n",
    "def calculate_score_for_case(case_index, case_tuple_dict):\n",
    "    all_past_cases = case_tuple_dict[G.vs[case_index]['year']]\n",
    "    \n",
    "    neighbors = G.neighbors(case_index, mode='OUT')\n",
    "    neighbors_names = [G.vs[i]['name'] for i in neighbors]\n",
    "\n",
    "    # check the ranks by case 'names' because graph and subgraph will have different node indexing\n",
    "    ranks = [i+1 for i, v in enumerate(all_past_cases) if v[1] in neighbors_names]\n",
    "\n",
    "    scores = []\n",
    "    for some_rank in ranks:\n",
    "        some_score = 1-some_rank/len(all_past_cases)\n",
    "        scores.append(some_score)\n",
    "\n",
    "    final_score = sum(scores)\n",
    "    \n",
    "    return final_score\n",
    "    \n",
    "calculate_score_for_case(10, case_tuple_dict)"
   ]
  },
  {
   "cell_type": "code",
   "execution_count": 11,
   "metadata": {
    "collapsed": false
   },
   "outputs": [
    {
     "name": "stdout",
     "output_type": "stream",
     "text": [
      "took 182.688999891\n",
      "\n",
      "149192.224771\n"
     ]
    }
   ],
   "source": [
    "time1 = time.time()\n",
    "\n",
    "score_M = 0\n",
    "for i in G.vs():\n",
    "    score_M += calculate_score_for_case(i.index, case_tuple_dict)\n",
    "    \n",
    "time2=time.time()\n",
    "total_time = str(time2-time1)\n",
    "print 'took ' + total_time\n",
    "print\n",
    "print score_M"
   ]
  },
  {
   "cell_type": "markdown",
   "metadata": {},
   "source": [
    "# For Hubs (directed)"
   ]
  },
  {
   "cell_type": "code",
   "execution_count": 12,
   "metadata": {
    "collapsed": true
   },
   "outputs": [],
   "source": [
    "time1 = time.time()\n",
    "\n",
    "case_tuple_dict = {}\n",
    "\n",
    "for i in range(min_year, max_year+2):\n",
    "    sub_G = subgraph_dict[i]\n",
    "    \n",
    "    igraph_index_list = []\n",
    "    id_list = []\n",
    "    year_list = []\n",
    "    metric_list = []\n",
    "    \n",
    "    metric_list = sub_G.hub_score()\n",
    "    \n",
    "    for j in range(0, len(sub_G.vs)): # not \" for vertex in sub_G.bs \" because not sure if it goes through each index in order\n",
    "        vertex = sub_G.vs[j]\n",
    "        igraph_index_list.append(vertex.index) # kinda useless because subgraphs reindex stuff differently from original G\n",
    "        id_list.append(vertex['name'])\n",
    "        year_list.append(vertex['year'])\n",
    "        #metric_list.append(vertex.indegree())\n",
    "    \n",
    "    tuple_list = zip(igraph_index_list, id_list, year_list, metric_list)\n",
    "    sorted_tuple_list = sorted(tuple_list, key=lambda tup: tup[3], reverse=True) # sort by metric (indegree or page rank)\n",
    "    \n",
    "    case_tuple_dict[i] = sorted_tuple_list # Dictionary containing all past cases' (as sorted tuples by metric)"
   ]
  },
  {
   "cell_type": "code",
   "execution_count": 13,
   "metadata": {
    "collapsed": false
   },
   "outputs": [
    {
     "data": {
      "text/plain": [
       "18.62204930360296"
      ]
     },
     "execution_count": 13,
     "metadata": {},
     "output_type": "execute_result"
    }
   ],
   "source": [
    "# G.neighbors(10, mode='OUT') are the cases that case c actually cites\n",
    "\n",
    "#ranks = []\n",
    "\n",
    "def calculate_score_for_case(case_index, case_tuple_dict):\n",
    "    all_past_cases = case_tuple_dict[G.vs[case_index]['year']]\n",
    "    \n",
    "    neighbors = G.neighbors(case_index, mode='OUT')\n",
    "    neighbors_names = [G.vs[i]['name'] for i in neighbors]\n",
    "\n",
    "    # check the ranks by case 'names' because graph and subgraph will have different node indexing\n",
    "    ranks = [i+1 for i, v in enumerate(all_past_cases) if v[1] in neighbors_names]\n",
    "\n",
    "    scores = []\n",
    "    for some_rank in ranks:\n",
    "        some_score = 1-some_rank/len(all_past_cases)\n",
    "        scores.append(some_score)\n",
    "\n",
    "    final_score = sum(scores)\n",
    "    \n",
    "    return final_score\n",
    "    \n",
    "calculate_score_for_case(10, case_tuple_dict)"
   ]
  },
  {
   "cell_type": "code",
   "execution_count": 14,
   "metadata": {
    "collapsed": false
   },
   "outputs": [
    {
     "name": "stdout",
     "output_type": "stream",
     "text": [
      "took 203.955000162\n",
      "\n",
      "193326.407438\n"
     ]
    }
   ],
   "source": [
    "time1 = time.time()\n",
    "\n",
    "score_M = 0\n",
    "for i in G.vs():\n",
    "    score_M += calculate_score_for_case(i.index, case_tuple_dict)\n",
    "    \n",
    "time2=time.time()\n",
    "total_time = str(time2-time1)\n",
    "print 'took ' + total_time\n",
    "print\n",
    "print score_M"
   ]
  },
  {
   "cell_type": "markdown",
   "metadata": {},
   "source": [
    "# For Authorities (directed)"
   ]
  },
  {
   "cell_type": "code",
   "execution_count": 15,
   "metadata": {
    "collapsed": true
   },
   "outputs": [],
   "source": [
    "time1 = time.time()\n",
    "\n",
    "case_tuple_dict = {}\n",
    "\n",
    "for i in range(min_year, max_year+2):\n",
    "    sub_G = subgraph_dict[i]\n",
    "    \n",
    "    igraph_index_list = []\n",
    "    id_list = []\n",
    "    year_list = []\n",
    "    metric_list = []\n",
    "    \n",
    "    metric_list = sub_G.authority_score()\n",
    "    \n",
    "    for j in range(0, len(sub_G.vs)): # not \" for vertex in sub_G.bs \" because not sure if it goes through each index in order\n",
    "        vertex = sub_G.vs[j]\n",
    "        igraph_index_list.append(vertex.index) # kinda useless because subgraphs reindex stuff differently from original G\n",
    "        id_list.append(vertex['name'])\n",
    "        year_list.append(vertex['year'])\n",
    "        #metric_list.append(vertex.indegree())\n",
    "    \n",
    "    tuple_list = zip(igraph_index_list, id_list, year_list, metric_list)\n",
    "    sorted_tuple_list = sorted(tuple_list, key=lambda tup: tup[3], reverse=True) # sort by metric (indegree or page rank)\n",
    "    \n",
    "    case_tuple_dict[i] = sorted_tuple_list # Dictionary containing all past cases' (as sorted tuples by metric)"
   ]
  },
  {
   "cell_type": "code",
   "execution_count": 16,
   "metadata": {
    "collapsed": false
   },
   "outputs": [
    {
     "data": {
      "text/plain": [
       "16.64755116720068"
      ]
     },
     "execution_count": 16,
     "metadata": {},
     "output_type": "execute_result"
    }
   ],
   "source": [
    "# G.neighbors(10, mode='OUT') are the cases that case c actually cites\n",
    "\n",
    "#ranks = []\n",
    "\n",
    "def calculate_score_for_case(case_index, case_tuple_dict):\n",
    "    all_past_cases = case_tuple_dict[G.vs[case_index]['year']]\n",
    "    \n",
    "    neighbors = G.neighbors(case_index, mode='OUT')\n",
    "    neighbors_names = [G.vs[i]['name'] for i in neighbors]\n",
    "\n",
    "    # check the ranks by case 'names' because graph and subgraph will have different node indexing\n",
    "    ranks = [i+1 for i, v in enumerate(all_past_cases) if v[1] in neighbors_names]\n",
    "\n",
    "    scores = []\n",
    "    for some_rank in ranks:\n",
    "        some_score = 1-some_rank/len(all_past_cases)\n",
    "        scores.append(some_score)\n",
    "\n",
    "    final_score = sum(scores)\n",
    "    \n",
    "    return final_score\n",
    "    \n",
    "calculate_score_for_case(10, case_tuple_dict)"
   ]
  },
  {
   "cell_type": "code",
   "execution_count": 17,
   "metadata": {
    "collapsed": false
   },
   "outputs": [
    {
     "name": "stdout",
     "output_type": "stream",
     "text": [
      "took 185.203000069\n",
      "\n",
      "184295.706751\n"
     ]
    }
   ],
   "source": [
    "time1 = time.time()\n",
    "\n",
    "score_M = 0\n",
    "for i in G.vs():\n",
    "    score_M += calculate_score_for_case(i.index, case_tuple_dict)\n",
    "    \n",
    "time2=time.time()\n",
    "total_time = str(time2-time1)\n",
    "print 'took ' + total_time\n",
    "print\n",
    "print score_M"
   ]
  },
  {
   "cell_type": "markdown",
   "metadata": {},
   "source": [
    "# Convert subgraphs to undirected"
   ]
  },
  {
   "cell_type": "code",
   "execution_count": 3,
   "metadata": {
    "collapsed": false
   },
   "outputs": [
    {
     "name": "stdout",
     "output_type": "stream",
     "text": [
      "IGRAPH UN-- 33248 249878 -- \n",
      "+ attr: court (v), name (v), year (v)\n",
      "IGRAPH DN-- 33248 250465 -- \n",
      "+ attr: court (v), name (v), year (v)\n",
      "This took 21.0690000057 seconds\n"
     ]
    }
   ],
   "source": [
    "time1 = time.time()\n",
    "subgraph_dict = {}\n",
    "\n",
    "min_year = 1754\n",
    "max_year = 2016\n",
    "\n",
    "for i in range(min_year, max_year+2):\n",
    "    sub_vs = G.vs.select(year_lt = i) # so only the past cases\n",
    "    sub_G = G.subgraph(sub_vs)\n",
    "    sub_G = sub_G.as_undirected() # convert to undirected form\n",
    "    subgraph_dict[i] = sub_G\n",
    "    \n",
    "time2 = time.time()\n",
    "\n",
    "print subgraph_dict[2017].summary()\n",
    "print G.summary()\n",
    "print \"This took \" + str(time2-time1) + \" seconds\""
   ]
  },
  {
   "cell_type": "markdown",
   "metadata": {},
   "source": [
    "### NOTE: undirected graph has less edges ^ (probably the same problem where the same cases are citing each other but have different case ID's)"
   ]
  },
  {
   "cell_type": "markdown",
   "metadata": {},
   "source": [
    "# For Eigenvector Centrality (Undirected)"
   ]
  },
  {
   "cell_type": "code",
   "execution_count": 4,
   "metadata": {
    "collapsed": false
   },
   "outputs": [
    {
     "name": "stdout",
     "output_type": "stream",
     "text": [
      "took 94.4189999104 seconds\n"
     ]
    }
   ],
   "source": [
    "time1 = time.time()\n",
    "\n",
    "case_tuple_dict = {}\n",
    "\n",
    "for i in range(min_year, max_year+2):\n",
    "    sub_G = subgraph_dict[i]\n",
    "    \n",
    "    igraph_index_list = []\n",
    "    id_list = []\n",
    "    year_list = []\n",
    "    metric_list = []\n",
    "    \n",
    "    metric_list = sub_G.eigenvector_centrality()\n",
    "    \n",
    "    for j in range(0, len(sub_G.vs)): # not \" for vertex in sub_G.bs \" because not sure if it goes through each index in order\n",
    "        vertex = sub_G.vs[j]\n",
    "        igraph_index_list.append(vertex.index) # kinda useless because subgraphs reindex stuff differently from original G\n",
    "        id_list.append(vertex['name'])\n",
    "        year_list.append(vertex['year'])\n",
    "        #metric_list.append(vertex.indegree())\n",
    "    \n",
    "    tuple_list = zip(igraph_index_list, id_list, year_list, metric_list)\n",
    "    sorted_tuple_list = sorted(tuple_list, key=lambda tup: tup[3], reverse=True) # sort by metric (indegree or page rank)\n",
    "    \n",
    "    case_tuple_dict[i] = sorted_tuple_list # Dictionary containing all past cases' (as sorted tuples by metric)\n",
    "    \n",
    "time2 = time.time()\n",
    "\n",
    "print 'took ' + str(time2-time1) + ' seconds'"
   ]
  },
  {
   "cell_type": "code",
   "execution_count": 5,
   "metadata": {
    "collapsed": false
   },
   "outputs": [
    {
     "data": {
      "text/plain": [
       "18.329039429804485"
      ]
     },
     "execution_count": 5,
     "metadata": {},
     "output_type": "execute_result"
    }
   ],
   "source": [
    "# G.neighbors(10, mode='OUT') are the cases that case c actually cites\n",
    "\n",
    "#ranks = []\n",
    "\n",
    "def calculate_score_for_case(case_index, case_tuple_dict):\n",
    "    all_past_cases = case_tuple_dict[G.vs[case_index]['year']]\n",
    "    \n",
    "    neighbors = G.neighbors(case_index, mode='OUT')\n",
    "    neighbors_names = [G.vs[i]['name'] for i in neighbors]\n",
    "\n",
    "    # check the ranks by case 'names' because graph and subgraph will have different node indexing\n",
    "    ranks = [i+1 for i, v in enumerate(all_past_cases) if v[1] in neighbors_names]\n",
    "\n",
    "    scores = []\n",
    "    for some_rank in ranks:\n",
    "        some_score = 1-some_rank/len(all_past_cases)\n",
    "        scores.append(some_score)\n",
    "\n",
    "    final_score = sum(scores)\n",
    "    \n",
    "    return final_score\n",
    "    \n",
    "calculate_score_for_case(10, case_tuple_dict)"
   ]
  },
  {
   "cell_type": "code",
   "execution_count": 6,
   "metadata": {
    "collapsed": false
   },
   "outputs": [
    {
     "name": "stdout",
     "output_type": "stream",
     "text": [
      "took 366.523000002\n",
      "\n",
      "198567.34934\n"
     ]
    }
   ],
   "source": [
    "time1 = time.time()\n",
    "\n",
    "score_M = 0\n",
    "for i in G.vs():\n",
    "    score_M += calculate_score_for_case(i.index, case_tuple_dict)\n",
    "    \n",
    "time2=time.time()\n",
    "total_time = str(time2-time1)\n",
    "print 'took ' + total_time\n",
    "print\n",
    "print score_M"
   ]
  },
  {
   "cell_type": "markdown",
   "metadata": {},
   "source": [
    "# For Closeness Centrality (undirected)"
   ]
  },
  {
   "cell_type": "code",
   "execution_count": null,
   "metadata": {
    "collapsed": false
   },
   "outputs": [],
   "source": [
    "time1 = time.time()\n",
    "\n",
    "case_tuple_dict = {}\n",
    "\n",
    "for i in range(min_year, max_year+2):\n",
    "    sub_G = subgraph_dict[i]\n",
    "    \n",
    "    igraph_index_list = []\n",
    "    id_list = []\n",
    "    year_list = []\n",
    "    metric_list = []\n",
    "    \n",
    "    metric_list = sub_G.closeness()\n",
    "    \n",
    "    for j in range(0, len(sub_G.vs)): # not \" for vertex in sub_G.bs \" because not sure if it goes through each index in order\n",
    "        vertex = sub_G.vs[j]\n",
    "        igraph_index_list.append(vertex.index) # kinda useless because subgraphs reindex stuff differently from original G\n",
    "        id_list.append(vertex['name'])\n",
    "        year_list.append(vertex['year'])\n",
    "        #metric_list.append(vertex.indegree())\n",
    "    \n",
    "    tuple_list = zip(igraph_index_list, id_list, year_list, metric_list)\n",
    "    sorted_tuple_list = sorted(tuple_list, key=lambda tup: tup[3], reverse=True) # sort by metric (indegree or page rank)\n",
    "    \n",
    "    case_tuple_dict[i] = sorted_tuple_list # Dictionary containing all past cases' (as sorted tuples by metric)\n",
    "    \n",
    "time2 = time.time()\n",
    "\n",
    "print 'took ' + str(time2-time1) + ' seconds'"
   ]
  },
  {
   "cell_type": "code",
   "execution_count": null,
   "metadata": {
    "collapsed": true
   },
   "outputs": [],
   "source": [
    "# G.neighbors(10, mode='OUT') are the cases that case c actually cites\n",
    "\n",
    "#ranks = []\n",
    "\n",
    "def calculate_score_for_case(case_index, case_tuple_dict):\n",
    "    all_past_cases = case_tuple_dict[G.vs[case_index]['year']]\n",
    "    \n",
    "    neighbors = G.neighbors(case_index, mode='OUT')\n",
    "    neighbors_names = [G.vs[i]['name'] for i in neighbors]\n",
    "\n",
    "    # check the ranks by case 'names' because graph and subgraph will have different node indexing\n",
    "    ranks = [i+1 for i, v in enumerate(all_past_cases) if v[1] in neighbors_names]\n",
    "\n",
    "    scores = []\n",
    "    for some_rank in ranks:\n",
    "        some_score = 1-some_rank/len(all_past_cases)\n",
    "        scores.append(some_score)\n",
    "\n",
    "    final_score = sum(scores)\n",
    "    \n",
    "    return final_score\n",
    "    \n",
    "calculate_score_for_case(10, case_tuple_dict)"
   ]
  },
  {
   "cell_type": "code",
   "execution_count": null,
   "metadata": {
    "collapsed": true
   },
   "outputs": [],
   "source": [
    "time1 = time.time()\n",
    "\n",
    "score_M = 0\n",
    "for i in G.vs():\n",
    "    score_M += calculate_score_for_case(i.index, case_tuple_dict)\n",
    "    \n",
    "time2=time.time()\n",
    "total_time = str(time2-time1)\n",
    "print 'took ' + total_time\n",
    "print\n",
    "print score_M"
   ]
  },
  {
   "cell_type": "code",
   "execution_count": null,
   "metadata": {
    "collapsed": true
   },
   "outputs": [],
   "source": []
  }
 ],
 "metadata": {
  "anaconda-cloud": {},
  "kernelspec": {
   "display_name": "Python [Root]",
   "language": "python",
   "name": "Python [Root]"
  },
  "language_info": {
   "codemirror_mode": {
    "name": "ipython",
    "version": 2
   },
   "file_extension": ".py",
   "mimetype": "text/x-python",
   "name": "python",
   "nbconvert_exporter": "python",
   "pygments_lexer": "ipython2",
   "version": "2.7.11"
  }
 },
 "nbformat": 4,
 "nbformat_minor": 0
}
