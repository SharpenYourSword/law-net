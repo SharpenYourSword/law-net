{
 "cells": [
  {
   "cell_type": "code",
   "execution_count": 54,
   "metadata": {
    "collapsed": false
   },
   "outputs": [
    {
     "name": "stdout",
     "output_type": "stream",
     "text": [
      "The autoreload extension is already loaded. To reload it, use:\n",
      "  %reload_ext autoreload\n"
     ]
    }
   ],
   "source": [
    "\n",
    "import sys\n",
    "\n",
    "sys.path.append('../../code/')\n",
    "import os\n",
    "import json\n",
    "from datetime import datetime\n",
    "import time\n",
    "\n",
    "import numpy as np\n",
    "import pandas as pd\n",
    "import matplotlib.pyplot as plt\n",
    "import scipy.stats as stats\n",
    "\n",
    "import igraph as ig\n",
    "from collections import *\n",
    "from __future__ import division\n",
    "\n",
    "from load_data import load_citation_network_igraph, case_info\n",
    "\n",
    "%load_ext autoreload\n",
    "%autoreload 2\n",
    "%matplotlib inline\n",
    "\n",
    "data_dir = '../../data/'\n",
    "court_name = 'scotus'"
   ]
  },
  {
   "cell_type": "code",
   "execution_count": 2,
   "metadata": {
    "collapsed": false
   },
   "outputs": [
    {
     "name": "stdout",
     "output_type": "stream",
     "text": [
      "0 seconds for 250465 edges\n",
      "loaded scotus network with 33248 cases and 250465 edges\n"
     ]
    }
   ],
   "source": [
    "# this will be a little slow the first time you run it\n",
    "G = load_citation_network_igraph(data_dir, court_name)\n",
    "\n",
    "print 'loaded %s network with %d cases and %d edges' % (court_name, len(G.vs), len(G.es))"
   ]
  },
  {
   "cell_type": "code",
   "execution_count": 3,
   "metadata": {
    "collapsed": false
   },
   "outputs": [
    {
     "name": "stdout",
     "output_type": "stream",
     "text": [
      "igraph.Vertex(<igraph.Graph object at 0x000000000B662138>,0,{'court': 'scotus', 'name': 100000, 'year': 1922})\n"
     ]
    }
   ],
   "source": [
    "print G.vs[0]"
   ]
  },
  {
   "cell_type": "code",
   "execution_count": 4,
   "metadata": {
    "collapsed": false
   },
   "outputs": [
    {
     "data": {
      "text/plain": [
       "'scotus'"
      ]
     },
     "execution_count": 4,
     "metadata": {},
     "output_type": "execute_result"
    }
   ],
   "source": [
    "G.vs[0]['court']"
   ]
  },
  {
   "cell_type": "code",
   "execution_count": 5,
   "metadata": {
    "collapsed": false
   },
   "outputs": [
    {
     "data": {
      "text/plain": [
       "1"
      ]
     },
     "execution_count": 5,
     "metadata": {},
     "output_type": "execute_result"
    }
   ],
   "source": [
    "G.vs[0].indegree()"
   ]
  },
  {
   "cell_type": "code",
   "execution_count": 17,
   "metadata": {
    "collapsed": false
   },
   "outputs": [],
   "source": [
    "year_list = []\n",
    "indegree_list = []\n",
    "id_list = []\n",
    "igraph_index_list = []\n",
    "for vertex in G.vs():\n",
    "    year_list.append(vertex['year'])\n",
    "    indegree_list.append(vertex.indegree())\n",
    "    id_list.append(vertex['name'])\n",
    "    igraph_index_list.append(vertex.index)\n",
    "\n",
    "tuple_list = zip(igraph_index_list, id_list, year_list, indegree_list)"
   ]
  },
  {
   "cell_type": "markdown",
   "metadata": {},
   "source": [
    "### keys = all the years, values = metadata of all past cases"
   ]
  },
  {
   "cell_type": "code",
   "execution_count": 18,
   "metadata": {
    "collapsed": false
   },
   "outputs": [],
   "source": [
    "min_year = np.amin(year_list)\n",
    "max_year = np.amax(year_list)\n",
    "\n",
    "past_now_cases_dict = OrderedDict()\n",
    "for i in range (min_year,max_year+1):\n",
    "    past_now_cases_dict[i] = []\n",
    "\n",
    "for case in tuple_list:\n",
    "    past_now_cases_dict[case[2]].append(case)\n",
    "\n",
    "for i in range (min_year+1,max_year+1):\n",
    "    past_now_cases_dict[i].extend(past_now_cases_dict[i-1])\n",
    "    past_now_cases_dict[i] = sorted(past_now_cases_dict[i], key=lambda tup: tup[3], reverse=True)\n",
    "    \n",
    "past_cases_dict = OrderedDict()\n",
    "for i in range (min_year,max_year+1):\n",
    "    past_cases_dict[i+1] = past_now_cases_dict[i]"
   ]
  },
  {
   "cell_type": "code",
   "execution_count": 25,
   "metadata": {
    "collapsed": false
   },
   "outputs": [
    {
     "data": {
      "text/plain": [
       "[(18427, 84581, 1754, 2),\n",
       " (17365, 2381647, 1768, 1),\n",
       " (17380, 2381728, 1768, 1),\n",
       " (18431, 84586, 1764, 1),\n",
       " (18433, 84589, 1768, 0),\n",
       " (18479, 84643, 1766, 0),\n",
       " (17398, 2381788, 1764, 0),\n",
       " (18432, 84587, 1764, 0),\n",
       " (18430, 84585, 1763, 0),\n",
       " (18396, 810012, 1760, 0),\n",
       " (18429, 84583, 1760, 0),\n",
       " (18428, 84582, 1759, 0)]"
      ]
     },
     "execution_count": 25,
     "metadata": {},
     "output_type": "execute_result"
    }
   ],
   "source": [
    "past_cases_dict[1770]"
   ]
  },
  {
   "cell_type": "markdown",
   "metadata": {
    "collapsed": true
   },
   "source": [
    "### 2nd part: get the cases that case c actually cites"
   ]
  },
  {
   "cell_type": "code",
   "execution_count": 56,
   "metadata": {
    "collapsed": false,
    "scrolled": true
   },
   "outputs": [
    {
     "name": "stdout",
     "output_type": "stream",
     "text": [
      "15293\n",
      "(29701, 96405, 1906, 608)\n",
      "26\n",
      "[39, 317, 384, 439, 619, 652, 771, 864, 1275, 1340, 1644, 1721, 1736, 1955, 2119, 2617, 3326, 4132, 4365, 6120, 6340, 6372, 7181, 7297, 8424, 9674]\n",
      "26\n",
      "[0.9974498136402276, 0.9792715621526189, 0.9748904727653175, 0.9712940561040999, 0.9595239652128424, 0.9573661152161119, 0.949584777349114, 0.9435035637219643, 0.9166285228535931, 0.9123782122539724, 0.8924998365265154, 0.8874648532008108, 0.8864840122932061, 0.8721637350421761, 0.8614398744523638, 0.8288759563198849, 0.7825148760870987, 0.7298110246518015, 0.7145752958870071, 0.5998169096972471, 0.5854312430523769, 0.5833387824494867, 0.5304387628326686, 0.5228535931471916, 0.4491597462891519, 0.36742300398875305]\n",
      "\n",
      "20.6561825672\n"
     ]
    }
   ],
   "source": [
    "# G.neighbors(10, mode='OUT') are the cases that case c actually cites\n",
    "\n",
    "#ranks = []\n",
    "for key, value in past_cases_dict.iteritems():\n",
    "    if key == G.vs[10]['year']:\n",
    "        all_past_cases = value\n",
    "\n",
    "print len(all_past_cases)\n",
    "print all_past_cases[0]\n",
    "\n",
    "\n",
    "\n",
    "ranks = [i+1 for i, v in enumerate(all_past_cases) if v[0] in G.neighbors(10, mode='OUT')]\n",
    "\n",
    "print len(ranks)\n",
    "print ranks\n",
    "\n",
    "scores = []\n",
    "# score_i = 1 - r_i/ |B_c| (where |B_c| is the number of cases that came before case c)\n",
    "for some_rank in ranks:\n",
    "    some_score = 1-some_rank/len(all_past_cases)\n",
    "    scores.append(some_score)\n",
    "    \n",
    "final_score = sum(scores)\n",
    "\n",
    "print len(scores)\n",
    "print scores\n",
    "print \n",
    "print final_score\n"
   ]
  },
  {
   "cell_type": "code",
   "execution_count": 58,
   "metadata": {
    "collapsed": false
   },
   "outputs": [
    {
     "data": {
      "text/plain": [
       "20.656182567187603"
      ]
     },
     "execution_count": 58,
     "metadata": {},
     "output_type": "execute_result"
    }
   ],
   "source": [
    "# G.neighbors(10, mode='OUT') are the cases that case c actually cites\n",
    "\n",
    "#ranks = []\n",
    "\n",
    "def calculate_score_for_case(case_index, past_cases_dict):\n",
    "    for key, value in past_cases_dict.iteritems():\n",
    "        if key == G.vs[case_index]['year']:\n",
    "            all_past_cases = value\n",
    "\n",
    "    ranks = [i+1 for i, v in enumerate(all_past_cases) if v[0] in G.neighbors(case_index, mode='OUT')]\n",
    "\n",
    "    scores = []\n",
    "    for some_rank in ranks:\n",
    "        some_score = 1-some_rank/len(all_past_cases)\n",
    "        scores.append(some_score)\n",
    "\n",
    "    final_score = sum(scores)\n",
    "    \n",
    "    return final_score\n",
    "    \n",
    "calculate_score_for_case(10, past_cases_dict)"
   ]
  },
  {
   "cell_type": "code",
   "execution_count": 61,
   "metadata": {
    "collapsed": false
   },
   "outputs": [
    {
     "ename": "UnboundLocalError",
     "evalue": "local variable 'all_past_cases' referenced before assignment",
     "output_type": "error",
     "traceback": [
      "\u001b[1;31m---------------------------------------------------------------------------\u001b[0m",
      "\u001b[1;31mUnboundLocalError\u001b[0m                         Traceback (most recent call last)",
      "\u001b[1;32m<ipython-input-61-b377414bab27>\u001b[0m in \u001b[0;36m<module>\u001b[1;34m()\u001b[0m\n\u001b[0;32m      3\u001b[0m \u001b[0mscore_M\u001b[0m \u001b[1;33m=\u001b[0m \u001b[1;36m0\u001b[0m\u001b[1;33m\u001b[0m\u001b[0m\n\u001b[0;32m      4\u001b[0m \u001b[1;32mfor\u001b[0m \u001b[0mi\u001b[0m \u001b[1;32min\u001b[0m \u001b[0mG\u001b[0m\u001b[1;33m.\u001b[0m\u001b[0mvs\u001b[0m\u001b[1;33m(\u001b[0m\u001b[1;33m)\u001b[0m\u001b[1;33m:\u001b[0m\u001b[1;33m\u001b[0m\u001b[0m\n\u001b[1;32m----> 5\u001b[1;33m     \u001b[0mscore_M\u001b[0m \u001b[1;33m+=\u001b[0m \u001b[0mcalculate_score_for_case\u001b[0m\u001b[1;33m(\u001b[0m\u001b[0mi\u001b[0m\u001b[1;33m.\u001b[0m\u001b[0mindex\u001b[0m\u001b[1;33m,\u001b[0m \u001b[0mpast_cases_dict\u001b[0m\u001b[1;33m)\u001b[0m\u001b[1;33m\u001b[0m\u001b[0m\n\u001b[0m\u001b[0;32m      6\u001b[0m \u001b[1;33m\u001b[0m\u001b[0m\n\u001b[0;32m      7\u001b[0m \u001b[0mtime2\u001b[0m\u001b[1;33m=\u001b[0m\u001b[0mtime\u001b[0m\u001b[1;33m.\u001b[0m\u001b[0mtime\u001b[0m\u001b[1;33m(\u001b[0m\u001b[1;33m)\u001b[0m\u001b[1;33m\u001b[0m\u001b[0m\n",
      "\u001b[1;32m<ipython-input-58-202a0b999ad2>\u001b[0m in \u001b[0;36mcalculate_score_for_case\u001b[1;34m(case_index, past_cases_dict)\u001b[0m\n\u001b[0;32m      8\u001b[0m             \u001b[0mall_past_cases\u001b[0m \u001b[1;33m=\u001b[0m \u001b[0mvalue\u001b[0m\u001b[1;33m\u001b[0m\u001b[0m\n\u001b[0;32m      9\u001b[0m \u001b[1;33m\u001b[0m\u001b[0m\n\u001b[1;32m---> 10\u001b[1;33m     \u001b[0mranks\u001b[0m \u001b[1;33m=\u001b[0m \u001b[1;33m[\u001b[0m\u001b[0mi\u001b[0m\u001b[1;33m+\u001b[0m\u001b[1;36m1\u001b[0m \u001b[1;32mfor\u001b[0m \u001b[0mi\u001b[0m\u001b[1;33m,\u001b[0m \u001b[0mv\u001b[0m \u001b[1;32min\u001b[0m \u001b[0menumerate\u001b[0m\u001b[1;33m(\u001b[0m\u001b[0mall_past_cases\u001b[0m\u001b[1;33m)\u001b[0m \u001b[1;32mif\u001b[0m \u001b[0mv\u001b[0m\u001b[1;33m[\u001b[0m\u001b[1;36m0\u001b[0m\u001b[1;33m]\u001b[0m \u001b[1;32min\u001b[0m \u001b[0mG\u001b[0m\u001b[1;33m.\u001b[0m\u001b[0mneighbors\u001b[0m\u001b[1;33m(\u001b[0m\u001b[0mcase_index\u001b[0m\u001b[1;33m,\u001b[0m \u001b[0mmode\u001b[0m\u001b[1;33m=\u001b[0m\u001b[1;34m'OUT'\u001b[0m\u001b[1;33m)\u001b[0m\u001b[1;33m]\u001b[0m\u001b[1;33m\u001b[0m\u001b[0m\n\u001b[0m\u001b[0;32m     11\u001b[0m \u001b[1;33m\u001b[0m\u001b[0m\n\u001b[0;32m     12\u001b[0m     \u001b[0mscores\u001b[0m \u001b[1;33m=\u001b[0m \u001b[1;33m[\u001b[0m\u001b[1;33m]\u001b[0m\u001b[1;33m\u001b[0m\u001b[0m\n",
      "\u001b[1;31mUnboundLocalError\u001b[0m: local variable 'all_past_cases' referenced before assignment"
     ]
    }
   ],
   "source": [
    "time1 = time.time()\n",
    "\n",
    "score_M = 0\n",
    "for i in G.vs():\n",
    "    score_M += calculate_score_for_case(i.index, past_cases_dict)\n",
    "    \n",
    "time2=time.time()\n",
    "total_time = str(time2-time1)\n",
    "print 'took ' + total_time\n",
    "print\n",
    "print score_M"
   ]
  },
  {
   "cell_type": "code",
   "execution_count": null,
   "metadata": {
    "collapsed": true
   },
   "outputs": [],
   "source": []
  }
 ],
 "metadata": {
  "anaconda-cloud": {},
  "kernelspec": {
   "display_name": "Python [Root]",
   "language": "python",
   "name": "Python [Root]"
  },
  "language_info": {
   "codemirror_mode": {
    "name": "ipython",
    "version": 2
   },
   "file_extension": ".py",
   "mimetype": "text/x-python",
   "name": "python",
   "nbconvert_exporter": "python",
   "pygments_lexer": "ipython2",
   "version": "2.7.11"
  }
 },
 "nbformat": 4,
 "nbformat_minor": 0
}
