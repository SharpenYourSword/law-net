{
 "cells": [
  {
   "cell_type": "code",
   "execution_count": 1,
   "metadata": {
    "collapsed": false
   },
   "outputs": [],
   "source": [
    "\n",
    "import sys\n",
    "\n",
    "sys.path.append('../../code/')\n",
    "import os\n",
    "import json\n",
    "from datetime import datetime\n",
    "import time\n",
    "\n",
    "import numpy as np\n",
    "import pandas as pd\n",
    "import matplotlib.pyplot as plt\n",
    "import scipy.stats as stats\n",
    "\n",
    "import igraph as ig\n",
    "from collections import *\n",
    "from __future__ import division\n",
    "\n",
    "from load_data import load_citation_network_igraph, case_info\n",
    "\n",
    "%load_ext autoreload\n",
    "%autoreload 2\n",
    "%matplotlib inline\n",
    "\n",
    "data_dir = '../../data/'\n",
    "court_name = 'scotus'"
   ]
  },
  {
   "cell_type": "code",
   "execution_count": 2,
   "metadata": {
    "collapsed": false
   },
   "outputs": [
    {
     "name": "stdout",
     "output_type": "stream",
     "text": [
      "0 seconds for 250465 edges\n",
      "loaded scotus network with 33248 cases and 250465 edges\n"
     ]
    }
   ],
   "source": [
    "# this will be a little slow the first time you run it\n",
    "G = load_citation_network_igraph(data_dir, court_name)\n",
    "\n",
    "print 'loaded %s network with %d cases and %d edges' % (court_name, len(G.vs), len(G.es))"
   ]
  },
  {
   "cell_type": "markdown",
   "metadata": {},
   "source": [
    "### SubGraph Code (vertices = only past cases)"
   ]
  },
  {
   "cell_type": "code",
   "execution_count": 3,
   "metadata": {
    "collapsed": false
   },
   "outputs": [
    {
     "name": "stdout",
     "output_type": "stream",
     "text": [
      "IGRAPH DN-- 33248 250465 -- \n",
      "+ attr: court (v), name (v), year (v)\n",
      "IGRAPH DN-- 33248 250465 -- \n",
      "+ attr: court (v), name (v), year (v)\n",
      "This took 7.86999988556 seconds\n"
     ]
    }
   ],
   "source": [
    "time1 = time.time()\n",
    "subgraph_dict = {}\n",
    "\n",
    "min_year = 1754\n",
    "max_year = 2016\n",
    "\n",
    "for i in range(min_year, max_year+2):\n",
    "    sub_vs = G.vs.select(year_lt = i) # so only the past cases\n",
    "    sub_G = G.subgraph(sub_vs)\n",
    "    subgraph_dict[i] = sub_G\n",
    "    \n",
    "time2 = time.time()\n",
    "\n",
    "print subgraph_dict[2017].summary()\n",
    "print G.summary()\n",
    "print \"This took \" + str(time2-time1) + \" seconds\""
   ]
  },
  {
   "cell_type": "code",
   "execution_count": 4,
   "metadata": {
    "collapsed": false
   },
   "outputs": [
    {
     "name": "stdout",
     "output_type": "stream",
     "text": [
      "In the whole network case 108465 has an indegree of: 11\n",
      "In the sub-network of cases before 1973 case 108465 has an indegree of: 2\n"
     ]
    }
   ],
   "source": [
    "print \"In the whole network case \" + str(G.vs[8000]['name']) + \" has an indegree of: \" + str(G.vs[8000].indegree())\n",
    "for v in subgraph_dict[1973].vs:\n",
    "    if v['name'] == G.vs[8000]['name']:\n",
    "        print \"In the sub-network of cases before 1973 case \" + str(v['name']) + \" has an indegree of: \" + str(v.indegree())"
   ]
  },
  {
   "cell_type": "markdown",
   "metadata": {},
   "source": [
    "# In-Degree with Time-Decay"
   ]
  },
  {
   "cell_type": "markdown",
   "metadata": {},
   "source": [
    "# Get dictionaries of all past cases, where 'key' = year, 'value' = past cases in tuple-form"
   ]
  },
  {
   "cell_type": "code",
   "execution_count": 5,
   "metadata": {
    "collapsed": false
   },
   "outputs": [],
   "source": [
    "time1 = time.time()\n",
    "\n",
    "case_tuple_dict = {}\n",
    "\n",
    "for i in range(min_year, max_year+2):\n",
    "    sub_G = subgraph_dict[i]\n",
    "    \n",
    "    igraph_index_list = []\n",
    "    id_list = []\n",
    "    year_list = []\n",
    "    metric_list = []\n",
    "    \n",
    "    ## to do page rank:\n",
    "    #metric_list = sub_G.pagerank()\n",
    "    \n",
    "    for j in range(0, len(sub_G.vs)): # not \" for vertex in sub_G.bs \" because not sure if it goes through each index in order\n",
    "        vertex = sub_G.vs[j]\n",
    "        igraph_index_list.append(vertex.index) # kinda useless because subgraphs reindex stuff differently from original G\n",
    "        id_list.append(vertex['name'])\n",
    "        year_list.append(vertex['year'])\n",
    "        metric_list.append(vertex.indegree())\n",
    "    \n",
    "    tuple_list = zip(igraph_index_list, id_list, year_list, metric_list)\n",
    "    sorted_tuple_list = sorted(tuple_list, key=lambda tup: tup[3], reverse=True) # sort by metric (indegree or page rank)\n",
    "    \n",
    "    case_tuple_dict[i] = sorted_tuple_list # Dictionary containing all past cases' (as sorted tuples by metric)"
   ]
  },
  {
   "cell_type": "code",
   "execution_count": 7,
   "metadata": {
    "collapsed": false
   },
   "outputs": [
    {
     "data": {
      "text/plain": [
       "int"
      ]
     },
     "execution_count": 7,
     "metadata": {},
     "output_type": "execute_result"
    }
   ],
   "source": [
    "type(G.vs[10]['year'])"
   ]
  },
  {
   "cell_type": "markdown",
   "metadata": {
    "collapsed": true
   },
   "source": [
    "# 2nd part: rank the cases that case c actually cites"
   ]
  },
  {
   "cell_type": "code",
   "execution_count": 12,
   "metadata": {
    "collapsed": false
   },
   "outputs": [
    {
     "data": {
      "text/plain": [
       "15.380239325181453"
      ]
     },
     "execution_count": 12,
     "metadata": {},
     "output_type": "execute_result"
    }
   ],
   "source": [
    "# G.neighbors(10, mode='OUT') are the cases that case c actually cites\n",
    "\n",
    "#ranks = []\n",
    "\n",
    "def calculate_score_for_case(case_index, case_tuple_dict):\n",
    "    all_past_cases = case_tuple_dict[G.vs[case_index]['year']]\n",
    "    \n",
    "    neighbors = G.neighbors(case_index, mode='OUT')\n",
    "    #neighbors_names = [G.vs[i]['name'] for i in neighbors]\n",
    "    \n",
    "    neighbors_names = []\n",
    "    for each_neighbor in neighbors:\n",
    "    # take time decay into account (cases lose relevance after some years)\n",
    "        if G.vs[case_index]['year']-G.vs[each_neighbor]['year'] <= 50:\n",
    "            neighbors_names.append(G.vs[each_neighbor]['name'])\n",
    "\n",
    "    # check the ranks by case 'names' because graph and subgraph will have different node indexing\n",
    "    ranks = [i+1 for i, v in enumerate(all_past_cases) if v[1] in neighbors_names]\n",
    "\n",
    "    scores = []\n",
    "    for some_rank in ranks:\n",
    "        some_score = 1-some_rank/len(all_past_cases)\n",
    "        scores.append(some_score)\n",
    "\n",
    "    final_score = sum(scores)\n",
    "    \n",
    "    return final_score\n",
    "    \n",
    "calculate_score_for_case(10, case_tuple_dict)\n",
    "                                   "
   ]
  },
  {
   "cell_type": "code",
   "execution_count": 13,
   "metadata": {
    "collapsed": false
   },
   "outputs": [
    {
     "name": "stdout",
     "output_type": "stream",
     "text": [
      "took 265.729000092\n",
      "\n",
      "146878.317912\n"
     ]
    }
   ],
   "source": [
    "time1 = time.time()\n",
    "\n",
    "score_M = 0\n",
    "for i in G.vs():\n",
    "    score_M += calculate_score_for_case(i.index, case_tuple_dict)\n",
    "    \n",
    "time2=time.time()\n",
    "total_time = str(time2-time1)\n",
    "print 'took ' + total_time\n",
    "print\n",
    "print score_M"
   ]
  },
  {
   "cell_type": "markdown",
   "metadata": {},
   "source": [
    "# time-decay for indegree (modify to take into account of 10, 20, 30, 40 50 years)-- 'v2' time decay"
   ]
  },
  {
   "cell_type": "code",
   "execution_count": 14,
   "metadata": {
    "collapsed": false
   },
   "outputs": [
    {
     "data": {
      "text/plain": [
       "15.381233243967827"
      ]
     },
     "execution_count": 14,
     "metadata": {},
     "output_type": "execute_result"
    }
   ],
   "source": [
    "# G.neighbors(10, mode='OUT') are the cases that case c actually cites\n",
    "\n",
    "#ranks = []\n",
    "\n",
    "def calculate_score_for_case(case_index, case_tuple_dict):\n",
    "    all_past_cases = case_tuple_dict[G.vs[case_index]['year']]\n",
    "    \n",
    "    neighbors = G.neighbors(case_index, mode='OUT')\n",
    "    #neighbors_names = [G.vs[i]['name'] for i in neighbors]\n",
    "    \n",
    "    neighbors_names_10 = []\n",
    "    neighbors_names_20 = []\n",
    "    neighbors_names_30 = []\n",
    "    neighbors_names_40 = []\n",
    "    neighbors_names_50 = []\n",
    "    for each_neighbor in neighbors:\n",
    "    # take time decay into account (cases lose relevance after some years)\n",
    "        if G.vs[case_index]['year']-G.vs[each_neighbor]['year'] <= 10:\n",
    "            neighbors_names_10.append(G.vs[each_neighbor]['name'])\n",
    "        if 10 < G.vs[case_index]['year']-G.vs[each_neighbor]['year'] <= 20:\n",
    "            neighbors_names_20.append(G.vs[each_neighbor]['name'])\n",
    "        if 20 < G.vs[case_index]['year']-G.vs[each_neighbor]['year'] <= 30:\n",
    "            neighbors_names_30.append(G.vs[each_neighbor]['name'])\n",
    "        if 30 < G.vs[case_index]['year']-G.vs[each_neighbor]['year'] <= 40:\n",
    "            neighbors_names_40.append(G.vs[each_neighbor]['name'])\n",
    "        if 40 < G.vs[case_index]['year']-G.vs[each_neighbor]['year'] <= 50:\n",
    "            neighbors_names_50.append(G.vs[each_neighbor]['name'])\n",
    "\n",
    "    # check the ranks by case 'names' because graph and subgraph will have different node indexing\n",
    "    ranks_10 = [i+0.2 for i, v in enumerate(all_past_cases) if v[1] in neighbors_names_10]\n",
    "    ranks_20 = [i+0.4 for i, v in enumerate(all_past_cases) if v[1] in neighbors_names_20]\n",
    "    ranks_30 = [i+0.6 for i, v in enumerate(all_past_cases) if v[1] in neighbors_names_30]\n",
    "    ranks_40 = [i+0.8 for i, v in enumerate(all_past_cases) if v[1] in neighbors_names_40]\n",
    "    ranks_50 = [i+1.0 for i, v in enumerate(all_past_cases) if v[1] in neighbors_names_50]\n",
    "    \n",
    "    ranks = ranks_10 + ranks_20 + ranks_30 + ranks_40 + ranks_50\n",
    "\n",
    "    scores = []\n",
    "    for some_rank in ranks:\n",
    "        some_score = 1-some_rank/len(all_past_cases)\n",
    "        scores.append(some_score)\n",
    "\n",
    "    final_score = sum(scores)\n",
    "    \n",
    "    return final_score\n",
    "    \n",
    "calculate_score_for_case(10, case_tuple_dict)\n",
    "                                   "
   ]
  },
  {
   "cell_type": "code",
   "execution_count": 15,
   "metadata": {
    "collapsed": false
   },
   "outputs": [
    {
     "name": "stdout",
     "output_type": "stream",
     "text": [
      "took 668.313000202\n",
      "\n",
      "146885.684495\n"
     ]
    }
   ],
   "source": [
    "time1 = time.time()\n",
    "\n",
    "score_M = 0\n",
    "for i in G.vs():\n",
    "    score_M += calculate_score_for_case(i.index, case_tuple_dict)\n",
    "    \n",
    "time2=time.time()\n",
    "total_time = str(time2-time1)\n",
    "print 'took ' + total_time\n",
    "print\n",
    "print score_M"
   ]
  },
  {
   "cell_type": "markdown",
   "metadata": {},
   "source": [
    "# page rank time decay within 50 years"
   ]
  },
  {
   "cell_type": "code",
   "execution_count": 17,
   "metadata": {
    "collapsed": true
   },
   "outputs": [],
   "source": [
    "time1 = time.time()\n",
    "\n",
    "case_tuple_dict = {}\n",
    "\n",
    "for i in range(min_year, max_year+2):\n",
    "    sub_G = subgraph_dict[i]\n",
    "    \n",
    "    igraph_index_list = []\n",
    "    id_list = []\n",
    "    year_list = []\n",
    "    metric_list = []\n",
    "    \n",
    "    ## to do page rank:\n",
    "    metric_list = sub_G.pagerank()\n",
    "    \n",
    "    for j in range(0, len(sub_G.vs)): # not \" for vertex in sub_G.bs \" because not sure if it goes through each index in order\n",
    "        vertex = sub_G.vs[j]\n",
    "        igraph_index_list.append(vertex.index) # kinda useless because subgraphs reindex stuff differently from original G\n",
    "        id_list.append(vertex['name'])\n",
    "        year_list.append(vertex['year'])\n",
    "        #metric_list.append(vertex.indegree())\n",
    "    \n",
    "    tuple_list = zip(igraph_index_list, id_list, year_list, metric_list)\n",
    "    sorted_tuple_list = sorted(tuple_list, key=lambda tup: tup[3], reverse=True) # sort by metric (indegree or page rank)\n",
    "    \n",
    "    case_tuple_dict[i] = sorted_tuple_list # Dictionary containing all past cases' (as sorted tuples by metric)"
   ]
  },
  {
   "cell_type": "code",
   "execution_count": 18,
   "metadata": {
    "collapsed": false
   },
   "outputs": [
    {
     "data": {
      "text/plain": [
       "15.49048584319623"
      ]
     },
     "execution_count": 18,
     "metadata": {},
     "output_type": "execute_result"
    }
   ],
   "source": [
    "# G.neighbors(10, mode='OUT') are the cases that case c actually cites\n",
    "\n",
    "#ranks = []\n",
    "\n",
    "def calculate_score_for_case(case_index, case_tuple_dict):\n",
    "    all_past_cases = case_tuple_dict[G.vs[case_index]['year']]\n",
    "    \n",
    "    neighbors = G.neighbors(case_index, mode='OUT')\n",
    "    #neighbors_names = [G.vs[i]['name'] for i in neighbors]\n",
    "    \n",
    "    neighbors_names = []\n",
    "    for each_neighbor in neighbors:\n",
    "    # take time decay into account (cases lose relevance after some years)\n",
    "        if G.vs[case_index]['year']-G.vs[each_neighbor]['year'] <= 50:\n",
    "            neighbors_names.append(G.vs[each_neighbor]['name'])\n",
    "\n",
    "    # check the ranks by case 'names' because graph and subgraph will have different node indexing\n",
    "    ranks = [i+1 for i, v in enumerate(all_past_cases) if v[1] in neighbors_names]\n",
    "\n",
    "    scores = []\n",
    "    for some_rank in ranks:\n",
    "        some_score = 1-some_rank/len(all_past_cases)\n",
    "        scores.append(some_score)\n",
    "\n",
    "    final_score = sum(scores)\n",
    "    \n",
    "    return final_score\n",
    "    \n",
    "calculate_score_for_case(10, case_tuple_dict)\n",
    "                                   "
   ]
  },
  {
   "cell_type": "code",
   "execution_count": 19,
   "metadata": {
    "collapsed": false
   },
   "outputs": [
    {
     "name": "stdout",
     "output_type": "stream",
     "text": [
      "took 278.717999935\n",
      "\n",
      "122586.970745\n"
     ]
    }
   ],
   "source": [
    "time1 = time.time()\n",
    "\n",
    "score_M = 0\n",
    "for i in G.vs():\n",
    "    score_M += calculate_score_for_case(i.index, case_tuple_dict)\n",
    "    \n",
    "time2=time.time()\n",
    "total_time = str(time2-time1)\n",
    "print 'took ' + total_time\n",
    "print\n",
    "print score_M"
   ]
  },
  {
   "cell_type": "markdown",
   "metadata": {},
   "source": [
    "# hubs time decay within 50 years"
   ]
  },
  {
   "cell_type": "code",
   "execution_count": 21,
   "metadata": {
    "collapsed": true
   },
   "outputs": [],
   "source": [
    "time1 = time.time()\n",
    "\n",
    "case_tuple_dict = {}\n",
    "\n",
    "for i in range(min_year, max_year+2):\n",
    "    sub_G = subgraph_dict[i]\n",
    "    \n",
    "    igraph_index_list = []\n",
    "    id_list = []\n",
    "    year_list = []\n",
    "    metric_list = []\n",
    "    \n",
    "    metric_list = sub_G.hub_score()\n",
    "    \n",
    "    for j in range(0, len(sub_G.vs)): # not \" for vertex in sub_G.bs \" because not sure if it goes through each index in order\n",
    "        vertex = sub_G.vs[j]\n",
    "        igraph_index_list.append(vertex.index) # kinda useless because subgraphs reindex stuff differently from original G\n",
    "        id_list.append(vertex['name'])\n",
    "        year_list.append(vertex['year'])\n",
    "        #metric_list.append(vertex.indegree())\n",
    "    \n",
    "    tuple_list = zip(igraph_index_list, id_list, year_list, metric_list)\n",
    "    sorted_tuple_list = sorted(tuple_list, key=lambda tup: tup[3], reverse=True) # sort by metric (indegree or page rank)\n",
    "    \n",
    "    case_tuple_dict[i] = sorted_tuple_list # Dictionary containing all past cases' (as sorted tuples by metric)"
   ]
  },
  {
   "cell_type": "code",
   "execution_count": 22,
   "metadata": {
    "collapsed": false
   },
   "outputs": [
    {
     "data": {
      "text/plain": [
       "18.62204930360296"
      ]
     },
     "execution_count": 22,
     "metadata": {},
     "output_type": "execute_result"
    }
   ],
   "source": [
    "# G.neighbors(10, mode='OUT') are the cases that case c actually cites\n",
    "\n",
    "#ranks = []\n",
    "\n",
    "def calculate_score_for_case(case_index, case_tuple_dict):\n",
    "    all_past_cases = case_tuple_dict[G.vs[case_index]['year']]\n",
    "    \n",
    "    neighbors = G.neighbors(case_index, mode='OUT')\n",
    "    #neighbors_names = [G.vs[i]['name'] for i in neighbors]\n",
    "    \n",
    "    neighbors_names = []\n",
    "    for each_neighbor in neighbors:\n",
    "    # take time decay into account (cases lose relevance after some years)\n",
    "        if G.vs[case_index]['year']-G.vs[each_neighbor]['year'] <= 50:\n",
    "            neighbors_names.append(G.vs[each_neighbor]['name'])\n",
    "\n",
    "    # check the ranks by case 'names' because graph and subgraph will have different node indexing\n",
    "    ranks = [i+1 for i, v in enumerate(all_past_cases) if v[1] in neighbors_names]\n",
    "\n",
    "    scores = []\n",
    "    for some_rank in ranks:\n",
    "        some_score = 1-some_rank/len(all_past_cases)\n",
    "        scores.append(some_score)\n",
    "\n",
    "    final_score = sum(scores)\n",
    "    \n",
    "    return final_score\n",
    "    \n",
    "calculate_score_for_case(10, case_tuple_dict)\n",
    "                                   "
   ]
  },
  {
   "cell_type": "code",
   "execution_count": 23,
   "metadata": {
    "collapsed": false
   },
   "outputs": [
    {
     "name": "stdout",
     "output_type": "stream",
     "text": [
      "took 235.385999918\n",
      "\n",
      "173708.476979\n"
     ]
    }
   ],
   "source": [
    "time1 = time.time()\n",
    "\n",
    "score_M = 0\n",
    "for i in G.vs():\n",
    "    score_M += calculate_score_for_case(i.index, case_tuple_dict)\n",
    "    \n",
    "time2=time.time()\n",
    "total_time = str(time2-time1)\n",
    "print 'took ' + total_time\n",
    "print\n",
    "print score_M"
   ]
  },
  {
   "cell_type": "markdown",
   "metadata": {},
   "source": [
    "# authority time decay within 50 years"
   ]
  },
  {
   "cell_type": "code",
   "execution_count": 24,
   "metadata": {
    "collapsed": true
   },
   "outputs": [],
   "source": [
    "time1 = time.time()\n",
    "\n",
    "case_tuple_dict = {}\n",
    "\n",
    "for i in range(min_year, max_year+2):\n",
    "    sub_G = subgraph_dict[i]\n",
    "    \n",
    "    igraph_index_list = []\n",
    "    id_list = []\n",
    "    year_list = []\n",
    "    metric_list = []\n",
    "    \n",
    "    metric_list = sub_G.authority_score()\n",
    "    \n",
    "    for j in range(0, len(sub_G.vs)): # not \" for vertex in sub_G.bs \" because not sure if it goes through each index in order\n",
    "        vertex = sub_G.vs[j]\n",
    "        igraph_index_list.append(vertex.index) # kinda useless because subgraphs reindex stuff differently from original G\n",
    "        id_list.append(vertex['name'])\n",
    "        year_list.append(vertex['year'])\n",
    "        #metric_list.append(vertex.indegree())\n",
    "    \n",
    "    tuple_list = zip(igraph_index_list, id_list, year_list, metric_list)\n",
    "    sorted_tuple_list = sorted(tuple_list, key=lambda tup: tup[3], reverse=True) # sort by metric (indegree or page rank)\n",
    "    \n",
    "    case_tuple_dict[i] = sorted_tuple_list # Dictionary containing all past cases' (as sorted tuples by metric)"
   ]
  },
  {
   "cell_type": "code",
   "execution_count": 25,
   "metadata": {
    "collapsed": false
   },
   "outputs": [
    {
     "data": {
      "text/plain": [
       "16.64755116720068"
      ]
     },
     "execution_count": 25,
     "metadata": {},
     "output_type": "execute_result"
    }
   ],
   "source": [
    "# G.neighbors(10, mode='OUT') are the cases that case c actually cites\n",
    "\n",
    "#ranks = []\n",
    "\n",
    "def calculate_score_for_case(case_index, case_tuple_dict):\n",
    "    all_past_cases = case_tuple_dict[G.vs[case_index]['year']]\n",
    "    \n",
    "    neighbors = G.neighbors(case_index, mode='OUT')\n",
    "    #neighbors_names = [G.vs[i]['name'] for i in neighbors]\n",
    "    \n",
    "    neighbors_names = []\n",
    "    for each_neighbor in neighbors:\n",
    "    # take time decay into account (cases lose relevance after some years)\n",
    "        if G.vs[case_index]['year']-G.vs[each_neighbor]['year'] <= 50:\n",
    "            neighbors_names.append(G.vs[each_neighbor]['name'])\n",
    "\n",
    "    # check the ranks by case 'names' because graph and subgraph will have different node indexing\n",
    "    ranks = [i+1 for i, v in enumerate(all_past_cases) if v[1] in neighbors_names]\n",
    "\n",
    "    scores = []\n",
    "    for some_rank in ranks:\n",
    "        some_score = 1-some_rank/len(all_past_cases)\n",
    "        scores.append(some_score)\n",
    "\n",
    "    final_score = sum(scores)\n",
    "    \n",
    "    return final_score\n",
    "    \n",
    "calculate_score_for_case(10, case_tuple_dict)\n",
    "                                   "
   ]
  },
  {
   "cell_type": "code",
   "execution_count": 26,
   "metadata": {
    "collapsed": false
   },
   "outputs": [
    {
     "name": "stdout",
     "output_type": "stream",
     "text": [
      "took 197.239000082\n",
      "\n",
      "158084.213454\n"
     ]
    }
   ],
   "source": [
    "time1 = time.time()\n",
    "\n",
    "score_M = 0\n",
    "for i in G.vs():\n",
    "    score_M += calculate_score_for_case(i.index, case_tuple_dict)\n",
    "    \n",
    "time2=time.time()\n",
    "total_time = str(time2-time1)\n",
    "print 'took ' + total_time\n",
    "print\n",
    "print score_M"
   ]
  },
  {
   "cell_type": "markdown",
   "metadata": {},
   "source": [
    "# Convert subgraphs to undirected"
   ]
  },
  {
   "cell_type": "code",
   "execution_count": 27,
   "metadata": {
    "collapsed": false
   },
   "outputs": [
    {
     "name": "stdout",
     "output_type": "stream",
     "text": [
      "IGRAPH UN-- 33248 249878 -- \n",
      "+ attr: court (v), name (v), year (v)\n",
      "IGRAPH DN-- 33248 250465 -- \n",
      "+ attr: court (v), name (v), year (v)\n",
      "This took 12.9579999447 seconds\n"
     ]
    }
   ],
   "source": [
    "time1 = time.time()\n",
    "subgraph_dict = {}\n",
    "\n",
    "min_year = 1754\n",
    "max_year = 2016\n",
    "\n",
    "for i in range(min_year, max_year+2):\n",
    "    sub_vs = G.vs.select(year_lt = i) # so only the past cases\n",
    "    sub_G = G.subgraph(sub_vs)\n",
    "    sub_G = sub_G.as_undirected() # convert to undirected form\n",
    "    subgraph_dict[i] = sub_G\n",
    "    \n",
    "time2 = time.time()\n",
    "\n",
    "print subgraph_dict[2017].summary()\n",
    "print G.summary()\n",
    "print \"This took \" + str(time2-time1) + \" seconds\""
   ]
  },
  {
   "cell_type": "markdown",
   "metadata": {},
   "source": [
    "### NOTE: undirected graph has less edges ^ (probably the same problem where the same cases are citing each other but have different case ID's)"
   ]
  },
  {
   "cell_type": "markdown",
   "metadata": {},
   "source": [
    "# eigenvector centrality time decay within 50 years (undirected)"
   ]
  },
  {
   "cell_type": "code",
   "execution_count": 28,
   "metadata": {
    "collapsed": false
   },
   "outputs": [
    {
     "name": "stdout",
     "output_type": "stream",
     "text": [
      "took 51.9989998341 seconds\n"
     ]
    }
   ],
   "source": [
    "time1 = time.time()\n",
    "\n",
    "case_tuple_dict = {}\n",
    "\n",
    "for i in range(min_year, max_year+2):\n",
    "    sub_G = subgraph_dict[i]\n",
    "    \n",
    "    igraph_index_list = []\n",
    "    id_list = []\n",
    "    year_list = []\n",
    "    metric_list = []\n",
    "    \n",
    "    metric_list = sub_G.eigenvector_centrality()\n",
    "    \n",
    "    for j in range(0, len(sub_G.vs)): # not \" for vertex in sub_G.bs \" because not sure if it goes through each index in order\n",
    "        vertex = sub_G.vs[j]\n",
    "        igraph_index_list.append(vertex.index) # kinda useless because subgraphs reindex stuff differently from original G\n",
    "        id_list.append(vertex['name'])\n",
    "        year_list.append(vertex['year'])\n",
    "        #metric_list.append(vertex.indegree())\n",
    "    \n",
    "    tuple_list = zip(igraph_index_list, id_list, year_list, metric_list)\n",
    "    sorted_tuple_list = sorted(tuple_list, key=lambda tup: tup[3], reverse=True) # sort by metric (indegree or page rank)\n",
    "    \n",
    "    case_tuple_dict[i] = sorted_tuple_list # Dictionary containing all past cases' (as sorted tuples by metric)\n",
    "    \n",
    "time2 = time.time()\n",
    "\n",
    "print 'took ' + str(time2-time1) + ' seconds'"
   ]
  },
  {
   "cell_type": "code",
   "execution_count": 29,
   "metadata": {
    "collapsed": false
   },
   "outputs": [
    {
     "data": {
      "text/plain": [
       "18.329039429804485"
      ]
     },
     "execution_count": 29,
     "metadata": {},
     "output_type": "execute_result"
    }
   ],
   "source": [
    "# G.neighbors(10, mode='OUT') are the cases that case c actually cites\n",
    "\n",
    "#ranks = []\n",
    "\n",
    "def calculate_score_for_case(case_index, case_tuple_dict):\n",
    "    all_past_cases = case_tuple_dict[G.vs[case_index]['year']]\n",
    "    \n",
    "    neighbors = G.neighbors(case_index, mode='OUT')\n",
    "    #neighbors_names = [G.vs[i]['name'] for i in neighbors]\n",
    "    \n",
    "    neighbors_names = []\n",
    "    for each_neighbor in neighbors:\n",
    "    # take time decay into account (cases lose relevance after some years)\n",
    "        if G.vs[case_index]['year']-G.vs[each_neighbor]['year'] <= 50:\n",
    "            neighbors_names.append(G.vs[each_neighbor]['name'])\n",
    "\n",
    "    # check the ranks by case 'names' because graph and subgraph will have different node indexing\n",
    "    ranks = [i+1 for i, v in enumerate(all_past_cases) if v[1] in neighbors_names]\n",
    "\n",
    "    scores = []\n",
    "    for some_rank in ranks:\n",
    "        some_score = 1-some_rank/len(all_past_cases)\n",
    "        scores.append(some_score)\n",
    "\n",
    "    final_score = sum(scores)\n",
    "    \n",
    "    return final_score\n",
    "    \n",
    "calculate_score_for_case(10, case_tuple_dict)\n",
    "                                   "
   ]
  },
  {
   "cell_type": "code",
   "execution_count": 30,
   "metadata": {
    "collapsed": false
   },
   "outputs": [
    {
     "name": "stdout",
     "output_type": "stream",
     "text": [
      "took 195.756999969\n",
      "\n",
      "173602.436626\n"
     ]
    }
   ],
   "source": [
    "time1 = time.time()\n",
    "\n",
    "score_M = 0\n",
    "for i in G.vs():\n",
    "    score_M += calculate_score_for_case(i.index, case_tuple_dict)\n",
    "    \n",
    "time2=time.time()\n",
    "total_time = str(time2-time1)\n",
    "print 'took ' + total_time\n",
    "print\n",
    "print score_M"
   ]
  },
  {
   "cell_type": "code",
   "execution_count": null,
   "metadata": {
    "collapsed": true
   },
   "outputs": [],
   "source": []
  }
 ],
 "metadata": {
  "anaconda-cloud": {},
  "kernelspec": {
   "display_name": "Python [Root]",
   "language": "python",
   "name": "Python [Root]"
  },
  "language_info": {
   "codemirror_mode": {
    "name": "ipython",
    "version": 2
   },
   "file_extension": ".py",
   "mimetype": "text/x-python",
   "name": "python",
   "nbconvert_exporter": "python",
   "pygments_lexer": "ipython2",
   "version": "2.7.11"
  }
 },
 "nbformat": 4,
 "nbformat_minor": 0
}
