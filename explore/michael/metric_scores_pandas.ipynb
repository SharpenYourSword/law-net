{
 "cells": [
  {
   "cell_type": "markdown",
   "metadata": {},
   "source": [
    "# Add Closeness, Betweenness, Time Decay Copies Later"
   ]
  },
  {
   "cell_type": "code",
   "execution_count": 5,
   "metadata": {
    "collapsed": false
   },
   "outputs": [
    {
     "data": {
      "text/html": [
       "<div>\n",
       "<table border=\"1\" class=\"dataframe\">\n",
       "  <thead>\n",
       "    <tr style=\"text-align: right;\">\n",
       "      <th></th>\n",
       "      <th>Metrics</th>\n",
       "      <th>Scores</th>\n",
       "      <th>Time Decay Scores</th>\n",
       "      <th>Difference Between Scores</th>\n",
       "      <th>Time Decay Scores v2</th>\n",
       "    </tr>\n",
       "  </thead>\n",
       "  <tbody>\n",
       "    <tr>\n",
       "      <th>0</th>\n",
       "      <td>in degree</td>\n",
       "      <td>174094.901772</td>\n",
       "      <td>146878.317912</td>\n",
       "      <td>27216.583860</td>\n",
       "      <td>NaN</td>\n",
       "    </tr>\n",
       "    <tr>\n",
       "      <th>1</th>\n",
       "      <td>page rank</td>\n",
       "      <td>149192.224771</td>\n",
       "      <td>122586.970745</td>\n",
       "      <td>26605.254026</td>\n",
       "      <td>NaN</td>\n",
       "    </tr>\n",
       "    <tr>\n",
       "      <th>2</th>\n",
       "      <td>hubs</td>\n",
       "      <td>193326.407438</td>\n",
       "      <td>173708.476979</td>\n",
       "      <td>19617.930459</td>\n",
       "      <td>NaN</td>\n",
       "    </tr>\n",
       "    <tr>\n",
       "      <th>3</th>\n",
       "      <td>authorities</td>\n",
       "      <td>184295.706751</td>\n",
       "      <td>158084.213454</td>\n",
       "      <td>26211.493297</td>\n",
       "      <td>NaN</td>\n",
       "    </tr>\n",
       "    <tr>\n",
       "      <th>4</th>\n",
       "      <td>eigenvector</td>\n",
       "      <td>198567.349340</td>\n",
       "      <td>173602.436626</td>\n",
       "      <td>24964.912714</td>\n",
       "      <td>NaN</td>\n",
       "    </tr>\n",
       "  </tbody>\n",
       "</table>\n",
       "</div>"
      ],
      "text/plain": [
       "       Metrics         Scores  Time Decay Scores  Difference Between Scores  \\\n",
       "0    in degree  174094.901772      146878.317912               27216.583860   \n",
       "1    page rank  149192.224771      122586.970745               26605.254026   \n",
       "2         hubs  193326.407438      173708.476979               19617.930459   \n",
       "3  authorities  184295.706751      158084.213454               26211.493297   \n",
       "4  eigenvector  198567.349340      173602.436626               24964.912714   \n",
       "\n",
       "  Time Decay Scores v2  \n",
       "0                  NaN  \n",
       "1                  NaN  \n",
       "2                  NaN  \n",
       "3                  NaN  \n",
       "4                  NaN  "
      ]
     },
     "execution_count": 5,
     "metadata": {},
     "output_type": "execute_result"
    }
   ],
   "source": [
    "import pandas as pd\n",
    "\n",
    "'''\n",
    "in degree: 174094.901772\n",
    "page rank: 149192.224771\n",
    "hubs: 193326.407438\n",
    "authorities: 184295.706751\n",
    "eigenvector: 198567.34934\n",
    "closeness?\n",
    "betweenness?\n",
    "'''\n",
    "\n",
    "metrics = ['in degree', 'page rank', 'hubs', 'authorities', 'eigenvector']\n",
    "metric_scores = [174094.901772, 149192.224771, 193326.407438, 184295.706751, 198567.34934]\n",
    "time_decay_scores = [146878.317912, 122586.970745, 173708.476979, 158084.213454, 173602.436626]\n",
    "difference_between_scores = [a - b for a,b in zip(metric_scores, time_decay_scores)]\n",
    "time_decay_scores_v2 = [146885.684495, '', '', '', '']\n",
    "data = {'Metrics': metrics,\n",
    "        'Scores': metric_scores,\n",
    "        'Time Decay Scores': time_decay_scores,\n",
    "        'Difference Between Scores': difference_between_scores,\n",
    "        'Time Decay scores v2': time_decay_scores_v2\n",
    "       }\n",
    "df = pd.DataFrame(data, columns = ['Metrics', 'Scores', 'Time Decay Scores', 'Difference Between Scores', 'Time Decay Scores v2'])\n",
    "\n",
    "df"
   ]
  },
  {
   "cell_type": "code",
   "execution_count": null,
   "metadata": {
    "collapsed": true
   },
   "outputs": [],
   "source": []
  }
 ],
 "metadata": {
  "kernelspec": {
   "display_name": "Python [Root]",
   "language": "python",
   "name": "Python [Root]"
  },
  "language_info": {
   "codemirror_mode": {
    "name": "ipython",
    "version": 2
   },
   "file_extension": ".py",
   "mimetype": "text/x-python",
   "name": "python",
   "nbconvert_exporter": "python",
   "pygments_lexer": "ipython2",
   "version": "2.7.11"
  }
 },
 "nbformat": 4,
 "nbformat_minor": 0
}
