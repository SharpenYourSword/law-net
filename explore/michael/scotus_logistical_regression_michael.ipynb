{
 "cells": [
  {
   "cell_type": "code",
   "execution_count": 1,
   "metadata": {
    "collapsed": false
   },
   "outputs": [],
   "source": [
    "import sys\n",
    "\n",
    "sys.path.append('../../code/')\n",
    "import os\n",
    "import json\n",
    "from datetime import datetime\n",
    "import time\n",
    "from math import *\n",
    "\n",
    "import numpy as np\n",
    "import pandas as pd\n",
    "import matplotlib.pyplot as plt\n",
    "import scipy.stats as stats\n",
    "\n",
    "import igraph as ig\n",
    "\n",
    "from collections import *\n",
    "\n",
    "from load_data import load_citation_network_igraph, case_info\n",
    "\n",
    "%load_ext autoreload\n",
    "%autoreload 2\n",
    "%matplotlib inline\n",
    "\n",
    "data_dir = '../../data/'\n",
    "court_name = 'scotus'\n",
    "\n",
    "# %load ../standard_import.txt\n",
    "from __future__ import division\n",
    "import matplotlib as mpl\n",
    "#import seaborn as sns\n",
    "\n",
    "import sklearn.linear_model as skl_lm\n",
    "from sklearn.discriminant_analysis import LinearDiscriminantAnalysis\n",
    "from sklearn.discriminant_analysis import QuadraticDiscriminantAnalysis\n",
    "from sklearn.metrics import confusion_matrix, classification_report, precision_score, log_loss\n",
    "from sklearn import preprocessing\n",
    "from sklearn import neighbors\n",
    "\n",
    "import statsmodels.api as sm\n",
    "import statsmodels.formula.api as smf\n",
    "\n",
    "pd.set_option('display.notebook_repr_html', False)\n",
    "\n",
    "%matplotlib inline\n",
    "plt.style.use('seaborn-white')"
   ]
  },
  {
   "cell_type": "code",
   "execution_count": 2,
   "metadata": {
    "collapsed": false
   },
   "outputs": [
    {
     "name": "stdout",
     "output_type": "stream",
     "text": [
      "0 seconds for 250465 edges\n",
      "loaded scotus network with 33248 cases and 250465 edges\n"
     ]
    }
   ],
   "source": [
    "G = load_citation_network_igraph(data_dir, court_name)\n",
    "print 'loaded %s network with %d cases and %d edges' % (court_name, len(G.vs), len(G.es))"
   ]
  },
  {
   "cell_type": "markdown",
   "metadata": {},
   "source": [
    "# Focus on 1925-1950"
   ]
  },
  {
   "cell_type": "code",
   "execution_count": 3,
   "metadata": {
    "collapsed": false
   },
   "outputs": [
    {
     "name": "stdout",
     "output_type": "stream",
     "text": [
      "IGRAPH DN-- 4245 20006 -- \n",
      "+ attr: court (v), name (v), year (v)\n",
      "None\n"
     ]
    }
   ],
   "source": [
    "#create a sub-network of cases to reduce runtime\n",
    "sub_vs = G.vs.select(year_lt=1951)\n",
    "sub_vs = sub_vs.select(year_gt=1924)\n",
    "sub_G = G.subgraph(sub_vs)\n",
    "print ig.summary(sub_G)"
   ]
  },
  {
   "cell_type": "markdown",
   "metadata": {},
   "source": [
    "# time decay indegree method"
   ]
  },
  {
   "cell_type": "code",
   "execution_count": 4,
   "metadata": {
    "collapsed": true
   },
   "outputs": [],
   "source": [
    "def time_decay_indegree(graph, vertex, threshold=10):\n",
    "    td_indeg = 0\n",
    "    vertex_year = vertex[\"year\"]\n",
    "    neighbors = graph.neighbors(vertex.index, mode='IN')\n",
    "    for neighbor in neighbors:\n",
    "        neighbor_year = graph.vs[neighbor][\"year\"]\n",
    "        if neighbor_year - vertex_year <= threshold:\n",
    "            td_indeg += 1\n",
    "    return td_indeg"
   ]
  },
  {
   "cell_type": "markdown",
   "metadata": {},
   "source": [
    "# Get each node's information (index, neighbors node cites, indeg, pagerank, etc.)"
   ]
  },
  {
   "cell_type": "code",
   "execution_count": 5,
   "metadata": {
    "collapsed": false
   },
   "outputs": [
    {
     "name": "stdout",
     "output_type": "stream",
     "text": [
      "this took 0.0329999923706 seconds\n"
     ]
    }
   ],
   "source": [
    "time1 = time.time()\n",
    "#get lists of statistics for all cases\n",
    "indegrees = sub_G.indegree()\n",
    "pageranks = sub_G.pagerank()\n",
    "\n",
    "#fill a list of cases with required info that will be sorted by year\n",
    "case_tuples = []\n",
    "for vertex in sub_G.vs:\n",
    "    index = vertex.index\n",
    "    neighbors = sub_G.neighbors(index, mode='OUT')\n",
    "    year = vertex[\"year\"]\n",
    "    indegree = indegrees[index]\n",
    "    decay_indegree = time_decay_indegree(sub_G, vertex, 10)\n",
    "    pagerank = pageranks[index]\n",
    "    case_tuple = (index, neighbors, year, indegree, pagerank, decay_indegree)\n",
    "    case_tuples.append(case_tuple)\n",
    "\n",
    "#sort the list of cases by year\n",
    "sorted_case_tuples = sorted(case_tuples, key=lambda x: x[2])\n",
    "\n",
    "time2 = time.time()\n",
    "print \"this took \" + str(time2-time1) + \" seconds\""
   ]
  },
  {
   "cell_type": "markdown",
   "metadata": {},
   "source": [
    "# Create giant tuple with all the information for data table, later used for logsitic regression"
   ]
  },
  {
   "cell_type": "code",
   "execution_count": 6,
   "metadata": {
    "collapsed": false
   },
   "outputs": [
    {
     "name": "stdout",
     "output_type": "stream",
     "text": [
      "number of vertices: 4245\n",
      "number of edges: 19862\n",
      "number of possible edges: 8648189\n",
      "this took 12.9449999332 seconds\n"
     ]
    }
   ],
   "source": [
    "time1 = time.time()\n",
    "#uses the list of case tuples to fill a list of (all possible) edge tuples with approriate information\n",
    "#currently does not include cases with the same year (so it is an approximation)\n",
    "edge_count = 0\n",
    "edge_tuples = []\n",
    "\n",
    "#go down the list of cases, then create possible edges by going back up the list\n",
    "#(since only cases with a lower year can be possibly cited)\n",
    "for i in range(0,len(sorted_case_tuples)):\n",
    "    citing_case = sorted_case_tuples[i]\n",
    "    citing_index = citing_case[0]\n",
    "    neighbors = citing_case[1]\n",
    "    citing_year = citing_case[2]\n",
    "    for j in range(i,0,-1):\n",
    "        cited_case = sorted_case_tuples[j]\n",
    "        cited_index = cited_case[0]\n",
    "        cited_year = cited_case[2]\n",
    "        \n",
    "        time_difference = citing_year - cited_year\n",
    "        cited_indegree = cited_case[3]\n",
    "        cited_pagerank = cited_case[4]\n",
    "        cited_decay_indegree = cited_case[5]\n",
    "        #if one of the out-edges of the citing case points to the (possible) cited case, then an edge is there (1)\n",
    "        if cited_index in neighbors:\n",
    "            edge = 1\n",
    "            edge_count += 1\n",
    "        else:\n",
    "            edge = 0\n",
    "        \n",
    "        edge_tuple = (citing_index, cited_index, time_difference, cited_indegree, cited_pagerank, cited_decay_indegree, edge)\n",
    "        if not time_difference == 0:\n",
    "            edge_tuples.append(edge_tuple)\n",
    "\n",
    "print \"number of vertices: \" + str(len(sorted_case_tuples))\n",
    "print \"number of edges: \" + str(edge_count)\n",
    "print \"number of possible edges: \" + str(len(edge_tuples))\n",
    "time2 = time.time()\n",
    "print \"this took \" + str(time2-time1) + \" seconds\""
   ]
  },
  {
   "cell_type": "markdown",
   "metadata": {},
   "source": [
    "# Create and Save Giant Data Table"
   ]
  },
  {
   "cell_type": "code",
   "execution_count": 7,
   "metadata": {
    "collapsed": false,
    "scrolled": true
   },
   "outputs": [
    {
     "name": "stdout",
     "output_type": "stream",
     "text": [
      "         citing index  cited index  time difference  cited indegree  \\\n",
      "0                 219         4215                1               1   \n",
      "1                 219         4214                1               0   \n",
      "2                 219         4213                1               2   \n",
      "3                 219         4197                1              19   \n",
      "4                 219         4180                1               6   \n",
      "5                 219         4179                1               1   \n",
      "6                 219         4178                1              34   \n",
      "7                 219          240                1               8   \n",
      "8                 219          218                1               0   \n",
      "9                 219          217                1               5   \n",
      "10                219          216                1               6   \n",
      "11                219          215                1               5   \n",
      "12                219          214                1               5   \n",
      "13                219          213                1               1   \n",
      "14                219          212                1               3   \n",
      "15                219          211                1               5   \n",
      "16                219          210                1               1   \n",
      "17                219          209                1               9   \n",
      "18                219          208                1               1   \n",
      "19                219          207                1               0   \n",
      "20                219          206                1               0   \n",
      "21                219          205                1               2   \n",
      "22                219          204                1               0   \n",
      "23                219          203                1               0   \n",
      "24                219          202                1               4   \n",
      "25                219          201                1               0   \n",
      "26                219          200                1               8   \n",
      "27                219          199                1               2   \n",
      "28                219          198                1               1   \n",
      "29                219          197                1               1   \n",
      "...               ...          ...              ...             ...   \n",
      "8648159          4242           30               25               4   \n",
      "8648160          4242           29               25               1   \n",
      "8648161          4242           28               25               1   \n",
      "8648162          4242           27               25               0   \n",
      "8648163          4242           26               25              15   \n",
      "8648164          4242           25               25              12   \n",
      "8648165          4242           24               25               3   \n",
      "8648166          4242           23               25               0   \n",
      "8648167          4242           22               25               0   \n",
      "8648168          4242           21               25               0   \n",
      "8648169          4242           20               25               0   \n",
      "8648170          4242           19               25               4   \n",
      "8648171          4242           18               25              17   \n",
      "8648172          4242           17               25               1   \n",
      "8648173          4242           16               25               6   \n",
      "8648174          4242           15               25               7   \n",
      "8648175          4242           14               25               4   \n",
      "8648176          4242           13               25               1   \n",
      "8648177          4242           12               25               8   \n",
      "8648178          4242           11               25               2   \n",
      "8648179          4242           10               25               6   \n",
      "8648180          4242            9               25               7   \n",
      "8648181          4242            8               25               0   \n",
      "8648182          4242            7               25               6   \n",
      "8648183          4242            6               25               6   \n",
      "8648184          4242            5               25               6   \n",
      "8648185          4242            4               25               3   \n",
      "8648186          4242            3               25               0   \n",
      "8648187          4242            2               25               7   \n",
      "8648188          4242            1               25               0   \n",
      "\n",
      "         cited pagerank  cited decay indegree  edge  \n",
      "0              0.000568                     1     0  \n",
      "1              0.000085                     0     0  \n",
      "2              0.000627                     2     0  \n",
      "3              0.004749                    10     0  \n",
      "4              0.000669                     4     0  \n",
      "5              0.000124                     1     0  \n",
      "6              0.018395                    21     0  \n",
      "7              0.000492                     3     0  \n",
      "8              0.000085                     0     0  \n",
      "9              0.001014                     4     0  \n",
      "10             0.001075                     3     0  \n",
      "11             0.000487                     5     0  \n",
      "12             0.000656                     4     0  \n",
      "13             0.000192                     1     0  \n",
      "14             0.000371                     3     0  \n",
      "15             0.000142                     1     0  \n",
      "16             0.000160                     0     0  \n",
      "17             0.001061                     7     0  \n",
      "18             0.000118                     0     0  \n",
      "19             0.000085                     0     0  \n",
      "20             0.000085                     0     0  \n",
      "21             0.000185                     2     0  \n",
      "22             0.000085                     0     0  \n",
      "23             0.000085                     0     0  \n",
      "24             0.000160                     0     0  \n",
      "25             0.000085                     0     0  \n",
      "26             0.002144                     4     0  \n",
      "27             0.000139                     1     0  \n",
      "28             0.000165                     1     0  \n",
      "29             0.000107                     0     0  \n",
      "...                 ...                   ...   ...  \n",
      "8648159        0.000221                     3     0  \n",
      "8648160        0.000158                     1     0  \n",
      "8648161        0.000618                     1     0  \n",
      "8648162        0.000085                     0     0  \n",
      "8648163        0.001448                    14     0  \n",
      "8648164        0.000421                     4     0  \n",
      "8648165        0.000245                     1     0  \n",
      "8648166        0.000085                     0     0  \n",
      "8648167        0.000085                     0     0  \n",
      "8648168        0.000085                     0     0  \n",
      "8648169        0.000085                     0     0  \n",
      "8648170        0.000986                     3     0  \n",
      "8648171        0.002669                    10     0  \n",
      "8648172        0.000222                     1     0  \n",
      "8648173        0.000890                     6     0  \n",
      "8648174        0.001082                     5     0  \n",
      "8648175        0.000572                     1     0  \n",
      "8648176        0.004122                     1     0  \n",
      "8648177        0.002140                     5     0  \n",
      "8648178        0.000201                     2     0  \n",
      "8648179        0.000235                     0     0  \n",
      "8648180        0.001226                     4     0  \n",
      "8648181        0.000085                     0     0  \n",
      "8648182        0.000412                     5     0  \n",
      "8648183        0.000693                     5     0  \n",
      "8648184        0.000866                     4     0  \n",
      "8648185        0.000467                     3     0  \n",
      "8648186        0.000085                     0     0  \n",
      "8648187        0.000459                     2     0  \n",
      "8648188        0.000085                     0     0  \n",
      "\n",
      "[8648189 rows x 7 columns]\n",
      "this took 43.4720001221 seconds\n"
     ]
    }
   ],
   "source": [
    "time1 = time.time()\n",
    "list_of_column_names = [\"citing index\",\"cited index\", \"time difference\", \"cited indegree\", \"cited pagerank\", \n",
    "                        \"cited decay indegree\", \"edge\"]\n",
    "df = pd.DataFrame(edge_tuples, columns=list_of_column_names)\n",
    "df.to_csv('1925-1950_scotus_logreg_table.csv')\n",
    "print df\n",
    "time2 = time.time()\n",
    "print \"this took \" + str(time2-time1) + \" seconds\""
   ]
  },
  {
   "cell_type": "markdown",
   "metadata": {},
   "source": [
    "# Logistic Regression for Training Set -> Training Set (No Future Prediction, Just Accuracy Measurement) "
   ]
  },
  {
   "cell_type": "code",
   "execution_count": 28,
   "metadata": {
    "collapsed": true
   },
   "outputs": [],
   "source": [
    "def logreg(x_train_list):\n",
    "    time1 = time.time()\n",
    "    #set up training data\n",
    "    y_train = df['edge']\n",
    "    x_train = df[x_train_list]\n",
    "\n",
    "    #calculate logistical regression\n",
    "    clf = skl_lm.LogisticRegression(solver='newton-cg')\n",
    "    clf.fit(x_train, y_train)\n",
    "\n",
    "    print 'classes: ',clf.classes_\n",
    "    print 'coefficients: ',clf.coef_\n",
    "    print 'intercept :', clf.intercept_\n",
    "    time2 = time.time()\n",
    "    print \"this took \" + str(time2-time1) + \" seconds\"\n",
    "\n",
    "    time1 = time.time()\n",
    "    # Matrix, where column = probability for no edge (0), probability for edge (1)--reference: clf.classes_\n",
    "    prob = clf.predict_proba(x_train)\n",
    "\n",
    "    # predicted probabilities for ALL case for edge present (1)\n",
    "    prob_up = prob[:,1:2]\n",
    "    # convert to list\n",
    "    prob_up2 = [i.tolist()[0] for i in prob_up]\n",
    "    \n",
    "    print prob_up2[0]\n",
    "    print prob_up2[1000]\n",
    "    print prob_up2[-1]\n",
    "    print prob_up2[500]\n",
    "\n",
    "    y_predicted = []\n",
    "    for i in prob_up2:\n",
    "        if i>0.5:\n",
    "            y_predicted.append(1)\n",
    "        else:\n",
    "            y_predicted.append(0)\n",
    "    time2 = time.time()\n",
    "    print \"this took \" + str(time2-time1) + \" seconds\"\n",
    "    \n",
    "    print y_predicted[0]\n",
    "    print y_predicted[1000]\n",
    "    print y_predicted[-1]\n",
    "    print y_predicted[500]\n",
    "\n",
    "    time1 = time.time()\n",
    "    #calculate 0-1 loss from predicted values\n",
    "    \n",
    "    right_prediction = [i for i,j in zip(y_train, y_predicted) if i==j]\n",
    "    number_right = len(right_prediction)\n",
    "    \n",
    "    #right_prediction = set(y_train).intersection(set(y_predicted))\n",
    "    #number_right = len(list(right_prediction))\n",
    "    \n",
    "    #number_right = len(set(y_train) & set(y_predicted))\n",
    "    \n",
    "    print \"predicted right:\", number_right\n",
    "    print \"total number of edges:\", len(y_predicted)\n",
    "    zero_one_loss = number_right/len(y_predicted)\n",
    "    print \"L1 (0-1 loss): \", 1-zero_one_loss\n",
    "    time2 = time.time()\n",
    "    print \"this took \" + str(time2-time1) + \" seconds\""
   ]
  },
  {
   "cell_type": "markdown",
   "metadata": {},
   "source": [
    "# indegree"
   ]
  },
  {
   "cell_type": "code",
   "execution_count": 29,
   "metadata": {
    "collapsed": false
   },
   "outputs": [
    {
     "name": "stdout",
     "output_type": "stream",
     "text": [
      "classes:  [0 1]\n",
      "coefficients:  [[ 0.08114617]]\n",
      "intercept : [-6.77684979]\n",
      "this took 61.6100001335 seconds\n",
      "0.00123468541422\n",
      "0.00157446331471\n",
      "0.00113856224892\n",
      "0.00185137648818\n",
      "this took 6.24799990654 seconds\n",
      "0\n",
      "0\n",
      "0\n",
      "0\n",
      "predicted right: 8629604\n",
      "total number of edges: 8648189\n",
      "L1 (0-1 loss):  0.00214900483789\n",
      "this took 4.01700019836 seconds\n"
     ]
    }
   ],
   "source": [
    "logreg(['cited indegree'])"
   ]
  },
  {
   "cell_type": "markdown",
   "metadata": {},
   "source": [
    "# time difference, indegree"
   ]
  },
  {
   "cell_type": "code",
   "execution_count": 15,
   "metadata": {
    "collapsed": false
   },
   "outputs": [
    {
     "name": "stdout",
     "output_type": "stream",
     "text": [
      "classes:  [0 1]\n",
      "coefficients:  [[-0.08410068  0.08061678]]\n",
      "intercept : [-6.1307243]\n",
      "this took 84.0429999828 seconds\n",
      "0.00216275309746\n",
      "0.00275286112175\n",
      "0.00026560326156\n",
      "0.00323294284994\n",
      "this took 5.95799994469 seconds\n",
      "0\n",
      "0\n",
      "0\n",
      "0\n",
      "predicted right: 8629604\n",
      "total number of edges: 8648189\n",
      "L1 (0-1 loss):  0.00214900483789\n",
      "this took 4.07799983025 seconds\n"
     ]
    }
   ],
   "source": [
    "logreg(['time difference', 'cited indegree'])"
   ]
  },
  {
   "cell_type": "markdown",
   "metadata": {},
   "source": [
    "# time difference, indegree, page rank"
   ]
  },
  {
   "cell_type": "code",
   "execution_count": 30,
   "metadata": {
    "collapsed": false
   },
   "outputs": [
    {
     "name": "stdout",
     "output_type": "stream",
     "text": [
      "classes:  [0 1]\n",
      "coefficients:  [[-0.08408354  0.0806531  -1.08291797]]\n",
      "intercept : [-6.13070418]\n",
      "this took 90.9830000401 seconds\n",
      "0.00216158387036\n",
      "0.00275161087229\n",
      "0.000265697847989\n",
      "0.00323145855961\n",
      "this took 6.13800001144 seconds\n",
      "0\n",
      "0\n",
      "0\n",
      "0\n",
      "predicted right: 8629604\n",
      "total number of edges: 8648189\n",
      "L1 (0-1 loss):  0.00214900483789\n",
      "this took 4.16899991035 seconds\n"
     ]
    }
   ],
   "source": [
    "logreg(['time difference', 'cited indegree', 'cited pagerank'])"
   ]
  },
  {
   "cell_type": "markdown",
   "metadata": {},
   "source": [
    "# indegree, page rank"
   ]
  },
  {
   "cell_type": "code",
   "execution_count": 27,
   "metadata": {
    "collapsed": false
   },
   "outputs": [
    {
     "name": "stdout",
     "output_type": "stream",
     "text": [
      "classes:  [0 1]\n",
      "coefficients:  [[ 0.08121607 -1.90701937]]\n",
      "intercept : [-6.77660668]\n",
      "this took 79.9149999619 seconds\n",
      "this took 5.66700005531 seconds\n",
      "L1 (0-1 loss):  0.00214900483789\n",
      "this took 3.44899988174 seconds\n"
     ]
    }
   ],
   "source": [
    "logreg(['cited indegree', 'cited pagerank'])"
   ]
  },
  {
   "cell_type": "markdown",
   "metadata": {},
   "source": [
    "# time difference, time decay indegree, page rank"
   ]
  },
  {
   "cell_type": "code",
   "execution_count": 14,
   "metadata": {
    "collapsed": false
   },
   "outputs": [
    {
     "name": "stdout",
     "output_type": "stream",
     "text": [
      "classes:  [0 1]\n",
      "coefficients:  [[-0.07570508  0.09178308  0.21549962]]\n",
      "intercept : [-6.107215]\n",
      "this took 142.355999947 seconds\n",
      "this took 7.01900005341 seconds\n",
      "L1 (0-1 loss):  0.00214900483789\n",
      "this took 4.43799996376 seconds\n"
     ]
    }
   ],
   "source": [
    "logreg(['time difference', 'cited decay indegree', 'cited pagerank'])"
   ]
  },
  {
   "cell_type": "markdown",
   "metadata": {},
   "source": [
    "# time decay indegree, page rank"
   ]
  },
  {
   "cell_type": "code",
   "execution_count": 23,
   "metadata": {
    "collapsed": false
   },
   "outputs": [
    {
     "name": "stdout",
     "output_type": "stream",
     "text": [
      "classes:  [0 1]\n",
      "coefficients:  [[ 0.0948969  -0.52392089]]\n",
      "intercept : [-6.70127577]\n",
      "this took 70.4949998856 seconds\n",
      "this took 6.68099999428 seconds\n",
      "L1 (0-1 loss):  0.00214900483789\n",
      "this took 3.70000004768 seconds\n"
     ]
    }
   ],
   "source": [
    "logreg(['cited decay indegree', 'cited pagerank'])"
   ]
  },
  {
   "cell_type": "markdown",
   "metadata": {},
   "source": [
    "# page rank"
   ]
  },
  {
   "cell_type": "code",
   "execution_count": 24,
   "metadata": {
    "collapsed": false,
    "scrolled": true
   },
   "outputs": [
    {
     "name": "stdout",
     "output_type": "stream",
     "text": [
      "classes:  [0 1]\n",
      "coefficients:  [[ 3.06984896]]\n",
      "intercept : [-6.14153267]\n",
      "this took 27.1399998665 seconds\n",
      "this took 5.98100018501 seconds\n",
      "L1 (0-1 loss):  0.00214900483789\n",
      "this took 3.56799983978 seconds\n"
     ]
    }
   ],
   "source": [
    "logreg(['cited pagerank'])"
   ]
  },
  {
   "cell_type": "markdown",
   "metadata": {},
   "source": [
    "# time decay indegree"
   ]
  },
  {
   "cell_type": "code",
   "execution_count": 26,
   "metadata": {
    "collapsed": false
   },
   "outputs": [
    {
     "name": "stdout",
     "output_type": "stream",
     "text": [
      "classes:  [0 1]\n",
      "coefficients:  [[ 0.09488172]]\n",
      "intercept : [-6.70139034]\n",
      "this took 58.0340001583 seconds\n",
      "this took 5.17499995232 seconds\n",
      "L1 (0-1 loss):  0.00214900483789\n",
      "this took 3.96300005913 seconds\n"
     ]
    }
   ],
   "source": [
    "logreg(['cited decay indegree'])"
   ]
  }
 ],
 "metadata": {
  "anaconda-cloud": {},
  "kernelspec": {
   "display_name": "Python [Root]",
   "language": "python",
   "name": "Python [Root]"
  },
  "language_info": {
   "codemirror_mode": {
    "name": "ipython",
    "version": 2
   },
   "file_extension": ".py",
   "mimetype": "text/x-python",
   "name": "python",
   "nbconvert_exporter": "python",
   "pygments_lexer": "ipython2",
   "version": "2.7.11"
  }
 },
 "nbformat": 4,
 "nbformat_minor": 0
}
