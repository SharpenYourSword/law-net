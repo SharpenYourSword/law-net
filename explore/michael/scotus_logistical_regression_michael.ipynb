{
 "cells": [
  {
   "cell_type": "code",
   "execution_count": 26,
   "metadata": {
    "collapsed": false
   },
   "outputs": [
    {
     "name": "stdout",
     "output_type": "stream",
     "text": [
      "The autoreload extension is already loaded. To reload it, use:\n",
      "  %reload_ext autoreload\n"
     ]
    }
   ],
   "source": [
    "import sys\n",
    "\n",
    "sys.path.append('../../code/')\n",
    "import os\n",
    "import json\n",
    "from datetime import datetime\n",
    "import time\n",
    "from math import *\n",
    "\n",
    "import numpy as np\n",
    "import pandas as pd\n",
    "import matplotlib.pyplot as plt\n",
    "import scipy.stats as stats\n",
    "\n",
    "import igraph as ig\n",
    "\n",
    "from collections import *\n",
    "\n",
    "from load_data import load_citation_network_igraph, case_info\n",
    "\n",
    "%load_ext autoreload\n",
    "%autoreload 2\n",
    "%matplotlib inline\n",
    "\n",
    "data_dir = '../../data/'\n",
    "court_name = 'scotus'\n",
    "\n",
    "# %load ../standard_import.txt\n",
    "from __future__ import division\n",
    "import matplotlib as mpl\n",
    "#import seaborn as sns\n",
    "\n",
    "import sklearn.linear_model as skl_lm\n",
    "from sklearn.discriminant_analysis import LinearDiscriminantAnalysis\n",
    "from sklearn.discriminant_analysis import QuadraticDiscriminantAnalysis\n",
    "from sklearn.metrics import confusion_matrix, classification_report, precision_score, log_loss\n",
    "from sklearn import preprocessing\n",
    "from sklearn import neighbors\n",
    "\n",
    "import statsmodels.api as sm\n",
    "import statsmodels.formula.api as smf\n",
    "\n",
    "pd.set_option('display.notebook_repr_html', False)\n",
    "\n",
    "%matplotlib inline\n",
    "plt.style.use('seaborn-white')"
   ]
  },
  {
   "cell_type": "code",
   "execution_count": 27,
   "metadata": {
    "collapsed": false
   },
   "outputs": [
    {
     "name": "stdout",
     "output_type": "stream",
     "text": [
      "0 seconds for 250465 edges\n",
      "loaded scotus network with 33248 cases and 250465 edges\n"
     ]
    }
   ],
   "source": [
    "G = load_citation_network_igraph(data_dir, court_name)\n",
    "print 'loaded %s network with %d cases and %d edges' % (court_name, len(G.vs), len(G.es))"
   ]
  },
  {
   "cell_type": "markdown",
   "metadata": {},
   "source": [
    "# Focus on 1940-1950"
   ]
  },
  {
   "cell_type": "code",
   "execution_count": 28,
   "metadata": {
    "collapsed": false
   },
   "outputs": [
    {
     "name": "stdout",
     "output_type": "stream",
     "text": [
      "IGRAPH DN-- 1593 5635 -- \n",
      "+ attr: court (v), name (v), year (v)\n",
      "None\n"
     ]
    }
   ],
   "source": [
    "#create a sub-network of cases to reduce runtime\n",
    "sub_vs = G.vs.select(year_lt=1951)\n",
    "sub_vs = sub_vs.select(year_gt=1939)\n",
    "sub_G = G.subgraph(sub_vs)\n",
    "print ig.summary(sub_G)"
   ]
  },
  {
   "cell_type": "markdown",
   "metadata": {},
   "source": [
    "# time decay indegree method"
   ]
  },
  {
   "cell_type": "code",
   "execution_count": 29,
   "metadata": {
    "collapsed": true
   },
   "outputs": [],
   "source": [
    "def time_decay_indegree(graph, vertex, threshold=10):\n",
    "    td_indeg = 0\n",
    "    vertex_year = vertex[\"year\"]\n",
    "    neighbors = graph.neighbors(vertex.index, mode='IN')\n",
    "    for neighbor in neighbors:\n",
    "        neighbor_year = graph.vs[neighbor][\"year\"]\n",
    "        if neighbor_year - vertex_year <= threshold:\n",
    "            td_indeg += 1\n",
    "    return td_indeg"
   ]
  },
  {
   "cell_type": "markdown",
   "metadata": {},
   "source": [
    "# Get each node's information (index, neighbors node cites, indeg, pagerank, etc.)"
   ]
  },
  {
   "cell_type": "code",
   "execution_count": 30,
   "metadata": {
    "collapsed": false
   },
   "outputs": [
    {
     "name": "stdout",
     "output_type": "stream",
     "text": [
      "this took 0.0119998455048 seconds\n"
     ]
    }
   ],
   "source": [
    "time1 = time.time()\n",
    "#get lists of statistics for all cases\n",
    "indegrees = sub_G.indegree()\n",
    "pageranks = sub_G.pagerank()\n",
    "\n",
    "#fill a list of cases with required info that will be sorted by year\n",
    "case_tuples = []\n",
    "for vertex in sub_G.vs:\n",
    "    index = vertex.index\n",
    "    neighbors = sub_G.neighbors(index, mode='OUT')\n",
    "    year = vertex[\"year\"]\n",
    "    indegree = indegrees[index]\n",
    "    decay_indegree = time_decay_indegree(sub_G, vertex, 5) # make sure this threshold is <range of years we're evaluating scotus on\n",
    "    pagerank = pageranks[index]\n",
    "    case_tuple = (index, neighbors, year, indegree, pagerank, decay_indegree)\n",
    "    case_tuples.append(case_tuple)\n",
    "\n",
    "#sort the list of cases by year\n",
    "sorted_case_tuples = sorted(case_tuples, key=lambda x: x[2])\n",
    "\n",
    "time2 = time.time()\n",
    "print \"this took \" + str(time2-time1) + \" seconds\""
   ]
  },
  {
   "cell_type": "markdown",
   "metadata": {},
   "source": [
    "# Create giant tuple with all the information for data table, later used for logsitic regression"
   ]
  },
  {
   "cell_type": "code",
   "execution_count": 31,
   "metadata": {
    "collapsed": false
   },
   "outputs": [
    {
     "name": "stdout",
     "output_type": "stream",
     "text": [
      "number of vertices: 1593\n",
      "number of edges: 5564\n",
      "number of possible edges: 1149579\n",
      "this took 1.52799987793 seconds\n"
     ]
    }
   ],
   "source": [
    "time1 = time.time()\n",
    "#uses the list of case tuples to fill a list of (all possible) edge tuples with approriate information\n",
    "#currently does not include cases with the same year (so it is an approximation)\n",
    "edge_count = 0\n",
    "edge_tuples = []\n",
    "\n",
    "#go down the list of cases, then create possible edges by going back up the list\n",
    "#(since only cases with a lower year can be possibly cited)\n",
    "for i in range(0,len(sorted_case_tuples)):\n",
    "    citing_case = sorted_case_tuples[i]\n",
    "    citing_index = citing_case[0]\n",
    "    neighbors = citing_case[1]\n",
    "    citing_year = citing_case[2]\n",
    "    for j in range(i,0,-1):\n",
    "        cited_case = sorted_case_tuples[j]\n",
    "        cited_index = cited_case[0]\n",
    "        cited_year = cited_case[2]\n",
    "        \n",
    "        time_difference = citing_year - cited_year\n",
    "        cited_indegree = cited_case[3]\n",
    "        cited_pagerank = cited_case[4]\n",
    "        cited_decay_indegree = cited_case[5]\n",
    "        #if one of the out-edges of the citing case points to the (possible) cited case, then an edge is there (1)\n",
    "        if cited_index in neighbors:\n",
    "            edge = 1\n",
    "            edge_count += 1\n",
    "        else:\n",
    "            edge = 0\n",
    "        \n",
    "        edge_tuple = (citing_index, cited_index, time_difference, cited_indegree, cited_pagerank, cited_decay_indegree, edge)\n",
    "        if not time_difference == 0:\n",
    "            edge_tuples.append(edge_tuple)\n",
    "\n",
    "print \"number of vertices: \" + str(len(sorted_case_tuples))\n",
    "print \"number of edges: \" + str(edge_count)\n",
    "print \"number of possible edges: \" + str(len(edge_tuples))\n",
    "time2 = time.time()\n",
    "print \"this took \" + str(time2-time1) + \" seconds\""
   ]
  },
  {
   "cell_type": "markdown",
   "metadata": {},
   "source": [
    "# Create and Save Giant Data Table"
   ]
  },
  {
   "cell_type": "code",
   "execution_count": 32,
   "metadata": {
    "collapsed": false,
    "scrolled": true
   },
   "outputs": [
    {
     "name": "stdout",
     "output_type": "stream",
     "text": [
      "         citing index  cited index  time difference  cited indegree  \\\n",
      "0                 126         1583                1               4   \n",
      "1                 126         1582                1               2   \n",
      "2                 126         1581                1               5   \n",
      "3                 126         1571                1               1   \n",
      "4                 126         1570                1              12   \n",
      "5                 126          168                1               0   \n",
      "6                 126          152                1               9   \n",
      "7                 126          148                1               2   \n",
      "8                 126          147                1               5   \n",
      "9                 126          146                1               1   \n",
      "10                126          145                1               1   \n",
      "11                126          143                1               0   \n",
      "12                126          142                1               1   \n",
      "13                126          141                1               3   \n",
      "14                126          140                1               5   \n",
      "15                126          139                1               3   \n",
      "16                126          138                1              12   \n",
      "17                126          137                1               2   \n",
      "18                126          136                1               3   \n",
      "19                126          135                1               2   \n",
      "20                126          134                1               2   \n",
      "21                126          133                1               2   \n",
      "22                126          130                1               1   \n",
      "23                126          129                1               5   \n",
      "24                126          128                1               4   \n",
      "25                126          125                1              13   \n",
      "26                126          124                1               2   \n",
      "27                126          123                1               0   \n",
      "28                126          122                1               8   \n",
      "29                126          121                1               3   \n",
      "...               ...          ...              ...             ...   \n",
      "1149549          1592           30               10               0   \n",
      "1149550          1592           29               10              16   \n",
      "1149551          1592           28               10              20   \n",
      "1149552          1592           27               10               5   \n",
      "1149553          1592           26               10               4   \n",
      "1149554          1592           25               10              10   \n",
      "1149555          1592           24               10               4   \n",
      "1149556          1592           23               10              21   \n",
      "1149557          1592           22               10               0   \n",
      "1149558          1592           21               10               2   \n",
      "1149559          1592           20               10               3   \n",
      "1149560          1592           19               10               0   \n",
      "1149561          1592           18               10               4   \n",
      "1149562          1592           17               10               1   \n",
      "1149563          1592           16               10               0   \n",
      "1149564          1592           15               10              10   \n",
      "1149565          1592           14               10              14   \n",
      "1149566          1592           13               10               3   \n",
      "1149567          1592           12               10              14   \n",
      "1149568          1592           11               10               5   \n",
      "1149569          1592           10               10               1   \n",
      "1149570          1592            9               10               8   \n",
      "1149571          1592            8               10               7   \n",
      "1149572          1592            7               10               2   \n",
      "1149573          1592            6               10              10   \n",
      "1149574          1592            5               10               6   \n",
      "1149575          1592            4               10               1   \n",
      "1149576          1592            3               10              10   \n",
      "1149577          1592            2               10               1   \n",
      "1149578          1592            1               10               5   \n",
      "\n",
      "         cited pagerank  cited decay indegree  edge  \n",
      "0              0.000809                     4     0  \n",
      "1              0.000376                     1     0  \n",
      "2              0.008165                     4     0  \n",
      "3              0.001710                     1     0  \n",
      "4              0.003866                    10     0  \n",
      "5              0.000256                     0     0  \n",
      "6              0.000709                     2     0  \n",
      "7              0.000521                     0     0  \n",
      "8              0.000851                     5     0  \n",
      "9              0.001038                     1     0  \n",
      "10             0.000366                     1     0  \n",
      "11             0.000256                     0     0  \n",
      "12             0.000647                     1     0  \n",
      "13             0.000664                     2     0  \n",
      "14             0.002589                     3     0  \n",
      "15             0.000662                     2     0  \n",
      "16             0.001707                     7     0  \n",
      "17             0.000590                     2     0  \n",
      "18             0.000538                     1     0  \n",
      "19             0.000575                     1     0  \n",
      "20             0.000291                     1     0  \n",
      "21             0.000367                     0     0  \n",
      "22             0.000446                     1     0  \n",
      "23             0.000788                     3     0  \n",
      "24             0.000797                     3     0  \n",
      "25             0.001336                     8     0  \n",
      "26             0.000435                     2     0  \n",
      "27             0.000256                     0     0  \n",
      "28             0.001418                     7     0  \n",
      "29             0.000425                     2     0  \n",
      "...                 ...                   ...   ...  \n",
      "1149549        0.000256                     0     0  \n",
      "1149550        0.002469                     9     0  \n",
      "1149551        0.002677                    10     0  \n",
      "1149552        0.000536                     2     0  \n",
      "1149553        0.000400                     3     0  \n",
      "1149554        0.001923                     7     0  \n",
      "1149555        0.000541                     3     0  \n",
      "1149556        0.003426                    14     0  \n",
      "1149557        0.000256                     0     0  \n",
      "1149558        0.001054                     2     0  \n",
      "1149559        0.000575                     1     0  \n",
      "1149560        0.000256                     0     0  \n",
      "1149561        0.001391                     3     0  \n",
      "1149562        0.000376                     1     0  \n",
      "1149563        0.000256                     0     0  \n",
      "1149564        0.005725                     9     0  \n",
      "1149565        0.002371                     7     0  \n",
      "1149566        0.000717                     3     0  \n",
      "1149567        0.005322                    13     0  \n",
      "1149568        0.001400                     5     0  \n",
      "1149569        0.003543                     1     0  \n",
      "1149570        0.002225                     5     0  \n",
      "1149571        0.001658                     4     0  \n",
      "1149572        0.000362                     2     0  \n",
      "1149573        0.001843                     8     0  \n",
      "1149574        0.001830                     5     0  \n",
      "1149575        0.001710                     1     0  \n",
      "1149576        0.003013                     6     0  \n",
      "1149577        0.001180                     1     0  \n",
      "1149578        0.003546                     2     0  \n",
      "\n",
      "[1149579 rows x 7 columns]\n",
      "this took 5.57800006866 seconds\n"
     ]
    }
   ],
   "source": [
    "time1 = time.time()\n",
    "list_of_column_names = [\"citing index\",\"cited index\", \"time difference\", \"cited indegree\", \"cited pagerank\", \n",
    "                        \"cited decay indegree\", \"edge\"]\n",
    "df = pd.DataFrame(edge_tuples, columns=list_of_column_names)\n",
    "df.to_csv('1940-1950_scotus_logreg_table.csv')\n",
    "print df\n",
    "time2 = time.time()\n",
    "print \"this took \" + str(time2-time1) + \" seconds\""
   ]
  },
  {
   "cell_type": "markdown",
   "metadata": {},
   "source": [
    "# Logistic Regression for Training Set -> Training Set (No Future Prediction, Just Accuracy Measurement) "
   ]
  },
  {
   "cell_type": "code",
   "execution_count": 33,
   "metadata": {
    "collapsed": true
   },
   "outputs": [],
   "source": [
    "def logreg(x_train_list):\n",
    "    time1 = time.time()\n",
    "    #set up training data\n",
    "    y_train = df['edge']\n",
    "    x_train = df[x_train_list]\n",
    "\n",
    "    #calculate logistical regression\n",
    "    clf = skl_lm.LogisticRegression(solver='newton-cg')\n",
    "    clf.fit(x_train, y_train)\n",
    "\n",
    "    print 'classes: ',clf.classes_\n",
    "    print 'coefficients: ',clf.coef_\n",
    "    print 'intercept :', clf.intercept_\n",
    "    time2 = time.time()\n",
    "    print \"this took \" + str(time2-time1) + \" seconds\"\n",
    "\n",
    "    time1 = time.time()\n",
    "    # Matrix, where column = probability for no edge (0), probability for edge (1)--reference: clf.classes_\n",
    "    prob = clf.predict_proba(x_train)\n",
    "\n",
    "    # predicted probabilities for ALL case for edge present (1)\n",
    "    prob_up = prob[:,1:2]\n",
    "    # convert to list\n",
    "    prob_up2 = [i.tolist()[0] for i in prob_up]\n",
    "    \n",
    "    print prob_up2[0]\n",
    "    print prob_up2[1000]\n",
    "    print prob_up2[-1]\n",
    "    print prob_up2[500]\n",
    "\n",
    "    y_predicted = []\n",
    "    for i in prob_up2:\n",
    "        if i>0.5:\n",
    "            y_predicted.append(1)\n",
    "        else:\n",
    "            y_predicted.append(0)\n",
    "    time2 = time.time()\n",
    "    print \"this took \" + str(time2-time1) + \" seconds\"\n",
    "    \n",
    "    print y_predicted[0]\n",
    "    print y_predicted[1000]\n",
    "    print y_predicted[-1]\n",
    "    print y_predicted[500]\n",
    "\n",
    "    time1 = time.time()\n",
    "    #calculate 0-1 loss from predicted values\n",
    "    \n",
    "    #right_prediction = [i for i,j in zip(y_train, y_predicted) if i==j]\n",
    "    #number_right = len(right_prediction)\n",
    "    \n",
    "    #right_prediction = set(y_train).intersection(set(y_predicted))\n",
    "    #number_right = len(list(right_prediction))\n",
    "    \n",
    "    #number_right = len(set(y_train) & set(y_predicted))\n",
    "    \n",
    "    right_prediction = y_train - y_predicted\n",
    "    x = np.array(right_prediction)\n",
    "    y = np.absolute(x)\n",
    "    number_wrong = sum(y)\n",
    "    \n",
    "    print \"predicted wrong:\", number_wrong\n",
    "    print \"total number of edges:\", len(y_predicted)\n",
    "    zero_one_loss = number_wrong/len(y_predicted)\n",
    "    print \"L1 (0-1 loss): \", zero_one_loss\n",
    "    time2 = time.time()\n",
    "    print \"this took \" + str(time2-time1) + \" seconds\""
   ]
  },
  {
   "cell_type": "markdown",
   "metadata": {},
   "source": [
    "# indegree"
   ]
  },
  {
   "cell_type": "code",
   "execution_count": 34,
   "metadata": {
    "collapsed": false
   },
   "outputs": [
    {
     "name": "stdout",
     "output_type": "stream",
     "text": [
      "classes:  [0 1]\n",
      "coefficients:  [[ 0.08204973]]\n",
      "intercept : [-5.99903272]\n",
      "this took 6.867000103 seconds\n",
      "0.00343316438562\n",
      "0.00715767776996\n",
      "0.00372563981016\n",
      "0.00268607922802\n",
      "this took 0.867000102997 seconds\n",
      "0\n",
      "0\n",
      "0\n",
      "0\n",
      "predicted wrong: 4893\n",
      "total number of edges: 1149579\n",
      "L1 (0-1 loss):  0.00425634079954\n",
      "this took 0.202999830246 seconds\n"
     ]
    }
   ],
   "source": [
    "logreg(['cited indegree'])"
   ]
  },
  {
   "cell_type": "markdown",
   "metadata": {},
   "source": [
    "# time difference, indegree"
   ]
  },
  {
   "cell_type": "code",
   "execution_count": 36,
   "metadata": {
    "collapsed": false
   },
   "outputs": [
    {
     "name": "stdout",
     "output_type": "stream",
     "text": [
      "classes:  [0 1]\n",
      "coefficients:  [[-0.10724407  0.08517454]]\n",
      "intercept : [-5.62755891]\n",
      "this took 8.37400007248 seconds\n",
      "0.00452273747329\n",
      "0.00968414414529\n",
      "0.00188089107708\n",
      "0.00350648526729\n",
      "this took 0.705999851227 seconds\n",
      "0\n",
      "0\n",
      "0\n",
      "0\n",
      "predicted wrong: 4893\n",
      "total number of edges: 1149579\n",
      "L1 (0-1 loss):  0.00425634079954\n",
      "this took 0.180999994278 seconds\n"
     ]
    }
   ],
   "source": [
    "logreg(['time difference', 'cited indegree'])"
   ]
  },
  {
   "cell_type": "markdown",
   "metadata": {},
   "source": [
    "# time difference, indegree, page rank"
   ]
  },
  {
   "cell_type": "code",
   "execution_count": 37,
   "metadata": {
    "collapsed": false
   },
   "outputs": [
    {
     "name": "stdout",
     "output_type": "stream",
     "text": [
      "classes:  [0 1]\n",
      "coefficients:  [[-0.1072013   0.08532187 -0.9637516 ]]\n",
      "intercept : [-5.62763195]\n",
      "this took 10.9910001755 seconds\n",
      "0.00452174522569\n",
      "0.00967690923894\n",
      "0.00187652840926\n",
      "0.00350392430246\n",
      "this took 0.876999855042 seconds\n",
      "0\n",
      "0\n",
      "0\n",
      "0\n",
      "predicted wrong: 4893\n",
      "total number of edges: 1149579\n",
      "L1 (0-1 loss):  0.00425634079954\n",
      "this took 0.18799996376 seconds\n"
     ]
    }
   ],
   "source": [
    "logreg(['time difference', 'cited indegree', 'cited pagerank'])"
   ]
  },
  {
   "cell_type": "markdown",
   "metadata": {},
   "source": [
    "# indegree, page rank"
   ]
  },
  {
   "cell_type": "code",
   "execution_count": 38,
   "metadata": {
    "collapsed": false
   },
   "outputs": [
    {
     "name": "stdout",
     "output_type": "stream",
     "text": [
      "classes:  [0 1]\n",
      "coefficients:  [[ 0.08222015 -1.09717052]]\n",
      "intercept : [-5.99894378]\n",
      "this took 8.08700013161 seconds\n",
      "0.0034327649367\n",
      "0.00715269966914\n",
      "0.00371470619598\n",
      "0.00268418165752\n",
      "this took 0.830999851227 seconds\n",
      "0\n",
      "0\n",
      "0\n",
      "0\n",
      "predicted wrong: 4893\n",
      "total number of edges: 1149579\n",
      "L1 (0-1 loss):  0.00425634079954\n",
      "this took 0.169000148773 seconds\n"
     ]
    }
   ],
   "source": [
    "logreg(['cited indegree', 'cited pagerank'])"
   ]
  },
  {
   "cell_type": "markdown",
   "metadata": {},
   "source": [
    "# time difference, time decay indegree, page rank"
   ]
  },
  {
   "cell_type": "code",
   "execution_count": 39,
   "metadata": {
    "collapsed": false
   },
   "outputs": [
    {
     "name": "stdout",
     "output_type": "stream",
     "text": [
      "classes:  [0 1]\n",
      "coefficients:  [[-0.0928293   0.12355491 -0.51027   ]]\n",
      "intercept : [-5.74305634]\n",
      "this took 9.62800002098 seconds\n",
      "0.00476311607452\n",
      "0.0112265998783\n",
      "0.00161621761415\n",
      "0.00329259611397\n",
      "this took 0.727999925613 seconds\n",
      "0\n",
      "0\n",
      "0\n",
      "0\n",
      "predicted wrong: 4893\n",
      "total number of edges: 1149579\n",
      "L1 (0-1 loss):  0.00425634079954\n",
      "this took 0.171000003815 seconds\n"
     ]
    }
   ],
   "source": [
    "logreg(['time difference', 'cited decay indegree', 'cited pagerank'])"
   ]
  },
  {
   "cell_type": "markdown",
   "metadata": {},
   "source": [
    "# time decay indegree, page rank"
   ]
  },
  {
   "cell_type": "code",
   "execution_count": 40,
   "metadata": {
    "collapsed": false
   },
   "outputs": [
    {
     "name": "stdout",
     "output_type": "stream",
     "text": [
      "classes:  [0 1]\n",
      "coefficients:  [[ 0.1212854  -0.72496938]]\n",
      "intercept : [-6.07022932]\n",
      "this took 7.53399991989 seconds\n",
      "0.00373720130545\n",
      "0.00867948607378\n",
      "0.0029287995357\n",
      "0.00260014765824\n",
      "this took 0.8140001297 seconds\n",
      "0\n",
      "0\n",
      "0\n",
      "0\n",
      "predicted wrong: 4893\n",
      "total number of edges: 1149579\n",
      "L1 (0-1 loss):  0.00425634079954\n",
      "this took 0.176999807358 seconds\n"
     ]
    }
   ],
   "source": [
    "logreg(['cited decay indegree', 'cited pagerank'])"
   ]
  },
  {
   "cell_type": "markdown",
   "metadata": {},
   "source": [
    "# page rank"
   ]
  },
  {
   "cell_type": "code",
   "execution_count": 41,
   "metadata": {
    "collapsed": false,
    "scrolled": true
   },
   "outputs": [
    {
     "name": "stdout",
     "output_type": "stream",
     "text": [
      "classes:  [0 1]\n",
      "coefficients:  [[ 2.91239562]]\n",
      "intercept : [-5.45748565]\n",
      "this took 3.69199991226 seconds\n",
      "0.00425612829057\n",
      "0.00428001881023\n",
      "0.00429005211398\n",
      "0.00425703493814\n",
      "this took 0.819000005722 seconds\n",
      "0\n",
      "0\n",
      "0\n",
      "0\n",
      "predicted wrong: 4893\n",
      "total number of edges: 1149579\n",
      "L1 (0-1 loss):  0.00425634079954\n",
      "this took 0.165999889374 seconds\n"
     ]
    }
   ],
   "source": [
    "logreg(['cited pagerank'])"
   ]
  },
  {
   "cell_type": "markdown",
   "metadata": {},
   "source": [
    "# time decay indegree"
   ]
  },
  {
   "cell_type": "code",
   "execution_count": 42,
   "metadata": {
    "collapsed": false
   },
   "outputs": [
    {
     "name": "stdout",
     "output_type": "stream",
     "text": [
      "classes:  [0 1]\n",
      "coefficients:  [[ 0.12114879]]\n",
      "intercept : [-6.07032492]\n",
      "this took 6.04399991035 seconds\n",
      "0.00373699385152\n",
      "0.008682819182\n",
      "0.00293523750991\n",
      "0.00260120434589\n",
      "this took 0.738000154495 seconds\n",
      "0\n",
      "0\n",
      "0\n",
      "0\n",
      "predicted wrong: 4893\n",
      "total number of edges: 1149579\n",
      "L1 (0-1 loss):  0.00425634079954\n",
      "this took 0.251999855042 seconds\n"
     ]
    },
    {
     "data": {
      "text/plain": [
       "'\\ncoefficients:  [[ 0.08204973]]\\nintercept : [-5.99903272]\\n0.00343316438562\\n0.00715767776996\\n0.00372563981016\\n0.00268607922802\\n'"
      ]
     },
     "execution_count": 42,
     "metadata": {},
     "output_type": "execute_result"
    }
   ],
   "source": [
    "logreg(['cited decay indegree'])\n",
    "'''\n",
    "coefficients:  [[ 0.08204973]]\n",
    "intercept : [-5.99903272]\n",
    "0.00343316438562\n",
    "0.00715767776996\n",
    "0.00372563981016\n",
    "0.00268607922802\n",
    "'''"
   ]
  }
 ],
 "metadata": {
  "anaconda-cloud": {},
  "kernelspec": {
   "display_name": "Python [Root]",
   "language": "python",
   "name": "Python [Root]"
  },
  "language_info": {
   "codemirror_mode": {
    "name": "ipython",
    "version": 2
   },
   "file_extension": ".py",
   "mimetype": "text/x-python",
   "name": "python",
   "nbconvert_exporter": "python",
   "pygments_lexer": "ipython2",
   "version": "2.7.11"
  }
 },
 "nbformat": 4,
 "nbformat_minor": 0
}
