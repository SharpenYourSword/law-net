{
 "cells": [
  {
   "cell_type": "code",
   "execution_count": 1,
   "metadata": {
    "collapsed": false
   },
   "outputs": [],
   "source": [
    "\n",
    "import sys\n",
    "\n",
    "sys.path.append('../../code/')\n",
    "import os\n",
    "import json\n",
    "from datetime import datetime\n",
    "import time\n",
    "\n",
    "import numpy as np\n",
    "import pandas as pd\n",
    "import matplotlib.pyplot as plt\n",
    "import scipy.stats as stats\n",
    "\n",
    "import igraph as ig\n",
    "from collections import *\n",
    "from __future__ import division\n",
    "\n",
    "from load_data import load_citation_network_igraph, case_info\n",
    "\n",
    "%load_ext autoreload\n",
    "%autoreload 2\n",
    "%matplotlib inline\n",
    "\n",
    "data_dir = '../../data/'\n",
    "court_name = 'scotus'"
   ]
  },
  {
   "cell_type": "code",
   "execution_count": 2,
   "metadata": {
    "collapsed": false
   },
   "outputs": [
    {
     "name": "stdout",
     "output_type": "stream",
     "text": [
      "0 seconds for 250465 edges\n",
      "loaded scotus network with 33248 cases and 250465 edges\n"
     ]
    }
   ],
   "source": [
    "# this will be a little slow the first time you run it\n",
    "G = load_citation_network_igraph(data_dir, court_name)\n",
    "\n",
    "print 'loaded %s network with %d cases and %d edges' % (court_name, len(G.vs), len(G.es))"
   ]
  },
  {
   "cell_type": "code",
   "execution_count": 3,
   "metadata": {
    "collapsed": false
   },
   "outputs": [
    {
     "name": "stdout",
     "output_type": "stream",
     "text": [
      "igraph.Vertex(<igraph.Graph object at 0x000000000B652138>,0,{'court': 'scotus', 'name': 100000, 'year': 1922})\n"
     ]
    }
   ],
   "source": [
    "print G.vs[0]"
   ]
  },
  {
   "cell_type": "code",
   "execution_count": 4,
   "metadata": {
    "collapsed": false
   },
   "outputs": [
    {
     "data": {
      "text/plain": [
       "'scotus'"
      ]
     },
     "execution_count": 4,
     "metadata": {},
     "output_type": "execute_result"
    }
   ],
   "source": [
    "G.vs[0]['court']"
   ]
  },
  {
   "cell_type": "code",
   "execution_count": 5,
   "metadata": {
    "collapsed": false
   },
   "outputs": [
    {
     "data": {
      "text/plain": [
       "1"
      ]
     },
     "execution_count": 5,
     "metadata": {},
     "output_type": "execute_result"
    }
   ],
   "source": [
    "G.vs[0].indegree()"
   ]
  },
  {
   "cell_type": "markdown",
   "metadata": {},
   "source": [
    "### SubGraph Code (vertices = only past cases)"
   ]
  },
  {
   "cell_type": "code",
   "execution_count": 9,
   "metadata": {
    "collapsed": false
   },
   "outputs": [
    {
     "name": "stdout",
     "output_type": "stream",
     "text": [
      "IGRAPH DN-- 33248 250465 -- \n",
      "+ attr: court (v), name (v), year (v)\n",
      "IGRAPH DN-- 33248 250465 -- \n",
      "+ attr: court (v), name (v), year (v)\n",
      "This took 4.51099991798 seconds\n"
     ]
    }
   ],
   "source": [
    "time1 = time.time()\n",
    "subgraph_dict = {}\n",
    "\n",
    "min_year = 1754\n",
    "max_year = 2016\n",
    "\n",
    "for i in range(min_year, max_year+2):\n",
    "    sub_vs = G.vs.select(year_lt = i) # so only the past cases\n",
    "    sub_G = G.subgraph(sub_vs)\n",
    "    subgraph_dict[i] = sub_G\n",
    "    \n",
    "time2 = time.time()\n",
    "\n",
    "print subgraph_dict[2017].summary()\n",
    "print G.summary()\n",
    "print \"This took \" + str(time2-time1) + \" seconds\""
   ]
  },
  {
   "cell_type": "code",
   "execution_count": 10,
   "metadata": {
    "collapsed": false
   },
   "outputs": [
    {
     "name": "stdout",
     "output_type": "stream",
     "text": [
      "In the whole network case 108465 has an indegree of: 11\n",
      "In the sub-network of cases before 1973 case 108465 has an indegree of: 2\n"
     ]
    }
   ],
   "source": [
    "print \"In the whole network case \" + str(G.vs[8000]['name']) + \" has an indegree of: \" + str(G.vs[8000].indegree())\n",
    "for v in subgraph_dict[1973].vs:\n",
    "    if v['name'] == G.vs[8000]['name']:\n",
    "        print \"In the sub-network of cases before 1973 case \" + str(v['name']) + \" has an indegree of: \" + str(v.indegree())"
   ]
  },
  {
   "cell_type": "code",
   "execution_count": 39,
   "metadata": {
    "collapsed": false
   },
   "outputs": [],
   "source": [
    "time1 = time.time()\n",
    "\n",
    "case_tuple_dict = {}\n",
    "\n",
    "for i in range(min_year, max_year+2):\n",
    "    sub_G = subgraph_dict[i]\n",
    "    \n",
    "    igraph_index_list = []\n",
    "    id_list = []\n",
    "    year_list = []\n",
    "    metric_list = []\n",
    "    \n",
    "    ## to do page rank:\n",
    "    #metric_list = sub_G.pagerank()\n",
    "    \n",
    "    for j in range(0, len(sub_G.vs)): # not \" for vertex in sub_G.bs \" because not sure if it goes through each index in order\n",
    "    #for vertex in sub_G.vs:\n",
    "        vertex = sub_G.vs[j]\n",
    "        igraph_index_list.append(vertex.index)\n",
    "        id_list.append(vertex['name'])\n",
    "        year_list.append(vertex['year'])\n",
    "        metric_list.append(vertex.indegree())\n",
    "    \n",
    "    tuple_list = zip(igraph_index_list, id_list, year_list, metric_list)\n",
    "    sorted_tuple_list = sorted(tuple_list, key=lambda tup: tup[3], reverse=True) # sort by metric (indegree or page rank)\n",
    "    \n",
    "    case_tuple_dict[i] = sorted_tuple_list"
   ]
  },
  {
   "cell_type": "markdown",
   "metadata": {},
   "source": [
    "# ^ indexing is useless because subgraphs reindex stuff"
   ]
  },
  {
   "cell_type": "markdown",
   "metadata": {},
   "source": [
    "# random testing"
   ]
  },
  {
   "cell_type": "code",
   "execution_count": 40,
   "metadata": {
    "collapsed": false
   },
   "outputs": [
    {
     "data": {
      "text/plain": [
       "[(0, 84581, 1754, 0)]"
      ]
     },
     "execution_count": 40,
     "metadata": {},
     "output_type": "execute_result"
    }
   ],
   "source": [
    "case_tuple_dict[1759]"
   ]
  },
  {
   "cell_type": "code",
   "execution_count": 41,
   "metadata": {
    "collapsed": false
   },
   "outputs": [
    {
     "data": {
      "text/plain": [
       "igraph.Vertex(<igraph.Graph object at 0x000000000B6E5138>,0,{'court': 'scotus', 'name': 100000, 'year': 1922})"
      ]
     },
     "execution_count": 41,
     "metadata": {},
     "output_type": "execute_result"
    }
   ],
   "source": [
    "G.vs[0]"
   ]
  },
  {
   "cell_type": "code",
   "execution_count": 42,
   "metadata": {
    "collapsed": false
   },
   "outputs": [
    {
     "data": {
      "text/plain": [
       "igraph.Vertex(<igraph.Graph object at 0x000000000B6E5138>,10,{'court': 'scotus', 'name': 100010, 'year': 1922})"
      ]
     },
     "execution_count": 42,
     "metadata": {},
     "output_type": "execute_result"
    }
   ],
   "source": [
    "G.vs[10]"
   ]
  },
  {
   "cell_type": "code",
   "execution_count": 43,
   "metadata": {
    "collapsed": false
   },
   "outputs": [
    {
     "name": "stdout",
     "output_type": "stream",
     "text": [
      "[17550, 17551, 23415, 24367, 26214, 26215, 27003, 27524, 28745, 28994, 29328, 29379, 29382, 29592, 30042, 30135, 30632, 30814, 30862, 31150, 31247, 31331, 31805, 32339, 32840, 32878, 33161]\n",
      "\n",
      "[(17550, 2516136, 1914, 13), (17551, 2516269, 1902, 28), (23415, 90006, 1879, 24), (24367, 90965, 1883, 39), (26214, 92867, 1890, 19), (26215, 92868, 1890, 7), (27003, 93665, 1893, 88), (27524, 94194, 1895, 16), (28745, 95430, 1901, 4), (28994, 95682, 1902, 9), (29328, 96023, 1904, 3), (29379, 96076, 1904, 14), (29382, 96079, 1904, 4), (29592, 96296, 1905, 35), (30042, 96750, 1908, 25), (30135, 96845, 1908, 2), (30632, 97348, 1911, 33), (30814, 97533, 1912, 3), (30862, 97581, 1912, 11), (31150, 97876, 1913, 18), (31247, 97975, 1913, 27), (31331, 98060, 1914, 15), (31805, 98536, 1915, 7), (32339, 99079, 1918, 4), (32840, 99588, 1920, 1), (32878, 99626, 1920, 15), (33161, 99911, 1922, 7)]\n",
      "\n",
      "27\n"
     ]
    }
   ],
   "source": [
    "print G.neighbors(10, mode='OUT')\n",
    "\n",
    "test_tuple_list = []\n",
    "for i in G.neighbors(10, mode='OUT'):\n",
    "    test_tuple_list.append((i, G.vs[i]['name'], G.vs[i]['year'], G.vs[i].indegree()))\n",
    "    \n",
    "print\n",
    "print test_tuple_list\n",
    "print\n",
    "print len(test_tuple_list)"
   ]
  },
  {
   "cell_type": "markdown",
   "metadata": {
    "collapsed": true
   },
   "source": [
    "# 2nd part: rank the cases that case c actually cites"
   ]
  },
  {
   "cell_type": "code",
   "execution_count": 44,
   "metadata": {
    "collapsed": false,
    "scrolled": true
   },
   "outputs": [
    {
     "name": "stdout",
     "output_type": "stream",
     "text": [
      "15293\n",
      "(1107, 85131, 1816, 107)\n",
      "\n",
      "[2516136, 2516269, 90006, 90965, 92867, 92868, 93665, 94194, 95430, 95682, 96023, 96076, 96079, 96296, 96750, 96845, 97348, 97533, 97581, 97876, 97975, 98060, 98536, 99079, 99588, 99626, 99911]\n",
      "26\n",
      "[77, 269, 814, 867, 1296, 2497, 2540, 3128, 3782, 3871, 4528, 4848, 5913, 5924, 7270, 7280, 7471, 7657, 9148, 9149, 9591, 9848, 10197, 14346, 15035, 15062]\n",
      "\n",
      "26\n",
      "[0.9949650166742954, 0.9824102530569542, 0.9467730334139802, 0.9433073955404433, 0.9152553455829464, 0.8367226835807232, 0.8339109396455895, 0.7954619760674818, 0.7526973124959131, 0.7468776564441247, 0.7039168246910351, 0.682992218662133, 0.6133525142221932, 0.6126332308899496, 0.5246191067808801, 0.523965212842477, 0.5114758386189759, 0.49931341136467666, 0.40181782514876085, 0.4017524357549206, 0.3728503236774995, 0.3560452494605375, 0.33322435101026615, 0.061923755966782235, 0.016870463610802355, 0.015104949977113757]\n",
      "\n",
      "15.3802393252\n"
     ]
    }
   ],
   "source": [
    "# G.neighbors(10, mode='OUT') are the cases that case c actually cites\n",
    "\n",
    "#ranks = []\n",
    "all_past_cases = case_tuple_dict[G.vs[10]['year']]\n",
    "\n",
    "print len(all_past_cases)\n",
    "print all_past_cases[0]\n",
    "print ''\n",
    "\n",
    "\n",
    "# i+1 since index start at 0 but need rank to start at 1\n",
    "neighbors = G.neighbors(10, mode='OUT')\n",
    "neighbors_names = [G.vs[i]['name'] for i in neighbors]\n",
    "print neighbors_names\n",
    "\n",
    "ranks = [i+1 for i, v in enumerate(all_past_cases) if v[1] in neighbors_names]\n",
    "\n",
    "print len(ranks)\n",
    "print ranks\n",
    "\n",
    "print ''\n",
    "\n",
    "scores = []\n",
    "# score_i = 1 - r_i/ |B_c| (where |B_c| is the number of cases that came before case c)\n",
    "for some_rank in ranks:\n",
    "    some_score = 1-some_rank/len(all_past_cases)\n",
    "    scores.append(some_score)\n",
    "    \n",
    "final_score = sum(scores)\n",
    "\n",
    "print len(scores)\n",
    "print scores\n",
    "print ''\n",
    "print final_score\n"
   ]
  },
  {
   "cell_type": "code",
   "execution_count": 45,
   "metadata": {
    "collapsed": false
   },
   "outputs": [
    {
     "data": {
      "text/plain": [
       "15.380239325181453"
      ]
     },
     "execution_count": 45,
     "metadata": {},
     "output_type": "execute_result"
    }
   ],
   "source": [
    "# G.neighbors(10, mode='OUT') are the cases that case c actually cites\n",
    "\n",
    "#ranks = []\n",
    "\n",
    "def calculate_score_for_case(case_index, case_tuple_dict):\n",
    "    all_past_cases = case_tuple_dict[G.vs[case_index]['year']]\n",
    "    \n",
    "    neighbors = G.neighbors(case_index, mode='OUT')\n",
    "    neighbors_names = [G.vs[i]['name'] for i in neighbors]\n",
    "\n",
    "    ranks = [i+1 for i, v in enumerate(all_past_cases) if v[1] in neighbors_names]\n",
    "\n",
    "    scores = []\n",
    "    for some_rank in ranks:\n",
    "        some_score = 1-some_rank/len(all_past_cases)\n",
    "        scores.append(some_score)\n",
    "\n",
    "    final_score = sum(scores)\n",
    "    \n",
    "    return final_score\n",
    "    \n",
    "calculate_score_for_case(10, case_tuple_dict)"
   ]
  },
  {
   "cell_type": "code",
   "execution_count": 47,
   "metadata": {
    "collapsed": false
   },
   "outputs": [
    {
     "name": "stdout",
     "output_type": "stream",
     "text": [
      "took 164.760999918\n",
      "\n",
      "174094.901772\n"
     ]
    }
   ],
   "source": [
    "time1 = time.time()\n",
    "\n",
    "score_M = 0\n",
    "for i in G.vs():\n",
    "    score_M += calculate_score_for_case(i.index, case_tuple_dict)\n",
    "    \n",
    "time2=time.time()\n",
    "total_time = str(time2-time1)\n",
    "print 'took ' + total_time\n",
    "print\n",
    "print score_M"
   ]
  },
  {
   "cell_type": "code",
   "execution_count": null,
   "metadata": {
    "collapsed": true
   },
   "outputs": [],
   "source": []
  }
 ],
 "metadata": {
  "anaconda-cloud": {},
  "kernelspec": {
   "display_name": "Python [Root]",
   "language": "python",
   "name": "Python [Root]"
  },
  "language_info": {
   "codemirror_mode": {
    "name": "ipython",
    "version": 2
   },
   "file_extension": ".py",
   "mimetype": "text/x-python",
   "name": "python",
   "nbconvert_exporter": "python",
   "pygments_lexer": "ipython2",
   "version": "2.7.11"
  }
 },
 "nbformat": 4,
 "nbformat_minor": 0
}
