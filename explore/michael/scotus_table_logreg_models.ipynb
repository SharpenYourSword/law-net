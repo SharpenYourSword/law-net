{
 "cells": [
  {
   "cell_type": "markdown",
   "metadata": {},
   "source": [
    "# Run Time Note for 1900-1950"
   ]
  },
  {
   "cell_type": "code",
   "execution_count": 1,
   "metadata": {
    "collapsed": false
   },
   "outputs": [
    {
     "data": {
      "text/plain": [
       "'\\n-Logistic Regression code takes up more time depending on number of variables in x_testing set, and how varied the data is\\n-more variables or more varied data => higher run-time (we got a range between 400-1000 seconds)\\n'"
      ]
     },
     "execution_count": 1,
     "metadata": {},
     "output_type": "execute_result"
    }
   ],
   "source": [
    "'''\n",
    "-Logistic Regression code takes up more time depending on number of variables in x_testing set, and how varied the data is\n",
    "-more variables or more varied data => higher run-time (we got a range between 400-1000 seconds)\n",
    "'''"
   ]
  },
  {
   "cell_type": "markdown",
   "metadata": {},
   "source": [
    "# 0-1 Loss Measure on Different Models"
   ]
  },
  {
   "cell_type": "code",
   "execution_count": 2,
   "metadata": {
    "collapsed": false
   },
   "outputs": [
    {
     "data": {
      "text/html": [
       "<div>\n",
       "<table border=\"1\" class=\"dataframe\">\n",
       "  <thead>\n",
       "    <tr style=\"text-align: right;\">\n",
       "      <th></th>\n",
       "      <th>X Testing Set</th>\n",
       "      <th>0-1 Loss</th>\n",
       "    </tr>\n",
       "  </thead>\n",
       "  <tbody>\n",
       "    <tr>\n",
       "      <th>0</th>\n",
       "      <td>indeg</td>\n",
       "      <td>0.002149</td>\n",
       "    </tr>\n",
       "    <tr>\n",
       "      <th>1</th>\n",
       "      <td>time_diff + indeg</td>\n",
       "      <td>0.002149</td>\n",
       "    </tr>\n",
       "    <tr>\n",
       "      <th>2</th>\n",
       "      <td>page rank</td>\n",
       "      <td>0.002149</td>\n",
       "    </tr>\n",
       "    <tr>\n",
       "      <th>3</th>\n",
       "      <td>time_diff + page rank</td>\n",
       "      <td>0.002149</td>\n",
       "    </tr>\n",
       "    <tr>\n",
       "      <th>4</th>\n",
       "      <td>indeg + page rank</td>\n",
       "      <td>0.002149</td>\n",
       "    </tr>\n",
       "    <tr>\n",
       "      <th>5</th>\n",
       "      <td>time_diff + decay_indeg</td>\n",
       "      <td>0.002149</td>\n",
       "    </tr>\n",
       "    <tr>\n",
       "      <th>6</th>\n",
       "      <td>decay_indeg + page rank</td>\n",
       "      <td>0.002149</td>\n",
       "    </tr>\n",
       "  </tbody>\n",
       "</table>\n",
       "</div>"
      ],
      "text/plain": [
       "             X Testing Set  0-1 Loss\n",
       "0                    indeg  0.002149\n",
       "1        time_diff + indeg  0.002149\n",
       "2                page rank  0.002149\n",
       "3    time_diff + page rank  0.002149\n",
       "4        indeg + page rank  0.002149\n",
       "5  time_diff + decay_indeg  0.002149\n",
       "6  decay_indeg + page rank  0.002149"
      ]
     },
     "execution_count": 2,
     "metadata": {},
     "output_type": "execute_result"
    }
   ],
   "source": [
    "'''\n",
    "1900-1950:\n",
    "all the models have 0-1 loss of 0.001102815845\n",
    "\n",
    "1925-1950:\n",
    "all the models have 0-1 loss of 0.00214900483789\n",
    "\n",
    "bad news is obvious\n",
    "good news: more data (more years) => lower loss!\n",
    "'''\n",
    "\n",
    "import pandas as pd\n",
    "\n",
    "x_test = ['indeg', 'time_diff + indeg', 'page rank', 'time_diff + page rank', 'indeg + page rank',\n",
    "          'time_diff + decay_indeg', 'decay_indeg + page rank']\n",
    "zero_one_loss = [0.00214900483789, 0.00214900483789, 0.00214900483789, 0.00214900483789, 0.00214900483789,\n",
    "                0.00214900483789, 0.00214900483789]\n",
    "\n",
    "data = {'X Testing Set': x_test,\n",
    "        '0-1 Loss': zero_one_loss\n",
    "       }\n",
    "df = pd.DataFrame(data, columns = ['X Testing Set', '0-1 Loss'])\n",
    "df"
   ]
  },
  {
   "cell_type": "markdown",
   "metadata": {},
   "source": [
    "# IMPORTANT Notes:"
   ]
  },
  {
   "cell_type": "code",
   "execution_count": null,
   "metadata": {
    "collapsed": true
   },
   "outputs": [],
   "source": [
    "'''\n",
    "-We avoided log(x_testing sets) because log(in-degree = 0) = -infinity\n",
    "\n",
    "-How do we measure our models by score-rank system? \n",
    "    Previously:\n",
    "        Score node A by the metric ranks (i.e. indegree ranks) of nodes cited by A\n",
    "    Now:\n",
    "        Score attachment probabilities of each edge? -- how do we do the ranking? (ranking of neighboring edges somehow?)\n",
    "\n",
    "-Our predictive model before (rank-score) showed (highest scores)\n",
    "    time-decay indegree => indegree => page rank\n",
    "-With 0-1 Loss, we get (lowest losses)\n",
    "    indegree => page rank => time_decay indegree\n",
    "\n",
    "\n",
    "\n",
    "\n",
    "\n",
    "-Our variable, \"time difference\", which is the difference in years between cited and citing vertex seems to be irrelevant\n",
    "'''"
   ]
  }
 ],
 "metadata": {
  "anaconda-cloud": {},
  "kernelspec": {
   "display_name": "Python [Root]",
   "language": "python",
   "name": "Python [Root]"
  },
  "language_info": {
   "codemirror_mode": {
    "name": "ipython",
    "version": 2
   },
   "file_extension": ".py",
   "mimetype": "text/x-python",
   "name": "python",
   "nbconvert_exporter": "python",
   "pygments_lexer": "ipython2",
   "version": "2.7.11"
  }
 },
 "nbformat": 4,
 "nbformat_minor": 0
}
