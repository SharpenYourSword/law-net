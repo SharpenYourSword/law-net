{
 "cells": [
  {
   "cell_type": "code",
   "execution_count": 1,
   "metadata": {
    "collapsed": false
   },
   "outputs": [],
   "source": [
    "import sys\n",
    "\n",
    "sys.path.append('../../code/')\n",
    "import os\n",
    "import json\n",
    "from datetime import datetime\n",
    "import time\n",
    "from math import *\n",
    "\n",
    "import numpy as np\n",
    "import pandas as pd\n",
    "import matplotlib.pyplot as plt\n",
    "import scipy.stats as stats\n",
    "\n",
    "import igraph as ig\n",
    "\n",
    "from collections import *\n",
    "\n",
    "from load_data import load_citation_network_igraph, case_info\n",
    "\n",
    "%load_ext autoreload\n",
    "%autoreload 2\n",
    "%matplotlib inline\n",
    "\n",
    "data_dir = '../../data/'\n",
    "court_name = 'scotus'\n",
    "\n",
    "# %load ../standard_import.txt\n",
    "from __future__ import division\n",
    "import matplotlib as mpl\n",
    "\n",
    "pd.set_option('display.notebook_repr_html', False)\n",
    "\n",
    "%matplotlib inline\n",
    "plt.style.use('seaborn-white')"
   ]
  },
  {
   "cell_type": "code",
   "execution_count": 2,
   "metadata": {
    "collapsed": false
   },
   "outputs": [
    {
     "name": "stdout",
     "output_type": "stream",
     "text": [
      "0 seconds for 250465 edges\n",
      "loaded scotus network with 33248 cases and 250465 edges\n"
     ]
    }
   ],
   "source": [
    "G = load_citation_network_igraph(data_dir, court_name)\n",
    "print 'loaded %s network with %d cases and %d edges' % (court_name, len(G.vs), len(G.es))"
   ]
  },
  {
   "cell_type": "markdown",
   "metadata": {},
   "source": [
    "# --Temporary: Focus on 1940-1950 Sub-Graph--"
   ]
  },
  {
   "cell_type": "code",
   "execution_count": 3,
   "metadata": {
    "collapsed": false
   },
   "outputs": [
    {
     "name": "stdout",
     "output_type": "stream",
     "text": [
      "IGRAPH DN-- 1593 5635 -- \n",
      "+ attr: court (v), name (v), year (v)\n",
      "None\n"
     ]
    }
   ],
   "source": [
    "\n",
    "#create a sub-network of cases to reduce runtime\n",
    "sub_vs = G.vs.select(year_lt=1951)\n",
    "sub_vs = sub_vs.select(year_gt=1939)\n",
    "sub_G = G.subgraph(sub_vs)\n",
    "G = sub_G\n",
    "print ig.summary(G)\n"
   ]
  },
  {
   "cell_type": "markdown",
   "metadata": {},
   "source": [
    "# Thresholded-Indegree"
   ]
  },
  {
   "cell_type": "code",
   "execution_count": 4,
   "metadata": {
    "collapsed": false
   },
   "outputs": [],
   "source": [
    "def thresholded_indegree(graph, vertex, threshold=10):\n",
    "    td_indeg = 0\n",
    "    vertex_year = vertex[\"year\"]\n",
    "    neighbors = graph.neighbors(vertex.index, mode='IN')\n",
    "    for neighbor in neighbors:\n",
    "        neighbor_year = graph.vs[neighbor][\"year\"]\n",
    "        if neighbor_year - vertex_year <= threshold:\n",
    "            td_indeg += 1\n",
    "    return td_indeg"
   ]
  },
  {
   "cell_type": "markdown",
   "metadata": {},
   "source": [
    "# Get each node's information (index, neighbors node cites, indeg, pagerank, etc.)"
   ]
  },
  {
   "cell_type": "code",
   "execution_count": 5,
   "metadata": {
    "collapsed": false
   },
   "outputs": [
    {
     "name": "stdout",
     "output_type": "stream",
     "text": [
      "this took 0.0540001392365 seconds\n"
     ]
    }
   ],
   "source": [
    "time1 = time.time()\n",
    "#get lists of statistics for all cases\n",
    "indegrees = G.indegree()\n",
    "pageranks = G.pagerank()\n",
    "\n",
    "#fill a list of cases with required info that will be sorted by year\n",
    "case_tuples = []\n",
    "for vertex in G.vs:\n",
    "    index = vertex.index\n",
    "    neighbors = G.neighbors(index, mode='OUT')\n",
    "    year = vertex[\"year\"]\n",
    "    indegree = indegrees[index]\n",
    "    thresholded_indegree_value = thresholded_indegree(G, vertex, 5) # make sure this threshold is <range of years we're evaluating scotus on\n",
    "    pagerank = pageranks[index]\n",
    "    case_tuple = (index, neighbors, year, indegree, pagerank, thresholded_indegree_value)\n",
    "    case_tuples.append(case_tuple)\n",
    "\n",
    "#sort the list of cases by year\n",
    "sorted_case_tuples = sorted(case_tuples, key=lambda x: x[2])\n",
    "\n",
    "time2 = time.time()\n",
    "print \"this took \" + str(time2-time1) + \" seconds\""
   ]
  },
  {
   "cell_type": "markdown",
   "metadata": {},
   "source": [
    "# Create giant tuple with all the information for data table, later used for logsitic regression"
   ]
  },
  {
   "cell_type": "code",
   "execution_count": 6,
   "metadata": {
    "collapsed": false
   },
   "outputs": [
    {
     "name": "stdout",
     "output_type": "stream",
     "text": [
      "number of vertices: 1593\n",
      "number of edges: 5564\n",
      "number of possible edges: 1149579\n",
      "this took 1.33799982071 seconds\n"
     ]
    }
   ],
   "source": [
    "time1 = time.time()\n",
    "#uses the list of case tuples to fill a list of (all possible) edge tuples with approriate information\n",
    "#currently does not include cases with the same year (so it is an approximation)\n",
    "edge_count = 0\n",
    "edge_tuples = []\n",
    "\n",
    "#go down the list of cases, then create possible edges by going back up the list\n",
    "#(since only cases with a lower year can be possibly cited)\n",
    "for i in range(0,len(sorted_case_tuples)):\n",
    "    citing_case = sorted_case_tuples[i]\n",
    "    citing_index = citing_case[0]\n",
    "    neighbors = citing_case[1]\n",
    "    citing_year = citing_case[2]\n",
    "    for j in range(i,0,-1):\n",
    "        cited_case = sorted_case_tuples[j]\n",
    "        cited_index = cited_case[0]\n",
    "        cited_year = cited_case[2]\n",
    "        \n",
    "        age = citing_year - cited_year\n",
    "        cited_indegree = cited_case[3]\n",
    "        cited_pagerank = cited_case[4]\n",
    "        cited_thresholded_indegree = cited_case[5]\n",
    "        #if one of the out-edges of the citing case points to the (possible) cited case, then an edge is there (1)\n",
    "        if cited_index in neighbors:\n",
    "            edge = 1\n",
    "            edge_count += 1\n",
    "        else:\n",
    "            edge = 0\n",
    "        \n",
    "        #edge_tuple = (edge, citing_index, cited_index, cited_indegree, cited_pagerank, cited_thresholded_indegree,\n",
    "        #              age, citing_year, cited_year)\n",
    "        edge_tuple = (edge, citing_index, cited_index)\n",
    "        if not age == 0:\n",
    "            edge_tuples.append(edge_tuple)\n",
    "\n",
    "print \"number of vertices: \" + str(len(sorted_case_tuples))\n",
    "print \"number of edges: \" + str(edge_count)\n",
    "print \"number of possible edges: \" + str(len(edge_tuples))\n",
    "time2 = time.time()\n",
    "print \"this took \" + str(time2-time1) + \" seconds\""
   ]
  },
  {
   "cell_type": "markdown",
   "metadata": {},
   "source": [
    "# Tidy Data Frame"
   ]
  },
  {
   "cell_type": "code",
   "execution_count": 52,
   "metadata": {
    "collapsed": false,
    "scrolled": true
   },
   "outputs": [
    {
     "name": "stdout",
     "output_type": "stream",
     "text": [
      "         edge  citing index  cited index\n",
      "0           0           126         1583\n",
      "1           0           126         1582\n",
      "2           0           126         1581\n",
      "3           0           126         1571\n",
      "4           0           126         1570\n",
      "5           0           126          168\n",
      "6           0           126          152\n",
      "7           0           126          148\n",
      "8           0           126          147\n",
      "9           0           126          146\n",
      "10          0           126          145\n",
      "11          0           126          143\n",
      "12          0           126          142\n",
      "13          0           126          141\n",
      "14          0           126          140\n",
      "15          0           126          139\n",
      "16          0           126          138\n",
      "17          0           126          137\n",
      "18          0           126          136\n",
      "19          0           126          135\n",
      "20          0           126          134\n",
      "21          0           126          133\n",
      "22          0           126          130\n",
      "23          0           126          129\n",
      "24          0           126          128\n",
      "25          0           126          125\n",
      "26          0           126          124\n",
      "27          0           126          123\n",
      "28          0           126          122\n",
      "29          0           126          121\n",
      "...       ...           ...          ...\n",
      "1149549     0          1592           30\n",
      "1149550     0          1592           29\n",
      "1149551     0          1592           28\n",
      "1149552     0          1592           27\n",
      "1149553     0          1592           26\n",
      "1149554     0          1592           25\n",
      "1149555     0          1592           24\n",
      "1149556     0          1592           23\n",
      "1149557     0          1592           22\n",
      "1149558     0          1592           21\n",
      "1149559     0          1592           20\n",
      "1149560     0          1592           19\n",
      "1149561     0          1592           18\n",
      "1149562     0          1592           17\n",
      "1149563     0          1592           16\n",
      "1149564     0          1592           15\n",
      "1149565     0          1592           14\n",
      "1149566     0          1592           13\n",
      "1149567     0          1592           12\n",
      "1149568     0          1592           11\n",
      "1149569     0          1592           10\n",
      "1149570     0          1592            9\n",
      "1149571     0          1592            8\n",
      "1149572     0          1592            7\n",
      "1149573     0          1592            6\n",
      "1149574     0          1592            5\n",
      "1149575     0          1592            4\n",
      "1149576     0          1592            3\n",
      "1149577     0          1592            2\n",
      "1149578     0          1592            1\n",
      "\n",
      "[1149579 rows x 3 columns]\n",
      "this took 0.448000192642 seconds\n"
     ]
    }
   ],
   "source": [
    "time1 = time.time()\n",
    "#list_of_column_names = [\"edge\", \"citing index\",\"cited index\", \"cited indegree\", \"cited pagerank\", \n",
    "#                        \"cited thresholded indegree\", \"age\", \"citing_year\", \"cited_year\"]\n",
    "list_of_column_names = [\"edge\", \"citing index\", \"cited index\"]\n",
    "\n",
    "'''\n",
    "index_is_edge = []\n",
    "for i in range(0, len(edge_tuples)):\n",
    "    #\"id_citing\"_\"id_cited\" (12_42)\n",
    "    label = str(edge_tuples[i][1]) + '_' + str(edge_tuples[i][2])\n",
    "    index_is_edge.append(label)\n",
    "'''\n",
    "    \n",
    "\n",
    "#df = pd.DataFrame(edge_tuples, columns=list_of_column_names, index=index_is_edge)\n",
    "df = pd.DataFrame(edge_tuples, columns=list_of_column_names)\n",
    "#df.to_csv('1940-1950_scotus_logreg_table.csv')\n",
    "print df\n",
    "time2 = time.time()\n",
    "print \"this took \" + str(time2-time1) + \" seconds\"\n",
    "\n"
   ]
  },
  {
   "cell_type": "code",
   "execution_count": 55,
   "metadata": {
    "collapsed": false
   },
   "outputs": [
    {
     "name": "stdout",
     "output_type": "stream",
     "text": [
      "4893\n",
      "1144686\n",
      "True\n"
     ]
    }
   ],
   "source": [
    "df1 = df[df['edge'] == 1]\n",
    "df0 = df[df['edge'] == 0]\n",
    "\n",
    "print len(df1)\n",
    "print len(df0)\n",
    "print len(df1) + len(df0) == len(df)"
   ]
  },
  {
   "cell_type": "code",
   "execution_count": 63,
   "metadata": {
    "collapsed": false,
    "scrolled": true
   },
   "outputs": [
    {
     "name": "stdout",
     "output_type": "stream",
     "text": [
      "114469\n",
      "489\n"
     ]
    }
   ],
   "source": [
    "df0_random = df0.sample(frac=0.1, replace=False)\n",
    "df1_random = df1.sample(frac=0.1, replace=False)\n",
    "\n",
    "print len(df0_random)\n",
    "print len(df1_random)\n",
    "\n",
    "df_random_final = df1_random.append(df0_random, ignore_index=True)\n",
    "#print df_random_final\n",
    "#print df1_random\n",
    "#print df1_random\n"
   ]
  },
  {
   "cell_type": "code",
   "execution_count": 65,
   "metadata": {
    "collapsed": false
   },
   "outputs": [],
   "source": [
    "def add_cited_indegree(dataframe, G):\n",
    "    time1 = time.time()\n",
    "    igraph_indices = dataframe['cited index']\n",
    "    indegree = G.indegree()\n",
    "    new_column = []\n",
    "    for i in igraph_indices:\n",
    "        new_column.append(indegree[i])\n",
    "    dataframe['indegree'] = new_column\n",
    "    time2 = time.time()\n",
    "    print \"This took \" + str(time2-time1) + \" seconds\"\n",
    "    return dataframe\n",
    "\n",
    "def add_cited_pagerank(dataframe, G):\n",
    "    time1 = time.time()\n",
    "    igraph_indices = dataframe['cited index']\n",
    "    pagerank = G.pagerank()\n",
    "    new_column = []\n",
    "    for i in igraph_indices:\n",
    "        new_column.append(pagerank[i])\n",
    "    dataframe['pagerank'] = new_column\n",
    "    time2 = time.time()\n",
    "    print \"This took \" + str(time2-time1) + \" seconds\"\n",
    "    return dataframe"
   ]
  },
  {
   "cell_type": "code",
   "execution_count": 70,
   "metadata": {
    "collapsed": false
   },
   "outputs": [
    {
     "name": "stdout",
     "output_type": "stream",
     "text": [
      "12\n"
     ]
    }
   ],
   "source": [
    "poop = G.indegree()\n",
    "print poop[906]"
   ]
  },
  {
   "cell_type": "code",
   "execution_count": 66,
   "metadata": {
    "collapsed": false
   },
   "outputs": [
    {
     "name": "stdout",
     "output_type": "stream",
     "text": [
      "This took 0.0329999923706 seconds\n",
      "        cited index  citing index  edge  indegree\n",
      "0               906           956     1        12\n",
      "1               453          1068     1        15\n",
      "2               257          1323     1         8\n",
      "3                88           768     1        38\n",
      "4              1570           281     1        12\n",
      "5              1016          1281     1         5\n",
      "6               452          1401     1         9\n",
      "7               940          1130     1         2\n",
      "8               864          1370     1         7\n",
      "9               651          1104     1         5\n",
      "10              439          1588     1         8\n",
      "11              642          1365     1        18\n",
      "12              918          1090     1         6\n",
      "13              836          1523     1         3\n",
      "14                6           423     1        10\n",
      "15               36           631     1        11\n",
      "16               44           660     1         2\n",
      "17              787          1499     1        16\n",
      "18              507           967     1         7\n",
      "19             1039          1096     1         3\n",
      "20              126           749     1         6\n",
      "21              717          1029     1         9\n",
      "22              267           804     1         7\n",
      "23              201           719     1        10\n",
      "24              332           801     1         5\n",
      "25              644          1191     1         4\n",
      "26              501           738     1         7\n",
      "27              337          1375     1         9\n",
      "28              567           947     1        13\n",
      "29              138          1401     1        12\n",
      "...             ...           ...   ...       ...\n",
      "114928          189           916     0         0\n",
      "114929         1144          1387     0         1\n",
      "114930         1314          1520     0         0\n",
      "114931          694           828     0         0\n",
      "114932         1573          1418     0         3\n",
      "114933          959          1301     0         2\n",
      "114934          615          1025     0         5\n",
      "114935          714          1284     0         0\n",
      "114936         1552           978     0         1\n",
      "114937          176          1481     0         2\n",
      "114938          138           487     0        12\n",
      "114939          559          1344     0         1\n",
      "114940          512           802     0         2\n",
      "114941           85           528     0         8\n",
      "114942          242          1069     0         6\n",
      "114943          174           336     0        16\n",
      "114944          167           924     0        10\n",
      "114945          125          1133     0        13\n",
      "114946           93           783     0         7\n",
      "114947          311           695     0         8\n",
      "114948          186          1355     0         5\n",
      "114949          451          1044     0         3\n",
      "114950          829          1225     0         2\n",
      "114951           61          1446     0         3\n",
      "114952          552          1346     0         4\n",
      "114953           75           594     0         0\n",
      "114954         1060          1090     0         2\n",
      "114955         1133          1271     0         3\n",
      "114956          426           891     0        22\n",
      "114957         1337          1453     0         1\n",
      "\n",
      "[114958 rows x 4 columns]\n"
     ]
    }
   ],
   "source": [
    "print add_cited_indegree(df_random_final, G)"
   ]
  },
  {
   "cell_type": "code",
   "execution_count": 54,
   "metadata": {
    "collapsed": false
   },
   "outputs": [
    {
     "ename": "KeyError",
     "evalue": "0L",
     "output_type": "error",
     "traceback": [
      "\u001b[1;31m---------------------------------------------------------------------------\u001b[0m",
      "\u001b[1;31mKeyError\u001b[0m                                  Traceback (most recent call last)",
      "\u001b[1;32m<ipython-input-54-f4ffe39c5ea3>\u001b[0m in \u001b[0;36m<module>\u001b[1;34m()\u001b[0m\n\u001b[0;32m      1\u001b[0m \u001b[1;31m#df_random_final\u001b[0m\u001b[1;33m\u001b[0m\u001b[1;33m\u001b[0m\u001b[0m\n\u001b[1;32m----> 2\u001b[1;33m \u001b[0mnew_df_random_final\u001b[0m \u001b[1;33m=\u001b[0m \u001b[0madd_cited_indegree\u001b[0m\u001b[1;33m(\u001b[0m\u001b[0mdf_random_final\u001b[0m\u001b[1;33m,\u001b[0m \u001b[0mG\u001b[0m\u001b[1;33m)\u001b[0m\u001b[1;33m\u001b[0m\u001b[0m\n\u001b[0m\u001b[0;32m      3\u001b[0m \u001b[0mnew_df_random_final2\u001b[0m \u001b[1;33m=\u001b[0m \u001b[0madd_cited_pagerank\u001b[0m\u001b[1;33m(\u001b[0m\u001b[0mnew_df_random_final\u001b[0m\u001b[1;33m,\u001b[0m \u001b[0mG\u001b[0m\u001b[1;33m)\u001b[0m\u001b[1;33m\u001b[0m\u001b[0m\n\u001b[0;32m      4\u001b[0m \u001b[1;33m\u001b[0m\u001b[0m\n\u001b[0;32m      5\u001b[0m \u001b[1;32mprint\u001b[0m \u001b[0mnew_df_random_final2\u001b[0m\u001b[1;33m\u001b[0m\u001b[0m\n",
      "\u001b[1;32m<ipython-input-53-388e4ec0c573>\u001b[0m in \u001b[0;36madd_cited_indegree\u001b[1;34m(df, G)\u001b[0m\n\u001b[0;32m      5\u001b[0m     \u001b[0mnew_column\u001b[0m \u001b[1;33m=\u001b[0m \u001b[1;33m[\u001b[0m\u001b[1;33m]\u001b[0m\u001b[1;33m\u001b[0m\u001b[0m\n\u001b[0;32m      6\u001b[0m     \u001b[1;32mfor\u001b[0m \u001b[0mi\u001b[0m \u001b[1;32min\u001b[0m \u001b[0mrange\u001b[0m\u001b[1;33m(\u001b[0m\u001b[1;36m0\u001b[0m\u001b[1;33m,\u001b[0m\u001b[0mlen\u001b[0m\u001b[1;33m(\u001b[0m\u001b[0migraph_indices\u001b[0m\u001b[1;33m)\u001b[0m\u001b[1;33m)\u001b[0m\u001b[1;33m:\u001b[0m\u001b[1;33m\u001b[0m\u001b[0m\n\u001b[1;32m----> 7\u001b[1;33m         \u001b[0mnew_column\u001b[0m\u001b[1;33m.\u001b[0m\u001b[0mappend\u001b[0m\u001b[1;33m(\u001b[0m\u001b[0mindegree\u001b[0m\u001b[1;33m[\u001b[0m\u001b[0migraph_indices\u001b[0m\u001b[1;33m[\u001b[0m\u001b[0mi\u001b[0m\u001b[1;33m]\u001b[0m\u001b[1;33m]\u001b[0m\u001b[1;33m)\u001b[0m\u001b[1;33m\u001b[0m\u001b[0m\n\u001b[0m\u001b[0;32m      8\u001b[0m     \u001b[0mdf\u001b[0m\u001b[1;33m[\u001b[0m\u001b[1;34m'indegree'\u001b[0m\u001b[1;33m]\u001b[0m \u001b[1;33m=\u001b[0m \u001b[0mnew_column\u001b[0m\u001b[1;33m\u001b[0m\u001b[0m\n\u001b[0;32m      9\u001b[0m     \u001b[0mtime2\u001b[0m \u001b[1;33m=\u001b[0m \u001b[0mtime\u001b[0m\u001b[1;33m.\u001b[0m\u001b[0mtime\u001b[0m\u001b[1;33m(\u001b[0m\u001b[1;33m)\u001b[0m\u001b[1;33m\u001b[0m\u001b[0m\n",
      "\u001b[1;32mC:\\Users\\Michael\\Anaconda2\\lib\\site-packages\\pandas\\core\\series.pyc\u001b[0m in \u001b[0;36m__getitem__\u001b[1;34m(self, key)\u001b[0m\n\u001b[0;32m    581\u001b[0m         \u001b[0mkey\u001b[0m \u001b[1;33m=\u001b[0m \u001b[0mcom\u001b[0m\u001b[1;33m.\u001b[0m\u001b[0m_apply_if_callable\u001b[0m\u001b[1;33m(\u001b[0m\u001b[0mkey\u001b[0m\u001b[1;33m,\u001b[0m \u001b[0mself\u001b[0m\u001b[1;33m)\u001b[0m\u001b[1;33m\u001b[0m\u001b[0m\n\u001b[0;32m    582\u001b[0m         \u001b[1;32mtry\u001b[0m\u001b[1;33m:\u001b[0m\u001b[1;33m\u001b[0m\u001b[0m\n\u001b[1;32m--> 583\u001b[1;33m             \u001b[0mresult\u001b[0m \u001b[1;33m=\u001b[0m \u001b[0mself\u001b[0m\u001b[1;33m.\u001b[0m\u001b[0mindex\u001b[0m\u001b[1;33m.\u001b[0m\u001b[0mget_value\u001b[0m\u001b[1;33m(\u001b[0m\u001b[0mself\u001b[0m\u001b[1;33m,\u001b[0m \u001b[0mkey\u001b[0m\u001b[1;33m)\u001b[0m\u001b[1;33m\u001b[0m\u001b[0m\n\u001b[0m\u001b[0;32m    584\u001b[0m \u001b[1;33m\u001b[0m\u001b[0m\n\u001b[0;32m    585\u001b[0m             \u001b[1;32mif\u001b[0m \u001b[1;32mnot\u001b[0m \u001b[0mlib\u001b[0m\u001b[1;33m.\u001b[0m\u001b[0misscalar\u001b[0m\u001b[1;33m(\u001b[0m\u001b[0mresult\u001b[0m\u001b[1;33m)\u001b[0m\u001b[1;33m:\u001b[0m\u001b[1;33m\u001b[0m\u001b[0m\n",
      "\u001b[1;32mC:\\Users\\Michael\\Anaconda2\\lib\\site-packages\\pandas\\indexes\\base.pyc\u001b[0m in \u001b[0;36mget_value\u001b[1;34m(self, series, key)\u001b[0m\n\u001b[0;32m   1978\u001b[0m         \u001b[1;32mtry\u001b[0m\u001b[1;33m:\u001b[0m\u001b[1;33m\u001b[0m\u001b[0m\n\u001b[0;32m   1979\u001b[0m             return self._engine.get_value(s, k,\n\u001b[1;32m-> 1980\u001b[1;33m                                           tz=getattr(series.dtype, 'tz', None))\n\u001b[0m\u001b[0;32m   1981\u001b[0m         \u001b[1;32mexcept\u001b[0m \u001b[0mKeyError\u001b[0m \u001b[1;32mas\u001b[0m \u001b[0me1\u001b[0m\u001b[1;33m:\u001b[0m\u001b[1;33m\u001b[0m\u001b[0m\n\u001b[0;32m   1982\u001b[0m             \u001b[1;32mif\u001b[0m \u001b[0mlen\u001b[0m\u001b[1;33m(\u001b[0m\u001b[0mself\u001b[0m\u001b[1;33m)\u001b[0m \u001b[1;33m>\u001b[0m \u001b[1;36m0\u001b[0m \u001b[1;32mand\u001b[0m \u001b[0mself\u001b[0m\u001b[1;33m.\u001b[0m\u001b[0minferred_type\u001b[0m \u001b[1;32min\u001b[0m \u001b[1;33m[\u001b[0m\u001b[1;34m'integer'\u001b[0m\u001b[1;33m,\u001b[0m \u001b[1;34m'boolean'\u001b[0m\u001b[1;33m]\u001b[0m\u001b[1;33m:\u001b[0m\u001b[1;33m\u001b[0m\u001b[0m\n",
      "\u001b[1;32mpandas\\index.pyx\u001b[0m in \u001b[0;36mpandas.index.IndexEngine.get_value (pandas\\index.c:3332)\u001b[1;34m()\u001b[0m\n",
      "\u001b[1;32mpandas\\index.pyx\u001b[0m in \u001b[0;36mpandas.index.IndexEngine.get_value (pandas\\index.c:3035)\u001b[1;34m()\u001b[0m\n",
      "\u001b[1;32mpandas\\index.pyx\u001b[0m in \u001b[0;36mpandas.index.IndexEngine.get_loc (pandas\\index.c:4018)\u001b[1;34m()\u001b[0m\n",
      "\u001b[1;32mpandas\\hashtable.pyx\u001b[0m in \u001b[0;36mpandas.hashtable.Int64HashTable.get_item (pandas\\hashtable.c:6610)\u001b[1;34m()\u001b[0m\n",
      "\u001b[1;32mpandas\\hashtable.pyx\u001b[0m in \u001b[0;36mpandas.hashtable.Int64HashTable.get_item (pandas\\hashtable.c:6554)\u001b[1;34m()\u001b[0m\n",
      "\u001b[1;31mKeyError\u001b[0m: 0L"
     ]
    }
   ],
   "source": [
    "#df_random_final\n",
    "new_df_random_final = add_cited_indegree(df_random_final, G)\n",
    "new_df_random_final2 = add_cited_pagerank(new_df_random_final, G)\n",
    "\n",
    "print new_df_random_final2"
   ]
  }
 ],
 "metadata": {
  "anaconda-cloud": {},
  "kernelspec": {
   "display_name": "Python [Root]",
   "language": "python",
   "name": "Python [Root]"
  },
  "language_info": {
   "codemirror_mode": {
    "name": "ipython",
    "version": 2
   },
   "file_extension": ".py",
   "mimetype": "text/x-python",
   "name": "python",
   "nbconvert_exporter": "python",
   "pygments_lexer": "ipython2",
   "version": "2.7.11"
  }
 },
 "nbformat": 4,
 "nbformat_minor": 0
}
