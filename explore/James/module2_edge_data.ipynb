{
 "cells": [
  {
   "cell_type": "code",
   "execution_count": 42,
   "metadata": {
    "collapsed": false
   },
   "outputs": [
    {
     "name": "stdout",
     "output_type": "stream",
     "text": [
      "The autoreload extension is already loaded. To reload it, use:\n",
      "  %reload_ext autoreload\n"
     ]
    }
   ],
   "source": [
    "import sys\n",
    "\n",
    "sys.path.append('../../code/')\n",
    "import os\n",
    "import json\n",
    "from datetime import datetime\n",
    "import time\n",
    "from math import *\n",
    "\n",
    "import numpy as np\n",
    "import pandas as pd\n",
    "import matplotlib.pyplot as plt\n",
    "import scipy.stats as stats\n",
    "\n",
    "import igraph as ig\n",
    "\n",
    "import random as random\n",
    "\n",
    "from collections import *\n",
    "\n",
    "from load_data import load_citation_network_igraph, case_info\n",
    "\n",
    "%load_ext autoreload\n",
    "%autoreload 2\n",
    "\n",
    "data_dir = '../../data/'\n",
    "court_name = 'scotus'\n",
    "\n",
    "from __future__ import division\n",
    "\n",
    "pd.set_option('display.notebook_repr_html', False)\n",
    "\n",
    "import glob"
   ]
  },
  {
   "cell_type": "code",
   "execution_count": 67,
   "metadata": {
    "collapsed": false
   },
   "outputs": [],
   "source": [
    "def get_snapshot_edge_metrics(G, path_to_vertex_metrics_folder, year_interval, num_non_edges_to_add):\n",
    "    \"\"\"\n",
    "    Creates the edge data frame. Rows are edges. Columns are the metrics of cited case in citing case's year (also year of citing case).\n",
    "\n",
    "    Include all edges that exist in the network and randomly add non existent edges.\n",
    "\n",
    "    Parameters\n",
    "    ----------\n",
    "    G: network\n",
    "\n",
    "    path_to_vertex_metrics_folder: where can we find the vertex metrics\n",
    "\n",
    "    year_interval: the year interval between each vertex metric .csv file\n",
    "\n",
    "    num_non_edges_to_add: how many nonexistent edges to add \n",
    "\n",
    "    Output\n",
    "    --------\n",
    "    Saves edge data frame as a csv file\n",
    "    \"\"\"\n",
    "    #load all the vertex metric dataframes into a dict so they only have to be read in once\n",
    "    all_vertex_metrics_df = glob.glob(path_to_vertex_metrics_folder + \"/vertex_metrics*.csv\")\n",
    "    vertex_metric_dict = {}\n",
    "    for vertex_metrc_df in all_vertex_metrics_df:\n",
    "        #add df to dict with filepath as key\n",
    "        vertex_metric_dict[vertex_metrc_df] = pd.read_csv(vertex_metrc_df, index_col=0)\n",
    "    \n",
    "    #list of edges that will be added to the edge df\n",
    "    edges_to_add_list = []\n",
    "    \n",
    "    #get all present edges\n",
    "    edges_to_add = G.get_edgelist()\n",
    "    \n",
    "    #go through each edge and add it to a list which will become the df\n",
    "    for edge in edges_to_add:\n",
    "        #get info from edge\n",
    "        citing_year = G.vs(edge[0])['year'][0]\n",
    "        cited_name = G.vs(edge[1])['name'][0]\n",
    "\n",
    "        #determine which vertex_df to retrieve\n",
    "        year = citing_year + (year_interval - citing_year%year_interval)\n",
    "        \n",
    "        #look-up that dataframe from given path\n",
    "        vertex_df = vertex_metric_dict[path_to_vertex_metrics_folder + '\\\\vertex_metrics_' + str(year) + '.csv']\n",
    "        \n",
    "        #get row from df using cited_name\n",
    "        row = vertex_df.loc[cited_name].values.tolist()\n",
    "\n",
    "        edge_tuple = (1,) + tuple(row)\n",
    "        edges_to_add_list.append(edge_tuple)\n",
    "    \n",
    "    #get a sample of non-present edges\n",
    "    non_edges_to_add = sample_non_edges(G, year_interval, num_non_edges_to_add)\n",
    "    \n",
    "    #go through each sampled non-edge and add it to the list already with edges\n",
    "    for edge in non_edges_to_add:\n",
    "        #get info from edge\n",
    "        citing_year = G.vs(edge[0])['year'][0]\n",
    "        cited_name = G.vs(edge[1])['name'][0]\n",
    "\n",
    "        #determine which vertex_df to retrieve\n",
    "        year = citing_year + (year_interval - citing_year%year_interval)\n",
    "        \n",
    "        #look-up that dataframe from given path\n",
    "        vertex_df = vertex_metric_dict[path_to_vertex_metrics_folder + '\\\\vertex_metrics_' + str(year) + '.csv']\n",
    "        \n",
    "        #get row from df using cited_name\n",
    "        row = vertex_df.loc[cited_name].values.tolist()\n",
    "\n",
    "        edge_tuple = (0,) + tuple(row)\n",
    "        edges_to_add_list.append(edge_tuple)\n",
    "    \n",
    "    #get column names from the last loaded dataframe (since all df should have same column names)\n",
    "    column_names = ['edge'] + list(vertex_df.columns.values)\n",
    "    df = pd.DataFrame(edges_to_add_list, columns=column_names)\n",
    "\n",
    "    # columns of df are the vertex of cited case in citing case's year\n",
    "\n",
    "    df.to_csv('edge_data.csv')"
   ]
  },
  {
   "cell_type": "code",
   "execution_count": 68,
   "metadata": {
    "collapsed": false
   },
   "outputs": [],
   "source": [
    "def sample_non_edges(G, year_interval, num_non_edges_to_add):\n",
    "    '''\n",
    "    Samples a number of nonexistent edges from the network G\n",
    "    \n",
    "    Parameters\n",
    "    ----------\n",
    "    G: network\n",
    "\n",
    "    year_interval: the year interval between each vertex metric .csv file\n",
    "\n",
    "    num_non_edges_to_add: how many nonexistent edges to add \n",
    "\n",
    "    Output\n",
    "    --------\n",
    "    List of non-present edges\n",
    "    '''\n",
    "    non_edge_set = set([]) # set makes adding 'edge_tuple' unique in the while loop (need b/c random sampling can return duplicates)\n",
    "    edges = set(G.get_edgelist()) # when searching for element, set is faster than list\n",
    "    vertices = set(G.vs) # vertices to select from\n",
    "\n",
    "    while len(non_edge_set) < num_non_edges_to_add:\n",
    "        # get random_edge\n",
    "        temp = random.sample(vertices, 2) # default: without replacement\n",
    "        random_edge = (temp[0].index, temp[1].index)\n",
    "\n",
    "        # get info from edge\n",
    "        citing_year = G.vs(random_edge[0])['year'][0]\n",
    "        cited_year = G.vs(random_edge[1])['year'][0]\n",
    "\n",
    "        #only add a random edge if the citing year is after the cited year,\n",
    "        #if it is not a present edge, and if it is not already sampled\n",
    "        if random_edge not in edges and citing_year >= cited_year and random_edge not in non_edge_set:\n",
    "            # determine which vertex_df to retrieve\n",
    "            non_edge_set.add(random_edge)\n",
    "            \n",
    "    return list(non_edge_set)"
   ]
  },
  {
   "cell_type": "markdown",
   "metadata": {},
   "source": [
    "Testing above defs"
   ]
  },
  {
   "cell_type": "code",
   "execution_count": 69,
   "metadata": {
    "collapsed": true
   },
   "outputs": [],
   "source": [
    "#This def is not required, I just used it to make excuted code concise\n",
    "def load_scotus_graph():\n",
    "    G = load_citation_network_igraph(data_dir, court_name)\n",
    "    all_edges = G.get_edgelist() # list of tuples\n",
    "    bad_edges = []\n",
    "    for edge in all_edges:\n",
    "        citing_year = G.vs(edge[0])['year'][0]\n",
    "        cited_year = G.vs(edge[1])['year'][0]\n",
    "    \n",
    "        if citing_year < cited_year:\n",
    "            bad_edges.append(edge)\n",
    "\n",
    "    G.delete_edges(bad_edges)\n",
    "    return G"
   ]
  },
  {
   "cell_type": "code",
   "execution_count": 70,
   "metadata": {
    "collapsed": false
   },
   "outputs": [
    {
     "name": "stdout",
     "output_type": "stream",
     "text": [
      "0 seconds for 250465 edges\n"
     ]
    }
   ],
   "source": [
    "G = load_scotus_graph()\n",
    "path_to_vertex_metrics_folder = 'C:\\\\Research\\\\law-net\\\\explore\\\\James'\n",
    "year_interval = 10\n",
    "num_non_edges_to_add = len(G.get_edgelist())"
   ]
  },
  {
   "cell_type": "code",
   "execution_count": 71,
   "metadata": {
    "collapsed": false
   },
   "outputs": [
    {
     "name": "stdout",
     "output_type": "stream",
     "text": [
      "done\n"
     ]
    }
   ],
   "source": [
    "get_snapshot_edge_metrics(G, path_to_vertex_metrics_folder, year_interval, num_non_edges_to_add)\n",
    "print 'done'"
   ]
  },
  {
   "cell_type": "code",
   "execution_count": 72,
   "metadata": {
    "collapsed": false,
    "scrolled": true
   },
   "outputs": [
    {
     "data": {
      "text/plain": [
       "        edge    year  indegree  pagerank\n",
       "0          1  1921.0       7.0  0.000060\n",
       "1          1  1921.0       4.0  0.000037\n",
       "2          1  1921.0       3.0  0.000035\n",
       "3          1  1917.0       4.0  0.000050\n",
       "4          1  1895.0      34.0  0.000343\n",
       "5          1  1918.0       6.0  0.000062\n",
       "6          1  1877.0      43.0  0.000372\n",
       "7          1  1886.0      18.0  0.000117\n",
       "8          1  1888.0      28.0  0.000168\n",
       "9          1  1891.0      33.0  0.000197\n",
       "10         1  1896.0      15.0  0.000077\n",
       "11         1  1899.0      27.0  0.000187\n",
       "12         1  1904.0      22.0  0.000174\n",
       "13         1  1912.0       1.0  0.000027\n",
       "14         1  1912.0       5.0  0.000045\n",
       "15         1  1912.0       8.0  0.000052\n",
       "16         1  1920.0       1.0  0.000027\n",
       "17         1  1922.0       3.0  0.000046\n",
       "18         1  1921.0       9.0  0.000082\n",
       "19         1  1921.0       7.0  0.000075\n",
       "20         1  1890.0       3.0  0.000035\n",
       "21         1  1895.0       7.0  0.000087\n",
       "22         1  1898.0       6.0  0.000070\n",
       "23         1  1903.0      11.0  0.000063\n",
       "24         1  1903.0       2.0  0.000040\n",
       "25         1  1918.0      13.0  0.000065\n",
       "26         1  1920.0      15.0  0.000068\n",
       "27         1  1908.0       9.0  0.000067\n",
       "28         1  1914.0      11.0  0.000090\n",
       "29         1  1917.0       6.0  0.000061\n",
       "...      ...     ...       ...       ...\n",
       "500868     0  1950.0       2.0  0.000017\n",
       "500869     0  1976.0       1.0  0.000012\n",
       "500870     0  1892.0       0.0  0.000012\n",
       "500871     0  1982.0      16.0  0.000020\n",
       "500872     0  1839.0       0.0  0.000212\n",
       "500873     0  1898.0       1.0  0.000023\n",
       "500874     0  1926.0       6.0  0.000031\n",
       "500875     0  1882.0       0.0  0.000018\n",
       "500876     0  1978.0       1.0  0.000022\n",
       "500877     0  1926.0       9.0  0.000028\n",
       "500878     0  1871.0       0.0  0.000022\n",
       "500879     0  1895.0       9.0  0.000067\n",
       "500880     0  1926.0       3.0  0.000016\n",
       "500881     0  1818.0       0.0  0.000010\n",
       "500882     0  1902.0       0.0  0.000030\n",
       "500883     0  1844.0       7.0  0.000072\n",
       "500884     0  1793.0       0.0  0.000014\n",
       "500885     0  1908.0      18.0  0.000064\n",
       "500886     0  1855.0       7.0  0.000042\n",
       "500887     0  1873.0       4.0  0.000037\n",
       "500888     0  1914.0       6.0  0.000033\n",
       "500889     0  1873.0       7.0  0.000056\n",
       "500890     0  1869.0       0.0  0.000012\n",
       "500891     0  1918.0       0.0  0.000022\n",
       "500892     0  1860.0       0.0  0.000133\n",
       "500893     0  2003.0       1.0  0.000019\n",
       "500894     0  1907.0       3.0  0.000025\n",
       "500895     0  1883.0       2.0  0.000023\n",
       "500896     0  2010.0      11.0  0.000013\n",
       "500897     0  1876.0       3.0  0.000055\n",
       "\n",
       "[500898 rows x 4 columns]"
      ]
     },
     "execution_count": 72,
     "metadata": {},
     "output_type": "execute_result"
    }
   ],
   "source": [
    "pd.read_csv('edge_data.csv', index_col=0)"
   ]
  }
 ],
 "metadata": {
  "anaconda-cloud": {},
  "kernelspec": {
   "display_name": "Python [Root]",
   "language": "python",
   "name": "Python [Root]"
  },
  "language_info": {
   "codemirror_mode": {
    "name": "ipython",
    "version": 2
   },
   "file_extension": ".py",
   "mimetype": "text/x-python",
   "name": "python",
   "nbconvert_exporter": "python",
   "pygments_lexer": "ipython2",
   "version": "2.7.12"
  }
 },
 "nbformat": 4,
 "nbformat_minor": 0
}
