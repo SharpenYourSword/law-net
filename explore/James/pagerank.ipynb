{
 "cells": [
  {
   "cell_type": "code",
   "execution_count": 65,
   "metadata": {
    "collapsed": false
   },
   "outputs": [
    {
     "name": "stdout",
     "output_type": "stream",
     "text": [
      "The autoreload extension is already loaded. To reload it, use:\n",
      "  %reload_ext autoreload\n"
     ]
    }
   ],
   "source": [
    "import sys\n",
    "\n",
    "sys.path.append('../../code/')\n",
    "import os\n",
    "import json\n",
    "from datetime import datetime\n",
    "import time\n",
    "from math import *\n",
    "\n",
    "import numpy as np\n",
    "import pandas as pd\n",
    "import matplotlib.pyplot as plt\n",
    "import scipy.stats as stats\n",
    "\n",
    "import igraph as ig\n",
    "\n",
    "from collections import *\n",
    "\n",
    "from load_data import load_citation_network_igraph, case_info\n",
    "\n",
    "%load_ext autoreload\n",
    "%autoreload 2\n",
    "%matplotlib inline\n",
    "\n",
    "data_dir = '../../data/'\n",
    "court_name = 'scotus'"
   ]
  },
  {
   "cell_type": "code",
   "execution_count": 66,
   "metadata": {
    "collapsed": true
   },
   "outputs": [],
   "source": [
    "#takes a numpy adjacency matrix and returns the pagerank of the vertices\n",
    "#all variable names follow along MLPP 17.34\n",
    "#please note: the eigen vector that is returned is normalized, this is not the case for igraph.pagerank(),\n",
    "#but this pagerank is proportional to igraph's pagerank\n",
    "def PageRank(A):\n",
    "    #the adjacency matrix used by MLPP is defined as Gij = 1 iff j points to i. This requires the transposed A.\n",
    "    G = A.getT()\n",
    "    n = A.shape[0]\n",
    "    p = 0.85\n",
    "    delta = (1.0-p)/n\n",
    "\n",
    "    #vector which represents the outdegree of each vertex\n",
    "    c = np.matrix(np.zeros((n,1)))\n",
    "    for j in range(0,n):\n",
    "        outdegree = np.sum(G[:,j])\n",
    "        c[j] = outdegree\n",
    "\n",
    "    #below these variable represent the decomposition of the transition matrix M\n",
    "    D = np.matrix(np.zeros((n, n)))\n",
    "    for j in range(0,n):\n",
    "        if not c[j] == 0:\n",
    "            D[j,j] = 1.0/c[j]\n",
    "        else:\n",
    "            D[j,j] = 0\n",
    " \n",
    "    z = np.matrix(np.zeros((n,1)))\n",
    "    for j in range(0,n):\n",
    "        if not c[j] == 0:\n",
    "            z[j] = delta\n",
    "        else:\n",
    "            z[j] = 1.0/n\n",
    "    zT = z.getT()\n",
    "\n",
    "    #variables are combined to produce M\n",
    "    M = p*G*D + 1*zT\n",
    "\n",
    "    #Power method to derive the first eigen-vector\n",
    "    v = np.matrix(np.ones((n,1)))\n",
    "    v = v/np.linalg.norm(v)\n",
    "    iterations = 0\n",
    "    converged = False\n",
    "    while not converged:\n",
    "        iterations += 1\n",
    "        tmp = M*v\n",
    "        norm = np.linalg.norm(tmp)\n",
    "        new_v = tmp/norm\n",
    "        \n",
    "        difference = np.absolute(np.sum(v-new_v))\n",
    "        if difference < 0.00001:\n",
    "            converged = True\n",
    "        \n",
    "        v = new_v\n",
    "        \n",
    "    return v"
   ]
  },
  {
   "cell_type": "markdown",
   "metadata": {},
   "source": [
    "PageRank on simple 5x5 test graph"
   ]
  },
  {
   "cell_type": "code",
   "execution_count": 67,
   "metadata": {
    "collapsed": false
   },
   "outputs": [
    {
     "name": "stdout",
     "output_type": "stream",
     "text": [
      "[[0 1 1 0 1]\n",
      " [0 0 1 0 1]\n",
      " [0 0 0 1 0]\n",
      " [0 0 0 0 1]\n",
      " [0 0 0 0 0]]\n"
     ]
    }
   ],
   "source": [
    "#create test adjacency matrix\n",
    "node_names = ['A', 'B', 'C', 'D', 'E']\n",
    "a = pd.DataFrame([[0,1,1,0,1],[0,0,1,0,1],[0,0,0,1,0],[0,0,0,0,1],[0,0,0,0,0]],\n",
    "    index=node_names, columns=node_names)\n",
    "a_numpy = np.matrix(a)\n",
    "print a_numpy"
   ]
  },
  {
   "cell_type": "code",
   "execution_count": 68,
   "metadata": {
    "collapsed": false
   },
   "outputs": [
    {
     "name": "stdout",
     "output_type": "stream",
     "text": [
      "[0.09375108949020011, 0.12031389817909016, 0.1714473049052035, 0.23948129865962306, 0.3750064087658831]\n"
     ]
    }
   ],
   "source": [
    "#find pagerank using igraph (to check our work)\n",
    "g = ig.Graph.Adjacency(a_numpy.tolist())\n",
    "ig_pagerank = g.pagerank()\n",
    "print ig_pagerank"
   ]
  },
  {
   "cell_type": "code",
   "execution_count": 69,
   "metadata": {
    "collapsed": false
   },
   "outputs": [
    {
     "name": "stdout",
     "output_type": "stream",
     "text": [
      "[[ 0.18726233]\n",
      " [ 0.24031935]\n",
      " [ 0.34245496]\n",
      " [ 0.47835126]\n",
      " [ 0.74905548]]\n"
     ]
    }
   ],
   "source": [
    "#find pagerank using our implementation\n",
    "pagerank = PageRank(a_numpy)\n",
    "print pagerank"
   ]
  },
  {
   "cell_type": "markdown",
   "metadata": {},
   "source": [
    "PageRank on portion of SCOTUS network (before 1900)"
   ]
  },
  {
   "cell_type": "code",
   "execution_count": 70,
   "metadata": {
    "collapsed": false
   },
   "outputs": [
    {
     "name": "stdout",
     "output_type": "stream",
     "text": [
      "0 seconds for 250465 edges\n",
      "loaded scotus network with 33248 cases and 250465 edges\n"
     ]
    }
   ],
   "source": [
    "G = load_citation_network_igraph(data_dir, court_name)\n",
    "\n",
    "print 'loaded %s network with %d cases and %d edges' % (court_name, len(G.vs), len(G.es))"
   ]
  },
  {
   "cell_type": "code",
   "execution_count": 71,
   "metadata": {
    "collapsed": false
   },
   "outputs": [
    {
     "data": {
      "text/plain": [
       "'IGRAPH DN-- 10446 25674 -- \\n+ attr: court (v), name (v), year (v)'"
      ]
     },
     "execution_count": 71,
     "metadata": {},
     "output_type": "execute_result"
    }
   ],
   "source": [
    "sub_vs = G.vs.select(year_lt=1900)\n",
    "sub_G = G.subgraph(sub_vs)\n",
    "sub_G.summary()"
   ]
  },
  {
   "cell_type": "code",
   "execution_count": 72,
   "metadata": {
    "collapsed": false
   },
   "outputs": [],
   "source": [
    "scotus_adjacency = sub_G.get_adjacency()"
   ]
  },
  {
   "cell_type": "code",
   "execution_count": 75,
   "metadata": {
    "collapsed": false,
    "scrolled": true
   },
   "outputs": [
    {
     "name": "stdout",
     "output_type": "stream",
     "text": [
      "[ 0.00516806  0.00503505  0.01066494 ...,  0.00396808  0.00396808\n",
      "  0.00396808]\n"
     ]
    }
   ],
   "source": [
    "#find pagerank using igraph (to check our work)\n",
    "print sub_G.pagerank()/np.linalg.norm(sub_G.pagerank())"
   ]
  },
  {
   "cell_type": "code",
   "execution_count": 74,
   "metadata": {
    "collapsed": false
   },
   "outputs": [
    {
     "name": "stdout",
     "output_type": "stream",
     "text": [
      "[[ 0.00516807]\n",
      " [ 0.00503505]\n",
      " [ 0.01066495]\n",
      " ..., \n",
      " [ 0.00396808]\n",
      " [ 0.00396808]\n",
      " [ 0.00396808]]\n"
     ]
    }
   ],
   "source": [
    "#find pagerank using our implementation\n",
    "print PageRank(np.matrix(scotus_adjacency.data))"
   ]
  },
  {
   "cell_type": "code",
   "execution_count": null,
   "metadata": {
    "collapsed": true
   },
   "outputs": [],
   "source": []
  }
 ],
 "metadata": {
  "anaconda-cloud": {},
  "kernelspec": {
   "display_name": "Python [Root]",
   "language": "python",
   "name": "Python [Root]"
  },
  "language_info": {
   "codemirror_mode": {
    "name": "ipython",
    "version": 2
   },
   "file_extension": ".py",
   "mimetype": "text/x-python",
   "name": "python",
   "nbconvert_exporter": "python",
   "pygments_lexer": "ipython2",
   "version": "2.7.12"
  }
 },
 "nbformat": 4,
 "nbformat_minor": 0
}
