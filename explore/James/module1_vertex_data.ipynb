{
 "cells": [
  {
   "cell_type": "code",
   "execution_count": 1,
   "metadata": {
    "collapsed": false
   },
   "outputs": [],
   "source": [
    "import sys\n",
    "\n",
    "sys.path.append('../../code/')\n",
    "import os\n",
    "import json\n",
    "from datetime import datetime\n",
    "import time\n",
    "from math import *\n",
    "\n",
    "import numpy as np\n",
    "import pandas as pd\n",
    "import matplotlib.pyplot as plt\n",
    "import scipy.stats as stats\n",
    "\n",
    "import igraph as ig\n",
    "\n",
    "import random as random\n",
    "\n",
    "from collections import *\n",
    "\n",
    "from load_data import load_citation_network_igraph, case_info\n",
    "\n",
    "%load_ext autoreload\n",
    "%autoreload 2\n",
    "\n",
    "data_dir = '../../data/'\n",
    "court_name = 'scotus'\n",
    "\n",
    "from __future__ import division\n",
    "\n",
    "pd.set_option('display.notebook_repr_html', False)"
   ]
  },
  {
   "cell_type": "code",
   "execution_count": 2,
   "metadata": {
    "collapsed": false
   },
   "outputs": [],
   "source": [
    "def get_snapshot_vertex_metrics(G, years, vertex_metrics):\n",
    "    \"\"\"\n",
    "    Creates the data frames with vertex metics in given years\n",
    "\n",
    "    Parameters\n",
    "    -----------\n",
    "    G: igraph network object with each node assigned a year\n",
    "\n",
    "    years: sequence of years we want to compute\n",
    "\n",
    "    vertex_metrics: which vertex metrics we want to compute (pagerank, indegree, etc)\n",
    "    Output\n",
    "    --------\n",
    "    writes csv files of the vertex metric data frame for each year in years\n",
    "    \"\"\"\n",
    "\n",
    "    #create a vertex df for each year T\n",
    "    for T in years:\n",
    "        #get subgraph at particular time\n",
    "        G_T = get_network_at_time(G, T)\n",
    "        \n",
    "        #creates dataframe using 'name' attribute as index because it is consistent throughout\n",
    "        #all truncations of the network\n",
    "        df_T = pd.DataFrame(index = G_T.vs['name'])\n",
    "        df_T['year'] = G_T.vs['year']\n",
    "        \n",
    "        #add column for each metric\n",
    "        for metric in vertex_metrics:\n",
    "             df_T[metric] = create_metric_column(G_T, metric) # i.e. add a column\n",
    "\n",
    "        df_T.to_csv('vertex_metrics_' + str(T) + '.csv')"
   ]
  },
  {
   "cell_type": "code",
   "execution_count": 3,
   "metadata": {
    "collapsed": false
   },
   "outputs": [],
   "source": [
    "def get_network_at_time(G, T):\n",
    "    \"\"\"\n",
    "    Returns the subgraph of what the network G looked like at time T (i.e. all cases upto and including time T and their citations to previous cases)\n",
    "\n",
    "    Parameters\n",
    "    ------------\n",
    "    G: igraph network object where each node has a time attribute\n",
    "\n",
    "    T: year to truncate at\n",
    "\n",
    "    Output\n",
    "    -------\n",
    "    G_T: an igraph object of what the network looked like at time T\n",
    "    \"\"\"\n",
    "    #select vertices whose year is less than or equal to T\n",
    "    vertices = G.vs.select(year_le=T)\n",
    "    #create a subgraph based on those vertices\n",
    "    G_T = G.subgraph(vertices)\n",
    "    return G_T\n"
   ]
  },
  {
   "cell_type": "code",
   "execution_count": 4,
   "metadata": {
    "collapsed": false
   },
   "outputs": [],
   "source": [
    "def create_metric_column(G_T, metric):\n",
    "    \"\"\"\n",
    "    Returns an array of the pageranks for vertices in a network G_T\n",
    "\n",
    "    Parameters\n",
    "    ------------\n",
    "    G_T: igraph network object where each node has a time attribute\n",
    "\n",
    "    metric: string of the vertex metrics we want to compute (pagerank, indegree, etc)\n",
    "    \n",
    "    Output\n",
    "    -------\n",
    "    metric: an array of size G_T.vs that contains the metric for G_T's vertices\n",
    "            or does not return value on invalid metric parameter\n",
    "    \"\"\"\n",
    "    #calculates metric which matched parameter\n",
    "    if metric == 'pagerank':\n",
    "        metric_column = G_T.pagerank()\n",
    "    elif metric == 'indegree':\n",
    "        metric_column = G_T.indegree()\n",
    "    else:\n",
    "        return\n",
    "    \n",
    "    return metric_column"
   ]
  },
  {
   "cell_type": "markdown",
   "metadata": {},
   "source": [
    "Testing above defs"
   ]
  },
  {
   "cell_type": "code",
   "execution_count": 5,
   "metadata": {
    "collapsed": false
   },
   "outputs": [],
   "source": [
    "#This def is not required, I just used it to make excuted code concise\n",
    "def load_scotus_graph():\n",
    "    G = load_citation_network_igraph(data_dir, court_name)\n",
    "    all_edges = G.get_edgelist() # list of tuples\n",
    "    bad_edges = []\n",
    "    for edge in all_edges:\n",
    "        citing_year = G.vs(edge[0])['year'][0]\n",
    "        cited_year = G.vs(edge[1])['year'][0]\n",
    "    \n",
    "        if citing_year < cited_year:\n",
    "            bad_edges.append(edge)\n",
    "\n",
    "    G.delete_edges(bad_edges)\n",
    "    return G"
   ]
  },
  {
   "cell_type": "code",
   "execution_count": 6,
   "metadata": {
    "collapsed": false,
    "scrolled": true
   },
   "outputs": [
    {
     "name": "stdout",
     "output_type": "stream",
     "text": [
      "0 seconds for 250465 edges\n"
     ]
    }
   ],
   "source": [
    "G = load_scotus_graph()\n",
    "years = [year for year in range(1760, 2021) if year % 10 == 0]\n",
    "metrics = ['indegree','pagerank']\n",
    "get_snapshot_vertex_metrics(G, years, metrics)"
   ]
  }
 ],
 "metadata": {
  "anaconda-cloud": {},
  "kernelspec": {
   "display_name": "Python [Root]",
   "language": "python",
   "name": "Python [Root]"
  },
  "language_info": {
   "codemirror_mode": {
    "name": "ipython",
    "version": 2
   },
   "file_extension": ".py",
   "mimetype": "text/x-python",
   "name": "python",
   "nbconvert_exporter": "python",
   "pygments_lexer": "ipython2",
   "version": "2.7.12"
  }
 },
 "nbformat": 4,
 "nbformat_minor": 0
}
