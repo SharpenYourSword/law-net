{
 "cells": [
  {
   "cell_type": "code",
   "execution_count": 1,
   "metadata": {
    "collapsed": false
   },
   "outputs": [],
   "source": [
    "import sys\n",
    "\n",
    "sys.path.append('../../code/')\n",
    "import os\n",
    "import json\n",
    "from datetime import datetime\n",
    "import time\n",
    "from math import *\n",
    "\n",
    "import numpy as np\n",
    "import pandas as pd\n",
    "import matplotlib.pyplot as plt\n",
    "import scipy.stats as stats\n",
    "\n",
    "import igraph as ig\n",
    "\n",
    "from collections import *\n",
    "\n",
    "from load_data import load_citation_network_igraph, case_info\n",
    "\n",
    "%load_ext autoreload\n",
    "%autoreload 2\n",
    "%matplotlib inline\n",
    "\n",
    "data_dir = '../../data/'\n",
    "court_name = 'scotus'\n",
    "\n",
    "# %load ../standard_import.txt\n",
    "from __future__ import division\n",
    "import matplotlib as mpl\n",
    "\n",
    "pd.set_option('display.notebook_repr_html', False)\n",
    "\n",
    "%matplotlib inline\n",
    "plt.style.use('seaborn-white')"
   ]
  },
  {
   "cell_type": "code",
   "execution_count": 2,
   "metadata": {
    "collapsed": false
   },
   "outputs": [
    {
     "name": "stdout",
     "output_type": "stream",
     "text": [
      "0 seconds for 250465 edges\n",
      "loaded scotus network with 33248 cases and 250465 edges\n"
     ]
    }
   ],
   "source": [
    "G = load_citation_network_igraph(data_dir, court_name)\n",
    "print 'loaded %s network with %d cases and %d edges' % (court_name, len(G.vs), len(G.es))"
   ]
  },
  {
   "cell_type": "markdown",
   "metadata": {},
   "source": [
    "# Temporary: Focus on up to 1900 Sub-Graph"
   ]
  },
  {
   "cell_type": "code",
   "execution_count": 3,
   "metadata": {
    "collapsed": false
   },
   "outputs": [
    {
     "name": "stdout",
     "output_type": "stream",
     "text": [
      "IGRAPH DN-- 10676 27111 -- \n",
      "+ attr: court (v), name (v), year (v)\n",
      "None\n"
     ]
    }
   ],
   "source": [
    "#create a sub-network of cases to reduce runtime\n",
    "sub_vs = G.vs.select(year_lt=1901)\n",
    "#sub_vs = sub_vs.select(year_gt=1939)\n",
    "sub_G = G.subgraph(sub_vs)\n",
    "G = sub_G\n",
    "print ig.summary(G)"
   ]
  },
  {
   "cell_type": "markdown",
   "metadata": {},
   "source": [
    "# Get each node's information (index, neighbors, year)"
   ]
  },
  {
   "cell_type": "code",
   "execution_count": 4,
   "metadata": {
    "collapsed": false
   },
   "outputs": [
    {
     "name": "stdout",
     "output_type": "stream",
     "text": [
      "this took 0.066999912262 seconds\n"
     ]
    }
   ],
   "source": [
    "time1 = time.time()\n",
    "\n",
    "#fill a list of cases with required info that will be sorted by year\n",
    "case_tuples = []\n",
    "for vertex in G.vs:\n",
    "    index = vertex.index\n",
    "    #neighbors is the cases that this case has cited (i.e. vertex is citing, neighbors are cited)\n",
    "    neighbors = G.neighbors(index, mode='OUT')\n",
    "    year = vertex[\"year\"]\n",
    "    case_tuple = (index, neighbors, year)\n",
    "    case_tuples.append(case_tuple)\n",
    "\n",
    "#sort the list of cases by year\n",
    "sorted_case_tuples = sorted(case_tuples, key=lambda x: x[2])\n",
    "\n",
    "time2 = time.time()\n",
    "print \"this took \" + str(time2-time1) + \" seconds\""
   ]
  },
  {
   "cell_type": "markdown",
   "metadata": {},
   "source": [
    "# Create list of tuples of every potential edge with info (indices, years)"
   ]
  },
  {
   "cell_type": "code",
   "execution_count": 5,
   "metadata": {
    "collapsed": false
   },
   "outputs": [
    {
     "name": "stdout",
     "output_type": "stream",
     "text": [
      "number of vertices: 10676\n",
      "number of edges: 26736\n",
      "number of possible edges: 56009003\n",
      "this took 59.9459998608 seconds\n"
     ]
    }
   ],
   "source": [
    "time1 = time.time()\n",
    "#uses the list of case tuples to fill a list of (all possible) edge tuples with approriate information\n",
    "#currently does not include cases with the same year (so it is an approximation)\n",
    "edge_count = 0\n",
    "edge_tuples = []\n",
    "\n",
    "#go down the list of cases, then create possible edges by going back up the list\n",
    "#(since only cases with a lower year can be possibly cited)\n",
    "for i in range(0,len(sorted_case_tuples)):\n",
    "    citing_case = sorted_case_tuples[i]\n",
    "    citing_index = citing_case[0]\n",
    "    neighbors = citing_case[1]\n",
    "    citing_year = citing_case[2]\n",
    "    for j in range(i,0,-1):\n",
    "        cited_case = sorted_case_tuples[j]\n",
    "        cited_index = cited_case[0]\n",
    "        cited_year = cited_case[2]\n",
    "        \n",
    "        age = citing_year - cited_year\n",
    "        #if one of the out-edges of the citing case points to the (possible) cited case, then an edge is there (1)\n",
    "        if cited_index in neighbors:\n",
    "            edge = 1\n",
    "            edge_count += 1\n",
    "        else:\n",
    "            edge = 0\n",
    "        \n",
    "        edge_tuple = (edge, citing_index, cited_index, citing_year, cited_year)\n",
    "        if not age == 0:\n",
    "            edge_tuples.append(edge_tuple)\n",
    "\n",
    "print \"number of vertices: \" + str(len(sorted_case_tuples))\n",
    "print \"number of edges: \" + str(edge_count)\n",
    "print \"number of possible edges: \" + str(len(edge_tuples))\n",
    "time2 = time.time()\n",
    "print \"this took \" + str(time2-time1) + \" seconds\""
   ]
  },
  {
   "cell_type": "markdown",
   "metadata": {},
   "source": [
    "# Tidy Data Frame"
   ]
  },
  {
   "cell_type": "code",
   "execution_count": 6,
   "metadata": {
    "collapsed": false,
    "scrolled": true
   },
   "outputs": [
    {
     "name": "stdout",
     "output_type": "stream",
     "text": [
      "          edge  citing_index  cited_index  citing_year  cited_year\n",
      "0            0           467          469         1760        1759\n",
      "1            0           470          469         1760        1759\n",
      "2            0           471          470         1763        1760\n",
      "3            0           471          467         1763        1760\n",
      "4            0           471          469         1763        1759\n",
      "5            0           271          471         1764        1763\n",
      "6            0           271          470         1764        1760\n",
      "7            0           271          467         1764        1760\n",
      "8            0           271          469         1764        1759\n",
      "9            0           472          471         1764        1763\n",
      "10           0           472          470         1764        1760\n",
      "11           0           472          467         1764        1760\n",
      "12           0           472          469         1764        1759\n",
      "13           0           473          471         1764        1763\n",
      "14           0           473          470         1764        1760\n",
      "15           0           473          467         1764        1760\n",
      "16           0           473          469         1764        1759\n",
      "17           0           520          473         1766        1764\n",
      "18           0           520          472         1766        1764\n",
      "19           0           520          271         1766        1764\n",
      "20           0           520          471         1766        1763\n",
      "21           0           520          470         1766        1760\n",
      "22           0           520          467         1766        1760\n",
      "23           0           520          469         1766        1759\n",
      "24           0           238          520         1768        1766\n",
      "25           0           238          473         1768        1764\n",
      "26           0           238          472         1768        1764\n",
      "27           0           238          271         1768        1764\n",
      "28           0           238          471         1768        1763\n",
      "29           0           238          470         1768        1760\n",
      "...        ...           ...          ...          ...         ...\n",
      "56008973     0         10675          117         1900        1782\n",
      "56008974     0         10675          113         1900        1782\n",
      "56008975     0         10675          522         1900        1781\n",
      "56008976     0         10675          521         1900        1781\n",
      "56008977     0         10675          510         1900        1781\n",
      "56008978     0         10675          509         1900        1781\n",
      "56008979     0         10675          484         1900        1781\n",
      "56008980     0         10675          480         1900        1781\n",
      "56008981     0         10675          263         1900        1781\n",
      "56008982     0         10675          479         1900        1780\n",
      "56008983     0         10675          478         1900        1780\n",
      "56008984     0         10675          273         1900        1780\n",
      "56008985     0         10675          477         1900        1778\n",
      "56008986     0         10675          281         1900        1778\n",
      "56008987     0         10675          278         1900        1778\n",
      "56008988     0         10675          270         1900        1776\n",
      "56008989     0         10675          476         1900        1773\n",
      "56008990     0         10675          475         1900        1773\n",
      "56008991     0         10675          259         1900        1773\n",
      "56008992     0         10675          474         1900        1768\n",
      "56008993     0         10675          253         1900        1768\n",
      "56008994     0         10675          238         1900        1768\n",
      "56008995     0         10675          520         1900        1766\n",
      "56008996     0         10675          473         1900        1764\n",
      "56008997     0         10675          472         1900        1764\n",
      "56008998     0         10675          271         1900        1764\n",
      "56008999     0         10675          471         1900        1763\n",
      "56009000     0         10675          470         1900        1760\n",
      "56009001     0         10675          467         1900        1760\n",
      "56009002     0         10675          469         1900        1759\n",
      "\n",
      "[56009003 rows x 5 columns]\n",
      "this took 162.282000065 seconds\n"
     ]
    }
   ],
   "source": [
    "time1 = time.time()\n",
    "list_of_column_names = [\"edge\", \"citing_index\", \"cited_index\", \"citing_year\", \"cited_year\"]\n",
    "\n",
    "df = pd.DataFrame(edge_tuples, columns=list_of_column_names)\n",
    "print df\n",
    "time2 = time.time()\n",
    "print \"this took \" + str(time2-time1) + \" seconds\"\n",
    "\n"
   ]
  },
  {
   "cell_type": "code",
   "execution_count": null,
   "metadata": {
    "collapsed": true
   },
   "outputs": [],
   "source": [
    "#save tidy df\n",
    "#df.to_csv('1925_scotus_logreg_table.csv')"
   ]
  },
  {
   "cell_type": "markdown",
   "metadata": {},
   "source": [
    "# Below is experimental code"
   ]
  },
  {
   "cell_type": "code",
   "execution_count": null,
   "metadata": {
    "collapsed": true
   },
   "outputs": [],
   "source": [
    "def make_random_subset_df(df):\n",
    "    time1 = time.time()\n",
    "    df1 = df[df['edge'] == 1]\n",
    "    df0 = df[df['edge'] == 0]\n",
    "    frac_val = len(df1)/len(df0)\n",
    "    df0_random_subset = df0.sample(frac=frac_val, replace=False)\n",
    "    \n",
    "    df_subset = df1.append(df0_random_subset, ignore_index=True)\n",
    "    \n",
    "    time2 = time.time()\n",
    "    print \"This took \" + str(time2-time1) + \" seconds\"\n",
    "    return df_subset"
   ]
  },
  {
   "cell_type": "code",
   "execution_count": null,
   "metadata": {
    "collapsed": false
   },
   "outputs": [],
   "source": [
    "def add_cited_indegree(df, G):\n",
    "    time1 = time.time()\n",
    "    igraph_indices = df['cited_index']\n",
    "    indegree = G.indegree()\n",
    "    new_column = []\n",
    "    for i in range(0,len(igraph_indices)):\n",
    "        new_column.append(indegree[igraph_indices[i]])\n",
    "    df['cited_indegree'] = new_column\n",
    "    time2 = time.time()\n",
    "    print \"This took \" + str(time2-time1) + \" seconds\"\n",
    "    return df"
   ]
  },
  {
   "cell_type": "code",
   "execution_count": null,
   "metadata": {
    "collapsed": true
   },
   "outputs": [],
   "source": [
    "def add_cited_pagerank(df, G):\n",
    "    time1 = time.time()\n",
    "    igraph_indices = df['cited index']\n",
    "    pagerank = G.pagerank()\n",
    "    new_column = []\n",
    "    for i in range(0,len(igraph_indices)):\n",
    "        new_column.append(pagerank[igraph_indices[i]])\n",
    "    df['pagerank'] = new_column\n",
    "    time2 = time.time()\n",
    "    print \"This took \" + str(time2-time1) + \" seconds\"\n",
    "    return df"
   ]
  },
  {
   "cell_type": "code",
   "execution_count": null,
   "metadata": {
    "collapsed": false
   },
   "outputs": [],
   "source": [
    "new_df = make_random_subset_df(df)"
   ]
  },
  {
   "cell_type": "code",
   "execution_count": null,
   "metadata": {
    "collapsed": false,
    "scrolled": true
   },
   "outputs": [],
   "source": [
    "print new_df"
   ]
  },
  {
   "cell_type": "code",
   "execution_count": null,
   "metadata": {
    "collapsed": false,
    "scrolled": true
   },
   "outputs": [],
   "source": [
    "new_df = add_cited_indegree(new_df, G)\n",
    "print new_df"
   ]
  },
  {
   "cell_type": "code",
   "execution_count": null,
   "metadata": {
    "collapsed": true
   },
   "outputs": [],
   "source": [
    "import sklearn.linear_model as skl_lm\n",
    "from sklearn.discriminant_analysis import LinearDiscriminantAnalysis\n",
    "from sklearn.discriminant_analysis import QuadraticDiscriminantAnalysis\n",
    "from sklearn.metrics import confusion_matrix, classification_report, precision_score, log_loss\n",
    "from sklearn import preprocessing\n",
    "from sklearn import neighbors\n",
    "\n",
    "import statsmodels.api as sm\n",
    "import statsmodels.formula.api as smf"
   ]
  },
  {
   "cell_type": "code",
   "execution_count": null,
   "metadata": {
    "collapsed": false
   },
   "outputs": [],
   "source": [
    "time1 = time.time()\n",
    "#set up training data\n",
    "y_train = new_df['edge']\n",
    "x_train = new_df[['cited_indegree']]\n",
    "\n",
    "#calculate logistical regression\n",
    "clf = skl_lm.LogisticRegression(solver='newton-cg')\n",
    "clf.fit(x_train, y_train)\n",
    "\n",
    "print 'classes: ',clf.classes_\n",
    "print 'coefficients: ',clf.coef_\n",
    "print 'intercept :', clf.intercept_\n",
    "time2 = time.time()\n",
    "print \"this took \" + str(time2-time1) + \" seconds\"\n",
    "\n",
    "time1 = time.time()\n",
    "# Matrix, where column = probability for no edge (0), probability for edge (1)--reference: clf.classes_\n",
    "prob = clf.predict_proba(x_train)\n",
    "\n",
    "# predicted probabilities for ALL case for edge present (1)\n",
    "prob_edge = prob[:,1:2]\n",
    "# convert to list\n",
    "prob_edge = [i.tolist()[0] for i in prob_edge]\n"
   ]
  },
  {
   "cell_type": "code",
   "execution_count": null,
   "metadata": {
    "collapsed": false,
    "scrolled": true
   },
   "outputs": [],
   "source": [
    "index_prob = zip(new_df['cited_index'],prob_edge)\n",
    "\n",
    "cited_indexes = []\n",
    "attachment_probs = []\n",
    "for cited_tuple in index_prob:\n",
    "    if cited_tuple[0] not in cited_indexes:\n",
    "        cited_indexes.append(cited_tuple[0])\n",
    "        attachment_probs.append(cited_tuple[1])\n",
    "\n",
    "index_prob_unique = zip(cited_indexes, attachment_probs)\n",
    "\n",
    "print len(index_prob)\n",
    "print len(index_prob_unique)"
   ]
  },
  {
   "cell_type": "code",
   "execution_count": null,
   "metadata": {
    "collapsed": false
   },
   "outputs": [],
   "source": [
    "index_indegree = zip(new_df['cited_index'],new_df['cited_indegree'])\n",
    "\n",
    "cited_indexes = []\n",
    "indegrees = []\n",
    "for cited_tuple in index_indegree:\n",
    "    if cited_tuple[0] not in cited_indexes:\n",
    "        cited_indexes.append(cited_tuple[0])\n",
    "        indegrees.append(cited_tuple[1])\n",
    "\n",
    "index_indegree_unique = zip(cited_indexes, indegrees)\n",
    "\n",
    "print len(index_indegree)\n",
    "print len(index_indegree_unique)"
   ]
  },
  {
   "cell_type": "code",
   "execution_count": null,
   "metadata": {
    "collapsed": false
   },
   "outputs": [],
   "source": [
    "rank_diff = 0\n",
    "sorted_by_prob = sorted(index_prob_unique, key=lambda tup: tup[1], reverse=True)\n",
    "sorted_by_indegree = sorted(index_indegree_unique, key=lambda tup: tup[1], reverse=True)\n",
    "for i in range(0,len(sorted_by_prob)):\n",
    "    rank_diff += abs(sorted_by_prob[i][0]-sorted_by_indegree[i][0])\n",
    "print rank_diff"
   ]
  },
  {
   "cell_type": "code",
   "execution_count": 1,
   "metadata": {
    "collapsed": true
   },
   "outputs": [],
   "source": [
    "a = [1,2,3,4]"
   ]
  },
  {
   "cell_type": "code",
   "execution_count": 6,
   "metadata": {
    "collapsed": false
   },
   "outputs": [],
   "source": [
    "a = (1,2,3)"
   ]
  },
  {
   "cell_type": "code",
   "execution_count": 7,
   "metadata": {
    "collapsed": false
   },
   "outputs": [
    {
     "data": {
      "text/plain": [
       "1"
      ]
     },
     "execution_count": 7,
     "metadata": {},
     "output_type": "execute_result"
    }
   ],
   "source": [
    "a[0]"
   ]
  },
  {
   "cell_type": "code",
   "execution_count": null,
   "metadata": {
    "collapsed": true
   },
   "outputs": [],
   "source": []
  }
 ],
 "metadata": {
  "anaconda-cloud": {},
  "kernelspec": {
   "display_name": "Python [Root]",
   "language": "python",
   "name": "Python [Root]"
  },
  "language_info": {
   "codemirror_mode": {
    "name": "ipython",
    "version": 2
   },
   "file_extension": ".py",
   "mimetype": "text/x-python",
   "name": "python",
   "nbconvert_exporter": "python",
   "pygments_lexer": "ipython2",
   "version": "2.7.12"
  }
 },
 "nbformat": 4,
 "nbformat_minor": 0
}
