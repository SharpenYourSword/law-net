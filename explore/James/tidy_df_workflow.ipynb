{
 "cells": [
  {
   "cell_type": "code",
   "execution_count": 1,
   "metadata": {
    "collapsed": true
   },
   "outputs": [],
   "source": [
    "import sys\n",
    "\n",
    "sys.path.append('../../code/')\n",
    "import os\n",
    "import json\n",
    "from datetime import datetime\n",
    "import time\n",
    "from math import *\n",
    "\n",
    "import numpy as np\n",
    "import pandas as pd\n",
    "import matplotlib.pyplot as plt\n",
    "import scipy.stats as stats\n",
    "\n",
    "import igraph as ig\n",
    "\n",
    "from collections import *\n",
    "\n",
    "from load_data import load_citation_network_igraph, case_info\n",
    "\n",
    "%load_ext autoreload\n",
    "%autoreload 2\n",
    "%matplotlib inline\n",
    "\n",
    "data_dir = '../../data/'\n",
    "court_name = 'scotus'\n",
    "\n",
    "# %load ../standard_import.txt\n",
    "from __future__ import division\n",
    "import matplotlib as mpl\n",
    "\n",
    "pd.set_option('display.notebook_repr_html', False)\n",
    "\n",
    "%matplotlib inline\n",
    "plt.style.use('seaborn-white')"
   ]
  },
  {
   "cell_type": "markdown",
   "metadata": {},
   "source": [
    "# Definitions to manipulate the Tidy Dataframe"
   ]
  },
  {
   "cell_type": "code",
   "execution_count": 2,
   "metadata": {
    "collapsed": true
   },
   "outputs": [],
   "source": [
    "#takes in a df and randomly samples it so new df will include all present edges and an equal number of missing edges\n",
    "def make_random_subset_df(df):\n",
    "    time1 = time.time()\n",
    "    #gets a dataframe of just present edges (df1)\n",
    "    df1 = df[df['edge'] == 1]\n",
    "    #gets a dataframe of just missing edges (df0)\n",
    "    df0 = df[df['edge'] == 0]\n",
    "    #determines the fraction of df0 that will equal len(df1)\n",
    "    frac_val = len(df1)/len(df0)\n",
    "    #randomly take a subset of df0\n",
    "    df0_random_subset = df0.sample(frac=frac_val, replace=False)\n",
    "    \n",
    "    #combines df1 and df0 to make dataframe subset\n",
    "    df_subset = df1.append(df0_random_subset, ignore_index=True)\n",
    "    \n",
    "    time2 = time.time()\n",
    "    print \"This took \" + str(time2-time1) + \" seconds\"\n",
    "    return df_subset"
   ]
  },
  {
   "cell_type": "code",
   "execution_count": 3,
   "metadata": {
    "collapsed": true
   },
   "outputs": [],
   "source": [
    "#adds cited indegree column to a df bsaed on graph G\n",
    "def add_cited_indegree(df, G):\n",
    "    time1 = time.time()\n",
    "    #get column of indices to be used as references for the indegree list\n",
    "    igraph_indices = df['cited_index']\n",
    "    #get indegree list\n",
    "    indegree = G.indegree()\n",
    "    #adds the indegree value to the list in the index that corresponds to the dataframe\n",
    "    new_column = []\n",
    "    for i in range(0,len(igraph_indices)):\n",
    "        new_column.append(indegree[igraph_indices[i]])\n",
    "    #add that new column\n",
    "    df['cited_indegree'] = new_column\n",
    "    time2 = time.time()\n",
    "    print \"This took \" + str(time2-time1) + \" seconds\"\n",
    "    return df"
   ]
  },
  {
   "cell_type": "code",
   "execution_count": 12,
   "metadata": {
    "collapsed": true
   },
   "outputs": [],
   "source": [
    "def add_cited_pagerank(df, G):\n",
    "    time1 = time.time()\n",
    "    #get column of indices to be used as references for the indegree list\n",
    "    igraph_indices = df['cited_index']\n",
    "    #get pagerank list\n",
    "    pagerank = G.pagerank()\n",
    "    #adds the pagerank value to the list in the index that corresponds to the dataframe\n",
    "    new_column = []\n",
    "    for i in range(0,len(igraph_indices)):\n",
    "        new_column.append(pagerank[igraph_indices[i]])\n",
    "    #add that new column\n",
    "    df['pagerank'] = new_column\n",
    "    time2 = time.time()\n",
    "    print \"This took \" + str(time2-time1) + \" seconds\"\n",
    "    return df"
   ]
  },
  {
   "cell_type": "markdown",
   "metadata": {},
   "source": [
    "# Load Graph and Tidy Dataframe"
   ]
  },
  {
   "cell_type": "code",
   "execution_count": 5,
   "metadata": {
    "collapsed": false
   },
   "outputs": [
    {
     "name": "stdout",
     "output_type": "stream",
     "text": [
      "0 seconds for 250465 edges\n",
      "loaded scotus network with 33248 cases and 250465 edges\n"
     ]
    }
   ],
   "source": [
    "G = load_citation_network_igraph(data_dir, court_name)\n",
    "print 'loaded %s network with %d cases and %d edges' % (court_name, len(G.vs), len(G.es))"
   ]
  },
  {
   "cell_type": "code",
   "execution_count": 6,
   "metadata": {
    "collapsed": false
   },
   "outputs": [],
   "source": [
    "df = pd.read_csv('http://localhost:8888/notebooks/law-net/explore/James/1900_scotus_tidy.csv', index_col=0)"
   ]
  },
  {
   "cell_type": "code",
   "execution_count": 7,
   "metadata": {
    "collapsed": false,
    "scrolled": true
   },
   "outputs": [
    {
     "name": "stdout",
     "output_type": "stream",
     "text": [
      "          edge  citing_index  cited_index  citing_year  cited_year\n",
      "0            0           467          469         1760        1759\n",
      "1            0           470          469         1760        1759\n",
      "2            0           471          470         1763        1760\n",
      "3            0           471          467         1763        1760\n",
      "4            0           471          469         1763        1759\n",
      "5            0           271          471         1764        1763\n",
      "6            0           271          470         1764        1760\n",
      "7            0           271          467         1764        1760\n",
      "8            0           271          469         1764        1759\n",
      "9            0           472          471         1764        1763\n",
      "10           0           472          470         1764        1760\n",
      "11           0           472          467         1764        1760\n",
      "12           0           472          469         1764        1759\n",
      "13           0           473          471         1764        1763\n",
      "14           0           473          470         1764        1760\n",
      "15           0           473          467         1764        1760\n",
      "16           0           473          469         1764        1759\n",
      "17           0           520          473         1766        1764\n",
      "18           0           520          472         1766        1764\n",
      "19           0           520          271         1766        1764\n",
      "20           0           520          471         1766        1763\n",
      "21           0           520          470         1766        1760\n",
      "22           0           520          467         1766        1760\n",
      "23           0           520          469         1766        1759\n",
      "24           0           238          520         1768        1766\n",
      "25           0           238          473         1768        1764\n",
      "26           0           238          472         1768        1764\n",
      "27           0           238          271         1768        1764\n",
      "28           0           238          471         1768        1763\n",
      "29           0           238          470         1768        1760\n",
      "...        ...           ...          ...          ...         ...\n",
      "56008973     0         10675          117         1900        1782\n",
      "56008974     0         10675          113         1900        1782\n",
      "56008975     0         10675          522         1900        1781\n",
      "56008976     0         10675          521         1900        1781\n",
      "56008977     0         10675          510         1900        1781\n",
      "56008978     0         10675          509         1900        1781\n",
      "56008979     0         10675          484         1900        1781\n",
      "56008980     0         10675          480         1900        1781\n",
      "56008981     0         10675          263         1900        1781\n",
      "56008982     0         10675          479         1900        1780\n",
      "56008983     0         10675          478         1900        1780\n",
      "56008984     0         10675          273         1900        1780\n",
      "56008985     0         10675          477         1900        1778\n",
      "56008986     0         10675          281         1900        1778\n",
      "56008987     0         10675          278         1900        1778\n",
      "56008988     0         10675          270         1900        1776\n",
      "56008989     0         10675          476         1900        1773\n",
      "56008990     0         10675          475         1900        1773\n",
      "56008991     0         10675          259         1900        1773\n",
      "56008992     0         10675          474         1900        1768\n",
      "56008993     0         10675          253         1900        1768\n",
      "56008994     0         10675          238         1900        1768\n",
      "56008995     0         10675          520         1900        1766\n",
      "56008996     0         10675          473         1900        1764\n",
      "56008997     0         10675          472         1900        1764\n",
      "56008998     0         10675          271         1900        1764\n",
      "56008999     0         10675          471         1900        1763\n",
      "56009000     0         10675          470         1900        1760\n",
      "56009001     0         10675          467         1900        1760\n",
      "56009002     0         10675          469         1900        1759\n",
      "\n",
      "[56009003 rows x 5 columns]\n"
     ]
    }
   ],
   "source": [
    "print df"
   ]
  },
  {
   "cell_type": "markdown",
   "metadata": {},
   "source": [
    "# Manipulate Tidy Dataframe"
   ]
  },
  {
   "cell_type": "markdown",
   "metadata": {},
   "source": [
    "__Make Subset Dataframe__"
   ]
  },
  {
   "cell_type": "code",
   "execution_count": 8,
   "metadata": {
    "collapsed": false,
    "scrolled": true
   },
   "outputs": [
    {
     "name": "stdout",
     "output_type": "stream",
     "text": [
      "This took 8.6740000248 seconds\n",
      "       edge  citing_index  cited_index  citing_year  cited_year\n",
      "0         1           969          964         1817        1816\n",
      "1         1           980          958         1817        1816\n",
      "2         1           994          955         1817        1816\n",
      "3         1            57          978         1818        1817\n",
      "4         1          1004          955         1818        1816\n",
      "5         1          1015          961         1818        1816\n",
      "6         1          1020          966         1818        1817\n",
      "7         1          1029          992         1818        1817\n",
      "8         1          1033          955         1818        1816\n",
      "9         1          1035          948         1819        1816\n",
      "10        1          1039          161         1819        1816\n",
      "11        1          1044         1003         1819        1817\n",
      "12        1          1048          964         1819        1816\n",
      "13        1          1051          949         1819        1816\n",
      "14        1          1052          955         1819        1816\n",
      "15        1          1054          934         1819        1816\n",
      "16        1          1061          955         1820        1816\n",
      "17        1          1062          927         1820        1816\n",
      "18        1          1063          964         1820        1816\n",
      "19        1          1064          342         1820        1817\n",
      "20        1          1064          958         1820        1816\n",
      "21        1          1081          926         1821        1816\n",
      "22        1          1153          987         1823        1817\n",
      "23        1          1153          973         1823        1817\n",
      "24        1          1153          958         1823        1816\n",
      "25        1          1153          161         1823        1816\n",
      "26        1          1173          927         1824        1816\n",
      "27        1          1315         1270         1828        1827\n",
      "28        1          1317         1295         1828        1827\n",
      "29        1          1317         1131         1828        1822\n",
      "...     ...           ...          ...          ...         ...\n",
      "51006     0          5205         3189         1877        1864\n",
      "51007     0          5445         4643         1879        1876\n",
      "51008     0          1814          913         1839        1815\n",
      "51009     0          7168          181         1887        1851\n",
      "51010     0          9407         6601         1895        1884\n",
      "51011     0          4737          549         1876        1796\n",
      "51012     0          4098          774         1873        1810\n",
      "51013     0          1427          273         1830        1780\n",
      "51014     0          3047         1556         1861        1833\n",
      "51015     0          6882         3126         1885        1862\n",
      "51016     0          4328         1959         1873        1843\n",
      "51017     0          9182         7253         1894        1887\n",
      "51018     0          5546         4735         1880        1876\n",
      "51019     0          7800         7287         1889        1887\n",
      "51020     0          2448          220         1853        1799\n",
      "51021     0          1477          629         1831        1803\n",
      "51022     0         10158         7275         1898        1887\n",
      "51023     0          7715          954         1888        1816\n",
      "51024     0         10474         6580         1900        1884\n",
      "51025     0          7462         5947         1888        1882\n",
      "51026     0         10052         4575         1897        1875\n",
      "51027     0          3928         2009         1871        1845\n",
      "51028     0          5437         5178         1879        1878\n",
      "51029     0          5807         5108         1881        1878\n",
      "51030     0         10263         9890         1899        1897\n",
      "51031     0          4436         1500         1874        1832\n",
      "51032     0          5491           86         1880        1792\n",
      "51033     0          6976         1914         1886        1842\n",
      "51034     0          4356         1350         1874        1828\n",
      "51035     0           354          847         1827        1813\n",
      "\n",
      "[51036 rows x 5 columns]\n"
     ]
    }
   ],
   "source": [
    "#create a subset from tidy df\n",
    "subset_df = make_random_subset_df(df)\n",
    "print subset_df"
   ]
  },
  {
   "cell_type": "markdown",
   "metadata": {},
   "source": [
    "__Add Indegree Column__ "
   ]
  },
  {
   "cell_type": "code",
   "execution_count": 9,
   "metadata": {
    "collapsed": false
   },
   "outputs": [
    {
     "name": "stdout",
     "output_type": "stream",
     "text": [
      "This took 0.604000091553 seconds\n"
     ]
    }
   ],
   "source": [
    "subset_df_indegree = add_cited_indegree(subset_df, G)"
   ]
  },
  {
   "cell_type": "code",
   "execution_count": 10,
   "metadata": {
    "collapsed": false,
    "scrolled": true
   },
   "outputs": [
    {
     "name": "stdout",
     "output_type": "stream",
     "text": [
      "       edge  citing_index  cited_index  citing_year  cited_year  \\\n",
      "0         1           969          964         1817        1816   \n",
      "1         1           980          958         1817        1816   \n",
      "2         1           994          955         1817        1816   \n",
      "3         1            57          978         1818        1817   \n",
      "4         1          1004          955         1818        1816   \n",
      "5         1          1015          961         1818        1816   \n",
      "6         1          1020          966         1818        1817   \n",
      "7         1          1029          992         1818        1817   \n",
      "8         1          1033          955         1818        1816   \n",
      "9         1          1035          948         1819        1816   \n",
      "10        1          1039          161         1819        1816   \n",
      "11        1          1044         1003         1819        1817   \n",
      "12        1          1048          964         1819        1816   \n",
      "13        1          1051          949         1819        1816   \n",
      "14        1          1052          955         1819        1816   \n",
      "15        1          1054          934         1819        1816   \n",
      "16        1          1061          955         1820        1816   \n",
      "17        1          1062          927         1820        1816   \n",
      "18        1          1063          964         1820        1816   \n",
      "19        1          1064          342         1820        1817   \n",
      "20        1          1064          958         1820        1816   \n",
      "21        1          1081          926         1821        1816   \n",
      "22        1          1153          987         1823        1817   \n",
      "23        1          1153          973         1823        1817   \n",
      "24        1          1153          958         1823        1816   \n",
      "25        1          1153          161         1823        1816   \n",
      "26        1          1173          927         1824        1816   \n",
      "27        1          1315         1270         1828        1827   \n",
      "28        1          1317         1295         1828        1827   \n",
      "29        1          1317         1131         1828        1822   \n",
      "...     ...           ...          ...          ...         ...   \n",
      "51006     0          5205         3189         1877        1864   \n",
      "51007     0          5445         4643         1879        1876   \n",
      "51008     0          1814          913         1839        1815   \n",
      "51009     0          7168          181         1887        1851   \n",
      "51010     0          9407         6601         1895        1884   \n",
      "51011     0          4737          549         1876        1796   \n",
      "51012     0          4098          774         1873        1810   \n",
      "51013     0          1427          273         1830        1780   \n",
      "51014     0          3047         1556         1861        1833   \n",
      "51015     0          6882         3126         1885        1862   \n",
      "51016     0          4328         1959         1873        1843   \n",
      "51017     0          9182         7253         1894        1887   \n",
      "51018     0          5546         4735         1880        1876   \n",
      "51019     0          7800         7287         1889        1887   \n",
      "51020     0          2448          220         1853        1799   \n",
      "51021     0          1477          629         1831        1803   \n",
      "51022     0         10158         7275         1898        1887   \n",
      "51023     0          7715          954         1888        1816   \n",
      "51024     0         10474         6580         1900        1884   \n",
      "51025     0          7462         5947         1888        1882   \n",
      "51026     0         10052         4575         1897        1875   \n",
      "51027     0          3928         2009         1871        1845   \n",
      "51028     0          5437         5178         1879        1878   \n",
      "51029     0          5807         5108         1881        1878   \n",
      "51030     0         10263         9890         1899        1897   \n",
      "51031     0          4436         1500         1874        1832   \n",
      "51032     0          5491           86         1880        1792   \n",
      "51033     0          6976         1914         1886        1842   \n",
      "51034     0          4356         1350         1874        1828   \n",
      "51035     0           354          847         1827        1813   \n",
      "\n",
      "       cited_indegree  \n",
      "0                  20  \n",
      "1                  13  \n",
      "2                  14  \n",
      "3                   7  \n",
      "4                  14  \n",
      "5                   0  \n",
      "6                  43  \n",
      "7                   0  \n",
      "8                  14  \n",
      "9                   9  \n",
      "10                  9  \n",
      "11                  0  \n",
      "12                 20  \n",
      "13                  5  \n",
      "14                 14  \n",
      "15                  9  \n",
      "16                 14  \n",
      "17                  4  \n",
      "18                 20  \n",
      "19                  2  \n",
      "20                 13  \n",
      "21                 10  \n",
      "22                  0  \n",
      "23                 28  \n",
      "24                 13  \n",
      "25                  9  \n",
      "26                  4  \n",
      "27                  5  \n",
      "28                  0  \n",
      "29                 44  \n",
      "...               ...  \n",
      "51006              42  \n",
      "51007              16  \n",
      "51008               2  \n",
      "51009               2  \n",
      "51010               1  \n",
      "51011               0  \n",
      "51012               1  \n",
      "51013              27  \n",
      "51014              30  \n",
      "51015               2  \n",
      "51016               0  \n",
      "51017               5  \n",
      "51018               4  \n",
      "51019               2  \n",
      "51020               5  \n",
      "51021               3  \n",
      "51022              14  \n",
      "51023              16  \n",
      "51024               0  \n",
      "51025              10  \n",
      "51026               1  \n",
      "51027               1  \n",
      "51028               2  \n",
      "51029              12  \n",
      "51030               1  \n",
      "51031               0  \n",
      "51032               6  \n",
      "51033               3  \n",
      "51034               4  \n",
      "51035               2  \n",
      "\n",
      "[51036 rows x 6 columns]\n"
     ]
    }
   ],
   "source": [
    "print subset_df_indegree"
   ]
  },
  {
   "cell_type": "markdown",
   "metadata": {},
   "source": [
    "__Add Pagerank Column__"
   ]
  },
  {
   "cell_type": "code",
   "execution_count": 13,
   "metadata": {
    "collapsed": false
   },
   "outputs": [
    {
     "name": "stdout",
     "output_type": "stream",
     "text": [
      "This took 0.883000135422 seconds\n"
     ]
    }
   ],
   "source": [
    "subset_df_indegree_pagerank = add_cited_pagerank(subset_df_indegree, G)"
   ]
  },
  {
   "cell_type": "code",
   "execution_count": 14,
   "metadata": {
    "collapsed": false,
    "scrolled": true
   },
   "outputs": [
    {
     "name": "stdout",
     "output_type": "stream",
     "text": [
      "       edge  citing_index  cited_index  citing_year  cited_year  \\\n",
      "0         1           969          964         1817        1816   \n",
      "1         1           980          958         1817        1816   \n",
      "2         1           994          955         1817        1816   \n",
      "3         1            57          978         1818        1817   \n",
      "4         1          1004          955         1818        1816   \n",
      "5         1          1015          961         1818        1816   \n",
      "6         1          1020          966         1818        1817   \n",
      "7         1          1029          992         1818        1817   \n",
      "8         1          1033          955         1818        1816   \n",
      "9         1          1035          948         1819        1816   \n",
      "10        1          1039          161         1819        1816   \n",
      "11        1          1044         1003         1819        1817   \n",
      "12        1          1048          964         1819        1816   \n",
      "13        1          1051          949         1819        1816   \n",
      "14        1          1052          955         1819        1816   \n",
      "15        1          1054          934         1819        1816   \n",
      "16        1          1061          955         1820        1816   \n",
      "17        1          1062          927         1820        1816   \n",
      "18        1          1063          964         1820        1816   \n",
      "19        1          1064          342         1820        1817   \n",
      "20        1          1064          958         1820        1816   \n",
      "21        1          1081          926         1821        1816   \n",
      "22        1          1153          987         1823        1817   \n",
      "23        1          1153          973         1823        1817   \n",
      "24        1          1153          958         1823        1816   \n",
      "25        1          1153          161         1823        1816   \n",
      "26        1          1173          927         1824        1816   \n",
      "27        1          1315         1270         1828        1827   \n",
      "28        1          1317         1295         1828        1827   \n",
      "29        1          1317         1131         1828        1822   \n",
      "...     ...           ...          ...          ...         ...   \n",
      "51006     0          5205         3189         1877        1864   \n",
      "51007     0          5445         4643         1879        1876   \n",
      "51008     0          1814          913         1839        1815   \n",
      "51009     0          7168          181         1887        1851   \n",
      "51010     0          9407         6601         1895        1884   \n",
      "51011     0          4737          549         1876        1796   \n",
      "51012     0          4098          774         1873        1810   \n",
      "51013     0          1427          273         1830        1780   \n",
      "51014     0          3047         1556         1861        1833   \n",
      "51015     0          6882         3126         1885        1862   \n",
      "51016     0          4328         1959         1873        1843   \n",
      "51017     0          9182         7253         1894        1887   \n",
      "51018     0          5546         4735         1880        1876   \n",
      "51019     0          7800         7287         1889        1887   \n",
      "51020     0          2448          220         1853        1799   \n",
      "51021     0          1477          629         1831        1803   \n",
      "51022     0         10158         7275         1898        1887   \n",
      "51023     0          7715          954         1888        1816   \n",
      "51024     0         10474         6580         1900        1884   \n",
      "51025     0          7462         5947         1888        1882   \n",
      "51026     0         10052         4575         1897        1875   \n",
      "51027     0          3928         2009         1871        1845   \n",
      "51028     0          5437         5178         1879        1878   \n",
      "51029     0          5807         5108         1881        1878   \n",
      "51030     0         10263         9890         1899        1897   \n",
      "51031     0          4436         1500         1874        1832   \n",
      "51032     0          5491           86         1880        1792   \n",
      "51033     0          6976         1914         1886        1842   \n",
      "51034     0          4356         1350         1874        1828   \n",
      "51035     0           354          847         1827        1813   \n",
      "\n",
      "       cited_indegree  pagerank  \n",
      "0                  20  0.000044  \n",
      "1                  13  0.000023  \n",
      "2                  14  0.000030  \n",
      "3                   7  0.000020  \n",
      "4                  14  0.000030  \n",
      "5                   0  0.000010  \n",
      "6                  43  0.000165  \n",
      "7                   0  0.000010  \n",
      "8                  14  0.000030  \n",
      "9                   9  0.000036  \n",
      "10                  9  0.000037  \n",
      "11                  0  0.000010  \n",
      "12                 20  0.000044  \n",
      "13                  5  0.000019  \n",
      "14                 14  0.000030  \n",
      "15                  9  0.000025  \n",
      "16                 14  0.000030  \n",
      "17                  4  0.000024  \n",
      "18                 20  0.000044  \n",
      "19                  2  0.000011  \n",
      "20                 13  0.000023  \n",
      "21                 10  0.000047  \n",
      "22                  0  0.000010  \n",
      "23                 28  0.000042  \n",
      "24                 13  0.000023  \n",
      "25                  9  0.000037  \n",
      "26                  4  0.000024  \n",
      "27                  5  0.000017  \n",
      "28                  0  0.000010  \n",
      "29                 44  0.000071  \n",
      "...               ...       ...  \n",
      "51006              42  0.000121  \n",
      "51007              16  0.000034  \n",
      "51008               2  0.000013  \n",
      "51009               2  0.000020  \n",
      "51010               1  0.000012  \n",
      "51011               0  0.000010  \n",
      "51012               1  0.000013  \n",
      "51013              27  0.000085  \n",
      "51014              30  0.000053  \n",
      "51015               2  0.000012  \n",
      "51016               0  0.000010  \n",
      "51017               5  0.000021  \n",
      "51018               4  0.000017  \n",
      "51019               2  0.000012  \n",
      "51020               5  0.000025  \n",
      "51021               3  0.000018  \n",
      "51022              14  0.000037  \n",
      "51023              16  0.000041  \n",
      "51024               0  0.000010  \n",
      "51025              10  0.000023  \n",
      "51026               1  0.000012  \n",
      "51027               1  0.000018  \n",
      "51028               2  0.000012  \n",
      "51029              12  0.000030  \n",
      "51030               1  0.000013  \n",
      "51031               0  0.000010  \n",
      "51032               6  0.000023  \n",
      "51033               3  0.000014  \n",
      "51034               4  0.000026  \n",
      "51035               2  0.000012  \n",
      "\n",
      "[51036 rows x 7 columns]\n"
     ]
    }
   ],
   "source": [
    "print subset_df_indegree_pagerank"
   ]
  },
  {
   "cell_type": "code",
   "execution_count": null,
   "metadata": {
    "collapsed": true
   },
   "outputs": [],
   "source": []
  }
 ],
 "metadata": {
  "anaconda-cloud": {},
  "kernelspec": {
   "display_name": "Python [Root]",
   "language": "python",
   "name": "Python [Root]"
  },
  "language_info": {
   "codemirror_mode": {
    "name": "ipython",
    "version": 2
   },
   "file_extension": ".py",
   "mimetype": "text/x-python",
   "name": "python",
   "nbconvert_exporter": "python",
   "pygments_lexer": "ipython2",
   "version": "2.7.12"
  }
 },
 "nbformat": 4,
 "nbformat_minor": 0
}
