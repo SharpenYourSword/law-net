{
 "cells": [
  {
   "cell_type": "code",
   "execution_count": 3,
   "metadata": {
    "collapsed": false
   },
   "outputs": [
    {
     "name": "stdout",
     "output_type": "stream",
     "text": [
      "The autoreload extension is already loaded. To reload it, use:\n",
      "  %reload_ext autoreload\n"
     ]
    }
   ],
   "source": [
    "import sys\n",
    "\n",
    "sys.path.append('../../code/')\n",
    "import os\n",
    "import json\n",
    "from datetime import datetime\n",
    "import time\n",
    "from math import *\n",
    "\n",
    "import numpy as np\n",
    "import pandas as pd\n",
    "import matplotlib.pyplot as plt\n",
    "import scipy.stats as stats\n",
    "\n",
    "import igraph as ig\n",
    "\n",
    "import random as random\n",
    "\n",
    "from collections import *\n",
    "\n",
    "from load_data import load_citation_network_igraph, case_info\n",
    "\n",
    "import sklearn.linear_model as skl_lm\n",
    "from sklearn.discriminant_analysis import LinearDiscriminantAnalysis\n",
    "from sklearn.discriminant_analysis import QuadraticDiscriminantAnalysis\n",
    "from sklearn.metrics import confusion_matrix, classification_report, precision_score, log_loss\n",
    "from sklearn import preprocessing\n",
    "from sklearn import neighbors\n",
    "\n",
    "\n",
    "%load_ext autoreload\n",
    "%autoreload 2\n",
    "%matplotlib inline\n",
    "\n",
    "data_dir = '../../data/'\n",
    "court_name = 'scotus'\n",
    "\n",
    "# %load ../standard_import.txt\n",
    "from __future__ import division\n",
    "import matplotlib as mpl\n",
    "\n",
    "pd.set_option('display.notebook_repr_html', False)\n",
    "\n",
    "%matplotlib inline\n",
    "plt.style.use('seaborn-white')"
   ]
  },
  {
   "cell_type": "code",
   "execution_count": 4,
   "metadata": {
    "collapsed": true
   },
   "outputs": [],
   "source": [
    "def fit_logistic_regression(path_to_edge_data_frame, columns_to_use):\n",
    "    '''\n",
    "    Fits our logistic regression model. Any data you need for logistic regression should be in the edge data frame\n",
    "\n",
    "    Parameters\n",
    "    ------------\n",
    "    path_to_edge_data_frame:\n",
    "\n",
    "    columns_to_use: list of column names of edge metrics data frame that we should use to fit logistic regression\n",
    "\n",
    "    Output\n",
    "    ------\n",
    "    returns a logistic regression object \n",
    "    '''\n",
    "    #set up training data\n",
    "    df = pd.read_csv(path_to_edge_data_frame, index_col=0)\n",
    "    y_train = df['edge']\n",
    "    x_train = df[columns_to_use]\n",
    "\n",
    "    #calculate logistical regression\n",
    "    clf = skl_lm.LogisticRegression(solver='newton-cg')\n",
    "    clf.fit(x_train, y_train)\n",
    "    return clf"
   ]
  },
  {
   "cell_type": "markdown",
   "metadata": {},
   "source": [
    "Testing above defs"
   ]
  },
  {
   "cell_type": "code",
   "execution_count": 6,
   "metadata": {
    "collapsed": false
   },
   "outputs": [],
   "source": [
    "path_to_edge_data_frame = 'C:\\\\Research\\\\law-net\\\\explore\\\\James\\\\edge_data.csv'\n",
    "columns_to_use = ['indegree','pagerank']\n",
    "logreg = fit_logistic_regression(path_to_edge_data_frame, columns_to_use)"
   ]
  },
  {
   "cell_type": "code",
   "execution_count": 7,
   "metadata": {
    "collapsed": false
   },
   "outputs": [
    {
     "data": {
      "text/plain": [
       "LogisticRegression(C=1.0, class_weight=None, dual=False, fit_intercept=True,\n",
       "          intercept_scaling=1, max_iter=100, multi_class='ovr', n_jobs=1,\n",
       "          penalty='l2', random_state=None, solver='newton-cg', tol=0.0001,\n",
       "          verbose=0, warm_start=False)"
      ]
     },
     "execution_count": 7,
     "metadata": {},
     "output_type": "execute_result"
    }
   ],
   "source": [
    "logreg"
   ]
  },
  {
   "cell_type": "code",
   "execution_count": null,
   "metadata": {
    "collapsed": true
   },
   "outputs": [],
   "source": []
  }
 ],
 "metadata": {
  "anaconda-cloud": {},
  "kernelspec": {
   "display_name": "Python [Root]",
   "language": "python",
   "name": "Python [Root]"
  },
  "language_info": {
   "codemirror_mode": {
    "name": "ipython",
    "version": 2
   },
   "file_extension": ".py",
   "mimetype": "text/x-python",
   "name": "python",
   "nbconvert_exporter": "python",
   "pygments_lexer": "ipython2",
   "version": "2.7.12"
  }
 },
 "nbformat": 4,
 "nbformat_minor": 0
}
