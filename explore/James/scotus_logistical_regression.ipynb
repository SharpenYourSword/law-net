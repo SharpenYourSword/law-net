{
 "cells": [
  {
   "cell_type": "code",
   "execution_count": 12,
   "metadata": {
    "collapsed": false
   },
   "outputs": [
    {
     "name": "stdout",
     "output_type": "stream",
     "text": [
      "The autoreload extension is already loaded. To reload it, use:\n",
      "  %reload_ext autoreload\n"
     ]
    }
   ],
   "source": [
    "import sys\n",
    "\n",
    "sys.path.append('../../code/')\n",
    "import os\n",
    "import json\n",
    "from datetime import datetime\n",
    "import time\n",
    "from math import *\n",
    "\n",
    "import numpy as np\n",
    "import pandas as pd\n",
    "import matplotlib.pyplot as plt\n",
    "import scipy.stats as stats\n",
    "\n",
    "import igraph as ig\n",
    "\n",
    "from collections import *\n",
    "\n",
    "from load_data import load_citation_network_igraph, case_info\n",
    "\n",
    "%load_ext autoreload\n",
    "%autoreload 2\n",
    "%matplotlib inline\n",
    "\n",
    "data_dir = '../../data/'\n",
    "court_name = 'scotus'\n",
    "\n",
    "# %load ../standard_import.txt\n",
    "from __future__ import division\n",
    "import matplotlib as mpl\n",
    "#import seaborn as sns\n",
    "\n",
    "import sklearn.linear_model as skl_lm\n",
    "from sklearn.discriminant_analysis import LinearDiscriminantAnalysis\n",
    "from sklearn.discriminant_analysis import QuadraticDiscriminantAnalysis\n",
    "from sklearn.metrics import confusion_matrix, classification_report, precision_score, log_loss\n",
    "from sklearn import preprocessing\n",
    "from sklearn import neighbors\n",
    "\n",
    "import statsmodels.api as sm\n",
    "import statsmodels.formula.api as smf\n",
    "\n",
    "pd.set_option('display.notebook_repr_html', False)\n",
    "\n",
    "%matplotlib inline\n",
    "plt.style.use('seaborn-white')"
   ]
  },
  {
   "cell_type": "code",
   "execution_count": 13,
   "metadata": {
    "collapsed": false
   },
   "outputs": [
    {
     "name": "stdout",
     "output_type": "stream",
     "text": [
      "0 seconds for 250465 edges\n",
      "loaded scotus network with 33248 cases and 250465 edges\n"
     ]
    }
   ],
   "source": [
    "G = load_citation_network_igraph(data_dir, court_name)\n",
    "print 'loaded %s network with %d cases and %d edges' % (court_name, len(G.vs), len(G.es))"
   ]
  },
  {
   "cell_type": "code",
   "execution_count": 14,
   "metadata": {
    "collapsed": false
   },
   "outputs": [
    {
     "name": "stdout",
     "output_type": "stream",
     "text": [
      "IGRAPH DN-- 9732 53812 -- \n",
      "+ attr: court (v), name (v), year (v)\n",
      "None\n"
     ]
    }
   ],
   "source": [
    "#create a sub-network of cases to reduce runtime\n",
    "sub_vs = G.vs.select(year_lt=1951)\n",
    "sub_vs = sub_vs.select(year_gt=1899)\n",
    "sub_G = G.subgraph(sub_vs)\n",
    "print ig.summary(sub_G)"
   ]
  },
  {
   "cell_type": "code",
   "execution_count": 15,
   "metadata": {
    "collapsed": false
   },
   "outputs": [
    {
     "name": "stdout",
     "output_type": "stream",
     "text": [
      "this took 0.108000040054 seconds\n"
     ]
    }
   ],
   "source": [
    "time1 = time.time()\n",
    "#get lists of statistics for all cases\n",
    "indegrees = sub_G.indegree()\n",
    "pageranks = sub_G.pagerank()\n",
    "\n",
    "#fill a list of cases with required info that will be sorted by year\n",
    "case_tuples = []\n",
    "for vertex in sub_G.vs:\n",
    "    index = vertex.index\n",
    "    neighbors = sub_G.neighbors(index, mode='OUT')\n",
    "    year = vertex[\"year\"]\n",
    "    indegree = indegrees[index]\n",
    "    pagerank = pageranks[index]\n",
    "    case_tuple = (index, neighbors, year, indegree, pagerank)\n",
    "    case_tuples.append(case_tuple)\n",
    "\n",
    "#sort the list of cases by year\n",
    "sorted_case_tuples = sorted(case_tuples, key=lambda x: x[2])\n",
    "\n",
    "time2 = time.time()\n",
    "print \"this took \" + str(time2-time1) + \" seconds\""
   ]
  },
  {
   "cell_type": "code",
   "execution_count": 16,
   "metadata": {
    "collapsed": false
   },
   "outputs": [
    {
     "name": "stdout",
     "output_type": "stream",
     "text": [
      "number of vertices: 9732\n",
      "number of edges: 53539\n",
      "number of possible edges: 46371296\n",
      "this took 849.819999933 seconds\n"
     ]
    }
   ],
   "source": [
    "time1 = time.time()\n",
    "#uses the list of case tuples to fill a list of (all possible) edge tuples with approriate information\n",
    "#currently does not include cases with the same year (so it is an approximation)\n",
    "edge_count = 0\n",
    "edge_tuples = []\n",
    "\n",
    "#go down the list of cases, then create possible edges by going back up the list\n",
    "#(since only cases with a lower year can be possibly cited)\n",
    "for i in range(0,len(sorted_case_tuples)):\n",
    "    citing_case = sorted_case_tuples[i]\n",
    "    citing_index = citing_case[0]\n",
    "    neighbors = citing_case[1]\n",
    "    citing_year = citing_case[2]\n",
    "    for j in range(i,0,-1):\n",
    "        cited_case = sorted_case_tuples[j]\n",
    "        cited_index = cited_case[0]\n",
    "        cited_year = cited_case[2]\n",
    "        \n",
    "        time_difference = citing_year - cited_year\n",
    "        cited_indegree = cited_case[3]\n",
    "        cited_pagerank = cited_case[4]\n",
    "        #if one of the out-edges of the citing case points to the (possible) cited case, then an edge is there (1)\n",
    "        if cited_index in neighbors:\n",
    "            edge = 1\n",
    "            edge_count += 1\n",
    "        else:\n",
    "            edge = 0\n",
    "        \n",
    "        edge_tuple = (citing_index, cited_index, time_difference, cited_indegree, cited_pagerank, edge)\n",
    "        if not time_difference == 0:\n",
    "            edge_tuples.append(edge_tuple)\n",
    "\n",
    "print \"number of vertices: \" + str(len(sorted_case_tuples))\n",
    "print \"number of edges: \" + str(edge_count)\n",
    "print \"number of possible edges: \" + str(len(edge_tuples))\n",
    "time2 = time.time()\n",
    "print \"this took \" + str(time2-time1) + \" seconds\""
   ]
  },
  {
   "cell_type": "code",
   "execution_count": null,
   "metadata": {
    "collapsed": false
   },
   "outputs": [],
   "source": [
    "'''\n",
    "time1 = time.time()\n",
    "scotus_adjacency = sub_G.get_adjacency()\n",
    "time2 = time.time()\n",
    "print \"this took \" + str(time2-time1) + \" seconds\"\n",
    "\n",
    "time1 = time.time()\n",
    "number_of_edges = 0\n",
    "edge_tuples_from_adj = []\n",
    "for i in range(0,scotus_adjacency.shape[1]):\n",
    "    for j in range(0,scotus_adjacency.shape[1]):\n",
    "        citing_index = i\n",
    "        cited_index = j\n",
    "        time_diff = sub_G.vs[i][\"year\"]-sub_G.vs[j][\"year\"]\n",
    "        cited_indegree = sub_G.vs[j].indegree()\n",
    "        edge = scotus_adjacency[i,j]\n",
    "        edge_tuple = (citing_index, cited_index, time_diff, cited_indegree, edge)\n",
    "        if edge == 1:\n",
    "            number_of_edges += 1\n",
    "        if not i==j and time_diff >= 0:\n",
    "            edge_tuples_from_adj.append(edge_tuple)\n",
    "print \"number of edges: \" + str(number_of_edges)\n",
    "print \"number of possible edges: \" + str(len(edge_tuples_from_adj))\n",
    "time2 = time.time()\n",
    "print \"this took \" + str(time2-time1) + \" seconds\"\n",
    "\n",
    "time1 = time.time()\n",
    "list_of_column_names = [\"citing index\",\"cited index\", \"time difference\", \"cited indegree\", \"edge\"]\n",
    "df = pd.DataFrame(edge_tuples_from_adj, columns=list_of_column_names)\n",
    "print df\n",
    "time2 = time.time()\n",
    "print \"this took \" + str(time2-time1) + \" seconds\"\n",
    "'''"
   ]
  },
  {
   "cell_type": "code",
   "execution_count": 17,
   "metadata": {
    "collapsed": false
   },
   "outputs": [
    {
     "name": "stdout",
     "output_type": "stream",
     "text": [
      "          citing index  cited index  time difference  cited indegree  \\\n",
      "0                 4741         5260                1               0   \n",
      "1                 4741         5208                1              22   \n",
      "2                 4741         5184                1               0   \n",
      "3                 4741         5183                1               2   \n",
      "4                 4741         5182                1               2   \n",
      "5                 4741         5181                1              13   \n",
      "6                 4741         5180                1               6   \n",
      "7                 4741         5179                1              23   \n",
      "8                 4741         5178                1               0   \n",
      "9                 4741         5177                1               5   \n",
      "10                4741         5176                1               0   \n",
      "11                4741         5175                1               0   \n",
      "12                4741         5174                1               0   \n",
      "13                4741         5173                1              28   \n",
      "14                4741         5172                1               6   \n",
      "15                4741         5171                1               1   \n",
      "16                4741         5170                1               3   \n",
      "17                4741         5169                1              14   \n",
      "18                4741         5168                1               5   \n",
      "19                4741         5167                1               5   \n",
      "20                4741         5166                1               2   \n",
      "21                4741         5165                1               2   \n",
      "22                4741         5164                1               2   \n",
      "23                4741         5163                1               2   \n",
      "24                4741         5162                1              32   \n",
      "25                4741         5161                1               6   \n",
      "26                4741         5160                1              21   \n",
      "27                4741         5159                1               3   \n",
      "28                4741         5158                1              16   \n",
      "29                4741         5157                1               1   \n",
      "...                ...          ...              ...             ...   \n",
      "46371266          4961         4987               50               0   \n",
      "46371267          4961         4986               50               7   \n",
      "46371268          4961         4985               50              27   \n",
      "46371269          4961         4984               50               1   \n",
      "46371270          4961         4983               50               1   \n",
      "46371271          4961         4982               50               2   \n",
      "46371272          4961         4981               50              16   \n",
      "46371273          4961         4980               50               0   \n",
      "46371274          4961         4979               50               0   \n",
      "46371275          4961         4978               50              12   \n",
      "46371276          4961         4977               50               6   \n",
      "46371277          4961         4976               50               9   \n",
      "46371278          4961         4975               50               2   \n",
      "46371279          4961         4974               50               1   \n",
      "46371280          4961         4973               50               5   \n",
      "46371281          4961         4972               50               9   \n",
      "46371282          4961         4971               50              17   \n",
      "46371283          4961         4970               50              13   \n",
      "46371284          4961         4969               50               3   \n",
      "46371285          4961         4968               50               7   \n",
      "46371286          4961         4967               50              12   \n",
      "46371287          4961         4966               50               1   \n",
      "46371288          4961         4965               50               7   \n",
      "46371289          4961         4964               50              26   \n",
      "46371290          4961         4963               50               3   \n",
      "46371291          4961         4962               50               0   \n",
      "46371292          4961         4840               50               5   \n",
      "46371293          4961         4839               50               1   \n",
      "46371294          4961         4838               50               1   \n",
      "46371295          4961         4785               50               0   \n",
      "\n",
      "          cited_pagerank  edge  \n",
      "0               0.000034     0  \n",
      "1               0.000844     0  \n",
      "2               0.000034     0  \n",
      "3               0.000071     0  \n",
      "4               0.000070     0  \n",
      "5               0.000310     0  \n",
      "6               0.000314     0  \n",
      "7               0.001984     0  \n",
      "8               0.000034     0  \n",
      "9               0.000109     0  \n",
      "10              0.000034     0  \n",
      "11              0.000034     0  \n",
      "12              0.000034     0  \n",
      "13              0.000574     0  \n",
      "14              0.000174     0  \n",
      "15              0.000058     0  \n",
      "16              0.000099     0  \n",
      "17              0.000296     0  \n",
      "18              0.000186     0  \n",
      "19              0.000086     0  \n",
      "20              0.000056     0  \n",
      "21              0.000169     0  \n",
      "22              0.000088     0  \n",
      "23              0.000110     0  \n",
      "24              0.001563     0  \n",
      "25              0.000098     0  \n",
      "26              0.000868     0  \n",
      "27              0.000219     0  \n",
      "28              0.000205     0  \n",
      "29              0.000041     0  \n",
      "...                  ...   ...  \n",
      "46371266        0.000034     0  \n",
      "46371267        0.000251     0  \n",
      "46371268        0.001692     0  \n",
      "46371269        0.000047     0  \n",
      "46371270        0.000038     0  \n",
      "46371271        0.000180     0  \n",
      "46371272        0.002112     0  \n",
      "46371273        0.000034     0  \n",
      "46371274        0.000034     0  \n",
      "46371275        0.003993     0  \n",
      "46371276        0.000263     0  \n",
      "46371277        0.000630     0  \n",
      "46371278        0.000068     0  \n",
      "46371279        0.000097     0  \n",
      "46371280        0.000217     0  \n",
      "46371281        0.000929     0  \n",
      "46371282        0.001369     0  \n",
      "46371283        0.002275     0  \n",
      "46371284        0.000110     0  \n",
      "46371285        0.000661     0  \n",
      "46371286        0.000311     0  \n",
      "46371287        0.000114     0  \n",
      "46371288        0.000162     0  \n",
      "46371289        0.004655     0  \n",
      "46371290        0.000180     0  \n",
      "46371291        0.000034     0  \n",
      "46371292        0.000481     0  \n",
      "46371293        0.000239     0  \n",
      "46371294        0.000229     0  \n",
      "46371295        0.000034     0  \n",
      "\n",
      "[46371296 rows x 6 columns]\n",
      "this took 195.792999983 seconds\n"
     ]
    }
   ],
   "source": [
    "time1 = time.time()\n",
    "list_of_column_names = [\"citing index\",\"cited index\", \"time difference\", \"cited indegree\", \"cited_pagerank\", \"edge\"]\n",
    "df = pd.DataFrame(edge_tuples, columns=list_of_column_names)\n",
    "print df\n",
    "time2 = time.time()\n",
    "print \"this took \" + str(time2-time1) + \" seconds\""
   ]
  },
  {
   "cell_type": "code",
   "execution_count": 18,
   "metadata": {
    "collapsed": false
   },
   "outputs": [
    {
     "name": "stderr",
     "output_type": "stream",
     "text": [
      "C:\\Users\\jhj3\\Anaconda2\\lib\\site-packages\\scipy\\optimize\\linesearch.py:285: LineSearchWarning: The line search algorithm did not converge\n",
      "  warn('The line search algorithm did not converge', LineSearchWarning)\n",
      "C:\\Users\\jhj3\\Anaconda2\\lib\\site-packages\\sklearn\\utils\\optimize.py:193: UserWarning: Line Search failed\n",
      "  warnings.warn('Line Search failed')\n"
     ]
    },
    {
     "name": "stdout",
     "output_type": "stream",
     "text": [
      "classes:  [0 1]\n",
      "coefficients:  [[-0.04815133  0.04634259]]\n",
      "intercept : [-6.55853571]\n",
      "L1 (0-1 loss):  0.998897184155\n",
      "this took 1817.60100007 seconds\n"
     ]
    }
   ],
   "source": [
    "time1 = time.time()\n",
    "#set up training data\n",
    "y_train = df['edge']\n",
    "x_train = df[['time difference', 'cited indegree']]\n",
    "\n",
    "#calculate logistical regression\n",
    "clf = skl_lm.LogisticRegression(solver='newton-cg')\n",
    "clf.fit(x_train, y_train)\n",
    "\n",
    "print 'classes: ',clf.classes_\n",
    "print 'coefficients: ',clf.coef_\n",
    "print 'intercept :', clf.intercept_\n",
    "time2 = time.time()\n",
    "print \"this took \" + str(time2-time1) + \" seconds\"\n",
    "\n",
    "time1 = time.time()\n",
    "# Matrix, where column = probability for no edge (0), probability for edge (1)--reference: clf.classes_\n",
    "prob = clf.predict_proba(x_train)\n",
    "\n",
    "# predicted probabilities for ALL case for edge present (1)\n",
    "prob_up = prob[:,1:2]\n",
    "# convert to list\n",
    "prob_up2 = [i.tolist()[0] for i in prob_up]\n",
    "\n",
    "y_predicted = []\n",
    "for i in prob_up2:\n",
    "    if i>0.5:\n",
    "        y_predicted.append(1)\n",
    "    else:\n",
    "        y_predicted.append(0)\n",
    "time2 = time.time()\n",
    "print \"this took \" + str(time2-time1) + \" seconds\"\n",
    "\n",
    "time1 = time.time()\n",
    "#calculate 0-1 loss from predicted values\n",
    "right_prediction = [i for i,j in zip(y_train, y_predicted) if i==j]\n",
    "number_right = len(right_prediction)\n",
    "zero_one_loss = number_right/len(y_predicted)\n",
    "print \"L1 (0-1 loss): \", zero_one_loss\n",
    "time2 = time.time()\n",
    "print \"this took \" + str(time2-time1) + \" seconds\""
   ]
  },
  {
   "cell_type": "code",
   "execution_count": null,
   "metadata": {
    "collapsed": true
   },
   "outputs": [],
   "source": []
  }
 ],
 "metadata": {
  "anaconda-cloud": {},
  "kernelspec": {
   "display_name": "Python [Root]",
   "language": "python",
   "name": "Python [Root]"
  },
  "language_info": {
   "codemirror_mode": {
    "name": "ipython",
    "version": 2
   },
   "file_extension": ".py",
   "mimetype": "text/x-python",
   "name": "python",
   "nbconvert_exporter": "python",
   "pygments_lexer": "ipython2",
   "version": "2.7.12"
  }
 },
 "nbformat": 4,
 "nbformat_minor": 0
}
