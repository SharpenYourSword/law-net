{
 "cells": [
  {
   "cell_type": "code",
   "execution_count": 3,
   "metadata": {
    "collapsed": false
   },
   "outputs": [],
   "source": [
    "top_directory = '/Users/iaincarmichael/Dropbox/Research/law/law-net/'\n",
    "\n",
    "from __future__ import division\n",
    "\n",
    "import os\n",
    "import sys\n",
    "import time\n",
    "from math import *\n",
    "import copy\n",
    "import cPickle as pickle\n",
    "\n",
    "# data\n",
    "import numpy as np\n",
    "import pandas as pd\n",
    "\n",
    "# viz\n",
    "import matplotlib.pyplot as plt\n",
    "\n",
    "\n",
    "# graph\n",
    "import igraph as ig\n",
    "\n",
    "\n",
    "# NLP\n",
    "from nltk.corpus import stopwords\n",
    "\n",
    "\n",
    "# our code\n",
    "sys.path.append(top_directory + 'code/')\n",
    "from load_data import load_and_clean_graph, case_info\n",
    "from pipeline.download_data import download_bulk_resource\n",
    "from pipeline.make_clean_data import *\n",
    "from viz import print_describe\n",
    "\n",
    "\n",
    "sys.path.append(top_directory + 'explore/vertex_metrics_experiment/code/')\n",
    "from make_snapshots import *\n",
    "from make_edge_df import *\n",
    "from attachment_model_inference import *\n",
    "from compute_ranking_metrics import *\n",
    "from pipeline_helper_functions import *\n",
    "from make_case_text_files import *\n",
    "from bag_of_words import *\n",
    "from similarity_matrix import *\n",
    "\n",
    "# directory set up\n",
    "data_dir = top_directory + 'data/'\n",
    "experiment_data_dir = data_dir + 'vertex_metrics_experiment/'\n",
    "\n",
    "court_name = 'scotus'\n",
    "\n",
    "# jupyter notebook settings\n",
    "%load_ext autoreload\n",
    "%autoreload 2\n",
    "%matplotlib inline"
   ]
  },
  {
   "cell_type": "code",
   "execution_count": 4,
   "metadata": {
    "collapsed": false
   },
   "outputs": [],
   "source": [
    "G = load_and_clean_graph(data_dir, court_name)"
   ]
  },
  {
   "cell_type": "markdown",
   "metadata": {},
   "source": [
    "# get edgelist and case metadata"
   ]
  },
  {
   "cell_type": "markdown",
   "metadata": {},
   "source": [
    "## get raw edgelist\n",
    "\n",
    "## get raw case metadata"
   ]
  },
  {
   "cell_type": "markdown",
   "metadata": {},
   "source": [
    "## make clean case metadata (from raw)"
   ]
  },
  {
   "cell_type": "code",
   "execution_count": 2,
   "metadata": {
    "collapsed": false
   },
   "outputs": [],
   "source": [
    "start = time.time()\n",
    "\n",
    "make_clean_case_metadata(data_dir, overwrite=False)\n",
    "\n",
    "runtime = time.time() - start\n",
    "print runtime"
   ]
  },
  {
   "cell_type": "markdown",
   "metadata": {},
   "source": [
    "## make clean edgelist (from raw)"
   ]
  },
  {
   "cell_type": "code",
   "execution_count": null,
   "metadata": {
    "collapsed": true
   },
   "outputs": [],
   "source": [
    "start = time.time()\n",
    "make_clean_edgelist(data_dir, overwrite=False)\n",
    "\n",
    "runtime = time.time() - start\n",
    "print runtime"
   ]
  },
  {
   "cell_type": "markdown",
   "metadata": {},
   "source": [
    "## make graph"
   ]
  },
  {
   "cell_type": "markdown",
   "metadata": {},
   "source": [
    "# make NLP similarity matrix"
   ]
  },
  {
   "cell_type": "markdown",
   "metadata": {},
   "source": [
    "## download opinion files"
   ]
  },
  {
   "cell_type": "code",
   "execution_count": 4,
   "metadata": {
    "collapsed": false
   },
   "outputs": [
    {
     "name": "stdout",
     "output_type": "stream",
     "text": [
      "requesting metadata for scotus\n",
      "Downloading opinions data for court SCOTUS...\n",
      "downloading opinion files took 281 seconds\n"
     ]
    }
   ],
   "source": [
    "start = time.time()\n",
    "\n",
    "download_bulk_resource(court_name,\n",
    "                       resource='opinions',\n",
    "                       data_dir=data_dir)\n",
    "\n",
    "runtime = time.time() - start\n",
    "print 'downloading opinion files took %d seconds' % runtime"
   ]
  },
  {
   "cell_type": "markdown",
   "metadata": {},
   "source": [
    "## make case text files"
   ]
  },
  {
   "cell_type": "code",
   "execution_count": 10,
   "metadata": {
    "collapsed": false
   },
   "outputs": [
    {
     "name": "stdout",
     "output_type": "stream",
     "text": [
      "making case text files took 559 seconds\n"
     ]
    }
   ],
   "source": [
    "start = time.time()\n",
    "\n",
    "make_text_files(data_dir,\n",
    "                court_name,\n",
    "                CLid_good=G.vs['name'],\n",
    "                CLid_bad=None)\n",
    "\n",
    "runtime = time.time() - start\n",
    "print 'making case text files took %d seconds' % runtime"
   ]
  },
  {
   "cell_type": "markdown",
   "metadata": {
    "collapsed": true
   },
   "source": [
    "## normalize corpus/put it into dict"
   ]
  },
  {
   "cell_type": "code",
   "execution_count": 91,
   "metadata": {
    "collapsed": false
   },
   "outputs": [
    {
     "name": "stdout",
     "output_type": "stream",
     "text": [
      "normalized text files took 97 seconds\n"
     ]
    }
   ],
   "source": [
    "start = time.time()\n",
    "\n",
    "normalized_text_dict = get_normalized_text_dict(experiment_data_dir)\n",
    "\n",
    "runtime = time.time() - start\n",
    "print 'normalized text files took %d seconds' % runtime"
   ]
  },
  {
   "cell_type": "markdown",
   "metadata": {},
   "source": [
    "## compute td-idf matrix"
   ]
  },
  {
   "cell_type": "code",
   "execution_count": 92,
   "metadata": {
    "collapsed": false
   },
   "outputs": [
    {
     "name": "stdout",
     "output_type": "stream",
     "text": [
      "computing td-idf matrix took 131 seconds\n"
     ]
    }
   ],
   "source": [
    "start = time.time()\n",
    "\n",
    "tfidf_matrix, vocab, CLid_to_index = get_td_idf(normalized_text_dict)\n",
    "\n",
    "runtime = time.time() - start\n",
    "print 'computing td-idf matrix took %d seconds' % runtime"
   ]
  },
  {
   "cell_type": "markdown",
   "metadata": {},
   "source": [
    "## compute pairwise cosine distances"
   ]
  },
  {
   "cell_type": "code",
   "execution_count": 93,
   "metadata": {
    "collapsed": true
   },
   "outputs": [],
   "source": [
    "from sklearn.metrics.pairwise import cosine_similarity"
   ]
  },
  {
   "cell_type": "code",
   "execution_count": 94,
   "metadata": {
    "collapsed": false
   },
   "outputs": [
    {
     "name": "stdout",
     "output_type": "stream",
     "text": [
      "computing parwise distances took 992 seconds\n"
     ]
    }
   ],
   "source": [
    "start = time.time()\n",
    "S = cosine_similarity(tfidf_matrix,\n",
    "                      dense_output=False)\n",
    "\n",
    "# change data type\n",
    "S.astype(np.float16)\n",
    "\n",
    "runtime = time.time() - start\n",
    "print 'computing parwise distances took %d seconds' % runtime"
   ]
  },
  {
   "cell_type": "code",
   "execution_count": 95,
   "metadata": {
    "collapsed": false
   },
   "outputs": [
    {
     "name": "stdout",
     "output_type": "stream",
     "text": [
      "saving pairwise matrix took 180 seconds\n"
     ]
    }
   ],
   "source": [
    "start = time.time()\n",
    "\n",
    "# save similarity matrix\n",
    "save_sparse_csr(filename=experiment_data_dir + 'cosine_sims',\n",
    "                array=S)\n",
    "\n",
    "# save clid to index map\n",
    "with open(experiment_data_dir + 'CLid_to_index.p', 'wb') as fp:\n",
    "    pickle.dump(CLid_to_index, fp)\n",
    "\n",
    "runtime = time.time() - start\n",
    "print 'saving pairwise matrix took %d seconds' % runtime"
   ]
  },
  {
   "cell_type": "markdown",
   "metadata": {},
   "source": [
    "# compute snapshots and make edge data frame"
   ]
  },
  {
   "cell_type": "markdown",
   "metadata": {},
   "source": [
    "## Make snapshots"
   ]
  },
  {
   "cell_type": "code",
   "execution_count": 7,
   "metadata": {
    "collapsed": true
   },
   "outputs": [],
   "source": [
    "vertex_metrics = ['indegree', 's_pagerank', 'hubs']\n",
    "\n",
    "# snapshot_year_list = np.array([year for year in range(1850, 2021) if year % 5 == 0])\n",
    "\n",
    "snapshot_year_list = range(1900, 2016 + 1)"
   ]
  },
  {
   "cell_type": "code",
   "execution_count": 44,
   "metadata": {
    "collapsed": false
   },
   "outputs": [
    {
     "name": "stdout",
     "output_type": "stream",
     "text": [
      "make_snapshot_vertex_metrics took 77 seconds\n"
     ]
    }
   ],
   "source": [
    "start = time.time()\n",
    "make_snapshot_vertex_metrics(G, snapshot_year_list, vertex_metrics,\n",
    "                                 experiment_data_dir)\n",
    "runtime = time.time() - start\n",
    "print 'make_snapshot_vertex_metrics took %d seconds' % runtime"
   ]
  },
  {
   "cell_type": "markdown",
   "metadata": {},
   "source": [
    "## make edge dataframe"
   ]
  },
  {
   "cell_type": "code",
   "execution_count": 8,
   "metadata": {
    "collapsed": true
   },
   "outputs": [],
   "source": [
    "columns_to_use = ['indegree', 'decayed_indegree', 's_pagerank', 'hubs', 'age', 'similarity']\n",
    "\n",
    "num_non_edges_to_add = len(G.es())\n",
    "\n",
    "seed_edgedf = 432"
   ]
  },
  {
   "cell_type": "code",
   "execution_count": null,
   "metadata": {
    "collapsed": false
   },
   "outputs": [],
   "source": [
    "start = time.time()\n",
    "make_edge_df(G, experiment_data_dir, snapshot_year_list,\n",
    "              num_non_edges_to_add, columns_to_use, seed=seed_edgedf)\n",
    "runtime = time.time() - start\n",
    "print 'make_edge_df took %d seconds' % runtime"
   ]
  },
  {
   "cell_type": "code",
   "execution_count": null,
   "metadata": {
    "collapsed": true
   },
   "outputs": [],
   "source": []
  },
  {
   "cell_type": "markdown",
   "metadata": {
    "collapsed": true
   },
   "source": [
    "# Surgery"
   ]
  },
  {
   "cell_type": "code",
   "execution_count": null,
   "metadata": {
    "collapsed": true
   },
   "outputs": [],
   "source": [
    "df = pd.read_csv(experiment_data_dir + 'edge_data.csv', index_col=0)"
   ]
  },
  {
   "cell_type": "code",
   "execution_count": null,
   "metadata": {
    "collapsed": false
   },
   "outputs": [],
   "source": [
    "df"
   ]
  },
  {
   "cell_type": "markdown",
   "metadata": {},
   "source": [
    "Overnight I ran\n",
    "- make_edge_df\n",
    "    - print df above to see if similarities have been added\n",
    "- make_clean_edgelist\n",
    "\n",
    "TODO:\n",
    "- update graph (and everything) after making new clean edgelist\n"
   ]
  },
  {
   "cell_type": "code",
   "execution_count": null,
   "metadata": {
    "collapsed": true
   },
   "outputs": [],
   "source": []
  }
 ],
 "metadata": {
  "kernelspec": {
   "display_name": "Python 2",
   "language": "python",
   "name": "python2"
  },
  "language_info": {
   "codemirror_mode": {
    "name": "ipython",
    "version": 2
   },
   "file_extension": ".py",
   "mimetype": "text/x-python",
   "name": "python",
   "nbconvert_exporter": "python",
   "pygments_lexer": "ipython2",
   "version": "2.7.12"
  }
 },
 "nbformat": 4,
 "nbformat_minor": 0
}
