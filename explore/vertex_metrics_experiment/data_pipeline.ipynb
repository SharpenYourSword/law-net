{
 "cells": [
  {
   "cell_type": "code",
   "execution_count": 2,
   "metadata": {
    "collapsed": false
   },
   "outputs": [],
   "source": [
    "top_directory = '/Users/iaincarmichael/Dropbox/Research/law/law-net/'\n",
    "\n",
    "from __future__ import division\n",
    "\n",
    "import os\n",
    "import sys\n",
    "import time\n",
    "from math import *\n",
    "import copy\n",
    "import cPickle as pickle\n",
    "\n",
    "# data\n",
    "import numpy as np\n",
    "import pandas as pd\n",
    "\n",
    "# viz\n",
    "import matplotlib.pyplot as plt\n",
    "\n",
    "\n",
    "# graph\n",
    "import igraph as ig\n",
    "\n",
    "\n",
    "# NLP\n",
    "from nltk.corpus import stopwords\n",
    "\n",
    "\n",
    "# our code\n",
    "sys.path.append(top_directory + 'code/')\n",
    "from load_data import load_and_clean_graph, case_info\n",
    "from pipeline.download_data import download_bulk_resource\n",
    "from pipeline.make_clean_data import *\n",
    "from viz import print_describe\n",
    "\n",
    "\n",
    "sys.path.append(top_directory + 'explore/vertex_metrics_experiment/code/')\n",
    "from make_snapshots import *\n",
    "from make_edge_df import *\n",
    "from attachment_model_inference import *\n",
    "from compute_ranking_metrics import *\n",
    "from pipeline_helper_functions import *\n",
    "from make_case_text_files import *\n",
    "from bag_of_words import *\n",
    "from similarity_matrix import *\n",
    "\n",
    "# directory set up\n",
    "data_dir = top_directory + 'data/'\n",
    "experiment_data_dir = data_dir + 'vertex_metrics_experiment/'\n",
    "\n",
    "court_name = 'scotus'\n",
    "\n",
    "# jupyter notebook settings\n",
    "%load_ext autoreload\n",
    "%autoreload 2\n",
    "%matplotlib inline"
   ]
  },
  {
   "cell_type": "code",
   "execution_count": 3,
   "metadata": {
    "collapsed": false
   },
   "outputs": [],
   "source": [
    "G = load_and_clean_graph(data_dir, court_name)"
   ]
  },
  {
   "cell_type": "markdown",
   "metadata": {},
   "source": [
    "# get edgelist and case metadata"
   ]
  },
  {
   "cell_type": "markdown",
   "metadata": {},
   "source": [
    "## get raw edgelist\n",
    "\n",
    "## get raw case metadata"
   ]
  },
  {
   "cell_type": "markdown",
   "metadata": {},
   "source": [
    "## make clean case metadata (from raw)"
   ]
  },
  {
   "cell_type": "code",
   "execution_count": 2,
   "metadata": {
    "collapsed": false
   },
   "outputs": [],
   "source": [
    "start = time.time()\n",
    "\n",
    "make_clean_case_metadata(data_dir, overwrite=False)\n",
    "\n",
    "runtime = time.time() - start\n",
    "print runtime"
   ]
  },
  {
   "cell_type": "markdown",
   "metadata": {},
   "source": [
    "## make clean edgelist (from raw)"
   ]
  },
  {
   "cell_type": "code",
   "execution_count": 1,
   "metadata": {
    "collapsed": false
   },
   "outputs": [],
   "source": [
    "start = time.time()\n",
    "make_clean_edgelist(data_dir, overwrite=False)\n",
    "\n",
    "runtime = time.time() - start\n",
    "print runtime"
   ]
  },
  {
   "cell_type": "markdown",
   "metadata": {},
   "source": [
    "## make graph"
   ]
  },
  {
   "cell_type": "markdown",
   "metadata": {},
   "source": [
    "# make NLP similarity matrix"
   ]
  },
  {
   "cell_type": "markdown",
   "metadata": {},
   "source": [
    "## download opinion files"
   ]
  },
  {
   "cell_type": "code",
   "execution_count": 4,
   "metadata": {
    "collapsed": false
   },
   "outputs": [
    {
     "name": "stdout",
     "output_type": "stream",
     "text": [
      "requesting metadata for scotus\n",
      "Downloading opinions data for court SCOTUS...\n",
      "downloading opinion files took 281 seconds\n"
     ]
    }
   ],
   "source": [
    "start = time.time()\n",
    "\n",
    "download_bulk_resource(court_name,\n",
    "                       resource='opinions',\n",
    "                       data_dir=data_dir)\n",
    "\n",
    "runtime = time.time() - start\n",
    "print 'downloading opinion files took %d seconds' % runtime"
   ]
  },
  {
   "cell_type": "markdown",
   "metadata": {},
   "source": [
    "## make case text files"
   ]
  },
  {
   "cell_type": "code",
   "execution_count": 10,
   "metadata": {
    "collapsed": false
   },
   "outputs": [
    {
     "name": "stdout",
     "output_type": "stream",
     "text": [
      "making case text files took 559 seconds\n"
     ]
    }
   ],
   "source": [
    "start = time.time()\n",
    "\n",
    "make_text_files(data_dir,\n",
    "                court_name,\n",
    "                CLid_good=G.vs['name'],\n",
    "                CLid_bad=None)\n",
    "\n",
    "runtime = time.time() - start\n",
    "print 'making case text files took %d seconds' % runtime"
   ]
  },
  {
   "cell_type": "markdown",
   "metadata": {
    "collapsed": true
   },
   "source": [
    "## normalize corpus/put it into dict"
   ]
  },
  {
   "cell_type": "code",
   "execution_count": 3,
   "metadata": {
    "collapsed": false
   },
   "outputs": [
    {
     "name": "stdout",
     "output_type": "stream",
     "text": [
      "normalized text files took 90 seconds\n"
     ]
    }
   ],
   "source": [
    "start = time.time()\n",
    "\n",
    "normalized_text_dict = get_normalized_text_dict(experiment_data_dir)\n",
    "\n",
    "runtime = time.time() - start\n",
    "print 'normalized text files took %d seconds' % runtime"
   ]
  },
  {
   "cell_type": "markdown",
   "metadata": {},
   "source": [
    "## compute td-idf matrix"
   ]
  },
  {
   "cell_type": "code",
   "execution_count": 4,
   "metadata": {
    "collapsed": false
   },
   "outputs": [
    {
     "name": "stdout",
     "output_type": "stream",
     "text": [
      "computing td-idf matrix took 147 seconds\n"
     ]
    }
   ],
   "source": [
    "start = time.time()\n",
    "\n",
    "tfidf_matrix, vocab, CLid_to_index = get_td_idf(normalized_text_dict)\n",
    "\n",
    "runtime = time.time() - start\n",
    "print 'computing td-idf matrix took %d seconds' % runtime"
   ]
  },
  {
   "cell_type": "code",
   "execution_count": 5,
   "metadata": {
    "collapsed": true
   },
   "outputs": [],
   "source": [
    "save_sparse_csr(experiment_data_dir + 'tdidf_matrix', tfidf_matrix)"
   ]
  },
  {
   "cell_type": "markdown",
   "metadata": {},
   "source": [
    "## compute pairwise cosine distances"
   ]
  },
  {
   "cell_type": "code",
   "execution_count": 6,
   "metadata": {
    "collapsed": false
   },
   "outputs": [
    {
     "name": "stdout",
     "output_type": "stream",
     "text": [
      "computing cosine distances took 2287 seconds\n",
      "saving the matrix took 12 seconds\n",
      "saving similarity matrix took 2393 seconds\n"
     ]
    }
   ],
   "source": [
    "start = time.time()\n",
    "\n",
    "make_similarity_matrix(experiment_data_dir, tfidf_matrix,\n",
    "                       CLid_to_index)\n",
    "\n",
    "runtime = time.time() - start\n",
    "print 'saving similarity matrix took %d seconds' % runtime"
   ]
  },
  {
   "cell_type": "markdown",
   "metadata": {},
   "source": [
    "# compute snapshots and make edge data frame"
   ]
  },
  {
   "cell_type": "markdown",
   "metadata": {},
   "source": [
    "## Make snapshots"
   ]
  },
  {
   "cell_type": "code",
   "execution_count": 25,
   "metadata": {
    "collapsed": false
   },
   "outputs": [],
   "source": [
    "vertex_metrics = ['indegree', 'outdegree','degree',\n",
    "                   'd_pagerank','u_pagerank',\n",
    "                   'd_closeness','u_closeness',\n",
    "                   'd_betweenness','u_betweenness',\n",
    "                   'authorities','hubs',\n",
    "                   'd_eigen','u_eigen']\n",
    "\n",
    "active_years = range(1900, 2015 + 1)"
   ]
  },
  {
   "cell_type": "code",
   "execution_count": 4,
   "metadata": {
    "collapsed": false
   },
   "outputs": [
    {
     "name": "stdout",
     "output_type": "stream",
     "text": [
      "make_snapshot_vertex_metrics took 59 seconds\n"
     ]
    }
   ],
   "source": [
    "start = time.time()\n",
    "\n",
    "make_snapshot_vertex_metrics(G, active_years, vertex_metrics,\n",
    "                                 experiment_data_dir)\n",
    "\n",
    "runtime = time.time() - start\n",
    "print 'make_snapshot_vertex_metrics took %d seconds' % runtime"
   ]
  },
  {
   "cell_type": "markdown",
   "metadata": {},
   "source": [
    "## make edge dataframe"
   ]
  },
  {
   "cell_type": "code",
   "execution_count": 5,
   "metadata": {
    "collapsed": true
   },
   "outputs": [],
   "source": [
    "columns_to_use = ['indegree', 'decayed_indegree', 's_pagerank', 'hubs', 'age', 'similarity']\n",
    "\n",
    "num_non_edges_to_add = len(G.es())\n",
    "\n",
    "seed_edgedf = 2345"
   ]
  },
  {
   "cell_type": "code",
   "execution_count": 77,
   "metadata": {
    "collapsed": false
   },
   "outputs": [
    {
     "name": "stdout",
     "output_type": "stream",
     "text": [
      "make_edge_df took 532 seconds\n"
     ]
    }
   ],
   "source": [
    "start = time.time()\n",
    "\n",
    "make_edge_df(G,\n",
    "             experiment_data_dir,\n",
    "             active_years,\n",
    "             num_non_edges_to_add,\n",
    "             columns_to_use,\n",
    "             seed=seed_edgedf)\n",
    "\n",
    "runtime = time.time() - start\n",
    "print 'make_edge_df took %d seconds' % runtime"
   ]
  },
  {
   "cell_type": "markdown",
   "metadata": {},
   "source": [
    "# surgery"
   ]
  },
  {
   "cell_type": "code",
   "execution_count": 5,
   "metadata": {
    "collapsed": false
   },
   "outputs": [],
   "source": [
    "g = G.subgraph(G.vs[:100])"
   ]
  },
  {
   "cell_type": "code",
   "execution_count": 43,
   "metadata": {
    "collapsed": false
   },
   "outputs": [
    {
     "name": "stdout",
     "output_type": "stream",
     "text": [
      "mean 0.07 for indegree\n",
      "mean 0.07 for outdegree\n",
      "mean 0.14 for degree\n",
      "mean 1.00 for d_pagerank\n",
      "mean 1.00 for u_pagerank\n",
      "mean 0.01 for d_closeness\n",
      "mean 0.01 for u_closeness\n",
      "mean 0.00 for d_betweenness\n",
      "mean 0.04 for u_betweenness\n",
      "mean 0.03 for authorities\n",
      "mean 0.01 for hubs\n",
      "mean 0.00 for d_eigen\n",
      "mean 0.03 for u_eigen\n"
     ]
    },
    {
     "name": "stderr",
     "output_type": "stream",
     "text": [
      "/Users/iaincarmichael/Dropbox/Research/law/law-net/explore/vertex_metrics_experiment/code/make_snapshots.py:133: RuntimeWarning: graph is directed and acyclic; eigenvector centralities will be zeros at centrality.c:344\n",
      "  metric_column = G.eigenvector_centrality()\n"
     ]
    }
   ],
   "source": [
    "metrics = ['indegree', 'outdegree','degree',\n",
    "           'd_pagerank','u_pagerank',\n",
    "           'd_closeness','u_closeness',\n",
    "           'd_betweenness','u_betweenness',\n",
    "           'authorities','hubs',\n",
    "           'd_eigen','u_eigen']\n",
    "\n"
   ]
  },
  {
   "cell_type": "code",
   "execution_count": 39,
   "metadata": {
    "collapsed": false
   },
   "outputs": [],
   "source": []
  },
  {
   "cell_type": "code",
   "execution_count": null,
   "metadata": {
    "collapsed": true
   },
   "outputs": [],
   "source": []
  }
 ],
 "metadata": {
  "kernelspec": {
   "display_name": "Python 2",
   "language": "python",
   "name": "python2"
  },
  "language_info": {
   "codemirror_mode": {
    "name": "ipython",
    "version": 2
   },
   "file_extension": ".py",
   "mimetype": "text/x-python",
   "name": "python",
   "nbconvert_exporter": "python",
   "pygments_lexer": "ipython2",
   "version": "2.7.12"
  }
 },
 "nbformat": 4,
 "nbformat_minor": 0
}
