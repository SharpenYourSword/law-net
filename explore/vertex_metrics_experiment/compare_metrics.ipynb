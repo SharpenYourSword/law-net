{
 "cells": [
  {
   "cell_type": "code",
   "execution_count": 1,
   "metadata": {
    "collapsed": false
   },
   "outputs": [],
   "source": [
    "top_directory = '/Users/iaincarmichael/Dropbox/Research/law/law-net/'\n",
    "\n",
    "from __future__ import division\n",
    "\n",
    "import os\n",
    "import sys\n",
    "import time\n",
    "from math import *\n",
    "import copy\n",
    "import cPickle as pickle\n",
    "\n",
    "# data\n",
    "import numpy as np\n",
    "import pandas as pd\n",
    "\n",
    "# viz\n",
    "import matplotlib.pyplot as plt\n",
    "\n",
    "\n",
    "# graph\n",
    "import igraph as ig\n",
    "\n",
    "# our code\n",
    "sys.path.append(top_directory + 'code/')\n",
    "from load_data import load_and_clean_graph, case_info\n",
    "from pipeline.download_data import download_bulk_resource\n",
    "from pipeline.make_clean_data import *\n",
    "from viz import print_describe\n",
    "\n",
    "\n",
    "sys.path.append(top_directory + 'explore/vertex_metrics_experiment/code/')\n",
    "from make_snapshots import *\n",
    "from make_edge_df import *\n",
    "from attachment_model_inference import *\n",
    "from compute_ranking_metrics import *\n",
    "from pipeline_helper_functions import *\n",
    "from make_case_text_files import *\n",
    "from bag_of_words import *\n",
    "from similarity_matrix import *\n",
    "from rankscore_experiment import *\n",
    "\n",
    "# directory set up\n",
    "data_dir = top_directory + 'data/'\n",
    "experiment_data_dir = data_dir + 'vertex_metrics_experiment/'\n",
    "\n",
    "court_name = 'scotus'\n",
    "\n",
    "# jupyter notebook settings\n",
    "%load_ext autoreload\n",
    "%autoreload 2\n",
    "%matplotlib inline"
   ]
  },
  {
   "cell_type": "code",
   "execution_count": 2,
   "metadata": {
    "collapsed": false
   },
   "outputs": [],
   "source": [
    "G = load_and_clean_graph(data_dir, court_name)"
   ]
  },
  {
   "cell_type": "markdown",
   "metadata": {},
   "source": [
    "# with similarity"
   ]
  },
  {
   "cell_type": "code",
   "execution_count": 8,
   "metadata": {
    "collapsed": true
   },
   "outputs": [],
   "source": [
    "\n",
    "# metrics = ['indegree', 'outdegree', 'degree',\n",
    "#             'd_pagerank', 'authorities', 'hubs']\n",
    "\n",
    "metrics = ['indegree', 'outdegree', 'similarity', 'all']\n",
    "\n",
    "include_similarity = True\n",
    "\n",
    "\n",
    "test_params = {'active_years':  range(1900, 2015 + 1),\n",
    "               'seed': 4332,\n",
    "               'num_test_cases': 1000}"
   ]
  },
  {
   "cell_type": "code",
   "execution_count": 9,
   "metadata": {
    "collapsed": false
   },
   "outputs": [
    {
     "name": "stdout",
     "output_type": "stream",
     "text": [
      "indegree\n",
      "(1/1000) at 12:05:24\n",
      "(2/1000) at 12:05:25\n",
      "(4/1000) at 12:05:25\n",
      "(8/1000) at 12:05:26\n",
      "(16/1000) at 12:05:28\n",
      "(32/1000) at 12:05:31\n",
      "(64/1000) at 12:05:38\n",
      "(128/1000) at 12:05:54\n",
      "(256/1000) at 12:06:23\n",
      "(512/1000) at 12:07:15\n",
      "outdegree\n",
      "(1/1000) at 12:09:03\n",
      "(2/1000) at 12:09:03\n",
      "(4/1000) at 12:09:04\n",
      "(8/1000) at 12:09:05\n",
      "(16/1000) at 12:09:07\n",
      "(32/1000) at 12:09:12\n",
      "(64/1000) at 12:09:20\n",
      "(128/1000) at 12:09:34\n",
      "(256/1000) at 12:09:58\n",
      "(512/1000) at 12:10:47\n",
      "similarity\n",
      "(1/1000) at 12:12:25\n",
      "(2/1000) at 12:12:25\n",
      "(4/1000) at 12:12:26\n",
      "(8/1000) at 12:12:26\n",
      "(16/1000) at 12:12:28\n",
      "(32/1000) at 12:12:32\n",
      "(64/1000) at 12:12:38\n",
      "(128/1000) at 12:12:51\n",
      "(256/1000) at 12:13:15\n",
      "(512/1000) at 12:14:03\n",
      "all\n",
      "(1/1000) at 12:15:37\n",
      "(2/1000) at 12:15:37\n",
      "(4/1000) at 12:15:38\n",
      "(8/1000) at 12:15:39\n",
      "(16/1000) at 12:15:41\n",
      "(32/1000) at 12:15:45\n",
      "(64/1000) at 12:15:53\n",
      "(128/1000) at 12:16:20\n",
      "(256/1000) at 12:16:57\n",
      "(512/1000) at 12:17:56\n"
     ]
    }
   ],
   "source": [
    "scores_sim = get_individual_rankscores_LR(G, test_params,\n",
    "                                          metrics,\n",
    "                                          include_similarity,\n",
    "                                          experiment_data_dir,\n",
    "                                          print_progress=True)"
   ]
  },
  {
   "cell_type": "code",
   "execution_count": 15,
   "metadata": {
    "collapsed": false
   },
   "outputs": [
    {
     "data": {
      "text/plain": [
       "indegree      0.932342\n",
       "outdegree     0.932782\n",
       "similarity    0.930509\n",
       "all           0.933654\n",
       "dtype: float64"
      ]
     },
     "execution_count": 15,
     "metadata": {},
     "output_type": "execute_result"
    }
   ],
   "source": [
    "scores_sim.mean(axis=0)"
   ]
  },
  {
   "cell_type": "markdown",
   "metadata": {
    "collapsed": true
   },
   "source": [
    "# no similarity"
   ]
  },
  {
   "cell_type": "code",
   "execution_count": 16,
   "metadata": {
    "collapsed": true
   },
   "outputs": [],
   "source": [
    "\n",
    "# metrics = ['indegree', 'outdegree', 'degree',\n",
    "#             'd_pagerank', 'authorities', 'hubs']\n",
    "\n",
    "metrics = ['indegree', 'outdegree', 'all']\n",
    "\n",
    "include_similarity = False\n",
    "\n",
    "\n",
    "test_params = {'active_years':  range(1900, 2015 + 1),\n",
    "               'seed': 4332,\n",
    "               'num_test_cases': 1000}"
   ]
  },
  {
   "cell_type": "code",
   "execution_count": 17,
   "metadata": {
    "collapsed": false
   },
   "outputs": [
    {
     "name": "stdout",
     "output_type": "stream",
     "text": [
      "indegree\n",
      "(1/1000) at 12:31:14\n",
      "(2/1000) at 12:31:14\n",
      "(4/1000) at 12:31:14\n",
      "(8/1000) at 12:31:15\n",
      "(16/1000) at 12:31:17\n",
      "(32/1000) at 12:31:20\n",
      "(64/1000) at 12:31:26\n",
      "(128/1000) at 12:31:37\n",
      "(256/1000) at 12:31:59\n",
      "(512/1000) at 12:32:41\n",
      "outdegree\n",
      "(1/1000) at 12:34:04\n",
      "(2/1000) at 12:34:04\n",
      "(4/1000) at 12:34:05\n",
      "(8/1000) at 12:34:05\n",
      "(16/1000) at 12:34:07\n",
      "(32/1000) at 12:34:10\n",
      "(64/1000) at 12:34:15\n",
      "(128/1000) at 12:34:27\n",
      "(256/1000) at 12:34:48\n",
      "(512/1000) at 12:35:30\n",
      "all\n",
      "(1/1000) at 12:36:54\n",
      "(2/1000) at 12:36:54\n",
      "(4/1000) at 12:36:54\n",
      "(8/1000) at 12:36:55\n",
      "(16/1000) at 12:36:57\n",
      "(32/1000) at 12:37:00\n",
      "(64/1000) at 12:37:06\n",
      "(128/1000) at 12:37:17\n",
      "(256/1000) at 12:37:39\n",
      "(512/1000) at 12:38:22\n"
     ]
    }
   ],
   "source": [
    "scores = get_individual_rankscores_LR(G, test_params,\n",
    "                                      metrics,\n",
    "                                      include_similarity,\n",
    "                                      experiment_data_dir,\n",
    "                                      print_progress=True)"
   ]
  },
  {
   "cell_type": "code",
   "execution_count": 18,
   "metadata": {
    "collapsed": false
   },
   "outputs": [
    {
     "data": {
      "text/plain": [
       "indegree     0.671354\n",
       "outdegree    0.776584\n",
       "all          0.793527\n",
       "dtype: float64"
      ]
     },
     "execution_count": 18,
     "metadata": {},
     "output_type": "execute_result"
    }
   ],
   "source": [
    "scores.mean(axis=0)"
   ]
  },
  {
   "cell_type": "code",
   "execution_count": null,
   "metadata": {
    "collapsed": true
   },
   "outputs": [],
   "source": []
  }
 ],
 "metadata": {
  "kernelspec": {
   "display_name": "Python 2",
   "language": "python",
   "name": "python2"
  },
  "language_info": {
   "codemirror_mode": {
    "name": "ipython",
    "version": 2
   },
   "file_extension": ".py",
   "mimetype": "text/x-python",
   "name": "python",
   "nbconvert_exporter": "python",
   "pygments_lexer": "ipython2",
   "version": "2.7.12"
  }
 },
 "nbformat": 4,
 "nbformat_minor": 0
}
