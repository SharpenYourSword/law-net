{
 "cells": [
  {
   "cell_type": "code",
   "execution_count": 172,
   "metadata": {
    "collapsed": false
   },
   "outputs": [
    {
     "name": "stdout",
     "output_type": "stream",
     "text": [
      "The autoreload extension is already loaded. To reload it, use:\n",
      "  %reload_ext autoreload\n"
     ]
    }
   ],
   "source": [
    "top_directory = '/Users/iaincarmichael/Dropbox/Research/law/law-net/'\n",
    "\n",
    "import os\n",
    "import sys\n",
    "import time\n",
    "from math import *\n",
    "import copy\n",
    "import cPickle as pickle\n",
    "\n",
    "# data\n",
    "import numpy as np\n",
    "import pandas as pd\n",
    "\n",
    "# viz\n",
    "import matplotlib.pyplot as plt\n",
    "\n",
    "\n",
    "# graph\n",
    "import igraph as ig\n",
    "\n",
    "\n",
    "# our code\n",
    "sys.path.append(top_directory + 'code/')\n",
    "from pipeline.download_data import *\n",
    "from pipeline.make_raw_case_metadata import *\n",
    "from load_data import case_info\n",
    "\n",
    "sys.path.append(top_directory + 'explore/vertex_metrics_experiment/code/')\n",
    "\n",
    "from make_snapshots import *\n",
    "from make_graph import *\n",
    "from make_edge_df import *\n",
    "from make_case_text_files import *\n",
    "from bag_of_words import *\n",
    "from similarity_matrix import *\n",
    "from rankscore_experiment_sort import *\n",
    "from rankscore_experiment_LR import *\n",
    "\n",
    "\n",
    "# court\n",
    "court = 'scotus'\n",
    "network_name = 'scotus'\n",
    "\n",
    "# directory set up\n",
    "data_dir = '/Users/iaincarmichael/Documents/courtlistener/data/'\n",
    "subnet_dir = data_dir + 'scotus/'\n",
    "text_dir = subnet_dir + 'textfiles/'\n",
    "nlp_dir = subnet_dir + 'nlp/'\n",
    "\n",
    "\n",
    "\n",
    "# jupyter notebook settings\n",
    "%load_ext autoreload\n",
    "%autoreload 2\n",
    "%matplotlib inline"
   ]
  },
  {
   "cell_type": "code",
   "execution_count": 8,
   "metadata": {
    "collapsed": true
   },
   "outputs": [],
   "source": [
    "G = ig.Graph.Read_GraphML(subnet_dir + 'scotus_network.graphml')"
   ]
  },
  {
   "cell_type": "code",
   "execution_count": 338,
   "metadata": {
    "collapsed": true
   },
   "outputs": [],
   "source": [
    "metrics = ['indegree', 'outdegree', 'degree', 'd_pagerank', 'authorities', 'hubs', 'similarity']\n",
    "\n",
    "\n",
    "test_params = {'active_years':  range(1900, 2015 + 1),\n",
    "               'seed': 4332,\n",
    "               'num_test_cases': 10}"
   ]
  },
  {
   "cell_type": "code",
   "execution_count": 159,
   "metadata": {
    "collapsed": false
   },
   "outputs": [],
   "source": [
    "scores_sort = get_rankscores_sort(G, test_params, metrics,\n",
    "                             subnet_dir,\n",
    "                             print_progress=True)"
   ]
  },
  {
   "cell_type": "markdown",
   "metadata": {},
   "source": [
    "# logistic regression"
   ]
  },
  {
   "cell_type": "code",
   "execution_count": 309,
   "metadata": {
    "collapsed": true
   },
   "outputs": [],
   "source": [
    "num_non_edges_to_add = len(G.es)\n",
    "\n",
    "seed_edge_df = 32432\n",
    "# active_years = range(1900, 2015 + 1)\n",
    "\n",
    "active_years = range(1950, 1980 + 1)\n",
    "\n",
    "include_similarity = True\n",
    "\n",
    "metric_normalization = 'mean'"
   ]
  },
  {
   "cell_type": "code",
   "execution_count": 291,
   "metadata": {
    "collapsed": false
   },
   "outputs": [
    {
     "name": "stdout",
     "output_type": "stream",
     "text": [
      "CPU times: user 12min 18s, sys: 18.9 s, total: 12min 37s\n",
      "Wall time: 12min 38s\n"
     ]
    }
   ],
   "source": [
    "%time make_edge_df(G, subnet_dir, \\\n",
    "                   active_years, num_non_edges_to_add,\\\n",
    "                   columns_to_use=metrics, metric_normalization=metric_normalization,\\\n",
    "                   seed=seed_edge_df)"
   ]
  },
  {
   "cell_type": "code",
   "execution_count": 339,
   "metadata": {
    "collapsed": false
   },
   "outputs": [
    {
     "name": "stdout",
     "output_type": "stream",
     "text": [
      "indegree\n",
      "(1/10) at 16:03:38\n",
      "(2/10) at 16:04:07\n",
      "(4/10) at 16:04:52\n",
      "(8/10) at 16:06:13\n",
      "outdegree\n",
      "(1/10) at 16:07:17\n",
      "(2/10) at 16:07:36\n",
      "(4/10) at 16:08:11\n",
      "(8/10) at 16:10:21\n",
      "degree\n",
      "(1/10) at 16:11:25\n",
      "(2/10) at 16:11:43\n",
      "(4/10) at 16:12:15\n",
      "(8/10) at 16:13:27\n",
      "d_pagerank\n",
      "(1/10) at 16:14:24\n",
      "(2/10) at 16:14:40\n",
      "(4/10) at 16:15:18\n",
      "(8/10) at 16:16:54\n",
      "authorities\n",
      "(1/10) at 16:17:59\n",
      "(2/10) at 16:18:23\n",
      "(4/10) at 16:18:59\n",
      "(8/10) at 16:20:41\n",
      "hubs\n",
      "(1/10) at 16:21:55\n",
      "(2/10) at 16:22:15\n",
      "(4/10) at 16:22:49\n",
      "(8/10) at 16:24:36\n",
      "similarity\n",
      "(1/10) at 16:25:33\n",
      "(2/10) at 16:25:56\n",
      "(4/10) at 16:26:27\n",
      "(8/10) at 16:28:06\n",
      "CPU times: user 24min 9s, sys: 28.5 s, total: 24min 37s\n",
      "Wall time: 25min 38s\n"
     ]
    }
   ],
   "source": [
    "%time scores_LR = get_rankscores_LR(G, test_params, metrics, \\\n",
    "                                    include_similarity, subnet_dir,\\\n",
    "                                    metric_normalization=metric_normalization, print_progress=True) \n",
    "                                    "
   ]
  },
  {
   "cell_type": "markdown",
   "metadata": {},
   "source": [
    "# scaling"
   ]
  },
  {
   "cell_type": "code",
   "execution_count": null,
   "metadata": {
    "collapsed": true
   },
   "outputs": [],
   "source": []
  }
 ],
 "metadata": {
  "kernelspec": {
   "display_name": "Python 2",
   "language": "python",
   "name": "python2"
  },
  "language_info": {
   "codemirror_mode": {
    "name": "ipython",
    "version": 2
   },
   "file_extension": ".py",
   "mimetype": "text/x-python",
   "name": "python",
   "nbconvert_exporter": "python",
   "pygments_lexer": "ipython2",
   "version": "2.7.12"
  }
 },
 "nbformat": 4,
 "nbformat_minor": 0
}
