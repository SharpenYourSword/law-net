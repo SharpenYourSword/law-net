{
 "cells": [
  {
   "cell_type": "code",
   "execution_count": 12,
   "metadata": {
    "collapsed": false
   },
   "outputs": [
    {
     "name": "stdout",
     "output_type": "stream",
     "text": [
      "The autoreload extension is already loaded. To reload it, use:\n",
      "  %reload_ext autoreload\n"
     ]
    }
   ],
   "source": [
    "top_directory = '/Users/iaincarmichael/Dropbox/Research/law/law-net/'\n",
    "\n",
    "import os\n",
    "import sys\n",
    "import time\n",
    "from math import *\n",
    "import copy\n",
    "import cPickle as pickle\n",
    "\n",
    "# data\n",
    "import numpy as np\n",
    "import pandas as pd\n",
    "\n",
    "# viz\n",
    "import matplotlib.pyplot as plt\n",
    "\n",
    "\n",
    "# graph\n",
    "import igraph as ig\n",
    "\n",
    "\n",
    "# our code\n",
    "sys.path.append(top_directory + 'code/')\n",
    "from pipeline.download_data import *\n",
    "from pipeline.make_raw_case_metadata import *\n",
    "from helpful_functions import case_info\n",
    "\n",
    "sys.path.append(top_directory + 'explore/vertex_metrics_experiment/code/')\n",
    "from make_edge_df import *\n",
    "from rankscore_experiment_sort import *\n",
    "from rankscore_experiment_LR import *\n",
    "\n",
    "\n",
    "# court\n",
    "network_name = 'scotus'\n",
    "\n",
    "# directory set up\n",
    "data_dir = '/Users/iaincarmichael/Documents/courtlistener/data/'\n",
    "subnet_dir = data_dir + 'scotus/'\n",
    "text_dir = subnet_dir + 'textfiles/'\n",
    "nlp_dir = subnet_dir + 'nlp/'\n",
    "\n",
    "\n",
    "\n",
    "# jupyter notebook settings\n",
    "%load_ext autoreload\n",
    "%autoreload 2\n",
    "%matplotlib inline"
   ]
  },
  {
   "cell_type": "code",
   "execution_count": 7,
   "metadata": {
    "collapsed": true
   },
   "outputs": [],
   "source": [
    "G = ig.Graph.Read_GraphML(subnet_dir + 'scotus_network.graphml')"
   ]
  },
  {
   "cell_type": "code",
   "execution_count": 8,
   "metadata": {
    "collapsed": true
   },
   "outputs": [],
   "source": [
    "metrics = ['indegree', 'outdegree', 'degree', 'd_pagerank', 'authorities', 'hubs', 'similarity']\n",
    "\n",
    "\n",
    "test_params = {'active_years':  range(1900, 2015 + 1),\n",
    "               'seed': 4332,\n",
    "               'num_test_cases': 10}"
   ]
  },
  {
   "cell_type": "code",
   "execution_count": 159,
   "metadata": {
    "collapsed": false
   },
   "outputs": [],
   "source": [
    "scores_sort = get_rankscores_sort(G, test_params, metrics,\n",
    "                             subnet_dir,\n",
    "                             print_progress=True)"
   ]
  },
  {
   "cell_type": "markdown",
   "metadata": {},
   "source": [
    "# logistic regression"
   ]
  },
  {
   "cell_type": "code",
   "execution_count": 9,
   "metadata": {
    "collapsed": true
   },
   "outputs": [],
   "source": [
    "num_non_edges_to_add = len(G.es)\n",
    "\n",
    "seed_edge_df = 32432\n",
    "# active_years = range(1900, 2015 + 1)\n",
    "\n",
    "active_years = range(1950, 1980 + 1)\n",
    "\n",
    "include_similarity = True\n",
    "\n",
    "metric_normalization = 'mean'"
   ]
  },
  {
   "cell_type": "code",
   "execution_count": 291,
   "metadata": {
    "collapsed": false
   },
   "outputs": [
    {
     "name": "stdout",
     "output_type": "stream",
     "text": [
      "CPU times: user 12min 18s, sys: 18.9 s, total: 12min 37s\n",
      "Wall time: 12min 38s\n"
     ]
    }
   ],
   "source": [
    "%time make_edge_df(G, subnet_dir, \\\n",
    "                   active_years, num_non_edges_to_add,\\\n",
    "                   columns_to_use=metrics, metric_normalization=metric_normalization,\\\n",
    "                   seed=seed_edge_df)"
   ]
  },
  {
   "cell_type": "code",
   "execution_count": 13,
   "metadata": {
    "collapsed": false
   },
   "outputs": [
    {
     "name": "stdout",
     "output_type": "stream",
     "text": [
      "indegree\n",
      "(1/10) at 22:11:06\n",
      "(2/10) at 22:11:06\n",
      "(4/10) at 22:11:07\n",
      "(8/10) at 22:11:08\n",
      "outdegree\n",
      "(1/10) at 22:11:10\n",
      "(2/10) at 22:11:10\n",
      "(4/10) at 22:11:11\n",
      "(8/10) at 22:11:12\n",
      "degree\n",
      "(1/10) at 22:11:14\n",
      "(2/10) at 22:11:14\n",
      "(4/10) at 22:11:15\n",
      "(8/10) at 22:11:16\n",
      "d_pagerank\n",
      "(1/10) at 22:11:17\n",
      "(2/10) at 22:11:18\n",
      "(4/10) at 22:11:18\n",
      "(8/10) at 22:11:20\n",
      "authorities\n",
      "(1/10) at 22:11:21\n",
      "(2/10) at 22:11:21\n",
      "(4/10) at 22:11:22\n",
      "(8/10) at 22:11:24\n",
      "hubs\n",
      "(1/10) at 22:11:25\n",
      "(2/10) at 22:11:26\n",
      "(4/10) at 22:11:27\n",
      "(8/10) at 22:11:28\n",
      "similarity\n",
      "(1/10) at 22:11:29\n",
      "(2/10) at 22:11:30\n",
      "(4/10) at 22:11:30\n",
      "(8/10) at 22:11:32\n",
      "CPU times: user 42.7 s, sys: 2.65 s, total: 45.3 s\n",
      "Wall time: 33.7 s\n"
     ]
    }
   ],
   "source": [
    "%time scores_LR = get_rankscores_LR(G, test_params, metrics, \\\n",
    "                                    include_similarity, subnet_dir,\\\n",
    "                                    metric_normalization=metric_normalization, print_progress=True) \n",
    "                                    "
   ]
  },
  {
   "cell_type": "markdown",
   "metadata": {},
   "source": [
    "# scaling"
   ]
  },
  {
   "cell_type": "code",
   "execution_count": null,
   "metadata": {
    "collapsed": true
   },
   "outputs": [],
   "source": []
  }
 ],
 "metadata": {
  "kernelspec": {
   "display_name": "Python 2",
   "language": "python",
   "name": "python2"
  },
  "language_info": {
   "codemirror_mode": {
    "name": "ipython",
    "version": 2
   },
   "file_extension": ".py",
   "mimetype": "text/x-python",
   "name": "python",
   "nbconvert_exporter": "python",
   "pygments_lexer": "ipython2",
   "version": "2.7.12"
  }
 },
 "nbformat": 4,
 "nbformat_minor": 0
}
