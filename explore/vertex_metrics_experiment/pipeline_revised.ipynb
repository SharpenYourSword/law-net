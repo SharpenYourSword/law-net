{
 "cells": [
  {
   "cell_type": "code",
   "execution_count": null,
   "metadata": {
    "collapsed": true
   },
   "outputs": [],
   "source": []
  },
  {
   "cell_type": "code",
   "execution_count": 1,
   "metadata": {
    "collapsed": false
   },
   "outputs": [],
   "source": [
    "top_directory = '/Users/iaincarmichael/Dropbox/Research/law/law-net/'\n",
    "\n",
    "from __future__ import division\n",
    "\n",
    "import os\n",
    "import sys\n",
    "import time\n",
    "from math import *\n",
    "import numpy as np\n",
    "import pandas as pd\n",
    "import matplotlib.pyplot as plt\n",
    "import igraph as ig\n",
    "\n",
    "# our code\n",
    "sys.path.append(top_directory + 'code/')\n",
    "from load_data import load_and_clean_graph, case_info\n",
    "\n",
    "from make_snapshots import *\n",
    "from make_edge_df import *\n",
    "from attachment_model_inference import *\n",
    "from compute_ranking_metrics import *\n",
    "from pipeline_helper_functions import *\n",
    "\n",
    "# directory set up\n",
    "data_dir = top_directory + 'data/'\n",
    "experiment_data_dir = top_directory + 'explore/vertex_metrics_experiment/experiment_data/'\n",
    "\n",
    "court_name = 'scotus'\n",
    "\n",
    "# jupyter notebook settings\n",
    "%load_ext autoreload\n",
    "%autoreload 2\n",
    "%matplotlib inline"
   ]
  },
  {
   "cell_type": "code",
   "execution_count": 2,
   "metadata": {
    "collapsed": false
   },
   "outputs": [],
   "source": [
    "G = load_and_clean_graph(data_dir, court_name)"
   ]
  },
  {
   "cell_type": "code",
   "execution_count": 3,
   "metadata": {
    "collapsed": true
   },
   "outputs": [],
   "source": [
    "year_interval = 10\n",
    "snapshot_year_list = np.array([year for year in range(1760, 2021) if year % year_interval == 0])\n",
    "metrics = ['indegree','pagerank']\n",
    "\n",
    "\n",
    "num_non_edges_to_add = len(G.get_edgelist())"
   ]
  },
  {
   "cell_type": "code",
   "execution_count": 4,
   "metadata": {
    "collapsed": true
   },
   "outputs": [],
   "source": [
    "def get_snapshot_year(ing_year, snapshot_year_list):\n",
    "    return min([y for y in snapshot_year_list if ing_year < y])"
   ]
  },
  {
   "cell_type": "code",
   "execution_count": 6,
   "metadata": {
    "collapsed": false
   },
   "outputs": [],
   "source": [
    "# similarity_matrix = pd.DataFrame(0,\n",
    "#                                  index=G.vs['name'],\n",
    "#                                  columns=G.vs['name'])\n",
    "\n",
    "# similarity_matrix.to_csv(experiment_data_dir + 'similarity_matrix.csv', index=True)\n",
    "\n",
    "# sim = pd.read_csv(experiment_data_dir + 'similarity_matrix.csv', index_col=0)"
   ]
  },
  {
   "cell_type": "code",
   "execution_count": 9,
   "metadata": {
    "collapsed": true
   },
   "outputs": [],
   "source": [
    "similarity_matrix = 0"
   ]
  },
  {
   "cell_type": "code",
   "execution_count": 82,
   "metadata": {
    "collapsed": true
   },
   "outputs": [],
   "source": [
    "run_transform_snaphots(experiment_data_dir)"
   ]
  },
  {
   "cell_type": "code",
   "execution_count": 83,
   "metadata": {
    "collapsed": true
   },
   "outputs": [],
   "source": [
    "snapshots_dict = load_snapshots(experiment_data_dir, train=True)"
   ]
  },
  {
   "cell_type": "code",
   "execution_count": null,
   "metadata": {
    "collapsed": true
   },
   "outputs": [],
   "source": []
  },
  {
   "cell_type": "code",
   "execution_count": 141,
   "metadata": {
    "collapsed": false
   },
   "outputs": [],
   "source": [
    "# get all present edges\n",
    "edgelist_to_add = G.get_edgelist()\n",
    "num_edges = len(edgelist_to_add)\n",
    "\n",
    "# get the citing year of each edge\n",
    "ing_years = [G.vs[edge[0]]['year'] for edge in edgelist_to_add]\n",
    "\n",
    "# map the citing year to the snapshot year\n",
    "snap_ing_years = [get_snapshot_year(y, snapshot_year_list) for y in ing_years]\n",
    "\n",
    "# dict that organizes edges by ing snapshot year\n",
    "edges_by_ing_snap_year_dict = {y: [] for y in snapshot_year_list}\n",
    "for i in range(num_edges):\n",
    "    sn_year = snap_ing_years[i]\n",
    "    edge = edgelist_to_add[i]\n",
    "    \n",
    "    edges_by_ing_snap_year_dict[sn_year].append(edge)"
   ]
  },
  {
   "cell_type": "code",
   "execution_count": null,
   "metadata": {
    "collapsed": true
   },
   "outputs": [],
   "source": []
  },
  {
   "cell_type": "code",
   "execution_count": 269,
   "metadata": {
    "collapsed": true
   },
   "outputs": [],
   "source": []
  },
  {
   "cell_type": "code",
   "execution_count": 270,
   "metadata": {
    "collapsed": false
   },
   "outputs": [],
   "source": []
  },
  {
   "cell_type": "code",
   "execution_count": 319,
   "metadata": {
    "collapsed": false
   },
   "outputs": [],
   "source": [
    "\n",
    "# \n",
    "edge_data = pd.DataFrame(columns=columns_to_use)\n",
    "for sn_year in snapshot_year_list:\n",
    "    # vertex metrcs in snapshot year\n",
    "    ing_snap_df = snapshots_dict['vertex_metrics_' + str(sn_year)]\n",
    "    \n",
    "    # edges to add whos ing year is in the snapshot year\n",
    "    edges = edges_by_ing_snap_year_dict[sn_year]\n",
    "    \n",
    "    sn_num_edges = len(edges)\n",
    "    \n",
    "    # CL ids of ed cases (indexes the snap_df rows)\n",
    "    ed_CLids = [G.vs[edge[1]]['name'] for edge in edges]\n",
    "    ing_CLids = [G.vs[edge[0]]['name'] for edge in edges]\n",
    "    \n",
    "    # ages \n",
    "    ed_year = np.array([G.vs[edge[1]]['year'] for edge in edges])\n",
    "    ing_year = np.array([G.vs[edge[0]]['year'] for edge in edges])\n",
    "    \n",
    "    \n",
    "    # get case similarities\n",
    "    similarities = [0] * sn_num_edges\n",
    "    for i in range(sn_num_edges):\n",
    "        # similarities[i] = similarity_matrix.ix[ing_CLids[i], ed_CLids[i]]\n",
    "        similarities[i] = 0\n",
    "    \n",
    "    \n",
    "    # ed metrics in ing year \n",
    "    ed_metrics = ing_snap_df.loc[ed_CLids]\n",
    "    \n",
    "    # create edge data frame \n",
    "    sn_edge_data = pd.DataFrame()\n",
    "    sn_edge_data['indegree'] = ed_metrics['indegree'].tolist()\n",
    "    sn_edge_data['l_pagerank'] = ed_metrics['l_pagerank'].tolist()\n",
    "    \n",
    "    sn_edge_data['age'] = ing_year - ed_year\n",
    "    sn_edge_data['similarity'] = similarities\n",
    "    \n",
    "    \n",
    "\n",
    "    sn_edge_data.index = [str(edge[0]) + '_' + str(edge[1]) for edge in edges]\n",
    "    sn_edge_data.index.name = 'CLids'\n",
    "    \n",
    "    # edge_data = pd.concat([edge_data, sn_edge_data], axis=1)\n",
    "    edge_data = edge_data.append(sn_edge_data)"
   ]
  },
  {
   "cell_type": "code",
   "execution_count": null,
   "metadata": {
    "collapsed": true
   },
   "outputs": [],
   "source": []
  },
  {
   "cell_type": "code",
   "execution_count": null,
   "metadata": {
    "collapsed": true
   },
   "outputs": [],
   "source": []
  },
  {
   "cell_type": "code",
   "execution_count": 17,
   "metadata": {
    "collapsed": true
   },
   "outputs": [],
   "source": [
    "def make_edge_df(G, experiment_data_dir, snapshot_year_list, num_non_edges_to_add, columns_to_use, seed=None):\n",
    "    \n",
    "    # load snapshot dataframes\n",
    "    snapshots_dict = load_snapshots(experiment_data_dir, train=True)\n",
    "    \n",
    "    # similarity_matrix = pd.read_csv(experiment_data_dir + 'similarity_matrix.csv', index_col=0)\n",
    "    similarity_matrix = 0\n",
    "    \n",
    "     edge_data = pd.DataFrame(columns=columns_to_use)\n",
    "    \n",
    "    # get all present edges\n",
    "    existing_edgelist = G.get_edgelist()\n",
    "\n",
    "    # organize edges by ing snapshot year\n",
    "    edges_by_ing_snap_year_dict =  get_edges_by_snapshot_dict(G, existing_edgelist, snapshot_year_list)\n",
    "    \n",
    "\n",
    "    # add present edges\n",
    "    for sn_year in snapshot_year_list:\n",
    "        # vertex metrcs in snapshot year\n",
    "        snapshot_df = snapshots_dict['vertex_metrics_' + str(sn_year)]\n",
    "        \n",
    "        # edges to add whos ing year is in the snapshot year\n",
    "        edges = edges_by_ing_snap_year_dict[sn_year]\n",
    "    \n",
    "        edge_data.append(populate_edge_df(G, edges, snapshot_df, similarity_matrix))\n",
    "        \n",
    "        \n",
    "    "
   ]
  },
  {
   "cell_type": "code",
   "execution_count": null,
   "metadata": {
    "collapsed": true
   },
   "outputs": [],
   "source": []
  },
  {
   "cell_type": "code",
   "execution_count": 18,
   "metadata": {
    "collapsed": false
   },
   "outputs": [],
   "source": [
    "columns_to_use = ['indegree', 'l_pagerank', 'age', 'similarity']\n",
    "\n",
    "make_edge_df(G, experiment_data_dir, snapshot_year_list, num_non_edges_to_add, columns_to_use, seed=None)"
   ]
  },
  {
   "cell_type": "code",
   "execution_count": 9,
   "metadata": {
    "collapsed": true
   },
   "outputs": [],
   "source": [
    "def get_edges_by_snapshot_dict(G, edgelist, snapshot_year_list):\n",
    "    \"\"\"\n",
    "    Organizes edges by ing snapshot year\n",
    "    \n",
    "    \"\"\"\n",
    "    \n",
    "    num_edges = len(edgelist)\n",
    "\n",
    "     # get the citing year of each edge\n",
    "    ing_years = [G.vs[edge[0]]['year'] for edge in edgelist]\n",
    "    \n",
    "    # map the citing year to the snapshot year\n",
    "    snap_ing_years = [get_snapshot_year(y, snapshot_year_list) for y in ing_years]\n",
    "    \n",
    "    \n",
    "     # dict that organizes edges by ing snapshot year\n",
    "    edges_by_ing_snap_year_dict = {y: [] for y in snapshot_year_list}\n",
    "    for i in range(num_edges):\n",
    "        sn_year = snap_ing_years[i]\n",
    "        edge = edgelist[i]\n",
    "\n",
    "        edges_by_ing_snap_year_dict[sn_year].append(edge)\n",
    "    \n",
    "    return edges_by_ing_snap_year_dict"
   ]
  },
  {
   "cell_type": "code",
   "execution_count": 16,
   "metadata": {
    "collapsed": true
   },
   "outputs": [],
   "source": [
    "def populate_edge_df(G, edges, snapshot_df, similarity_matrix):\n",
    "    \n",
    "    num_edges = len(edges)\n",
    "    \n",
    "    # CL ids of ed cases (indexes the snap_df rows)\n",
    "    ed_CLids = [G.vs[edge[1]]['name'] for edge in edges]\n",
    "    ing_CLids = [G.vs[edge[0]]['name'] for edge in edges]\n",
    "    \n",
    "    # ages \n",
    "    ed_year = np.array([G.vs[edge[1]]['year'] for edge in edges])\n",
    "    ing_year = np.array([G.vs[edge[0]]['year'] for edge in edges])\n",
    "    \n",
    "    \n",
    "    # get case similarities\n",
    "    similarities = [0] * num_edges\n",
    "    for i in range(num_edges):\n",
    "        # similarities[i] = similarity_matrix.ix[ing_CLids[i], ed_CLids[i]]\n",
    "        similarities[i] = 0\n",
    "    \n",
    "   \n",
    "    # ed metrics in ing year \n",
    "    ed_metrics = snapshot_df.loc[ed_CLids]\n",
    "    \n",
    "    # create edge data frame \n",
    "    edge_data = pd.DataFrame()\n",
    "    edge_data['indegree'] = ed_metrics['indegree'].tolist()\n",
    "    edge_data['l_pagerank'] = ed_metrics['l_pagerank'].tolist()\n",
    "    \n",
    "    edge_data['age'] = ing_year - ed_year\n",
    "    edge_data['similarity'] = similarities\n",
    "    \n",
    "    \n",
    "\n",
    "    edge_data.index = [str(edge[0]) + '_' + str(edge[1]) for edge in edges]\n",
    "    edge_data.index.name = 'CLids'\n",
    "    \n",
    "    return edge_data\n",
    "  "
   ]
  },
  {
   "cell_type": "code",
   "execution_count": null,
   "metadata": {
    "collapsed": true
   },
   "outputs": [],
   "source": []
  },
  {
   "cell_type": "code",
   "execution_count": null,
   "metadata": {
    "collapsed": true
   },
   "outputs": [],
   "source": []
  }
 ],
 "metadata": {
  "kernelspec": {
   "display_name": "Python 2",
   "language": "python",
   "name": "python2"
  },
  "language_info": {
   "codemirror_mode": {
    "name": "ipython",
    "version": 2
   },
   "file_extension": ".py",
   "mimetype": "text/x-python",
   "name": "python",
   "nbconvert_exporter": "python",
   "pygments_lexer": "ipython2",
   "version": "2.7.12"
  }
 },
 "nbformat": 4,
 "nbformat_minor": 0
}
