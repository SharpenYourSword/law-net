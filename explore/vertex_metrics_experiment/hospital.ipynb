{
 "cells": [
  {
   "cell_type": "code",
   "execution_count": 1,
   "metadata": {
    "collapsed": false
   },
   "outputs": [],
   "source": [
    "top_directory = '/Users/iaincarmichael/Dropbox/Research/law/law-net/'\n",
    "\n",
    "from __future__ import division\n",
    "\n",
    "import os\n",
    "import sys\n",
    "import time\n",
    "from math import *\n",
    "import copy\n",
    "import cPickle as pickle\n",
    "\n",
    "# data\n",
    "import numpy as np\n",
    "import pandas as pd\n",
    "\n",
    "# viz\n",
    "import matplotlib.pyplot as plt\n",
    "\n",
    "\n",
    "# graph\n",
    "import igraph as ig\n",
    "\n",
    "# our code\n",
    "sys.path.append(top_directory + 'code/')\n",
    "from load_data import load_and_clean_graph, case_info\n",
    "from pipeline.download_data import download_bulk_resource\n",
    "from pipeline.make_clean_data import *\n",
    "from viz import print_describe\n",
    "\n",
    "\n",
    "sys.path.append(top_directory + 'explore/vertex_metrics_experiment/code/')\n",
    "from make_snapshots import *\n",
    "from make_edge_df import *\n",
    "from attachment_model_inference import *\n",
    "from compute_ranking_metrics import *\n",
    "from pipeline_helper_functions import *\n",
    "from make_case_text_files import *\n",
    "from bag_of_words import *\n",
    "from similarity_matrix import *\n",
    "from rankscore_experiment import *\n",
    "\n",
    "# directory set up\n",
    "data_dir = top_directory + 'data/'\n",
    "experiment_data_dir = data_dir + 'vertex_metrics_experiment/'\n",
    "\n",
    "court_name = 'scotus'\n",
    "\n",
    "# jupyter notebook settings\n",
    "%load_ext autoreload\n",
    "%autoreload 2\n",
    "%matplotlib inline"
   ]
  },
  {
   "cell_type": "code",
   "execution_count": 2,
   "metadata": {
    "collapsed": false
   },
   "outputs": [],
   "source": [
    "G = load_and_clean_graph(data_dir, court_name)"
   ]
  },
  {
   "cell_type": "markdown",
   "metadata": {},
   "source": [
    "# get_individual_rankscores_LR"
   ]
  },
  {
   "cell_type": "code",
   "execution_count": 10,
   "metadata": {
    "collapsed": true
   },
   "outputs": [],
   "source": [
    "metrics = ['indegree', 'outdegree']\n",
    "\n",
    "include_similarity = False\n",
    "\n",
    "\n",
    "test_params = {'active_years':  range(1900, 2015 + 1),\n",
    "               'seed': 4332,\n",
    "               'num_test_cases': 1000}\n",
    "\n",
    "print_progress=True"
   ]
  },
  {
   "cell_type": "markdown",
   "metadata": {},
   "source": [
    "get_individual_rankscores_LR(G, test_params, metrics,\n",
    "                                 include_similarity, experiment_data_dir,\n",
    "                                 print_progress=True)"
   ]
  },
  {
   "cell_type": "code",
   "execution_count": 4,
   "metadata": {
    "collapsed": true
   },
   "outputs": [],
   "source": [
    "# sample test cases\n",
    "test_cases = get_test_cases(G,\n",
    "                            test_params['active_years'],\n",
    "                            test_params['num_test_cases'],\n",
    "                            test_params['seed'])\n",
    "\n",
    "# load snapshots\n",
    "snapshots_dict = load_snapshots(experiment_data_dir)\n",
    "\n",
    "# mabye load the similarities\n",
    "if include_similarity:\n",
    "    similarity_matrix, CLid_to_index = load_similarity_matrix(experiment_data_dir)\n",
    "else:\n",
    "    similarity_matrix = None\n",
    "    CLid_to_index = None\n",
    "\n",
    "# load edge data for all edges\n",
    "all_edge_data = pd.read_csv(experiment_data_dir + 'edge_data.csv',\n",
    "                            index_col=0)\n"
   ]
  },
  {
   "cell_type": "markdown",
   "metadata": {},
   "source": [
    "# get scores"
   ]
  },
  {
   "cell_type": "code",
   "execution_count": 11,
   "metadata": {
    "collapsed": false
   },
   "outputs": [
    {
     "name": "stdout",
     "output_type": "stream",
     "text": [
      "(1/1000) at 13:11:33\n",
      "(2/1000) at 13:11:33\n",
      "(4/1000) at 13:11:34\n",
      "(8/1000) at 13:11:34\n",
      "(16/1000) at 13:11:36\n",
      "(32/1000) at 13:11:38\n",
      "(64/1000) at 13:11:44\n",
      "(128/1000) at 13:11:55\n",
      "(256/1000) at 13:12:16\n",
      "(512/1000) at 13:13:10\n"
     ]
    }
   ],
   "source": [
    "columns_to_use=['indegree']\n",
    "\n",
    "# fit logistic regression\n",
    "LogReg_in = fit_logistic_regression(all_edge_data, columns_to_use)\n",
    "\n",
    "# compute scores on test cases\n",
    "testcase_scores_in = get_test_case_scores_LR(G, test_cases, snapshots_dict,\n",
    "                                             similarity_matrix, CLid_to_index,\n",
    "                                             LogReg_in, columns_to_use, print_progress)"
   ]
  },
  {
   "cell_type": "code",
   "execution_count": 12,
   "metadata": {
    "collapsed": false
   },
   "outputs": [
    {
     "name": "stdout",
     "output_type": "stream",
     "text": [
      "(1/1000) at 13:14:34\n",
      "(2/1000) at 13:14:34\n",
      "(4/1000) at 13:14:34\n",
      "(8/1000) at 13:14:35\n",
      "(16/1000) at 13:14:37\n",
      "(32/1000) at 13:14:39\n",
      "(64/1000) at 13:14:45\n",
      "(128/1000) at 13:14:56\n",
      "(256/1000) at 13:15:17\n",
      "(512/1000) at 13:15:59\n"
     ]
    }
   ],
   "source": [
    "columns_to_use=['outdegree']\n",
    "\n",
    "# fit logistic regression\n",
    "LogReg_out = fit_logistic_regression(all_edge_data, columns_to_use)\n",
    "\n",
    "# compute scores on test cases\n",
    "testcase_scores_out = get_test_case_scores_LR(G, test_cases, snapshots_dict,\n",
    "                                             similarity_matrix, CLid_to_index,\n",
    "                                             LogReg_out, columns_to_use, print_progress)"
   ]
  },
  {
   "cell_type": "markdown",
   "metadata": {},
   "source": [
    "# compare the two"
   ]
  },
  {
   "cell_type": "code",
   "execution_count": 14,
   "metadata": {
    "collapsed": false
   },
   "outputs": [],
   "source": [
    "df = pd.DataFrame(index=testcase_scores_in.index)\n",
    "df['in'] = testcase_scores_in\n",
    "df['out'] = testcase_scores_out"
   ]
  },
  {
   "cell_type": "code",
   "execution_count": 21,
   "metadata": {
    "collapsed": false
   },
   "outputs": [
    {
     "data": {
      "text/plain": [
       "<matplotlib.legend.Legend at 0x129593110>"
      ]
     },
     "execution_count": 21,
     "metadata": {},
     "output_type": "execute_result"
    },
    {
     "data": {
      "image/png": "[encoded data removed]",
      "text/plain": [
       "<matplotlib.figure.Figure at 0x120781610>"
      ]
     },
     "metadata": {},
     "output_type": "display_data"
    }
   ],
   "source": [
    "df['in'].hist(label='in')\n",
    "df['out'].hist(label='out')\n",
    "plt.legend(loc='upper right')"
   ]
  },
  {
   "cell_type": "code",
   "execution_count": 23,
   "metadata": {
    "collapsed": false
   },
   "outputs": [
    {
     "data": {
      "text/plain": [
       "array([[ 0.05897851]])"
      ]
     },
     "execution_count": 23,
     "metadata": {},
     "output_type": "execute_result"
    }
   ],
   "source": [
    "LogReg_in.coef_"
   ]
  },
  {
   "cell_type": "code",
   "execution_count": 24,
   "metadata": {
    "collapsed": false
   },
   "outputs": [
    {
     "data": {
      "text/plain": [
       "array([[ 0.08312702]])"
      ]
     },
     "execution_count": 24,
     "metadata": {},
     "output_type": "execute_result"
    }
   ],
   "source": [
    "LogReg_out.coef_"
   ]
  },
  {
   "cell_type": "markdown",
   "metadata": {},
   "source": [
    "# all_edge_data"
   ]
  },
  {
   "cell_type": "code",
   "execution_count": 30,
   "metadata": {
    "collapsed": false
   },
   "outputs": [],
   "source": [
    "present_edges = all_edge_data['is_edge'] == 1"
   ]
  },
  {
   "cell_type": "code",
   "execution_count": 50,
   "metadata": {
    "collapsed": false
   },
   "outputs": [],
   "source": [
    "\n",
    "indeg_present = all_edge_data['indegree'][present_edges]\n",
    "indeg_absent = all_edge_data['indegree'][~present_edges]\n",
    "\n",
    "outdeg_present = all_edge_data['outdegree'][present_edges]\n",
    "outdeg_absent = all_edge_data['outdegree'][~present_edges]"
   ]
  },
  {
   "cell_type": "code",
   "execution_count": 54,
   "metadata": {
    "collapsed": false
   },
   "outputs": [
    {
     "data": {
      "text/plain": [
       "<matplotlib.legend.Legend at 0x1352db910>"
      ]
     },
     "execution_count": 54,
     "metadata": {},
     "output_type": "execute_result"
    },
    {
     "data": {
      "image/png": "[encoded data removed]",
      "text/plain": [
       "<matplotlib.figure.Figure at 0x1347271d0>"
      ]
     },
     "metadata": {},
     "output_type": "display_data"
    }
   ],
   "source": [
    "bins = np.linspace(0, 100, 50)\n",
    "\n",
    "plt.hist(indeg_present,bins=bins, label='in present', alpha = .3)\n",
    "#plt.hist(indeg_absent,bins=bins, label='in absent', alpha = .3)\n",
    "\n",
    "plt.hist(outdeg_present,bins=bins, label='out present', alpha = .3)\n",
    "#plt.hist(outdeg_absent,bins=bins, label='out absent', alpha = .3)\n",
    "\n",
    "\n",
    "plt.legend(loc='upper right')"
   ]
  },
  {
   "cell_type": "markdown",
   "metadata": {},
   "source": [
    "# make edge_df with normalization"
   ]
  },
  {
   "cell_type": "markdown",
   "metadata": {},
   "source": [
    "TODO: add normalization to get edge data"
   ]
  }
 ],
 "metadata": {
  "kernelspec": {
   "display_name": "Python 2",
   "language": "python",
   "name": "python2"
  },
  "language_info": {
   "codemirror_mode": {
    "name": "ipython",
    "version": 2
   },
   "file_extension": ".py",
   "mimetype": "text/x-python",
   "name": "python",
   "nbconvert_exporter": "python",
   "pygments_lexer": "ipython2",
   "version": "2.7.12"
  }
 },
 "nbformat": 4,
 "nbformat_minor": 0
}
