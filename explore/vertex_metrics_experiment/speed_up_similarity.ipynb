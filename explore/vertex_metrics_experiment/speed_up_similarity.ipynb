{
 "cells": [
  {
   "cell_type": "code",
   "execution_count": 4,
   "metadata": {
    "collapsed": true
   },
   "outputs": [],
   "source": [
    "# modify these for your own computer\n",
    "repo_directory = '/Users/iaincarmichael/Dropbox/Research/law/law-net/'\n",
    "\n",
    "data_dir = '/Users/iaincarmichael/Documents/courtlistener/data/'"
   ]
  },
  {
   "cell_type": "code",
   "execution_count": 15,
   "metadata": {
    "collapsed": false
   },
   "outputs": [
    {
     "name": "stdout",
     "output_type": "stream",
     "text": [
      "The autoreload extension is already loaded. To reload it, use:\n",
      "  %reload_ext autoreload\n"
     ]
    }
   ],
   "source": [
    "import sys\n",
    "\n",
    "# graph package\n",
    "import igraph as ig\n",
    "\n",
    "# our code\n",
    "sys.path.append(repo_directory + 'code/')\n",
    "from setup_data_dir import setup_data_dir, make_subnetwork_directory\n",
    "from pipeline.download_data import download_bulk_resource, download_master_edgelist, download_scdb\n",
    "from helpful_functions import case_info\n",
    "\n",
    "sys.path.append(repo_directory + 'explore/vertex_metrics_experiment/code/')\n",
    "from make_network_data import *\n",
    "from bag_of_words import make_tf_idf\n",
    "from experiment_helper_functions import *\n",
    "\n",
    "# which network\n",
    "network_name = 'scotus'\n",
    "\n",
    "# some sub directories that get used\n",
    "raw_dir = data_dir + 'raw/'\n",
    "subnet_dir = data_dir + network_name + '/'\n",
    "text_dir = subnet_dir + 'textfiles/'\n",
    "\n",
    "\n",
    "# jupyter notebook settings\n",
    "%load_ext autoreload\n",
    "%autoreload 2\n",
    "%matplotlib inline"
   ]
  },
  {
   "cell_type": "code",
   "execution_count": 10,
   "metadata": {
    "collapsed": true
   },
   "outputs": [],
   "source": [
    "G = ig.Graph.Read_GraphML(subnet_dir + network_name +'_network.graphml')"
   ]
  },
  {
   "cell_type": "code",
   "execution_count": 11,
   "metadata": {
    "collapsed": true
   },
   "outputs": [],
   "source": [
    "test_params = {'active_years':  range(1900, 2015 + 1),\n",
    "               'seed': 4332,\n",
    "               'num_test_cases': 10}"
   ]
  },
  {
   "cell_type": "code",
   "execution_count": 12,
   "metadata": {
    "collapsed": false
   },
   "outputs": [],
   "source": [
    "test_cases = get_test_cases(G,\n",
    "                            test_params['active_years'],\n",
    "                            test_params['num_test_cases'],\n",
    "                            test_params['seed'])"
   ]
  },
  {
   "cell_type": "code",
   "execution_count": 14,
   "metadata": {
    "collapsed": true
   },
   "outputs": [],
   "source": [
    "tfidf_matrix, op_id_to_bow_id = load_tf_idf(subnet_dir + 'nlp/')"
   ]
  },
  {
   "cell_type": "code",
   "execution_count": 16,
   "metadata": {
    "collapsed": true
   },
   "outputs": [],
   "source": []
  },
  {
   "cell_type": "code",
   "execution_count": 25,
   "metadata": {
    "collapsed": false
   },
   "outputs": [],
   "source": [
    "tc = 0\n",
    "v = test_cases[tc]\n",
    "\n",
    "snapshot_year = test_case['year'] - 1\n",
    "\n",
    "ancentors = [v.index for v in G.vs.select(year_le=snapshot_year)]\n",
    "\n",
    "# all edges from ing case to previous cases\n",
    "edgelist = zip([test_case.index] * len(ancentors), ancentors)\n",
    "\n",
    "\n",
    "ed_CLids = [G.vs[edge[1]]['name'] for edge in edgelist]\n",
    "ing_CLids = [G.vs[edge[0]]['name'] for edge in edgelist]"
   ]
  },
  {
   "cell_type": "code",
   "execution_count": 26,
   "metadata": {
    "collapsed": false
   },
   "outputs": [
    {
     "name": "stdout",
     "output_type": "stream",
     "text": [
      "CPU times: user 20.9 s, sys: 349 ms, total: 21.3 s\n",
      "Wall time: 28.5 s\n"
     ]
    }
   ],
   "source": [
    "%time S = compute_similarities(tfidf_matrix, zip(ing_CLids, ed_CLids), op_id_to_bow_id)"
   ]
  }
 ],
 "metadata": {
  "kernelspec": {
   "display_name": "Python 2",
   "language": "python",
   "name": "python2"
  },
  "language_info": {
   "codemirror_mode": {
    "name": "ipython",
    "version": 2
   },
   "file_extension": ".py",
   "mimetype": "text/x-python",
   "name": "python",
   "nbconvert_exporter": "python",
   "pygments_lexer": "ipython2",
   "version": "2.7.12"
  }
 },
 "nbformat": 4,
 "nbformat_minor": 0
}
