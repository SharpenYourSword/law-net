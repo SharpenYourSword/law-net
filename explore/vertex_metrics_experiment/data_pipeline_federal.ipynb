{
 "cells": [
  {
   "cell_type": "code",
   "execution_count": 11,
   "metadata": {
    "collapsed": false
   },
   "outputs": [
    {
     "name": "stdout",
     "output_type": "stream",
     "text": [
      "The autoreload extension is already loaded. To reload it, use:\n",
      "  %reload_ext autoreload\n"
     ]
    }
   ],
   "source": [
    "top_directory = '/Users/iaincarmichael/Dropbox/Research/law/law-net/'\n",
    "\n",
    "import os\n",
    "import sys\n",
    "import time\n",
    "from math import *\n",
    "import copy\n",
    "import cPickle as pickle\n",
    "\n",
    "# data\n",
    "import numpy as np\n",
    "import pandas as pd\n",
    "\n",
    "# viz\n",
    "import matplotlib.pyplot as plt\n",
    "\n",
    "\n",
    "# graph\n",
    "import igraph as ig\n",
    "\n",
    "\n",
    "# our code\n",
    "sys.path.append(top_directory + 'code/')\n",
    "from pipeline.download_data import *\n",
    "from pipeline.make_raw_case_metadata import *\n",
    "\n",
    "\n",
    "# directory set up\n",
    "data_dir = '/Users/iaincarmichael/Documents/courtlistener/data/'\n",
    "experiment_data_dir = data_dir + 'federal'\n",
    "\n",
    "\n",
    "# jupyter notebook settings\n",
    "%load_ext autoreload\n",
    "%autoreload 2\n",
    "%matplotlib inline"
   ]
  },
  {
   "cell_type": "code",
   "execution_count": 7,
   "metadata": {
    "collapsed": true
   },
   "outputs": [],
   "source": [
    "courts = ['scotus', 'cafc', 'cadc']\n",
    "courts += ['ca' + str(i+1) for i in range(11)]"
   ]
  },
  {
   "cell_type": "markdown",
   "metadata": {
    "collapsed": true
   },
   "source": [
    "# download opinion and cluster files"
   ]
  },
  {
   "cell_type": "code",
   "execution_count": 15,
   "metadata": {
    "collapsed": false
   },
   "outputs": [
    {
     "name": "stdout",
     "output_type": "stream",
     "text": [
      "requesting metadata for scotus\n",
      "Downloading clusters data for court SCOTUS...\n",
      "requesting metadata for scotus\n",
      "Downloading opinions data for court SCOTUS...\n",
      "scotus took 1140 seconds\n",
      "requesting metadata for cafc\n",
      "Downloading clusters data for court CAFC...\n",
      "requesting metadata for cafc\n",
      "Downloading opinions data for court CAFC...\n",
      "cafc took 362 seconds\n",
      "requesting metadata for cadc\n",
      "Downloading clusters data for court CADC...\n",
      "requesting metadata for cadc\n",
      "Downloading opinions data for court CADC...\n",
      "cadc took 668 seconds\n",
      "requesting metadata for ca1\n",
      "Downloading clusters data for court CA1...\n",
      "requesting metadata for ca1\n",
      "Downloading opinions data for court CA1...\n",
      "ca1 took 783 seconds\n",
      "requesting metadata for ca2\n",
      "Downloading clusters data for court CA2...\n",
      "requesting metadata for ca2\n",
      "Downloading opinions data for court CA2...\n",
      "ca2 took 737 seconds\n",
      "requesting metadata for ca3\n",
      "Downloading clusters data for court CA3...\n",
      "requesting metadata for ca3\n",
      "Downloading opinions data for court CA3...\n",
      "ca3 took 1014 seconds\n",
      "requesting metadata for ca4\n",
      "Downloading clusters data for court CA4...\n",
      "requesting metadata for ca4\n",
      "Downloading opinions data for court CA4...\n",
      "ca4 took 1324 seconds\n",
      "requesting metadata for ca5\n",
      "Downloading clusters data for court CA5...\n",
      "requesting metadata for ca5\n",
      "Downloading opinions data for court CA5...\n",
      "ca5 took 1647 seconds\n",
      "requesting metadata for ca6\n",
      "Downloading clusters data for court CA6...\n",
      "requesting metadata for ca6\n",
      "Downloading opinions data for court CA6...\n",
      "ca6 took 1136 seconds\n",
      "requesting metadata for ca7\n",
      "Downloading clusters data for court CA7...\n",
      "requesting metadata for ca7\n",
      "Downloading opinions data for court CA7...\n",
      "ca7 took 1147 seconds\n",
      "requesting metadata for ca8\n",
      "Downloading clusters data for court CA8...\n",
      "requesting metadata for ca8\n",
      "Downloading opinions data for court CA8...\n",
      "ca8 took 1166 seconds\n",
      "requesting metadata for ca9\n",
      "Downloading clusters data for court CA9...\n",
      "requesting metadata for ca9\n",
      "Downloading opinions data for court CA9...\n",
      "ca9 took 2211 seconds\n",
      "requesting metadata for ca10\n",
      "Downloading clusters data for court CA10...\n",
      "requesting metadata for ca10\n",
      "Downloading opinions data for court CA10...\n",
      "ca10 took 997 seconds\n",
      "requesting metadata for ca11\n",
      "Downloading clusters data for court CA11...\n",
      "requesting metadata for ca11\n",
      "Downloading opinions data for court CA11...\n",
      "ca11 took 1069 seconds\n"
     ]
    }
   ],
   "source": [
    "for court in courts:\n",
    "    start = time.time()\n",
    "    download_bulk_resource(court, 'clusters', data_dir)\n",
    "    download_bulk_resource(court, 'opinions', data_dir)\n",
    "    \n",
    "    print '%s took %d seconds' % (court, time.time() - start)"
   ]
  },
  {
   "cell_type": "markdown",
   "metadata": {},
   "source": [
    "# download the master edgelist"
   ]
  },
  {
   "cell_type": "code",
   "execution_count": null,
   "metadata": {
    "collapsed": true
   },
   "outputs": [],
   "source": [
    "# download_master_edgelist(data_dir)"
   ]
  },
  {
   "cell_type": "markdown",
   "metadata": {},
   "source": [
    "# make case metadata"
   ]
  },
  {
   "cell_type": "code",
   "execution_count": 30,
   "metadata": {
    "collapsed": false
   },
   "outputs": [
    {
     "name": "stdout",
     "output_type": "stream",
     "text": [
      "2496.03245115\n"
     ]
    }
   ],
   "source": [
    "start = time.time()\n",
    "# append all other courts\n",
    "for court in courts:\n",
    "    court_data = get_raw_case_metadata_from_court(court, data_dir)\n",
    "    \n",
    "    # either initialize of append data frame\n",
    "    if court == courts[0]:\n",
    "        case_metadata = court_data\n",
    "    else:\n",
    "        case_metadata = case_metadata.append(court_data)\n",
    "        \n",
    "print time.time() - start"
   ]
  },
  {
   "cell_type": "code",
   "execution_count": 33,
   "metadata": {
    "collapsed": false,
    "scrolled": false
   },
   "outputs": [],
   "source": [
    "case_metadata.to_csv(data_dir + 'raw/fed_case_metadata_r.csv', index=True)"
   ]
  },
  {
   "cell_type": "markdown",
   "metadata": {},
   "source": [
    "# clean scotus"
   ]
  },
  {
   "cell_type": "code",
   "execution_count": 60,
   "metadata": {
    "collapsed": true
   },
   "outputs": [],
   "source": [
    "# list of cases with no SCDB id\n",
    "no_scdb_link = pd.read_csv(data_dir + 'raw/no_scdb_link.csv', index_col=0).index.astype(str).tolist()\n",
    "\n",
    "# remove SCOTUS cases with no SCDB id\n",
    "case_metadata.drop(no_scdb_link, inplace=True)\n",
    "\n",
    "# kill detroit lumber\n",
    "case_metadata.drop('96405', inplace=True)\n"
   ]
  },
  {
   "cell_type": "code",
   "execution_count": 61,
   "metadata": {
    "collapsed": true
   },
   "outputs": [],
   "source": [
    "case_metadata.to_csv(data_dir + 'federal/case_metadata.csv', index=True)"
   ]
  },
  {
   "cell_type": "markdown",
   "metadata": {},
   "source": [
    "# get the federal subedgelist"
   ]
  },
  {
   "cell_type": "code",
   "execution_count": 69,
   "metadata": {
    "collapsed": false
   },
   "outputs": [],
   "source": [
    "# load master edgelist\n",
    "master_edgelist = pd.read_csv(data_dir + 'raw/edgelist_master_r.csv')\n",
    "\n",
    "# only keep edges within federal circuit\n",
    "case_ids = set(case_metadata.index)\n",
    "edgelist = master_edgelist[master_edgelist.citing.isin(case_ids) & master_edgelist.cited.isin(case_ids)]\n",
    "\n",
    "# save federal edgelist\n",
    "edgelist.to_csv(data_dir + 'federal/edgelist.csv', index=False)"
   ]
  },
  {
   "cell_type": "markdown",
   "metadata": {},
   "source": [
    "## make igraph object"
   ]
  },
  {
   "cell_type": "code",
   "execution_count": 75,
   "metadata": {
    "collapsed": true
   },
   "outputs": [],
   "source": [
    "# initialize graph\n",
    "G = ig.Graph(n=case_metadata.shape[0], directed=True)\n",
    "\n",
    "# add opinion names\n",
    "G.vs['name'] = case_metadata.index\n",
    "\n",
    "# opinion to ig index mapping\n",
    "op_to_ig = {op_id: G.vs.find(name=op_id).index  for op_id in G.vs['name']}\n",
    "\n",
    "# convert edgelist to ig ids\n",
    "edgelist_ig = edgelist.apply(lambda c: [op_to_ig[str(op_id)] for op_id in c])\n",
    "\n",
    "# add edes to graph\n",
    "G.add_edges(edgelist_ig.as_matrix().tolist())"
   ]
  },
  {
   "cell_type": "markdown",
   "metadata": {},
   "source": [
    "## make case text files"
   ]
  },
  {
   "cell_type": "markdown",
   "metadata": {},
   "source": [
    "## make td-idf / cosine similarity matrix"
   ]
  },
  {
   "cell_type": "markdown",
   "metadata": {},
   "source": [
    "## make snapshots"
   ]
  },
  {
   "cell_type": "markdown",
   "metadata": {},
   "source": [
    "## make edge dataframe"
   ]
  },
  {
   "cell_type": "code",
   "execution_count": null,
   "metadata": {
    "collapsed": true
   },
   "outputs": [],
   "source": []
  }
 ],
 "metadata": {
  "kernelspec": {
   "display_name": "Python 2",
   "language": "python",
   "name": "python2"
  },
  "language_info": {
   "codemirror_mode": {
    "name": "ipython",
    "version": 2
   },
   "file_extension": ".py",
   "mimetype": "text/x-python",
   "name": "python",
   "nbconvert_exporter": "python",
   "pygments_lexer": "ipython2",
   "version": "2.7.12"
  }
 },
 "nbformat": 4,
 "nbformat_minor": 0
}
