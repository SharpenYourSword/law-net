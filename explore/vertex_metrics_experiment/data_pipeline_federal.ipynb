{
 "cells": [
  {
   "cell_type": "code",
   "execution_count": 4,
   "metadata": {
    "collapsed": false
   },
   "outputs": [],
   "source": [
    "repo_directory = '/Users/iaincarmichael/Dropbox/Research/law/law-net/'\n",
    "data_dir = '/Users/iaincarmichael/Documents/courtlistener/data/'\n",
    "\n",
    "import os\n",
    "import sys\n",
    "import time\n",
    "from math import *\n",
    "import copy\n",
    "import cPickle as pickle\n",
    "\n",
    "# data\n",
    "import numpy as np\n",
    "import pandas as pd\n",
    "\n",
    "# viz\n",
    "import matplotlib.pyplot as plt\n",
    "\n",
    "\n",
    "# graph\n",
    "import igraph as ig\n",
    "\n",
    "\n",
    "# our code\n",
    "sys.path.append(repo_directory + 'code/')\n",
    "from pipeline.download_data import *\n",
    "from pipeline.make_raw_case_metadata import *\n",
    "from helpful_functions import case_info\n",
    "from setup_data_dir import *\n",
    "\n",
    "\n",
    "sys.path.append(repo_directory + 'explore/vertex_metrics_experiment/code/')\n",
    "from make_case_text_files import *\n",
    "from bag_of_words import *\n",
    "from similarity_matrix import *\n",
    "from make_snapshots import *\n",
    "from make_graph import *\n",
    "\n",
    "# court\n",
    "network_name = 'federal'\n",
    "courts = ['scotus', 'cafc', 'cadc']\n",
    "courts += ['ca' + str(i+1) for i in range(11)]\n",
    "\n",
    "# directory set up\n",
    "data_dir = '/Users/iaincarmichael/Documents/courtlistener/data/'\n",
    "experiment_data_dir = data_dir + '%s/' % network_name\n",
    "text_dir = experiment_data_dir + 'textfiles/'\n",
    "\n",
    "\n",
    "# jupyter notebook settings\n",
    "%load_ext autoreload\n",
    "%autoreload 2\n",
    "%matplotlib inline"
   ]
  },
  {
   "cell_type": "code",
   "execution_count": 5,
   "metadata": {
    "collapsed": false
   },
   "outputs": [
    {
     "data": {
      "text/plain": [
       "True"
      ]
     },
     "execution_count": 5,
     "metadata": {},
     "output_type": "execute_result"
    }
   ],
   "source": []
  },
  {
   "cell_type": "code",
   "execution_count": null,
   "metadata": {
    "collapsed": true
   },
   "outputs": [],
   "source": []
  },
  {
   "cell_type": "markdown",
   "metadata": {},
   "source": [
    "# set up data directory"
   ]
  },
  {
   "cell_type": "code",
   "execution_count": null,
   "metadata": {
    "collapsed": true
   },
   "outputs": [],
   "source": [
    "setup_data_dir(data_dir)"
   ]
  },
  {
   "cell_type": "markdown",
   "metadata": {
    "collapsed": true
   },
   "source": [
    "# download opinion and cluster files"
   ]
  },
  {
   "cell_type": "code",
   "execution_count": 15,
   "metadata": {
    "collapsed": false
   },
   "outputs": [
    {
     "name": "stdout",
     "output_type": "stream",
     "text": [
      "requesting metadata for scotus\n",
      "Downloading clusters data for court SCOTUS...\n",
      "requesting metadata for scotus\n",
      "Downloading opinions data for court SCOTUS...\n",
      "scotus took 1140 seconds\n",
      "requesting metadata for cafc\n",
      "Downloading clusters data for court CAFC...\n",
      "requesting metadata for cafc\n",
      "Downloading opinions data for court CAFC...\n",
      "cafc took 362 seconds\n",
      "requesting metadata for cadc\n",
      "Downloading clusters data for court CADC...\n",
      "requesting metadata for cadc\n",
      "Downloading opinions data for court CADC...\n",
      "cadc took 668 seconds\n",
      "requesting metadata for ca1\n",
      "Downloading clusters data for court CA1...\n",
      "requesting metadata for ca1\n",
      "Downloading opinions data for court CA1...\n",
      "ca1 took 783 seconds\n",
      "requesting metadata for ca2\n",
      "Downloading clusters data for court CA2...\n",
      "requesting metadata for ca2\n",
      "Downloading opinions data for court CA2...\n",
      "ca2 took 737 seconds\n",
      "requesting metadata for ca3\n",
      "Downloading clusters data for court CA3...\n",
      "requesting metadata for ca3\n",
      "Downloading opinions data for court CA3...\n",
      "ca3 took 1014 seconds\n",
      "requesting metadata for ca4\n",
      "Downloading clusters data for court CA4...\n",
      "requesting metadata for ca4\n",
      "Downloading opinions data for court CA4...\n",
      "ca4 took 1324 seconds\n",
      "requesting metadata for ca5\n",
      "Downloading clusters data for court CA5...\n",
      "requesting metadata for ca5\n",
      "Downloading opinions data for court CA5...\n",
      "ca5 took 1647 seconds\n",
      "requesting metadata for ca6\n",
      "Downloading clusters data for court CA6...\n",
      "requesting metadata for ca6\n",
      "Downloading opinions data for court CA6...\n",
      "ca6 took 1136 seconds\n",
      "requesting metadata for ca7\n",
      "Downloading clusters data for court CA7...\n",
      "requesting metadata for ca7\n",
      "Downloading opinions data for court CA7...\n",
      "ca7 took 1147 seconds\n",
      "requesting metadata for ca8\n",
      "Downloading clusters data for court CA8...\n",
      "requesting metadata for ca8\n",
      "Downloading opinions data for court CA8...\n",
      "ca8 took 1166 seconds\n",
      "requesting metadata for ca9\n",
      "Downloading clusters data for court CA9...\n",
      "requesting metadata for ca9\n",
      "Downloading opinions data for court CA9...\n",
      "ca9 took 2211 seconds\n",
      "requesting metadata for ca10\n",
      "Downloading clusters data for court CA10...\n",
      "requesting metadata for ca10\n",
      "Downloading opinions data for court CA10...\n",
      "ca10 took 997 seconds\n",
      "requesting metadata for ca11\n",
      "Downloading clusters data for court CA11...\n",
      "requesting metadata for ca11\n",
      "Downloading opinions data for court CA11...\n",
      "ca11 took 1069 seconds\n"
     ]
    }
   ],
   "source": [
    "for court in courts:\n",
    "    start = time.time()\n",
    "    download_bulk_resource(court, 'clusters', data_dir)\n",
    "    download_bulk_resource(court, 'opinions', data_dir)"
   ]
  },
  {
   "cell_type": "markdown",
   "metadata": {},
   "source": [
    "# download the master edgelist"
   ]
  },
  {
   "cell_type": "code",
   "execution_count": null,
   "metadata": {
    "collapsed": true
   },
   "outputs": [],
   "source": [
    "# download_master_edgelist(data_dir)"
   ]
  },
  {
   "cell_type": "markdown",
   "metadata": {},
   "source": [
    "# download scdb data"
   ]
  },
  {
   "cell_type": "code",
   "execution_count": null,
   "metadata": {
    "collapsed": true
   },
   "outputs": [],
   "source": [
    "download_scdb(data_dir)"
   ]
  },
  {
   "cell_type": "markdown",
   "metadata": {},
   "source": [
    "# make case metadata"
   ]
  },
  {
   "cell_type": "code",
   "execution_count": 30,
   "metadata": {
    "collapsed": false
   },
   "outputs": [
    {
     "name": "stdout",
     "output_type": "stream",
     "text": [
      "2496.03245115\n"
     ]
    }
   ],
   "source": [
    "start = time.time()\n",
    "# append all other courts\n",
    "for court in courts:\n",
    "    court_data = get_raw_case_metadata_from_court(court, data_dir)\n",
    "    \n",
    "    # either initialize of append data frame\n",
    "    if court == courts[0]:\n",
    "        case_metadata = court_data\n",
    "    else:\n",
    "        case_metadata = case_metadata.append(court_data)\n",
    "        \n",
    "print time.time() - start"
   ]
  },
  {
   "cell_type": "code",
   "execution_count": 33,
   "metadata": {
    "collapsed": false,
    "scrolled": false
   },
   "outputs": [],
   "source": [
    "case_metadata.to_csv(data_dir + 'raw/%s_case_metadata_r.csv', index=True) % network_name"
   ]
  },
  {
   "cell_type": "markdown",
   "metadata": {},
   "source": [
    "# clean scotus\n",
    "\n",
    "kill SCOTUS cases with no SCDB ids"
   ]
  },
  {
   "cell_type": "code",
   "execution_count": 96,
   "metadata": {
    "collapsed": true
   },
   "outputs": [],
   "source": [
    "case_metadata = pd.read_csv(data_dir + 'raw/%s_case_metadata_r.csv' % network_names, index_col=0)\n",
    "case_metadata.index= case_metadata.index.astype('str')"
   ]
  },
  {
   "cell_type": "code",
   "execution_count": 97,
   "metadata": {
    "collapsed": false
   },
   "outputs": [],
   "source": [
    "\n",
    "# scotus scdb ids\n",
    "scdb_ids = case_metadata[case_metadata['court'] == 'scotus']['scdb_id']\n",
    "\n",
    "# scotus cases with no scdb id\n",
    "no_scdb_link = scdb_ids.index[scdb_ids.isnull()].tolist()\n",
    "\n",
    "# remove SCOTUS cases with no SCDB id\n",
    "case_metadata.drop(no_scdb_link, inplace=True)\n",
    "\n",
    "# kill detroit lumber\n",
    "case_metadata.drop('96405', inplace=True)"
   ]
  },
  {
   "cell_type": "code",
   "execution_count": 99,
   "metadata": {
    "collapsed": true
   },
   "outputs": [],
   "source": [
    "case_metadata.to_csv(experiment_data_dir + 'case_metadata.csv', index=True)"
   ]
  },
  {
   "cell_type": "markdown",
   "metadata": {},
   "source": [
    "# get the federal subedgelist"
   ]
  },
  {
   "cell_type": "code",
   "execution_count": 163,
   "metadata": {
    "collapsed": false
   },
   "outputs": [],
   "source": [
    "# load master edgelist\n",
    "master_edgelist = pd.read_csv(data_dir + 'raw/edgelist_master_r.csv')\n",
    "\n",
    "# only keep edges within federal circuit\n",
    "case_ids = set(case_metadata.index)\n",
    "edgelist = master_edgelist[master_edgelist.citing.isin(case_ids) & master_edgelist.cited.isin(case_ids)]\n",
    "\n",
    "# save federal edgelist\n",
    "edgelist.to_csv(experiment_data_dir + 'edgelist.csv', index=False)"
   ]
  },
  {
   "cell_type": "markdown",
   "metadata": {},
   "source": [
    "## make igraph object"
   ]
  },
  {
   "cell_type": "code",
   "execution_count": null,
   "metadata": {
    "collapsed": true
   },
   "outputs": [],
   "source": [
    "make_graph(experiment_data_dir, network_name)"
   ]
  },
  {
   "cell_type": "markdown",
   "metadata": {},
   "source": [
    "pretty sure we can kill the next cells, double check make_graph works"
   ]
  },
  {
   "cell_type": "code",
   "execution_count": 164,
   "metadata": {
    "collapsed": false
   },
   "outputs": [],
   "source": [
    "# case_metadata = pd.read_csv(experiment_data_dir + 'case_metadata.csv', index_col=0)\n",
    "# case_metadata.index = case_metadata.index.astype('str')\n",
    "\n",
    "# edgelist = pd.read_csv(experiment_data_dir + 'edgelist.csv', index_col=False)\n",
    "# edgelist['citing'] = edgelist['citing'].astype(str)\n",
    "# edgelist['cited'] = edgelist['cited'].astype(str)"
   ]
  },
  {
   "cell_type": "code",
   "execution_count": 165,
   "metadata": {
    "collapsed": false
   },
   "outputs": [],
   "source": [
    "# # initialize graph\n",
    "# G = ig.Graph(n=case_metadata.shape[0], directed=True)\n",
    "\n",
    "# # add opinion names\n",
    "# G.vs['name'] = case_metadata.index\n",
    "\n",
    "# # opinion to ig index mapping\n",
    "# op_to_ig = {op_id: G.vs.find(name=op_id).index  for op_id in G.vs['name']}\n",
    "\n",
    "# # convert edgelist to ig ids\n",
    "# edgelist_ig = edgelist.apply(lambda c: [op_to_ig[str(op_id)] for op_id in c])\n",
    "\n",
    "# # add edes to graph\n",
    "# G.add_edges(edgelist_ig.as_matrix().tolist())"
   ]
  },
  {
   "cell_type": "code",
   "execution_count": 121,
   "metadata": {
    "collapsed": false
   },
   "outputs": [],
   "source": [
    "# # add igraph index to case metadata\n",
    "# case_metadata['ig_index'] = 0\n",
    "# case_metadata.loc[G.vs['name'],'ig_index'] = range(len(G.vs))\n",
    "\n",
    "# # set missing issueArea to 0\n",
    "# no_issueArea = case_metadata.index[case_metadata['issueArea'].isnull()]\n",
    "# case_metadata.loc[no_issueArea,'issueArea'] = 0\n",
    "# case_metadata['issueArea'] = case_metadata['issueArea'].astype(int)\n",
    "\n",
    "# # add year\n",
    "# case_metadata['date'] = pd.to_datetime(case_metadata['date'])\n",
    "# case_metadata['year'] = case_metadata['date'].apply(lambda d: d.year)"
   ]
  },
  {
   "cell_type": "code",
   "execution_count": 176,
   "metadata": {
    "collapsed": false
   },
   "outputs": [],
   "source": [
    "# # add node metadata to graph\n",
    "# # pretty sure this is the right order\n",
    "# G.vs['year'] = case_metadata['year']\n",
    "# G.vs['issueArea'] = case_metadata['issueArea']\n",
    "# G.vs['issueArea'] = case_metadata['issueArea']\n",
    "# G.vs['court'] = case_metadata['court']"
   ]
  },
  {
   "cell_type": "code",
   "execution_count": 179,
   "metadata": {
    "collapsed": true
   },
   "outputs": [],
   "source": [
    "# G.write_graphml(experiment_data_dir + 'federal_network.graphml')"
   ]
  },
  {
   "cell_type": "markdown",
   "metadata": {},
   "source": [
    "TODO: add case metadata"
   ]
  },
  {
   "cell_type": "markdown",
   "metadata": {},
   "source": [
    "## make case text files"
   ]
  },
  {
   "cell_type": "code",
   "execution_count": 143,
   "metadata": {
    "collapsed": false
   },
   "outputs": [
    {
     "name": "stdout",
     "output_type": "stream",
     "text": [
      "scotus took 687 seconds\n",
      "cafc took 188 seconds\n",
      "cadc took 449 seconds\n",
      "ca1 took 587 seconds\n",
      "ca2 took 614 seconds\n",
      "ca3 took 610 seconds\n",
      "ca4 took 539 seconds\n",
      "ca5 took 966 seconds\n",
      "ca6 took 671 seconds\n",
      "ca7 took 601 seconds\n",
      "ca8 took 578 seconds\n",
      "ca9 took 1051 seconds\n",
      "ca10 took 429 seconds\n",
      "ca11 took 393 seconds\n"
     ]
    }
   ],
   "source": [
    "for court in courts:\n",
    "    start = time.time()\n",
    "    \n",
    "    # ignore bad scotus cases\n",
    "    if court == 'scotus':\n",
    "        CLid_bad = no_scdb_link\n",
    "    else:\n",
    "        CLid_bad = None\n",
    "    \n",
    "    # make the textfiles for give court\n",
    "    make_text_files(data_dir,\n",
    "                    court,\n",
    "                    CLid_good=None,\n",
    "                    CLid_bad=CLid_bad,\n",
    "                    output_path = text_dir)\n",
    "    \n",
    "    print '%s took %d seconds' % (court, time.time() - start)"
   ]
  },
  {
   "cell_type": "markdown",
   "metadata": {},
   "source": [
    "## make td-idf  matrix"
   ]
  },
  {
   "cell_type": "code",
   "execution_count": 1,
   "metadata": {
    "collapsed": false
   },
   "outputs": [],
   "source": [
    "# normalize textfiles\n",
    "%time %time make_tf_idf(text_dir, experiment_data_dir, min_df=0, max_df=1)"
   ]
  },
  {
   "cell_type": "markdown",
   "metadata": {},
   "source": [
    "## make snapshots"
   ]
  },
  {
   "cell_type": "code",
   "execution_count": 5,
   "metadata": {
    "collapsed": true
   },
   "outputs": [],
   "source": [
    "G = ig.Graph.Read_GraphML(experiment_data_dir + network_name +'_network.graphml')"
   ]
  },
  {
   "cell_type": "code",
   "execution_count": 7,
   "metadata": {
    "collapsed": true
   },
   "outputs": [],
   "source": [
    "vertex_metrics = ['indegree', 'outdegree', 'degree',\n",
    "                   'd_pagerank', 'authorities', 'hubs']\n",
    "\n",
    "active_years = range(1900, 2015 + 1)"
   ]
  },
  {
   "cell_type": "code",
   "execution_count": 10,
   "metadata": {
    "collapsed": false
   },
   "outputs": [
    {
     "name": "stdout",
     "output_type": "stream",
     "text": [
      "year 1900, (2/117) at 23:46:12\n",
      "year 1902, (4/117) at 23:46:13\n",
      "year 1906, (8/117) at 23:46:16\n",
      "year 1914, (16/117) at 23:46:23\n",
      "year 1930, (32/117) at 23:46:35\n",
      "year 1962, (64/117) at 23:47:39\n",
      "CPU times: user 17min 54s, sys: 34.3 s, total: 18min 28s\n",
      "Wall time: 19min 6s\n"
     ]
    }
   ],
   "source": [
    "%time make_snapshot_vertex_metrics(G, active_years, vertex_metrics, experiment_data_dir)"
   ]
  },
  {
   "cell_type": "markdown",
   "metadata": {},
   "source": [
    "## make edge dataframe"
   ]
  },
  {
   "cell_type": "code",
   "execution_count": null,
   "metadata": {
    "collapsed": true
   },
   "outputs": [],
   "source": []
  }
 ],
 "metadata": {
  "kernelspec": {
   "display_name": "Python 2",
   "language": "python",
   "name": "python2"
  },
  "language_info": {
   "codemirror_mode": {
    "name": "ipython",
    "version": 2
   },
   "file_extension": ".py",
   "mimetype": "text/x-python",
   "name": "python",
   "nbconvert_exporter": "python",
   "pygments_lexer": "ipython2",
   "version": "2.7.12"
  }
 },
 "nbformat": 4,
 "nbformat_minor": 0
}
