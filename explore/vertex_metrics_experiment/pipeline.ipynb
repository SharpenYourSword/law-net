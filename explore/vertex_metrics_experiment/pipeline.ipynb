{
 "cells": [
  {
   "cell_type": "code",
   "execution_count": null,
   "metadata": {
    "collapsed": true
   },
   "outputs": [],
   "source": []
  },
  {
   "cell_type": "code",
   "execution_count": 43,
   "metadata": {
    "collapsed": false
   },
   "outputs": [
    {
     "name": "stdout",
     "output_type": "stream",
     "text": [
      "The autoreload extension is already loaded. To reload it, use:\n",
      "  %reload_ext autoreload\n"
     ]
    }
   ],
   "source": [
    "top_directory = '/Users/iaincarmichael/Dropbox/Research/law/law-net/'\n",
    "\n",
    "from __future__ import division\n",
    "\n",
    "import os\n",
    "import sys\n",
    "import time\n",
    "from math import *\n",
    "import numpy as np\n",
    "import pandas as pd\n",
    "import matplotlib.pyplot as plt\n",
    "import igraph as ig\n",
    "\n",
    "# our code\n",
    "sys.path.append(top_directory + 'code/')\n",
    "from load_data import load_and_clean_graph, case_info\n",
    "\n",
    "from make_snapshots import *\n",
    "from make_edge_df import *\n",
    "from attachment_model_inference import *\n",
    "from compute_ranking_metrics import *\n",
    "\n",
    "# directory set up\n",
    "data_dir = top_directory + 'data/'\n",
    "experiment_data_dir = top_directory + 'explore/vertex_metrics_experiment/experiment_data/'\n",
    "\n",
    "court_name = 'scotus'\n",
    "\n",
    "# jupyter notebook settings\n",
    "%load_ext autoreload\n",
    "%autoreload 2\n",
    "%matplotlib inline"
   ]
  },
  {
   "cell_type": "code",
   "execution_count": 4,
   "metadata": {
    "collapsed": false
   },
   "outputs": [],
   "source": [
    "G = load_and_clean_graph(data_dir, court_name)"
   ]
  },
  {
   "cell_type": "code",
   "execution_count": 5,
   "metadata": {
    "collapsed": true
   },
   "outputs": [],
   "source": [
    "year_interval = 10\n",
    "years = [year for year in range(1760, 2021) if year % year_interval == 0]\n",
    "metrics = ['indegree','pagerank']\n",
    "\n",
    "\n",
    "num_non_edges_to_add = len(G.get_edgelist())"
   ]
  },
  {
   "cell_type": "code",
   "execution_count": 49,
   "metadata": {
    "collapsed": false
   },
   "outputs": [],
   "source": [
    "make_edgedata_train(experiment_data_dir)"
   ]
  },
  {
   "cell_type": "code",
   "execution_count": 51,
   "metadata": {
    "collapsed": false
   },
   "outputs": [],
   "source": [
    "columns_to_use = ['age', 'l_pagerank', 'indegree']\n",
    "LogReg = fit_logistic_regression(experiment_data_dir, columns_to_use)"
   ]
  },
  {
   "cell_type": "code",
   "execution_count": 67,
   "metadata": {
    "collapsed": false
   },
   "outputs": [],
   "source": [
    "def edge_data_row(citing_vert, cited_vert, ing_snapshot_df):\n",
    "    \"\"\"\n",
    "    Returns one row of the edge data frame\n",
    "    \"\"\"\n",
    "    # grab vertex metadata\n",
    "    citing_name = citing_vertex['name'][0]\n",
    "    cited_name = cited_vertex['name'][0]\n",
    "    citing_year = citing_vertex['year'][0]\n",
    "    cited_year = cited_vertex['year'][0]\n",
    "    \n",
    "    \n",
    "    cited_vertex_metrics = ing_snapshot_df.loc[cited_name].values.tolist()\n",
    "    \n",
    "    return (class_label) + \\\n",
    "           (citing_name, cited_name, citing_year, cited_year) + \\\n",
    "           (citing_year - cited_year) + \\\n",
    "           tuple(cited_vertex_metrics)"
   ]
  },
  {
   "cell_type": "code",
   "execution_count": 70,
   "metadata": {
    "collapsed": false
   },
   "outputs": [],
   "source": [
    "snapshots_dict = load_snapshots(experiment_data_dir)"
   ]
  },
  {
   "cell_type": "code",
   "execution_count": 72,
   "metadata": {
    "collapsed": false
   },
   "outputs": [],
   "source": [
    "df = snapshots_dict['vertex_metrics_1760']"
   ]
  },
  {
   "cell_type": "code",
   "execution_count": null,
   "metadata": {
    "collapsed": false
   },
   "outputs": [],
   "source": []
  },
  {
   "cell_type": "code",
   "execution_count": 75,
   "metadata": {
    "collapsed": false
   },
   "outputs": [
    {
     "data": {
      "text/html": [
       "<div>\n",
       "<table border=\"1\" class=\"dataframe\">\n",
       "  <thead>\n",
       "    <tr style=\"text-align: right;\">\n",
       "      <th></th>\n",
       "      <th>year</th>\n",
       "      <th>indegree</th>\n",
       "      <th>pagerank</th>\n",
       "    </tr>\n",
       "  </thead>\n",
       "  <tbody>\n",
       "    <tr>\n",
       "      <th>810012</th>\n",
       "      <td>1760</td>\n",
       "      <td>0</td>\n",
       "      <td>0.25</td>\n",
       "    </tr>\n",
       "    <tr>\n",
       "      <th>84581</th>\n",
       "      <td>1754</td>\n",
       "      <td>0</td>\n",
       "      <td>0.25</td>\n",
       "    </tr>\n",
       "    <tr>\n",
       "      <th>84582</th>\n",
       "      <td>1759</td>\n",
       "      <td>0</td>\n",
       "      <td>0.25</td>\n",
       "    </tr>\n",
       "    <tr>\n",
       "      <th>84583</th>\n",
       "      <td>1760</td>\n",
       "      <td>0</td>\n",
       "      <td>0.25</td>\n",
       "    </tr>\n",
       "  </tbody>\n",
       "</table>\n",
       "</div>"
      ],
      "text/plain": [
       "        year  indegree  pagerank\n",
       "810012  1760         0      0.25\n",
       "84581   1754         0      0.25\n",
       "84582   1759         0      0.25\n",
       "84583   1760         0      0.25"
      ]
     },
     "execution_count": 75,
     "metadata": {},
     "output_type": "execute_result"
    }
   ],
   "source": [
    "df"
   ]
  },
  {
   "cell_type": "code",
   "execution_count": null,
   "metadata": {
    "collapsed": true
   },
   "outputs": [],
   "source": []
  }
 ],
 "metadata": {
  "kernelspec": {
   "display_name": "Python 2",
   "language": "python",
   "name": "python2"
  },
  "language_info": {
   "codemirror_mode": {
    "name": "ipython",
    "version": 2
   },
   "file_extension": ".py",
   "mimetype": "text/x-python",
   "name": "python",
   "nbconvert_exporter": "python",
   "pygments_lexer": "ipython2",
   "version": "2.7.12"
  }
 },
 "nbformat": 4,
 "nbformat_minor": 0
}
