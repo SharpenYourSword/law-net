{
 "cells": [
  {
   "cell_type": "code",
   "execution_count": 9,
   "metadata": {
    "collapsed": false
   },
   "outputs": [
    {
     "name": "stdout",
     "output_type": "stream",
     "text": [
      "The autoreload extension is already loaded. To reload it, use:\n",
      "  %reload_ext autoreload\n"
     ]
    }
   ],
   "source": [
    "top_directory = '/Users/iaincarmichael/Dropbox/Research/law/law-net/'\n",
    "\n",
    "from __future__ import division\n",
    "\n",
    "import os\n",
    "import sys\n",
    "import time\n",
    "from math import *\n",
    "import copy\n",
    "import cPickle as pickle\n",
    "\n",
    "# data\n",
    "import numpy as np\n",
    "import pandas as pd\n",
    "\n",
    "# viz\n",
    "import matplotlib.pyplot as plt\n",
    "\n",
    "\n",
    "# graph\n",
    "import igraph as ig\n",
    "\n",
    "\n",
    "# NLP\n",
    "from nltk.corpus import stopwords\n",
    "\n",
    "\n",
    "# our code\n",
    "sys.path.append(top_directory + 'code/')\n",
    "from load_data import load_and_clean_graph, case_info\n",
    "from pipeline.download_data import download_bulk_resource\n",
    "from pipeline.make_clean_data import *\n",
    "from viz import print_describe\n",
    "\n",
    "\n",
    "sys.path.append(top_directory + 'explore/vertex_metrics_experiment/code/')\n",
    "from make_snapshots import *\n",
    "from make_edge_df import *\n",
    "from attachment_model_inference import *\n",
    "from compute_ranking_metrics import *\n",
    "from pipeline_helper_functions import *\n",
    "from make_case_text_files import *\n",
    "from bag_of_words import *\n",
    "from similarity_matrix import *\n",
    "\n",
    "# directory set up\n",
    "data_dir = top_directory + 'data/'\n",
    "experiment_data_dir = data_dir + 'vertex_metrics_experiment/'\n",
    "\n",
    "court_name = 'scotus'\n",
    "\n",
    "# jupyter notebook settings\n",
    "%load_ext autoreload\n",
    "%autoreload 2\n",
    "%matplotlib inline"
   ]
  },
  {
   "cell_type": "code",
   "execution_count": 10,
   "metadata": {
    "collapsed": false
   },
   "outputs": [],
   "source": [
    "G = load_and_clean_graph(data_dir, court_name)"
   ]
  },
  {
   "cell_type": "code",
   "execution_count": 11,
   "metadata": {
    "collapsed": true
   },
   "outputs": [],
   "source": [
    "active_years = range(1900, 2015 + 1)"
   ]
  },
  {
   "cell_type": "code",
   "execution_count": 12,
   "metadata": {
    "collapsed": true
   },
   "outputs": [],
   "source": [
    "seed_ranking = 4343\n",
    "\n",
    "R = 1000"
   ]
  },
  {
   "cell_type": "code",
   "execution_count": 57,
   "metadata": {
    "collapsed": true
   },
   "outputs": [],
   "source": [
    "results = pd.DataFrame(columns = ['mean_score', 'similarity', 'method'])"
   ]
  },
  {
   "cell_type": "markdown",
   "metadata": {},
   "source": [
    "# all metrics (no similarity)"
   ]
  },
  {
   "cell_type": "code",
   "execution_count": 42,
   "metadata": {
    "collapsed": false
   },
   "outputs": [],
   "source": [
    "columns_to_use = ['indegree', 'decayed_indegree', 's_pagerank', 'hubs', 'age']\n",
    "LogReg = fit_logistic_regression(experiment_data_dir, columns_to_use)"
   ]
  },
  {
   "cell_type": "code",
   "execution_count": 43,
   "metadata": {
    "collapsed": false
   },
   "outputs": [
    {
     "name": "stdout",
     "output_type": "stream",
     "text": [
      "(1/1000) at 20:35:30\n",
      "(2/1000) at 20:35:31\n",
      "(4/1000) at 20:35:31\n",
      "(8/1000) at 20:35:32\n",
      "(16/1000) at 20:35:35\n",
      "(32/1000) at 20:35:39\n",
      "(64/1000) at 20:35:48\n",
      "(128/1000) at 20:36:03\n",
      "(256/1000) at 20:36:30\n",
      "(512/1000) at 20:37:31\n"
     ]
    }
   ],
   "source": [
    "test_case_rank_scores_all = compute_ranking_metrics_LR(G, LogReg, columns_to_use, experiment_data_dir,\n",
    "                                                       active_years, R, seed=seed_ranking, print_progress=True)"
   ]
  },
  {
   "cell_type": "code",
   "execution_count": 58,
   "metadata": {
    "collapsed": false
   },
   "outputs": [
    {
     "name": "stdout",
     "output_type": "stream",
     "text": [
      "nobs: 1000\n",
      "mean: 0.846\n",
      "median: 0.885\n",
      "min: 0.082\n",
      "max: 1.000\n",
      "std: 0.122\n",
      "unique values 998\n"
     ]
    },
    {
     "data": {
      "text/plain": [
       "<matplotlib.text.Text at 0x135f5e690>"
      ]
     },
     "execution_count": 58,
     "metadata": {},
     "output_type": "execute_result"
    },
    {
     "data": {
      "image/png": "[encoded data removed]",
      "text/plain": [
       "<matplotlib.figure.Figure at 0x230a3c610>"
      ]
     },
     "metadata": {},
     "output_type": "display_data"
    }
   ],
   "source": [
    "results.loc['all', :] = [np.mean(test_case_rank_scores_all), False, 'combined']\n",
    "\n",
    "print_describe(test_case_rank_scores_all)\n",
    "\n",
    "plt.hist(test_case_rank_scores_all)\n",
    "plt.xlabel('rank scores')\n",
    "plt.title('all metrics no similarity')"
   ]
  },
  {
   "cell_type": "markdown",
   "metadata": {},
   "source": [
    "# indegree (no similarity)"
   ]
  },
  {
   "cell_type": "code",
   "execution_count": 16,
   "metadata": {
    "collapsed": true
   },
   "outputs": [],
   "source": [
    "columns_to_use = ['indegree']\n",
    "\n",
    "LogReg = fit_logistic_regression(experiment_data_dir, columns_to_use)"
   ]
  },
  {
   "cell_type": "code",
   "execution_count": 17,
   "metadata": {
    "collapsed": false
   },
   "outputs": [
    {
     "name": "stdout",
     "output_type": "stream",
     "text": [
      "(1/1000) at 16:57:15\n",
      "(2/1000) at 16:57:16\n",
      "(4/1000) at 16:57:16\n",
      "(8/1000) at 16:57:17\n",
      "(16/1000) at 16:57:19\n",
      "(32/1000) at 16:57:23\n",
      "(64/1000) at 16:57:29\n",
      "(128/1000) at 16:57:42\n",
      "(256/1000) at 16:58:04\n",
      "(512/1000) at 16:58:55\n"
     ]
    }
   ],
   "source": [
    "test_case_rank_scores_indeg = compute_ranking_metrics_LR(G, LogReg, columns_to_use, experiment_data_dir,\n",
    "                                                               active_years, R, seed=seed_ranking, print_progress=True)"
   ]
  },
  {
   "cell_type": "code",
   "execution_count": 59,
   "metadata": {
    "collapsed": false
   },
   "outputs": [
    {
     "name": "stdout",
     "output_type": "stream",
     "text": [
      "nobs: 1000\n",
      "mean: 0.666\n",
      "median: 0.703\n",
      "min: 0.001\n",
      "max: 1.000\n",
      "std: 0.171\n",
      "unique values 998\n"
     ]
    },
    {
     "data": {
      "text/plain": [
       "<matplotlib.text.Text at 0x135546290>"
      ]
     },
     "execution_count": 59,
     "metadata": {},
     "output_type": "execute_result"
    },
    {
     "data": {
      "image/png": "[encoded data removed]",
      "text/plain": [
       "<matplotlib.figure.Figure at 0x178e073d0>"
      ]
     },
     "metadata": {},
     "output_type": "display_data"
    }
   ],
   "source": [
    "results.loc['indeg', :] = [np.mean(test_case_rank_scores_indeg), False, 'indegree']\n",
    "\n",
    "print_describe(test_case_rank_scores_indeg)\n",
    "\n",
    "plt.hist(test_case_rank_scores_indeg)\n",
    "plt.xlabel('rank scores')\n",
    "plt.title('indegree, no similarity')"
   ]
  },
  {
   "cell_type": "markdown",
   "metadata": {},
   "source": [
    "# s_pagerank (no similarity)"
   ]
  },
  {
   "cell_type": "code",
   "execution_count": 19,
   "metadata": {
    "collapsed": true
   },
   "outputs": [],
   "source": [
    "columns_to_use = ['s_pagerank']\n",
    "\n",
    "LogReg = fit_logistic_regression(experiment_data_dir, columns_to_use)"
   ]
  },
  {
   "cell_type": "code",
   "execution_count": 20,
   "metadata": {
    "collapsed": false
   },
   "outputs": [
    {
     "name": "stdout",
     "output_type": "stream",
     "text": [
      "(1/1000) at 17:00:39\n",
      "(2/1000) at 17:00:39\n",
      "(4/1000) at 17:00:40\n",
      "(8/1000) at 17:00:41\n",
      "(16/1000) at 17:00:43\n",
      "(32/1000) at 17:00:47\n",
      "(64/1000) at 17:00:56\n",
      "(128/1000) at 17:01:08\n",
      "(256/1000) at 17:01:30\n",
      "(512/1000) at 17:02:18\n"
     ]
    }
   ],
   "source": [
    "test_case_rank_scores_pr = compute_ranking_metrics_LR(G, LogReg, columns_to_use, experiment_data_dir,\n",
    "                                                               active_years, R, seed=seed_ranking, print_progress=True)"
   ]
  },
  {
   "cell_type": "code",
   "execution_count": 60,
   "metadata": {
    "collapsed": false
   },
   "outputs": [
    {
     "name": "stdout",
     "output_type": "stream",
     "text": [
      "nobs: 1000\n",
      "mean: 0.582\n",
      "median: 0.593\n",
      "min: 0.001\n",
      "max: 0.999\n",
      "std: 0.152\n",
      "unique values 998\n"
     ]
    },
    {
     "data": {
      "text/plain": [
       "<matplotlib.text.Text at 0x11bd25fd0>"
      ]
     },
     "execution_count": 60,
     "metadata": {},
     "output_type": "execute_result"
    },
    {
     "data": {
      "image/png": "[encoded data removed]",
      "text/plain": [
       "<matplotlib.figure.Figure at 0x230a3cf90>"
      ]
     },
     "metadata": {},
     "output_type": "display_data"
    }
   ],
   "source": [
    "results.loc['s_pagerank', :] = [np.mean(test_case_rank_scores_pr), False, 'pagerank']\n",
    "\n",
    "print_describe(test_case_rank_scores_pr)\n",
    "\n",
    "plt.hist(test_case_rank_scores_pr)\n",
    "plt.xlabel('rank scores')\n",
    "plt.title('s_pagerank, no similarity')"
   ]
  },
  {
   "cell_type": "markdown",
   "metadata": {},
   "source": [
    "# hubs (no similarity)"
   ]
  },
  {
   "cell_type": "code",
   "execution_count": 28,
   "metadata": {
    "collapsed": true
   },
   "outputs": [],
   "source": [
    "columns_to_use = ['hubs']\n",
    "\n",
    "LogReg = fit_logistic_regression(experiment_data_dir, columns_to_use)"
   ]
  },
  {
   "cell_type": "code",
   "execution_count": 29,
   "metadata": {
    "collapsed": false
   },
   "outputs": [
    {
     "name": "stdout",
     "output_type": "stream",
     "text": [
      "(1/1000) at 18:18:12\n",
      "(2/1000) at 18:18:12\n",
      "(4/1000) at 18:18:13\n",
      "(8/1000) at 18:18:14\n",
      "(16/1000) at 18:18:18\n",
      "(32/1000) at 18:18:25\n",
      "(64/1000) at 18:18:35\n",
      "(128/1000) at 18:18:50\n",
      "(256/1000) at 18:19:14\n",
      "(512/1000) at 18:20:02\n"
     ]
    }
   ],
   "source": [
    "test_case_rank_scores_hubs = compute_ranking_metrics_LR(G, LogReg, columns_to_use, experiment_data_dir,\n",
    "                                                               active_years, R, seed=seed_ranking, print_progress=True)"
   ]
  },
  {
   "cell_type": "code",
   "execution_count": 61,
   "metadata": {
    "collapsed": false
   },
   "outputs": [
    {
     "name": "stdout",
     "output_type": "stream",
     "text": [
      "nobs: 1000\n",
      "mean: 0.780\n",
      "median: 0.814\n",
      "min: 0.004\n",
      "max: 1.000\n",
      "std: 0.162\n",
      "unique values 998\n"
     ]
    },
    {
     "data": {
      "text/plain": [
       "<matplotlib.text.Text at 0x11d79ed10>"
      ]
     },
     "execution_count": 61,
     "metadata": {},
     "output_type": "execute_result"
    },
    {
     "data": {
      "image/png": "[encoded data removed]",
      "text/plain": [
       "<matplotlib.figure.Figure at 0x12db80290>"
      ]
     },
     "metadata": {},
     "output_type": "display_data"
    }
   ],
   "source": [
    "results.loc['hubs', :] = [np.mean(test_case_rank_scores_hubs), False, 'hubs']\n",
    "\n",
    "print_describe(test_case_rank_scores_hubs)\n",
    "\n",
    "plt.hist(test_case_rank_scores_hubs)\n",
    "plt.xlabel('rank scores')\n",
    "plt.title('hubs, no similarity')"
   ]
  },
  {
   "cell_type": "markdown",
   "metadata": {},
   "source": [
    "# all metrics with similarity"
   ]
  },
  {
   "cell_type": "code",
   "execution_count": 53,
   "metadata": {
    "collapsed": true
   },
   "outputs": [],
   "source": [
    "columns_to_use = ['indegree', 'decayed_indegree', 's_pagerank', 'hubs', 'age', 'similarity']\n",
    "LogReg = fit_logistic_regression(experiment_data_dir, columns_to_use)"
   ]
  },
  {
   "cell_type": "code",
   "execution_count": 54,
   "metadata": {
    "collapsed": false
   },
   "outputs": [
    {
     "name": "stdout",
     "output_type": "stream",
     "text": [
      "(1/1000) at 21:20:32\n",
      "(2/1000) at 21:20:33\n",
      "(4/1000) at 21:20:33\n",
      "(8/1000) at 21:20:35\n",
      "(16/1000) at 21:20:38\n",
      "(32/1000) at 21:20:44\n",
      "(64/1000) at 21:20:56\n",
      "(128/1000) at 21:21:25\n",
      "(256/1000) at 21:22:05\n",
      "(512/1000) at 21:23:37\n"
     ]
    }
   ],
   "source": [
    "test_case_rank_scores_allsim = compute_ranking_metrics_LR(G, LogReg, columns_to_use, experiment_data_dir,\n",
    "                                                               active_years, R, seed=seed_ranking, print_progress=True)"
   ]
  },
  {
   "cell_type": "code",
   "execution_count": 62,
   "metadata": {
    "collapsed": false
   },
   "outputs": [
    {
     "name": "stdout",
     "output_type": "stream",
     "text": [
      "nobs: 1000\n",
      "mean: 0.872\n",
      "median: 0.918\n",
      "min: 0.071\n",
      "max: 1.000\n",
      "std: 0.124\n",
      "unique values 1000\n"
     ]
    },
    {
     "data": {
      "text/plain": [
       "<matplotlib.text.Text at 0x16b6c4310>"
      ]
     },
     "execution_count": 62,
     "metadata": {},
     "output_type": "execute_result"
    },
    {
     "data": {
      "image/png": "[encoded data removed]",
      "text/plain": [
       "<matplotlib.figure.Figure at 0x111fe1dd0>"
      ]
     },
     "metadata": {},
     "output_type": "display_data"
    }
   ],
   "source": [
    "results.loc['all_sim', :] = [np.mean(test_case_rank_scores_allsim), True, 'combined']\n",
    "\n",
    "print_describe(test_case_rank_scores_allsim)\n",
    "\n",
    "plt.hist(test_case_rank_scores_allsim)\n",
    "plt.xlabel('rank scores')\n",
    "plt.title('all metrics with similarity')"
   ]
  },
  {
   "cell_type": "markdown",
   "metadata": {},
   "source": [
    "# indegree with similarity"
   ]
  },
  {
   "cell_type": "code",
   "execution_count": 22,
   "metadata": {
    "collapsed": true
   },
   "outputs": [],
   "source": [
    "columns_to_use = ['indegree', 'similarity']\n",
    "\n",
    "LogReg = fit_logistic_regression(experiment_data_dir, columns_to_use)"
   ]
  },
  {
   "cell_type": "code",
   "execution_count": 23,
   "metadata": {
    "collapsed": false
   },
   "outputs": [
    {
     "name": "stdout",
     "output_type": "stream",
     "text": [
      "(1/1000) at 17:14:30\n",
      "(2/1000) at 17:14:32\n",
      "(4/1000) at 17:14:33\n",
      "(8/1000) at 17:14:34\n",
      "(16/1000) at 17:14:38\n",
      "(32/1000) at 17:14:44\n",
      "(64/1000) at 17:14:54\n",
      "(128/1000) at 17:15:19\n",
      "(256/1000) at 17:16:00\n",
      "(512/1000) at 17:17:24\n"
     ]
    }
   ],
   "source": [
    "test_case_rank_scores_indegsim = compute_ranking_metrics_LR(G, LogReg, columns_to_use, experiment_data_dir,\n",
    "                                                               active_years, R, seed=seed_ranking,print_progress=True)"
   ]
  },
  {
   "cell_type": "code",
   "execution_count": 63,
   "metadata": {
    "collapsed": false
   },
   "outputs": [
    {
     "name": "stdout",
     "output_type": "stream",
     "text": [
      "nobs: 1000\n",
      "mean: 0.843\n",
      "median: 0.866\n",
      "min: 0.139\n",
      "max: 1.000\n",
      "std: 0.120\n",
      "unique values 1000\n"
     ]
    },
    {
     "data": {
      "text/plain": [
       "<matplotlib.text.Text at 0x11d781890>"
      ]
     },
     "execution_count": 63,
     "metadata": {},
     "output_type": "execute_result"
    },
    {
     "data": {
      "image/png": "[encoded data removed]",
      "text/plain": [
       "<matplotlib.figure.Figure at 0x16b6ba250>"
      ]
     },
     "metadata": {},
     "output_type": "display_data"
    }
   ],
   "source": [
    "results.loc['indeg_sim', :] = [np.mean(test_case_rank_scores_indegsim), True, 'indegree']\n",
    "\n",
    "\n",
    "print_describe(test_case_rank_scores_indegsim)\n",
    "\n",
    "plt.hist(test_case_rank_scores_indegsim)\n",
    "plt.xlabel('rank scores')\n",
    "plt.title('indegree with similarity')"
   ]
  },
  {
   "cell_type": "markdown",
   "metadata": {},
   "source": [
    "# s_pagerank with similarity"
   ]
  },
  {
   "cell_type": "code",
   "execution_count": 25,
   "metadata": {
    "collapsed": true
   },
   "outputs": [],
   "source": [
    "columns_to_use = ['s_pagerank', 'similarity']\n",
    "\n",
    "LogReg = fit_logistic_regression(experiment_data_dir, columns_to_use)"
   ]
  },
  {
   "cell_type": "code",
   "execution_count": 26,
   "metadata": {
    "collapsed": false
   },
   "outputs": [],
   "source": [
    "test_case_rank_scores_prsim = compute_ranking_metrics_LR(G, LogReg, columns_to_use, experiment_data_dir,\n",
    "                                                   active_years, R, seed=seed_ranking)\n"
   ]
  },
  {
   "cell_type": "code",
   "execution_count": 64,
   "metadata": {
    "collapsed": false
   },
   "outputs": [
    {
     "name": "stdout",
     "output_type": "stream",
     "text": [
      "nobs: 1000\n",
      "mean: 0.846\n",
      "median: 0.867\n",
      "min: 0.134\n",
      "max: 1.000\n",
      "std: 0.128\n",
      "unique values 998\n"
     ]
    },
    {
     "data": {
      "text/plain": [
       "<matplotlib.text.Text at 0x24a8cf590>"
      ]
     },
     "execution_count": 64,
     "metadata": {},
     "output_type": "execute_result"
    },
    {
     "data": {
      "image/png": "[encoded data removed]",
      "text/plain": [
       "<matplotlib.figure.Figure at 0x11cc02710>"
      ]
     },
     "metadata": {},
     "output_type": "display_data"
    }
   ],
   "source": [
    "results.loc['s_pagerank_sim', :] = [np.mean(test_case_rank_scores_prsim), True, 'pagerank']\n",
    "\n",
    "print_describe(test_case_rank_scores_prsim)\n",
    "\n",
    "plt.hist(test_case_rank_scores_prsim)\n",
    "plt.xlabel('rank scores')\n",
    "plt.title('s_pagerank with similarity')"
   ]
  },
  {
   "cell_type": "markdown",
   "metadata": {},
   "source": [
    "# hubs with similarity"
   ]
  },
  {
   "cell_type": "code",
   "execution_count": 31,
   "metadata": {
    "collapsed": true
   },
   "outputs": [],
   "source": [
    "columns_to_use = ['hubs', 'similarity']\n",
    "\n",
    "LogReg = fit_logistic_regression(experiment_data_dir, columns_to_use)"
   ]
  },
  {
   "cell_type": "code",
   "execution_count": 32,
   "metadata": {
    "collapsed": false
   },
   "outputs": [],
   "source": [
    "test_case_rank_scores_hubssim = compute_ranking_metrics_LR(G, LogReg, columns_to_use, experiment_data_dir,\n",
    "                                                   active_years, R, seed=seed_ranking)\n"
   ]
  },
  {
   "cell_type": "code",
   "execution_count": 65,
   "metadata": {
    "collapsed": false
   },
   "outputs": [
    {
     "name": "stdout",
     "output_type": "stream",
     "text": [
      "nobs: 1000\n",
      "mean: 0.862\n",
      "median: 0.893\n",
      "min: 0.135\n",
      "max: 1.000\n",
      "std: 0.122\n",
      "unique values 1000\n"
     ]
    },
    {
     "data": {
      "text/plain": [
       "<matplotlib.text.Text at 0x13586fa50>"
      ]
     },
     "execution_count": 65,
     "metadata": {},
     "output_type": "execute_result"
    },
    {
     "data": {
      "image/png": "[encoded data removed]",
      "text/plain": [
       "<matplotlib.figure.Figure at 0x111ff8290>"
      ]
     },
     "metadata": {},
     "output_type": "display_data"
    }
   ],
   "source": [
    "results.loc['hubs_sim', :] = [np.mean(test_case_rank_scores_hubssim), True, 'hubs']\n",
    "\n",
    "\n",
    "print_describe(test_case_rank_scores_hubssim)\n",
    "\n",
    "plt.hist(test_case_rank_scores_hubssim)\n",
    "plt.xlabel('rank scores')\n",
    "plt.title('hubs with similarity')"
   ]
  },
  {
   "cell_type": "markdown",
   "metadata": {},
   "source": [
    "# results"
   ]
  },
  {
   "cell_type": "code",
   "execution_count": 81,
   "metadata": {
    "collapsed": false
   },
   "outputs": [
    {
     "data": {
      "text/html": [
       "<div>\n",
       "<table border=\"1\" class=\"dataframe\">\n",
       "  <thead>\n",
       "    <tr style=\"text-align: right;\">\n",
       "      <th></th>\n",
       "      <th>mean_score</th>\n",
       "      <th>similarity</th>\n",
       "      <th>method</th>\n",
       "    </tr>\n",
       "  </thead>\n",
       "  <tbody>\n",
       "    <tr>\n",
       "      <th>all</th>\n",
       "      <td>0.845921</td>\n",
       "      <td>False</td>\n",
       "      <td>combined</td>\n",
       "    </tr>\n",
       "    <tr>\n",
       "      <th>indeg</th>\n",
       "      <td>0.665713</td>\n",
       "      <td>False</td>\n",
       "      <td>indegree</td>\n",
       "    </tr>\n",
       "    <tr>\n",
       "      <th>s_pagerank</th>\n",
       "      <td>0.582087</td>\n",
       "      <td>False</td>\n",
       "      <td>pagerank</td>\n",
       "    </tr>\n",
       "    <tr>\n",
       "      <th>hubs</th>\n",
       "      <td>0.779811</td>\n",
       "      <td>False</td>\n",
       "      <td>hubs</td>\n",
       "    </tr>\n",
       "    <tr>\n",
       "      <th>all_sim</th>\n",
       "      <td>0.871801</td>\n",
       "      <td>True</td>\n",
       "      <td>combined</td>\n",
       "    </tr>\n",
       "    <tr>\n",
       "      <th>indeg_sim</th>\n",
       "      <td>0.843375</td>\n",
       "      <td>True</td>\n",
       "      <td>indegree</td>\n",
       "    </tr>\n",
       "    <tr>\n",
       "      <th>s_pagerank_sim</th>\n",
       "      <td>0.846453</td>\n",
       "      <td>True</td>\n",
       "      <td>pagerank</td>\n",
       "    </tr>\n",
       "    <tr>\n",
       "      <th>hubs_sim</th>\n",
       "      <td>0.862307</td>\n",
       "      <td>True</td>\n",
       "      <td>hubs</td>\n",
       "    </tr>\n",
       "  </tbody>\n",
       "</table>\n",
       "</div>"
      ],
      "text/plain": [
       "               mean_score similarity    method\n",
       "all              0.845921      False  combined\n",
       "indeg            0.665713      False  indegree\n",
       "s_pagerank       0.582087      False  pagerank\n",
       "hubs             0.779811      False      hubs\n",
       "all_sim          0.871801       True  combined\n",
       "indeg_sim        0.843375       True  indegree\n",
       "s_pagerank_sim   0.846453       True  pagerank\n",
       "hubs_sim         0.862307       True      hubs"
      ]
     },
     "execution_count": 81,
     "metadata": {},
     "output_type": "execute_result"
    }
   ],
   "source": [
    "# stupid formatting\n",
    "results['similarity'] = results['similarity'].astype(np.bool)\n",
    "\n",
    "\n",
    "results"
   ]
  },
  {
   "cell_type": "code",
   "execution_count": 90,
   "metadata": {
    "collapsed": false
   },
   "outputs": [
    {
     "data": {
      "text/html": [
       "<div>\n",
       "<table border=\"1\" class=\"dataframe\">\n",
       "  <thead>\n",
       "    <tr style=\"text-align: right;\">\n",
       "      <th></th>\n",
       "      <th>mean_score</th>\n",
       "      <th>similarity</th>\n",
       "      <th>method</th>\n",
       "    </tr>\n",
       "  </thead>\n",
       "  <tbody>\n",
       "    <tr>\n",
       "      <th>all</th>\n",
       "      <td>0.845921</td>\n",
       "      <td>False</td>\n",
       "      <td>combined</td>\n",
       "    </tr>\n",
       "    <tr>\n",
       "      <th>hubs</th>\n",
       "      <td>0.779811</td>\n",
       "      <td>False</td>\n",
       "      <td>hubs</td>\n",
       "    </tr>\n",
       "    <tr>\n",
       "      <th>indeg</th>\n",
       "      <td>0.665713</td>\n",
       "      <td>False</td>\n",
       "      <td>indegree</td>\n",
       "    </tr>\n",
       "    <tr>\n",
       "      <th>s_pagerank</th>\n",
       "      <td>0.582087</td>\n",
       "      <td>False</td>\n",
       "      <td>pagerank</td>\n",
       "    </tr>\n",
       "  </tbody>\n",
       "</table>\n",
       "</div>"
      ],
      "text/plain": [
       "           mean_score similarity    method\n",
       "all          0.845921      False  combined\n",
       "hubs         0.779811      False      hubs\n",
       "indeg        0.665713      False  indegree\n",
       "s_pagerank   0.582087      False  pagerank"
      ]
     },
     "execution_count": 90,
     "metadata": {},
     "output_type": "execute_result"
    }
   ],
   "source": [
    "# without similarity\n",
    "results[~results['similarity']].sort_values(by='mean_score', ascending=False)"
   ]
  },
  {
   "cell_type": "code",
   "execution_count": 92,
   "metadata": {
    "collapsed": false
   },
   "outputs": [
    {
     "data": {
      "text/html": [
       "<div>\n",
       "<table border=\"1\" class=\"dataframe\">\n",
       "  <thead>\n",
       "    <tr style=\"text-align: right;\">\n",
       "      <th></th>\n",
       "      <th>mean_score</th>\n",
       "      <th>similarity</th>\n",
       "      <th>method</th>\n",
       "    </tr>\n",
       "  </thead>\n",
       "  <tbody>\n",
       "    <tr>\n",
       "      <th>all_sim</th>\n",
       "      <td>0.871801</td>\n",
       "      <td>True</td>\n",
       "      <td>combined</td>\n",
       "    </tr>\n",
       "    <tr>\n",
       "      <th>hubs_sim</th>\n",
       "      <td>0.862307</td>\n",
       "      <td>True</td>\n",
       "      <td>hubs</td>\n",
       "    </tr>\n",
       "    <tr>\n",
       "      <th>s_pagerank_sim</th>\n",
       "      <td>0.846453</td>\n",
       "      <td>True</td>\n",
       "      <td>pagerank</td>\n",
       "    </tr>\n",
       "    <tr>\n",
       "      <th>indeg_sim</th>\n",
       "      <td>0.843375</td>\n",
       "      <td>True</td>\n",
       "      <td>indegree</td>\n",
       "    </tr>\n",
       "  </tbody>\n",
       "</table>\n",
       "</div>"
      ],
      "text/plain": [
       "               mean_score similarity    method\n",
       "all_sim          0.871801       True  combined\n",
       "hubs_sim         0.862307       True      hubs\n",
       "s_pagerank_sim   0.846453       True  pagerank\n",
       "indeg_sim        0.843375       True  indegree"
      ]
     },
     "execution_count": 92,
     "metadata": {},
     "output_type": "execute_result"
    }
   ],
   "source": [
    "# with similarity\n",
    "results[results['similarity']].sort_values(by='mean_score', ascending=False)"
   ]
  },
  {
   "cell_type": "markdown",
   "metadata": {
    "collapsed": true
   },
   "source": [
    "# surgery"
   ]
  }
 ],
 "metadata": {
  "kernelspec": {
   "display_name": "Python 2",
   "language": "python",
   "name": "python2"
  },
  "language_info": {
   "codemirror_mode": {
    "name": "ipython",
    "version": 2
   },
   "file_extension": ".py",
   "mimetype": "text/x-python",
   "name": "python",
   "nbconvert_exporter": "python",
   "pygments_lexer": "ipython2",
   "version": "2.7.12"
  }
 },
 "nbformat": 4,
 "nbformat_minor": 0
}
