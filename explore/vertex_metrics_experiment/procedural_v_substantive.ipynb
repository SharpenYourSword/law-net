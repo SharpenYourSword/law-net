{
 "cells": [
  {
   "cell_type": "code",
   "execution_count": 45,
   "metadata": {
    "collapsed": false
   },
   "outputs": [
    {
     "name": "stdout",
     "output_type": "stream",
     "text": [
      "The autoreload extension is already loaded. To reload it, use:\n",
      "  %reload_ext autoreload\n"
     ]
    }
   ],
   "source": [
    "repo_directory = '/Users/iaincarmichael/Dropbox/Research/law/law-net/'\n",
    "\n",
    "data_dir = '/Users/iaincarmichael/Documents/courtlistener/data/'\n",
    "\n",
    "import numpy as np\n",
    "import sys\n",
    "import matplotlib.pyplot as plt\n",
    "\n",
    "\n",
    "# graph package\n",
    "import igraph as ig\n",
    "\n",
    "# our code\n",
    "sys.path.append(repo_directory + 'code/')\n",
    "from setup_data_dir import setup_data_dir, make_subnetwork_directory\n",
    "from pipeline.download_data import download_bulk_resource, download_master_edgelist, download_scdb\n",
    "from helpful_functions import case_info\n",
    "\n",
    "from stats.viz import *\n",
    "from stats.dim_reduction import *\n",
    "from stats.linear_model import *\n",
    "\n",
    "sys.path.append(repo_directory + 'explore/vertex_metrics_experiment/code/')\n",
    "from rankscore_experiment_sort import *\n",
    "from rankscore_experiment_LR import *\n",
    "from make_tr_edge_df import *\n",
    "\n",
    "\n",
    "# which network to download data for\n",
    "network_name = 'scotus' # 'federal', 'ca1', etc\n",
    "\n",
    "\n",
    "# some sub directories that get used\n",
    "raw_dir = data_dir + 'raw/'\n",
    "subnet_dir = data_dir + network_name + '/'\n",
    "text_dir = subnet_dir + 'textfiles/'\n",
    "\n",
    "\n",
    "# jupyter notebook settings\n",
    "%load_ext autoreload\n",
    "%autoreload 2\n",
    "%matplotlib inline"
   ]
  },
  {
   "cell_type": "code",
   "execution_count": 2,
   "metadata": {
    "collapsed": true
   },
   "outputs": [],
   "source": [
    "G = ig.Graph.Read_GraphML(subnet_dir + network_name +'_network.graphml')"
   ]
  },
  {
   "cell_type": "markdown",
   "metadata": {},
   "source": [
    "# compute metrics"
   ]
  },
  {
   "cell_type": "code",
   "execution_count": 33,
   "metadata": {
    "collapsed": false
   },
   "outputs": [
    {
     "name": "stdout",
     "output_type": "stream",
     "text": [
      "CPU times: user 47 ms, sys: 6.85 ms, total: 53.8 ms\n",
      "Wall time: 55.5 ms\n"
     ]
    }
   ],
   "source": [
    "%time d_pagerank = G.pagerank()"
   ]
  },
  {
   "cell_type": "code",
   "execution_count": 29,
   "metadata": {
    "collapsed": false
   },
   "outputs": [
    {
     "name": "stdout",
     "output_type": "stream",
     "text": [
      "CPU times: user 498 ms, sys: 50.8 ms, total: 548 ms\n",
      "Wall time: 565 ms\n"
     ]
    }
   ],
   "source": [
    "%time u_pagerank = G.as_undirected().pagerank()"
   ]
  },
  {
   "cell_type": "code",
   "execution_count": 21,
   "metadata": {
    "collapsed": false
   },
   "outputs": [
    {
     "name": "stdout",
     "output_type": "stream",
     "text": [
      "CPU times: user 1min 7s, sys: 987 ms, total: 1min 8s\n",
      "Wall time: 1min 9s\n"
     ]
    }
   ],
   "source": [
    "%time d_betweenness = G.betweenness(directed=True)"
   ]
  },
  {
   "cell_type": "code",
   "execution_count": 26,
   "metadata": {
    "collapsed": false
   },
   "outputs": [
    {
     "name": "stdout",
     "output_type": "stream",
     "text": [
      "CPU times: user 6min 45s, sys: 8.38 s, total: 6min 53s\n",
      "Wall time: 7min 8s\n"
     ]
    }
   ],
   "source": [
    "%time u_betweenness = G.as_undirected().betweenness(directed=False)"
   ]
  },
  {
   "cell_type": "code",
   "execution_count": 22,
   "metadata": {
    "collapsed": false
   },
   "outputs": [
    {
     "name": "stdout",
     "output_type": "stream",
     "text": [
      "CPU times: user 43.2 s, sys: 1.34 s, total: 44.6 s\n",
      "Wall time: 46.1 s\n"
     ]
    }
   ],
   "source": [
    "%time d_closeness =  G.closeness(mode=\"IN\", normalized=True)"
   ]
  },
  {
   "cell_type": "code",
   "execution_count": 25,
   "metadata": {
    "collapsed": false
   },
   "outputs": [
    {
     "name": "stdout",
     "output_type": "stream",
     "text": [
      "CPU times: user 3min 27s, sys: 3.69 s, total: 3min 30s\n",
      "Wall time: 3min 41s\n"
     ]
    }
   ],
   "source": [
    "%time u_closeness = G.as_undirected().closeness(normalized=True)"
   ]
  },
  {
   "cell_type": "code",
   "execution_count": 30,
   "metadata": {
    "collapsed": false
   },
   "outputs": [
    {
     "name": "stdout",
     "output_type": "stream",
     "text": [
      "CPU times: user 1min 32s, sys: 896 ms, total: 1min 33s\n",
      "Wall time: 1min 34s\n"
     ]
    }
   ],
   "source": [
    "%time d_eigen = G.eigenvector_centrality()"
   ]
  },
  {
   "cell_type": "code",
   "execution_count": 31,
   "metadata": {
    "collapsed": false
   },
   "outputs": [
    {
     "name": "stdout",
     "output_type": "stream",
     "text": [
      "CPU times: user 493 ms, sys: 14.9 ms, total: 508 ms\n",
      "Wall time: 513 ms\n"
     ]
    }
   ],
   "source": [
    "%time u_eigen = G.as_undirected().eigenvector_centrality()"
   ]
  },
  {
   "cell_type": "code",
   "execution_count": 120,
   "metadata": {
    "collapsed": false
   },
   "outputs": [
    {
     "name": "stdout",
     "output_type": "stream",
     "text": [
      "CPU times: user 339 ms, sys: 6.08 ms, total: 345 ms\n",
      "Wall time: 349 ms\n"
     ]
    }
   ],
   "source": [
    "%time hubs = G.hub_score()"
   ]
  },
  {
   "cell_type": "code",
   "execution_count": 121,
   "metadata": {
    "collapsed": false
   },
   "outputs": [
    {
     "name": "stdout",
     "output_type": "stream",
     "text": [
      "CPU times: user 316 ms, sys: 2.48 ms, total: 319 ms\n",
      "Wall time: 319 ms\n"
     ]
    }
   ],
   "source": [
    "%time authorities = G.authority_score()"
   ]
  },
  {
   "cell_type": "code",
   "execution_count": 176,
   "metadata": {
    "collapsed": true
   },
   "outputs": [],
   "source": [
    "indegree = G.indegree()\n",
    "outdegree = G.outdegree()\n",
    "degree = G.degree()"
   ]
  },
  {
   "cell_type": "code",
   "execution_count": 177,
   "metadata": {
    "collapsed": false
   },
   "outputs": [],
   "source": [
    "df = pd.DataFrame(index=G.vs['name'])\n",
    "\n",
    "df['year'] = G.vs['year']\n",
    "\n",
    "df['indegree'] = indegree\n",
    "df['outdegree'] = outdegree\n",
    "df['degree'] = degree\n",
    "df['d_pagerank'] = d_pagerank\n",
    "df['u_pagerank'] = u_pagerank\n",
    "df['d_betweenness'] = d_betweenness\n",
    "df['u_betweenness'] = u_betweenness\n",
    "df['d_closeness'] = d_closeness\n",
    "df['u_closeness'] = u_closeness\n",
    "df['d_eigen'] = d_eigen\n",
    "df['u_eigen'] = u_eigen\n",
    "df['hubs'] = hubs\n",
    "df['authorities'] = authorities"
   ]
  },
  {
   "cell_type": "markdown",
   "metadata": {},
   "source": [
    "# issue area"
   ]
  },
  {
   "cell_type": "code",
   "execution_count": 146,
   "metadata": {
    "collapsed": true
   },
   "outputs": [],
   "source": [
    "# map types to issues\n",
    "type_to_issue = {'procedural': [1, 4, 6, 9],\n",
    "                 'substantive': [2, 3, 5, 7, 8, 12, 14],\n",
    "                 'other': [10, 11, 13, 0]}\n",
    "\n",
    "# map issues to type\n",
    "issue_to_type = {i: '' for i in range(13 + 1)}\n",
    "for t in type_to_issue.keys():\n",
    "    for i in type_to_issue[t]:\n",
    "        issue_to_type[i] = t"
   ]
  },
  {
   "cell_type": "code",
   "execution_count": 182,
   "metadata": {
    "collapsed": false
   },
   "outputs": [],
   "source": [
    "# create type\n",
    "G.vs['issueArea'] = [int(i) for i in G.vs['issueArea']]\n",
    "G.vs['type'] = [issue_to_type[i] for i in G.vs['issueArea']]\n",
    "\n",
    "# add to data frame\n",
    "df['issueArea'] = G.vs['issueArea']\n",
    "df['type'] = G.vs['type']"
   ]
  },
  {
   "cell_type": "code",
   "execution_count": 183,
   "metadata": {
    "collapsed": false
   },
   "outputs": [
    {
     "name": "stdout",
     "output_type": "stream",
     "text": [
      "num substantive: 16891\n",
      "num procedural: 9733\n",
      "num other: 1261\n"
     ]
    }
   ],
   "source": [
    "# get type subsets\n",
    "df_sub = df[df['type'] == 'substantive']\n",
    "df_pro = df[df['type'] == 'procedural']\n",
    "df_oth = df[df['type'] == 'other']\n",
    "\n",
    "print 'num substantive: %d' % df_sub.shape[0]\n",
    "print 'num procedural: %d' % df_pro.shape[0]\n",
    "print 'num other: %d' % df_oth.shape[0]"
   ]
  },
  {
   "cell_type": "code",
   "execution_count": 184,
   "metadata": {
    "collapsed": false
   },
   "outputs": [
    {
     "data": {
      "text/plain": [
       "Index([u'year', u'indegree', u'outdegree', u'degree', u'd_pagerank',\n",
       "       u'u_pagerank', u'd_betweenness', u'u_betweenness', u'd_closeness',\n",
       "       u'u_closeness', u'd_eigen', u'u_eigen', u'hubs', u'authorities',\n",
       "       u'issueArea', u'type'],\n",
       "      dtype='object')"
      ]
     },
     "execution_count": 184,
     "metadata": {},
     "output_type": "execute_result"
    }
   ],
   "source": [
    "df.columns"
   ]
  },
  {
   "cell_type": "code",
   "execution_count": 185,
   "metadata": {
    "collapsed": false
   },
   "outputs": [
    {
     "data": {
      "text/plain": [
       "<matplotlib.legend.Legend at 0x135c8a750>"
      ]
     },
     "execution_count": 185,
     "metadata": {},
     "output_type": "execute_result"
    },
    {
     "data": {
      "image/png": "[encoded data removed]",
      "text/plain": [
       "<matplotlib.figure.Figure at 0x135417b90>"
      ]
     },
     "metadata": {},
     "output_type": "display_data"
    }
   ],
   "source": [
    "\n",
    "metric = 'indegree'\n",
    "\n",
    "bins = np.linspace(min(df[metric]), max(df[metric]), 100)\n",
    "\n",
    "# substantive\n",
    "plt.hist(df_sub[metric],\n",
    "         bins=bins,\n",
    "         color='red',\n",
    "         label='substantive (mean: %1.5f)' % np.mean(df_sub[metric]))\n",
    "\n",
    "# procedural\n",
    "plt.hist(df_pro[metric],\n",
    "         bins=bins,\n",
    "         color='blue',\n",
    "         label='procedural (mean: %1.5f)' % np.mean(df_pro[metric]))\n",
    "\n",
    "# other\n",
    "plt.hist(df_oth[metric],\n",
    "         bins=bins,\n",
    "         color='green',\n",
    "         label='other (mean: %1.5f)' % np.mean(df_oth[metric]))\n",
    "\n",
    "# plt.xlim([0, .2])\n",
    "# plt.ylim([0, 2000])\n",
    "\n",
    "plt.xlabel(metric)\n",
    "plt.legend(loc='upper right')"
   ]
  },
  {
   "cell_type": "code",
   "execution_count": 207,
   "metadata": {
    "collapsed": false
   },
   "outputs": [
    {
     "data": {
      "text/plain": [
       "substantive    0.004262\n",
       "procedural     0.010959\n",
       "other         -0.015221\n",
       "Name: type, dtype: float64"
      ]
     },
     "execution_count": 207,
     "metadata": {},
     "output_type": "execute_result"
    }
   ],
   "source": [
    "R = 100\n",
    "\n",
    "top_cases = df.sort_values(by=metric, ascending=False).iloc[0:R]['type']\n",
    "top_breakdown = top_cases.value_counts(normalize=True)\n",
    "all_breakdown = df['type'].value_counts(normalize=True)\n",
    "\n",
    "top_breakdown - all_breakdown"
   ]
  }
 ],
 "metadata": {
  "kernelspec": {
   "display_name": "Python 2",
   "language": "python",
   "name": "python2"
  },
  "language_info": {
   "codemirror_mode": {
    "name": "ipython",
    "version": 2
   },
   "file_extension": ".py",
   "mimetype": "text/x-python",
   "name": "python",
   "nbconvert_exporter": "python",
   "pygments_lexer": "ipython2",
   "version": "2.7.12"
  }
 },
 "nbformat": 4,
 "nbformat_minor": 0
}
