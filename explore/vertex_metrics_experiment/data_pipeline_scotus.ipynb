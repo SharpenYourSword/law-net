{
 "cells": [
  {
   "cell_type": "code",
   "execution_count": 1,
   "metadata": {
    "collapsed": false
   },
   "outputs": [],
   "source": [
    "#top_directory = '/Users/iaincarmichael/Dropbox/Research/law/law-net/'\n",
    "top_directory = '/Users/Michael/Documents/GitHub/law-net/'\n",
    "\n",
    "import os\n",
    "import sys\n",
    "import time\n",
    "from math import *\n",
    "import copy\n",
    "import cPickle as pickle\n",
    "\n",
    "# data\n",
    "import numpy as np\n",
    "import pandas as pd\n",
    "\n",
    "# viz\n",
    "import matplotlib.pyplot as plt\n",
    "\n",
    "\n",
    "# graph\n",
    "import igraph as ig\n",
    "\n",
    "\n",
    "# our code\n",
    "sys.path.append(top_directory + 'code/')\n",
    "from pipeline.download_data import *\n",
    "from pipeline.make_raw_case_metadata import *\n",
    "from load_data import case_info\n",
    "\n",
    "sys.path.append(top_directory + 'explore/vertex_metrics_experiment/code/')\n",
    "from make_case_text_files import *\n",
    "from bag_of_words import *\n",
    "from similarity_matrix import *\n",
    "from make_snapshots import *\n",
    "from make_graph import *\n",
    "\n",
    "\n",
    "# court\n",
    "court = 'scotus'\n",
    "network_name = 'scotus'\n",
    "\n",
    "# directory set up\n",
    "\n",
    "#data_dir = '/Users/iaincarmichael/Documents/courtlistener/data/'\n",
    "data_dir = '/Users/Michael/Desktop/blah/'\n",
    "\n",
    "experiment_data_dir = data_dir + 'scotus/'\n",
    "text_dir = experiment_data_dir + 'textfiles/'\n",
    "\n",
    "\n",
    "\n",
    "# jupyter notebook settings\n",
    "%load_ext autoreload\n",
    "%autoreload 2\n",
    "%matplotlib inline"
   ]
  },
  {
   "cell_type": "markdown",
   "metadata": {},
   "source": [
    "# download scdb files"
   ]
  },
  {
   "cell_type": "code",
   "execution_count": 2,
   "metadata": {
    "collapsed": true
   },
   "outputs": [],
   "source": [
    "download_scdb(data_dir)"
   ]
  },
  {
   "cell_type": "markdown",
   "metadata": {
    "collapsed": true
   },
   "source": [
    "# download opinion and cluster files"
   ]
  },
  {
   "cell_type": "code",
   "execution_count": 3,
   "metadata": {
    "collapsed": false
   },
   "outputs": [
    {
     "name": "stdout",
     "output_type": "stream",
     "text": [
      "requesting metadata for scotus\n",
      "Downloading clusters data for court SCOTUS...\n",
      "requesting metadata for scotus\n",
      "Downloading opinions data for court SCOTUS...\n"
     ]
    }
   ],
   "source": [
    "download_bulk_resource(court, 'clusters', data_dir)\n",
    "download_bulk_resource(court, 'opinions', data_dir)"
   ]
  },
  {
   "cell_type": "markdown",
   "metadata": {},
   "source": [
    "# download the master edgelist"
   ]
  },
  {
   "cell_type": "code",
   "execution_count": 4,
   "metadata": {
    "collapsed": false
   },
   "outputs": [
    {
     "name": "stdout",
     "output_type": "stream",
     "text": [
      "downloading edgelist gzip...\n"
     ]
    }
   ],
   "source": [
    "# was commented out previously (why?)\n",
    "download_master_edgelist(data_dir)"
   ]
  },
  {
   "cell_type": "markdown",
   "metadata": {},
   "source": [
    "# make case metadata"
   ]
  },
  {
   "cell_type": "code",
   "execution_count": 5,
   "metadata": {
    "collapsed": false
   },
   "outputs": [
    {
     "name": "stdout",
     "output_type": "stream",
     "text": [
      "Wall time: 4min 20s\n"
     ]
    }
   ],
   "source": [
    "%time case_metadata = get_raw_case_metadata_from_court(court, data_dir)"
   ]
  },
  {
   "cell_type": "code",
   "execution_count": 6,
   "metadata": {
    "collapsed": false,
    "scrolled": false
   },
   "outputs": [],
   "source": [
    "case_metadata.to_csv(data_dir + 'raw/scotus_case_metadata_r.csv', index=True)"
   ]
  },
  {
   "cell_type": "markdown",
   "metadata": {},
   "source": [
    "# clean scotus\n",
    "\n",
    "kill SCOTUS cases with no SCDB ids"
   ]
  },
  {
   "cell_type": "code",
   "execution_count": 7,
   "metadata": {
    "collapsed": true
   },
   "outputs": [],
   "source": [
    "case_metadata = pd.read_csv(data_dir + 'raw/scotus_case_metadata_r.csv', index_col=0)\n",
    "case_metadata.index= case_metadata.index.astype('str')"
   ]
  },
  {
   "cell_type": "code",
   "execution_count": 8,
   "metadata": {
    "collapsed": false
   },
   "outputs": [],
   "source": [
    "# scotus scdb ids\n",
    "scdb_ids = case_metadata['scdb_id']\n",
    "\n",
    "# scotus cases with no scdb id\n",
    "no_scdb_link = scdb_ids.index[scdb_ids.isnull()].tolist()\n",
    "\n",
    "# remove SCOTUS cases with no SCDB id\n",
    "case_metadata.drop(no_scdb_link, inplace=True)\n",
    "\n",
    "# kill detroit lumber\n",
    "case_metadata.drop('96405', inplace=True)"
   ]
  },
  {
   "cell_type": "code",
   "execution_count": 9,
   "metadata": {
    "collapsed": true
   },
   "outputs": [],
   "source": [
    "case_metadata.to_csv(experiment_data_dir + 'case_metadata.csv', index=True)"
   ]
  },
  {
   "cell_type": "markdown",
   "metadata": {},
   "source": [
    "# get the SCOTUS subedgelist"
   ]
  },
  {
   "cell_type": "code",
   "execution_count": 10,
   "metadata": {
    "collapsed": false
   },
   "outputs": [],
   "source": [
    "# load master edgelist\n",
    "master_edgelist = pd.read_csv(data_dir + 'raw/edgelist_master_r.csv')\n",
    "\n",
    "# only keep edges within scotus\n",
    "case_ids = set(case_metadata.index)\n",
    "edgelist = master_edgelist[master_edgelist.citing.isin(case_ids) & master_edgelist.cited.isin(case_ids)]\n",
    "\n",
    "# save federal edgelist\n",
    "edgelist.to_csv(experiment_data_dir + 'edgelist.csv', index=False)"
   ]
  },
  {
   "cell_type": "markdown",
   "metadata": {},
   "source": [
    "## make igraph object"
   ]
  },
  {
   "cell_type": "code",
   "execution_count": 11,
   "metadata": {
    "collapsed": false
   },
   "outputs": [
    {
     "name": "stdout",
     "output_type": "stream",
     "text": [
      "Wall time: 4.52 s\n"
     ]
    }
   ],
   "source": [
    "%time make_graph(experiment_data_dir, network_name)"
   ]
  },
  {
   "cell_type": "markdown",
   "metadata": {},
   "source": [
    "## make case text files"
   ]
  },
  {
   "cell_type": "code",
   "execution_count": 12,
   "metadata": {
    "collapsed": false
   },
   "outputs": [
    {
     "name": "stdout",
     "output_type": "stream",
     "text": [
      "Wall time: 11min 30s\n"
     ]
    }
   ],
   "source": [
    "# make the textfiles for give court\n",
    "%time make_text_files(data_dir, court, CLid_good=None, CLid_bad=no_scdb_link, output_path = text_dir)"
   ]
  },
  {
   "cell_type": "markdown",
   "metadata": {},
   "source": [
    "## make td-idf similarity matrix"
   ]
  },
  {
   "cell_type": "code",
   "execution_count": 13,
   "metadata": {
    "collapsed": false
   },
   "outputs": [
    {
     "name": "stdout",
     "output_type": "stream",
     "text": [
      "Wall time: 3min 41s\n"
     ]
    }
   ],
   "source": [
    "%time make_tf_idf(text_dir, experiment_data_dir + 'nlp/', min_df=0, max_df=1)"
   ]
  },
  {
   "cell_type": "markdown",
   "metadata": {},
   "source": [
    "## make snapshots"
   ]
  },
  {
   "cell_type": "code",
   "execution_count": 14,
   "metadata": {
    "collapsed": true
   },
   "outputs": [],
   "source": [
    "G = ig.Graph.Read_GraphML(experiment_data_dir + 'scotus_network.graphml')"
   ]
  },
  {
   "cell_type": "code",
   "execution_count": 15,
   "metadata": {
    "collapsed": true
   },
   "outputs": [],
   "source": [
    "vertex_metrics = ['indegree', 'outdegree', 'degree',\n",
    "                   'd_pagerank', 'authorities', 'hubs']\n",
    "\n",
    "active_years = range(1900, 2015 + 1)"
   ]
  },
  {
   "cell_type": "code",
   "execution_count": 16,
   "metadata": {
    "collapsed": false
   },
   "outputs": [
    {
     "name": "stdout",
     "output_type": "stream",
     "text": [
      "year 1900, (2/117) at 00:29:38\n",
      "year 1902, (4/117) at 00:29:39\n",
      "year 1906, (8/117) at 00:29:40\n",
      "year 1914, (16/117) at 00:29:44\n",
      "year 1930, (32/117) at 00:29:52\n",
      "year 1962, (64/117) at 00:30:17\n",
      "Wall time: 1min 41s\n"
     ]
    }
   ],
   "source": [
    "%time make_snapshot_vertex_metrics(G, active_years, vertex_metrics, experiment_data_dir)"
   ]
  }
 ],
 "metadata": {
  "kernelspec": {
   "display_name": "Python [Root]",
   "language": "python",
   "name": "Python [Root]"
  },
  "language_info": {
   "codemirror_mode": {
    "name": "ipython",
    "version": 2
   },
   "file_extension": ".py",
   "mimetype": "text/x-python",
   "name": "python",
   "nbconvert_exporter": "python",
   "pygments_lexer": "ipython2",
   "version": "2.7.11"
  }
 },
 "nbformat": 4,
 "nbformat_minor": 0
}
