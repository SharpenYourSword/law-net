{
 "cells": [
  {
   "cell_type": "code",
   "execution_count": 35,
   "metadata": {
    "collapsed": false
   },
   "outputs": [
    {
     "name": "stdout",
     "output_type": "stream",
     "text": [
      "The autoreload extension is already loaded. To reload it, use:\n",
      "  %reload_ext autoreload\n"
     ]
    }
   ],
   "source": [
    "top_directory = '/Users/iaincarmichael/Dropbox/Research/law/law-net/'\n",
    "\n",
    "import os\n",
    "import sys\n",
    "import time\n",
    "from math import *\n",
    "import copy\n",
    "import cPickle as pickle\n",
    "\n",
    "# data\n",
    "import numpy as np\n",
    "import pandas as pd\n",
    "\n",
    "# viz\n",
    "import matplotlib.pyplot as plt\n",
    "\n",
    "\n",
    "# graph\n",
    "import igraph as ig\n",
    "\n",
    "\n",
    "# our code\n",
    "sys.path.append(top_directory + 'code/')\n",
    "from pipeline.download_data import *\n",
    "from pipeline.make_raw_case_metadata import *\n",
    "from load_data import case_info\n",
    "\n",
    "sys.path.append(top_directory + 'explore/vertex_metrics_experiment/code/')\n",
    "from make_case_text_files import *\n",
    "from bag_of_words import *\n",
    "from similarity_matrix import *\n",
    "from make_snapshots import *\n",
    "from make_graph import *\n",
    "\n",
    "\n",
    "# court\n",
    "court = 'scotus'\n",
    "network_name = 'scotus'\n",
    "\n",
    "# directory set up\n",
    "data_dir = '/Users/iaincarmichael/Documents/courtlistener/data/'\n",
    "experiment_data_dir = data_dir + 'scotus/'\n",
    "text_dir = experiment_data_dir + 'textfiles/'\n",
    "\n",
    "\n",
    "\n",
    "# jupyter notebook settings\n",
    "%load_ext autoreload\n",
    "%autoreload 2\n",
    "%matplotlib inline"
   ]
  },
  {
   "cell_type": "markdown",
   "metadata": {
    "collapsed": true
   },
   "source": [
    "# download opinion and cluster files"
   ]
  },
  {
   "cell_type": "code",
   "execution_count": 15,
   "metadata": {
    "collapsed": false
   },
   "outputs": [
    {
     "name": "stdout",
     "output_type": "stream",
     "text": [
      "requesting metadata for scotus\n",
      "Downloading clusters data for court SCOTUS...\n",
      "requesting metadata for scotus\n",
      "Downloading opinions data for court SCOTUS...\n",
      "scotus took 1140 seconds\n",
      "requesting metadata for cafc\n",
      "Downloading clusters data for court CAFC...\n",
      "requesting metadata for cafc\n",
      "Downloading opinions data for court CAFC...\n",
      "cafc took 362 seconds\n",
      "requesting metadata for cadc\n",
      "Downloading clusters data for court CADC...\n",
      "requesting metadata for cadc\n",
      "Downloading opinions data for court CADC...\n",
      "cadc took 668 seconds\n",
      "requesting metadata for ca1\n",
      "Downloading clusters data for court CA1...\n",
      "requesting metadata for ca1\n",
      "Downloading opinions data for court CA1...\n",
      "ca1 took 783 seconds\n",
      "requesting metadata for ca2\n",
      "Downloading clusters data for court CA2...\n",
      "requesting metadata for ca2\n",
      "Downloading opinions data for court CA2...\n",
      "ca2 took 737 seconds\n",
      "requesting metadata for ca3\n",
      "Downloading clusters data for court CA3...\n",
      "requesting metadata for ca3\n",
      "Downloading opinions data for court CA3...\n",
      "ca3 took 1014 seconds\n",
      "requesting metadata for ca4\n",
      "Downloading clusters data for court CA4...\n",
      "requesting metadata for ca4\n",
      "Downloading opinions data for court CA4...\n",
      "ca4 took 1324 seconds\n",
      "requesting metadata for ca5\n",
      "Downloading clusters data for court CA5...\n",
      "requesting metadata for ca5\n",
      "Downloading opinions data for court CA5...\n",
      "ca5 took 1647 seconds\n",
      "requesting metadata for ca6\n",
      "Downloading clusters data for court CA6...\n",
      "requesting metadata for ca6\n",
      "Downloading opinions data for court CA6...\n",
      "ca6 took 1136 seconds\n",
      "requesting metadata for ca7\n",
      "Downloading clusters data for court CA7...\n",
      "requesting metadata for ca7\n",
      "Downloading opinions data for court CA7...\n",
      "ca7 took 1147 seconds\n",
      "requesting metadata for ca8\n",
      "Downloading clusters data for court CA8...\n",
      "requesting metadata for ca8\n",
      "Downloading opinions data for court CA8...\n",
      "ca8 took 1166 seconds\n",
      "requesting metadata for ca9\n",
      "Downloading clusters data for court CA9...\n",
      "requesting metadata for ca9\n",
      "Downloading opinions data for court CA9...\n",
      "ca9 took 2211 seconds\n",
      "requesting metadata for ca10\n",
      "Downloading clusters data for court CA10...\n",
      "requesting metadata for ca10\n",
      "Downloading opinions data for court CA10...\n",
      "ca10 took 997 seconds\n",
      "requesting metadata for ca11\n",
      "Downloading clusters data for court CA11...\n",
      "requesting metadata for ca11\n",
      "Downloading opinions data for court CA11...\n",
      "ca11 took 1069 seconds\n"
     ]
    }
   ],
   "source": [
    "download_bulk_resource(court, 'clusters', data_dir)\n",
    "download_bulk_resource(court, 'opinions', data_dir)"
   ]
  },
  {
   "cell_type": "markdown",
   "metadata": {},
   "source": [
    "# download the master edgelist"
   ]
  },
  {
   "cell_type": "code",
   "execution_count": null,
   "metadata": {
    "collapsed": true
   },
   "outputs": [],
   "source": [
    "# download_master_edgelist(data_dir)"
   ]
  },
  {
   "cell_type": "markdown",
   "metadata": {},
   "source": [
    "# make case metadata"
   ]
  },
  {
   "cell_type": "code",
   "execution_count": 3,
   "metadata": {
    "collapsed": false
   },
   "outputs": [
    {
     "name": "stdout",
     "output_type": "stream",
     "text": [
      "CPU times: user 2min 1s, sys: 9.24 s, total: 2min 10s\n",
      "Wall time: 2min 44s\n"
     ]
    }
   ],
   "source": [
    "%time case_metadata = get_raw_case_metadata_from_court(court, data_dir)"
   ]
  },
  {
   "cell_type": "code",
   "execution_count": 5,
   "metadata": {
    "collapsed": false,
    "scrolled": false
   },
   "outputs": [],
   "source": [
    "case_metadata.to_csv(data_dir + 'raw/scotus_case_metadata_r.csv', index=True)"
   ]
  },
  {
   "cell_type": "markdown",
   "metadata": {},
   "source": [
    "# clean scotus\n",
    "\n",
    "kill SCOTUS cases with no SCDB ids"
   ]
  },
  {
   "cell_type": "code",
   "execution_count": 6,
   "metadata": {
    "collapsed": true
   },
   "outputs": [],
   "source": [
    "case_metadata = pd.read_csv(data_dir + 'raw/scotus_case_metadata_r.csv', index_col=0)\n",
    "case_metadata.index= case_metadata.index.astype('str')"
   ]
  },
  {
   "cell_type": "code",
   "execution_count": 8,
   "metadata": {
    "collapsed": false
   },
   "outputs": [],
   "source": [
    "# scotus scdb ids\n",
    "scdb_ids = case_metadata['scdb_id']\n",
    "\n",
    "# scotus cases with no scdb id\n",
    "no_scdb_link = scdb_ids.index[scdb_ids.isnull()].tolist()\n",
    "\n",
    "# remove SCOTUS cases with no SCDB id\n",
    "case_metadata.drop(no_scdb_link, inplace=True)\n",
    "\n",
    "# kill detroit lumber\n",
    "case_metadata.drop('96405', inplace=True)"
   ]
  },
  {
   "cell_type": "code",
   "execution_count": 10,
   "metadata": {
    "collapsed": true
   },
   "outputs": [],
   "source": [
    "case_metadata.to_csv(experiment_data_dir + 'case_metadata.csv', index=True)"
   ]
  },
  {
   "cell_type": "markdown",
   "metadata": {},
   "source": [
    "# get the SCOTUS subedgelist"
   ]
  },
  {
   "cell_type": "code",
   "execution_count": 11,
   "metadata": {
    "collapsed": false
   },
   "outputs": [],
   "source": [
    "# load master edgelist\n",
    "master_edgelist = pd.read_csv(data_dir + 'raw/edgelist_master_r.csv')\n",
    "\n",
    "# only keep edges within scotus\n",
    "case_ids = set(case_metadata.index)\n",
    "edgelist = master_edgelist[master_edgelist.citing.isin(case_ids) & master_edgelist.cited.isin(case_ids)]\n",
    "\n",
    "# save federal edgelist\n",
    "edgelist.to_csv(experiment_data_dir + 'edgelist.csv', index=False)"
   ]
  },
  {
   "cell_type": "markdown",
   "metadata": {},
   "source": [
    "## make igraph object"
   ]
  },
  {
   "cell_type": "code",
   "execution_count": 20,
   "metadata": {
    "collapsed": false
   },
   "outputs": [
    {
     "name": "stdout",
     "output_type": "stream",
     "text": [
      "CPU times: user 6.05 s, sys: 281 ms, total: 6.33 s\n",
      "Wall time: 8.8 s\n"
     ]
    }
   ],
   "source": [
    "%time make_graph(experiment_data_dir, network_name)"
   ]
  },
  {
   "cell_type": "markdown",
   "metadata": {},
   "source": [
    "## make case text files"
   ]
  },
  {
   "cell_type": "code",
   "execution_count": 32,
   "metadata": {
    "collapsed": false
   },
   "outputs": [
    {
     "name": "stdout",
     "output_type": "stream",
     "text": [
      "CPU times: user 9min 31s, sys: 28.5 s, total: 10min\n",
      "Wall time: 11min 22s\n"
     ]
    }
   ],
   "source": [
    "# make the textfiles for give court\n",
    "%time make_text_files(data_dir, court, CLid_good=None, CLid_bad=no_scdb_link, output_path = text_dir)"
   ]
  },
  {
   "cell_type": "markdown",
   "metadata": {},
   "source": [
    "## make td-idf similarity matrix"
   ]
  },
  {
   "cell_type": "code",
   "execution_count": 33,
   "metadata": {
    "collapsed": false
   },
   "outputs": [
    {
     "name": "stdout",
     "output_type": "stream",
     "text": [
      "CPU times: user 4min 47s, sys: 17.2 s, total: 5min 4s\n",
      "Wall time: 6min 4s\n"
     ]
    }
   ],
   "source": [
    "%time make_tf_idf(text_dir, experiment_data_dir + 'nlp/', min_df=0, max_df=1)"
   ]
  },
  {
   "cell_type": "markdown",
   "metadata": {},
   "source": [
    "## make snapshots"
   ]
  },
  {
   "cell_type": "code",
   "execution_count": 47,
   "metadata": {
    "collapsed": true
   },
   "outputs": [],
   "source": [
    "G = ig.Graph.Read_GraphML(experiment_data_dir + 'scotus_network.graphml')"
   ]
  },
  {
   "cell_type": "code",
   "execution_count": 48,
   "metadata": {
    "collapsed": true
   },
   "outputs": [],
   "source": [
    "vertex_metrics = ['indegree', 'outdegree', 'degree',\n",
    "                   'd_pagerank', 'authorities', 'hubs']\n",
    "\n",
    "active_years = range(1900, 2015 + 1)"
   ]
  },
  {
   "cell_type": "code",
   "execution_count": 50,
   "metadata": {
    "collapsed": false
   },
   "outputs": [
    {
     "name": "stdout",
     "output_type": "stream",
     "text": [
      "year 1900, (2/117) at 17:03:19\n",
      "year 1902, (4/117) at 17:03:20\n",
      "year 1906, (8/117) at 17:03:22\n",
      "year 1914, (16/117) at 17:03:27\n",
      "year 1930, (32/117) at 17:03:41\n",
      "year 1962, (64/117) at 17:04:21\n",
      "CPU times: user 1min 51s, sys: 4.36 s, total: 1min 56s\n",
      "Wall time: 2min 14s\n"
     ]
    }
   ],
   "source": [
    "%time make_snapshot_vertex_metrics(G, active_years, vertex_metrics, experiment_data_dir)"
   ]
  }
 ],
 "metadata": {
  "kernelspec": {
   "display_name": "Python 2",
   "language": "python",
   "name": "python2"
  },
  "language_info": {
   "codemirror_mode": {
    "name": "ipython",
    "version": 2
   },
   "file_extension": ".py",
   "mimetype": "text/x-python",
   "name": "python",
   "nbconvert_exporter": "python",
   "pygments_lexer": "ipython2",
   "version": "2.7.12"
  }
 },
 "nbformat": 4,
 "nbformat_minor": 0
}
