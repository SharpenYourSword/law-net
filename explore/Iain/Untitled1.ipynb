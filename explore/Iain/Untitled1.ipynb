{
 "cells": [
  {
   "cell_type": "code",
   "execution_count": 9,
   "metadata": {
    "collapsed": true
   },
   "outputs": [],
   "source": [
    "import pandas as pd\n",
    "import numpy as np\n",
    "\n",
    "import matplotlib.pyplot as plt\n",
    "\n",
    "\n",
    "%load_ext autoreload\n",
    "%autoreload 2\n",
    "%matplotlib inline"
   ]
  },
  {
   "cell_type": "code",
   "execution_count": 3,
   "metadata": {
    "collapsed": false
   },
   "outputs": [],
   "source": [
    "db = pd.read_csv('SCDB.csv')"
   ]
  },
  {
   "cell_type": "code",
   "execution_count": 5,
   "metadata": {
    "collapsed": false
   },
   "outputs": [
    {
     "data": {
      "text/plain": [
       "Index([u'caseId', u'docketId', u'caseIssuesId', u'voteId', u'dateDecision',\n",
       "       u'decisionType', u'usCite', u'sctCite', u'ledCite', u'lexisCite',\n",
       "       u'term', u'naturalCourt', u'chief', u'docket', u'caseName',\n",
       "       u'dateArgument', u'dateRearg', u'petitioner', u'petitionerState',\n",
       "       u'respondent', u'respondentState', u'jurisdiction', u'adminAction',\n",
       "       u'adminActionState', u'threeJudgeFdc', u'caseOrigin',\n",
       "       u'caseOriginState', u'caseSource', u'caseSourceState',\n",
       "       u'lcDisagreement', u'certReason', u'lcDisposition',\n",
       "       u'lcDispositionDirection', u'declarationUncon', u'caseDisposition',\n",
       "       u'caseDispositionUnusual', u'partyWinning', u'precedentAlteration',\n",
       "       u'voteUnclear', u'issue', u'issueArea', u'decisionDirection',\n",
       "       u'decisionDirectionDissent', u'authorityDecision1',\n",
       "       u'authorityDecision2', u'lawType', u'lawSupp', u'lawMinor',\n",
       "       u'majOpinWriter', u'majOpinAssigner', u'splitVote', u'majVotes',\n",
       "       u'minVotes'],\n",
       "      dtype='object')"
      ]
     },
     "execution_count": 5,
     "metadata": {},
     "output_type": "execute_result"
    }
   ],
   "source": [
    "db.columns"
   ]
  },
  {
   "cell_type": "code",
   "execution_count": 14,
   "metadata": {
    "collapsed": false
   },
   "outputs": [],
   "source": [
    "area = db['issueArea'].tolist()"
   ]
  },
  {
   "cell_type": "code",
   "execution_count": 21,
   "metadata": {
    "collapsed": false
   },
   "outputs": [
    {
     "data": {
      "text/plain": [
       "{1: 2635,\n",
       " 2: 2150,\n",
       " 3: 1143,\n",
       " 4: 587,\n",
       " 5: 168,\n",
       " 6: 137,\n",
       " 7: 512,\n",
       " 8: 2552,\n",
       " 9: 1996,\n",
       " 10: 681,\n",
       " 11: 109,\n",
       " 12: 394,\n",
       " 13: 66,\n",
       " 14: 3}"
      ]
     },
     "execution_count": 21,
     "metadata": {},
     "output_type": "execute_result"
    }
   ],
   "source": [
    "{i: area.count(i) for i in range(1, 15)}"
   ]
  },
  {
   "cell_type": "code",
   "execution_count": null,
   "metadata": {
    "collapsed": true
   },
   "outputs": [],
   "source": [
    "# procedural:\n"
   ]
  }
 ],
 "metadata": {
  "kernelspec": {
   "display_name": "Python 2",
   "language": "python",
   "name": "python2"
  },
  "language_info": {
   "codemirror_mode": {
    "name": "ipython",
    "version": 2
   },
   "file_extension": ".py",
   "mimetype": "text/x-python",
   "name": "python",
   "nbconvert_exporter": "python",
   "pygments_lexer": "ipython2",
   "version": "2.7.12"
  }
 },
 "nbformat": 4,
 "nbformat_minor": 0
}
