{
 "cells": [
  {
   "cell_type": "code",
   "execution_count": 60,
   "metadata": {
    "collapsed": false
   },
   "outputs": [
    {
     "name": "stdout",
     "output_type": "stream",
     "text": [
      "The autoreload extension is already loaded. To reload it, use:\n",
      "  %reload_ext autoreload\n"
     ]
    }
   ],
   "source": [
    "import sys\n",
    "\n",
    "sys.path.append('../../code/')\n",
    "import os\n",
    "import json\n",
    "from datetime import datetime\n",
    "import time\n",
    "\n",
    "import numpy as np\n",
    "import pandas as pd\n",
    "import matplotlib.pyplot as plt\n",
    "import scipy.stats as stats\n",
    "\n",
    "import igraph as ig\n",
    "\n",
    "from load_data import load_citation_network_igraph, case_info\n",
    "\n",
    "%load_ext autoreload\n",
    "%autoreload 2\n",
    "%matplotlib inline\n",
    "\n",
    "data_dir = '../../data/'\n",
    "court_name = 'scotus'"
   ]
  },
  {
   "cell_type": "code",
   "execution_count": 37,
   "metadata": {
    "collapsed": false
   },
   "outputs": [
    {
     "name": "stdout",
     "output_type": "stream",
     "text": [
      "0 seconds for 249878 edges\n"
     ]
    }
   ],
   "source": [
    "# this will be a little slow the first time you run it\n",
    "G = load_citation_network_igraph(data_dir, court_name, directed=False)\n",
    "G.delete_vertices([29701]) # remove detroit"
   ]
  },
  {
   "cell_type": "code",
   "execution_count": 48,
   "metadata": {
    "collapsed": false
   },
   "outputs": [],
   "source": [
    "mod = G.community_fastgreedy()\n",
    "\n",
    "mod_cluster = mod.as_clustering()\n",
    "\n",
    "mod_mem = mod_cluster.membership\n",
    "\n",
    "\n",
    "community_sizes = {c: mod_mem.count(c) for c in set(mod_mem)}\n",
    "# sorted(mod_cluster.sizes(), reverse=True)"
   ]
  },
  {
   "cell_type": "code",
   "execution_count": 51,
   "metadata": {
    "collapsed": false
   },
   "outputs": [
    {
     "data": {
      "text/plain": [
       "[0, 2, 3, 5]"
      ]
     },
     "execution_count": 51,
     "metadata": {},
     "output_type": "execute_result"
    }
   ],
   "source": [
    "[c for c in community_sizes.keys() if community_sizes[c] > 1000]"
   ]
  },
  {
   "cell_type": "code",
   "execution_count": 93,
   "metadata": {
    "collapsed": false
   },
   "outputs": [],
   "source": [
    "layout = []\n",
    "\n",
    "for v in G.vs:\n",
    "    layout.append([v['year'], -v.indegree()])\n",
    "\n",
    "visual_style = {}\n",
    "visual_style[\"layout\"] = layout\n",
    "\n",
    "# # vertices\n",
    "\n",
    "visual_style['vertex_size'] = 2\n",
    "\n",
    "vertex_colors = []\n",
    "for i in range(len(G.vs)):\n",
    "    if mod_mem[i] == 0:\n",
    "        vertex_colors.append('red')\n",
    "    else:\n",
    "        vertex_colors.append('black')\n",
    "\n",
    "visual_style['vertex_color'] = vertex_colors\n",
    "visual_style['vertex_frame_color'] = vertex_colors\n",
    "\n",
    "visual_style['edge_arrow_size'] = 0\n",
    "visual_style['edge_width'] = .01\n",
    "visual_style['edge_alpha'] = .1\n"
   ]
  },
  {
   "cell_type": "code",
   "execution_count": 96,
   "metadata": {
    "collapsed": false
   },
   "outputs": [],
   "source": [
    "# ig.plot(G, **visual_style)"
   ]
  },
  {
   "cell_type": "code",
   "execution_count": null,
   "metadata": {
    "collapsed": true
   },
   "outputs": [],
   "source": []
  }
 ],
 "metadata": {
  "kernelspec": {
   "display_name": "Python 2",
   "language": "python",
   "name": "python2"
  },
  "language_info": {
   "codemirror_mode": {
    "name": "ipython",
    "version": 2
   },
   "file_extension": ".py",
   "mimetype": "text/x-python",
   "name": "python",
   "nbconvert_exporter": "python",
   "pygments_lexer": "ipython2",
   "version": "2.7.12"
  }
 },
 "nbformat": 4,
 "nbformat_minor": 0
}
