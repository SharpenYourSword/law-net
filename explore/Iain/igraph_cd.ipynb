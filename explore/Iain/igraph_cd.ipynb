{
 "cells": [
  {
   "cell_type": "code",
   "execution_count": 1,
   "metadata": {
    "collapsed": false
   },
   "outputs": [],
   "source": [
    "import sys\n",
    "\n",
    "sys.path.append('../../code/')\n",
    "import os\n",
    "import json\n",
    "from datetime import datetime\n",
    "import time\n",
    "from math import *\n",
    "\n",
    "import numpy as np\n",
    "import pandas as pd\n",
    "import matplotlib.pyplot as plt\n",
    "import scipy.stats as stats\n",
    "\n",
    "\n",
    "import igraph as ig\n",
    "\n",
    "from load_data import load_citation_network, case_info\n",
    "\n",
    "%load_ext autoreload\n",
    "%autoreload 2\n",
    "%matplotlib inline\n",
    "\n",
    "data_dir = '../../data/'\n",
    "court_name = 'scotus'"
   ]
  },
  {
   "cell_type": "markdown",
   "metadata": {},
   "source": [
    "# load into igraph"
   ]
  },
  {
   "cell_type": "code",
   "execution_count": 2,
   "metadata": {
    "collapsed": false
   },
   "outputs": [
    {
     "name": "stdout",
     "output_type": "stream",
     "text": [
      "0 seconds for 250465 edges\n"
     ]
    }
   ],
   "source": [
    "start = time.time()\n",
    "if court_name == 'all':\n",
    "    case_metadata = pd.read_csv(data_dir + 'clean/case_metadata_master.csv')\n",
    "\n",
    "    edgelist = pd.read_csv(data_dir + 'clean/edgelist_master.csv')\n",
    "else:\n",
    "    net_dir = data_dir + 'clean/' + court_name + '/'\n",
    "    if not os.path.exists(net_dir):\n",
    "        os.makedirs(net_dir)\n",
    "        make_court_subnetwork(court_name, data_dir)\n",
    "\n",
    "    case_metadata = pd.read_csv(net_dir + 'case_metadata.csv')\n",
    "\n",
    "    edgelist = pd.read_csv(net_dir + 'edgelist.csv')\n",
    "    edgelist.drop('Unnamed: 0', inplace=True, axis=1)\n",
    "\n",
    "# create a dictonary that maps court listener ids to igraph ids\n",
    "cl_to_ig_id = {}\n",
    "cl_ids = case_metadata['id'].tolist()\n",
    "for i in range(case_metadata['id'].size):\n",
    "    cl_to_ig_id[cl_ids[i]] = i\n",
    "\n",
    "# add nodes\n",
    "V = case_metadata.shape[0]\n",
    "g = ig.Graph(n=V, directed=True)\n",
    "# g.vs['date'] = case_metadata['date'].tolist()\n",
    "g.vs['name'] = case_metadata['id'].tolist()\n",
    "\n",
    "# create igraph edgelist\n",
    "cases_w_metadata = set(cl_to_ig_id.keys())\n",
    "ig_edgelist = []\n",
    "missing_cases = 0\n",
    "start = time.time()\n",
    "for row in edgelist.itertuples():\n",
    "\n",
    "    cl_ing = row[1]\n",
    "    cl_ed = row[2]\n",
    "\n",
    "    if (cl_ing in cases_w_metadata) and (cl_ed in cases_w_metadata):\n",
    "        ing = cl_to_ig_id[cl_ing]\n",
    "        ed = cl_to_ig_id[cl_ed]\n",
    "    else:\n",
    "        missing_cases += 0\n",
    "    \n",
    "    ig_edgelist.append((ing, ed))\n",
    "\n",
    "# add edges to graph\n",
    "g.add_edges(ig_edgelist)\n",
    "\n",
    "\n",
    "# add vertex attributes\n",
    "g.vs['court'] =  case_metadata['court'].tolist()\n",
    "g.vs['year'] = [int(d.split('-')[0]) for d in case_metadata['date'].tolist()]\n",
    "\n",
    "end = time.time()\n",
    "\n",
    "print '%d seconds for %d edges' % (end - start, len(g.es))"
   ]
  },
  {
   "cell_type": "code",
   "execution_count": 12,
   "metadata": {
    "collapsed": false
   },
   "outputs": [
    {
     "data": {
      "text/plain": [
       "'IGRAPH DN-- 33248 250465 -- \\n+ attr: court (v), name (v), year (v)'"
      ]
     },
     "execution_count": 12,
     "metadata": {},
     "output_type": "execute_result"
    }
   ],
   "source": [
    "g.summary()"
   ]
  },
  {
   "cell_type": "markdown",
   "metadata": {},
   "source": [
    "# community detection"
   ]
  },
  {
   "cell_type": "code",
   "execution_count": 29,
   "metadata": {
    "collapsed": true
   },
   "outputs": [],
   "source": [
    "# make graph undirected\n",
    "gu = g.copy().as_undirected() "
   ]
  },
  {
   "cell_type": "markdown",
   "metadata": {},
   "source": [
    "modularity based clustering"
   ]
  },
  {
   "cell_type": "code",
   "execution_count": 51,
   "metadata": {
    "collapsed": false
   },
   "outputs": [
    {
     "name": "stdout",
     "output_type": "stream",
     "text": [
      "fastgreedy modularity took 215 seconds with 33248 nodes and 250465 edges\n"
     ]
    },
    {
     "data": {
      "text/plain": [
       "{1: 4477,\n",
       " 2: 596,\n",
       " 3: 32,\n",
       " 4: 21,\n",
       " 5: 9,\n",
       " 6: 6,\n",
       " 7: 2,\n",
       " 8: 4,\n",
       " 9: 1,\n",
       " 10: 1,\n",
       " 11: 1,\n",
       " 12: 1,\n",
       " 16: 1,\n",
       " 18: 1,\n",
       " 25: 1,\n",
       " 28: 1,\n",
       " 51: 1,\n",
       " 65: 1,\n",
       " 80: 1,\n",
       " 104: 1,\n",
       " 368: 1,\n",
       " 4355: 1,\n",
       " 6666: 1,\n",
       " 7114: 1,\n",
       " 8340: 1}"
      ]
     },
     "execution_count": 51,
     "metadata": {},
     "output_type": "execute_result"
    }
   ],
   "source": [
    "start = time.time()\n",
    "mod_clusters = gu.community_fastgreedy().as_clustering()\n",
    "end = time.time()\n",
    "print 'fastgreedy modularity took %d seconds with %d nodes and %d edges' % (end-start, len(g.vs), len(g.es))\n",
    "\n",
    "mod_cl_sizes = mod_clusters.sizes()\n",
    "{s: mod_cl_sizes.count(s) for s in set(mod_cl_sizes)}"
   ]
  },
  {
   "cell_type": "markdown",
   "metadata": {},
   "source": [
    "walk trap clustering"
   ]
  },
  {
   "cell_type": "code",
   "execution_count": 52,
   "metadata": {
    "collapsed": false
   },
   "outputs": [
    {
     "data": {
      "text/plain": [
       "{1: 5686,\n",
       " 2: 1085,\n",
       " 3: 185,\n",
       " 4: 90,\n",
       " 5: 61,\n",
       " 6: 32,\n",
       " 7: 32,\n",
       " 8: 21,\n",
       " 9: 19,\n",
       " 10: 15,\n",
       " 11: 14,\n",
       " 12: 13,\n",
       " 13: 7,\n",
       " 14: 4,\n",
       " 15: 6,\n",
       " 16: 5,\n",
       " 17: 4,\n",
       " 18: 1,\n",
       " 19: 4,\n",
       " 20: 5,\n",
       " 21: 4,\n",
       " 23: 1,\n",
       " 24: 1,\n",
       " 25: 5,\n",
       " 26: 5,\n",
       " 27: 2,\n",
       " 28: 1,\n",
       " 29: 2,\n",
       " 30: 3,\n",
       " 31: 1,\n",
       " 32: 2,\n",
       " 33: 3,\n",
       " 34: 1,\n",
       " 35: 1,\n",
       " 36: 1,\n",
       " 38: 3,\n",
       " 39: 1,\n",
       " 40: 1,\n",
       " 42: 2,\n",
       " 43: 2,\n",
       " 44: 1,\n",
       " 46: 2,\n",
       " 47: 1,\n",
       " 49: 1,\n",
       " 51: 1,\n",
       " 52: 1,\n",
       " 54: 1,\n",
       " 66: 2,\n",
       " 75: 1,\n",
       " 76: 1,\n",
       " 77: 1,\n",
       " 85: 1,\n",
       " 86: 1,\n",
       " 97: 1,\n",
       " 107: 1,\n",
       " 121: 1,\n",
       " 133: 1,\n",
       " 134: 1,\n",
       " 135: 1,\n",
       " 139: 1,\n",
       " 151: 1,\n",
       " 153: 1,\n",
       " 155: 1,\n",
       " 168: 1,\n",
       " 182: 1,\n",
       " 195: 1,\n",
       " 211: 1,\n",
       " 286: 1,\n",
       " 321: 1,\n",
       " 322: 1,\n",
       " 355: 1,\n",
       " 393: 1,\n",
       " 412: 1,\n",
       " 417: 1,\n",
       " 431: 1,\n",
       " 471: 1,\n",
       " 513: 1,\n",
       " 581: 1,\n",
       " 631: 1,\n",
       " 1102: 1,\n",
       " 1293: 1,\n",
       " 2257: 1,\n",
       " 3674: 1,\n",
       " 4640: 1}"
      ]
     },
     "execution_count": 52,
     "metadata": {},
     "output_type": "execute_result"
    }
   ],
   "source": [
    "# start = time.time()\n",
    "# walktrap = gu.community_walktrap(steps=4)\n",
    "# end = time.time()\n",
    "# print 'walktrap took %d seconds with %d nodes and %d edges' % (end-start, len(g.vs), len(g.es))\n",
    "\n",
    "# walktrap_clusters = walktrap.as_clustering()\n",
    "\n",
    "walktrap_cl_sizes = walktrap_clusters.sizes()\n",
    "{s: walktrap_cl_sizes.count(s) for s in set(walktrap_cl_sizes)}"
   ]
  },
  {
   "cell_type": "code",
   "execution_count": null,
   "metadata": {
    "collapsed": true
   },
   "outputs": [],
   "source": [
    "mod_cl_sizes = mod_clusters.sizes()\n",
    "{s: mod_cl_sizes.count(s) for s in set(mod_cl_sizes)}"
   ]
  }
 ],
 "metadata": {
  "kernelspec": {
   "display_name": "Python 2",
   "language": "python",
   "name": "python2"
  },
  "language_info": {
   "codemirror_mode": {
    "name": "ipython",
    "version": 2
   },
   "file_extension": ".py",
   "mimetype": "text/x-python",
   "name": "python",
   "nbconvert_exporter": "python",
   "pygments_lexer": "ipython2",
   "version": "2.7.12"
  }
 },
 "nbformat": 4,
 "nbformat_minor": 0
}
