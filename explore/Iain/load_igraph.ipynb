{
 "cells": [
  {
   "cell_type": "code",
   "execution_count": 1,
   "metadata": {
    "collapsed": false
   },
   "outputs": [],
   "source": [
    "import sys\n",
    "\n",
    "sys.path.append('../../code/')\n",
    "import os\n",
    "import json\n",
    "from datetime import datetime\n",
    "import time\n",
    "from math import *\n",
    "\n",
    "import numpy as np\n",
    "import pandas as pd\n",
    "import matplotlib.pyplot as plt\n",
    "import scipy.stats as stats\n",
    "\n",
    "import igraph as ig\n",
    "\n",
    "from load_data import load_citation_network, case_info\n",
    "\n",
    "%load_ext autoreload\n",
    "%autoreload 2\n",
    "%matplotlib inline\n",
    "\n",
    "data_dir = '../../data/'\n",
    "court_name = 'all'"
   ]
  },
  {
   "cell_type": "markdown",
   "metadata": {},
   "source": [
    "# load into igraph"
   ]
  },
  {
   "cell_type": "code",
   "execution_count": 2,
   "metadata": {
    "collapsed": false
   },
   "outputs": [
    {
     "name": "stdout",
     "output_type": "stream",
     "text": [
      "91 seconds for 24997230 edges\n"
     ]
    }
   ],
   "source": [
    "start = time.time()\n",
    "if court_name == 'all':\n",
    "    case_metadata = pd.read_csv(data_dir + 'clean/case_metadata_master.csv')\n",
    "\n",
    "    edgelist = pd.read_csv(data_dir + 'clean/edgelist_master.csv')\n",
    "else:\n",
    "    net_dir = data_dir + 'clean/' + court_name + '/'\n",
    "    if not os.path.exists(net_dir):\n",
    "        os.makedirs(net_dir)\n",
    "        make_court_subnetwork(court_name, data_dir)\n",
    "\n",
    "    case_metadata = pd.read_csv(net_dir + 'case_metadata.csv')\n",
    "\n",
    "    edgelist = pd.read_csv(net_dir + 'edgelist.csv')\n",
    "    edgelist.drop('Unnamed: 0', inplace=True, axis=1)\n",
    "\n",
    "# create a dictonary that maps court listener ids to igraph ids\n",
    "cl_to_ig_id = {}\n",
    "cl_ids = case_metadata['id'].tolist()\n",
    "for i in range(case_metadata['id'].size):\n",
    "    cl_to_ig_id[cl_ids[i]] = i\n",
    "\n",
    "# add nodes\n",
    "V = case_metadata.shape[0]\n",
    "g = ig.Graph(n=V, directed=True)\n",
    "# g.vs['date'] = case_metadata['date'].tolist()\n",
    "g.vs['name'] = case_metadata['id'].tolist()\n",
    "\n",
    "# create igraph edgelist\n",
    "cases_w_metadata = set(cl_to_ig_id.keys())\n",
    "ig_edgelist = []\n",
    "missing_cases = 0\n",
    "start = time.time()\n",
    "for row in edgelist.itertuples():\n",
    "\n",
    "    cl_ing = row[1]\n",
    "    cl_ed = row[2]\n",
    "\n",
    "    if (cl_ing in cases_w_metadata) and (cl_ed in cases_w_metadata):\n",
    "        ing = cl_to_ig_id[cl_ing]\n",
    "        ed = cl_to_ig_id[cl_ed]\n",
    "    else:\n",
    "        missing_cases += 0\n",
    "    \n",
    "    ig_edgelist.append((ing, ed))\n",
    "\n",
    "# add edges to graph\n",
    "g.add_edges(ig_edgelist)\n",
    "\n",
    "# add vertex attributes\n",
    "g.vs['court'] =  case_metadata['court'].tolist()\n",
    "g.vs['year'] = [int(d.split('-')[0]) for d in case_metadata['date'].tolist()]\n",
    "\n",
    "end = time.time()\n",
    "\n",
    "print '%d seconds for %d edges' % (end - start, len(g.es))"
   ]
  },
  {
   "cell_type": "code",
   "execution_count": 5,
   "metadata": {
    "collapsed": true
   },
   "outputs": [],
   "source": [
    "# g.write_graphml(data_dir + 'clean/entire_law_net.graphml')\n",
    "# G = ig.read_graphml(data_dir + 'clean/entire_law_net.graphml')"
   ]
  },
  {
   "cell_type": "markdown",
   "metadata": {},
   "source": [
    "# analyze"
   ]
  },
  {
   "cell_type": "code",
   "execution_count": 19,
   "metadata": {
    "collapsed": false
   },
   "outputs": [
    {
     "data": {
      "text/plain": [
       "'IGRAPH DN-- 3760097 24997230 -- \\n+ attr: court (v), name (v), year (v)'"
      ]
     },
     "execution_count": 19,
     "metadata": {},
     "output_type": "execute_result"
    }
   ],
   "source": [
    "g.summary()"
   ]
  },
  {
   "cell_type": "markdown",
   "metadata": {},
   "source": [
    "# in degree distribution"
   ]
  },
  {
   "cell_type": "code",
   "execution_count": 26,
   "metadata": {
    "collapsed": false
   },
   "outputs": [
    {
     "data": {
      "text/plain": [
       "[<matplotlib.lines.Line2D at 0x2073c8810>]"
      ]
     },
     "execution_count": 26,
     "metadata": {},
     "output_type": "execute_result"
    },
    {
     "data": {
      "image/png": "[encoded data removed]",
      "text/plain": [
       "<matplotlib.figure.Figure at 0x20781d350>"
      ]
     },
     "metadata": {},
     "output_type": "display_data"
    }
   ],
   "source": [
    "indegrees = g.indegree()\n",
    "\n",
    "plt.figure(figsize = [20, 10])\n",
    "\n",
    "plt.subplot(1,2,1)\n",
    "dmax = 100\n",
    "binwidth = 1\n",
    "plt.hist(indegrees, bins=range(0, dmax + binwidth, binwidth));\n",
    "plt.xlim([0, dmax])\n",
    "plt.ylim([0, 2e5])\n",
    "\n",
    "\n",
    "plt.subplot(1,2,2)\n",
    "plt.loglog(sorted(indegrees, reverse=True), '-', marker='.', color='black',\n",
    "           alpha=.7);"
   ]
  },
  {
   "cell_type": "markdown",
   "metadata": {},
   "source": [
    "# Out degree distribution"
   ]
  },
  {
   "cell_type": "code",
   "execution_count": 28,
   "metadata": {
    "collapsed": false
   },
   "outputs": [
    {
     "data": {
      "image/png": "[encoded data removed]",
      "text/plain": [
       "<matplotlib.figure.Figure at 0x2078a5910>"
      ]
     },
     "metadata": {},
     "output_type": "display_data"
    }
   ],
   "source": [
    "outdegrees = g.outdegree()\n",
    "\n",
    "# out degree distribution\n",
    "plt.figure(figsize = [20, 10])\n",
    "\n",
    "plt.subplot(1,2,1)\n",
    "dmax = 50\n",
    "binwidth = 1\n",
    "plt.hist(outdegrees, bins=range(0, dmax + binwidth, binwidth));\n",
    "plt.xlim([0, dmax])\n",
    "plt.ylim([0, 2e5])\n",
    "\n",
    "\n",
    "plt.subplot(1,2,2)\n",
    "plt.loglog(sorted(outdegrees, reverse=True), '-', marker='.', color='black',\n",
    "           alpha=.7);"
   ]
  },
  {
   "cell_type": "markdown",
   "metadata": {},
   "source": [
    "# degree statistics by year"
   ]
  },
  {
   "cell_type": "code",
   "execution_count": 93,
   "metadata": {
    "collapsed": true
   },
   "outputs": [],
   "source": [
    "year_range = range(1631, 2016 + 1)\n",
    "year_quotient = pd.DataFrame(index=year_range, columns=['count', 'avg_indegree', 'avg_outdegree'])"
   ]
  },
  {
   "cell_type": "markdown",
   "metadata": {},
   "source": [
    "count number of cases"
   ]
  },
  {
   "cell_type": "code",
   "execution_count": 104,
   "metadata": {
    "collapsed": false
   },
   "outputs": [],
   "source": [
    "year_counts = {y: 0 for y in year_quotient.index}\n",
    "for v in g.vs:\n",
    "    year_counts[v['year']] += 1\n",
    "\n",
    "year_quotient['count'] = year_counts.values()"
   ]
  },
  {
   "cell_type": "markdown",
   "metadata": {},
   "source": [
    "get average in/out degrees"
   ]
  },
  {
   "cell_type": "code",
   "execution_count": 99,
   "metadata": {
    "collapsed": false
   },
   "outputs": [],
   "source": [
    "indegrees = g.indegree()\n",
    "outdegrees = g.outdegree()\n",
    "\n",
    "indegs_counts = {y: [] for y in year_quotient.index}\n",
    "outdegs_counts = {y: [] for y in year_quotient.index}\n",
    "\n",
    "# get degrees for cases in each year\n",
    "for i in range(len(g.vs)):\n",
    "    year = g.vs[i]['year']\n",
    "    \n",
    "    indeg = indegrees[i]\n",
    "    outdeg = outdegrees[i]\n",
    "\n",
    "    indegs_counts[year].append(indeg)\n",
    "    outdegs_counts[year].append(outdeg)\n",
    "    \n",
    "# average the degrees by yaer  \n",
    "for y in indegs_counts.keys():\n",
    "    indegs = indegs_counts[y]\n",
    "    outdegs = outdegs_counts[y]\n",
    "    \n",
    "    \n",
    "    if len(indegs) == 0:\n",
    "        year_quotient.loc[y, 'avg_indegree'] = 0\n",
    "    else:\n",
    "        year_quotient.loc[y,'avg_indegree'] = np.mean(indegs)\n",
    "        \n",
    "        \n",
    "        \n",
    "    if len(outdegs) == 0:\n",
    "        year_quotient.loc[y, 'avg_outdegree'] = 0\n",
    "    else:\n",
    "        year_quotient.loc[y,'avg_outdegree'] = np.mean(outdegs)"
   ]
  },
  {
   "cell_type": "code",
   "execution_count": 105,
   "metadata": {
    "collapsed": false
   },
   "outputs": [
    {
     "data": {
      "text/html": [
       "<div>\n",
       "<table border=\"1\" class=\"dataframe\">\n",
       "  <thead>\n",
       "    <tr style=\"text-align: right;\">\n",
       "      <th></th>\n",
       "      <th>count</th>\n",
       "      <th>avg_indegree</th>\n",
       "      <th>avg_outdegree</th>\n",
       "    </tr>\n",
       "  </thead>\n",
       "  <tbody>\n",
       "    <tr>\n",
       "      <th>1631</th>\n",
       "      <td>1</td>\n",
       "      <td>0</td>\n",
       "      <td>0</td>\n",
       "    </tr>\n",
       "    <tr>\n",
       "      <th>1632</th>\n",
       "      <td>0</td>\n",
       "      <td>0</td>\n",
       "      <td>0</td>\n",
       "    </tr>\n",
       "    <tr>\n",
       "      <th>1633</th>\n",
       "      <td>0</td>\n",
       "      <td>0</td>\n",
       "      <td>0</td>\n",
       "    </tr>\n",
       "    <tr>\n",
       "      <th>1634</th>\n",
       "      <td>0</td>\n",
       "      <td>0</td>\n",
       "      <td>0</td>\n",
       "    </tr>\n",
       "    <tr>\n",
       "      <th>1635</th>\n",
       "      <td>0</td>\n",
       "      <td>0</td>\n",
       "      <td>0</td>\n",
       "    </tr>\n",
       "    <tr>\n",
       "      <th>1636</th>\n",
       "      <td>0</td>\n",
       "      <td>0</td>\n",
       "      <td>0</td>\n",
       "    </tr>\n",
       "    <tr>\n",
       "      <th>1637</th>\n",
       "      <td>0</td>\n",
       "      <td>0</td>\n",
       "      <td>0</td>\n",
       "    </tr>\n",
       "    <tr>\n",
       "      <th>1638</th>\n",
       "      <td>0</td>\n",
       "      <td>0</td>\n",
       "      <td>0</td>\n",
       "    </tr>\n",
       "    <tr>\n",
       "      <th>1639</th>\n",
       "      <td>0</td>\n",
       "      <td>0</td>\n",
       "      <td>0</td>\n",
       "    </tr>\n",
       "    <tr>\n",
       "      <th>1640</th>\n",
       "      <td>0</td>\n",
       "      <td>0</td>\n",
       "      <td>0</td>\n",
       "    </tr>\n",
       "    <tr>\n",
       "      <th>1641</th>\n",
       "      <td>1</td>\n",
       "      <td>0</td>\n",
       "      <td>0</td>\n",
       "    </tr>\n",
       "    <tr>\n",
       "      <th>1642</th>\n",
       "      <td>0</td>\n",
       "      <td>0</td>\n",
       "      <td>0</td>\n",
       "    </tr>\n",
       "    <tr>\n",
       "      <th>1643</th>\n",
       "      <td>0</td>\n",
       "      <td>0</td>\n",
       "      <td>0</td>\n",
       "    </tr>\n",
       "    <tr>\n",
       "      <th>1644</th>\n",
       "      <td>0</td>\n",
       "      <td>0</td>\n",
       "      <td>0</td>\n",
       "    </tr>\n",
       "    <tr>\n",
       "      <th>1645</th>\n",
       "      <td>0</td>\n",
       "      <td>0</td>\n",
       "      <td>0</td>\n",
       "    </tr>\n",
       "    <tr>\n",
       "      <th>1646</th>\n",
       "      <td>0</td>\n",
       "      <td>0</td>\n",
       "      <td>0</td>\n",
       "    </tr>\n",
       "    <tr>\n",
       "      <th>1647</th>\n",
       "      <td>0</td>\n",
       "      <td>0</td>\n",
       "      <td>0</td>\n",
       "    </tr>\n",
       "    <tr>\n",
       "      <th>1648</th>\n",
       "      <td>0</td>\n",
       "      <td>0</td>\n",
       "      <td>0</td>\n",
       "    </tr>\n",
       "    <tr>\n",
       "      <th>1649</th>\n",
       "      <td>0</td>\n",
       "      <td>0</td>\n",
       "      <td>0</td>\n",
       "    </tr>\n",
       "    <tr>\n",
       "      <th>1650</th>\n",
       "      <td>0</td>\n",
       "      <td>0</td>\n",
       "      <td>0</td>\n",
       "    </tr>\n",
       "    <tr>\n",
       "      <th>1651</th>\n",
       "      <td>0</td>\n",
       "      <td>0</td>\n",
       "      <td>0</td>\n",
       "    </tr>\n",
       "    <tr>\n",
       "      <th>1652</th>\n",
       "      <td>0</td>\n",
       "      <td>0</td>\n",
       "      <td>0</td>\n",
       "    </tr>\n",
       "    <tr>\n",
       "      <th>1653</th>\n",
       "      <td>0</td>\n",
       "      <td>0</td>\n",
       "      <td>0</td>\n",
       "    </tr>\n",
       "    <tr>\n",
       "      <th>1654</th>\n",
       "      <td>0</td>\n",
       "      <td>0</td>\n",
       "      <td>0</td>\n",
       "    </tr>\n",
       "    <tr>\n",
       "      <th>1655</th>\n",
       "      <td>0</td>\n",
       "      <td>0</td>\n",
       "      <td>0</td>\n",
       "    </tr>\n",
       "    <tr>\n",
       "      <th>1656</th>\n",
       "      <td>0</td>\n",
       "      <td>0</td>\n",
       "      <td>0</td>\n",
       "    </tr>\n",
       "    <tr>\n",
       "      <th>1657</th>\n",
       "      <td>0</td>\n",
       "      <td>0</td>\n",
       "      <td>0</td>\n",
       "    </tr>\n",
       "    <tr>\n",
       "      <th>1658</th>\n",
       "      <td>0</td>\n",
       "      <td>0</td>\n",
       "      <td>0</td>\n",
       "    </tr>\n",
       "    <tr>\n",
       "      <th>1659</th>\n",
       "      <td>0</td>\n",
       "      <td>0</td>\n",
       "      <td>0</td>\n",
       "    </tr>\n",
       "    <tr>\n",
       "      <th>1660</th>\n",
       "      <td>0</td>\n",
       "      <td>0</td>\n",
       "      <td>0</td>\n",
       "    </tr>\n",
       "    <tr>\n",
       "      <th>...</th>\n",
       "      <td>...</td>\n",
       "      <td>...</td>\n",
       "      <td>...</td>\n",
       "    </tr>\n",
       "    <tr>\n",
       "      <th>1987</th>\n",
       "      <td>49450</td>\n",
       "      <td>11.8642</td>\n",
       "      <td>8.54738</td>\n",
       "    </tr>\n",
       "    <tr>\n",
       "      <th>1988</th>\n",
       "      <td>48021</td>\n",
       "      <td>11.817</td>\n",
       "      <td>8.91839</td>\n",
       "    </tr>\n",
       "    <tr>\n",
       "      <th>1989</th>\n",
       "      <td>48383</td>\n",
       "      <td>12.0883</td>\n",
       "      <td>8.99225</td>\n",
       "    </tr>\n",
       "    <tr>\n",
       "      <th>1990</th>\n",
       "      <td>50880</td>\n",
       "      <td>11.9102</td>\n",
       "      <td>8.75336</td>\n",
       "    </tr>\n",
       "    <tr>\n",
       "      <th>1991</th>\n",
       "      <td>55713</td>\n",
       "      <td>11.8268</td>\n",
       "      <td>8.37444</td>\n",
       "    </tr>\n",
       "    <tr>\n",
       "      <th>1992</th>\n",
       "      <td>61236</td>\n",
       "      <td>10.5748</td>\n",
       "      <td>8.62138</td>\n",
       "    </tr>\n",
       "    <tr>\n",
       "      <th>1993</th>\n",
       "      <td>62913</td>\n",
       "      <td>10.28</td>\n",
       "      <td>8.69973</td>\n",
       "    </tr>\n",
       "    <tr>\n",
       "      <th>1994</th>\n",
       "      <td>62611</td>\n",
       "      <td>9.76102</td>\n",
       "      <td>8.90877</td>\n",
       "    </tr>\n",
       "    <tr>\n",
       "      <th>1995</th>\n",
       "      <td>64501</td>\n",
       "      <td>9.19328</td>\n",
       "      <td>8.83792</td>\n",
       "    </tr>\n",
       "    <tr>\n",
       "      <th>1996</th>\n",
       "      <td>70206</td>\n",
       "      <td>8.58008</td>\n",
       "      <td>8.80704</td>\n",
       "    </tr>\n",
       "    <tr>\n",
       "      <th>1997</th>\n",
       "      <td>65278</td>\n",
       "      <td>8.77588</td>\n",
       "      <td>9.42803</td>\n",
       "    </tr>\n",
       "    <tr>\n",
       "      <th>1998</th>\n",
       "      <td>64381</td>\n",
       "      <td>8.45804</td>\n",
       "      <td>9.77661</td>\n",
       "    </tr>\n",
       "    <tr>\n",
       "      <th>1999</th>\n",
       "      <td>62997</td>\n",
       "      <td>8.57444</td>\n",
       "      <td>9.99032</td>\n",
       "    </tr>\n",
       "    <tr>\n",
       "      <th>2000</th>\n",
       "      <td>62945</td>\n",
       "      <td>9.43416</td>\n",
       "      <td>10.2198</td>\n",
       "    </tr>\n",
       "    <tr>\n",
       "      <th>2001</th>\n",
       "      <td>65358</td>\n",
       "      <td>7.67707</td>\n",
       "      <td>10.3108</td>\n",
       "    </tr>\n",
       "    <tr>\n",
       "      <th>2002</th>\n",
       "      <td>69380</td>\n",
       "      <td>7.11789</td>\n",
       "      <td>10.1386</td>\n",
       "    </tr>\n",
       "    <tr>\n",
       "      <th>2003</th>\n",
       "      <td>70081</td>\n",
       "      <td>6.67971</td>\n",
       "      <td>10.4298</td>\n",
       "    </tr>\n",
       "    <tr>\n",
       "      <th>2004</th>\n",
       "      <td>72349</td>\n",
       "      <td>6.12384</td>\n",
       "      <td>10.0678</td>\n",
       "    </tr>\n",
       "    <tr>\n",
       "      <th>2005</th>\n",
       "      <td>83267</td>\n",
       "      <td>5.41775</td>\n",
       "      <td>9.55274</td>\n",
       "    </tr>\n",
       "    <tr>\n",
       "      <th>2006</th>\n",
       "      <td>88567</td>\n",
       "      <td>4.47566</td>\n",
       "      <td>9.18237</td>\n",
       "    </tr>\n",
       "    <tr>\n",
       "      <th>2007</th>\n",
       "      <td>97355</td>\n",
       "      <td>4.05657</td>\n",
       "      <td>8.617</td>\n",
       "    </tr>\n",
       "    <tr>\n",
       "      <th>2008</th>\n",
       "      <td>117499</td>\n",
       "      <td>2.79631</td>\n",
       "      <td>7.52348</td>\n",
       "    </tr>\n",
       "    <tr>\n",
       "      <th>2009</th>\n",
       "      <td>120519</td>\n",
       "      <td>2.36827</td>\n",
       "      <td>7.67797</td>\n",
       "    </tr>\n",
       "    <tr>\n",
       "      <th>2010</th>\n",
       "      <td>116141</td>\n",
       "      <td>1.80863</td>\n",
       "      <td>7.93733</td>\n",
       "    </tr>\n",
       "    <tr>\n",
       "      <th>2011</th>\n",
       "      <td>99383</td>\n",
       "      <td>1.36347</td>\n",
       "      <td>7.69446</td>\n",
       "    </tr>\n",
       "    <tr>\n",
       "      <th>2012</th>\n",
       "      <td>70879</td>\n",
       "      <td>0.567912</td>\n",
       "      <td>6.93746</td>\n",
       "    </tr>\n",
       "    <tr>\n",
       "      <th>2013</th>\n",
       "      <td>78739</td>\n",
       "      <td>0.15451</td>\n",
       "      <td>6.81313</td>\n",
       "    </tr>\n",
       "    <tr>\n",
       "      <th>2014</th>\n",
       "      <td>107262</td>\n",
       "      <td>0.0715631</td>\n",
       "      <td>6.07937</td>\n",
       "    </tr>\n",
       "    <tr>\n",
       "      <th>2015</th>\n",
       "      <td>104643</td>\n",
       "      <td>0.0302075</td>\n",
       "      <td>5.85419</td>\n",
       "    </tr>\n",
       "    <tr>\n",
       "      <th>2016</th>\n",
       "      <td>59877</td>\n",
       "      <td>0.0135945</td>\n",
       "      <td>4.95021</td>\n",
       "    </tr>\n",
       "  </tbody>\n",
       "</table>\n",
       "<p>386 rows × 3 columns</p>\n",
       "</div>"
      ],
      "text/plain": [
       "       count avg_indegree avg_outdegree\n",
       "1631       1            0             0\n",
       "1632       0            0             0\n",
       "1633       0            0             0\n",
       "1634       0            0             0\n",
       "1635       0            0             0\n",
       "1636       0            0             0\n",
       "1637       0            0             0\n",
       "1638       0            0             0\n",
       "1639       0            0             0\n",
       "1640       0            0             0\n",
       "1641       1            0             0\n",
       "1642       0            0             0\n",
       "1643       0            0             0\n",
       "1644       0            0             0\n",
       "1645       0            0             0\n",
       "1646       0            0             0\n",
       "1647       0            0             0\n",
       "1648       0            0             0\n",
       "1649       0            0             0\n",
       "1650       0            0             0\n",
       "1651       0            0             0\n",
       "1652       0            0             0\n",
       "1653       0            0             0\n",
       "1654       0            0             0\n",
       "1655       0            0             0\n",
       "1656       0            0             0\n",
       "1657       0            0             0\n",
       "1658       0            0             0\n",
       "1659       0            0             0\n",
       "1660       0            0             0\n",
       "...      ...          ...           ...\n",
       "1987   49450      11.8642       8.54738\n",
       "1988   48021       11.817       8.91839\n",
       "1989   48383      12.0883       8.99225\n",
       "1990   50880      11.9102       8.75336\n",
       "1991   55713      11.8268       8.37444\n",
       "1992   61236      10.5748       8.62138\n",
       "1993   62913        10.28       8.69973\n",
       "1994   62611      9.76102       8.90877\n",
       "1995   64501      9.19328       8.83792\n",
       "1996   70206      8.58008       8.80704\n",
       "1997   65278      8.77588       9.42803\n",
       "1998   64381      8.45804       9.77661\n",
       "1999   62997      8.57444       9.99032\n",
       "2000   62945      9.43416       10.2198\n",
       "2001   65358      7.67707       10.3108\n",
       "2002   69380      7.11789       10.1386\n",
       "2003   70081      6.67971       10.4298\n",
       "2004   72349      6.12384       10.0678\n",
       "2005   83267      5.41775       9.55274\n",
       "2006   88567      4.47566       9.18237\n",
       "2007   97355      4.05657         8.617\n",
       "2008  117499      2.79631       7.52348\n",
       "2009  120519      2.36827       7.67797\n",
       "2010  116141      1.80863       7.93733\n",
       "2011   99383      1.36347       7.69446\n",
       "2012   70879     0.567912       6.93746\n",
       "2013   78739      0.15451       6.81313\n",
       "2014  107262    0.0715631       6.07937\n",
       "2015  104643    0.0302075       5.85419\n",
       "2016   59877    0.0135945       4.95021\n",
       "\n",
       "[386 rows x 3 columns]"
      ]
     },
     "execution_count": 105,
     "metadata": {},
     "output_type": "execute_result"
    }
   ],
   "source": [
    "year_quotient"
   ]
  },
  {
   "cell_type": "markdown",
   "metadata": {},
   "source": [
    "# Plot the time series"
   ]
  },
  {
   "cell_type": "code",
   "execution_count": 124,
   "metadata": {
    "collapsed": false
   },
   "outputs": [
    {
     "data": {
      "text/plain": [
       "<matplotlib.text.Text at 0x1ef3dd350>"
      ]
     },
     "execution_count": 124,
     "metadata": {},
     "output_type": "execute_result"
    },
    {
     "data": {
      "image/png": "[encoded data removed]",
      "text/plain": [
       "<matplotlib.figure.Figure at 0x1eebf4550>"
      ]
     },
     "metadata": {},
     "output_type": "display_data"
    }
   ],
   "source": [
    "plt.figure(figsize=[10, 10])\n",
    "plt.scatter(year_quotient.index,\n",
    "            year_quotient['count'],\n",
    "            marker='.',\n",
    "            color='black')\n",
    "plt.ylim(0, max(year_quotient['count']))\n",
    "plt.xlim([1850, 2016])\n",
    "plt.xlabel('year')\n",
    "plt.ylabel('number of cases')"
   ]
  },
  {
   "cell_type": "code",
   "execution_count": 130,
   "metadata": {
    "collapsed": false
   },
   "outputs": [
    {
     "data": {
      "text/plain": [
       "<matplotlib.text.Text at 0x20a009710>"
      ]
     },
     "execution_count": 130,
     "metadata": {},
     "output_type": "execute_result"
    },
    {
     "data": {
      "image/png": "[encoded data removed]",
      "text/plain": [
       "<matplotlib.figure.Figure at 0x1eec65c50>"
      ]
     },
     "metadata": {},
     "output_type": "display_data"
    }
   ],
   "source": [
    "plt.figure(figsize=[8, 8])\n",
    "plt.scatter(year_quotient.index,\n",
    "            year_quotient['avg_indegree'],\n",
    "            marker='.',\n",
    "            color='black')\n",
    "plt.ylim(0, max(year_quotient['avg_indegree']))\n",
    "plt.xlim([1900, 2016])\n",
    "plt.xlabel('year')\n",
    "plt.ylabel('average in-degree')"
   ]
  },
  {
   "cell_type": "code",
   "execution_count": 132,
   "metadata": {
    "collapsed": false
   },
   "outputs": [
    {
     "data": {
      "text/plain": [
       "<matplotlib.text.Text at 0x14bd76610>"
      ]
     },
     "execution_count": 132,
     "metadata": {},
     "output_type": "execute_result"
    },
    {
     "data": {
      "image/png": "[encoded data removed]",
      "text/plain": [
       "<matplotlib.figure.Figure at 0x20a30aed0>"
      ]
     },
     "metadata": {},
     "output_type": "display_data"
    }
   ],
   "source": [
    "plt.figure(figsize=[8, 8])\n",
    "plt.scatter(year_quotient.index,\n",
    "            year_quotient['avg_outdegree'],\n",
    "            marker='.',\n",
    "            color='black')\n",
    "plt.ylim(0, max(year_quotient['avg_outdegree']))\n",
    "plt.xlim([1850, 2016])\n",
    "plt.xlabel('year')\n",
    "plt.ylabel('average out-degree')"
   ]
  },
  {
   "cell_type": "code",
   "execution_count": null,
   "metadata": {
    "collapsed": true
   },
   "outputs": [],
   "source": []
  }
 ],
 "metadata": {
  "kernelspec": {
   "display_name": "Python 2",
   "language": "python",
   "name": "python2"
  },
  "language_info": {
   "codemirror_mode": {
    "name": "ipython",
    "version": 2
   },
   "file_extension": ".py",
   "mimetype": "text/x-python",
   "name": "python",
   "nbconvert_exporter": "python",
   "pygments_lexer": "ipython2",
   "version": "2.7.12"
  }
 },
 "nbformat": 4,
 "nbformat_minor": 0
}
