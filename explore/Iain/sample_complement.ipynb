{
 "cells": [
  {
   "cell_type": "code",
   "execution_count": 1,
   "metadata": {
    "collapsed": false
   },
   "outputs": [],
   "source": [
    "import sys\n",
    "\n",
    "sys.path.append('../../code/')\n",
    "import os\n",
    "import json\n",
    "from datetime import datetime\n",
    "import time\n",
    "\n",
    "import numpy as np\n",
    "import pandas as pd\n",
    "import matplotlib.pyplot as plt\n",
    "import scipy.stats as stats\n",
    "\n",
    "import igraph as ig\n",
    "\n",
    "from load_data import load_citation_network_igraph, case_info\n",
    "\n",
    "%load_ext autoreload\n",
    "%autoreload 2\n",
    "%matplotlib inline\n",
    "\n",
    "data_dir = '../../data/'\n",
    "court_name = 'scotus'"
   ]
  },
  {
   "cell_type": "code",
   "execution_count": 2,
   "metadata": {
    "collapsed": false
   },
   "outputs": [
    {
     "name": "stdout",
     "output_type": "stream",
     "text": [
      "1 seconds for 250465 edges\n",
      "loaded scotus network with 33248 cases and 250465 edges\n"
     ]
    }
   ],
   "source": [
    "# this will be a little slow the first time you run it\n",
    "G = load_citation_network_igraph(data_dir, court_name)\n",
    "\n",
    "print 'loaded %s network with %d cases and %d edges' % (court_name, len(G.vs), len(G.es))"
   ]
  },
  {
   "cell_type": "markdown",
   "metadata": {
    "collapsed": true
   },
   "source": [
    "# randomly sample edges that are not there"
   ]
  },
  {
   "cell_type": "code",
   "execution_count": 183,
   "metadata": {
    "collapsed": false
   },
   "outputs": [
    {
     "name": "stdout",
     "output_type": "stream",
     "text": [
      "total_runtime 0.00452\n",
      "len nonexistant_edge_list 1000\n"
     ]
    }
   ],
   "source": [
    "desired_num_samples = 1000\n",
    "\n",
    "all_indices = range(len(G.vs))\n",
    "\n",
    "nonexistant_edge_list = []\n",
    "\n",
    "start_time = time.time()\n",
    "while len(nonexistant_edge_list) < desired_num_samples:\n",
    "    # randomly select a pair of vertices\n",
    "    rand_pair = np.random.choice(all_indices, size=2, replace=False)\n",
    "    \n",
    "    # check if there is currently an edge between the two vertices\n",
    "    edge_check = G.es.select(_between=([rand_pair[0]], [rand_pair[1]]))\n",
    "    \n",
    "    # if edge does not exist add it to the list\n",
    "    if len(edge_check) == 0: \n",
    "       \n",
    "        # order the vertices by time\n",
    "        if G.vs[rand_pair[0]]['year'] <= G.vs[rand_pair[1]]['year']:\n",
    "            ing_id = rand_pair[1]\n",
    "            ed_id = rand_pair[0]\n",
    "        else:\n",
    "            ing_id = rand_pair[0]\n",
    "            ed_id = rand_pair[1]\n",
    "            \n",
    "        nonexistant_edge_list.append((ing_id, ed_id))\n",
    "total_runtime = time.time() - start_time\n",
    "\n",
    "print 'total_runtime %1.5f' % (total_runtime/desired_num_samples)\n",
    "\n",
    "print 'len nonexistant_edge_list %d' % len(nonexistant_edge_list)"
   ]
  },
  {
   "cell_type": "code",
   "execution_count": 187,
   "metadata": {
    "collapsed": false
   },
   "outputs": [
    {
     "name": "stdout",
     "output_type": "stream",
     "text": [
      "estimated time to get to 500000 samples: 37.65709 min\n"
     ]
    }
   ],
   "source": [
    "print 'estimated time to get to 500000 samples: %1.5f min' % (((total_runtime/desired_num_samples) * 500000)/60)"
   ]
  },
  {
   "cell_type": "code",
   "execution_count": null,
   "metadata": {
    "collapsed": true
   },
   "outputs": [],
   "source": []
  }
 ],
 "metadata": {
  "kernelspec": {
   "display_name": "Python 2",
   "language": "python",
   "name": "python2"
  },
  "language_info": {
   "codemirror_mode": {
    "name": "ipython",
    "version": 2
   },
   "file_extension": ".py",
   "mimetype": "text/x-python",
   "name": "python",
   "nbconvert_exporter": "python",
   "pygments_lexer": "ipython2",
   "version": "2.7.12"
  }
 },
 "nbformat": 4,
 "nbformat_minor": 0
}
