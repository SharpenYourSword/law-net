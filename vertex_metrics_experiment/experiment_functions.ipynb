{
 "cells": [
  {
   "cell_type": "code",
   "execution_count": 15,
   "metadata": {
    "collapsed": false
   },
   "outputs": [
    {
     "name": "stdout",
     "output_type": "stream",
     "text": [
      "The autoreload extension is already loaded. To reload it, use:\n",
      "  %reload_ext autoreload\n"
     ]
    }
   ],
   "source": [
    "repo_directory = '/Users/iaincarmichael/Dropbox/Research/law/law-net/'\n",
    "\n",
    "data_dir = '/Users/iaincarmichael/Data/courtlistener/'\n",
    "\n",
    "import sys\n",
    "import numpy as np\n",
    "import igraph as ig\n",
    "\n",
    "sys.path.append(repo_directory + 'vertex_metrics_experiment/code/')\n",
    "from experiment_helper_functions import get_test_cases\n",
    "from run_exper import *\n",
    "\n",
    "\n",
    "# which network to download data for\n",
    "network_name = 'scotus' # 'federal', 'ca1', etc\n",
    "\n",
    "\n",
    "# some sub directories that get used\n",
    "raw_dir = data_dir + 'raw/'\n",
    "subnet_dir = data_dir + network_name + '/'\n",
    "results_dir = subnet_dir + 'results/'\n",
    "\n",
    "\n",
    "# jupyter notebook settings\n",
    "%load_ext autoreload\n",
    "%autoreload 2\n",
    "%matplotlib inline"
   ]
  },
  {
   "cell_type": "code",
   "execution_count": 6,
   "metadata": {
    "collapsed": false
   },
   "outputs": [],
   "source": [
    "G = ig.Graph.Read_GraphML(subnet_dir + network_name +'_network.graphml')"
   ]
  },
  {
   "cell_type": "markdown",
   "metadata": {},
   "source": [
    "## parameters from make snapshots"
   ]
  },
  {
   "cell_type": "code",
   "execution_count": 7,
   "metadata": {
    "collapsed": false
   },
   "outputs": [],
   "source": [
    "vertex_metrics = ['indegree', 'outdegree', 'degree',\n",
    "                  'd_pagerank','u_pagerank',\n",
    "                  'authorities', 'hubs',\n",
    "                  #'d_eigen', 'u_eigen', # d_eigen is being problematic\n",
    "                  'u_eigen',\n",
    "                  'd_betweenness', 'u_betweenness',\n",
    "                  'd_closeness', 'u_closeness']\n",
    "\n",
    "# add recent citations\n",
    "vertex_metrics += ['recentcite_' + str(t) for t in np.arange(1, 10 + 1)]\n",
    "vertex_metrics += ['recentcite_' + str(t) for t in [15, 20, 25, 30, 35, 40]]\n",
    "vertex_metrics += ['age', 'similarity']\n",
    "\n",
    "\n",
    "vertex_metrics = ['age', 'similarity']\n",
    "vertex_metrics += ['indegree', 'outdegree']\n",
    "\n",
    "active_years = range(1900, 2015 + 1)"
   ]
  },
  {
   "cell_type": "markdown",
   "metadata": {},
   "source": [
    "## test parameters"
   ]
  },
  {
   "cell_type": "code",
   "execution_count": 10,
   "metadata": {
    "collapsed": false
   },
   "outputs": [],
   "source": [
    "test_seed = 4332,\n",
    "num_test_cases = 10\n",
    "\n",
    "test_cases = get_test_cases(G, active_years, num_test_cases, seed=test_seed)"
   ]
  },
  {
   "cell_type": "code",
   "execution_count": 11,
   "metadata": {
    "collapsed": true
   },
   "outputs": [],
   "source": [
    "name = 'test'"
   ]
  },
  {
   "cell_type": "markdown",
   "metadata": {
    "collapsed": true
   },
   "source": [
    "# Sort    "
   ]
  },
  {
   "cell_type": "code",
   "execution_count": 14,
   "metadata": {
    "collapsed": false
   },
   "outputs": [
    {
     "name": "stdout",
     "output_type": "stream",
     "text": [
      "CPU times: user 13.4 s, sys: 3.04 s, total: 16.4 s\n",
      "Wall time: 16.5 s\n"
     ]
    }
   ],
   "source": [
    "%%time\n",
    "test_case_ids = [v.index for v in test_cases]\n",
    "\n",
    "\n",
    "sort_params = {}\n",
    "exper_params_sort = {'vertex_metrics': vertex_metrics,\n",
    "                     'active_years': active_years,\n",
    "                     'test_case_ids': test_case_ids,\n",
    "                     'sort_params': sort_params}\n",
    "\n",
    "\n",
    "run_sort(G, exper_params_sort, subnet_dir, name)"
   ]
  },
  {
   "cell_type": "markdown",
   "metadata": {},
   "source": [
    "# Match"
   ]
  },
  {
   "cell_type": "code",
   "execution_count": null,
   "metadata": {
    "collapsed": true
   },
   "outputs": [],
   "source": [
    "num_to_keep = 5000\n",
    "match_params = {'num_to_keep': num_to_keep}\n",
    "\n",
    "exper_params_match = {'vertex_metrics': vertex_metrics,\n",
    "                     'active_years': active_years,\n",
    "                     'test_case_ids': test_case_ids,\n",
    "                     'match_params': match_params}     \n",
    "        \n",
    "run_match(G, exper_params_match, subnet_dir, name)"
   ]
  },
  {
   "cell_type": "markdown",
   "metadata": {},
   "source": [
    "# Logreg"
   ]
  },
  {
   "cell_type": "code",
   "execution_count": null,
   "metadata": {
    "collapsed": true
   },
   "outputs": [],
   "source": [
    "\n",
    "num_absent_edges = len(G.es)\n",
    "seed_edge_df = 32432\n",
    "metric_normalization = 'mean'\n",
    "feature_transform = 'poly2'\n",
    "make_tr_data = False\n",
    "\n",
    "logreg_params = {'num_absent_edges': num_absent_edges,\n",
    "                 'seed_edge_df': seed_edge_df,\n",
    "                 'metric_normalization': metric_normalization,\n",
    "                 'feature_transform': feature_transform,\n",
    "                 'make_tr_data': make_tr_data}\n",
    "\n",
    "\n",
    "exper_params_logreg = {'vertex_metrics': vertex_metrics,\n",
    "                       'active_years': active_years,\n",
    "                       'test_case_ids': test_case_ids,\n",
    "                       'logreg_params': logreg_params}     \n",
    "        \n",
    "\n",
    "run_logreg(G, exper_params_logreg, subnet_dir, name)"
   ]
  },
  {
   "cell_type": "markdown",
   "metadata": {},
   "source": [
    "# load results"
   ]
  },
  {
   "cell_type": "code",
   "execution_count": 18,
   "metadata": {
    "collapsed": false
   },
   "outputs": [],
   "source": [
    "rankloss_sort = pickle.load(open( results_dir + 'sort/%s/rankloss_sort.p' % name, \"rb\" ) )\n",
    "# rankloss_match = pickle.load(open( results_dir + 'match/%s/rankloss_match.p' % name, \"rb\" ) )\n",
    "# rankloss_logreg = pickle.load(open( results_dir + 'logreg/%s/rankloss_logreg.p' % name, \"rb\" ) )"
   ]
  },
  {
   "cell_type": "code",
   "execution_count": 22,
   "metadata": {
    "collapsed": false
   },
   "outputs": [
    {
     "data": {
      "text/plain": [
       "similarity    0.034478\n",
       "age           0.184642\n",
       "outdegree     0.282623\n",
       "indegree      0.385061\n",
       "dtype: float64"
      ]
     },
     "execution_count": 22,
     "metadata": {},
     "output_type": "execute_result"
    }
   ],
   "source": [
    "MRS_sort = rankloss_sort['MRS'].mean().sort_values()\n",
    "RR_sort = rankloss_sort['RR'].mean().sort_values()\n",
    "PAK100_sort = rankloss_sort['PAK100'].mean().sort_values()\n",
    "PAK1000_sort = rankloss_sort['PAK1000'].mean().sort_values()\n",
    "\n",
    "MRS_sort"
   ]
  },
  {
   "cell_type": "code",
   "execution_count": null,
   "metadata": {
    "collapsed": true
   },
   "outputs": [],
   "source": []
  }
 ],
 "metadata": {
  "anaconda-cloud": {},
  "kernelspec": {
   "display_name": "Python [default]",
   "language": "python",
   "name": "python2"
  },
  "language_info": {
   "codemirror_mode": {
    "name": "ipython",
    "version": 2
   },
   "file_extension": ".py",
   "mimetype": "text/x-python",
   "name": "python",
   "nbconvert_exporter": "python",
   "pygments_lexer": "ipython2",
   "version": "2.7.12"
  }
 },
 "nbformat": 4,
 "nbformat_minor": 0
}
