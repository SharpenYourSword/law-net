{
 "cells": [
  {
   "cell_type": "code",
   "execution_count": 29,
   "metadata": {
    "collapsed": false
   },
   "outputs": [
    {
     "name": "stdout",
     "output_type": "stream",
     "text": [
      "The autoreload extension is already loaded. To reload it, use:\n",
      "  %reload_ext autoreload\n"
     ]
    }
   ],
   "source": [
    "repo_directory = '/Users/iaincarmichael/Dropbox/Research/law/law-net/'\n",
    "\n",
    "data_dir = '/Users/iaincarmichael/data/courtlistener/'\n",
    "\n",
    "import numpy as np\n",
    "import sys\n",
    "import matplotlib.pyplot as plt\n",
    "from scipy.stats import rankdata, ttest_rel, ttest_ind\n",
    "import cPickle as pickle\n",
    "import copy \n",
    "\n",
    "# graph package\n",
    "import igraph as ig\n",
    "\n",
    "# our code\n",
    "sys.path.append(repo_directory + 'code/')\n",
    "from setup_data_dir import setup_data_dir, make_subnetwork_directory\n",
    "from pipeline.download_data import download_bulk_resource, download_master_edgelist, download_scdb\n",
    "from helpful_functions import case_info\n",
    "\n",
    "sys.path.append(repo_directory + 'vertex_metrics_experiment/code/')\n",
    "from results import *\n",
    "\n",
    "\n",
    "\n",
    "# which network to download data for\n",
    "network_name = 'federal' # 'federal', 'ca1', etc\n",
    "\n",
    "\n",
    "# some sub directories that get used\n",
    "raw_dir = data_dir + 'raw/'\n",
    "subnet_dir = data_dir + network_name + '/'\n",
    "text_dir = subnet_dir + 'textfiles/'\n",
    "results_dir = subnet_dir + 'results/'\n",
    "\n",
    "# jupyter notebook settings\n",
    "%load_ext autoreload\n",
    "%autoreload 2\n",
    "%matplotlib inline"
   ]
  },
  {
   "cell_type": "code",
   "execution_count": 2,
   "metadata": {
    "collapsed": false
   },
   "outputs": [
    {
     "name": "stderr",
     "output_type": "stream",
     "text": [
      "/Users/iaincarmichael/anaconda/lib/python2.7/site-packages/ipykernel/__main__.py:1: RuntimeWarning: Could not add vertex ids, there is already an 'id' vertex attribute at foreign-graphml.c:443\n",
      "  if __name__ == '__main__':\n"
     ]
    }
   ],
   "source": [
    "G = ig.Graph.Read_GraphML(subnet_dir + network_name +'_network.graphml')"
   ]
  },
  {
   "cell_type": "markdown",
   "metadata": {},
   "source": [
    "# results"
   ]
  },
  {
   "cell_type": "code",
   "execution_count": 3,
   "metadata": {
    "collapsed": false
   },
   "outputs": [],
   "source": [
    "name = 'federal_test'\n",
    "sort_path = results_dir + 'sort/%s/rankloss_sort.p' % name\n",
    "rankloss_sort = pickle.load(open(sort_path, \"rb\"))\n",
    "\n",
    "rankloss = {'sort': rankloss_sort}"
   ]
  },
  {
   "cell_type": "code",
   "execution_count": 25,
   "metadata": {
    "collapsed": false
   },
   "outputs": [
    {
     "data": {
      "text/plain": [
       "Index([u'indegree', u'outdegree', u'degree', u'd_pagerank', u'u_pagerank',\n",
       "       u'authorities', u'hubs', u'u_eigen', u'recentcite_1', u'recentcite_2',\n",
       "       u'recentcite_3', u'recentcite_4', u'recentcite_5', u'recentcite_6',\n",
       "       u'recentcite_7', u'recentcite_8', u'recentcite_9', u'recentcite_10',\n",
       "       u'recentcite_15', u'recentcite_20', u'recentcite_25', u'recentcite_30',\n",
       "       u'recentcite_35', u'recentcite_40', u'age', u'similarity'],\n",
       "      dtype='object')"
      ]
     },
     "execution_count": 25,
     "metadata": {},
     "output_type": "execute_result"
    }
   ],
   "source": [
    "rankloss['sort']['MRS'].columns"
   ]
  },
  {
   "cell_type": "code",
   "execution_count": 26,
   "metadata": {
    "collapsed": true
   },
   "outputs": [],
   "source": [
    "dir_time_agnostic_metrics = ['indegree', 'outdegree',\n",
    "                             'd_pagerank', 'authorities']"
   ]
  },
  {
   "cell_type": "code",
   "execution_count": 35,
   "metadata": {
    "collapsed": false
   },
   "outputs": [],
   "source": [
    "all_dir_metrics = copy.copy(dir_time_agnostic_metrics)\n",
    "\n",
    "# all_dir_metrics += ['polyrank_2', 'polyrank_5', 'polyrank_10']\n",
    "# all_dir_metrics += ['citerank_2', 'citerank_5', 'citerank_10', 'citerank_50']\n",
    "all_dir_metrics += ['recentcite_2' ,'recentcite_5', 'recentcite_10', 'recentcite_20']\n"
   ]
  },
  {
   "cell_type": "code",
   "execution_count": 36,
   "metadata": {
    "collapsed": false
   },
   "outputs": [
    {
     "data": {
      "image/png": "[encoded data removed]",
      "text/plain": [
       "<matplotlib.figure.Figure at 0x11abe0490>"
      ]
     },
     "metadata": {},
     "output_type": "display_data"
    }
   ],
   "source": [
    "exper='sort'\n",
    "\n",
    "metric = 'MRS'\n",
    "\n",
    "plot_scores(rankloss[exper][metric][all_dir_metrics], exper=exper, metric=metric, network_name=network_name)"
   ]
  },
  {
   "cell_type": "code",
   "execution_count": null,
   "metadata": {
    "collapsed": true
   },
   "outputs": [],
   "source": []
  },
  {
   "cell_type": "code",
   "execution_count": 17,
   "metadata": {
    "collapsed": false
   },
   "outputs": [
    {
     "name": "stdout",
     "output_type": "stream",
     "text": [
      "indegree vs. authorities\n",
      "sort experiment, MRS\n",
      "two sided t-test for equal means\n",
      "\n",
      "dependent paired samples\n",
      "Ttest_relResult(statistic=-3.790380699438046, pvalue=0.00015942185821828748)\n"
     ]
    }
   ],
   "source": [
    "to_compare = ['indegree', 'authorities']\n",
    "exper = 'sort'\n",
    "metric = 'MRS'\n",
    "data = rankloss[exper][metric][to_compare]\n",
    "\n",
    "print '%s vs. %s' % ( to_compare[0], to_compare[1])\n",
    "print '%s experiment, %s' % (exper,metric)\n",
    "print 'two sided t-test for equal means' \n",
    "print\n",
    "print 'dependent paired samples'\n",
    "print ttest_rel(data[to_compare[0]], data[to_compare[1]])"
   ]
  },
  {
   "cell_type": "markdown",
   "metadata": {
    "collapsed": true
   },
   "source": [
    "# paper figures"
   ]
  },
  {
   "cell_type": "code",
   "execution_count": 12,
   "metadata": {
    "collapsed": true
   },
   "outputs": [],
   "source": [
    "dir_time_agnostic_metrics = ['indegree', 'outdegree',\n",
    "                             'd_pagerank', 'authorities', 'hubs']"
   ]
  },
  {
   "cell_type": "code",
   "execution_count": 13,
   "metadata": {
    "collapsed": false
   },
   "outputs": [
    {
     "data": {
      "image/png": "[encoded data removed]",
      "text/plain": [
       "<matplotlib.figure.Figure at 0x11a2567d0>"
      ]
     },
     "metadata": {},
     "output_type": "display_data"
    }
   ],
   "source": [
    "plot_scores(rankloss[exper][metric][dir_time_agnostic_metrics], exper=exper, metric=metric, network_name=network_name)"
   ]
  },
  {
   "cell_type": "code",
   "execution_count": null,
   "metadata": {
    "collapsed": true
   },
   "outputs": [],
   "source": []
  }
 ],
 "metadata": {
  "anaconda-cloud": {},
  "kernelspec": {
   "display_name": "Python [default]",
   "language": "python",
   "name": "python2"
  },
  "language_info": {
   "codemirror_mode": {
    "name": "ipython",
    "version": 2
   },
   "file_extension": ".py",
   "mimetype": "text/x-python",
   "name": "python",
   "nbconvert_exporter": "python",
   "pygments_lexer": "ipython2",
   "version": "2.7.12"
  }
 },
 "nbformat": 4,
 "nbformat_minor": 0
}
