{
 "cells": [
  {
   "cell_type": "code",
   "execution_count": 35,
   "metadata": {
    "collapsed": false
   },
   "outputs": [
    {
     "name": "stdout",
     "output_type": "stream",
     "text": [
      "The autoreload extension is already loaded. To reload it, use:\n",
      "  %reload_ext autoreload\n"
     ]
    }
   ],
   "source": [
    "from __future__ import division\n",
    "\n",
    "import sys\n",
    "import time\n",
    "from math import *\n",
    "import numpy as np\n",
    "import pandas as pd\n",
    "import matplotlib.pyplot as plt\n",
    "import igraph as ig\n",
    "\n",
    "# our code\n",
    "sys.path.append('/Users/iaincarmichael/Dropbox/Research/law/law-net/code')\n",
    "from load_data import load_and_clean_graph, case_info\n",
    "\n",
    "from make_snapshots import *\n",
    "from make_edge_df import *\n",
    "from attachment_model_inference import *\n",
    "from compute_ranking_metrics import *\n",
    "\n",
    "# directory set up\n",
    "top_directory = '/Users/iaincarmichael/Dropbox/Research/law/law-net/'\n",
    "data_dir = top_directory + 'data/'\n",
    "experiment_data_dir = top_directory + 'explore/vertex_metrics_experiment/experiment_data/'\n",
    "\n",
    "court_name = 'scotus'\n",
    "\n",
    "# jupyter notebook settings\n",
    "%load_ext autoreload\n",
    "%autoreload 2\n",
    "%matplotlib inline"
   ]
  },
  {
   "cell_type": "code",
   "execution_count": 4,
   "metadata": {
    "collapsed": true
   },
   "outputs": [],
   "source": [
    "# This def is not required, I just used it to make excuted code concise\n",
    "def load_and_clean_graph(data_dir, court_name):\n",
    "    G = load_citation_network_igraph(data_dir, court_name)\n",
    "    all_edges = G.get_edgelist() # list of tuples\n",
    "    bad_edges = []\n",
    "    for edge in all_edges:\n",
    "        citing_year = G.vs(edge[0])['year'][0]\n",
    "        cited_year = G.vs(edge[1])['year'][0]\n",
    "    \n",
    "        if citing_year < cited_year:\n",
    "            bad_edges.append(edge)\n",
    "\n",
    "    G.delete_edges(bad_edges)\n",
    "    return G"
   ]
  },
  {
   "cell_type": "code",
   "execution_count": 5,
   "metadata": {
    "collapsed": false
   },
   "outputs": [
    {
     "name": "stdout",
     "output_type": "stream",
     "text": [
      "0 seconds for 250465 edges\n"
     ]
    }
   ],
   "source": [
    "G = load_and_clean_graph()"
   ]
  },
  {
   "cell_type": "markdown",
   "metadata": {},
   "source": [
    "# make snapshot data frames"
   ]
  },
  {
   "cell_type": "code",
   "execution_count": 6,
   "metadata": {
    "collapsed": true
   },
   "outputs": [],
   "source": [
    "years = [year for year in range(1760, 2021) if year % 10 == 0]\n",
    "metrics = ['indegree','pagerank']"
   ]
  },
  {
   "cell_type": "code",
   "execution_count": null,
   "metadata": {
    "collapsed": false
   },
   "outputs": [],
   "source": [
    "\n",
    "start = time.time()\n",
    "get_snapshot_vertex_metrics(G, years, metrics, experiment_data_dir = experiment_data_dir)\n",
    "runtime = time.time() - start\n",
    "print runtime"
   ]
  },
  {
   "cell_type": "markdown",
   "metadata": {},
   "source": [
    "# Make edge data frame"
   ]
  },
  {
   "cell_type": "code",
   "execution_count": 7,
   "metadata": {
    "collapsed": false
   },
   "outputs": [],
   "source": [
    "year_interval = 10\n",
    "num_non_edges_to_add = len(G.get_edgelist())"
   ]
  },
  {
   "cell_type": "code",
   "execution_count": 14,
   "metadata": {
    "collapsed": false
   },
   "outputs": [
    {
     "name": "stdout",
     "output_type": "stream",
     "text": [
      "669.422421932\n"
     ]
    }
   ],
   "source": [
    "start = time.time()\n",
    "get_snapshot_edge_metrics(G, experiment_data_dir, year_interval, num_non_edges_to_add)\n",
    "runtime = time.time() - start\n",
    "print runtime"
   ]
  },
  {
   "cell_type": "code",
   "execution_count": 15,
   "metadata": {
    "collapsed": true
   },
   "outputs": [],
   "source": [
    "edge_df = pd.read_csv(experiment_data_dir + 'edge_data.csv', index_col=0)\n"
   ]
  },
  {
   "cell_type": "code",
   "execution_count": 28,
   "metadata": {
    "collapsed": false
   },
   "outputs": [
    {
     "data": {
      "text/plain": [
       "<matplotlib.collections.PathCollection at 0x12217ca90>"
      ]
     },
     "execution_count": 28,
     "metadata": {},
     "output_type": "execute_result"
    },
    {
     "data": {
      "image/png": "[encoded data removed]",
      "text/plain": [
       "<matplotlib.figure.Figure at 0x121ee07d0>"
      ]
     },
     "metadata": {},
     "output_type": "display_data"
    }
   ],
   "source": [
    "plt.scatter(edge_df['indegree'],\n",
    "            np.log(edge_df['pagerank']))"
   ]
  },
  {
   "cell_type": "code",
   "execution_count": 33,
   "metadata": {
    "collapsed": false
   },
   "outputs": [
    {
     "name": "stdout",
     "output_type": "stream",
     "text": [
      "3.50401616096\n"
     ]
    }
   ],
   "source": [
    "columns_to_use = ['indegree','pagerank']\n",
    "\n",
    "start = time.time()\n",
    "LogReg = fit_logistic_regression(experiment_data_dir, columns_to_use)\n",
    "runtime = time.time() - start\n",
    "print runtime"
   ]
  },
  {
   "cell_type": "markdown",
   "metadata": {},
   "source": [
    "# compute vertex metrics"
   ]
  },
  {
   "cell_type": "code",
   "execution_count": 34,
   "metadata": {
    "collapsed": true
   },
   "outputs": [],
   "source": [
    "year_interval = 10\n",
    "R = 500"
   ]
  },
  {
   "cell_type": "code",
   "execution_count": 40,
   "metadata": {
    "collapsed": false
   },
   "outputs": [
    {
     "name": "stdout",
     "output_type": "stream",
     "text": [
      "12.3361809254\n"
     ]
    }
   ],
   "source": [
    "start = time.time()\n",
    "ranking_metrics = compute_ranking_metrics(G, LogReg, columns_to_use, experiment_data_dir, year_interval, R)\n",
    "runtime = time.time() - start\n",
    "print runtime"
   ]
  },
  {
   "cell_type": "code",
   "execution_count": 41,
   "metadata": {
    "collapsed": false
   },
   "outputs": [
    {
     "data": {
      "text/plain": [
       "7.4420000000000002"
      ]
     },
     "execution_count": 41,
     "metadata": {},
     "output_type": "execute_result"
    }
   ],
   "source": [
    "ranking_metrics"
   ]
  },
  {
   "cell_type": "code",
   "execution_count": null,
   "metadata": {
    "collapsed": true
   },
   "outputs": [],
   "source": []
  }
 ],
 "metadata": {
  "kernelspec": {
   "display_name": "Python 2",
   "language": "python",
   "name": "python2"
  },
  "language_info": {
   "codemirror_mode": {
    "name": "ipython",
    "version": 2
   },
   "file_extension": ".py",
   "mimetype": "text/x-python",
   "name": "python",
   "nbconvert_exporter": "python",
   "pygments_lexer": "ipython2",
   "version": "2.7.12"
  }
 },
 "nbformat": 4,
 "nbformat_minor": 0
}
