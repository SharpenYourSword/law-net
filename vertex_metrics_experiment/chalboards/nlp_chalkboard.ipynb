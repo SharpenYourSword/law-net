{
 "cells": [
  {
   "cell_type": "code",
   "execution_count": 3,
   "metadata": {
    "collapsed": false
   },
   "outputs": [
    {
     "name": "stdout",
     "output_type": "stream",
     "text": [
      "The autoreload extension is already loaded. To reload it, use:\n",
      "  %reload_ext autoreload\n"
     ]
    }
   ],
   "source": [
    "top_directory = '/Users/iaincarmichael/Dropbox/Research/law/law-net/'\n",
    "\n",
    "from __future__ import division\n",
    "\n",
    "import os\n",
    "import sys\n",
    "import time\n",
    "from math import *\n",
    "import copy\n",
    "import cPickle as pickle\n",
    "\n",
    "# data\n",
    "import numpy as np\n",
    "import pandas as pd\n",
    "\n",
    "# viz\n",
    "import matplotlib.pyplot as plt\n",
    "\n",
    "\n",
    "# graph\n",
    "import igraph as ig\n",
    "\n",
    "\n",
    "# NLP\n",
    "from nltk.corpus import stopwords\n",
    "\n",
    "\n",
    "# our code\n",
    "sys.path.append(top_directory + 'code/')\n",
    "from load_data import load_and_clean_graph, case_info\n",
    "from pipeline.download_data import download_bulk_resource\n",
    "\n",
    "sys.path.append(top_directory + 'explore/vertex_metrics_experiment/code/')\n",
    "from make_snapshots import *\n",
    "from make_edge_df import *\n",
    "from attachment_model_inference import *\n",
    "from compute_ranking_metrics import *\n",
    "from pipeline_helper_functions import *\n",
    "from make_case_text_files import *\n",
    "from bag_of_words import *\n",
    "\n",
    "# directory set up\n",
    "data_dir = top_directory + 'data/'\n",
    "experiment_data_dir = data_dir + 'vertex_metrics_experiment/'\n",
    "\n",
    "court_name = 'scotus'\n",
    "\n",
    "# jupyter notebook settings\n",
    "%load_ext autoreload\n",
    "%autoreload 2\n",
    "%matplotlib inline"
   ]
  },
  {
   "cell_type": "code",
   "execution_count": 9,
   "metadata": {
    "collapsed": true
   },
   "outputs": [],
   "source": [
    "G = load_and_clean_graph(data_dir, court_name)"
   ]
  },
  {
   "cell_type": "markdown",
   "metadata": {},
   "source": [
    "# load similarity matrix"
   ]
  },
  {
   "cell_type": "code",
   "execution_count": 10,
   "metadata": {
    "collapsed": false
   },
   "outputs": [],
   "source": [
    "similarity_matrix = load_sparse_csr(filename=experiment_data_dir + 'cosine_sims.npz')"
   ]
  },
  {
   "cell_type": "code",
   "execution_count": 11,
   "metadata": {
    "collapsed": false
   },
   "outputs": [],
   "source": [
    "with open(experiment_data_dir + 'CLid_to_index.p', 'rb') as f:\n",
    "    CLid_to_index = pickle.load(f)"
   ]
  },
  {
   "cell_type": "markdown",
   "metadata": {
    "collapsed": false
   },
   "source": [
    "# Look at similarities"
   ]
  },
  {
   "cell_type": "code",
   "execution_count": 12,
   "metadata": {
    "collapsed": true
   },
   "outputs": [],
   "source": [
    "def get_similarities(similarity_matrix, CLid_A, CLid_B, CLid_to_index):\n",
    "    \"\"\"\n",
    "    Returns the similarities for cases index by CL ids as a list\n",
    "    \n",
    "    Parameters\n",
    "    ----------\n",
    "    similarity_matrix: precomputed similarity matrix\n",
    "    \n",
    "    CLid_A, CLid_B: two lists of CL ids whose similarities we want\n",
    "    \n",
    "    CLid_to_index: dict that maps CL ids to similarity_matrix indices\n",
    "    \"\"\"\n",
    "    \n",
    "    if len(CLid_A) != len(CLid_B):\n",
    "        raise ValueError('lists not the same length')\n",
    "    else:\n",
    "        N = len(CLid_A)\n",
    "    \n",
    "    # list to return\n",
    "    similarities = [0] * N\n",
    "\n",
    "    # grab each entry\n",
    "    for i in range(N):\n",
    "        \n",
    "        try:\n",
    "            # convet CL id to matrix index\n",
    "            idA = CLid_to_index[CLid_A[i]]\n",
    "            idB = CLid_to_index[CLid_B[i]]\n",
    "\n",
    "            similarities[i] = similarity_matrix[idA, idB]\n",
    "        except KeyError:\n",
    "            # if one of the CLid's is not in the similarity matrix return nan\n",
    "            similarities[i] = np.nan\n",
    "\n",
    "    return similarities"
   ]
  },
  {
   "cell_type": "code",
   "execution_count": null,
   "metadata": {
    "collapsed": true
   },
   "outputs": [],
   "source": [
    "def save_similarity_matrix(experiment_data_dir, similarity_matrix, CLid_to_index):\n",
    "    \"\"\"\n",
    "    saves similarity matrix and CLid_to_index dict\n",
    "    \"\"\"\n",
    "    \n",
    "    # save similarity matrix\n",
    "    save_sparse_csr(filename=experiment_data_dir + 'cosine_sims',\n",
    "                    array=S)\n",
    "\n",
    "    # save clid to index map\n",
    "    with open(experiment_data_dir + 'CLid_to_index.p', 'wb') as fp:\n",
    "        pickle.dump(CLid_to_index, fp)\n",
    "        \n",
    "        \n",
    "def load_similarity_matrix(experiment_data_dir):\n",
    "    \"\"\"\n",
    "    Load similarity matrix and CLid_to_index dict\n",
    "    \n",
    "    Parameters\n",
    "    ----------\n",
    "    experiment_data_dir:\n",
    "    \n",
    "    Output\n",
    "    ------\n",
    "    similarity_matrix, CLid_to_index\n",
    "    \"\"\"\n",
    "    \n",
    "    similarity_matrix = load_sparse_csr(filename=experiment_data_dir + 'cosine_sims.npz')\n",
    "\n",
    "    with open(experiment_data_dir + 'CLid_to_index.p', 'rb') as f:\n",
    "        CLid_to_index = pickle.load(f) \n",
    "        \n",
    "        \n",
    "    return similarity_matrix, CLid_to_index"
   ]
  },
  {
   "cell_type": "code",
   "execution_count": 13,
   "metadata": {
    "collapsed": true
   },
   "outputs": [],
   "source": [
    "CLid_ing = []\n",
    "CLid_ed = []\n",
    "for e in G.es:\n",
    "    \n",
    "    CLid_ing.append(G.vs[e.source]['name'])\n",
    "    CLid_ed.append(G.vs[e.target]['name'])"
   ]
  },
  {
   "cell_type": "code",
   "execution_count": null,
   "metadata": {
    "collapsed": true
   },
   "outputs": [],
   "source": [
    "start = time.time()\n",
    "sims = get_similarities(S, CLid_ing, CLid_ed, CLid_to_index)\n",
    "runtime = time.time() - start"
   ]
  },
  {
   "cell_type": "markdown",
   "metadata": {},
   "source": [
    "# surgery"
   ]
  },
  {
   "cell_type": "code",
   "execution_count": 14,
   "metadata": {
    "collapsed": false
   },
   "outputs": [
    {
     "name": "stdout",
     "output_type": "stream",
     "text": [
      "there are 33157 keys\n"
     ]
    }
   ],
   "source": [
    "len(CLid_to_index.keys())\n",
    "map_clids = CLid_to_index.keys()\n",
    "\n",
    "print 'there are %d keys' % len(CLid_to_index.keys())"
   ]
  },
  {
   "cell_type": "code",
   "execution_count": 15,
   "metadata": {
    "collapsed": false
   },
   "outputs": [
    {
     "name": "stdout",
     "output_type": "stream",
     "text": [
      "there are 33253 vertices in the graph\n"
     ]
    }
   ],
   "source": [
    "len(G.vs)\n",
    "\n",
    "G_clids = G.vs['name']\n",
    "\n",
    "print 'there are %d vertices in the graph' % len(G.vs)"
   ]
  },
  {
   "cell_type": "code",
   "execution_count": 21,
   "metadata": {
    "collapsed": false
   },
   "outputs": [
    {
     "data": {
      "text/plain": [
       "{'3177214',\n",
       " '3177215',\n",
       " '3177216',\n",
       " '3177217',\n",
       " '3177218',\n",
       " '3177219',\n",
       " '3181041',\n",
       " '3181042',\n",
       " '3181043',\n",
       " '3181499',\n",
       " '3181500',\n",
       " '3183097',\n",
       " '3183098',\n",
       " '3183099',\n",
       " '3183100',\n",
       " '3187262',\n",
       " '3187263',\n",
       " '3187264',\n",
       " '3187550',\n",
       " '3187592',\n",
       " '3187593',\n",
       " '3187594',\n",
       " '3189478',\n",
       " '3189871',\n",
       " '3191204',\n",
       " '3191205',\n",
       " '3191206',\n",
       " '3191207',\n",
       " '3195198',\n",
       " '3195550',\n",
       " '3195551',\n",
       " '3195996',\n",
       " '3195997',\n",
       " '3195998',\n",
       " '3197473',\n",
       " '3197852',\n",
       " '3199607',\n",
       " '3199608',\n",
       " '3203729',\n",
       " '3203730',\n",
       " '3203761',\n",
       " '3203762',\n",
       " '3203763',\n",
       " '3203764',\n",
       " '3203765',\n",
       " '3205023',\n",
       " '3205024',\n",
       " '3205025',\n",
       " '3205842',\n",
       " '3205872',\n",
       " '3205873',\n",
       " '3205874',\n",
       " '3206520',\n",
       " '3207964',\n",
       " '3207965',\n",
       " '3207966',\n",
       " '3207967',\n",
       " '3209792',\n",
       " '3209793',\n",
       " '3211607',\n",
       " '3211608',\n",
       " '3211609',\n",
       " '3212620',\n",
       " '3212621',\n",
       " '3212622',\n",
       " '3213977',\n",
       " '3213978',\n",
       " '3213979',\n",
       " '3214880',\n",
       " '3214881',\n",
       " '3214882',\n",
       " '3214883',\n",
       " '3214884',\n",
       " '3214885',\n",
       " '3214886',\n",
       " '3216493',\n",
       " '3216494',\n",
       " '3216495',\n",
       " '3216496',\n",
       " '3216497',\n",
       " '3217332',\n",
       " '3217333',\n",
       " '3217334',\n",
       " '3217528',\n",
       " '3217529',\n",
       " '3217582',\n",
       " '3217583',\n",
       " '4236644',\n",
       " '4238690',\n",
       " '4238691'}"
      ]
     },
     "execution_count": 21,
     "metadata": {},
     "output_type": "execute_result"
    }
   ],
   "source": [
    "set(G_clids).difference(set(map_clids))"
   ]
  },
  {
   "cell_type": "code",
   "execution_count": 27,
   "metadata": {
    "collapsed": false
   },
   "outputs": [
    {
     "data": {
      "text/plain": [
       "33158"
      ]
     },
     "execution_count": 27,
     "metadata": {},
     "output_type": "execute_result"
    }
   ],
   "source": [
    "len(os.listdir(experiment_data_dir + 'textfiles/'))"
   ]
  },
  {
   "cell_type": "code",
   "execution_count": null,
   "metadata": {
    "collapsed": true
   },
   "outputs": [],
   "source": []
  }
 ],
 "metadata": {
  "kernelspec": {
   "display_name": "Python 2",
   "language": "python",
   "name": "python2"
  },
  "language_info": {
   "codemirror_mode": {
    "name": "ipython",
    "version": 2
   },
   "file_extension": ".py",
   "mimetype": "text/x-python",
   "name": "python",
   "nbconvert_exporter": "python",
   "pygments_lexer": "ipython2",
   "version": "2.7.12"
  }
 },
 "nbformat": 4,
 "nbformat_minor": 0
}
