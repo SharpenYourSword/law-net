{
 "cells": [
  {
   "cell_type": "markdown",
   "metadata": {},
   "source": [
    "this could be helpful\n",
    "\n",
    "http://stackoverflow.com/questions/31784011/scikit-learn-fitting-data-into-chunks-vs-fitting-it-all-at-once"
   ]
  },
  {
   "cell_type": "code",
   "execution_count": 84,
   "metadata": {
    "collapsed": false
   },
   "outputs": [
    {
     "name": "stdout",
     "output_type": "stream",
     "text": [
      "The autoreload extension is already loaded. To reload it, use:\n",
      "  %reload_ext autoreload\n"
     ]
    }
   ],
   "source": [
    "top_directory = '/Users/iaincarmichael/Dropbox/Research/law/law-net/'\n",
    "\n",
    "import os\n",
    "import sys\n",
    "import time\n",
    "from math import *\n",
    "import copy\n",
    "import cPickle as pickle\n",
    "from glob import glob\n",
    "import re\n",
    "\n",
    "# data\n",
    "import numpy as np\n",
    "import pandas as pd\n",
    "\n",
    "# viz\n",
    "import matplotlib.pyplot as plt\n",
    "\n",
    "\n",
    "# graph\n",
    "import igraph as ig\n",
    "\n",
    "\n",
    "# our code\n",
    "sys.path.append(top_directory + 'code/')\n",
    "from pipeline.download_data import *\n",
    "from pipeline.make_raw_case_metadata import *\n",
    "from load_data import case_info\n",
    "\n",
    "sys.path.append(top_directory + 'explore/vertex_metrics_experiment/code/')\n",
    "from make_case_text_files import *\n",
    "from bag_of_words import *\n",
    "from similarity_matrix import *\n",
    "from make_snapshots import *\n",
    "\n",
    "\n",
    "\n",
    "# directory set up\n",
    "data_dir = '/Users/iaincarmichael/Documents/courtlistener/data/'\n",
    "experiment_data_dir = data_dir + 'federal/'\n",
    "text_dir = experiment_data_dir + 'textfiles/'\n",
    "\n",
    "# courts\n",
    "courts = ['scotus', 'cafc', 'cadc']\n",
    "courts += ['ca' + str(i+1) for i in range(11)]\n",
    "\n",
    "\n",
    "# jupyter notebook settings\n",
    "%load_ext autoreload\n",
    "%autoreload 2\n",
    "%matplotlib inline"
   ]
  },
  {
   "cell_type": "markdown",
   "metadata": {},
   "source": [
    "# make iterator"
   ]
  },
  {
   "cell_type": "code",
   "execution_count": 39,
   "metadata": {
    "collapsed": true
   },
   "outputs": [],
   "source": [
    "class textfile_chunks:\n",
    "    def __init__(self, paths, chunk_size):\n",
    "        self.i = 0\n",
    "        \n",
    "        self.paths = paths\n",
    "        self.chunk_size = chunk_size\n",
    "        self.num_files = len(paths)\n",
    "        \n",
    "        self.num_chunks = ceil(float(self.num_files)/self.chunk_size)\n",
    "\n",
    "    def __iter__(self):\n",
    "        return self\n",
    "\n",
    "    def next(self):\n",
    "        if self.i < self.num_chunks:\n",
    "            \n",
    "            # file paths to return\n",
    "            file_paths = self.paths[self.i:min(self.i + self.chunk_size, self.num_files)]\n",
    "            \n",
    "            # read in files and put them into dict\n",
    "            files = {}\n",
    "            for path in file_paths:\n",
    "                text = open(path, 'r').read()                \n",
    "                files[path] = text_normalization(text)\n",
    "            \n",
    "            self.i += 1\n",
    "                \n",
    "            return files\n",
    "            \n",
    "        else:\n",
    "            raise StopIteration()"
   ]
  },
  {
   "cell_type": "code",
   "execution_count": 30,
   "metadata": {
    "collapsed": true
   },
   "outputs": [],
   "source": [
    "class textfile_iter:\n",
    "    def __init__(self, paths):\n",
    "        self.i = 0\n",
    "        self.paths = paths\n",
    "        self.num_files = len(paths)\n",
    "\n",
    "\n",
    "    def __iter__(self):\n",
    "        return self\n",
    "\n",
    "    def next(self):\n",
    "        if self.i < self.num_files:\n",
    "            text = open(self.paths[self.i], 'r').read()            \n",
    "            self.i += 1\n",
    "      \n",
    "            return text_normalization(text)\n",
    "            \n",
    "        else:\n",
    "            raise StopIteration()"
   ]
  },
  {
   "cell_type": "markdown",
   "metadata": {},
   "source": [
    "# run bag of words"
   ]
  },
  {
   "cell_type": "code",
   "execution_count": 29,
   "metadata": {
    "collapsed": false
   },
   "outputs": [],
   "source": [
    "file_paths = glob.glob(text_dir + '*.txt')\n",
    "# text_chunker = textfile_chunks(file_paths, 3)\n",
    "\n",
    "tf_iter = textfile_iter(file_paths)"
   ]
  },
  {
   "cell_type": "code",
   "execution_count": 31,
   "metadata": {
    "collapsed": false
   },
   "outputs": [
    {
     "name": "stdout",
     "output_type": "stream",
     "text": [
      "CPU times: user 59min 31s, sys: 6min 25s, total: 1h 5min 56s\n",
      "Wall time: 1h 14min 16s\n"
     ]
    }
   ],
   "source": [
    "bag_of_words = CountVectorizer()\n",
    "\n",
    "%time BOW = bag_of_words.fit_transform(tf_iter)\n",
    "\n",
    "vocab = bag_of_words.get_feature_names()\n",
    "\n",
    "CLid_to_index = {re.search(r'(\\d+)\\.txt', file_paths[i]).group(1): i for i in range(len(file_paths))}"
   ]
  },
  {
   "cell_type": "code",
   "execution_count": 92,
   "metadata": {
    "collapsed": false
   },
   "outputs": [],
   "source": [
    "# save data\n",
    "\n",
    "save_sparse_csr(experiment_data_dir + 'bag_of_words_matrix', BOW)\n",
    "\n",
    "with open(experiment_data_dir + 'CLid_to_index.p', 'wb') as fp:\n",
    "    pickle.dump(CLid_to_index, fp)\n",
    "    \n",
    "with open(experiment_data_dir + 'vocab.p', 'wb') as fp:\n",
    "    pickle.dump(vocab, fp)"
   ]
  },
  {
   "cell_type": "code",
   "execution_count": null,
   "metadata": {
    "collapsed": true
   },
   "outputs": [],
   "source": []
  }
 ],
 "metadata": {
  "kernelspec": {
   "display_name": "Python 2",
   "language": "python",
   "name": "python2"
  },
  "language_info": {
   "codemirror_mode": {
    "name": "ipython",
    "version": 2
   },
   "file_extension": ".py",
   "mimetype": "text/x-python",
   "name": "python",
   "nbconvert_exporter": "python",
   "pygments_lexer": "ipython2",
   "version": "2.7.12"
  }
 },
 "nbformat": 4,
 "nbformat_minor": 0
}
