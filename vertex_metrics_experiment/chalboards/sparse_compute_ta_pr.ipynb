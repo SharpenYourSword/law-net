{
 "cells": [
  {
   "cell_type": "code",
   "execution_count": 4,
   "metadata": {
    "collapsed": false
   },
   "outputs": [
    {
     "name": "stdout",
     "output_type": "stream",
     "text": [
      "The autoreload extension is already loaded. To reload it, use:\n",
      "  %reload_ext autoreload\n"
     ]
    }
   ],
   "source": [
    "repo_directory = '/Users/iaincarmichael/Dropbox/Research/law/law-net/'\n",
    "\n",
    "data_dir = '/Users/iaincarmichael/Documents/courtlistener/data/'\n",
    "\n",
    "import numpy as np\n",
    "import sys\n",
    "import matplotlib.pyplot as plt\n",
    "from scipy.stats import rankdata\n",
    "from collections import Counter\n",
    "\n",
    "import discreteMarkovChain as dmc\n",
    "from scipy.sparse import csr_matrix, dia_matrix\n",
    "\n",
    "\n",
    "# graph package\n",
    "import igraph as ig\n",
    "\n",
    "# our code\n",
    "sys.path.append(repo_directory + 'code/')\n",
    "from setup_data_dir import setup_data_dir, make_subnetwork_directory\n",
    "from pipeline.download_data import download_bulk_resource, download_master_edgelist, download_scdb\n",
    "from helpful_functions import case_info\n",
    "\n",
    "sys.path.append(repo_directory + 'vertex_metrics_experiment/code/')\n",
    "from rankscore_experiment_sort import *\n",
    "from rankscore_experiment_LR import *\n",
    "from rankscore_experiment_search import *\n",
    "from time_aware_pagerank import *\n",
    "\n",
    "\n",
    "from make_tr_edge_df import *\n",
    "\n",
    "# which network to download data for\n",
    "network_name = 'scotus' # 'federal', 'ca1', etc\n",
    "\n",
    "\n",
    "# some sub directories that get used\n",
    "raw_dir = data_dir + 'raw/'\n",
    "subnet_dir = data_dir + network_name + '/'\n",
    "text_dir = subnet_dir + 'textfiles/'\n",
    "\n",
    "\n",
    "# jupyter notebook settings\n",
    "%load_ext autoreload\n",
    "%autoreload 2\n",
    "%matplotlib inline"
   ]
  },
  {
   "cell_type": "code",
   "execution_count": 5,
   "metadata": {
    "collapsed": true
   },
   "outputs": [],
   "source": [
    "# load scotes\n",
    "G = ig.Graph.Read_GraphML(subnet_dir + network_name +'_network.graphml')"
   ]
  },
  {
   "cell_type": "code",
   "execution_count": 6,
   "metadata": {
    "collapsed": false
   },
   "outputs": [
    {
     "name": "stdout",
     "output_type": "stream",
     "text": [
      "2119 nodes\n"
     ]
    }
   ],
   "source": [
    "# get a small sugraph to work wit\n",
    "np.random.seed(754) # 234, 754\n",
    "v = G.vs[np.random.choice(range(len(G.vs)))]\n",
    "\n",
    "subset_ids = G.neighborhood(v.index, order=2)\n",
    "g = G.subgraph(subset_ids)\n",
    "\n",
    "print '%d nodes' % len(g.vs)\n",
    "\n",
    "A = np.array(g.get_adjacency().data)\n",
    "years = np.array(g.vs['year']).astype(int)"
   ]
  },
  {
   "cell_type": "markdown",
   "metadata": {},
   "source": [
    "# setup"
   ]
  },
  {
   "cell_type": "code",
   "execution_count": 4,
   "metadata": {
    "collapsed": false
   },
   "outputs": [
    {
     "name": "stdout",
     "output_type": "stream",
     "text": [
      "CPU times: user 1.36 ms, sys: 8.1 s, total: 8.1 s\n",
      "Wall time: 9.46 s\n"
     ]
    }
   ],
   "source": [
    "%%time\n",
    "\n",
    "# A = np.array(G.get_adjacency().data)\n",
    "# years = np.array(G.vs['year']).astype(int)\n",
    "\n",
    "# np.save('scotus_adjmat', A)\n",
    "A = np.load('scotus_adjmat.npy')"
   ]
  },
  {
   "cell_type": "code",
   "execution_count": 5,
   "metadata": {
    "collapsed": true
   },
   "outputs": [],
   "source": [
    "years = np.array(G.vs['year']).astype(int)"
   ]
  },
  {
   "cell_type": "code",
   "execution_count": 9,
   "metadata": {
    "collapsed": false
   },
   "outputs": [],
   "source": [
    "p = .85\n",
    "qtv = .3\n",
    "qvt = .5"
   ]
  },
  {
   "cell_type": "markdown",
   "metadata": {},
   "source": [
    "# dense"
   ]
  },
  {
   "cell_type": "code",
   "execution_count": null,
   "metadata": {
    "collapsed": false
   },
   "outputs": [],
   "source": [
    "%%time\n",
    "\n",
    "# number of vertices in the graph\n",
    "n = A.shape[0]\n",
    "outdegrees = A.sum(axis=1)\n",
    "\n",
    "# zero index the years\n",
    "Y = np.array(years) - min(years)\n",
    "m = max(Y) + 1"
   ]
  },
  {
   "cell_type": "code",
   "execution_count": null,
   "metadata": {
    "collapsed": false
   },
   "outputs": [],
   "source": [
    "%%time\n",
    "# number of cases per year\n",
    "cases_per_year = [0] * m\n",
    "cases_per_year_counter = Counter(Y)\n",
    "for k in cases_per_year_counter.keys():\n",
    "    cases_per_year[k] = cases_per_year_counter[k]\n"
   ]
  },
  {
   "cell_type": "code",
   "execution_count": null,
   "metadata": {
    "collapsed": false
   },
   "outputs": [],
   "source": [
    "%%time\n",
    "# PageRank transition matrix\n",
    "# (see murphy 17.37)\n",
    "D = np.diag([0 if d == 0 else 1.0/d for d in outdegrees])\n",
    "z = [1.0/n if d == 0 else (1.0 - p) / n for d in outdegrees]\n",
    "# PR = p * np.dot(A.T, D) + np.outer([1] * n, z)"
   ]
  },
  {
   "cell_type": "code",
   "execution_count": null,
   "metadata": {
    "collapsed": false
   },
   "outputs": [],
   "source": [
    "%%time\n",
    "PR = np.dot(A.T, D)"
   ]
  },
  {
   "cell_type": "code",
   "execution_count": null,
   "metadata": {
    "collapsed": false
   },
   "outputs": [],
   "source": [
    "%%time\n",
    "PR = p * PR + np.outer([1] * n, z)"
   ]
  },
  {
   "cell_type": "code",
   "execution_count": null,
   "metadata": {
    "collapsed": false
   },
   "outputs": [],
   "source": [
    "%%time\n",
    "# Time-Time transition matrix\n",
    "# ones below diagonal\n",
    "TT = np.zeros((m, m))\n",
    "TT[1:m, :m-1] = np.diag([1] * (m - 1))"
   ]
  },
  {
   "cell_type": "code",
   "execution_count": null,
   "metadata": {
    "collapsed": false
   },
   "outputs": [],
   "source": [
    "%%time\n",
    "# Vertex-Time transition matrix\n",
    "# i-th column is the Y[i]th basis vector\n",
    "VT = np.zeros((m, n))\n",
    "identity_m = np.eye(m)  # for basis vectors\n",
    "for i in range(n):\n",
    "    VT[:, i] = identity_m[:, Y[i]]"
   ]
  },
  {
   "cell_type": "code",
   "execution_count": null,
   "metadata": {
    "collapsed": false
   },
   "outputs": [],
   "source": [
    "%%time\n",
    "# Time-Vertex transition matrix\n",
    "# VT transpose but entries are scaled by number of cases in the year\n",
    "TV = np.zeros((n, m))\n",
    "# 1 over number of cases per year\n",
    "n_inv = [0 if cases_per_year[i] == 0 else 1.0/cases_per_year[i]\n",
    "         for i in range(m)]\n",
    "for i in range(n):\n",
    "    TV[i, :] = identity_m[Y[i], :] * n_inv[Y[i]]\n"
   ]
  },
  {
   "cell_type": "code",
   "execution_count": null,
   "metadata": {
    "collapsed": false
   },
   "outputs": [],
   "source": [
    "%%time\n",
    "# normalization matrix for TV\n",
    "qtv_diag = [0 if cases_per_year[i] == 0 else qtv for i in range(m)]\n",
    "qtv_diag[-1] = 1  # last column of TT is zeros\n",
    "Qtv = np.diag(qtv_diag)"
   ]
  },
  {
   "cell_type": "code",
   "execution_count": null,
   "metadata": {
    "collapsed": false
   },
   "outputs": [],
   "source": [
    "%%time\n",
    "# overall transition matrix\n",
    "P = np.zeros((n + m, n + m))\n",
    "P[:n, :n] = (1 - qvt) * PR  # upper left\n",
    "P[n:, :-m] = qvt * VT  # lower left\n",
    "P[:n, -m:] = np.dot(TV, Qtv)  # upper right\n",
    "P[-m:, -m:] = np.dot(TT, np.eye(m) - Qtv)  # lower right\n"
   ]
  },
  {
   "cell_type": "code",
   "execution_count": null,
   "metadata": {
    "collapsed": true
   },
   "outputs": [],
   "source": [
    "P_dense = P"
   ]
  },
  {
   "cell_type": "markdown",
   "metadata": {},
   "source": [
    "# Sparse"
   ]
  },
  {
   "cell_type": "code",
   "execution_count": 7,
   "metadata": {
    "collapsed": false
   },
   "outputs": [
    {
     "name": "stdout",
     "output_type": "stream",
     "text": [
      "CPU times: user 7.46 s, sys: 6.65 s, total: 14.1 s\n",
      "Wall time: 17.5 s\n"
     ]
    }
   ],
   "source": [
    "%%time\n",
    "# convert to sparse\n",
    "A = csr_matrix(A, dtype=int)"
   ]
  },
  {
   "cell_type": "code",
   "execution_count": 8,
   "metadata": {
    "collapsed": false
   },
   "outputs": [
    {
     "name": "stdout",
     "output_type": "stream",
     "text": [
      "CPU times: user 6.67 ms, sys: 4.17 ms, total: 10.8 ms\n",
      "Wall time: 10.5 ms\n"
     ]
    }
   ],
   "source": [
    "%%time\n",
    "\n",
    "# number of vertices in the graph\n",
    "n = A.shape[0]\n",
    "# surely there is a more elegant way to do this\n",
    "# outdegrees = A.sum(axis=1)\n",
    "outdegrees = A.sum(axis=1).reshape(-1).tolist()[0] \n",
    "\n",
    "# zero index the years\n",
    "Y = np.array(years) - min(years)\n",
    "m = max(Y) + 1"
   ]
  },
  {
   "cell_type": "code",
   "execution_count": 9,
   "metadata": {
    "collapsed": false
   },
   "outputs": [
    {
     "name": "stdout",
     "output_type": "stream",
     "text": [
      "CPU times: user 34.2 ms, sys: 9.89 ms, total: 44.1 ms\n",
      "Wall time: 46.5 ms\n"
     ]
    }
   ],
   "source": [
    "%%time\n",
    "# number of cases per year\n",
    "cases_per_year = [0] * m\n",
    "cases_per_year_counter = Counter(Y)\n",
    "for k in cases_per_year_counter.keys():\n",
    "    cases_per_year[k] = cases_per_year_counter[k]"
   ]
  },
  {
   "cell_type": "code",
   "execution_count": 10,
   "metadata": {
    "collapsed": false
   },
   "outputs": [
    {
     "name": "stdout",
     "output_type": "stream",
     "text": [
      "CPU times: user 9.52 s, sys: 5.62 s, total: 15.1 s\n",
      "Wall time: 18.6 s\n"
     ]
    }
   ],
   "source": [
    "%%time\n",
    "# PageRank transition matrix\n",
    "# (see murphy 17.37)\n",
    "# D = np.diag([0 if d == 0 else 1.0/d for d in outdegrees])\n",
    "# D = dia_matrix([0 if d == 0 else 1.0/d for d in outdegrees],\n",
    "#                shape=(n, n))\n",
    "# TODO: csr or dia matrix?\n",
    "D = csr_matrix(np.diag([0 if d == 0 else 1.0/d for d in outdegrees]))\n",
    "\n",
    "z = [1.0/n if d == 0 else (1.0 - p) / n for d in outdegrees]\n",
    "# PR = p * np.dot(A.T, D) + np.outer([1] * n, z)"
   ]
  },
  {
   "cell_type": "code",
   "execution_count": 11,
   "metadata": {
    "collapsed": false
   },
   "outputs": [
    {
     "name": "stdout",
     "output_type": "stream",
     "text": [
      "CPU times: user 194 ms, sys: 355 ms, total: 549 ms\n",
      "Wall time: 577 ms\n"
     ]
    }
   ],
   "source": [
    "%%time\n",
    "# PR = np.dot(A.T, D)\n",
    "\n",
    "PR = (1 - qvt) * p * (A.transpose() * D)\n",
    "PR = PR.todense()"
   ]
  },
  {
   "cell_type": "code",
   "execution_count": 12,
   "metadata": {
    "collapsed": false
   },
   "outputs": [
    {
     "name": "stdout",
     "output_type": "stream",
     "text": [
      "CPU times: user 5.09 s, sys: 18.1 s, total: 23.2 s\n",
      "Wall time: 32.1 s\n"
     ]
    }
   ],
   "source": [
    "%%time\n",
    "PR = PR + np.outer([1 - qvt] * n, z)"
   ]
  },
  {
   "cell_type": "code",
   "execution_count": 13,
   "metadata": {
    "collapsed": false
   },
   "outputs": [
    {
     "name": "stdout",
     "output_type": "stream",
     "text": [
      "CPU times: user 2.17 ms, sys: 2.25 ms, total: 4.42 ms\n",
      "Wall time: 8.84 ms\n"
     ]
    }
   ],
   "source": [
    "%%time\n",
    "# Time-Time transition matrix\n",
    "# ones below diagonal\n",
    "TT = np.zeros((m, m))\n",
    "TT[1:m, :m-1] = np.diag([1] * (m - 1))\n",
    "\n",
    "# TODO: csr or dia matrix\n",
    "TT = dia_matrix(TT)\n",
    "# TT = csr_matrix(TT)"
   ]
  },
  {
   "cell_type": "code",
   "execution_count": 14,
   "metadata": {
    "collapsed": false
   },
   "outputs": [
    {
     "name": "stdout",
     "output_type": "stream",
     "text": [
      "CPU times: user 147 ms, sys: 28.8 ms, total: 176 ms\n",
      "Wall time: 186 ms\n"
     ]
    }
   ],
   "source": [
    "%%time\n",
    "# Vertex-Time transition matrix\n",
    "# i-th column is the Y[i]th basis vector\n",
    "VT = np.zeros((m, n))\n",
    "identity_m = np.eye(m)  # for basis vectors\n",
    "for i in range(n):\n",
    "    VT[:, i] = qvt *identity_m[:, Y[i]]"
   ]
  },
  {
   "cell_type": "code",
   "execution_count": 15,
   "metadata": {
    "collapsed": false
   },
   "outputs": [
    {
     "name": "stdout",
     "output_type": "stream",
     "text": [
      "CPU times: user 183 ms, sys: 32.4 ms, total: 216 ms\n",
      "Wall time: 229 ms\n"
     ]
    }
   ],
   "source": [
    "%%time\n",
    "# Time-Vertex transition matrix\n",
    "# VT transpose but entries are scaled by number of cases in the year\n",
    "TV = np.zeros((n, m))\n",
    "# 1 over number of cases per year\n",
    "n_inv = [0 if cases_per_year[i] == 0 else 1.0/cases_per_year[i]\n",
    "         for i in range(m)]\n",
    "for i in range(n):\n",
    "    TV[i, :] = identity_m[Y[i], :] * n_inv[Y[i]]\n",
    "    \n",
    "TV = csr_matrix(TV)"
   ]
  },
  {
   "cell_type": "code",
   "execution_count": 16,
   "metadata": {
    "collapsed": false
   },
   "outputs": [
    {
     "name": "stdout",
     "output_type": "stream",
     "text": [
      "CPU times: user 1.11 ms, sys: 64 µs, total: 1.18 ms\n",
      "Wall time: 1.2 ms\n"
     ]
    }
   ],
   "source": [
    "%%time\n",
    "# normalization matrix for TV\n",
    "qtv_diag = [0 if cases_per_year[i] == 0 else qtv for i in range(m)]\n",
    "qtv_diag[-1] = 1  # last column of TT is zeros\n",
    "# Qtv = dia_matrix(np.diag(qtv_diag))\n",
    "Qtv = csr_matrix(np.diag(qtv_diag))"
   ]
  },
  {
   "cell_type": "code",
   "execution_count": 17,
   "metadata": {
    "collapsed": false
   },
   "outputs": [
    {
     "name": "stdout",
     "output_type": "stream",
     "text": [
      "CPU times: user 14 µs, sys: 27 µs, total: 41 µs\n",
      "Wall time: 44.1 µs\n"
     ]
    }
   ],
   "source": [
    "%%time\n",
    "# overall transition matrix\n",
    "P = np.zeros((n + m, n + m))"
   ]
  },
  {
   "cell_type": "code",
   "execution_count": 18,
   "metadata": {
    "collapsed": false
   },
   "outputs": [
    {
     "name": "stdout",
     "output_type": "stream",
     "text": [
      "CPU times: user 2.99 s, sys: 12.3 s, total: 15.3 s\n",
      "Wall time: 19.8 s\n"
     ]
    }
   ],
   "source": [
    "%%time\n",
    "# upper left\n",
    "# P[:n, :n] = (1 - qvt) * PR  \n",
    "P[:n, :n] = PR  "
   ]
  },
  {
   "cell_type": "code",
   "execution_count": 19,
   "metadata": {
    "collapsed": false
   },
   "outputs": [
    {
     "name": "stdout",
     "output_type": "stream",
     "text": [
      "CPU times: user 24.9 ms, sys: 64.5 ms, total: 89.4 ms\n",
      "Wall time: 138 ms\n"
     ]
    }
   ],
   "source": [
    "%%time\n",
    "# lower left\n",
    "# P[n:, :-m] = qvt * VT  \n",
    "P[n:, :-m] = VT  "
   ]
  },
  {
   "cell_type": "code",
   "execution_count": 21,
   "metadata": {
    "collapsed": false
   },
   "outputs": [
    {
     "name": "stdout",
     "output_type": "stream",
     "text": [
      "CPU times: user 54.1 ms, sys: 271 ms, total: 325 ms\n",
      "Wall time: 505 ms\n"
     ]
    }
   ],
   "source": [
    "%%time\n",
    "# upper right\n",
    "P[:n, -m:] = (TV * Qtv).todense() "
   ]
  },
  {
   "cell_type": "code",
   "execution_count": 22,
   "metadata": {
    "collapsed": false
   },
   "outputs": [
    {
     "name": "stdout",
     "output_type": "stream",
     "text": [
      "CPU times: user 4.81 ms, sys: 3.34 ms, total: 8.15 ms\n",
      "Wall time: 7.38 ms\n"
     ]
    }
   ],
   "source": [
    "%%time\n",
    "# lower right\n",
    "P[-m:, -m:] = (TT * dia_matrix(np.eye(m) - Qtv)).todense()  "
   ]
  },
  {
   "cell_type": "markdown",
   "metadata": {},
   "source": [
    "# create function"
   ]
  },
  {
   "cell_type": "code",
   "execution_count": 7,
   "metadata": {
    "collapsed": true
   },
   "outputs": [],
   "source": [
    "def get_time_aware_pagerank_matrix_sparse(A, years, p, qtv, qvt):\n",
    "    A = csr_matrix(A, dtype=int)\n",
    "    \n",
    "    # number of vertices in the graph\n",
    "    n = A.shape[0]\n",
    "    # surely there is a more elegant way to do this\n",
    "    outdegrees = A.sum(axis=1).reshape(-1).tolist()[0] \n",
    "\n",
    "    # zero index the years\n",
    "    Y = np.array(years) - min(years)\n",
    "    m = max(Y) + 1\n",
    "    \n",
    "    # number of cases per year\n",
    "    cases_per_year = [0] * m\n",
    "    cases_per_year_counter = Counter(Y)\n",
    "    for k in cases_per_year_counter.keys():\n",
    "        cases_per_year[k] = cases_per_year_counter[k]\n",
    "        \n",
    "    # PageRank transition matrix\n",
    "    # (see murphy 17.37)\n",
    "    # TODO: csr or dia matrix?\n",
    "    D = csr_matrix(np.diag([0 if d == 0 else 1.0/d for d in outdegrees]))\n",
    "    z = [1.0/n if d == 0 else (1.0 - p) / n for d in outdegrees]\n",
    "    PR = (1 - qvt) * p * (A.transpose() * D)\n",
    "    PR = PR.todense()\n",
    "    PR = PR + np.outer([1 - qvt] * n, z)\n",
    "    \n",
    "    # Time-Time transition matrix\n",
    "    # ones below diagonal\n",
    "    TT = np.zeros((m, m))\n",
    "    TT[1:m, :m-1] = np.diag([1] * (m - 1))\n",
    "    TT = dia_matrix(TT)\n",
    "    \n",
    "    # Vertex-Time transition matrix\n",
    "    # i-th column is the Y[i]th basis vector\n",
    "    VT = np.zeros((m, n))\n",
    "    identity_m = np.eye(m)  # for basis vectors\n",
    "    for i in range(n):\n",
    "        VT[:, i] = qvt *identity_m[:, Y[i]]\n",
    "        \n",
    "        \n",
    "    # Time-Vertex transition matrix\n",
    "    # VT transpose but entries are scaled by number of cases in the year\n",
    "    TV = np.zeros((n, m))\n",
    "    # 1 over number of cases per year\n",
    "    n_inv = [0 if cases_per_year[i] == 0 else 1.0/cases_per_year[i]\n",
    "             for i in range(m)]\n",
    "    for i in range(n):\n",
    "        TV[i, :] = identity_m[Y[i], :] * n_inv[Y[i]]\n",
    "    TV = csr_matrix(TV)\n",
    "    \n",
    "    # normalization matrix for TV\n",
    "    qtv_diag = [0 if cases_per_year[i] == 0 else qtv for i in range(m)]\n",
    "    qtv_diag[-1] = 1  # last column of TT is zeros\n",
    "    # Qtv = dia_matrix(np.diag(qtv_diag))\n",
    "    Qtv = csr_matrix(np.diag(qtv_diag))\n",
    "    \n",
    "    # overall transition matrix\n",
    "    P = np.zeros((n + m, n + m)) # upper left\n",
    "    P[:n, :n] = PR # lower left\n",
    "    P[n:, :-m] = VT # upper right\n",
    "    P[:n, -m:] = (TV * Qtv).todense() # lower right\n",
    "    P[-m:, -m:] = (TT * dia_matrix(np.eye(m) - Qtv)).todense()  \n",
    "\n",
    "    return P.T"
   ]
  },
  {
   "cell_type": "code",
   "execution_count": null,
   "metadata": {
    "collapsed": true
   },
   "outputs": [],
   "source": []
  },
  {
   "cell_type": "code",
   "execution_count": null,
   "metadata": {
    "collapsed": true
   },
   "outputs": [],
   "source": []
  },
  {
   "cell_type": "code",
   "execution_count": 12,
   "metadata": {
    "collapsed": false
   },
   "outputs": [
    {
     "name": "stdout",
     "output_type": "stream",
     "text": [
      "CPU times: user 174 ms, sys: 46.8 ms, total: 221 ms\n",
      "Wall time: 229 ms\n"
     ]
    }
   ],
   "source": [
    "%%time\n",
    "P = get_time_aware_pagerank_matrix_sparse(A, years, p, qtv, qvt)"
   ]
  },
  {
   "cell_type": "code",
   "execution_count": null,
   "metadata": {
    "collapsed": false
   },
   "outputs": [],
   "source": [
    "%%time\n",
    "P_dense = get_time_aware_pagerank_matrix(A, years, p, qtv, qvt)"
   ]
  },
  {
   "cell_type": "code",
   "execution_count": 19,
   "metadata": {
    "collapsed": false
   },
   "outputs": [
    {
     "data": {
      "text/plain": [
       "0.0"
      ]
     },
     "execution_count": 19,
     "metadata": {},
     "output_type": "execute_result"
    }
   ],
   "source": [
    "diff = P - P_dense\n",
    "diff.sum()"
   ]
  },
  {
   "cell_type": "code",
   "execution_count": 19,
   "metadata": {
    "collapsed": false
   },
   "outputs": [
    {
     "data": {
      "text/plain": [
       "1.0000000000000249"
      ]
     },
     "execution_count": 19,
     "metadata": {},
     "output_type": "execute_result"
    }
   ],
   "source": [
    "sum(P[:, 0])"
   ]
  },
  {
   "cell_type": "markdown",
   "metadata": {
    "collapsed": true
   },
   "source": [
    "# solve for steady state"
   ]
  },
  {
   "cell_type": "code",
   "execution_count": 13,
   "metadata": {
    "collapsed": false
   },
   "outputs": [
    {
     "name": "stdout",
     "output_type": "stream",
     "text": [
      "CPU times: user 4.47 s, sys: 565 ms, total: 5.03 s\n",
      "Wall time: 3.96 s\n"
     ]
    }
   ],
   "source": [
    "%%time\n",
    "mc = dmc.markovChain(P.T)\n",
    "mc.computePi('linear')\n",
    "dmc_linear = mc.pi"
   ]
  },
  {
   "cell_type": "code",
   "execution_count": 14,
   "metadata": {
    "collapsed": false
   },
   "outputs": [
    {
     "name": "stdout",
     "output_type": "stream",
     "text": [
      "CPU times: user 2.61 s, sys: 297 ms, total: 2.91 s\n",
      "Wall time: 2.92 s\n"
     ]
    }
   ],
   "source": [
    "%%time\n",
    "mc = dmc.markovChain(P.T)\n",
    "mc.computePi('krylov')\n",
    "dmc_krylov = mc.pi"
   ]
  },
  {
   "cell_type": "code",
   "execution_count": 15,
   "metadata": {
    "collapsed": false
   },
   "outputs": [
    {
     "name": "stdout",
     "output_type": "stream",
     "text": [
      "CPU times: user 3.54 s, sys: 251 ms, total: 3.79 s\n",
      "Wall time: 2.69 s\n"
     ]
    }
   ],
   "source": [
    "%%time \n",
    "mc = dmc.markovChain(P.T)\n",
    "mc.computePi('eigen')\n",
    "dmc_eigen = mc.pi"
   ]
  },
  {
   "cell_type": "code",
   "execution_count": 16,
   "metadata": {
    "collapsed": false
   },
   "outputs": [
    {
     "name": "stdout",
     "output_type": "stream",
     "text": [
      "CPU times: user 24.9 s, sys: 516 ms, total: 25.4 s\n",
      "Wall time: 16.9 s\n"
     ]
    }
   ],
   "source": [
    "%%time\n",
    "leading_eig = get_leading_evector(P)\n",
    "leading_eig = leading_eig/sum(leading_eig)"
   ]
  },
  {
   "cell_type": "code",
   "execution_count": null,
   "metadata": {
    "collapsed": true
   },
   "outputs": [],
   "source": []
  }
 ],
 "metadata": {
  "kernelspec": {
   "display_name": "Python 2",
   "language": "python",
   "name": "python2"
  },
  "language_info": {
   "codemirror_mode": {
    "name": "ipython",
    "version": 2
   },
   "file_extension": ".py",
   "mimetype": "text/x-python",
   "name": "python",
   "nbconvert_exporter": "python",
   "pygments_lexer": "ipython2",
   "version": "2.7.12"
  }
 },
 "nbformat": 4,
 "nbformat_minor": 0
}
