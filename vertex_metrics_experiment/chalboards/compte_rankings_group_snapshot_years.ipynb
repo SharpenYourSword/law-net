{
 "cells": [
  {
   "cell_type": "markdown",
   "metadata": {},
   "source": [
    "when computing the rankings group all cases in same ing snapshot year and call get_edge_data once for each group. Ends up not making it faster..."
   ]
  },
  {
   "cell_type": "code",
   "execution_count": 1,
   "metadata": {
    "collapsed": false
   },
   "outputs": [],
   "source": [
    "top_directory = '/Users/iaincarmichael/Dropbox/Research/law/law-net/'\n",
    "\n",
    "from __future__ import division\n",
    "\n",
    "import os\n",
    "import sys\n",
    "import time\n",
    "from math import *\n",
    "import copy\n",
    "import cPickle as pickle\n",
    "\n",
    "# data\n",
    "import numpy as np\n",
    "import pandas as pd\n",
    "\n",
    "# viz\n",
    "import matplotlib.pyplot as plt\n",
    "\n",
    "\n",
    "# graph\n",
    "import igraph as ig\n",
    "\n",
    "\n",
    "# NLP\n",
    "from nltk.corpus import stopwords\n",
    "\n",
    "\n",
    "# our code\n",
    "sys.path.append(top_directory + 'code/')\n",
    "from load_data import load_and_clean_graph, case_info\n",
    "from pipeline.download_data import download_bulk_resource\n",
    "from pipeline.make_clean_data import *\n",
    "from viz import print_describe\n",
    "\n",
    "\n",
    "sys.path.append(top_directory + 'explore/vertex_metrics_experiment/code/')\n",
    "from make_snapshots import *\n",
    "from make_edge_df import *\n",
    "from attachment_model_inference import *\n",
    "from compute_ranking_metrics import *\n",
    "from pipeline_helper_functions import *\n",
    "from make_case_text_files import *\n",
    "from bag_of_words import *\n",
    "from similarity_matrix import *\n",
    "\n",
    "# directory set up\n",
    "data_dir = top_directory + 'data/'\n",
    "experiment_data_dir = data_dir + 'vertex_metrics_experiment/'\n",
    "\n",
    "court_name = 'scotus'\n",
    "\n",
    "# jupyter notebook settings\n",
    "%load_ext autoreload\n",
    "%autoreload 2\n",
    "%matplotlib inline"
   ]
  },
  {
   "cell_type": "code",
   "execution_count": 2,
   "metadata": {
    "collapsed": false
   },
   "outputs": [],
   "source": [
    "G = load_and_clean_graph(data_dir, court_name)"
   ]
  },
  {
   "cell_type": "code",
   "execution_count": 3,
   "metadata": {
    "collapsed": true
   },
   "outputs": [],
   "source": [
    "active_years = range(1900, 2015 + 1)"
   ]
  },
  {
   "cell_type": "markdown",
   "metadata": {},
   "source": [
    "# group by snapshot year"
   ]
  },
  {
   "cell_type": "code",
   "execution_count": 17,
   "metadata": {
    "collapsed": true
   },
   "outputs": [],
   "source": [
    "def compute_ranking_metrics_LR_group(G,\n",
    "                               LogReg,\n",
    "                               columns_to_use,\n",
    "                               experiment_data_dir,\n",
    "                               active_years,\n",
    "                               R,\n",
    "                               year_floor=1900,\n",
    "                               seed=None,\n",
    "                               print_progress=False):\n",
    "    '''\n",
    "    Computes the rank score metric for a given logistic regression object.\n",
    "\n",
    "    Sample R test cases that have at least one citation. For each test case\n",
    "    rank test case's ancestors then compute rank score for test cases actual\n",
    "    citations.\n",
    "\n",
    "    Parameters\n",
    "    ------------\n",
    "    G: network (so we can get each cases' ancestor network)\n",
    "\n",
    "    LogReg: a logistic regression object\n",
    "    (i.e. the output of fit_logistic_regression)\n",
    "\n",
    "    columns_to_use: list of column names of edge metrics data frame that we\n",
    "    should use to fit logistic regression\n",
    "\n",
    "    path_to_vertex_metrics_folder: we will need these for prediciton\n",
    "\n",
    "    year_interval: the year interval between each vertex metric .csv file\n",
    "\n",
    "    R: how many cases to compute ranking metrics for\n",
    "\n",
    "    year_floor: sample only cases after this year\n",
    "\n",
    "    seed: random seed for selecting cases whose ancsetry to score\n",
    "\n",
    "    Output\n",
    "    -------\n",
    "    The average ranking score over all R cases we tested\n",
    "    '''\n",
    "\n",
    "    # ranking scores for each test case\n",
    "    test_case_rank_scores = []\n",
    "    \n",
    "    # get list of test cases\n",
    "    test_vertices = get_test_cases(G, active_years, R, seed=seed)\n",
    "\n",
    "    # load snapshots\n",
    "    snapshots_dict = load_snapshots(experiment_data_dir)\n",
    "\n",
    "    # mabye load the similarities\n",
    "    if 'similarity' in columns_to_use:\n",
    "        similarity_matrix, CLid_to_index = load_similarity_matrix(experiment_data_dir)\n",
    "    else:\n",
    "        similarity_matrix = None\n",
    "        CLid_to_index = None\n",
    "        \n",
    "        \n",
    "    # organize edges by ing snapshot year\n",
    "    case_dict = get_test_cases_by_snapshot_dict(G, test_vertices, active_years)\n",
    "    \n",
    "    \n",
    "    for year in case_dict.keys():\n",
    "        \n",
    "        # get vetex metrics in year before citing year\n",
    "        snapshot_year = year - 1\n",
    "\n",
    "        # grab data frame of vertex metrics for test case's snapshot\n",
    "        snapshot_df = snapshots_dict['vertex_metrics_' +\n",
    "                                     str(int(snapshot_year))]\n",
    "\n",
    "        # build edgelist for all cases in given year\n",
    "        edgelist = get_combined_edgelist(G, case_dict[year], snapshot_year)\n",
    "\n",
    "        # grab edge data\n",
    "        edge_data = get_edge_data(G, edgelist, snapshot_df, columns_to_use,\n",
    "                                  similarity_matrix, CLid_to_index,\n",
    "                                  edge_status=None)\n",
    "\n",
    "            \n",
    "        for test_case in case_dict[year]:\n",
    "\n",
    "            # indices of edge_data \n",
    "            df_indices = [test_case['name'] + '_' + v['name']\n",
    "                          for v in G.vs.select(year_le=snapshot_year)]\n",
    "\n",
    "            # grab test case edges\n",
    "            case_edge_data = edge_data.loc[df_indices]\n",
    "\n",
    "            # rank ancestors\n",
    "            ancestor_ranking = get_case_ranking_logreg(case_edge_data,\n",
    "                                                       LogReg, columns_to_use)\n",
    "\n",
    "            # get cited cases\n",
    "            cited_cases = get_cited_cases(G, test_case)\n",
    "\n",
    "\n",
    "            # compute rank score for cited cases\n",
    "            score = score_ranking(cited_cases, ancestor_ranking)\n",
    "            \n",
    "            test_case_rank_scores.append(score)\n",
    "\n",
    "    # return test_case_rank_scores, case_ranks, test_cases\n",
    "    return test_case_rank_scores\n"
   ]
  },
  {
   "cell_type": "code",
   "execution_count": 18,
   "metadata": {
    "collapsed": true
   },
   "outputs": [],
   "source": [
    "def get_cited_cases(G, citing_vertex):\n",
    "    \"\"\"\n",
    "    Returns the ciations of a cases whose cited year is strictly less than citing year\n",
    "    \n",
    "    Parameters\n",
    "    ----------\n",
    "    G: igraph object\n",
    "    \n",
    "    citing_vertex: igraph vertex\n",
    "    \n",
    "    Output\n",
    "    ------\n",
    "    list of CL ids of cited cases\n",
    "    \"\"\"\n",
    "    \n",
    "    # get neighbors first as ig index\n",
    "    all_citations = G.neighbors(citing_vertex.index, mode='OUT')\n",
    "\n",
    "    # return CL indices of cases\n",
    "    # only return cited cases whose year is stictly less than citing year\n",
    "    return [G.vs[ig_id]['name'] for ig_id in all_citations\n",
    "            if G.vs[ig_id]['year'] < citing_vertex['year']]"
   ]
  },
  {
   "cell_type": "code",
   "execution_count": 19,
   "metadata": {
    "collapsed": false
   },
   "outputs": [],
   "source": [
    "def get_test_cases_by_snapshot_dict(G, test_cases, active_years):\n",
    "    \"\"\"\n",
    "    Organizes test cases by year\n",
    "\n",
    "    list is igraph indices\n",
    "    \"\"\"\n",
    "    # get the citing year of each edge\n",
    "    case_years = [case['year'] for case in test_cases]\n",
    "\n",
    "    # dict that organizes edges by ing snapshot year\n",
    "    case_dict = {y: [] for y in active_years}\n",
    "    for i in range(len(test_cases)):\n",
    "        case_dict[case_years[i]].append(test_cases[i])\n",
    "\n",
    "    # only return years with at least one case\n",
    "    return {k : case_dict[k] for k in case_dict.keys() if len(case_dict[k]) > 1}"
   ]
  },
  {
   "cell_type": "code",
   "execution_count": 20,
   "metadata": {
    "collapsed": true
   },
   "outputs": [],
   "source": [
    "def contact_lists(LOL):\n",
    "    \"\"\"\n",
    "    Concatonates a list of lists\n",
    "    \"\"\"\n",
    "    if len(LOL) > 1:\n",
    "        return LOL[0] +  contact_lists(LOL[1:])\n",
    "    else:\n",
    "        return LOL[0]"
   ]
  },
  {
   "cell_type": "code",
   "execution_count": 21,
   "metadata": {
    "collapsed": true
   },
   "outputs": [],
   "source": [
    "def get_combined_edgelist(G, test_cases, snapshot_year):\n",
    "    \n",
    "    # build edgelist for all cases in given year\n",
    "    edgelists = []\n",
    "    for test_case in test_cases:\n",
    "\n",
    "        # restrict ourselves to ancestors of ing\n",
    "        # case strictly before ing year\n",
    "        ancentors = [v.index for v in G.vs.select(year_le=snapshot_year)]\n",
    "\n",
    "        # append test cases edgelist to edgelist\n",
    "        edgelists.append(zip([test_case.index] * len(ancentors), ancentors))\n",
    "\n",
    "    return contact_lists(edgelists)"
   ]
  },
  {
   "cell_type": "markdown",
   "metadata": {},
   "source": [
    "# compare new vs old ranking metrics"
   ]
  },
  {
   "cell_type": "code",
   "execution_count": 28,
   "metadata": {
    "collapsed": true
   },
   "outputs": [],
   "source": [
    "columns_to_use = ['indegree', 'similarity']\n",
    "\n",
    "R = 1000\n",
    "seed_ranking = 3424\n",
    "\n",
    "LogReg = fit_logistic_regression(experiment_data_dir, columns_to_use)"
   ]
  },
  {
   "cell_type": "code",
   "execution_count": 29,
   "metadata": {
    "collapsed": false
   },
   "outputs": [
    {
     "name": "stdout",
     "output_type": "stream",
     "text": [
      "(1/1000) at 16:01:09\n",
      "(2/1000) at 16:01:10\n",
      "(4/1000) at 16:01:10\n",
      "(8/1000) at 16:01:11\n",
      "(16/1000) at 16:01:13\n",
      "(32/1000) at 16:01:21\n",
      "(64/1000) at 16:01:31\n",
      "(128/1000) at 16:01:53\n",
      "(256/1000) at 16:02:29\n",
      "(512/1000) at 16:03:32\n",
      "new function took 262 seconds for 1000 test cases\n"
     ]
    }
   ],
   "source": [
    "start = time.time()\n",
    "compute_ranking_metrics_LR(G, LogReg, columns_to_use, experiment_data_dir,\n",
    "                            active_years, R, seed=seed_ranking,print_progress=True)\n",
    "\n",
    "print 'new function took %d seconds for %d test cases' % (time.time() - start, R)"
   ]
  },
  {
   "cell_type": "code",
   "execution_count": 30,
   "metadata": {
    "collapsed": false
   },
   "outputs": [
    {
     "name": "stdout",
     "output_type": "stream",
     "text": [
      "new and improved function took 294 seconds for 1000 test cases\n"
     ]
    }
   ],
   "source": [
    "start = time.time()\n",
    "compute_ranking_metrics_LR_group(G, LogReg, columns_to_use, experiment_data_dir,\n",
    "                            active_years, R, seed=seed_ranking,print_progress=True)\n",
    "\n",
    "print 'new and improved function took %d seconds for %d test cases' % (time.time() - start, R)"
   ]
  },
  {
   "cell_type": "code",
   "execution_count": null,
   "metadata": {
    "collapsed": true
   },
   "outputs": [],
   "source": []
  }
 ],
 "metadata": {
  "kernelspec": {
   "display_name": "Python 2",
   "language": "python",
   "name": "python2"
  },
  "language_info": {
   "codemirror_mode": {
    "name": "ipython",
    "version": 2
   },
   "file_extension": ".py",
   "mimetype": "text/x-python",
   "name": "python",
   "nbconvert_exporter": "python",
   "pygments_lexer": "ipython2",
   "version": "2.7.12"
  }
 },
 "nbformat": 4,
 "nbformat_minor": 0
}
