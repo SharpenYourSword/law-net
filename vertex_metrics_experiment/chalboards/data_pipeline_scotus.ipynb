{
 "cells": [
  {
   "cell_type": "code",
   "execution_count": 67,
   "metadata": {
    "collapsed": true
   },
   "outputs": [],
   "source": [
    "# modify these for your own computer\n",
    "repo_directory = '/Users/iaincarmichael/Dropbox/Research/law/law-net/'\n",
    "data_dir = '/Users/iaincarmichael/Documents/courtlistener/data/'"
   ]
  },
  {
   "cell_type": "code",
   "execution_count": 35,
   "metadata": {
    "collapsed": false
   },
   "outputs": [
    {
     "name": "stdout",
     "output_type": "stream",
     "text": [
      "The autoreload extension is already loaded. To reload it, use:\n",
      "  %reload_ext autoreload\n"
     ]
    }
   ],
   "source": [
    "\n",
    "import os\n",
    "import sys\n",
    "import time\n",
    "from math import *\n",
    "import copy\n",
    "import cPickle as pickle\n",
    "\n",
    "# data\n",
    "import numpy as np\n",
    "import pandas as pd\n",
    "\n",
    "# viz\n",
    "import matplotlib.pyplot as plt\n",
    "\n",
    "\n",
    "# graph\n",
    "import igraph as ig\n",
    "\n",
    "\n",
    "# our code\n",
    "sys.path.append(repo_directory + 'code/')\n",
    "from pipeline.download_data import download_bulk_resource, download_master_edgelist\n",
    "\n",
    "\n",
    "sys.path.append(repo_directory + 'explore/vertex_metrics_experiment/code/')\n",
    "from make_case_text_files import *\n",
    "from bag_of_words import *\n",
    "from similarity_matrix import *\n",
    "from make_snapshots import *\n",
    "from make_graph import *\n",
    "from data_dir_setup import *\n",
    "\n",
    "\n",
    "# court\n",
    "court = 'scotus'\n",
    "network_name = 'scotus'\n",
    "\n",
    "# directory set up\n",
    "raw_dir = data_dir + 'raw/'\n",
    "experiment_data_dir = data_dir + network_name + '/'\n",
    "text_dir = experiment_data_dir + 'textfiles/'\n",
    "\n",
    "\n",
    "\n",
    "# jupyter notebook settings\n",
    "%load_ext autoreload\n",
    "%autoreload 2\n",
    "%matplotlib inline"
   ]
  },
  {
   "cell_type": "markdown",
   "metadata": {},
   "source": [
    "# set up the data directory"
   ]
  },
  {
   "cell_type": "code",
   "execution_count": null,
   "metadata": {
    "collapsed": true
   },
   "outputs": [],
   "source": [
    "setup_data_dir(data_dir)"
   ]
  },
  {
   "cell_type": "markdown",
   "metadata": {},
   "source": [
    "# data download"
   ]
  },
  {
   "cell_type": "markdown",
   "metadata": {
    "collapsed": true
   },
   "source": [
    "## get opinion and cluster files from CourtListener\n",
    "\n",
    "opinions/cluster files are saved in data_dir/raw/court/ "
   ]
  },
  {
   "cell_type": "code",
   "execution_count": 51,
   "metadata": {
    "collapsed": false
   },
   "outputs": [],
   "source": [
    "%time download_op_and_cl_files(data_dir, network_name)"
   ]
  },
  {
   "cell_type": "markdown",
   "metadata": {},
   "source": [
    "## get the master edgelist from CL\n",
    "\n",
    "master edgelist is saved in data_dir/raw/"
   ]
  },
  {
   "cell_type": "code",
   "execution_count": null,
   "metadata": {
    "collapsed": true
   },
   "outputs": [],
   "source": [
    "%time download_master_edgelist(data_dir)"
   ]
  },
  {
   "cell_type": "markdown",
   "metadata": {},
   "source": [
    "## download scdb data from SCDB\n",
    "\n",
    "scdb data is saved in data_dir/scdb"
   ]
  },
  {
   "cell_type": "code",
   "execution_count": null,
   "metadata": {
    "collapsed": true
   },
   "outputs": [],
   "source": [
    "%time download_scdb(data_dir)"
   ]
  },
  {
   "cell_type": "markdown",
   "metadata": {},
   "source": [
    "# clean data"
   ]
  },
  {
   "cell_type": "markdown",
   "metadata": {},
   "source": [
    "## make the case metadata and edgelist\n",
    "\n",
    "- add the raw case metadata data frame to the raw/ folder\n",
    "- remove cases missing scdb ids\n",
    "- remove detroit lumber case\n",
    "- get edgelist of cases within desired subnetwork\n",
    "- save case metadata and edgelist to the experiment_dir/"
   ]
  },
  {
   "cell_type": "code",
   "execution_count": null,
   "metadata": {
    "collapsed": true
   },
   "outputs": [],
   "source": [
    "# create the raw case metadata data frame in the raw/ folder\n",
    "%time make_subnetwork_raw_case_metadata(data_dir, network_name)"
   ]
  },
  {
   "cell_type": "code",
   "execution_count": null,
   "metadata": {
    "collapsed": true
   },
   "outputs": [],
   "source": [
    "# create clean case metadata and edgelist from raw data\n",
    "%time clean_metadata_and_edgelist(data_dir, network_name)"
   ]
  },
  {
   "cell_type": "markdown",
   "metadata": {},
   "source": [
    "## make graph\n",
    "\n",
    "creates the network with the desired case metadata and saves it as a .graphml file in experiment_dir/ "
   ]
  },
  {
   "cell_type": "code",
   "execution_count": 20,
   "metadata": {
    "collapsed": false
   },
   "outputs": [
    {
     "name": "stdout",
     "output_type": "stream",
     "text": [
      "CPU times: user 6.05 s, sys: 281 ms, total: 6.33 s\n",
      "Wall time: 8.8 s\n"
     ]
    }
   ],
   "source": [
    "%time make_graph(experiment_data_dir, network_name)"
   ]
  },
  {
   "cell_type": "markdown",
   "metadata": {},
   "source": [
    "## make case text files\n",
    "\n",
    "grabs the opinion text for each case in the network and saves them as a text file in experiment_dir/textfiles/"
   ]
  },
  {
   "cell_type": "code",
   "execution_count": 32,
   "metadata": {
    "collapsed": false
   },
   "outputs": [
    {
     "name": "stdout",
     "output_type": "stream",
     "text": [
      "CPU times: user 9min 31s, sys: 28.5 s, total: 10min\n",
      "Wall time: 11min 22s\n"
     ]
    }
   ],
   "source": [
    "# make the textfiles for give court\n",
    "%time make_network_textfiles(data_dir, network_name)"
   ]
  },
  {
   "cell_type": "markdown",
   "metadata": {},
   "source": [
    "## make tf-idf matrix\n",
    "\n",
    "creates the tf-idf matrix for the corpus of cases in the network and saves them to  experiment_data_dir + 'nlp/'"
   ]
  },
  {
   "cell_type": "code",
   "execution_count": 33,
   "metadata": {
    "collapsed": false
   },
   "outputs": [
    {
     "name": "stdout",
     "output_type": "stream",
     "text": [
      "CPU times: user 4min 47s, sys: 17.2 s, total: 5min 4s\n",
      "Wall time: 6min 4s\n"
     ]
    }
   ],
   "source": [
    "%time make_tf_idf(text_dir, experiment_data_dir + 'nlp/', min_df=0, max_df=1)"
   ]
  },
  {
   "cell_type": "markdown",
   "metadata": {},
   "source": [
    "# data for vertex metrics experiment"
   ]
  },
  {
   "cell_type": "markdown",
   "metadata": {},
   "source": [
    "## make snapshots"
   ]
  },
  {
   "cell_type": "code",
   "execution_count": 68,
   "metadata": {
    "collapsed": true
   },
   "outputs": [],
   "source": [
    "# load the graph\n",
    "G = ig.Graph.Read_GraphML(experiment_data_dir + 'scotus_network.graphml')"
   ]
  },
  {
   "cell_type": "code",
   "execution_count": 72,
   "metadata": {
    "collapsed": false
   },
   "outputs": [
    {
     "data": {
      "text/plain": [
       "'IGRAPH DN-- 27885 234312 -- \\n+ attr: court (v), id (v), issueArea (v), name (v), year (v)'"
      ]
     },
     "execution_count": 72,
     "metadata": {},
     "output_type": "execute_result"
    }
   ],
   "source": [
    "G.summary()"
   ]
  },
  {
   "cell_type": "code",
   "execution_count": null,
   "metadata": {
    "collapsed": true
   },
   "outputs": [],
   "source": []
  },
  {
   "cell_type": "code",
   "execution_count": 63,
   "metadata": {
    "collapsed": true
   },
   "outputs": [],
   "source": [
    "vertex_metrics = ['indegree', 'outdegree', 'degree',\n",
    "                   'd_pagerank', 'authorities', 'hubs']\n",
    "\n",
    "# add recent citations\n",
    "vertex_metrics += ['recentcite_' + str(t) for t in 5 * np.arange(1, 6+1)]\n",
    "\n",
    "active_years = range(1900, 2015 + 1)"
   ]
  },
  {
   "cell_type": "code",
   "execution_count": 65,
   "metadata": {
    "collapsed": false
   },
   "outputs": [
    {
     "name": "stdout",
     "output_type": "stream",
     "text": [
      "year 1900, (2/117) at 16:52:52\n",
      "year 1902, (4/117) at 16:52:53\n",
      "year 1906, (8/117) at 16:52:56\n",
      "year 1914, (16/117) at 16:53:03\n",
      "year 1930, (32/117) at 16:53:19\n",
      "year 1962, (64/117) at 16:54:13\n",
      "CPU times: user 3min 9s, sys: 8.46 s, total: 3min 17s\n",
      "Wall time: 3min 34s\n"
     ]
    }
   ],
   "source": [
    "%time make_snapshot_vertex_metrics(G, active_years, vertex_metrics, experiment_data_dir)"
   ]
  },
  {
   "cell_type": "code",
   "execution_count": null,
   "metadata": {
    "collapsed": true
   },
   "outputs": [],
   "source": []
  }
 ],
 "metadata": {
  "kernelspec": {
   "display_name": "Python 2",
   "language": "python",
   "name": "python2"
  },
  "language_info": {
   "codemirror_mode": {
    "name": "ipython",
    "version": 2
   },
   "file_extension": ".py",
   "mimetype": "text/x-python",
   "name": "python",
   "nbconvert_exporter": "python",
   "pygments_lexer": "ipython2",
   "version": "2.7.12"
  }
 },
 "nbformat": 4,
 "nbformat_minor": 0
}
