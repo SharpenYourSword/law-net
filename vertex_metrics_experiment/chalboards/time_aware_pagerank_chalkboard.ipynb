{
 "cells": [
  {
   "cell_type": "code",
   "execution_count": 1,
   "metadata": {
    "collapsed": false
   },
   "outputs": [],
   "source": [
    "repo_directory = '/Users/iaincarmichael/Dropbox/Research/law/law-net/'\n",
    "\n",
    "data_dir = '/Users/iaincarmichael/Documents/courtlistener/data/'\n",
    "\n",
    "import numpy as np\n",
    "import sys\n",
    "import matplotlib.pyplot as plt\n",
    "from scipy.stats import rankdata\n",
    "from collections import Counter\n",
    "\n",
    "# graph package\n",
    "import igraph as ig\n",
    "\n",
    "# our code\n",
    "sys.path.append(repo_directory + 'code/')\n",
    "from setup_data_dir import setup_data_dir, make_subnetwork_directory\n",
    "from pipeline.download_data import download_bulk_resource, download_master_edgelist, download_scdb\n",
    "from helpful_functions import case_info\n",
    "\n",
    "sys.path.append(repo_directory + 'vertex_metrics_experiment/code/')\n",
    "from rankscore_experiment_sort import *\n",
    "from rankscore_experiment_LR import *\n",
    "from rankscore_experiment_search import *\n",
    "\n",
    "from make_tr_edge_df import *\n",
    "\n",
    "# which network to download data for\n",
    "network_name = 'scotus' # 'federal', 'ca1', etc\n",
    "\n",
    "\n",
    "# some sub directories that get used\n",
    "raw_dir = data_dir + 'raw/'\n",
    "subnet_dir = data_dir + network_name + '/'\n",
    "text_dir = subnet_dir + 'textfiles/'\n",
    "\n",
    "\n",
    "# jupyter notebook settings\n",
    "%load_ext autoreload\n",
    "%autoreload 2\n",
    "%matplotlib inline"
   ]
  },
  {
   "cell_type": "code",
   "execution_count": 2,
   "metadata": {
    "collapsed": true
   },
   "outputs": [],
   "source": [
    "# load scotes\n",
    "G = ig.Graph.Read_GraphML(subnet_dir + network_name +'_network.graphml')"
   ]
  },
  {
   "cell_type": "code",
   "execution_count": 3,
   "metadata": {
    "collapsed": false
   },
   "outputs": [],
   "source": [
    "# get a small sugraph to work wit\n",
    "np.random.seed(234)\n",
    "v = G.vs[np.random.choice(range(len(G.vs)))]\n",
    "\n",
    "subset_ids = G.neighborhood(v.index, order=2)\n",
    "g = G.subgraph(subset_ids)"
   ]
  },
  {
   "cell_type": "code",
   "execution_count": 4,
   "metadata": {
    "collapsed": false
   },
   "outputs": [],
   "source": [
    "# get adjacency matrix\n",
    "A = np.array(g.get_adjacency().data)"
   ]
  },
  {
   "cell_type": "markdown",
   "metadata": {},
   "source": [
    "# helper functions"
   ]
  },
  {
   "cell_type": "code",
   "execution_count": 3,
   "metadata": {
    "collapsed": true
   },
   "outputs": [],
   "source": [
    "def get_leading_evector(M, normalized=True):\n",
    "    evals, evecs = np.linalg.eig(M)\n",
    "\n",
    "    # there really has to be a more elegant way to do this\n",
    "    return np.real(evecs[:, np.argmax(evals)].reshape(-1))"
   ]
  },
  {
   "cell_type": "markdown",
   "metadata": {},
   "source": [
    "# parameters"
   ]
  },
  {
   "cell_type": "code",
   "execution_count": 6,
   "metadata": {
    "collapsed": true
   },
   "outputs": [],
   "source": [
    "n = len(g.vs)\n",
    "\n",
    "case_years = np.array(g.vs['year']).astype(int)\n",
    "Y = case_years - min(case_years) # zero index the years\n",
    "\n",
    "m = max(Y) + 1"
   ]
  },
  {
   "cell_type": "code",
   "execution_count": 7,
   "metadata": {
    "collapsed": false
   },
   "outputs": [],
   "source": [
    "cases_per_year = [0] * m\n",
    "cases_per_year_counter = Counter(Y)\n",
    "\n",
    "for k in cases_per_year_counter.keys():\n",
    "    cases_per_year[k] = cases_per_year_counter[k]"
   ]
  },
  {
   "cell_type": "code",
   "execution_count": 8,
   "metadata": {
    "collapsed": true
   },
   "outputs": [],
   "source": [
    "p = .85\n",
    "qtv = .8\n",
    "qvt = .2"
   ]
  },
  {
   "cell_type": "markdown",
   "metadata": {},
   "source": [
    "# PageRank transition matrix"
   ]
  },
  {
   "cell_type": "code",
   "execution_count": 9,
   "metadata": {
    "collapsed": false
   },
   "outputs": [],
   "source": [
    "# set up the page rank transition matrix\n",
    "\n",
    "D = np.diag([0 if d == 0 else 1.0/d for d in g.outdegree()])\n",
    "\n",
    "z = [1.0/n if d == 0 else (1.0 - p) / n for d in g.outdegree()]\n",
    "\n",
    "PR = p * np.dot(A.T, D) + np.outer([1] * n, z)"
   ]
  },
  {
   "cell_type": "code",
   "execution_count": 10,
   "metadata": {
    "collapsed": false
   },
   "outputs": [
    {
     "data": {
      "text/plain": [
       "True"
      ]
     },
     "execution_count": 10,
     "metadata": {},
     "output_type": "execute_result"
    }
   ],
   "source": [
    "np.allclose(PR.sum(axis=0), [1]*n)"
   ]
  },
  {
   "cell_type": "code",
   "execution_count": 11,
   "metadata": {
    "collapsed": false
   },
   "outputs": [],
   "source": [
    "pr = get_leading_evector(PR)\n",
    "pr = pr/sum(pr) # scale to probability"
   ]
  },
  {
   "cell_type": "code",
   "execution_count": 12,
   "metadata": {
    "collapsed": false
   },
   "outputs": [
    {
     "name": "stdout",
     "output_type": "stream",
     "text": [
      "sum square diff: 0.000000 \n",
      "mean: 0.004292\n"
     ]
    }
   ],
   "source": [
    "# check again igraph's page rank value\n",
    "# TODO: still a little off\n",
    "pr_ig = np.array(g.pagerank(damping = p))\n",
    "print \"sum square diff: %f \" % sum(np.square(pr_ig - pr))\n",
    "print \"mean: %f\" % np.mean(pr)"
   ]
  },
  {
   "cell_type": "code",
   "execution_count": 17,
   "metadata": {
    "collapsed": false
   },
   "outputs": [
    {
     "data": {
      "text/plain": [
       "<matplotlib.lines.Line2D at 0x117a5ed90>"
      ]
     },
     "execution_count": 17,
     "metadata": {},
     "output_type": "execute_result"
    },
    {
     "data": {
      "image/png": "[encoded data removed]",
      "text/plain": [
       "<matplotlib.figure.Figure at 0x1178ba150>"
      ]
     },
     "metadata": {},
     "output_type": "display_data"
    }
   ],
   "source": [
    "plt.figure(figsize=[8, 4])\n",
    "plt.subplot(1,2,1)\n",
    "plt.scatter(range(n), pr_ig, color='blue', label='igraph')\n",
    "plt.scatter(range(n), pr, color='red', label='iain')\n",
    "plt.xlim([0, n])\n",
    "plt.ylim([0, 1.2 * max(max(pr_ig), max(pr))])\n",
    "plt.legend(loc='upper right')\n",
    "\n",
    "plt.subplot(1,2,2)\n",
    "diff = pr_ig - pr\n",
    "plt.scatter(range(n), diff, color='green')\n",
    "plt.ylabel('diff')\n",
    "plt.xlim([0, n])\n",
    "plt.ylim(min(diff), max(diff))\n",
    "plt.axhline(0, color='black')\n"
   ]
  },
  {
   "cell_type": "markdown",
   "metadata": {},
   "source": [
    "# time-time transition matrix\n",
    "\n",
    "ones on line below diagonal"
   ]
  },
  {
   "cell_type": "code",
   "execution_count": 18,
   "metadata": {
    "collapsed": false
   },
   "outputs": [],
   "source": [
    "TT = np.zeros((m, m))\n",
    "TT[1:m, :m-1] = np.diag([1] * (m - 1))"
   ]
  },
  {
   "cell_type": "markdown",
   "metadata": {},
   "source": [
    "# vertex - time transition matrix\n",
    "\n",
    "the i-th column is the Y[i]th basis vector"
   ]
  },
  {
   "cell_type": "code",
   "execution_count": 19,
   "metadata": {
    "collapsed": false
   },
   "outputs": [],
   "source": [
    "VT = np.zeros((m, n))\n",
    "\n",
    "# for basis vectors\n",
    "identity_m = np.eye(m)\n",
    "\n",
    "for i in range(n):\n",
    "    VT[:, i] = identity_m[:, Y[i]]"
   ]
  },
  {
   "cell_type": "code",
   "execution_count": 20,
   "metadata": {
    "collapsed": false
   },
   "outputs": [
    {
     "data": {
      "text/plain": [
       "True"
      ]
     },
     "execution_count": 20,
     "metadata": {},
     "output_type": "execute_result"
    }
   ],
   "source": [
    "np.allclose(VT.sum(axis=0), [1]*n)"
   ]
  },
  {
   "cell_type": "markdown",
   "metadata": {},
   "source": [
    "# time - vertex transition matrix\n",
    "\n",
    "VT transpose but entries are scaled by number of cases in the year"
   ]
  },
  {
   "cell_type": "code",
   "execution_count": 21,
   "metadata": {
    "collapsed": true
   },
   "outputs": [],
   "source": [
    "TV = np.zeros((n, m))\n",
    "\n",
    "n_inv = [0 if cases_per_year[i] == 0 else 1.0/cases_per_year[i] for i in range(m)]\n",
    "\n",
    "for i in range(n):\n",
    "    TV[i, :] = identity_m[Y[i], :] * n_inv[Y[i]]"
   ]
  },
  {
   "cell_type": "code",
   "execution_count": 22,
   "metadata": {
    "collapsed": true
   },
   "outputs": [],
   "source": [
    "qtv_diag = [0 if cases_per_year[i] == 0 else qtv for i in range(m)]\n",
    "qtv_diag[-1] = 1\n",
    "Qtv = np.diag(qtv_diag)"
   ]
  },
  {
   "cell_type": "markdown",
   "metadata": {},
   "source": [
    "# Make overall transition matrix"
   ]
  },
  {
   "cell_type": "code",
   "execution_count": 23,
   "metadata": {
    "collapsed": false
   },
   "outputs": [
    {
     "name": "stdout",
     "output_type": "stream",
     "text": [
      "1.0\n",
      "1.0\n",
      "0.0\n",
      "0.25\n"
     ]
    }
   ],
   "source": [
    "print sum(PR[:, 0])\n",
    "print sum(VT[0, :])\n",
    "print sum(TT[0, :])\n",
    "print sum(TV[0, :])"
   ]
  },
  {
   "cell_type": "code",
   "execution_count": 24,
   "metadata": {
    "collapsed": false
   },
   "outputs": [],
   "source": [
    "P = np.zeros((n + m, n + m))\n",
    "\n",
    "# upper left\n",
    "P[:n, :n] = (1 - qvt) * PR\n",
    "\n",
    "# upper right\n",
    "P[:n, -m:] = np.dot(TV, Qtv)\n",
    "\n",
    "# lower left\n",
    "P[n:, :-m] = qvt * VT\n",
    "\n",
    "# lower right\n",
    "P[-m:, -m:] = np.dot(TT, np.eye(m) - Qtv)"
   ]
  },
  {
   "cell_type": "code",
   "execution_count": 25,
   "metadata": {
    "collapsed": false
   },
   "outputs": [
    {
     "data": {
      "text/plain": [
       "True"
      ]
     },
     "execution_count": 25,
     "metadata": {},
     "output_type": "execute_result"
    }
   ],
   "source": [
    "np.allclose(P.sum(axis=0), [1]*(n + m))"
   ]
  },
  {
   "cell_type": "code",
   "execution_count": 26,
   "metadata": {
    "collapsed": true
   },
   "outputs": [],
   "source": [
    "ta_pr = get_leading_evector(P)\n",
    "ta_pr = ta_pr/sum(ta_pr)"
   ]
  },
  {
   "cell_type": "markdown",
   "metadata": {},
   "source": [
    "# time aware page rank function"
   ]
  },
  {
   "cell_type": "code",
   "execution_count": 4,
   "metadata": {
    "collapsed": true
   },
   "outputs": [],
   "source": [
    "def time_aware_pagerank(A, years, p, qtv, qvt):\n",
    "    \"\"\"\n",
    "    Computes the time aware PageRank defined by the following random walk\n",
    "    \n",
    "    Create bi-partide graph time graph F whose vertices are the original vertices\n",
    "    of G and the vertex years. \n",
    "    - F contains a copy of G\n",
    "    - edge from each vetex to AND from its year\n",
    "    - edges go from year to the following year\n",
    "    \n",
    "    When the random walk is at a vertex of G\n",
    "    - probability qvt transitions to the time node\n",
    "    - probability 1 - qvt does a PageRank move\n",
    "    \n",
    "    When the random walk is at a time node\n",
    "    - probability qtv transitions to a vertex in G (of the corresponding year)\n",
    "    - probability 1 - qtv moves to the next year\n",
    "    \n",
    "    Parameters\n",
    "    ----------\n",
    "    A: adjacency matrix of original matrix where Aij = 1 iff there is an edge from i to j\n",
    "    \n",
    "    Y: the years assigned to each node\n",
    "\n",
    "    p: PageRank parameter\n",
    "    \n",
    "    qtv: probability of transitioning from time to vertex in original graph\n",
    "    \n",
    "    qvt: probability of transitioning from vertx to time \n",
    "    \n",
    "    Output\n",
    "    ------\n",
    "    \n",
    "    \"\"\"\n",
    "    # number of vertices in the graph\n",
    "    n = A.shape[0]\n",
    "    outdegrees = A.sum(axis=1)\n",
    "    \n",
    "    # zero index the years\n",
    "    Y = np.array(years) - min(years) \n",
    "\n",
    "    # number of years in graph\n",
    "    m = max(Y) + 1\n",
    "    \n",
    "    # PageRank transition matrix\n",
    "    # (see murphy 17.37)\n",
    "    D = np.diag([0 if d == 0 else 1.0/d for d in outdegrees])\n",
    "    z = [1.0/n if d == 0 else (1.0 - p) / n for d in outdegrees]\n",
    "    PR = p * np.dot(A.T, D) + np.outer([1] * n, z)\n",
    "    \n",
    "    # Time-Time transition matrix\n",
    "    # ones below diagonal\n",
    "    TT = np.zeros((m, m))\n",
    "    TT[1:m, :m-1] = np.diag([1] * (m - 1))\n",
    "    \n",
    "    \n",
    "    # Vertex-Time transition matrix\n",
    "    # i-th column is the Y[i]th basis vector\n",
    "    VT = np.zeros((m, n))\n",
    "    identity_m = np.eye(m) # for basis vectors\n",
    "    for i in range(n):\n",
    "        VT[:, i] = identity_m[:, Y[i]]\n",
    "        \n",
    "    \n",
    "    # Time-Vertex transition matrix\n",
    "    # VT transpose but entries are scaled by number of cases in the year\n",
    "    TV = np.zeros((n, m))\n",
    "    # 1 over number of cases per year\n",
    "    n_inv = [0 if cases_per_year[i] == 0 else 1.0/cases_per_year[i] for i in range(m)]\n",
    "    for i in range(n):\n",
    "        TV[i, :] = identity_m[Y[i], :] * n_inv[Y[i]]\n",
    "\n",
    "    \n",
    "    # normalization matrix for TV\n",
    "    qtv_diag = [0 if cases_per_year[i] == 0 else qtv for i in range(m)]\n",
    "    qtv_diag[-1] = 1 # last column of TT is zeros\n",
    "    Qtv = np.diag(qtv_diag)\n",
    "        \n",
    "        \n",
    "    # overall transition matrix\n",
    "    P = np.zeros((n + m, n + m))\n",
    "\n",
    "    # upper left\n",
    "    P[:n, :n] = (1 - qvt) * PR\n",
    "\n",
    "    # upper right\n",
    "    P[:n, -m:] = np.dot(TV, Qtv)\n",
    "\n",
    "    # lower left\n",
    "    P[n:, :-m] = qvt * VT\n",
    "\n",
    "    # lower right\n",
    "    P[-m:, -m:] = np.dot(TT, np.eye(m) - Qtv)\n",
    "    \n",
    "    # get PageRank values\n",
    "    leading_eig = get_leading_evector(P)\n",
    "    ta_pr = leading_eig[:n]\n",
    "    pr_years = leading_eig[-m:]\n",
    "    \n",
    "    return ta_pr/sum(ta_pr), pr_years/sum(pr_years)"
   ]
  },
  {
   "cell_type": "markdown",
   "metadata": {},
   "source": [
    "# test"
   ]
  },
  {
   "cell_type": "code",
   "execution_count": 5,
   "metadata": {
    "collapsed": true
   },
   "outputs": [],
   "source": [
    "p = .85\n",
    "qtv = .8\n",
    "qvt = .2"
   ]
  },
  {
   "cell_type": "code",
   "execution_count": null,
   "metadata": {
    "collapsed": true
   },
   "outputs": [],
   "source": [
    "%%time\n",
    "A = np.array(G.get_adjacency().data)\n",
    "years = np.array(G.vs['year']).astype(int)"
   ]
  },
  {
   "cell_type": "code",
   "execution_count": 7,
   "metadata": {
    "collapsed": false
   },
   "outputs": [
    {
     "ename": "NameError",
     "evalue": "global name 'cases_per_year' is not defined",
     "output_type": "error",
     "traceback": [
      "\u001b[0;31m---------------------------------------------------------------------------\u001b[0m",
      "\u001b[0;31mNameError\u001b[0m                                 Traceback (most recent call last)",
      "\u001b[0;32m<ipython-input-7-ff9d9360065a>\u001b[0m in \u001b[0;36m<module>\u001b[0;34m()\u001b[0m\n\u001b[0;32m----> 1\u001b[0;31m \u001b[0mget_ipython\u001b[0m\u001b[0;34m(\u001b[0m\u001b[0;34m)\u001b[0m\u001b[0;34m.\u001b[0m\u001b[0mrun_cell_magic\u001b[0m\u001b[0;34m(\u001b[0m\u001b[0;34mu'time'\u001b[0m\u001b[0;34m,\u001b[0m \u001b[0;34mu''\u001b[0m\u001b[0;34m,\u001b[0m \u001b[0;34mu'ta_pr, pr_years =  time_aware_pagerank(A, years, p, qtv, qvt)'\u001b[0m\u001b[0;34m)\u001b[0m\u001b[0;34m\u001b[0m\u001b[0m\n\u001b[0m",
      "\u001b[0;32m//anaconda/envs/default2/lib/python2.7/site-packages/IPython/core/interactiveshell.pyc\u001b[0m in \u001b[0;36mrun_cell_magic\u001b[0;34m(self, magic_name, line, cell)\u001b[0m\n\u001b[1;32m   2113\u001b[0m             \u001b[0mmagic_arg_s\u001b[0m \u001b[0;34m=\u001b[0m \u001b[0mself\u001b[0m\u001b[0;34m.\u001b[0m\u001b[0mvar_expand\u001b[0m\u001b[0;34m(\u001b[0m\u001b[0mline\u001b[0m\u001b[0;34m,\u001b[0m \u001b[0mstack_depth\u001b[0m\u001b[0;34m)\u001b[0m\u001b[0;34m\u001b[0m\u001b[0m\n\u001b[1;32m   2114\u001b[0m             \u001b[0;32mwith\u001b[0m \u001b[0mself\u001b[0m\u001b[0;34m.\u001b[0m\u001b[0mbuiltin_trap\u001b[0m\u001b[0;34m:\u001b[0m\u001b[0;34m\u001b[0m\u001b[0m\n\u001b[0;32m-> 2115\u001b[0;31m                 \u001b[0mresult\u001b[0m \u001b[0;34m=\u001b[0m \u001b[0mfn\u001b[0m\u001b[0;34m(\u001b[0m\u001b[0mmagic_arg_s\u001b[0m\u001b[0;34m,\u001b[0m \u001b[0mcell\u001b[0m\u001b[0;34m)\u001b[0m\u001b[0;34m\u001b[0m\u001b[0m\n\u001b[0m\u001b[1;32m   2116\u001b[0m             \u001b[0;32mreturn\u001b[0m \u001b[0mresult\u001b[0m\u001b[0;34m\u001b[0m\u001b[0m\n\u001b[1;32m   2117\u001b[0m \u001b[0;34m\u001b[0m\u001b[0m\n",
      "\u001b[0;32m<decorator-gen-59>\u001b[0m in \u001b[0;36mtime\u001b[0;34m(self, line, cell, local_ns)\u001b[0m\n",
      "\u001b[0;32m//anaconda/envs/default2/lib/python2.7/site-packages/IPython/core/magic.pyc\u001b[0m in \u001b[0;36m<lambda>\u001b[0;34m(f, *a, **k)\u001b[0m\n\u001b[1;32m    186\u001b[0m     \u001b[0;31m# but it's overkill for just that one bit of state.\u001b[0m\u001b[0;34m\u001b[0m\u001b[0;34m\u001b[0m\u001b[0m\n\u001b[1;32m    187\u001b[0m     \u001b[0;32mdef\u001b[0m \u001b[0mmagic_deco\u001b[0m\u001b[0;34m(\u001b[0m\u001b[0marg\u001b[0m\u001b[0;34m)\u001b[0m\u001b[0;34m:\u001b[0m\u001b[0;34m\u001b[0m\u001b[0m\n\u001b[0;32m--> 188\u001b[0;31m         \u001b[0mcall\u001b[0m \u001b[0;34m=\u001b[0m \u001b[0;32mlambda\u001b[0m \u001b[0mf\u001b[0m\u001b[0;34m,\u001b[0m \u001b[0;34m*\u001b[0m\u001b[0ma\u001b[0m\u001b[0;34m,\u001b[0m \u001b[0;34m**\u001b[0m\u001b[0mk\u001b[0m\u001b[0;34m:\u001b[0m \u001b[0mf\u001b[0m\u001b[0;34m(\u001b[0m\u001b[0;34m*\u001b[0m\u001b[0ma\u001b[0m\u001b[0;34m,\u001b[0m \u001b[0;34m**\u001b[0m\u001b[0mk\u001b[0m\u001b[0;34m)\u001b[0m\u001b[0;34m\u001b[0m\u001b[0m\n\u001b[0m\u001b[1;32m    189\u001b[0m \u001b[0;34m\u001b[0m\u001b[0m\n\u001b[1;32m    190\u001b[0m         \u001b[0;32mif\u001b[0m \u001b[0mcallable\u001b[0m\u001b[0;34m(\u001b[0m\u001b[0marg\u001b[0m\u001b[0;34m)\u001b[0m\u001b[0;34m:\u001b[0m\u001b[0;34m\u001b[0m\u001b[0m\n",
      "\u001b[0;32m//anaconda/envs/default2/lib/python2.7/site-packages/IPython/core/magics/execution.pyc\u001b[0m in \u001b[0;36mtime\u001b[0;34m(self, line, cell, local_ns)\u001b[0m\n\u001b[1;32m   1178\u001b[0m         \u001b[0;32melse\u001b[0m\u001b[0;34m:\u001b[0m\u001b[0;34m\u001b[0m\u001b[0m\n\u001b[1;32m   1179\u001b[0m             \u001b[0mst\u001b[0m \u001b[0;34m=\u001b[0m \u001b[0mclock2\u001b[0m\u001b[0;34m(\u001b[0m\u001b[0;34m)\u001b[0m\u001b[0;34m\u001b[0m\u001b[0m\n\u001b[0;32m-> 1180\u001b[0;31m             \u001b[0;32mexec\u001b[0m\u001b[0;34m(\u001b[0m\u001b[0mcode\u001b[0m\u001b[0;34m,\u001b[0m \u001b[0mglob\u001b[0m\u001b[0;34m,\u001b[0m \u001b[0mlocal_ns\u001b[0m\u001b[0;34m)\u001b[0m\u001b[0;34m\u001b[0m\u001b[0m\n\u001b[0m\u001b[1;32m   1181\u001b[0m             \u001b[0mend\u001b[0m \u001b[0;34m=\u001b[0m \u001b[0mclock2\u001b[0m\u001b[0;34m(\u001b[0m\u001b[0;34m)\u001b[0m\u001b[0;34m\u001b[0m\u001b[0m\n\u001b[1;32m   1182\u001b[0m             \u001b[0mout\u001b[0m \u001b[0;34m=\u001b[0m \u001b[0mNone\u001b[0m\u001b[0;34m\u001b[0m\u001b[0m\n",
      "\u001b[0;32m<timed exec>\u001b[0m in \u001b[0;36m<module>\u001b[0;34m()\u001b[0m\n",
      "\u001b[0;32m<ipython-input-4-8fee654f3b4d>\u001b[0m in \u001b[0;36mtime_aware_pagerank\u001b[0;34m(A, years, p, qtv, qvt)\u001b[0m\n\u001b[1;32m     67\u001b[0m     \u001b[0mTV\u001b[0m \u001b[0;34m=\u001b[0m \u001b[0mnp\u001b[0m\u001b[0;34m.\u001b[0m\u001b[0mzeros\u001b[0m\u001b[0;34m(\u001b[0m\u001b[0;34m(\u001b[0m\u001b[0mn\u001b[0m\u001b[0;34m,\u001b[0m \u001b[0mm\u001b[0m\u001b[0;34m)\u001b[0m\u001b[0;34m)\u001b[0m\u001b[0;34m\u001b[0m\u001b[0m\n\u001b[1;32m     68\u001b[0m     \u001b[0;31m# 1 over number of cases per year\u001b[0m\u001b[0;34m\u001b[0m\u001b[0;34m\u001b[0m\u001b[0m\n\u001b[0;32m---> 69\u001b[0;31m     \u001b[0mn_inv\u001b[0m \u001b[0;34m=\u001b[0m \u001b[0;34m[\u001b[0m\u001b[0;36m0\u001b[0m \u001b[0;32mif\u001b[0m \u001b[0mcases_per_year\u001b[0m\u001b[0;34m[\u001b[0m\u001b[0mi\u001b[0m\u001b[0;34m]\u001b[0m \u001b[0;34m==\u001b[0m \u001b[0;36m0\u001b[0m \u001b[0;32melse\u001b[0m \u001b[0;36m1.0\u001b[0m\u001b[0;34m/\u001b[0m\u001b[0mcases_per_year\u001b[0m\u001b[0;34m[\u001b[0m\u001b[0mi\u001b[0m\u001b[0;34m]\u001b[0m \u001b[0;32mfor\u001b[0m \u001b[0mi\u001b[0m \u001b[0;32min\u001b[0m \u001b[0mrange\u001b[0m\u001b[0;34m(\u001b[0m\u001b[0mm\u001b[0m\u001b[0;34m)\u001b[0m\u001b[0;34m]\u001b[0m\u001b[0;34m\u001b[0m\u001b[0m\n\u001b[0m\u001b[1;32m     70\u001b[0m     \u001b[0;32mfor\u001b[0m \u001b[0mi\u001b[0m \u001b[0;32min\u001b[0m \u001b[0mrange\u001b[0m\u001b[0;34m(\u001b[0m\u001b[0mn\u001b[0m\u001b[0;34m)\u001b[0m\u001b[0;34m:\u001b[0m\u001b[0;34m\u001b[0m\u001b[0m\n\u001b[1;32m     71\u001b[0m         \u001b[0mTV\u001b[0m\u001b[0;34m[\u001b[0m\u001b[0mi\u001b[0m\u001b[0;34m,\u001b[0m \u001b[0;34m:\u001b[0m\u001b[0;34m]\u001b[0m \u001b[0;34m=\u001b[0m \u001b[0midentity_m\u001b[0m\u001b[0;34m[\u001b[0m\u001b[0mY\u001b[0m\u001b[0;34m[\u001b[0m\u001b[0mi\u001b[0m\u001b[0;34m]\u001b[0m\u001b[0;34m,\u001b[0m \u001b[0;34m:\u001b[0m\u001b[0;34m]\u001b[0m \u001b[0;34m*\u001b[0m \u001b[0mn_inv\u001b[0m\u001b[0;34m[\u001b[0m\u001b[0mY\u001b[0m\u001b[0;34m[\u001b[0m\u001b[0mi\u001b[0m\u001b[0;34m]\u001b[0m\u001b[0;34m]\u001b[0m\u001b[0;34m\u001b[0m\u001b[0m\n",
      "\u001b[0;31mNameError\u001b[0m: global name 'cases_per_year' is not defined"
     ]
    }
   ],
   "source": [
    "%%time\n",
    "ta_pr, pr_years =  time_aware_pagerank(A, years, p, qtv, qvt)"
   ]
  },
  {
   "cell_type": "code",
   "execution_count": 50,
   "metadata": {
    "collapsed": false
   },
   "outputs": [
    {
     "data": {
      "text/plain": [
       "<matplotlib.text.Text at 0x118f1b550>"
      ]
     },
     "execution_count": 50,
     "metadata": {},
     "output_type": "execute_result"
    },
    {
     "data": {
      "image/png": "[encoded data removed]",
      "text/plain": [
       "<matplotlib.figure.Figure at 0x1186de2d0>"
      ]
     },
     "metadata": {},
     "output_type": "display_data"
    }
   ],
   "source": [
    "plt.figure(figsize=[10, 5])\n",
    "\n",
    "# plot pr and ta_pr\n",
    "plt.subplot(1,2,1)\n",
    "plt.scatter(range(n), pr, color='blue', label='pr')\n",
    "plt.scatter(range(n), ta_pr[:n], color='red', label='ta pr')\n",
    "plt.xlim([0, n])\n",
    "plt.ylim([0, 1.2 * max(max(ta_pr), max(pr))])\n",
    "plt.legend(loc='upper right')\n",
    "plt.xlabel('vertex')\n",
    "plt.ylabel('pr value')\n",
    "\n",
    "# plot time\n",
    "plt.subplot(1,2,2)\n",
    "plt.scatter(range(min(years), max(years) + 1), ta_pr[-m:])\n",
    "plt.xlim([min(years), max(years) ])\n",
    "plt.ylim([0, 1.2 * max(ta_pr[-m:])])\n",
    "plt.ylabel('pr value')\n",
    "plt.xlabel('year')"
   ]
  },
  {
   "cell_type": "code",
   "execution_count": null,
   "metadata": {
    "collapsed": true
   },
   "outputs": [],
   "source": []
  }
 ],
 "metadata": {
  "anaconda-cloud": {},
  "kernelspec": {
   "display_name": "Python [default]",
   "language": "python",
   "name": "python2"
  },
  "language_info": {
   "codemirror_mode": {
    "name": "ipython",
    "version": 2
   },
   "file_extension": ".py",
   "mimetype": "text/x-python",
   "name": "python",
   "nbconvert_exporter": "python",
   "pygments_lexer": "ipython2",
   "version": "2.7.12"
  }
 },
 "nbformat": 4,
 "nbformat_minor": 0
}
