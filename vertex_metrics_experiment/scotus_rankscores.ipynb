{
 "cells": [
  {
   "cell_type": "code",
   "execution_count": 1,
   "metadata": {
    "collapsed": false
   },
   "outputs": [],
   "source": [
    "repo_directory = '/Users/iaincarmichael/Dropbox/Research/law/law-net/'\n",
    "\n",
    "data_dir = '/Users/iaincarmichael/Documents/courtlistener/data/'\n",
    "\n",
    "import numpy as np\n",
    "import sys\n",
    "import matplotlib.pyplot as plt\n",
    "from scipy.stats import rankdata\n",
    "\n",
    "# graph package\n",
    "import igraph as ig\n",
    "\n",
    "# our code\n",
    "sys.path.append(repo_directory + 'code/')\n",
    "from setup_data_dir import setup_data_dir, make_subnetwork_directory\n",
    "from pipeline.download_data import download_bulk_resource, download_master_edgelist, download_scdb\n",
    "from helpful_functions import case_info\n",
    "\n",
    "sys.path.append(repo_directory + 'vertex_metrics_experiment/code/')\n",
    "from rankscore_experiment_sort import *\n",
    "from rankscore_experiment_LR import *\n",
    "from rankscore_experiment_search import *\n",
    "\n",
    "from make_tr_edge_df import *\n",
    "\n",
    "\n",
    "# which network to download data for\n",
    "network_name = 'scotus' # 'federal', 'ca1', etc\n",
    "\n",
    "\n",
    "# some sub directories that get used\n",
    "raw_dir = data_dir + 'raw/'\n",
    "subnet_dir = data_dir + network_name + '/'\n",
    "text_dir = subnet_dir + 'textfiles/'\n",
    "\n",
    "\n",
    "# jupyter notebook settings\n",
    "%load_ext autoreload\n",
    "%autoreload 2\n",
    "%matplotlib inline"
   ]
  },
  {
   "cell_type": "code",
   "execution_count": 2,
   "metadata": {
    "collapsed": true
   },
   "outputs": [],
   "source": [
    "G = ig.Graph.Read_GraphML(subnet_dir + network_name +'_network.graphml')"
   ]
  },
  {
   "cell_type": "markdown",
   "metadata": {},
   "source": [
    "## parameters from make snapshots"
   ]
  },
  {
   "cell_type": "code",
   "execution_count": 3,
   "metadata": {
    "collapsed": true
   },
   "outputs": [],
   "source": [
    "vertex_metrics = ['indegree', 'outdegree', 'degree',\n",
    "                  'd_pagerank','u_pagerank',\n",
    "                  'authorities', 'hubs',\n",
    "                  #'d_eigen', 'u_eigen', # d_eigen is being problematic\n",
    "                  'u_eigen',\n",
    "                  'd_betweenness', 'u_betweenness',\n",
    "                  'd_closeness', 'u_closeness']\n",
    "\n",
    "# add recent citations\n",
    "vertex_metrics += ['recentcite_' + str(t) for t in np.arange(1, 10 + 1)]\n",
    "vertex_metrics += ['recentcite_' + str(t) for t in [15, 20, 25, 30, 35, 40]]\n",
    "\n",
    "vertex_metrics += ['age', 'similarity']\n",
    "\n",
    "active_years = range(1900, 2015 + 1)"
   ]
  },
  {
   "cell_type": "markdown",
   "metadata": {},
   "source": [
    "## test parameters"
   ]
  },
  {
   "cell_type": "code",
   "execution_count": null,
   "metadata": {
    "collapsed": true
   },
   "outputs": [],
   "source": [
    "test_params = {'active_years':  active_years,\n",
    "               'seed': 4332,\n",
    "               'num_test_cases': 1000}"
   ]
  },
  {
   "cell_type": "markdown",
   "metadata": {},
   "source": [
    "# rank by sorting"
   ]
  },
  {
   "cell_type": "code",
   "execution_count": null,
   "metadata": {
    "collapsed": false,
    "scrolled": false
   },
   "outputs": [],
   "source": [
    "%%time \n",
    "\n",
    "# this took 35 min before for 1000 \n",
    "\n",
    "scores_sort = get_rankscores_sort(G, test_params, vertex_metrics, subnet_dir)"
   ]
  },
  {
   "cell_type": "code",
   "execution_count": null,
   "metadata": {
    "collapsed": false
   },
   "outputs": [],
   "source": [
    "sort_rankscore = scores_sort.mean().sort_values(ascending=False)\n",
    "sort_rankscore"
   ]
  },
  {
   "cell_type": "code",
   "execution_count": null,
   "metadata": {
    "collapsed": false
   },
   "outputs": [],
   "source": [
    "# histogram of scores\n",
    "\n",
    "# plt.figure(figsize=[20, 20])\n",
    "# k = 1\n",
    "# h = ceil(scores_sort.shape[1] / 4.0)\n",
    "# for c in sort_mean.index:\n",
    "#     plt.subplot(h, 4, k)\n",
    "#     plt.hist(scores_sort[c])\n",
    "#     plt.xlabel(c)\n",
    "    \n",
    "#     k += 1"
   ]
  },
  {
   "cell_type": "markdown",
   "metadata": {},
   "source": [
    "# Search"
   ]
  },
  {
   "cell_type": "code",
   "execution_count": null,
   "metadata": {
    "collapsed": false
   },
   "outputs": [],
   "source": [
    "num_to_keep = 5000"
   ]
  },
  {
   "cell_type": "code",
   "execution_count": null,
   "metadata": {
    "collapsed": false
   },
   "outputs": [],
   "source": [
    "%%time\n",
    "\n",
    "# this took 15 min before\n",
    "scores_search = get_rankscores_search(G, test_params,\n",
    "                                      vertex_metrics, subnet_dir, num_to_keep)"
   ]
  },
  {
   "cell_type": "code",
   "execution_count": null,
   "metadata": {
    "collapsed": false
   },
   "outputs": [],
   "source": [
    "search_rankscore = scores_search.mean().sort_values(ascending=False)\n",
    "search_rankscore"
   ]
  },
  {
   "cell_type": "markdown",
   "metadata": {},
   "source": [
    "# logistic regression"
   ]
  },
  {
   "cell_type": "markdown",
   "metadata": {},
   "source": [
    "## make training data for logistic regression"
   ]
  },
  {
   "cell_type": "code",
   "execution_count": null,
   "metadata": {
    "collapsed": true
   },
   "outputs": [],
   "source": [
    "# how many abset edges to add\n",
    "num_absent_edges = len(G.es)\n",
    "seed_edge_df = 32432\n",
    "\n",
    "# how to normalize yearly metrics\n",
    "metric_normalization = 'mean'"
   ]
  },
  {
   "cell_type": "code",
   "execution_count": null,
   "metadata": {
    "collapsed": false
   },
   "outputs": [],
   "source": [
    "%%time \n",
    "\n",
    "# make_tr_edge_df(G, subnet_dir,\n",
    "#                 active_years, num_absent_edges,\n",
    "#                 vertex_metrics, metric_normalization,\n",
    "#                 seed=seed_edge_df)"
   ]
  },
  {
   "cell_type": "markdown",
   "metadata": {},
   "source": [
    "## rank by logistic regression"
   ]
  },
  {
   "cell_type": "code",
   "execution_count": null,
   "metadata": {
    "collapsed": true
   },
   "outputs": [],
   "source": [
    "# vertex_metrics += ['all']"
   ]
  },
  {
   "cell_type": "code",
   "execution_count": null,
   "metadata": {
    "collapsed": false
   },
   "outputs": [],
   "source": [
    "%%time\n",
    "\n",
    "scores_LR, scores_LR_logloss, LogRegs = get_rankscores_LR(G, test_params, vertex_metrics,\n",
    "                                                            subnet_dir,\n",
    "                                                            metric_normalization)              "
   ]
  },
  {
   "cell_type": "code",
   "execution_count": null,
   "metadata": {
    "collapsed": false
   },
   "outputs": [],
   "source": [
    "LR_logloss = scores_LR_logloss.mean().sort_values(ascending=True)\n",
    "LR_logloss"
   ]
  },
  {
   "cell_type": "code",
   "execution_count": null,
   "metadata": {
    "collapsed": false
   },
   "outputs": [],
   "source": [
    "LR_rankscore = scores_LR.mean().sort_values(ascending=False)\n",
    "LR_rankscore"
   ]
  },
  {
   "cell_type": "markdown",
   "metadata": {},
   "source": [
    "# results"
   ]
  },
  {
   "cell_type": "code",
   "execution_count": null,
   "metadata": {
    "collapsed": false
   },
   "outputs": [],
   "source": [
    "df_metric = pd.DataFrame(columns=['sort', 'search', 'LR', 'LR_logloss'],\n",
    "                         index = range(len(vertex_metrics)))\n",
    "\n",
    "df_metric['sort'] = sort_rankscore.index\n",
    "df_metric['search'] = search_rankscore.index\n",
    "df_metric['LR'] = LR_rankscore.index\n",
    "df_metric['LR_logloss'] = LR_logloss.index"
   ]
  },
  {
   "cell_type": "code",
   "execution_count": null,
   "metadata": {
    "collapsed": false
   },
   "outputs": [],
   "source": [
    "df_metric"
   ]
  },
  {
   "cell_type": "code",
   "execution_count": null,
   "metadata": {
    "collapsed": false
   },
   "outputs": [],
   "source": [
    "rankscores = pd.DataFrame(columns=['sort', 'search', 'LR'],\n",
    "                         index = vertex_metrics)\n",
    "\n",
    "rankscores['sort'] = sort_rankscore\n",
    "rankscores['search'] = search_rankscore\n",
    "rankscores['LR'] = LR_rankscore"
   ]
  },
  {
   "cell_type": "code",
   "execution_count": null,
   "metadata": {
    "collapsed": false
   },
   "outputs": [],
   "source": [
    "rankscores.sort_values(by='sort', ascending=False)"
   ]
  },
  {
   "cell_type": "code",
   "execution_count": null,
   "metadata": {
    "collapsed": false
   },
   "outputs": [],
   "source": [
    "rs_ranking = rankscores.apply(lambda c: rankdata(c))"
   ]
  },
  {
   "cell_type": "code",
   "execution_count": null,
   "metadata": {
    "collapsed": false
   },
   "outputs": [],
   "source": [
    "rs_ranking.sort_values(by='sort')"
   ]
  },
  {
   "cell_type": "code",
   "execution_count": null,
   "metadata": {
    "collapsed": true
   },
   "outputs": [],
   "source": []
  }
 ],
 "metadata": {
  "kernelspec": {
   "display_name": "Python 2",
   "language": "python",
   "name": "python2"
  },
  "language_info": {
   "codemirror_mode": {
    "name": "ipython",
    "version": 2
   },
   "file_extension": ".py",
   "mimetype": "text/x-python",
   "name": "python",
   "nbconvert_exporter": "python",
   "pygments_lexer": "ipython2",
   "version": "2.7.12"
  }
 },
 "nbformat": 4,
 "nbformat_minor": 0
}
