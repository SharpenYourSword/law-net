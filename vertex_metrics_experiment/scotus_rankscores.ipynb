{
 "cells": [
  {
   "cell_type": "code",
   "execution_count": 5,
   "metadata": {
    "collapsed": false
   },
   "outputs": [],
   "source": [
    "repo_directory = '/Users/iaincarmichael/Dropbox/Research/law/law-net/'\n",
    "\n",
    "data_dir = '/Users/iaincarmichael/Documents/courtlistener/data/'\n",
    "\n",
    "import numpy as np\n",
    "import sys\n",
    "import matplotlib.pyplot as plt\n",
    "\n",
    "\n",
    "# graph package\n",
    "import igraph as ig\n",
    "\n",
    "# our code\n",
    "sys.path.append(repo_directory + 'code/')\n",
    "from setup_data_dir import setup_data_dir, make_subnetwork_directory\n",
    "from pipeline.download_data import download_bulk_resource, download_master_edgelist, download_scdb\n",
    "from helpful_functions import case_info\n",
    "\n",
    "sys.path.append(repo_directory + 'vertex_metrics_experiment/code/')\n",
    "from rankscore_experiment_sort import *\n",
    "from rankscore_experiment_LR import *\n",
    "from rankscore_experiment_search import *\n",
    "\n",
    "from make_tr_edge_df import *\n",
    "\n",
    "\n",
    "# which network to download data for\n",
    "network_name = 'scotus' # 'federal', 'ca1', etc\n",
    "\n",
    "\n",
    "# some sub directories that get used\n",
    "raw_dir = data_dir + 'raw/'\n",
    "subnet_dir = data_dir + network_name + '/'\n",
    "text_dir = subnet_dir + 'textfiles/'\n",
    "\n",
    "\n",
    "# jupyter notebook settings\n",
    "%load_ext autoreload\n",
    "%autoreload 2\n",
    "%matplotlib inline"
   ]
  },
  {
   "cell_type": "code",
   "execution_count": 2,
   "metadata": {
    "collapsed": true
   },
   "outputs": [],
   "source": [
    "G = ig.Graph.Read_GraphML(subnet_dir + network_name +'_network.graphml')"
   ]
  },
  {
   "cell_type": "markdown",
   "metadata": {},
   "source": [
    "## parameters from make snapshots"
   ]
  },
  {
   "cell_type": "code",
   "execution_count": 5,
   "metadata": {
    "collapsed": true
   },
   "outputs": [],
   "source": [
    "vertex_metrics = ['indegree', 'outdegree', 'degree',\n",
    "                  'd_pagerank','u_pagerank',\n",
    "                  'authorities', 'hubs',\n",
    "                  'd_eigen', 'u_eigen',\n",
    "                  'd_betweenness', 'u_betweenness',\n",
    "                  'd_closeness', 'u_closeness']\n",
    "\n",
    "# add recent citations\n",
    "vertex_metrics += ['recentcite_' + str(t) for t in np.arange(1, 10 + 1)]\n",
    "vertex_metrics += ['recentcite_' + str(t) for t in [15, 20, 25, 30, 35, 40]]\n",
    "\n",
    "vertex_metrics += ['age']\n",
    "\n",
    "active_years = range(1900, 2015 + 1)"
   ]
  },
  {
   "cell_type": "markdown",
   "metadata": {},
   "source": [
    "## test parameters"
   ]
  },
  {
   "cell_type": "code",
   "execution_count": 6,
   "metadata": {
    "collapsed": true
   },
   "outputs": [],
   "source": [
    "test_params = {'active_years':  active_years,\n",
    "               'seed': 4332,\n",
    "               'num_test_cases': 1000}"
   ]
  },
  {
   "cell_type": "markdown",
   "metadata": {},
   "source": [
    "# log reg parameters"
   ]
  },
  {
   "cell_type": "code",
   "execution_count": 6,
   "metadata": {
    "collapsed": true
   },
   "outputs": [],
   "source": [
    "# how many abset edges to add\n",
    "num_absent_edges = len(G.es)\n",
    "seed_edge_df = 32432\n",
    "\n",
    "# include similarity in logistic regrssion\n",
    "include_similarity = True\n",
    "\n",
    "# how to normalize yearly metrics\n",
    "metric_normalization = 'mean'"
   ]
  },
  {
   "cell_type": "markdown",
   "metadata": {},
   "source": [
    "# rank by sorting"
   ]
  },
  {
   "cell_type": "code",
   "execution_count": 7,
   "metadata": {
    "collapsed": false,
    "scrolled": false
   },
   "outputs": [
    {
     "name": "stdout",
     "output_type": "stream",
     "text": [
      "age\n",
      "indegree\n",
      "outdegree\n",
      "degree\n",
      "d_pagerank\n",
      "authorities\n",
      "hubs\n",
      "recentcite_5\n",
      "recentcite_10\n",
      "recentcite_15\n",
      "recentcite_20\n",
      "recentcite_25\n",
      "recentcite_30\n",
      "CPU times: user 35min 58s, sys: 41.8 s, total: 36min 39s\n",
      "Wall time: 36min 38s\n"
     ]
    }
   ],
   "source": [
    "%time scores_sort = get_rankscores_sort(G, test_params, metrics, subnet_dir)"
   ]
  },
  {
   "cell_type": "code",
   "execution_count": 35,
   "metadata": {
    "collapsed": false
   },
   "outputs": [
    {
     "data": {
      "text/plain": [
       "age              0.807917\n",
       "hubs             0.771656\n",
       "recentcite_10    0.763933\n",
       "degree           0.763092\n",
       "recentcite_15    0.759500\n",
       "recentcite_5     0.758426\n",
       "outdegree        0.758392\n",
       "recentcite_20    0.749317\n",
       "recentcite_25    0.740306\n",
       "recentcite_30    0.730266\n",
       "authorities      0.692209\n",
       "indegree         0.650751\n",
       "d_pagerank       0.569745\n",
       "dtype: float64"
      ]
     },
     "execution_count": 35,
     "metadata": {},
     "output_type": "execute_result"
    }
   ],
   "source": [
    "sort_mean = scores_sort.mean()\n",
    "sort_mean.sort_values(ascending=False,inplace=True)\n",
    "sort_mean"
   ]
  },
  {
   "cell_type": "code",
   "execution_count": 38,
   "metadata": {
    "collapsed": false
   },
   "outputs": [
    {
     "data": {
      "image/png": "[encoded data removed]",
      "text/plain": [
       "<matplotlib.figure.Figure at 0x13f084850>"
      ]
     },
     "metadata": {},
     "output_type": "display_data"
    }
   ],
   "source": [
    "plt.figure(figsize=[20, 20])\n",
    "k = 1\n",
    "h = ceil(scores_sort.shape[1] / 4.0)\n",
    "for c in sort_mean.index:\n",
    "    plt.subplot(h, 4, k)\n",
    "    plt.hist(scores_sort[c])\n",
    "    plt.xlabel(c)\n",
    "    \n",
    "    k += 1"
   ]
  },
  {
   "cell_type": "markdown",
   "metadata": {},
   "source": [
    "# logistic regression"
   ]
  },
  {
   "cell_type": "markdown",
   "metadata": {},
   "source": [
    "## make training data for logistic regression"
   ]
  },
  {
   "cell_type": "code",
   "execution_count": 13,
   "metadata": {
    "collapsed": true
   },
   "outputs": [],
   "source": [
    "num_absent_edges = len(G.es)\n",
    "metric_normalization = 'mean'\n",
    "\n",
    "seed_edge_df = 342"
   ]
  },
  {
   "cell_type": "code",
   "execution_count": 14,
   "metadata": {
    "collapsed": false
   },
   "outputs": [
    {
     "name": "stdout",
     "output_type": "stream",
     "text": [
      "CPU times: user 5min 44s, sys: 41.7 s, total: 6min 25s\n",
      "Wall time: 6min 25s\n"
     ]
    }
   ],
   "source": [
    "%%time \n",
    "\n",
    "make_tr_edge_df(G, subnet_dir,\n",
    "                active_years, num_absent_edges,\n",
    "                vertex_metrics, metric_normalization,\n",
    "                seed=seed_edge_df)"
   ]
  },
  {
   "cell_type": "markdown",
   "metadata": {},
   "source": [
    "# rank by logistic regression"
   ]
  },
  {
   "cell_type": "code",
   "execution_count": 19,
   "metadata": {
    "collapsed": true
   },
   "outputs": [],
   "source": [
    "vertex_metrics += ['similarity']\n",
    "\n",
    "include_similarity = True"
   ]
  },
  {
   "cell_type": "code",
   "execution_count": 21,
   "metadata": {
    "collapsed": false
   },
   "outputs": [],
   "source": [
    "%%time\n",
    "\n",
    "scores_LR = get_rankscores_LR(G, test_params, vertex_metrics,\n",
    "                              include_similarity, subnet_dir,\n",
    "                              metric_normalization)              "
   ]
  },
  {
   "cell_type": "code",
   "execution_count": 37,
   "metadata": {
    "collapsed": false
   },
   "outputs": [
    {
     "data": {
      "text/plain": [
       "recentcite_10    0.233793\n",
       "degree           0.236823\n",
       "recentcite_15    0.238209\n",
       "outdegree        0.240479\n",
       "recentcite_20    0.248846\n",
       "recentcite_25    0.260073\n",
       "recentcite_30    0.269878\n",
       "indegree         0.349760\n",
       "d_pagerank       0.570916\n",
       "authorities      0.688040\n",
       "recentcite_5     0.761556\n",
       "hubs             0.766908\n",
       "age              0.807966\n",
       "dtype: float64"
      ]
     },
     "execution_count": 37,
     "metadata": {},
     "output_type": "execute_result"
    }
   ],
   "source": [
    "s = scores_LR.mean()\n",
    "\n",
    "s.sort_values()"
   ]
  },
  {
   "cell_type": "markdown",
   "metadata": {},
   "source": [
    "# search"
   ]
  },
  {
   "cell_type": "code",
   "execution_count": null,
   "metadata": {
    "collapsed": true
   },
   "outputs": [],
   "source": []
  },
  {
   "cell_type": "code",
   "execution_count": null,
   "metadata": {
    "collapsed": true
   },
   "outputs": [],
   "source": []
  },
  {
   "cell_type": "code",
   "execution_count": null,
   "metadata": {
    "collapsed": true
   },
   "outputs": [],
   "source": []
  },
  {
   "cell_type": "code",
   "execution_count": 80,
   "metadata": {
    "collapsed": true
   },
   "outputs": [],
   "source": [
    "test_params = {'active_years':  active_years,\n",
    "               'seed': 4332,\n",
    "               'num_test_cases': 1000}\n",
    "\n",
    "num_to_keep = 1000\n",
    "\n",
    "metrics = ['indegree', 'age', 'outdegree']"
   ]
  },
  {
   "cell_type": "code",
   "execution_count": 1,
   "metadata": {
    "collapsed": false
   },
   "outputs": [],
   "source": [
    "%%time\n",
    "scores_search = get_rankscores_search(G, test_params,\n",
    "                                      metrics, subnet_dir, num_to_keep)"
   ]
  },
  {
   "cell_type": "markdown",
   "metadata": {},
   "source": [
    "# surgery"
   ]
  },
  {
   "cell_type": "code",
   "execution_count": 6,
   "metadata": {
    "collapsed": false
   },
   "outputs": [],
   "source": [
    "from pipeline.download_data import url_to_dict\n"
   ]
  },
  {
   "cell_type": "code",
   "execution_count": 7,
   "metadata": {
    "collapsed": true
   },
   "outputs": [],
   "source": [
    "op_id = 107423"
   ]
  },
  {
   "cell_type": "code",
   "execution_count": null,
   "metadata": {
    "collapsed": true
   },
   "outputs": [],
   "source": []
  }
 ],
 "metadata": {
  "kernelspec": {
   "display_name": "Python 2",
   "language": "python",
   "name": "python2"
  },
  "language_info": {
   "codemirror_mode": {
    "name": "ipython",
    "version": 2
   },
   "file_extension": ".py",
   "mimetype": "text/x-python",
   "name": "python",
   "nbconvert_exporter": "python",
   "pygments_lexer": "ipython2",
   "version": "2.7.12"
  }
 },
 "nbformat": 4,
 "nbformat_minor": 0
}
