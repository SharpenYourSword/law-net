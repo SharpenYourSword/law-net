{
 "cells": [
  {
   "cell_type": "code",
   "execution_count": 1,
   "metadata": {
    "collapsed": false
   },
   "outputs": [],
   "source": [
    "top_directory = '/Users/iaincarmichael/Dropbox/Research/law/law-net/'\n",
    "\n",
    "from __future__ import division\n",
    "\n",
    "import os\n",
    "import sys\n",
    "import time\n",
    "from math import *\n",
    "import copy\n",
    "import cPickle as pickle\n",
    "\n",
    "# data\n",
    "import numpy as np\n",
    "import pandas as pd\n",
    "\n",
    "# viz\n",
    "import matplotlib.pyplot as plt\n",
    "\n",
    "\n",
    "# graph\n",
    "import igraph as ig\n",
    "\n",
    "\n",
    "# NLP\n",
    "from nltk.corpus import stopwords\n",
    "\n",
    "\n",
    "# our code\n",
    "sys.path.append(top_directory + 'code/')\n",
    "from load_data import load_and_clean_graph, case_info\n",
    "from pipeline.download_data import download_bulk_resource\n",
    "from pipeline.make_clean_data import *\n",
    "from viz import print_describe\n",
    "\n",
    "\n",
    "sys.path.append(top_directory + 'vertex_metrics_experiment/code/')\n",
    "from make_snapshots import *\n",
    "from make_edge_df import *\n",
    "from attachment_model_inference import *\n",
    "from compute_ranking_metrics import *\n",
    "from pipeline_helper_functions import *\n",
    "from make_case_text_files import *\n",
    "from bag_of_words import *\n",
    "from similarity_matrix import *\n",
    "\n",
    "# directory set up\n",
    "data_dir = top_directory + 'data/'\n",
    "experiment_data_dir = data_dir + 'vertex_metrics_experiment/'\n",
    "\n",
    "court_name = 'scotus'\n",
    "\n",
    "# jupyter notebook settings\n",
    "%load_ext autoreload\n",
    "%autoreload 2\n",
    "%matplotlib inline"
   ]
  },
  {
   "cell_type": "code",
   "execution_count": 2,
   "metadata": {
    "collapsed": false
   },
   "outputs": [],
   "source": [
    "G = load_and_clean_graph(data_dir, court_name)"
   ]
  },
  {
   "cell_type": "code",
   "execution_count": 19,
   "metadata": {
    "collapsed": true
   },
   "outputs": [],
   "source": [
    "active_years = range(1900, 2015 + 1)"
   ]
  },
  {
   "cell_type": "markdown",
   "metadata": {},
   "source": [
    "# get NLP similarity"
   ]
  },
  {
   "cell_type": "code",
   "execution_count": 58,
   "metadata": {
    "collapsed": true
   },
   "outputs": [],
   "source": [
    "# load precomputed matrix\n",
    "similarity_matrix, CLid_to_index = load_similarity_matrix(experiment_data_dir)"
   ]
  },
  {
   "cell_type": "markdown",
   "metadata": {},
   "source": [
    "# compare present edges vs absent edges NLP similarity"
   ]
  },
  {
   "cell_type": "code",
   "execution_count": 23,
   "metadata": {
    "collapsed": false
   },
   "outputs": [],
   "source": [
    "present_ing = []\n",
    "present_ed = []\n",
    "for e in G.es:\n",
    "    \n",
    "    present_ing.append(G.vs[e.source]['name'])\n",
    "    present_ed.append(G.vs[e.target]['name'])"
   ]
  },
  {
   "cell_type": "code",
   "execution_count": 22,
   "metadata": {
    "collapsed": false
   },
   "outputs": [],
   "source": [
    "absent_edges = sample_absent_edges(G, num_samples=len(G.es), active_years=active_years)\n",
    "\n",
    "absent_ing = []\n",
    "absent_ed = []\n",
    "for e in absent_edges:\n",
    "    \n",
    "    absent_ing.append(G.vs[e[0]]['name'])\n",
    "    absent_ed.append(G.vs[e[1]]['name'])"
   ]
  },
  {
   "cell_type": "code",
   "execution_count": 61,
   "metadata": {
    "collapsed": false
   },
   "outputs": [],
   "source": [
    "sims_present = get_similarities(similarity_matrix, zip(present_ing, present_ed), CLid_to_index)\n",
    "\n",
    "sims_absent = get_similarities(similarity_matrix, zip(absent_ing, absent_ed), CLid_to_index)\n",
    "\n",
    "sims_present = np.array(sims_present)\n",
    "sims_absent = np.array(sims_absent)"
   ]
  },
  {
   "cell_type": "code",
   "execution_count": 62,
   "metadata": {
    "collapsed": false,
    "scrolled": false
   },
   "outputs": [
    {
     "name": "stdout",
     "output_type": "stream",
     "text": [
      "present\n",
      "nobs: 249689\n",
      "mean: 0.661\n",
      "median: 0.674\n",
      "min: 0.015\n",
      "max: 1.000\n",
      "std: 0.126\n",
      "unique values 2922\n",
      "\n",
      "absent\n",
      "nobs: 249768\n",
      "mean: 0.425\n",
      "median: 0.471\n",
      "min: 0.000\n",
      "max: 0.919\n",
      "std: 0.200\n",
      "unique values 5701\n"
     ]
    },
    {
     "data": {
      "image/png": "[encoded data removed]",
      "text/plain": [
       "<matplotlib.figure.Figure at 0x19ac6e910>"
      ]
     },
     "metadata": {},
     "output_type": "display_data"
    }
   ],
   "source": [
    "plt.hist(sims_present[~np.isnan(sims_present)],\n",
    "         color='blue',\n",
    "         label='present',\n",
    "         alpha=.7)\n",
    "plt.hist(sims_absent[~np.isnan(sims_absent)],\n",
    "         color='red',\n",
    "         label='absent',\n",
    "         alpha=.7)\n",
    "\n",
    "plt.xlabel('cosine td-idf')\n",
    "plt.title('NLP similarity of present vs. absent edges')\n",
    "\n",
    "plt.legend(loc='upper right')\n",
    "\n",
    "print 'present'\n",
    "print_describe( sims_present[~np.isnan(sims_present)])\n",
    "\n",
    "print ''\n",
    "print 'absent'\n",
    "print_describe( sims_absent[~np.isnan(sims_absent)])"
   ]
  },
  {
   "cell_type": "code",
   "execution_count": null,
   "metadata": {
    "collapsed": true
   },
   "outputs": [],
   "source": []
  }
 ],
 "metadata": {
  "kernelspec": {
   "display_name": "Python 2",
   "language": "python",
   "name": "python2"
  },
  "language_info": {
   "codemirror_mode": {
    "name": "ipython",
    "version": 2
   },
   "file_extension": ".py",
   "mimetype": "text/x-python",
   "name": "python",
   "nbconvert_exporter": "python",
   "pygments_lexer": "ipython2",
   "version": "2.7.12"
  }
 },
 "nbformat": 4,
 "nbformat_minor": 0
}
