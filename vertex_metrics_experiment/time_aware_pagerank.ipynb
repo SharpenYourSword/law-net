{
 "cells": [
  {
   "cell_type": "code",
   "execution_count": 1,
   "metadata": {
    "collapsed": false
   },
   "outputs": [],
   "source": [
    "repo_directory = '/Users/iaincarmichael/Dropbox/Research/law/law-net/'\n",
    "\n",
    "data_dir = '/Users/iaincarmichael/Documents/courtlistener/data/'\n",
    "\n",
    "import numpy as np\n",
    "import sys\n",
    "import matplotlib.pyplot as plt\n",
    "from scipy.stats import rankdata\n",
    "from collections import Counter\n",
    "\n",
    "# graph package\n",
    "import igraph as ig\n",
    "\n",
    "# our code\n",
    "sys.path.append(repo_directory + 'code/')\n",
    "from setup_data_dir import setup_data_dir, make_subnetwork_directory\n",
    "from pipeline.download_data import download_bulk_resource, download_master_edgelist, download_scdb\n",
    "from helpful_functions import case_info\n",
    "\n",
    "sys.path.append(repo_directory + 'vertex_metrics_experiment/code/')\n",
    "from rankscore_experiment_sort import *\n",
    "from rankscore_experiment_LR import *\n",
    "from rankscore_experiment_search import *\n",
    "\n",
    "from make_tr_edge_df import *\n",
    "\n",
    "\n",
    "# which network to download data for\n",
    "network_name = 'scotus' # 'federal', 'ca1', etc\n",
    "\n",
    "\n",
    "# some sub directories that get used\n",
    "raw_dir = data_dir + 'raw/'\n",
    "subnet_dir = data_dir + network_name + '/'\n",
    "text_dir = subnet_dir + 'textfiles/'\n",
    "\n",
    "\n",
    "# jupyter notebook settings\n",
    "%load_ext autoreload\n",
    "%autoreload 2\n",
    "%matplotlib inline"
   ]
  },
  {
   "cell_type": "code",
   "execution_count": 2,
   "metadata": {
    "collapsed": true
   },
   "outputs": [],
   "source": [
    "# load scotes\n",
    "G = ig.Graph.Read_GraphML(subnet_dir + network_name +'_network.graphml')"
   ]
  },
  {
   "cell_type": "code",
   "execution_count": 3,
   "metadata": {
    "collapsed": false
   },
   "outputs": [],
   "source": [
    "# get a small sugraph to work wit\n",
    "np.random.seed(234)\n",
    "v = G.vs[np.random.choice(range(len(G.vs)))]\n",
    "\n",
    "subset_ids = G.neighborhood(v.index, order=2)\n",
    "g = G.subgraph(subset_ids)"
   ]
  },
  {
   "cell_type": "code",
   "execution_count": 41,
   "metadata": {
    "collapsed": false
   },
   "outputs": [],
   "source": [
    "# get adjacency matrix\n",
    "A = np.array(g.get_adjacency().data)"
   ]
  },
  {
   "cell_type": "markdown",
   "metadata": {},
   "source": [
    "# helper functions"
   ]
  },
  {
   "cell_type": "code",
   "execution_count": 56,
   "metadata": {
    "collapsed": true
   },
   "outputs": [],
   "source": [
    "def get_leading_evector(M, normalized=True):\n",
    "    evals, evecs = np.linalg.eig(M)\n",
    "\n",
    "    # there really has to be a more elegant way to do this\n",
    "    return np.real(evecs[:, np.argmax(evals)].reshape(-1))"
   ]
  },
  {
   "cell_type": "markdown",
   "metadata": {},
   "source": [
    "# parameters"
   ]
  },
  {
   "cell_type": "code",
   "execution_count": 44,
   "metadata": {
    "collapsed": true
   },
   "outputs": [],
   "source": [
    "n = len(g.vs)\n",
    "\n",
    "case_years = np.array(g.vs['year']).astype(int)\n",
    "Y = case_years - min(case_years) # zero index the years\n",
    "\n",
    "m = max(Y) + 1"
   ]
  },
  {
   "cell_type": "code",
   "execution_count": 45,
   "metadata": {
    "collapsed": false
   },
   "outputs": [],
   "source": [
    "cases_per_year = [0] * m\n",
    "cases_per_year_counter = Counter(Y)\n",
    "\n",
    "for k in cases_per_year_counter.keys():\n",
    "    cases_per_year[k] = cases_per_year_counter[k]\n",
    "    \n",
    "n_inv = [0 if cases_per_year[i] == 0 else 1.0/cases_per_year[i] for i in range(m)]"
   ]
  },
  {
   "cell_type": "code",
   "execution_count": 46,
   "metadata": {
    "collapsed": true
   },
   "outputs": [],
   "source": [
    "p = .15\n",
    "qtv = .8\n",
    "qvt = .1"
   ]
  },
  {
   "cell_type": "markdown",
   "metadata": {},
   "source": [
    "# PageRank transition matrix"
   ]
  },
  {
   "cell_type": "code",
   "execution_count": 47,
   "metadata": {
    "collapsed": false
   },
   "outputs": [],
   "source": [
    "# set up the page rank transition matrix\n",
    "\n",
    "D = np.diag([0 if d == 0 else 1.0/d for d in g.outdegree()])\n",
    "\n",
    "z = [1.0/n if d == 0 else (1.0 - p) / n for d in g.outdegree()]\n",
    "\n",
    "PR = p * np.dot(A.T, D) + np.outer([1] * n, z)"
   ]
  },
  {
   "cell_type": "code",
   "execution_count": 59,
   "metadata": {
    "collapsed": false
   },
   "outputs": [],
   "source": [
    "pr = get_leading_evector(PR)\n",
    "pr = pr/sum(pr) # scale to probability"
   ]
  },
  {
   "cell_type": "code",
   "execution_count": 60,
   "metadata": {
    "collapsed": false
   },
   "outputs": [
    {
     "name": "stdout",
     "output_type": "stream",
     "text": [
      "sum square diff: 0.002120 \n",
      "mean: 0.004292\n"
     ]
    }
   ],
   "source": [
    "# check again igraph's page rank value\n",
    "# TODO: still a little off\n",
    "pr_ig = np.array(g.pagerank(damping = 1 - p))\n",
    "print \"sum square diff: %f \" % sum(np.square(pr_ig - pr))\n",
    "print \"mean: %f\" % np.mean(pr)"
   ]
  },
  {
   "cell_type": "code",
   "execution_count": 11,
   "metadata": {
    "collapsed": false
   },
   "outputs": [
    {
     "data": {
      "text/plain": [
       "<matplotlib.lines.Line2D at 0x113cb80d0>"
      ]
     },
     "execution_count": 11,
     "metadata": {},
     "output_type": "execute_result"
    },
    {
     "data": {
      "image/png": "[encoded data removed]",
      "text/plain": [
       "<matplotlib.figure.Figure at 0x1132f2510>"
      ]
     },
     "metadata": {},
     "output_type": "display_data"
    }
   ],
   "source": [
    "plt.figure(figsize=[8, 4])\n",
    "plt.subplot(1,2,1)\n",
    "plt.scatter(range(n), pr_ig, color='blue', label='igraph')\n",
    "plt.scatter(range(n), pr, color='red', label='iain')\n",
    "plt.xlim([0, n])\n",
    "plt.ylim([0, 1.2 * max(max(pr_ig), max(pr))])\n",
    "\n",
    "plt.subplot(1,2,2)\n",
    "diff = pr_ig - pr\n",
    "plt.scatter(range(n), diff, color='green')\n",
    "plt.ylabel('diff')\n",
    "plt.xlim([0, n])\n",
    "plt.ylim(min(diff), max(diff))\n",
    "plt.axhline(0, color='black')"
   ]
  },
  {
   "cell_type": "markdown",
   "metadata": {},
   "source": [
    "# time-time transition matrix\n",
    "\n",
    "ones on line below diagonal"
   ]
  },
  {
   "cell_type": "code",
   "execution_count": 12,
   "metadata": {
    "collapsed": false
   },
   "outputs": [],
   "source": [
    "TT = np.zeros((n, n))\n",
    "TT[1:n, :n-1] = np.diag([1] * (n - 1))"
   ]
  },
  {
   "cell_type": "markdown",
   "metadata": {},
   "source": [
    "# vertex - time transition matrix\n",
    "\n",
    "the i-th column is the Y[i]th basis vector"
   ]
  },
  {
   "cell_type": "code",
   "execution_count": 13,
   "metadata": {
    "collapsed": false
   },
   "outputs": [],
   "source": [
    "VT = np.zeros((m, n))\n",
    "\n",
    "# for basis vectors\n",
    "identity_m = np.eye(m)\n",
    "\n",
    "\n",
    "for i in range(n):\n",
    "    VT[:, i] = identity_m[:, Y[i]]"
   ]
  },
  {
   "cell_type": "markdown",
   "metadata": {},
   "source": [
    "# time - vertex transition matrix\n",
    "\n",
    "VT transpose but entries are scaled by number of cases in the year"
   ]
  },
  {
   "cell_type": "code",
   "execution_count": 14,
   "metadata": {
    "collapsed": true
   },
   "outputs": [],
   "source": [
    "TV = np.zeros((n, m))\n",
    "\n",
    "for i in range(n):\n",
    "    TV[i, :] = identity_m[Y[i], :] * n_inv[Y[i]]"
   ]
  },
  {
   "cell_type": "markdown",
   "metadata": {},
   "source": [
    "# Make overall transition matrix"
   ]
  },
  {
   "cell_type": "code",
   "execution_count": 21,
   "metadata": {
    "collapsed": true
   },
   "outputs": [],
   "source": [
    "P = np.zeros((n + m, n + m))\n",
    "\n",
    "# upper left\n",
    "P[:n, :n] = (1 - qvt) * PR\n",
    "\n",
    "# upper right\n",
    "P[:n, n:] = qtv * TV\n",
    "\n",
    "# lower left\n",
    "P[n:, :n] = qvt * VT\n",
    "\n",
    "# lower right\n",
    "P[:n, :n] = (1 - qtv)*TT"
   ]
  },
  {
   "cell_type": "code",
   "execution_count": 61,
   "metadata": {
    "collapsed": true
   },
   "outputs": [],
   "source": [
    "ta_pr = get_leading_evector(P)\n",
    "ta_pr = ta_pr/sum(ta_pr)"
   ]
  },
  {
   "cell_type": "code",
   "execution_count": null,
   "metadata": {
    "collapsed": true
   },
   "outputs": [],
   "source": []
  }
 ],
 "metadata": {
  "kernelspec": {
   "display_name": "Python 2",
   "language": "python",
   "name": "python2"
  },
  "language_info": {
   "codemirror_mode": {
    "name": "ipython",
    "version": 2
   },
   "file_extension": ".py",
   "mimetype": "text/x-python",
   "name": "python",
   "nbconvert_exporter": "python",
   "pygments_lexer": "ipython2",
   "version": "2.7.12"
  }
 },
 "nbformat": 4,
 "nbformat_minor": 0
}
