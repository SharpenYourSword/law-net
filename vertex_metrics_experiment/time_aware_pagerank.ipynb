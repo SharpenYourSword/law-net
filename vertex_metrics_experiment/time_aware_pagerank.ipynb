{
 "cells": [
  {
   "cell_type": "code",
   "execution_count": 1,
   "metadata": {
    "collapsed": false
   },
   "outputs": [],
   "source": [
    "repo_directory = '/Users/iaincarmichael/Dropbox/Research/law/law-net/'\n",
    "\n",
    "data_dir = '/Users/iaincarmichael/Data/courtlistener/'\n",
    "\n",
    "import numpy as np\n",
    "import sys\n",
    "import matplotlib.pyplot as plt\n",
    "from scipy.stats import rankdata\n",
    "from collections import Counter\n",
    "import time\n",
    "from math import *\n",
    "\n",
    "from scipy.sparse import csr_matrix\n",
    "\n",
    "# graph package\n",
    "import igraph as ig\n",
    "\n",
    "# our code\n",
    "sys.path.append(repo_directory + 'code/')\n",
    "from setup_data_dir import setup_data_dir, make_subnetwork_directory\n",
    "from pipeline.download_data import download_bulk_resource, download_master_edgelist, download_scdb\n",
    "from helpful_functions import case_info\n",
    "\n",
    "sys.path.append(repo_directory + 'vertex_metrics_experiment/code/')\n",
    "from rankscore_experiment_sort import *\n",
    "from rankscore_experiment_LR import *\n",
    "from rankscore_experiment_search import *\n",
    "from time_aware_pagerank import *\n",
    "\n",
    "\n",
    "from make_tr_edge_df import *\n",
    "\n",
    "# which network to download data for\n",
    "network_name = 'federal' # 'federal', 'ca1', etc\n",
    "\n",
    "\n",
    "# some sub directories that get used\n",
    "raw_dir = data_dir + 'raw/'\n",
    "subnet_dir = data_dir + network_name + '/'\n",
    "text_dir = subnet_dir + 'textfiles/'\n",
    "\n",
    "\n",
    "# jupyter notebook settings\n",
    "%load_ext autoreload\n",
    "%autoreload 2\n",
    "%matplotlib inline"
   ]
  },
  {
   "cell_type": "code",
   "execution_count": 2,
   "metadata": {
    "collapsed": true
   },
   "outputs": [],
   "source": [
    "# load scotes\n",
    "G = ig.Graph.Read_GraphML(subnet_dir + network_name +'_network.graphml')"
   ]
  },
  {
   "cell_type": "markdown",
   "metadata": {},
   "source": [
    "# small subgraph"
   ]
  },
  {
   "cell_type": "code",
   "execution_count": 3,
   "metadata": {
    "collapsed": false
   },
   "outputs": [],
   "source": [
    "# # get a small sugraph to work wit\n",
    "# np.random.seed(754) # 234, 754\n",
    "# v = G.vs[np.random.choice(range(len(G.vs)))]\n",
    "\n",
    "# subset_ids = G.neighborhood(v.index, order=2)\n",
    "# g = G.subgraph(subset_ids)\n",
    "\n",
    "# print '%d nodes' % len(g.vs)\n",
    "\n",
    "# A = np.array(g.get_adjacency().data)\n",
    "# years = np.array(g.vs['year']).astype(int)"
   ]
  },
  {
   "cell_type": "code",
   "execution_count": null,
   "metadata": {
    "collapsed": true
   },
   "outputs": [],
   "source": []
  },
  {
   "cell_type": "markdown",
   "metadata": {},
   "source": [
    "#  SCOTUS"
   ]
  },
  {
   "cell_type": "code",
   "execution_count": null,
   "metadata": {
    "collapsed": false
   },
   "outputs": [],
   "source": [
    "%%time\n",
    "A = np.array(G.get_adjacency().data)\n",
    "\n",
    "# np.save('scotus_adjmat', A)\n",
    "# A = np.load('scotus_adjmat.npy')\n",
    "# years = np.array(G.vs['year']).astype(int)"
   ]
  },
  {
   "cell_type": "markdown",
   "metadata": {},
   "source": [
    "# time aware pagerank"
   ]
  },
  {
   "cell_type": "code",
   "execution_count": null,
   "metadata": {
    "collapsed": true
   },
   "outputs": [],
   "source": [
    "p = .85\n",
    "qtv = .2\n",
    "qvt = .8"
   ]
  },
  {
   "cell_type": "code",
   "execution_count": null,
   "metadata": {
    "collapsed": false
   },
   "outputs": [],
   "source": [
    "%%time\n",
    "ta_pr, pr_year =  get_time_aware_pagerank(A, years, p, qtv, qvt)"
   ]
  },
  {
   "cell_type": "code",
   "execution_count": null,
   "metadata": {
    "collapsed": false
   },
   "outputs": [],
   "source": [
    "%%time\n",
    "pr = G.pagerank()"
   ]
  },
  {
   "cell_type": "code",
   "execution_count": null,
   "metadata": {
    "collapsed": false
   },
   "outputs": [],
   "source": [
    "plt.figure(figsize=[10, 10])\n",
    "n = len(ta_pr)\n",
    "m = len(pr_year)\n",
    "\n",
    "# plot pr vs ta_pr\n",
    "plt.subplot(2,2,1)\n",
    "plt.scatter(range(n), pr, color='blue', label='pr')\n",
    "plt.scatter(range(n), ta_pr, color='red', label='ta pr')\n",
    "plt.xlim([0, n])\n",
    "plt.ylim([0, 1.2 * max(max(ta_pr), max(pr))])\n",
    "plt.legend(loc='upper right')\n",
    "plt.xlabel('vertex')\n",
    "plt.ylabel('pr value')\n",
    "\n",
    "# plot time\n",
    "plt.subplot(2,2,2)\n",
    "plt.scatter(range(min(years), max(years) + 1), pr_year)\n",
    "plt.xlim([min(years), max(years) ])\n",
    "plt.ylim([0, 1.2 * max(pr_year)])\n",
    "plt.ylabel('pr value')\n",
    "plt.xlabel('year')\n",
    "\n",
    "# plot pr vs time\n",
    "plt.subplot(2,2,3)\n",
    "plt.scatter(years, pr)\n",
    "plt.xlim([min(years), max(years) ])\n",
    "plt.ylim([0, max(pr)])\n",
    "plt.ylabel('pr value')\n",
    "plt.xlabel('year')\n",
    "\n",
    "\n",
    "# plot ta pr vs time\n",
    "plt.subplot(2,2,4)\n",
    "plt.scatter(years, ta_pr)\n",
    "plt.xlim([min(years), max(years) ])\n",
    "plt.ylim([0, max(pr)])\n",
    "plt.ylabel('ta pr value')\n",
    "plt.xlabel('year')"
   ]
  },
  {
   "cell_type": "markdown",
   "metadata": {},
   "source": [
    "# vary qvts"
   ]
  },
  {
   "cell_type": "code",
   "execution_count": null,
   "metadata": {
    "collapsed": false
   },
   "outputs": [],
   "source": [
    "p = .85\n",
    "qtv = .3\n",
    "qvts = [.1, .3, .5, .7, .9]\n",
    "\n",
    "num_values = len(qvts)\n",
    "\n",
    "ta_prs = np.zeros((len(ta_pr), num_values))\n",
    "pr_years = np.zeros((len(pr_year), num_values))\n",
    "\n",
    "for i in range(num_values):\n",
    "    qvt = qvts[i]\n",
    "    ta_pr, pr_year =  get_time_aware_pagerank(A, years, p, qtv, qvt)\n",
    "    \n",
    "    pr_years[:, i] = pr_year\n",
    "    ta_prs[:, i] = ta_pr"
   ]
  },
  {
   "cell_type": "code",
   "execution_count": null,
   "metadata": {
    "collapsed": false
   },
   "outputs": [],
   "source": [
    "plt.figure(figsize=[10, 5])\n",
    "\n",
    "# plot some vertices\n",
    "plt.subplot(1,2,1)\n",
    "for i in range(500):\n",
    "    node = np.random.choice(range(A.shape[0]))\n",
    "    plt.plot(qvts,\n",
    "             ta_prs[node,: ],\n",
    "             alpha=.4)\n",
    "\n",
    "plt.xlabel('qvt')\n",
    "plt.ylabel('pr value')\n",
    "plt.xlim([min(qvts), max(qvts)])\n",
    "# plt.ylim([ta_prs.min(), ta_prs.max()])\n",
    "\n",
    "\n",
    "# plot year shape\n",
    "plt.subplot(1,2,2)\n",
    "for i in range(num_values):\n",
    "    # plot time\n",
    "    plt.plot(range(min(years), max(years) + 1),\n",
    "             pr_years[:, i],\n",
    "             label='qvt: %1.2f' % qvts[i])\n",
    "    \n",
    "plt.xlim([min(years), max(years) ])\n",
    "plt.ylim([0, 1.2 * pr_years.max()])\n",
    "plt.ylabel('pr value')\n",
    "plt.xlabel('year')\n",
    "plt.legend(loc='upper right')"
   ]
  },
  {
   "cell_type": "code",
   "execution_count": null,
   "metadata": {
    "collapsed": true
   },
   "outputs": [],
   "source": [
    "import seaborn.apionly as sns"
   ]
  },
  {
   "cell_type": "code",
   "execution_count": null,
   "metadata": {
    "collapsed": false
   },
   "outputs": [],
   "source": [
    "\n",
    "colors = sns.color_palette(\"Blues\",ta_prs.shape[1]- 1 )\n",
    "for i in range(ta_prs.shape[1]- 1):\n",
    "    plt.scatter(years,\n",
    "                ta_prs[:, i],\n",
    "                label='qvt: %1.2f' % qvts[i],\n",
    "                color=colors[i])\n",
    "\n",
    "plt.xlim([min(years), max(years) ])\n",
    "plt.ylim([0, .02])\n",
    "plt.ylabel('pr value')\n",
    "plt.xlabel('year')\n",
    "plt.legend(loc='upper right')"
   ]
  },
  {
   "cell_type": "code",
   "execution_count": null,
   "metadata": {
    "collapsed": true
   },
   "outputs": [],
   "source": []
  }
 ],
 "metadata": {
  "anaconda-cloud": {},
  "kernelspec": {
   "display_name": "Python 2",
   "language": "python",
   "name": "python2"
  },
  "language_info": {
   "codemirror_mode": {
    "name": "ipython",
    "version": 2
   },
   "file_extension": ".py",
   "mimetype": "text/x-python",
   "name": "python",
   "nbconvert_exporter": "python",
   "pygments_lexer": "ipython2",
   "version": "2.7.12"
  }
 },
 "nbformat": 4,
 "nbformat_minor": 0
}
