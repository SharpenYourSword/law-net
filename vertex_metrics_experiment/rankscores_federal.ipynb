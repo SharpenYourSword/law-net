{
 "cells": [
  {
   "cell_type": "code",
   "execution_count": 1,
   "metadata": {
    "collapsed": false
   },
   "outputs": [],
   "source": [
    "repo_directory = '/Users/iaincarmichael/Dropbox/Research/law/law-net/'\n",
    "\n",
    "data_dir = '/Users/iaincarmichael/Data/courtlistener/'\n",
    "\n",
    "import numpy as np\n",
    "import sys\n",
    "import matplotlib.pyplot as plt\n",
    "from scipy.stats import rankdata\n",
    "import cPickle as pickle\n",
    "\n",
    "# graph package\n",
    "import igraph as ig\n",
    "\n",
    "# our code\n",
    "sys.path.append(repo_directory + 'code/')\n",
    "from setup_data_dir import setup_data_dir, make_subnetwork_directory\n",
    "from pipeline.download_data import download_bulk_resource, download_master_edgelist, download_scdb\n",
    "from helpful_functions import case_info\n",
    "\n",
    "sys.path.append(repo_directory + 'vertex_metrics_experiment/code/')\n",
    "from rankscore_experiment_sort import *\n",
    "from rankscore_experiment_LR import *\n",
    "from rankscore_experiment_match import *\n",
    "\n",
    "from make_tr_edge_df import *\n",
    "\n",
    "\n",
    "# which network to download data for\n",
    "network_name = 'federal' # 'federal', 'ca1', etc\n",
    "\n",
    "\n",
    "# some sub directories that get used\n",
    "raw_dir = data_dir + 'raw/'\n",
    "subnet_dir = data_dir + network_name + '/'\n",
    "text_dir = subnet_dir + 'textfiles/'\n",
    "\n",
    "\n",
    "# jupyter notebook settings\n",
    "%load_ext autoreload\n",
    "%autoreload 2\n",
    "%matplotlib inline"
   ]
  },
  {
   "cell_type": "code",
   "execution_count": 2,
   "metadata": {
    "collapsed": true
   },
   "outputs": [],
   "source": [
    "G = ig.Graph.Read_GraphML(subnet_dir + network_name +'_network.graphml')"
   ]
  },
  {
   "cell_type": "markdown",
   "metadata": {},
   "source": [
    "## parameters from make snapshots"
   ]
  },
  {
   "cell_type": "code",
   "execution_count": 3,
   "metadata": {
    "collapsed": true
   },
   "outputs": [],
   "source": [
    "# vertex_metrics = ['indegree', 'outdegree', 'degree',\n",
    "#                   'd_pagerank','u_pagerank',\n",
    "#                   'authorities', 'hubs',\n",
    "#                   #'d_eigen', 'u_eigen', # d_eigen is being problematic\n",
    "#                   'u_eigen',\n",
    "#                   'd_betweenness', 'u_betweenness',\n",
    "#                   'd_closeness', 'u_closeness']\n",
    "\n",
    "# # add recent citations\n",
    "# vertex_metrics += ['recentcite_' + str(t) for t in np.arange(1, 10 + 1)]\n",
    "# vertex_metrics += ['recentcite_' + str(t) for t in [15, 20, 25, 30, 35, 40]]\n",
    "\n",
    "vertex_metrics = ['indegree', 'outdegree']\n",
    "\n",
    "vertex_metrics += ['age', 'similarity']\n",
    "\n",
    "\n",
    "vertex_metrics = ['indegree', 'outdegree']\n",
    "active_years = range(1900, 2015 + 1)"
   ]
  },
  {
   "cell_type": "markdown",
   "metadata": {},
   "source": [
    "## test parameters"
   ]
  },
  {
   "cell_type": "code",
   "execution_count": 4,
   "metadata": {
    "collapsed": false
   },
   "outputs": [],
   "source": [
    "test_seed = 4332,\n",
    "num_test_cases = 10\n",
    "\n",
    "test_cases = get_test_cases(G, active_years, num_test_cases, seed=test_seed)"
   ]
  },
  {
   "cell_type": "markdown",
   "metadata": {},
   "source": [
    "# rank by sorting"
   ]
  },
  {
   "cell_type": "code",
   "execution_count": 5,
   "metadata": {
    "collapsed": false,
    "scrolled": false
   },
   "outputs": [
    {
     "name": "stdout",
     "output_type": "stream",
     "text": [
      "CPU times: user 1min 13s, sys: 7.59 s, total: 1min 21s\n",
      "Wall time: 1min 21s\n"
     ]
    }
   ],
   "source": [
    "%%time \n",
    "rankloss_sort = get_rankscores_sort(G, test_cases, vertex_metrics, subnet_dir)"
   ]
  },
  {
   "cell_type": "code",
   "execution_count": 6,
   "metadata": {
    "collapsed": false
   },
   "outputs": [
    {
     "data": {
      "text/plain": [
       "indegree     0.176123\n",
       "outdegree    0.185956\n",
       "dtype: float64"
      ]
     },
     "execution_count": 6,
     "metadata": {},
     "output_type": "execute_result"
    }
   ],
   "source": [
    "MRS_sort = rankloss_sort['MRS'].mean().sort_values()\n",
    "RR_sort = rankloss_sort['RR'].mean().sort_values()\n",
    "PAK100_sort = rankloss_sort['PAK100'].mean().sort_values()\n",
    "PAK1000_sort = rankloss_sort['PAK1000'].mean().sort_values()\n",
    "\n",
    "MRS_sort"
   ]
  },
  {
   "cell_type": "code",
   "execution_count": 7,
   "metadata": {
    "collapsed": false
   },
   "outputs": [],
   "source": [
    "# histogram of scores\n",
    "\n",
    "# plt.figure(figsize=[20, 20])\n",
    "# k = 1\n",
    "# h = ceil(scores_sort.shape[1] / 4.0)\n",
    "# for c in sort_mean.index:\n",
    "#     plt.subplot(h, 4, k)\n",
    "#     plt.hist(scores_sort[c])\n",
    "#     plt.xlabel(c)\n",
    "    \n",
    "#     k += 1"
   ]
  },
  {
   "cell_type": "markdown",
   "metadata": {},
   "source": [
    "# Match"
   ]
  },
  {
   "cell_type": "code",
   "execution_count": 8,
   "metadata": {
    "collapsed": false
   },
   "outputs": [],
   "source": [
    "num_to_keep = 5000"
   ]
  },
  {
   "cell_type": "code",
   "execution_count": 9,
   "metadata": {
    "collapsed": false
   },
   "outputs": [
    {
     "name": "stdout",
     "output_type": "stream",
     "text": [
      "CPU times: user 6min 15s, sys: 2min 3s, total: 8min 18s\n",
      "Wall time: 9min 34s\n"
     ]
    }
   ],
   "source": [
    "%%time\n",
    "rankloss_match = get_rankscores_match(G, test_cases, vertex_metrics, subnet_dir, num_to_keep)"
   ]
  },
  {
   "cell_type": "code",
   "execution_count": 10,
   "metadata": {
    "collapsed": false
   },
   "outputs": [
    {
     "data": {
      "text/plain": [
       "indegree     0.237019\n",
       "outdegree    0.280063\n",
       "dtype: float64"
      ]
     },
     "execution_count": 10,
     "metadata": {},
     "output_type": "execute_result"
    }
   ],
   "source": [
    "MRS_match = rankloss_match['MRS'].mean().sort_values()\n",
    "RR_match = rankloss_match['RR'].mean().sort_values()\n",
    "PAK100_match = rankloss_match['PAK100'].mean().sort_values()\n",
    "PAK1000_match = rankloss_match['PAK1000'].mean().sort_values()\n",
    "\n",
    "MRS_match"
   ]
  },
  {
   "cell_type": "markdown",
   "metadata": {},
   "source": [
    "# logistic regression"
   ]
  },
  {
   "cell_type": "markdown",
   "metadata": {},
   "source": [
    "## make training data for logistic regression"
   ]
  },
  {
   "cell_type": "code",
   "execution_count": 11,
   "metadata": {
    "collapsed": true
   },
   "outputs": [],
   "source": [
    "# how many abset edges to add\n",
    "num_absent_edges = len(G.es)\n",
    "seed_edge_df = 32432\n",
    "\n",
    "# how to normalize yearly metrics\n",
    "metric_normalization = 'mean'"
   ]
  },
  {
   "cell_type": "code",
   "execution_count": 30,
   "metadata": {
    "collapsed": false
   },
   "outputs": [
    {
     "name": "stdout",
     "output_type": "stream",
     "text": [
      "CPU times: user 3 µs, sys: 1e+03 ns, total: 4 µs\n",
      "Wall time: 7.87 µs\n"
     ]
    }
   ],
   "source": [
    "%%time \n",
    "\n",
    "# make_tr_edge_df(G, subnet_dir,\n",
    "#                 active_years, num_absent_edges,\n",
    "#                 vertex_metrics, metric_normalization,\n",
    "#                 seed=seed_edge_df)"
   ]
  },
  {
   "cell_type": "markdown",
   "metadata": {},
   "source": [
    "## rank by logistic regression"
   ]
  },
  {
   "cell_type": "code",
   "execution_count": 31,
   "metadata": {
    "collapsed": false
   },
   "outputs": [
    {
     "name": "stdout",
     "output_type": "stream",
     "text": [
      "CPU times: user 4min 52s, sys: 35.1 s, total: 5min 27s\n",
      "Wall time: 5min 27s\n"
     ]
    }
   ],
   "source": [
    "%%time\n",
    "rankloss_LR, LogRegs = get_rankscores_LR(G, test_cases, vertex_metrics, subnet_dir,\n",
    "                                         metric_normalization)              "
   ]
  },
  {
   "cell_type": "code",
   "execution_count": 61,
   "metadata": {
    "collapsed": false
   },
   "outputs": [
    {
     "data": {
      "text/plain": [
       "u_betweenness    0.320712\n",
       "d_betweenness    0.389026\n",
       "u_closeness      0.580034\n",
       "d_closeness      0.583389\n",
       "u_pagerank       0.588722\n",
       "d_pagerank       0.630018\n",
       "authorities      0.831034\n",
       "u_eigen          0.850612\n",
       "hubs             0.858392\n",
       "degree           0.889295\n",
       "recentcite_20    0.894102\n",
       "recentcite_15    0.896261\n",
       "recentcite_30    0.896953\n",
       "recentcite_25    0.897073\n",
       "outdegree        0.898077\n",
       "recentcite_35    0.899801\n",
       "recentcite_40    0.903414\n",
       "indegree         0.912617\n",
       "recentcite_10    0.915899\n",
       "recentcite_9     0.921747\n",
       "recentcite_8     0.928158\n",
       "recentcite_7     0.934804\n",
       "recentcite_6     0.943219\n",
       "recentcite_1     0.944017\n",
       "recentcite_5     0.952080\n",
       "similarity       0.954872\n",
       "recentcite_2     0.956526\n",
       "recentcite_4     0.957748\n",
       "age              0.959504\n",
       "recentcite_3     0.959609\n",
       "dtype: float64"
      ]
     },
     "execution_count": 61,
     "metadata": {},
     "output_type": "execute_result"
    }
   ],
   "source": [
    "MRS_LR = rankloss_LR['MRS'].mean().sort_values()\n",
    "RR_LR = rankloss_LR['RR'].mean().sort_values()\n",
    "PAK100_LR = rankloss_LR['PAK100'].mean().sort_values()\n",
    "PAK1000_LR = rankloss_LR['PAK1000'].mean().sort_values()\n",
    "\n",
    "MRS_LR"
   ]
  },
  {
   "cell_type": "markdown",
   "metadata": {},
   "source": [
    "# cache results"
   ]
  },
  {
   "cell_type": "code",
   "execution_count": 34,
   "metadata": {
    "collapsed": true
   },
   "outputs": [],
   "source": [
    "with open(subnet_dir + 'results/rankloss_sort.p', 'wb') as fp:\n",
    "    pickle.dump(rankloss_sort, fp)\n",
    "    \n",
    "with open(subnet_dir + 'results/rankloss_match.p', 'wb') as fp:\n",
    "    pickle.dump(rankloss_match, fp)\n",
    "\n",
    "with open(subnet_dir + 'results/rankloss_LR.p', 'wb') as fp:\n",
    "    pickle.dump(rankloss_LR, fp)\n",
    "    \n",
    "with open(subnet_dir + 'results/LogRegs.p', 'wb') as fp:\n",
    "    pickle.dump(LogRegs, fp)"
   ]
  },
  {
   "cell_type": "code",
   "execution_count": 36,
   "metadata": {
    "collapsed": true
   },
   "outputs": [],
   "source": [
    "rankloss_sort = pickle.load( open( subnet_dir + 'results/rankloss_sort.p', \"rb\" ) )\n",
    "rankloss_match = pickle.load( open( subnet_dir + 'results/rankloss_match.p', \"rb\" ) )\n",
    "rankloss_LR = pickle.load( open( subnet_dir + 'results/rankloss_LR.p', \"rb\" ) )\n",
    "LogRegs = pickle.load( open( subnet_dir + 'results/LogRegs.p', \"rb\" ) )"
   ]
  },
  {
   "cell_type": "code",
   "execution_count": 24,
   "metadata": {
    "collapsed": false
   },
   "outputs": [],
   "source": [
    "# scores_sort.to_csv(subnet_dir + 'results/scores_sort.csv', index=True)\n",
    "# scores_search.to_csv(subnet_dir + 'results/scores_search.csv', index=True)\n",
    "# scores_LR.to_csv(subnet_dir + 'results/scores_LR.csv', index=True)\n",
    "# scores_LR_logloss.to_csv(subnet_dir + 'results/scores_LR_logloss.csv', index=True)\n",
    "\n",
    "# with open(subnet_dir + 'results/LogRegs.p', 'wb') as fp:\n",
    "#     pickle.dump(LogRegs, fp)\n"
   ]
  },
  {
   "cell_type": "markdown",
   "metadata": {},
   "source": [
    "# results"
   ]
  },
  {
   "cell_type": "code",
   "execution_count": 62,
   "metadata": {
    "collapsed": false
   },
   "outputs": [],
   "source": [
    "df_metric = pd.DataFrame(columns=['sort', 'match', 'LR'],\n",
    "                         index = range(len(vertex_metrics)))\n",
    "\n",
    "df_metric['sort'] = MRS_sort.index\n",
    "df_metric['match'] = MRS_match.index\n",
    "df_metric['LR'] = MRS_LR.index\n",
    "\n",
    "df_metric"
   ]
  },
  {
   "cell_type": "code",
   "execution_count": 69,
   "metadata": {
    "collapsed": false
   },
   "outputs": [],
   "source": [
    "rankscores = pd.DataFrame(columns=['sort', 'match', 'LR'],\n",
    "                         index = vertex_metrics)\n",
    "\n",
    "rankscores['sort'] = MRS_sort\n",
    "rankscores['match'] = MRS_match\n",
    "rankscores['LR'] = MRS_LR"
   ]
  },
  {
   "cell_type": "code",
   "execution_count": 72,
   "metadata": {
    "collapsed": false
   },
   "outputs": [
    {
     "data": {
      "text/html": [
       "<div>\n",
       "<table border=\"1\" class=\"dataframe\">\n",
       "  <thead>\n",
       "    <tr style=\"text-align: right;\">\n",
       "      <th></th>\n",
       "      <th>sort</th>\n",
       "      <th>match</th>\n",
       "      <th>LR</th>\n",
       "    </tr>\n",
       "  </thead>\n",
       "  <tbody>\n",
       "    <tr>\n",
       "      <th>similarity</th>\n",
       "      <td>0.045186</td>\n",
       "      <td>0.087850</td>\n",
       "      <td>0.954872</td>\n",
       "    </tr>\n",
       "    <tr>\n",
       "      <th>age</th>\n",
       "      <td>0.203464</td>\n",
       "      <td>0.272298</td>\n",
       "      <td>0.959504</td>\n",
       "    </tr>\n",
       "    <tr>\n",
       "      <th>recentcite_7</th>\n",
       "      <td>0.209990</td>\n",
       "      <td>0.288943</td>\n",
       "      <td>0.934804</td>\n",
       "    </tr>\n",
       "    <tr>\n",
       "      <th>recentcite_6</th>\n",
       "      <td>0.210109</td>\n",
       "      <td>0.285066</td>\n",
       "      <td>0.943219</td>\n",
       "    </tr>\n",
       "    <tr>\n",
       "      <th>recentcite_8</th>\n",
       "      <td>0.210439</td>\n",
       "      <td>0.290901</td>\n",
       "      <td>0.928158</td>\n",
       "    </tr>\n",
       "    <tr>\n",
       "      <th>recentcite_5</th>\n",
       "      <td>0.213641</td>\n",
       "      <td>0.286009</td>\n",
       "      <td>0.952080</td>\n",
       "    </tr>\n",
       "    <tr>\n",
       "      <th>recentcite_9</th>\n",
       "      <td>0.213744</td>\n",
       "      <td>0.297070</td>\n",
       "      <td>0.921747</td>\n",
       "    </tr>\n",
       "    <tr>\n",
       "      <th>u_eigen</th>\n",
       "      <td>0.214163</td>\n",
       "      <td>0.336644</td>\n",
       "      <td>0.850612</td>\n",
       "    </tr>\n",
       "    <tr>\n",
       "      <th>recentcite_10</th>\n",
       "      <td>0.214385</td>\n",
       "      <td>0.301320</td>\n",
       "      <td>0.915899</td>\n",
       "    </tr>\n",
       "    <tr>\n",
       "      <th>recentcite_4</th>\n",
       "      <td>0.223274</td>\n",
       "      <td>0.291334</td>\n",
       "      <td>0.957748</td>\n",
       "    </tr>\n",
       "    <tr>\n",
       "      <th>hubs</th>\n",
       "      <td>0.224445</td>\n",
       "      <td>0.338221</td>\n",
       "      <td>0.858392</td>\n",
       "    </tr>\n",
       "    <tr>\n",
       "      <th>recentcite_15</th>\n",
       "      <td>0.226459</td>\n",
       "      <td>0.317860</td>\n",
       "      <td>0.896261</td>\n",
       "    </tr>\n",
       "    <tr>\n",
       "      <th>recentcite_3</th>\n",
       "      <td>0.234811</td>\n",
       "      <td>0.296397</td>\n",
       "      <td>0.959609</td>\n",
       "    </tr>\n",
       "    <tr>\n",
       "      <th>degree</th>\n",
       "      <td>0.235087</td>\n",
       "      <td>0.367391</td>\n",
       "      <td>0.889295</td>\n",
       "    </tr>\n",
       "    <tr>\n",
       "      <th>recentcite_20</th>\n",
       "      <td>0.235906</td>\n",
       "      <td>0.333106</td>\n",
       "      <td>0.894102</td>\n",
       "    </tr>\n",
       "    <tr>\n",
       "      <th>u_closeness</th>\n",
       "      <td>0.237946</td>\n",
       "      <td>0.384502</td>\n",
       "      <td>0.580034</td>\n",
       "    </tr>\n",
       "    <tr>\n",
       "      <th>outdegree</th>\n",
       "      <td>0.239978</td>\n",
       "      <td>0.358193</td>\n",
       "      <td>0.898077</td>\n",
       "    </tr>\n",
       "    <tr>\n",
       "      <th>recentcite_25</th>\n",
       "      <td>0.251798</td>\n",
       "      <td>0.352149</td>\n",
       "      <td>0.897073</td>\n",
       "    </tr>\n",
       "    <tr>\n",
       "      <th>recentcite_2</th>\n",
       "      <td>0.256311</td>\n",
       "      <td>0.312719</td>\n",
       "      <td>0.956526</td>\n",
       "    </tr>\n",
       "    <tr>\n",
       "      <th>recentcite_30</th>\n",
       "      <td>0.261893</td>\n",
       "      <td>0.364618</td>\n",
       "      <td>0.896953</td>\n",
       "    </tr>\n",
       "    <tr>\n",
       "      <th>u_pagerank</th>\n",
       "      <td>0.268186</td>\n",
       "      <td>0.391528</td>\n",
       "      <td>0.588722</td>\n",
       "    </tr>\n",
       "    <tr>\n",
       "      <th>recentcite_1</th>\n",
       "      <td>0.269283</td>\n",
       "      <td>0.314620</td>\n",
       "      <td>0.944017</td>\n",
       "    </tr>\n",
       "    <tr>\n",
       "      <th>recentcite_35</th>\n",
       "      <td>0.273660</td>\n",
       "      <td>0.376324</td>\n",
       "      <td>0.899801</td>\n",
       "    </tr>\n",
       "    <tr>\n",
       "      <th>recentcite_40</th>\n",
       "      <td>0.284319</td>\n",
       "      <td>0.386866</td>\n",
       "      <td>0.903414</td>\n",
       "    </tr>\n",
       "    <tr>\n",
       "      <th>authorities</th>\n",
       "      <td>0.288553</td>\n",
       "      <td>0.403309</td>\n",
       "      <td>0.831034</td>\n",
       "    </tr>\n",
       "    <tr>\n",
       "      <th>u_betweenness</th>\n",
       "      <td>0.295292</td>\n",
       "      <td>0.421226</td>\n",
       "      <td>0.320712</td>\n",
       "    </tr>\n",
       "    <tr>\n",
       "      <th>d_betweenness</th>\n",
       "      <td>0.308325</td>\n",
       "      <td>0.414885</td>\n",
       "      <td>0.389026</td>\n",
       "    </tr>\n",
       "    <tr>\n",
       "      <th>indegree</th>\n",
       "      <td>0.335238</td>\n",
       "      <td>0.433837</td>\n",
       "      <td>0.912617</td>\n",
       "    </tr>\n",
       "    <tr>\n",
       "      <th>d_pagerank</th>\n",
       "      <td>0.410735</td>\n",
       "      <td>0.486673</td>\n",
       "      <td>0.630018</td>\n",
       "    </tr>\n",
       "    <tr>\n",
       "      <th>d_closeness</th>\n",
       "      <td>0.538128</td>\n",
       "      <td>0.594740</td>\n",
       "      <td>0.583389</td>\n",
       "    </tr>\n",
       "  </tbody>\n",
       "</table>\n",
       "</div>"
      ],
      "text/plain": [
       "                   sort     match        LR\n",
       "similarity     0.045186  0.087850  0.954872\n",
       "age            0.203464  0.272298  0.959504\n",
       "recentcite_7   0.209990  0.288943  0.934804\n",
       "recentcite_6   0.210109  0.285066  0.943219\n",
       "recentcite_8   0.210439  0.290901  0.928158\n",
       "recentcite_5   0.213641  0.286009  0.952080\n",
       "recentcite_9   0.213744  0.297070  0.921747\n",
       "u_eigen        0.214163  0.336644  0.850612\n",
       "recentcite_10  0.214385  0.301320  0.915899\n",
       "recentcite_4   0.223274  0.291334  0.957748\n",
       "hubs           0.224445  0.338221  0.858392\n",
       "recentcite_15  0.226459  0.317860  0.896261\n",
       "recentcite_3   0.234811  0.296397  0.959609\n",
       "degree         0.235087  0.367391  0.889295\n",
       "recentcite_20  0.235906  0.333106  0.894102\n",
       "u_closeness    0.237946  0.384502  0.580034\n",
       "outdegree      0.239978  0.358193  0.898077\n",
       "recentcite_25  0.251798  0.352149  0.897073\n",
       "recentcite_2   0.256311  0.312719  0.956526\n",
       "recentcite_30  0.261893  0.364618  0.896953\n",
       "u_pagerank     0.268186  0.391528  0.588722\n",
       "recentcite_1   0.269283  0.314620  0.944017\n",
       "recentcite_35  0.273660  0.376324  0.899801\n",
       "recentcite_40  0.284319  0.386866  0.903414\n",
       "authorities    0.288553  0.403309  0.831034\n",
       "u_betweenness  0.295292  0.421226  0.320712\n",
       "d_betweenness  0.308325  0.414885  0.389026\n",
       "indegree       0.335238  0.433837  0.912617\n",
       "d_pagerank     0.410735  0.486673  0.630018\n",
       "d_closeness    0.538128  0.594740  0.583389"
      ]
     },
     "execution_count": 72,
     "metadata": {},
     "output_type": "execute_result"
    }
   ],
   "source": [
    "rankscores.sort_values(by='sort', ascending=True)"
   ]
  },
  {
   "cell_type": "code",
   "execution_count": 73,
   "metadata": {
    "collapsed": false
   },
   "outputs": [],
   "source": [
    "rs_ranking = rankscores.apply(lambda c: rankdata(c))"
   ]
  },
  {
   "cell_type": "code",
   "execution_count": 74,
   "metadata": {
    "collapsed": false
   },
   "outputs": [
    {
     "data": {
      "text/html": [
       "<div>\n",
       "<table border=\"1\" class=\"dataframe\">\n",
       "  <thead>\n",
       "    <tr style=\"text-align: right;\">\n",
       "      <th></th>\n",
       "      <th>sort</th>\n",
       "      <th>match</th>\n",
       "      <th>LR</th>\n",
       "    </tr>\n",
       "  </thead>\n",
       "  <tbody>\n",
       "    <tr>\n",
       "      <th>similarity</th>\n",
       "      <td>1.0</td>\n",
       "      <td>1.0</td>\n",
       "      <td>26.0</td>\n",
       "    </tr>\n",
       "    <tr>\n",
       "      <th>age</th>\n",
       "      <td>2.0</td>\n",
       "      <td>2.0</td>\n",
       "      <td>29.0</td>\n",
       "    </tr>\n",
       "    <tr>\n",
       "      <th>recentcite_7</th>\n",
       "      <td>3.0</td>\n",
       "      <td>5.0</td>\n",
       "      <td>22.0</td>\n",
       "    </tr>\n",
       "    <tr>\n",
       "      <th>recentcite_6</th>\n",
       "      <td>4.0</td>\n",
       "      <td>3.0</td>\n",
       "      <td>23.0</td>\n",
       "    </tr>\n",
       "    <tr>\n",
       "      <th>recentcite_8</th>\n",
       "      <td>5.0</td>\n",
       "      <td>6.0</td>\n",
       "      <td>21.0</td>\n",
       "    </tr>\n",
       "    <tr>\n",
       "      <th>recentcite_5</th>\n",
       "      <td>6.0</td>\n",
       "      <td>4.0</td>\n",
       "      <td>25.0</td>\n",
       "    </tr>\n",
       "    <tr>\n",
       "      <th>recentcite_9</th>\n",
       "      <td>7.0</td>\n",
       "      <td>9.0</td>\n",
       "      <td>20.0</td>\n",
       "    </tr>\n",
       "    <tr>\n",
       "      <th>u_eigen</th>\n",
       "      <td>8.0</td>\n",
       "      <td>15.0</td>\n",
       "      <td>8.0</td>\n",
       "    </tr>\n",
       "    <tr>\n",
       "      <th>recentcite_10</th>\n",
       "      <td>9.0</td>\n",
       "      <td>10.0</td>\n",
       "      <td>19.0</td>\n",
       "    </tr>\n",
       "    <tr>\n",
       "      <th>recentcite_4</th>\n",
       "      <td>10.0</td>\n",
       "      <td>7.0</td>\n",
       "      <td>28.0</td>\n",
       "    </tr>\n",
       "    <tr>\n",
       "      <th>hubs</th>\n",
       "      <td>11.0</td>\n",
       "      <td>16.0</td>\n",
       "      <td>9.0</td>\n",
       "    </tr>\n",
       "    <tr>\n",
       "      <th>recentcite_15</th>\n",
       "      <td>12.0</td>\n",
       "      <td>13.0</td>\n",
       "      <td>12.0</td>\n",
       "    </tr>\n",
       "    <tr>\n",
       "      <th>recentcite_3</th>\n",
       "      <td>13.0</td>\n",
       "      <td>8.0</td>\n",
       "      <td>30.0</td>\n",
       "    </tr>\n",
       "    <tr>\n",
       "      <th>degree</th>\n",
       "      <td>14.0</td>\n",
       "      <td>20.0</td>\n",
       "      <td>10.0</td>\n",
       "    </tr>\n",
       "    <tr>\n",
       "      <th>recentcite_20</th>\n",
       "      <td>15.0</td>\n",
       "      <td>14.0</td>\n",
       "      <td>11.0</td>\n",
       "    </tr>\n",
       "    <tr>\n",
       "      <th>u_closeness</th>\n",
       "      <td>16.0</td>\n",
       "      <td>22.0</td>\n",
       "      <td>3.0</td>\n",
       "    </tr>\n",
       "    <tr>\n",
       "      <th>outdegree</th>\n",
       "      <td>17.0</td>\n",
       "      <td>18.0</td>\n",
       "      <td>15.0</td>\n",
       "    </tr>\n",
       "    <tr>\n",
       "      <th>recentcite_25</th>\n",
       "      <td>18.0</td>\n",
       "      <td>17.0</td>\n",
       "      <td>14.0</td>\n",
       "    </tr>\n",
       "    <tr>\n",
       "      <th>recentcite_2</th>\n",
       "      <td>19.0</td>\n",
       "      <td>11.0</td>\n",
       "      <td>27.0</td>\n",
       "    </tr>\n",
       "    <tr>\n",
       "      <th>recentcite_30</th>\n",
       "      <td>20.0</td>\n",
       "      <td>19.0</td>\n",
       "      <td>13.0</td>\n",
       "    </tr>\n",
       "    <tr>\n",
       "      <th>u_pagerank</th>\n",
       "      <td>21.0</td>\n",
       "      <td>24.0</td>\n",
       "      <td>5.0</td>\n",
       "    </tr>\n",
       "    <tr>\n",
       "      <th>recentcite_1</th>\n",
       "      <td>22.0</td>\n",
       "      <td>12.0</td>\n",
       "      <td>24.0</td>\n",
       "    </tr>\n",
       "    <tr>\n",
       "      <th>recentcite_35</th>\n",
       "      <td>23.0</td>\n",
       "      <td>21.0</td>\n",
       "      <td>16.0</td>\n",
       "    </tr>\n",
       "    <tr>\n",
       "      <th>recentcite_40</th>\n",
       "      <td>24.0</td>\n",
       "      <td>23.0</td>\n",
       "      <td>17.0</td>\n",
       "    </tr>\n",
       "    <tr>\n",
       "      <th>authorities</th>\n",
       "      <td>25.0</td>\n",
       "      <td>25.0</td>\n",
       "      <td>7.0</td>\n",
       "    </tr>\n",
       "    <tr>\n",
       "      <th>u_betweenness</th>\n",
       "      <td>26.0</td>\n",
       "      <td>27.0</td>\n",
       "      <td>1.0</td>\n",
       "    </tr>\n",
       "    <tr>\n",
       "      <th>d_betweenness</th>\n",
       "      <td>27.0</td>\n",
       "      <td>26.0</td>\n",
       "      <td>2.0</td>\n",
       "    </tr>\n",
       "    <tr>\n",
       "      <th>indegree</th>\n",
       "      <td>28.0</td>\n",
       "      <td>28.0</td>\n",
       "      <td>18.0</td>\n",
       "    </tr>\n",
       "    <tr>\n",
       "      <th>d_pagerank</th>\n",
       "      <td>29.0</td>\n",
       "      <td>29.0</td>\n",
       "      <td>6.0</td>\n",
       "    </tr>\n",
       "    <tr>\n",
       "      <th>d_closeness</th>\n",
       "      <td>30.0</td>\n",
       "      <td>30.0</td>\n",
       "      <td>4.0</td>\n",
       "    </tr>\n",
       "  </tbody>\n",
       "</table>\n",
       "</div>"
      ],
      "text/plain": [
       "               sort  match    LR\n",
       "similarity      1.0    1.0  26.0\n",
       "age             2.0    2.0  29.0\n",
       "recentcite_7    3.0    5.0  22.0\n",
       "recentcite_6    4.0    3.0  23.0\n",
       "recentcite_8    5.0    6.0  21.0\n",
       "recentcite_5    6.0    4.0  25.0\n",
       "recentcite_9    7.0    9.0  20.0\n",
       "u_eigen         8.0   15.0   8.0\n",
       "recentcite_10   9.0   10.0  19.0\n",
       "recentcite_4   10.0    7.0  28.0\n",
       "hubs           11.0   16.0   9.0\n",
       "recentcite_15  12.0   13.0  12.0\n",
       "recentcite_3   13.0    8.0  30.0\n",
       "degree         14.0   20.0  10.0\n",
       "recentcite_20  15.0   14.0  11.0\n",
       "u_closeness    16.0   22.0   3.0\n",
       "outdegree      17.0   18.0  15.0\n",
       "recentcite_25  18.0   17.0  14.0\n",
       "recentcite_2   19.0   11.0  27.0\n",
       "recentcite_30  20.0   19.0  13.0\n",
       "u_pagerank     21.0   24.0   5.0\n",
       "recentcite_1   22.0   12.0  24.0\n",
       "recentcite_35  23.0   21.0  16.0\n",
       "recentcite_40  24.0   23.0  17.0\n",
       "authorities    25.0   25.0   7.0\n",
       "u_betweenness  26.0   27.0   1.0\n",
       "d_betweenness  27.0   26.0   2.0\n",
       "indegree       28.0   28.0  18.0\n",
       "d_pagerank     29.0   29.0   6.0\n",
       "d_closeness    30.0   30.0   4.0"
      ]
     },
     "execution_count": 74,
     "metadata": {},
     "output_type": "execute_result"
    }
   ],
   "source": [
    "rs_ranking.sort_values(by='sort')"
   ]
  },
  {
   "cell_type": "code",
   "execution_count": null,
   "metadata": {
    "collapsed": true
   },
   "outputs": [],
   "source": []
  }
 ],
 "metadata": {
  "anaconda-cloud": {},
  "kernelspec": {
   "display_name": "Python [default]",
   "language": "python",
   "name": "python2"
  },
  "language_info": {
   "codemirror_mode": {
    "name": "ipython",
    "version": 2
   },
   "file_extension": ".py",
   "mimetype": "text/x-python",
   "name": "python",
   "nbconvert_exporter": "python",
   "pygments_lexer": "ipython2",
   "version": "2.7.12"
  }
 },
 "nbformat": 4,
 "nbformat_minor": 0
}
