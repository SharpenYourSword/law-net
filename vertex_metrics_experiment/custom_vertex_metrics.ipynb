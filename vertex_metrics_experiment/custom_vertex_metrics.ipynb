{
 "cells": [
  {
   "cell_type": "code",
   "execution_count": 17,
   "metadata": {
    "collapsed": false
   },
   "outputs": [
    {
     "name": "stdout",
     "output_type": "stream",
     "text": [
      "The autoreload extension is already loaded. To reload it, use:\n",
      "  %reload_ext autoreload\n"
     ]
    }
   ],
   "source": [
    "repo_directory = '/Users/iaincarmichael/Dropbox/Research/law/law-net/'\n",
    "data_dir = '/Users/iaincarmichael/data/courtlistener/'\n",
    "\n",
    "import os\n",
    "import sys\n",
    "import time\n",
    "from math import *\n",
    "import copy\n",
    "import cPickle as pickle\n",
    "\n",
    "# data\n",
    "import numpy as np\n",
    "import pandas as pd\n",
    "\n",
    "# viz\n",
    "import matplotlib.pyplot as plt\n",
    "\n",
    "\n",
    "# graph\n",
    "import igraph as ig\n",
    "\n",
    "\n",
    "# our code\n",
    "sys.path.append(repo_directory + 'code/')\n",
    "from pipeline.download_data import *\n",
    "from pipeline.make_raw_case_metadata import *\n",
    "from helpful_functions import case_info\n",
    "\n",
    "sys.path.append(repo_directory + 'vertex_metrics_experiment/code/')\n",
    "from make_case_text_files import *\n",
    "from custom_vertex_metrics import get_CiteRankPoly, get_CiteRank\n",
    "\n",
    "\n",
    "# court\n",
    "court = 'scotus'\n",
    "network_name = 'scotus'\n",
    "\n",
    "# directory set up\n",
    "experiment_data_dir = data_dir + 'scotus/'\n",
    "text_dir = experiment_data_dir + 'textfiles/'\n",
    "\n",
    "\n",
    "\n",
    "# jupyter notebook settings\n",
    "%load_ext autoreload\n",
    "%autoreload 2\n",
    "%matplotlib inline"
   ]
  },
  {
   "cell_type": "code",
   "execution_count": 18,
   "metadata": {
    "collapsed": false
   },
   "outputs": [],
   "source": [
    "G = ig.Graph.Read_GraphML(experiment_data_dir + 'scotus_network.graphml')"
   ]
  },
  {
   "cell_type": "markdown",
   "metadata": {},
   "source": [
    "# recent degree"
   ]
  },
  {
   "cell_type": "code",
   "execution_count": 17,
   "metadata": {
    "collapsed": true
   },
   "outputs": [],
   "source": [
    "def get_vertex_recent_citations(v, threshold_year):\n",
    "    return len([ing for ing in v.neighbors(mode=\"IN\") if threshold_year <= ing['year']])"
   ]
  },
  {
   "cell_type": "code",
   "execution_count": 34,
   "metadata": {
    "collapsed": false
   },
   "outputs": [],
   "source": [
    "def get_recent_citations(G, current_year, threshold):\n",
    "    \"\"\"\n",
    "    Number of citations in past T years\n",
    "    \n",
    "    Parameters\n",
    "    ---------\n",
    "    G: igraph object with 'year' vertex attributes\n",
    "    \n",
    "    current_year: current year\n",
    "    \n",
    "    threshold: how many years before to look\n",
    "    \n",
    "    Output\n",
    "    ------\n",
    "    Returns a list ordered by ig index of recent citations\n",
    "    \n",
    "    i.e. number citations that happend after current_year - threshold\n",
    "    \"\"\"\n",
    "    threshold_year = current_year - threshold\n",
    "    return [get_vertex_recent_citations(v, threshold_year) for v in G.vs]"
   ]
  },
  {
   "cell_type": "code",
   "execution_count": 9,
   "metadata": {
    "collapsed": true
   },
   "outputs": [],
   "source": [
    "rd = get_recent_degrees(G, current_year=2016, threshold=10)"
   ]
  },
  {
   "cell_type": "code",
   "execution_count": 33,
   "metadata": {
    "collapsed": false
   },
   "outputs": [],
   "source": [
    "thresholds =  5 * np.arange(1, 21)\n",
    "current_year = 2016\n",
    "\n",
    "\n",
    "i = 5320\n",
    "rcs = [get_recent_citations(G, current_year, threshold=T)[i] for T in thresholds]"
   ]
  },
  {
   "cell_type": "code",
   "execution_count": 35,
   "metadata": {
    "collapsed": false
   },
   "outputs": [
    {
     "data": {
      "text/plain": [
       "<matplotlib.collections.PathCollection at 0x116bf2390>"
      ]
     },
     "execution_count": 35,
     "metadata": {},
     "output_type": "execute_result"
    },
    {
     "data": {
      "image/png": "[encoded data removed]",
      "text/plain": [
       "<matplotlib.figure.Figure at 0x116c575d0>"
      ]
     },
     "metadata": {},
     "output_type": "display_data"
    }
   ],
   "source": [
    "plt.scatter(current_year - thresholds, rcs)"
   ]
  },
  {
   "cell_type": "code",
   "execution_count": 38,
   "metadata": {
    "collapsed": true
   },
   "outputs": [],
   "source": [
    "metric ='recentcite_10'"
   ]
  },
  {
   "cell_type": "code",
   "execution_count": 39,
   "metadata": {
    "collapsed": true
   },
   "outputs": [],
   "source": [
    "c = create_metric_column(G, metric, year=2016)"
   ]
  },
  {
   "cell_type": "markdown",
   "metadata": {},
   "source": [
    "# h index"
   ]
  },
  {
   "cell_type": "code",
   "execution_count": 105,
   "metadata": {
    "collapsed": true
   },
   "outputs": [],
   "source": [
    "v = G.vs[798]\n",
    "h = 2"
   ]
  },
  {
   "cell_type": "code",
   "execution_count": 239,
   "metadata": {
    "collapsed": false
   },
   "outputs": [],
   "source": [
    "\n",
    "def get_vertex_recent_hindex(v):\n",
    "    \"\"\"\n",
    "    Naive implementation: SUPER SLOW (no 100% sure I did this right)\n",
    "    TODO: implement this in a less dumb way\n",
    "    \"\"\"\n",
    "    MAXITER = 1e4\n",
    "    \n",
    "    # neighbors of v\n",
    "    citations = v.neighbors(mode='IN')\n",
    "\n",
    "    h = 1\n",
    "    keep_going = True\n",
    "    \n",
    "    if len(citations) == 0:\n",
    "        return 0\n",
    "    else:\n",
    "        i = 0\n",
    "        while keep_going and i <= MAXITER:\n",
    "            i += 1\n",
    "            # if v has at least h citations\n",
    "            if len(citations) > h: \n",
    "                # who each have at least h citation\n",
    "                if len([c for c in citations if len(c.neighbors(mode=\"IN\")) >= h]) <= h:\n",
    "                    keep_going = False\n",
    "            else:\n",
    "                keep_going = False\n",
    "        return h"
   ]
  },
  {
   "cell_type": "code",
   "execution_count": 240,
   "metadata": {
    "collapsed": false
   },
   "outputs": [],
   "source": [
    "def get_hindex(G):\n",
    "    return [get_vertex_recent_hindex(v) for v in G.vs]"
   ]
  },
  {
   "cell_type": "code",
   "execution_count": 241,
   "metadata": {
    "collapsed": false
   },
   "outputs": [
    {
     "name": "stdout",
     "output_type": "stream",
     "text": [
      "CPU times: user 1h 35min 35s, sys: 2min 23s, total: 1h 37min 59s\n",
      "Wall time: 1h 37min 3s\n"
     ]
    }
   ],
   "source": [
    "%time hindx = get_hindex(G)"
   ]
  },
  {
   "cell_type": "markdown",
   "metadata": {},
   "source": [
    "# CiteRank"
   ]
  },
  {
   "cell_type": "code",
   "execution_count": 12,
   "metadata": {
    "collapsed": false
   },
   "outputs": [],
   "source": [
    "n = len(G.vs)\n",
    "\n",
    "p = .85\n",
    "reset = [1.0/n] * n\n",
    "pp = G.personalized_pagerank(damping=p, reset=reset)\n",
    "\n",
    "pr = G.pagerank()"
   ]
  },
  {
   "cell_type": "code",
   "execution_count": 17,
   "metadata": {
    "collapsed": false
   },
   "outputs": [],
   "source": []
  },
  {
   "cell_type": "code",
   "execution_count": 35,
   "metadata": {
    "collapsed": false
   },
   "outputs": [],
   "source": [
    "p = .85\n",
    "current_year = 2016\n",
    "half_life = 5.0\n",
    "\n",
    "def get_CiteRank(G, half_life, p=.85):\n",
    "    \n",
    "    half_life = float(half_life)\n",
    "    \n",
    "    # years of each case\n",
    "    years = np.array(G.vs['year'])\n",
    "    current_year = max(years)\n",
    "\n",
    "    # compute exponentially decaying probabilities\n",
    "    ages = current_year - years\n",
    "    exp_weights = 2 ** (- ages/half_life)\n",
    "    probs = exp_weights / exp_weights.sum()\n",
    "\n",
    "    return G.personalized_pagerank(damping=p, reset=probs)"
   ]
  },
  {
   "cell_type": "code",
   "execution_count": 19,
   "metadata": {
    "collapsed": false
   },
   "outputs": [],
   "source": [
    "cr = get_CiteRank(G, 5)\n",
    "pr = G.pagerank()"
   ]
  },
  {
   "cell_type": "code",
   "execution_count": 43,
   "metadata": {
    "collapsed": false
   },
   "outputs": [
    {
     "data": {
      "text/plain": [
       "<matplotlib.text.Text at 0x11320d110>"
      ]
     },
     "execution_count": 43,
     "metadata": {},
     "output_type": "execute_result"
    },
    {
     "data": {
      "image/png": "[encoded data removed]",
      "text/plain": [
       "<matplotlib.figure.Figure at 0x1145cef10>"
      ]
     },
     "metadata": {},
     "output_type": "display_data"
    }
   ],
   "source": [
    "plt.figure(figsize=[10, 10])\n",
    "n = len(G.vs)\n",
    "years = G.vs['year']\n",
    "\n",
    "# plot pr vs ta_pr\n",
    "plt.subplot(2,2,1)\n",
    "plt.scatter(years, pr, \n",
    "            color='blue',\n",
    "            alpha=.2,\n",
    "            label='pagerank')\n",
    "\n",
    "plt.scatter(years, cr,\n",
    "            alpha=.2,\n",
    "            color='red',\n",
    "            label='citerank')\n",
    "plt.ylim([0, 1.2 * max(max(cr), max(pr))])\n",
    "plt.legend(loc='upper right')\n",
    "plt.xlabel('year')\n",
    "plt.ylabel('value')\n"
   ]
  },
  {
   "cell_type": "markdown",
   "metadata": {
    "collapsed": true
   },
   "source": [
    "# CiteRankPoly"
   ]
  }
 ],
 "metadata": {
  "anaconda-cloud": {},
  "kernelspec": {
   "display_name": "Python [default]",
   "language": "python",
   "name": "python2"
  },
  "language_info": {
   "codemirror_mode": {
    "name": "ipython",
    "version": 2
   },
   "file_extension": ".py",
   "mimetype": "text/x-python",
   "name": "python",
   "nbconvert_exporter": "python",
   "pygments_lexer": "ipython2",
   "version": "2.7.12"
  }
 },
 "nbformat": 4,
 "nbformat_minor": 0
}
